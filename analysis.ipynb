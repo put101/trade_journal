{
 "cells": [
  {
   "cell_type": "code",
   "execution_count": 42,
   "metadata": {},
   "outputs": [
    {
     "name": "stdout",
     "output_type": "stream",
     "text": [
      "The autoreload extension is already loaded. To reload it, use:\n",
      "  %reload_ext autoreload\n"
     ]
    }
   ],
   "source": [
    "%load_ext autoreload\n",
    "%autoreload 2\n"
   ]
  },
  {
   "cell_type": "code",
   "execution_count": 43,
   "metadata": {},
   "outputs": [],
   "source": [
    "from src.tradecli import TradeJournal\n",
    "from src.journal import journal"
   ]
  },
  {
   "cell_type": "code",
   "execution_count": 44,
   "metadata": {},
   "outputs": [
    {
     "name": "stdout",
     "output_type": "stream",
     "text": [
      "  trade_uid management_strategy type_1_m1 type_3_m15 type_2_h1  SL_distance\n",
      "0         1                None      True       True      None          NaN\n",
      "1         2                None      None       None      True          NaN\n",
      "2         3                None      None       None      None          0.5\n",
      "3         4          strategy_2      None       None      None          0.5\n"
     ]
    }
   ],
   "source": [
    "# Generate the feature dataframe\n",
    "df = journal.to_dataframe()\n",
    "print(df)"
   ]
  },
  {
   "cell_type": "code",
   "execution_count": 45,
   "metadata": {},
   "outputs": [
    {
     "name": "stdout",
     "output_type": "stream",
     "text": [
      "  trade_uid management_strategy type_1_m1 type_3_m15 type_2_h1  SL_distance\n",
      "2         3                None      None       None      None          0.5\n",
      "3         4          strategy_2      None       None      None          0.5\n"
     ]
    }
   ],
   "source": [
    "# Example analysis: Compare trades with different SL distances\n",
    "sl_trades = df[df['SL_distance'] > 0]\n",
    "print(sl_trades)"
   ]
  },
  {
   "cell_type": "code",
   "execution_count": null,
   "metadata": {},
   "outputs": [],
   "source": []
  }
 ],
 "metadata": {
  "kernelspec": {
   "display_name": "base",
   "language": "python",
   "name": "python3"
  },
  "language_info": {
   "codemirror_mode": {
    "name": "ipython",
    "version": 3
   },
   "file_extension": ".py",
   "mimetype": "text/x-python",
   "name": "python",
   "nbconvert_exporter": "python",
   "pygments_lexer": "ipython3",
   "version": "3.12.2"
  }
 },
 "nbformat": 4,
 "nbformat_minor": 2
}
