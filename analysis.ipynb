{
 "cells": [
  {
   "cell_type": "code",
   "execution_count": 4,
   "metadata": {},
   "outputs": [
    {
     "name": "stdout",
     "output_type": "stream",
     "text": [
      "The autoreload extension is already loaded. To reload it, use:\n",
      "  %reload_ext autoreload\n"
     ]
    }
   ],
   "source": [
    "%load_ext autoreload\n",
    "%autoreload 2"
   ]
  },
  {
   "cell_type": "code",
   "execution_count": 16,
   "metadata": {},
   "outputs": [
    {
     "name": "stdout",
     "output_type": "stream",
     "text": [
      "frozenset({'type_2_m5', 'type_1_m15', 'type_1_h4', 'type_2_h1', 'type_1_m30', 'type_1_m1', 'type_1_w', 'M', 'h1', 'w', 'h4', 'type_1_h1', 'm30', 'type_2_m15', 'm5', 'type_1_m5', 'type_1_d', 'd', 'type_2_w', 'type_1_M', 'type_2_h4', 'type_2_M', 'type_2_m30', 'type_2_d', 'm1', 'type_2_m1', 'm15'})\n",
      "[Trade(uid='1', tags=[Tag(timestamp=None, key='type_1_m1', value=True), Tag(timestamp=None, key='type_3_m15', value=True), Tag(timestamp=None, key='entry_price', value=1.1), Tag(timestamp=None, key='sl_price', value=1.095), Tag(timestamp=None, key='tp_price', value=1.11), Tag(timestamp=None, key='risk_reward_ratio', value=1.9999999999999556)]), Trade(uid='2', tags=[Tag(timestamp=None, key='type_2_h1', value=True), Tag(timestamp=None, key='entry_price', value=1.2), Tag(timestamp=None, key='sl_price', value=1.195), Tag(timestamp=None, key='tp_price', value=1.21)]), Trade(uid='3', tags=[Tag(timestamp=None, key='SL_distance', value=0.5), Tag(timestamp=None, key='entry_price', value=1.3), Tag(timestamp=None, key='sl_price', value=1.295), Tag(timestamp=None, key='tp_price', value=1.31)]), Trade(uid='4', tags=[Tag(timestamp=None, key='SL_distance', value=0.5), Tag(timestamp=None, key='entry_price', value=1.3), Tag(timestamp=None, key='sl_price', value=1.295), Tag(timestamp=None, key='tp_price', value=1.31), Tag(timestamp=None, key='management_strategy', value='strategy_2'), Tag(timestamp=None, key='entry_price', value=1.3), Tag(timestamp=None, key='sl_price', value=1.295), Tag(timestamp=None, key='tp_price', value=1.31), Tag(timestamp=None, key='close_price', value=1.305)])]\n"
     ]
    }
   ],
   "source": [
    "from src.tradecli import TradeJournal\n",
    "from src.journal import journal"
   ]
  },
  {
   "cell_type": "code",
   "execution_count": 24,
   "metadata": {},
   "outputs": [
    {
     "data": {
      "text/html": [
       "<div>\n",
       "<style scoped>\n",
       "    .dataframe tbody tr th:only-of-type {\n",
       "        vertical-align: middle;\n",
       "    }\n",
       "\n",
       "    .dataframe tbody tr th {\n",
       "        vertical-align: top;\n",
       "    }\n",
       "\n",
       "    .dataframe thead th {\n",
       "        text-align: right;\n",
       "    }\n",
       "</style>\n",
       "<table border=\"1\" class=\"dataframe\">\n",
       "  <thead>\n",
       "    <tr style=\"text-align: right;\">\n",
       "      <th></th>\n",
       "      <th>trade_uid</th>\n",
       "      <th>SL_distance</th>\n",
       "      <th>management_strategy</th>\n",
       "      <th>close_price</th>\n",
       "      <th>type_3_m15</th>\n",
       "      <th>type_2_h1</th>\n",
       "      <th>type_1_m1</th>\n",
       "      <th>risk_reward_ratio</th>\n",
       "      <th>entry_price</th>\n",
       "      <th>tp_price</th>\n",
       "      <th>sl_price</th>\n",
       "    </tr>\n",
       "  </thead>\n",
       "  <tbody>\n",
       "    <tr>\n",
       "      <th>0</th>\n",
       "      <td>1</td>\n",
       "      <td>NaN</td>\n",
       "      <td>None</td>\n",
       "      <td>NaN</td>\n",
       "      <td>True</td>\n",
       "      <td>None</td>\n",
       "      <td>True</td>\n",
       "      <td>2.0</td>\n",
       "      <td>1.1</td>\n",
       "      <td>1.11</td>\n",
       "      <td>1.095</td>\n",
       "    </tr>\n",
       "    <tr>\n",
       "      <th>1</th>\n",
       "      <td>2</td>\n",
       "      <td>NaN</td>\n",
       "      <td>None</td>\n",
       "      <td>NaN</td>\n",
       "      <td>None</td>\n",
       "      <td>True</td>\n",
       "      <td>None</td>\n",
       "      <td>NaN</td>\n",
       "      <td>1.2</td>\n",
       "      <td>1.21</td>\n",
       "      <td>1.195</td>\n",
       "    </tr>\n",
       "    <tr>\n",
       "      <th>2</th>\n",
       "      <td>3</td>\n",
       "      <td>0.5</td>\n",
       "      <td>None</td>\n",
       "      <td>NaN</td>\n",
       "      <td>None</td>\n",
       "      <td>None</td>\n",
       "      <td>None</td>\n",
       "      <td>NaN</td>\n",
       "      <td>1.3</td>\n",
       "      <td>1.31</td>\n",
       "      <td>1.295</td>\n",
       "    </tr>\n",
       "    <tr>\n",
       "      <th>3</th>\n",
       "      <td>4</td>\n",
       "      <td>0.5</td>\n",
       "      <td>strategy_2</td>\n",
       "      <td>1.305</td>\n",
       "      <td>None</td>\n",
       "      <td>None</td>\n",
       "      <td>None</td>\n",
       "      <td>NaN</td>\n",
       "      <td>1.3</td>\n",
       "      <td>1.31</td>\n",
       "      <td>1.295</td>\n",
       "    </tr>\n",
       "  </tbody>\n",
       "</table>\n",
       "</div>"
      ],
      "text/plain": [
       "  trade_uid  SL_distance management_strategy  close_price type_3_m15  \\\n",
       "0         1          NaN                None          NaN       True   \n",
       "1         2          NaN                None          NaN       None   \n",
       "2         3          0.5                None          NaN       None   \n",
       "3         4          0.5          strategy_2        1.305       None   \n",
       "\n",
       "  type_2_h1 type_1_m1  risk_reward_ratio  entry_price  tp_price  sl_price  \n",
       "0      None      True                2.0          1.1      1.11     1.095  \n",
       "1      True      None                NaN          1.2      1.21     1.195  \n",
       "2      None      None                NaN          1.3      1.31     1.295  \n",
       "3      None      None                NaN          1.3      1.31     1.295  "
      ]
     },
     "execution_count": 24,
     "metadata": {},
     "output_type": "execute_result"
    }
   ],
   "source": [
    "# Generate the feature dataframe\n",
    "df = journal.to_dataframe()\n",
    "df"
   ]
  },
  {
   "cell_type": "code",
   "execution_count": 21,
   "metadata": {},
   "outputs": [
    {
     "name": "stdout",
     "output_type": "stream",
     "text": [
      "  trade_uid  SL_distance management_strategy  close_price type_3_m15  \\\n",
      "2         3          0.5                None          NaN       None   \n",
      "3         4          0.5          strategy_2        1.305       None   \n",
      "\n",
      "  type_2_h1 type_1_m1  risk_reward_ratio  entry_price  tp_price  sl_price  \n",
      "2      None      None                NaN          1.3      1.31     1.295  \n",
      "3      None      None                NaN          1.3      1.31     1.295  \n"
     ]
    }
   ],
   "source": [
    "# Example analysis: Compare trades with different SL distances\n",
    "sl_trades = df[df['SL_distance'] > 0]\n",
    "print(sl_trades)\n"
   ]
  },
  {
   "cell_type": "code",
   "execution_count": 22,
   "metadata": {},
   "outputs": [
    {
     "data": {
      "text/html": [
       "<div>\n",
       "<style scoped>\n",
       "    .dataframe tbody tr th:only-of-type {\n",
       "        vertical-align: middle;\n",
       "    }\n",
       "\n",
       "    .dataframe tbody tr th {\n",
       "        vertical-align: top;\n",
       "    }\n",
       "\n",
       "    .dataframe thead th {\n",
       "        text-align: right;\n",
       "    }\n",
       "</style>\n",
       "<table border=\"1\" class=\"dataframe\">\n",
       "  <thead>\n",
       "    <tr style=\"text-align: right;\">\n",
       "      <th></th>\n",
       "      <th>SL_distance</th>\n",
       "      <th>close_price</th>\n",
       "      <th>risk_reward_ratio</th>\n",
       "      <th>entry_price</th>\n",
       "      <th>tp_price</th>\n",
       "      <th>sl_price</th>\n",
       "    </tr>\n",
       "  </thead>\n",
       "  <tbody>\n",
       "    <tr>\n",
       "      <th>count</th>\n",
       "      <td>2.0</td>\n",
       "      <td>1.000</td>\n",
       "      <td>1.0</td>\n",
       "      <td>4.000000</td>\n",
       "      <td>4.000000</td>\n",
       "      <td>4.000000</td>\n",
       "    </tr>\n",
       "    <tr>\n",
       "      <th>mean</th>\n",
       "      <td>0.5</td>\n",
       "      <td>1.305</td>\n",
       "      <td>2.0</td>\n",
       "      <td>1.225000</td>\n",
       "      <td>1.235000</td>\n",
       "      <td>1.220000</td>\n",
       "    </tr>\n",
       "    <tr>\n",
       "      <th>std</th>\n",
       "      <td>0.0</td>\n",
       "      <td>NaN</td>\n",
       "      <td>NaN</td>\n",
       "      <td>0.095743</td>\n",
       "      <td>0.095743</td>\n",
       "      <td>0.095743</td>\n",
       "    </tr>\n",
       "    <tr>\n",
       "      <th>min</th>\n",
       "      <td>0.5</td>\n",
       "      <td>1.305</td>\n",
       "      <td>2.0</td>\n",
       "      <td>1.100000</td>\n",
       "      <td>1.110000</td>\n",
       "      <td>1.095000</td>\n",
       "    </tr>\n",
       "    <tr>\n",
       "      <th>25%</th>\n",
       "      <td>0.5</td>\n",
       "      <td>1.305</td>\n",
       "      <td>2.0</td>\n",
       "      <td>1.175000</td>\n",
       "      <td>1.185000</td>\n",
       "      <td>1.170000</td>\n",
       "    </tr>\n",
       "    <tr>\n",
       "      <th>50%</th>\n",
       "      <td>0.5</td>\n",
       "      <td>1.305</td>\n",
       "      <td>2.0</td>\n",
       "      <td>1.250000</td>\n",
       "      <td>1.260000</td>\n",
       "      <td>1.245000</td>\n",
       "    </tr>\n",
       "    <tr>\n",
       "      <th>75%</th>\n",
       "      <td>0.5</td>\n",
       "      <td>1.305</td>\n",
       "      <td>2.0</td>\n",
       "      <td>1.300000</td>\n",
       "      <td>1.310000</td>\n",
       "      <td>1.295000</td>\n",
       "    </tr>\n",
       "    <tr>\n",
       "      <th>max</th>\n",
       "      <td>0.5</td>\n",
       "      <td>1.305</td>\n",
       "      <td>2.0</td>\n",
       "      <td>1.300000</td>\n",
       "      <td>1.310000</td>\n",
       "      <td>1.295000</td>\n",
       "    </tr>\n",
       "  </tbody>\n",
       "</table>\n",
       "</div>"
      ],
      "text/plain": [
       "       SL_distance  close_price  risk_reward_ratio  entry_price  tp_price  \\\n",
       "count          2.0        1.000                1.0     4.000000  4.000000   \n",
       "mean           0.5        1.305                2.0     1.225000  1.235000   \n",
       "std            0.0          NaN                NaN     0.095743  0.095743   \n",
       "min            0.5        1.305                2.0     1.100000  1.110000   \n",
       "25%            0.5        1.305                2.0     1.175000  1.185000   \n",
       "50%            0.5        1.305                2.0     1.250000  1.260000   \n",
       "75%            0.5        1.305                2.0     1.300000  1.310000   \n",
       "max            0.5        1.305                2.0     1.300000  1.310000   \n",
       "\n",
       "       sl_price  \n",
       "count  4.000000  \n",
       "mean   1.220000  \n",
       "std    0.095743  \n",
       "min    1.095000  \n",
       "25%    1.170000  \n",
       "50%    1.245000  \n",
       "75%    1.295000  \n",
       "max    1.295000  "
      ]
     },
     "execution_count": 22,
     "metadata": {},
     "output_type": "execute_result"
    }
   ],
   "source": [
    "df.describe()"
   ]
  },
  {
   "cell_type": "code",
   "execution_count": null,
   "metadata": {},
   "outputs": [],
   "source": []
  },
  {
   "cell_type": "code",
   "execution_count": null,
   "metadata": {},
   "outputs": [],
   "source": []
  }
 ],
 "metadata": {
  "kernelspec": {
   "display_name": "base",
   "language": "python",
   "name": "python3"
  },
  "language_info": {
   "codemirror_mode": {
    "name": "ipython",
    "version": 3
   },
   "file_extension": ".py",
   "mimetype": "text/x-python",
   "name": "python",
   "nbconvert_exporter": "python",
   "pygments_lexer": "ipython3",
   "version": "3.12.2"
  }
 },
 "nbformat": 4,
 "nbformat_minor": 2
}
