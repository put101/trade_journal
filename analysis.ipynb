{
 "cells": [
  {
   "cell_type": "code",
   "execution_count": 1,
   "metadata": {},
   "outputs": [
    {
     "name": "stdout",
     "output_type": "stream",
     "text": [
      "/bin/zsh\n",
      "/Users/tobiaspucher/miniconda3/bin:/opt/homebrew/opt/node@22/bin:/Users/tobiaspucher/miniconda3/bin:/Users/tobiaspucher/miniconda3/condabin:/opt/homebrew/bin:/opt/homebrew/sbin:/usr/local/bin:/System/Cryptexes/App/usr/bin:/usr/bin:/bin:/usr/sbin:/sbin:/var/run/com.apple.security.cryptexd/codex.system/bootstrap/usr/local/bin:/var/run/com.apple.security.cryptexd/codex.system/bootstrap/usr/bin:/var/run/com.apple.security.cryptexd/codex.system/bootstrap/usr/appleinternal/bin:/Library/Apple/usr/bin:/Library/TeX/texbin:/Users/tobiaspucher/.local/bin:/Users/tobiaspucher/Library/Application Support/JetBrains/Toolbox/scripts\n",
      "/Users/tobiaspucher/Library/CloudStorage/OneDrive-Personal/2025/trade_journal\n"
     ]
    }
   ],
   "source": [
    "!echo $SHELL\n",
    "!echo $PATH\n",
    "!echo $JOURNAL_ROOT"
   ]
  },
  {
   "cell_type": "code",
   "execution_count": 2,
   "metadata": {},
   "outputs": [
    {
     "data": {
      "text/plain": [
       "'/Users/tobiaspucher/Library/CloudStorage/OneDrive-Personal/2025/trade_journal'"
      ]
     },
     "execution_count": 2,
     "metadata": {},
     "output_type": "execute_result"
    }
   ],
   "source": [
    "%load_ext autoreload\n",
    "%autoreload 2\n",
    "import logging\n",
    "logging.basicConfig(level=logging.INFO)\n",
    "import random\n",
    "random.seed(0)\n",
    "import os\n",
    "os.getenv('JOURNAL_ROOT')"
   ]
  },
  {
   "cell_type": "code",
   "execution_count": 3,
   "metadata": {},
   "outputs": [
    {
     "name": "stderr",
     "output_type": "stream",
     "text": [
      "INFO:numexpr.utils:NumExpr defaulting to 8 threads.\n",
      "INFO:root:Journal root: /Users/tobiaspucher/Library/CloudStorage/OneDrive-Personal/2025/trade_journal\n",
      "INFO:root:CMD Journal root: /Users/tobiaspucher/Library/CloudStorage/OneDrive-Personal/2025/trade_journal\n",
      "INFO:root:Assets root: /Users/tobiaspucher/Library/CloudStorage/OneDrive-Personal/2025/trade_journal/assets\n",
      "INFO:root:Export root: /Users/tobiaspucher/Library/CloudStorage/OneDrive-Personal/2025/trade_journal/export\n",
      "INFO:root:Creating initial trades\n",
      "INFO:root:Adding trade with UID: 1\n",
      "INFO:root:Adding trade with UID: 2\n",
      "INFO:root:Adding trade with UID: 3\n",
      "INFO:root:Adding trade with UID: 4\n",
      "INFO:root:Adding more trades to the journal\n",
      "INFO:root:Adding trade with UID: 5\n",
      "INFO:root:Adding trade with UID: 6\n",
      "INFO:root:Adding trade with UID: 7\n",
      "INFO:root:Adding trade with UID: 8\n",
      "INFO:root:Adding trade with UID: 9\n",
      "INFO:root:Adding trade with UID: 10\n",
      "INFO:root:Adding trade with UID: 11\n",
      "INFO:root:Adding trade with UID: 12\n",
      "INFO:root:Adding trade with UID: 13\n",
      "INFO:root:Adding trade with UID: 14\n",
      "INFO:root:Adding default tags to all trades\n",
      "INFO:root:Converting journal trades to DataFrame\n",
      "INFO:root:Added PA tags to DataFrame. Columns: Index(['trade_uid', 'type_2_m15', 'type_1_M', 'type_3_h4', 'return',\n",
      "       'management_strategy', 'sl_price', 'initial_risk_reward',\n",
      "       'htf_poi_ltf_confirmation', 'numerical_confidence', 'potential_return',\n",
      "       'type_1_h1', 'type_1_d', 'type_2_m5', 'risk_reward_ratio', 'type_1_m5',\n",
      "       'SL_distance', 'entry_price', 'type_3_h1', 'outcome', 'TP_distance',\n",
      "       'type_2_d', 'type_3_m5', 'initial_return', 'type_1_h4', 'type_2_h4',\n",
      "       'potential_price', 'type_1_m30', 'side', 'type_2_w', 'type_1_w',\n",
      "       'type_3_w', 'type_3_M', 'entry_time', 'tp_price', 'type_2_m30',\n",
      "       'type_1_m15', 'type_3_m1', 'type_3_m15', 'session', 'type_3_m30',\n",
      "       'type_2_m1', 'type_3_d', 'close_price', 'type_2_M',\n",
      "       'potential_risk_reward', 'type_2_h1', 'type_1_m1',\n",
      "       'htf_poi_ltf_confirmation_False', 'htf_poi_ltf_confirmation_True',\n",
      "       'management_strategy_be_after_1r', 'management_strategy_be_after_push',\n",
      "       'management_strategy_no_management', 'management_strategy_strategy_2',\n",
      "       'outcome_loss', 'outcome_win', 'has_type_1', 'has_type_2', 'has_type_3',\n",
      "       'has_time_frame'],\n",
      "      dtype='object')\n",
      "INFO:root:DataFrame columns: Index(['trade_uid', 'type_2_m15', 'type_1_M', 'type_3_h4', 'return',\n",
      "       'management_strategy', 'sl_price', 'initial_risk_reward',\n",
      "       'htf_poi_ltf_confirmation', 'numerical_confidence', 'potential_return',\n",
      "       'type_1_h1', 'type_1_d', 'type_2_m5', 'risk_reward_ratio', 'type_1_m5',\n",
      "       'SL_distance', 'entry_price', 'type_3_h1', 'outcome', 'TP_distance',\n",
      "       'type_2_d', 'type_3_m5', 'initial_return', 'type_1_h4', 'type_2_h4',\n",
      "       'potential_price', 'type_1_m30', 'side', 'type_2_w', 'type_1_w',\n",
      "       'type_3_w', 'type_3_M', 'entry_time', 'tp_price', 'type_2_m30',\n",
      "       'type_1_m15', 'type_3_m1', 'type_3_m15', 'session', 'type_3_m30',\n",
      "       'type_2_m1', 'type_3_d', 'close_price', 'type_2_M',\n",
      "       'potential_risk_reward', 'type_2_h1', 'type_1_m1',\n",
      "       'htf_poi_ltf_confirmation_False', 'htf_poi_ltf_confirmation_True',\n",
      "       'management_strategy_be_after_1r', 'management_strategy_be_after_push',\n",
      "       'management_strategy_no_management', 'management_strategy_strategy_2',\n",
      "       'outcome_loss', 'outcome_win', 'has_type_1', 'has_type_2', 'has_type_3',\n",
      "       'has_time_frame'],\n",
      "      dtype='object')\n",
      "INFO:root:Exporting stuff to: /Users/tobiaspucher/Library/CloudStorage/OneDrive-Personal/2025/trade_journal/export\n",
      "INFO:root:Exported DataFrame to /Users/tobiaspucher/Library/CloudStorage/OneDrive-Personal/2025/trade_journal/export/trade_data.xlsx\n",
      "INFO:root:Exported relevant columns to /Users/tobiaspucher/Library/CloudStorage/OneDrive-Personal/2025/trade_journal/export/relevant_columns.json\n",
      "INFO:root:Exported DataFrame to /Users/tobiaspucher/Library/CloudStorage/OneDrive-Personal/2025/trade_journal/export/trade_data.csv\n"
     ]
    },
    {
     "name": "stdout",
     "output_type": "stream",
     "text": [
      "frozenset({'type_2_m15', 'm15', 'd', 'type_1_M', 'type_1_h1', 'type_1_d', 'type_2_m5', 'type_1_m5', 'type_2_d', 'w', 'type_2_h4', 'type_1_h4', 'type_1_m30', 'type_2_w', 'type_1_w', 'm1', 'type_2_m30', 'type_1_m15', 'h1', 'h4', 'type_2_m1', 'm5', 'type_2_M', 'type_2_h1', 'type_1_m1', 'm30', 'M'})\n"
     ]
    },
    {
     "name": "stderr",
     "output_type": "stream",
     "text": [
      "INFO:root:Exported DataFrame to /Users/tobiaspucher/Library/CloudStorage/OneDrive-Personal/2025/trade_journal/export/trade_data.feather\n",
      "INFO:root:Exported DataFrame to /Users/tobiaspucher/Library/CloudStorage/OneDrive-Personal/2025/trade_journal/export/trade_data.parquet\n",
      "INFO:root:Exported DataFrame to /Users/tobiaspucher/Library/CloudStorage/OneDrive-Personal/2025/trade_journal/export/trade_data.json\n"
     ]
    }
   ],
   "source": [
    "from src.tradecli import *\n",
    "from src.utils import *\n",
    "from src.journal import *\n",
    "\n",
    "pd.set_option('display.max_rows', 500)\n",
    "pd.set_option('display.max_columns', 500)"
   ]
  },
  {
   "cell_type": "code",
   "execution_count": 4,
   "metadata": {},
   "outputs": [
    {
     "data": {
      "text/html": [
       "<div>\n",
       "<style scoped>\n",
       "    .dataframe tbody tr th:only-of-type {\n",
       "        vertical-align: middle;\n",
       "    }\n",
       "\n",
       "    .dataframe tbody tr th {\n",
       "        vertical-align: top;\n",
       "    }\n",
       "\n",
       "    .dataframe thead th {\n",
       "        text-align: right;\n",
       "    }\n",
       "</style>\n",
       "<table border=\"1\" class=\"dataframe\">\n",
       "  <thead>\n",
       "    <tr style=\"text-align: right;\">\n",
       "      <th></th>\n",
       "      <th>type_1_M</th>\n",
       "      <th>type_1_h1</th>\n",
       "      <th>type_1_d</th>\n",
       "      <th>risk_reward_ratio</th>\n",
       "      <th>type_1_m5</th>\n",
       "      <th>type_1_h4</th>\n",
       "      <th>type_1_m30</th>\n",
       "      <th>side</th>\n",
       "      <th>type_1_w</th>\n",
       "      <th>type_1_m15</th>\n",
       "      <th>type_1_m1</th>\n",
       "    </tr>\n",
       "  </thead>\n",
       "  <tbody>\n",
       "    <tr>\n",
       "      <th>0</th>\n",
       "      <td>False</td>\n",
       "      <td>False</td>\n",
       "      <td>False</td>\n",
       "      <td>2.000000</td>\n",
       "      <td>False</td>\n",
       "      <td>False</td>\n",
       "      <td>False</td>\n",
       "      <td>long</td>\n",
       "      <td>False</td>\n",
       "      <td>False</td>\n",
       "      <td>True</td>\n",
       "    </tr>\n",
       "    <tr>\n",
       "      <th>1</th>\n",
       "      <td>False</td>\n",
       "      <td>False</td>\n",
       "      <td>False</td>\n",
       "      <td>0.666667</td>\n",
       "      <td>False</td>\n",
       "      <td>False</td>\n",
       "      <td>False</td>\n",
       "      <td>long</td>\n",
       "      <td>False</td>\n",
       "      <td>False</td>\n",
       "      <td>False</td>\n",
       "    </tr>\n",
       "    <tr>\n",
       "      <th>2</th>\n",
       "      <td>False</td>\n",
       "      <td>False</td>\n",
       "      <td>False</td>\n",
       "      <td>10.000000</td>\n",
       "      <td>False</td>\n",
       "      <td>False</td>\n",
       "      <td>False</td>\n",
       "      <td>long</td>\n",
       "      <td>False</td>\n",
       "      <td>False</td>\n",
       "      <td>False</td>\n",
       "    </tr>\n",
       "    <tr>\n",
       "      <th>3</th>\n",
       "      <td>False</td>\n",
       "      <td>False</td>\n",
       "      <td>False</td>\n",
       "      <td>10.000000</td>\n",
       "      <td>False</td>\n",
       "      <td>False</td>\n",
       "      <td>False</td>\n",
       "      <td>long</td>\n",
       "      <td>False</td>\n",
       "      <td>False</td>\n",
       "      <td>False</td>\n",
       "    </tr>\n",
       "    <tr>\n",
       "      <th>4</th>\n",
       "      <td>False</td>\n",
       "      <td>False</td>\n",
       "      <td>True</td>\n",
       "      <td>3.000000</td>\n",
       "      <td>False</td>\n",
       "      <td>False</td>\n",
       "      <td>False</td>\n",
       "      <td>long</td>\n",
       "      <td>False</td>\n",
       "      <td>False</td>\n",
       "      <td>False</td>\n",
       "    </tr>\n",
       "    <tr>\n",
       "      <th>5</th>\n",
       "      <td>True</td>\n",
       "      <td>False</td>\n",
       "      <td>False</td>\n",
       "      <td>3.943182</td>\n",
       "      <td>False</td>\n",
       "      <td>False</td>\n",
       "      <td>False</td>\n",
       "      <td>long</td>\n",
       "      <td>False</td>\n",
       "      <td>False</td>\n",
       "      <td>False</td>\n",
       "    </tr>\n",
       "    <tr>\n",
       "      <th>6</th>\n",
       "      <td>False</td>\n",
       "      <td>False</td>\n",
       "      <td>False</td>\n",
       "      <td>3.323529</td>\n",
       "      <td>False</td>\n",
       "      <td>True</td>\n",
       "      <td>False</td>\n",
       "      <td>long</td>\n",
       "      <td>False</td>\n",
       "      <td>False</td>\n",
       "      <td>False</td>\n",
       "    </tr>\n",
       "    <tr>\n",
       "      <th>7</th>\n",
       "      <td>False</td>\n",
       "      <td>False</td>\n",
       "      <td>False</td>\n",
       "      <td>7.927273</td>\n",
       "      <td>False</td>\n",
       "      <td>False</td>\n",
       "      <td>False</td>\n",
       "      <td>long</td>\n",
       "      <td>False</td>\n",
       "      <td>False</td>\n",
       "      <td>True</td>\n",
       "    </tr>\n",
       "    <tr>\n",
       "      <th>8</th>\n",
       "      <td>False</td>\n",
       "      <td>False</td>\n",
       "      <td>False</td>\n",
       "      <td>8.811321</td>\n",
       "      <td>False</td>\n",
       "      <td>False</td>\n",
       "      <td>True</td>\n",
       "      <td>long</td>\n",
       "      <td>False</td>\n",
       "      <td>False</td>\n",
       "      <td>False</td>\n",
       "    </tr>\n",
       "    <tr>\n",
       "      <th>9</th>\n",
       "      <td>False</td>\n",
       "      <td>False</td>\n",
       "      <td>False</td>\n",
       "      <td>2.986486</td>\n",
       "      <td>False</td>\n",
       "      <td>True</td>\n",
       "      <td>False</td>\n",
       "      <td>long</td>\n",
       "      <td>False</td>\n",
       "      <td>False</td>\n",
       "      <td>False</td>\n",
       "    </tr>\n",
       "    <tr>\n",
       "      <th>10</th>\n",
       "      <td>True</td>\n",
       "      <td>False</td>\n",
       "      <td>False</td>\n",
       "      <td>3.175000</td>\n",
       "      <td>False</td>\n",
       "      <td>False</td>\n",
       "      <td>False</td>\n",
       "      <td>long</td>\n",
       "      <td>False</td>\n",
       "      <td>False</td>\n",
       "      <td>False</td>\n",
       "    </tr>\n",
       "    <tr>\n",
       "      <th>11</th>\n",
       "      <td>False</td>\n",
       "      <td>False</td>\n",
       "      <td>False</td>\n",
       "      <td>5.125000</td>\n",
       "      <td>False</td>\n",
       "      <td>False</td>\n",
       "      <td>False</td>\n",
       "      <td>long</td>\n",
       "      <td>True</td>\n",
       "      <td>False</td>\n",
       "      <td>False</td>\n",
       "    </tr>\n",
       "    <tr>\n",
       "      <th>12</th>\n",
       "      <td>False</td>\n",
       "      <td>False</td>\n",
       "      <td>False</td>\n",
       "      <td>4.986301</td>\n",
       "      <td>False</td>\n",
       "      <td>False</td>\n",
       "      <td>True</td>\n",
       "      <td>long</td>\n",
       "      <td>False</td>\n",
       "      <td>False</td>\n",
       "      <td>False</td>\n",
       "    </tr>\n",
       "    <tr>\n",
       "      <th>13</th>\n",
       "      <td>False</td>\n",
       "      <td>False</td>\n",
       "      <td>False</td>\n",
       "      <td>6.338710</td>\n",
       "      <td>False</td>\n",
       "      <td>False</td>\n",
       "      <td>False</td>\n",
       "      <td>long</td>\n",
       "      <td>True</td>\n",
       "      <td>False</td>\n",
       "      <td>False</td>\n",
       "    </tr>\n",
       "  </tbody>\n",
       "</table>\n",
       "</div>"
      ],
      "text/plain": [
       "    type_1_M  type_1_h1  type_1_d  risk_reward_ratio  type_1_m5  type_1_h4  \\\n",
       "0      False      False     False           2.000000      False      False   \n",
       "1      False      False     False           0.666667      False      False   \n",
       "2      False      False     False          10.000000      False      False   \n",
       "3      False      False     False          10.000000      False      False   \n",
       "4      False      False      True           3.000000      False      False   \n",
       "5       True      False     False           3.943182      False      False   \n",
       "6      False      False     False           3.323529      False       True   \n",
       "7      False      False     False           7.927273      False      False   \n",
       "8      False      False     False           8.811321      False      False   \n",
       "9      False      False     False           2.986486      False       True   \n",
       "10      True      False     False           3.175000      False      False   \n",
       "11     False      False     False           5.125000      False      False   \n",
       "12     False      False     False           4.986301      False      False   \n",
       "13     False      False     False           6.338710      False      False   \n",
       "\n",
       "    type_1_m30  side  type_1_w  type_1_m15  type_1_m1  \n",
       "0        False  long     False       False       True  \n",
       "1        False  long     False       False      False  \n",
       "2        False  long     False       False      False  \n",
       "3        False  long     False       False      False  \n",
       "4        False  long     False       False      False  \n",
       "5        False  long     False       False      False  \n",
       "6        False  long     False       False      False  \n",
       "7        False  long     False       False       True  \n",
       "8         True  long     False       False      False  \n",
       "9        False  long     False       False      False  \n",
       "10       False  long     False       False      False  \n",
       "11       False  long      True       False      False  \n",
       "12        True  long     False       False      False  \n",
       "13       False  long      True       False      False  "
      ]
     },
     "metadata": {},
     "output_type": "display_data"
    }
   ],
   "source": [
    "config = Config(\n",
    "    include_patterns=[r'^type_1_', r'^risk_reward_ratio$', r'^side'],  \n",
    "    exclude_patterns=[r'^management_strategy$'],         \n",
    "    #force_values={'side': 'short', 'side': 'long'},\n",
    ")\n",
    "\n",
    "full_df = j.to_dataframe(config)\n",
    "#full_df = full_df[full_df['side'] == 'long']\n",
    "display(full_df)"
   ]
  },
  {
   "cell_type": "code",
   "execution_count": 5,
   "metadata": {},
   "outputs": [
    {
     "data": {
      "text/plain": [
       "type_1_M                bool\n",
       "type_1_h1               bool\n",
       "type_1_d                bool\n",
       "risk_reward_ratio    float64\n",
       "type_1_m5               bool\n",
       "type_1_h4               bool\n",
       "type_1_m30              bool\n",
       "side                  object\n",
       "type_1_w                bool\n",
       "type_1_m15              bool\n",
       "type_1_m1               bool\n",
       "dtype: object"
      ]
     },
     "execution_count": 5,
     "metadata": {},
     "output_type": "execute_result"
    }
   ],
   "source": [
    "full_df.dtypes"
   ]
  },
  {
   "cell_type": "code",
   "execution_count": 6,
   "metadata": {},
   "outputs": [],
   "source": [
    "!rm -rf output"
   ]
  },
  {
   "cell_type": "code",
   "execution_count": 7,
   "metadata": {},
   "outputs": [
    {
     "name": "stderr",
     "output_type": "stream",
     "text": [
      "INFO:root:Converting trades to markdown\n",
      "INFO:root:Files for trades found\n",
      "INFO:root:Files Found #: 14, Total Trades #: 14max files for trade: 0min files for trade: 0avg files for trade: 0.0\n",
      "INFO:root:Descriptive Statistics:           0\n",
      "count  14.0\n",
      "mean    0.0\n",
      "std     0.0\n",
      "min     0.0\n",
      "25%     0.0\n",
      "50%     0.0\n",
      "75%     0.0\n",
      "max     0.0\n",
      "INFO:root:Writing index markdown\n",
      "INFO:root:Calculating simple statistics\n",
      "INFO:root:Analyzing tag relevance\n",
      "INFO:root:Finding best single tags and subsets\n",
      "INFO:root:Finding best single tags\n",
      "INFO:root:Finding best tag subsets\n",
      "INFO:root:Finding best tag subsets\n",
      "INFO:root:Selecting top 10 features using RFE\n",
      "INFO:root:Dropped 6 rows with NaN in 'outcome' y variable\n",
      "INFO:root:X features # 41: {'type_2_m15', 'outcome_win', 'type_1_M', 'type_3_h4', 'management_strategy', 'htf_poi_ltf_confirmation', 'type_1_h1', 'type_1_d', 'type_2_m5', 'risk_reward_ratio', 'outcome_loss', 'type_1_m5', 'type_3_h1', 'type_2_d', 'type_3_m5', 'type_2_h4', 'type_1_h4', 'management_strategy_be_after_push', 'type_1_m30', 'side', 'type_2_w', 'type_1_w', 'management_strategy_no_management', 'type_3_w', 'type_3_M', 'management_strategy_be_after_1r', 'type_2_m30', 'type_1_m15', 'type_3_m1', 'htf_poi_ltf_confirmation_False', 'type_3_m15', 'session', 'htf_poi_ltf_confirmation_True', 'type_3_m30', 'type_2_m1', 'type_3_d', 'close_price', 'type_2_M', 'type_2_h1', 'type_1_m1', 'management_strategy_strategy_2'}\n",
      "INFO:root:Selected features # 10: ['type_1_d', 'risk_reward_ratio', 'type_2_d', 'type_1_h4', 'management_strategy_be_after_push', 'type_2_w', 'management_strategy_be_after_1r', 'htf_poi_ltf_confirmation_False', 'type_2_h1', 'management_strategy_be_after_push']\n",
      "INFO:root:RFE Feature Rankings:\n",
      "INFO:root:type_1_d: Rank 1\n",
      "INFO:root:risk_reward_ratio: Rank 1\n",
      "INFO:root:type_2_d: Rank 1\n",
      "INFO:root:type_1_h4: Rank 1\n",
      "INFO:root:management_strategy_be_after_push: Rank 1\n",
      "INFO:root:type_2_w: Rank 1\n",
      "INFO:root:management_strategy_be_after_1r: Rank 1\n",
      "INFO:root:htf_poi_ltf_confirmation_False: Rank 1\n",
      "INFO:root:type_2_h1: Rank 1\n",
      "INFO:root:management_strategy_be_after_push: Rank 1\n",
      "INFO:root:htf_poi_ltf_confirmation_True: Rank 2\n",
      "INFO:root:htf_poi_ltf_confirmation_True: Rank 3\n",
      "INFO:root:type_1_M: Rank 4\n",
      "INFO:root:type_1_m30: Rank 5\n",
      "INFO:root:type_1_w: Rank 6\n",
      "INFO:root:type_2_m5: Rank 7\n",
      "INFO:root:type_2_M: Rank 8\n",
      "INFO:root:type_1_m1: Rank 9\n",
      "INFO:root:management_strategy_no_management: Rank 10\n",
      "INFO:root:management_strategy_no_management: Rank 11\n",
      "INFO:root:management_strategy_strategy_2: Rank 12\n",
      "INFO:root:management_strategy_strategy_2: Rank 13\n",
      "INFO:root:session_tokyo: Rank 14\n",
      "INFO:root:close_price: Rank 15\n",
      "INFO:root:type_3_d: Rank 16\n",
      "INFO:root:type_3_h1: Rank 17\n",
      "INFO:root:type_2_m30: Rank 18\n",
      "INFO:root:type_1_m5: Rank 19\n",
      "INFO:root:type_1_h1: Rank 20\n",
      "INFO:root:type_3_h4: Rank 21\n",
      "INFO:root:type_1_m15: Rank 22\n",
      "INFO:root:type_3_m1: Rank 23\n",
      "INFO:root:type_3_m5: Rank 24\n",
      "INFO:root:type_2_m1: Rank 25\n",
      "INFO:root:type_2_h4: Rank 26\n",
      "INFO:root:type_3_w: Rank 27\n",
      "INFO:root:type_3_m15: Rank 28\n",
      "INFO:root:type_3_M: Rank 29\n",
      "INFO:root:type_3_m30: Rank 30\n",
      "INFO:root:type_2_m15: Rank 31\n",
      "INFO:root:Calculating tag subsets for selected tags: ['type_1_d', 'risk_reward_ratio', 'type_2_d', 'type_1_h4', 'management_strategy_be_after_push', 'type_2_w', 'management_strategy_be_after_1r', 'htf_poi_ltf_confirmation_False', 'type_2_h1', 'management_strategy_be_after_push']\n",
      "INFO:root:Number of combinations for subset size 1: 10\n",
      "INFO:root:Starting parallel subset calculations for subset size 1 with Joblib\n",
      "2025-01-09 20:44:39 - root - INFO - Journal root: /Users/tobiaspucher/Library/CloudStorage/OneDrive-Personal/2025/trade_journal\n",
      "2025-01-09 20:44:39 - root - INFO - CMD Journal root: /Users/tobiaspucher/Library/CloudStorage/OneDrive-Personal/2025/trade_journal\n",
      "2025-01-09 20:44:39 - root - INFO - Assets root: /Users/tobiaspucher/Library/CloudStorage/OneDrive-Personal/2025/trade_journal/assets\n",
      "2025-01-09 20:44:39 - root - INFO - Export root: /Users/tobiaspucher/Library/CloudStorage/OneDrive-Personal/2025/trade_journal/export\n",
      "2025-01-09 20:44:39 - root - INFO - Journal root: /Users/tobiaspucher/Library/CloudStorage/OneDrive-Personal/2025/trade_journal\n",
      "2025-01-09 20:44:39 - root - INFO - CMD Journal root: /Users/tobiaspucher/Library/CloudStorage/OneDrive-Personal/2025/trade_journal\n",
      "2025-01-09 20:44:39 - root - INFO - Assets root: /Users/tobiaspucher/Library/CloudStorage/OneDrive-Personal/2025/trade_journal/assets\n",
      "2025-01-09 20:44:39 - root - INFO - Export root: /Users/tobiaspucher/Library/CloudStorage/OneDrive-Personal/2025/trade_journal/export\n",
      "2025-01-09 20:44:40 - root - INFO - Journal root: /Users/tobiaspucher/Library/CloudStorage/OneDrive-Personal/2025/trade_journal\n",
      "2025-01-09 20:44:40 - root - INFO - CMD Journal root: /Users/tobiaspucher/Library/CloudStorage/OneDrive-Personal/2025/trade_journal\n",
      "2025-01-09 20:44:40 - root - INFO - Assets root: /Users/tobiaspucher/Library/CloudStorage/OneDrive-Personal/2025/trade_journal/assets\n",
      "2025-01-09 20:44:40 - root - INFO - Export root: /Users/tobiaspucher/Library/CloudStorage/OneDrive-Personal/2025/trade_journal/export\n",
      "2025-01-09 20:44:40 - root - INFO - Journal root: /Users/tobiaspucher/Library/CloudStorage/OneDrive-Personal/2025/trade_journal\n",
      "2025-01-09 20:44:40 - root - INFO - CMD Journal root: /Users/tobiaspucher/Library/CloudStorage/OneDrive-Personal/2025/trade_journal\n",
      "2025-01-09 20:44:40 - root - INFO - Assets root: /Users/tobiaspucher/Library/CloudStorage/OneDrive-Personal/2025/trade_journal/assets\n",
      "2025-01-09 20:44:40 - root - INFO - Export root: /Users/tobiaspucher/Library/CloudStorage/OneDrive-Personal/2025/trade_journal/export\n",
      "2025-01-09 20:44:40 - root - INFO - Journal root: /Users/tobiaspucher/Library/CloudStorage/OneDrive-Personal/2025/trade_journal\n",
      "2025-01-09 20:44:40 - root - INFO - CMD Journal root: /Users/tobiaspucher/Library/CloudStorage/OneDrive-Personal/2025/trade_journal\n",
      "2025-01-09 20:44:40 - root - INFO - Assets root: /Users/tobiaspucher/Library/CloudStorage/OneDrive-Personal/2025/trade_journal/assets\n",
      "2025-01-09 20:44:40 - root - INFO - Export root: /Users/tobiaspucher/Library/CloudStorage/OneDrive-Personal/2025/trade_journal/export\n",
      "2025-01-09 20:44:40 - root - INFO - Journal root: /Users/tobiaspucher/Library/CloudStorage/OneDrive-Personal/2025/trade_journal\n",
      "2025-01-09 20:44:40 - root - INFO - CMD Journal root: /Users/tobiaspucher/Library/CloudStorage/OneDrive-Personal/2025/trade_journal\n",
      "2025-01-09 20:44:40 - root - INFO - Assets root: /Users/tobiaspucher/Library/CloudStorage/OneDrive-Personal/2025/trade_journal/assets\n",
      "2025-01-09 20:44:40 - root - INFO - Export root: /Users/tobiaspucher/Library/CloudStorage/OneDrive-Personal/2025/trade_journal/export\n",
      "2025-01-09 20:44:40 - root - INFO - Journal root: /Users/tobiaspucher/Library/CloudStorage/OneDrive-Personal/2025/trade_journal\n",
      "2025-01-09 20:44:40 - root - INFO - CMD Journal root: /Users/tobiaspucher/Library/CloudStorage/OneDrive-Personal/2025/trade_journal\n",
      "2025-01-09 20:44:40 - root - INFO - Assets root: /Users/tobiaspucher/Library/CloudStorage/OneDrive-Personal/2025/trade_journal/assets\n",
      "2025-01-09 20:44:40 - root - INFO - Export root: /Users/tobiaspucher/Library/CloudStorage/OneDrive-Personal/2025/trade_journal/export\n",
      "2025-01-09 20:44:40 - root - INFO - Journal root: /Users/tobiaspucher/Library/CloudStorage/OneDrive-Personal/2025/trade_journal\n",
      "2025-01-09 20:44:40 - root - INFO - CMD Journal root: /Users/tobiaspucher/Library/CloudStorage/OneDrive-Personal/2025/trade_journal\n",
      "2025-01-09 20:44:40 - root - INFO - Assets root: /Users/tobiaspucher/Library/CloudStorage/OneDrive-Personal/2025/trade_journal/assets\n",
      "2025-01-09 20:44:40 - root - INFO - Export root: /Users/tobiaspucher/Library/CloudStorage/OneDrive-Personal/2025/trade_journal/export\n",
      "INFO:root:Parallel subset calculation for subset size 1 completed in 4.18 seconds\n",
      "INFO:root:Number of combinations for subset size 2: 45\n",
      "INFO:root:Starting parallel subset calculations for subset size 2 with Joblib\n",
      "INFO:root:Parallel subset calculation for subset size 2 completed in 0.08 seconds\n",
      "INFO:root:Number of combinations for subset size 3: 120\n",
      "INFO:root:Starting parallel subset calculations for subset size 3 with Joblib\n",
      "INFO:root:Parallel subset calculation for subset size 3 completed in 0.05 seconds\n",
      "INFO:root:Number of combinations for subset size 4: 210\n",
      "INFO:root:Starting parallel subset calculations for subset size 4 with Joblib\n",
      "INFO:root:Parallel subset calculation for subset size 4 completed in 0.06 seconds\n",
      "INFO:root:Number of combinations for subset size 5: 252\n",
      "INFO:root:Starting parallel subset calculations for subset size 5 with Joblib\n",
      "INFO:root:Parallel subset calculation for subset size 5 completed in 0.06 seconds\n",
      "INFO:root:Number of combinations for subset size 6: 210\n",
      "INFO:root:Starting parallel subset calculations for subset size 6 with Joblib\n",
      "INFO:root:Parallel subset calculation for subset size 6 completed in 0.07 seconds\n",
      "INFO:root:Selecting top 10 features using RFE\n",
      "INFO:root:Dropped 6 rows with NaN in 'outcome' y variable\n",
      "INFO:root:X features # 41: {'type_2_m15', 'outcome_win', 'type_1_M', 'type_3_h4', 'management_strategy', 'htf_poi_ltf_confirmation', 'type_1_h1', 'type_1_d', 'type_2_m5', 'risk_reward_ratio', 'outcome_loss', 'type_1_m5', 'type_3_h1', 'type_2_d', 'type_3_m5', 'type_2_h4', 'type_1_h4', 'management_strategy_be_after_push', 'type_1_m30', 'side', 'type_2_w', 'type_1_w', 'management_strategy_no_management', 'type_3_w', 'type_3_M', 'management_strategy_be_after_1r', 'type_2_m30', 'type_1_m15', 'type_3_m1', 'htf_poi_ltf_confirmation_False', 'type_3_m15', 'session', 'htf_poi_ltf_confirmation_True', 'type_3_m30', 'type_2_m1', 'type_3_d', 'close_price', 'type_2_M', 'type_2_h1', 'type_1_m1', 'management_strategy_strategy_2'}\n",
      "INFO:root:Selected features # 10: ['type_1_d', 'risk_reward_ratio', 'type_2_d', 'type_1_h4', 'management_strategy_be_after_push', 'type_2_w', 'management_strategy_be_after_1r', 'htf_poi_ltf_confirmation_False', 'type_2_h1', 'management_strategy_be_after_push']\n",
      "INFO:root:RFE Feature Rankings:\n",
      "INFO:root:type_1_d: Rank 1\n",
      "INFO:root:risk_reward_ratio: Rank 1\n",
      "INFO:root:type_2_d: Rank 1\n",
      "INFO:root:type_1_h4: Rank 1\n",
      "INFO:root:management_strategy_be_after_push: Rank 1\n",
      "INFO:root:type_2_w: Rank 1\n",
      "INFO:root:management_strategy_be_after_1r: Rank 1\n",
      "INFO:root:htf_poi_ltf_confirmation_False: Rank 1\n",
      "INFO:root:type_2_h1: Rank 1\n",
      "INFO:root:management_strategy_be_after_push: Rank 1\n",
      "INFO:root:htf_poi_ltf_confirmation_True: Rank 2\n",
      "INFO:root:htf_poi_ltf_confirmation_True: Rank 3\n",
      "INFO:root:type_1_M: Rank 4\n",
      "INFO:root:type_1_m30: Rank 5\n",
      "INFO:root:type_1_w: Rank 6\n",
      "INFO:root:type_2_m5: Rank 7\n",
      "INFO:root:type_2_M: Rank 8\n",
      "INFO:root:type_1_m1: Rank 9\n",
      "INFO:root:management_strategy_no_management: Rank 10\n",
      "INFO:root:management_strategy_no_management: Rank 11\n",
      "INFO:root:management_strategy_strategy_2: Rank 12\n",
      "INFO:root:management_strategy_strategy_2: Rank 13\n",
      "INFO:root:session_tokyo: Rank 14\n",
      "INFO:root:close_price: Rank 15\n",
      "INFO:root:type_3_d: Rank 16\n",
      "INFO:root:type_3_h1: Rank 17\n",
      "INFO:root:type_2_m30: Rank 18\n",
      "INFO:root:type_1_m5: Rank 19\n",
      "INFO:root:type_1_h1: Rank 20\n",
      "INFO:root:type_3_h4: Rank 21\n",
      "INFO:root:type_1_m15: Rank 22\n",
      "INFO:root:type_3_m1: Rank 23\n",
      "INFO:root:type_3_m5: Rank 24\n",
      "INFO:root:type_2_m1: Rank 25\n",
      "INFO:root:type_2_h4: Rank 26\n",
      "INFO:root:type_3_w: Rank 27\n",
      "INFO:root:type_3_m15: Rank 28\n",
      "INFO:root:type_3_M: Rank 29\n",
      "INFO:root:type_3_m30: Rank 30\n",
      "INFO:root:type_2_m15: Rank 31\n",
      "INFO:root:Calculating tags statistics\n",
      "INFO:root:Plotting statistics\n"
     ]
    }
   ],
   "source": [
    "logger = logging.getLogger()\n",
    "logger.setLevel(logging.INFO)\n",
    "j.to_markdown(output_dir='output',)"
   ]
  },
  {
   "cell_type": "code",
   "execution_count": 8,
   "metadata": {},
   "outputs": [
    {
     "data": {
      "text/html": [
       "<div>\n",
       "<style scoped>\n",
       "    .dataframe tbody tr th:only-of-type {\n",
       "        vertical-align: middle;\n",
       "    }\n",
       "\n",
       "    .dataframe tbody tr th {\n",
       "        vertical-align: top;\n",
       "    }\n",
       "\n",
       "    .dataframe thead th {\n",
       "        text-align: right;\n",
       "    }\n",
       "</style>\n",
       "<table border=\"1\" class=\"dataframe\">\n",
       "  <thead>\n",
       "    <tr style=\"text-align: right;\">\n",
       "      <th></th>\n",
       "      <th>trade_uid</th>\n",
       "      <th>type_2_m15</th>\n",
       "      <th>type_1_M</th>\n",
       "      <th>type_3_h4</th>\n",
       "      <th>return</th>\n",
       "      <th>management_strategy</th>\n",
       "      <th>sl_price</th>\n",
       "      <th>initial_risk_reward</th>\n",
       "      <th>htf_poi_ltf_confirmation</th>\n",
       "      <th>numerical_confidence</th>\n",
       "      <th>potential_return</th>\n",
       "      <th>type_1_h1</th>\n",
       "      <th>type_1_d</th>\n",
       "      <th>type_2_m5</th>\n",
       "      <th>risk_reward_ratio</th>\n",
       "      <th>type_1_m5</th>\n",
       "      <th>SL_distance</th>\n",
       "      <th>entry_price</th>\n",
       "      <th>type_3_h1</th>\n",
       "      <th>outcome</th>\n",
       "      <th>TP_distance</th>\n",
       "      <th>type_2_d</th>\n",
       "      <th>type_3_m5</th>\n",
       "      <th>initial_return</th>\n",
       "      <th>type_1_h4</th>\n",
       "      <th>type_2_h4</th>\n",
       "      <th>potential_price</th>\n",
       "      <th>type_1_m30</th>\n",
       "      <th>side</th>\n",
       "      <th>type_2_w</th>\n",
       "      <th>type_1_w</th>\n",
       "      <th>type_3_w</th>\n",
       "      <th>type_3_M</th>\n",
       "      <th>entry_time</th>\n",
       "      <th>tp_price</th>\n",
       "      <th>type_2_m30</th>\n",
       "      <th>type_1_m15</th>\n",
       "      <th>type_3_m1</th>\n",
       "      <th>type_3_m15</th>\n",
       "      <th>session</th>\n",
       "      <th>type_3_m30</th>\n",
       "      <th>type_2_m1</th>\n",
       "      <th>type_3_d</th>\n",
       "      <th>close_price</th>\n",
       "      <th>type_2_M</th>\n",
       "      <th>potential_risk_reward</th>\n",
       "      <th>type_2_h1</th>\n",
       "      <th>type_1_m1</th>\n",
       "      <th>htf_poi_ltf_confirmation_False</th>\n",
       "      <th>htf_poi_ltf_confirmation_True</th>\n",
       "      <th>management_strategy_be_after_1r</th>\n",
       "      <th>management_strategy_be_after_push</th>\n",
       "      <th>management_strategy_no_management</th>\n",
       "      <th>management_strategy_strategy_2</th>\n",
       "      <th>outcome_loss</th>\n",
       "      <th>outcome_win</th>\n",
       "    </tr>\n",
       "  </thead>\n",
       "  <tbody>\n",
       "    <tr>\n",
       "      <th>0</th>\n",
       "      <td>1</td>\n",
       "      <td>False</td>\n",
       "      <td>False</td>\n",
       "      <td>False</td>\n",
       "      <td>NaN</td>\n",
       "      <td>no_management</td>\n",
       "      <td>1.0950</td>\n",
       "      <td>2.000000</td>\n",
       "      <td>False</td>\n",
       "      <td>3.0</td>\n",
       "      <td>NaN</td>\n",
       "      <td>False</td>\n",
       "      <td>False</td>\n",
       "      <td>False</td>\n",
       "      <td>2.000000</td>\n",
       "      <td>False</td>\n",
       "      <td>0.0050</td>\n",
       "      <td>1.1000</td>\n",
       "      <td>False</td>\n",
       "      <td>NaN</td>\n",
       "      <td>0.0100</td>\n",
       "      <td>False</td>\n",
       "      <td>False</td>\n",
       "      <td>0.0100</td>\n",
       "      <td>False</td>\n",
       "      <td>False</td>\n",
       "      <td>NaN</td>\n",
       "      <td>False</td>\n",
       "      <td>long</td>\n",
       "      <td>False</td>\n",
       "      <td>False</td>\n",
       "      <td>False</td>\n",
       "      <td>False</td>\n",
       "      <td>2025-01-09 20:44:34.998902</td>\n",
       "      <td>1.1100</td>\n",
       "      <td>False</td>\n",
       "      <td>False</td>\n",
       "      <td>False</td>\n",
       "      <td>True</td>\n",
       "      <td>tokyo</td>\n",
       "      <td>False</td>\n",
       "      <td>False</td>\n",
       "      <td>False</td>\n",
       "      <td>NaN</td>\n",
       "      <td>False</td>\n",
       "      <td>NaN</td>\n",
       "      <td>False</td>\n",
       "      <td>True</td>\n",
       "      <td>True</td>\n",
       "      <td>False</td>\n",
       "      <td>False</td>\n",
       "      <td>False</td>\n",
       "      <td>True</td>\n",
       "      <td>False</td>\n",
       "      <td>False</td>\n",
       "      <td>False</td>\n",
       "    </tr>\n",
       "    <tr>\n",
       "      <th>1</th>\n",
       "      <td>2</td>\n",
       "      <td>False</td>\n",
       "      <td>False</td>\n",
       "      <td>False</td>\n",
       "      <td>-0.0145</td>\n",
       "      <td>no_management</td>\n",
       "      <td>1.1850</td>\n",
       "      <td>0.666667</td>\n",
       "      <td>True</td>\n",
       "      <td>2.0</td>\n",
       "      <td>NaN</td>\n",
       "      <td>False</td>\n",
       "      <td>False</td>\n",
       "      <td>False</td>\n",
       "      <td>0.666667</td>\n",
       "      <td>False</td>\n",
       "      <td>0.0150</td>\n",
       "      <td>1.2000</td>\n",
       "      <td>False</td>\n",
       "      <td>loss</td>\n",
       "      <td>0.0100</td>\n",
       "      <td>False</td>\n",
       "      <td>False</td>\n",
       "      <td>0.0100</td>\n",
       "      <td>False</td>\n",
       "      <td>False</td>\n",
       "      <td>NaN</td>\n",
       "      <td>False</td>\n",
       "      <td>long</td>\n",
       "      <td>False</td>\n",
       "      <td>False</td>\n",
       "      <td>False</td>\n",
       "      <td>False</td>\n",
       "      <td>2025-01-09 20:44:34.999204</td>\n",
       "      <td>1.2100</td>\n",
       "      <td>False</td>\n",
       "      <td>False</td>\n",
       "      <td>False</td>\n",
       "      <td>False</td>\n",
       "      <td>tokyo</td>\n",
       "      <td>False</td>\n",
       "      <td>False</td>\n",
       "      <td>False</td>\n",
       "      <td>1.1855</td>\n",
       "      <td>False</td>\n",
       "      <td>NaN</td>\n",
       "      <td>True</td>\n",
       "      <td>False</td>\n",
       "      <td>False</td>\n",
       "      <td>True</td>\n",
       "      <td>False</td>\n",
       "      <td>False</td>\n",
       "      <td>True</td>\n",
       "      <td>False</td>\n",
       "      <td>True</td>\n",
       "      <td>False</td>\n",
       "    </tr>\n",
       "    <tr>\n",
       "      <th>2</th>\n",
       "      <td>3</td>\n",
       "      <td>False</td>\n",
       "      <td>False</td>\n",
       "      <td>False</td>\n",
       "      <td>NaN</td>\n",
       "      <td>no_management</td>\n",
       "      <td>1.2970</td>\n",
       "      <td>10.000000</td>\n",
       "      <td>False</td>\n",
       "      <td>NaN</td>\n",
       "      <td>NaN</td>\n",
       "      <td>False</td>\n",
       "      <td>False</td>\n",
       "      <td>False</td>\n",
       "      <td>10.000000</td>\n",
       "      <td>False</td>\n",
       "      <td>0.5000</td>\n",
       "      <td>1.3000</td>\n",
       "      <td>False</td>\n",
       "      <td>NaN</td>\n",
       "      <td>0.0300</td>\n",
       "      <td>False</td>\n",
       "      <td>False</td>\n",
       "      <td>0.0300</td>\n",
       "      <td>False</td>\n",
       "      <td>False</td>\n",
       "      <td>NaN</td>\n",
       "      <td>False</td>\n",
       "      <td>long</td>\n",
       "      <td>False</td>\n",
       "      <td>False</td>\n",
       "      <td>False</td>\n",
       "      <td>False</td>\n",
       "      <td>2024-12-27 10:00:01.000000</td>\n",
       "      <td>1.3300</td>\n",
       "      <td>False</td>\n",
       "      <td>False</td>\n",
       "      <td>False</td>\n",
       "      <td>False</td>\n",
       "      <td>london</td>\n",
       "      <td>False</td>\n",
       "      <td>False</td>\n",
       "      <td>False</td>\n",
       "      <td>NaN</td>\n",
       "      <td>False</td>\n",
       "      <td>NaN</td>\n",
       "      <td>False</td>\n",
       "      <td>False</td>\n",
       "      <td>True</td>\n",
       "      <td>False</td>\n",
       "      <td>False</td>\n",
       "      <td>False</td>\n",
       "      <td>True</td>\n",
       "      <td>False</td>\n",
       "      <td>False</td>\n",
       "      <td>False</td>\n",
       "    </tr>\n",
       "    <tr>\n",
       "      <th>3</th>\n",
       "      <td>4</td>\n",
       "      <td>False</td>\n",
       "      <td>False</td>\n",
       "      <td>False</td>\n",
       "      <td>0.0050</td>\n",
       "      <td>strategy_2</td>\n",
       "      <td>1.2970</td>\n",
       "      <td>10.000000</td>\n",
       "      <td>False</td>\n",
       "      <td>4.0</td>\n",
       "      <td>0.0150</td>\n",
       "      <td>False</td>\n",
       "      <td>False</td>\n",
       "      <td>False</td>\n",
       "      <td>10.000000</td>\n",
       "      <td>False</td>\n",
       "      <td>0.5000</td>\n",
       "      <td>1.3000</td>\n",
       "      <td>False</td>\n",
       "      <td>win</td>\n",
       "      <td>0.0300</td>\n",
       "      <td>False</td>\n",
       "      <td>False</td>\n",
       "      <td>0.0300</td>\n",
       "      <td>False</td>\n",
       "      <td>False</td>\n",
       "      <td>1.3150</td>\n",
       "      <td>False</td>\n",
       "      <td>long</td>\n",
       "      <td>False</td>\n",
       "      <td>False</td>\n",
       "      <td>False</td>\n",
       "      <td>False</td>\n",
       "      <td>2024-12-25 10:00:00.000000</td>\n",
       "      <td>1.3300</td>\n",
       "      <td>False</td>\n",
       "      <td>False</td>\n",
       "      <td>False</td>\n",
       "      <td>False</td>\n",
       "      <td>london</td>\n",
       "      <td>False</td>\n",
       "      <td>False</td>\n",
       "      <td>False</td>\n",
       "      <td>1.3050</td>\n",
       "      <td>False</td>\n",
       "      <td>5.000000</td>\n",
       "      <td>False</td>\n",
       "      <td>False</td>\n",
       "      <td>True</td>\n",
       "      <td>False</td>\n",
       "      <td>False</td>\n",
       "      <td>False</td>\n",
       "      <td>False</td>\n",
       "      <td>True</td>\n",
       "      <td>False</td>\n",
       "      <td>True</td>\n",
       "    </tr>\n",
       "    <tr>\n",
       "      <th>4</th>\n",
       "      <td>5</td>\n",
       "      <td>False</td>\n",
       "      <td>False</td>\n",
       "      <td>False</td>\n",
       "      <td>0.0132</td>\n",
       "      <td>be_after_1r</td>\n",
       "      <td>1.1018</td>\n",
       "      <td>3.000000</td>\n",
       "      <td>False</td>\n",
       "      <td>3.0</td>\n",
       "      <td>0.0333</td>\n",
       "      <td>False</td>\n",
       "      <td>True</td>\n",
       "      <td>False</td>\n",
       "      <td>3.000000</td>\n",
       "      <td>False</td>\n",
       "      <td>0.0098</td>\n",
       "      <td>1.1116</td>\n",
       "      <td>False</td>\n",
       "      <td>win</td>\n",
       "      <td>0.0294</td>\n",
       "      <td>True</td>\n",
       "      <td>False</td>\n",
       "      <td>0.0294</td>\n",
       "      <td>False</td>\n",
       "      <td>False</td>\n",
       "      <td>1.1449</td>\n",
       "      <td>False</td>\n",
       "      <td>long</td>\n",
       "      <td>False</td>\n",
       "      <td>False</td>\n",
       "      <td>False</td>\n",
       "      <td>False</td>\n",
       "      <td>2025-01-09 20:44:35.001562</td>\n",
       "      <td>1.1410</td>\n",
       "      <td>False</td>\n",
       "      <td>False</td>\n",
       "      <td>False</td>\n",
       "      <td>False</td>\n",
       "      <td>tokyo</td>\n",
       "      <td>False</td>\n",
       "      <td>False</td>\n",
       "      <td>False</td>\n",
       "      <td>1.1248</td>\n",
       "      <td>False</td>\n",
       "      <td>3.397959</td>\n",
       "      <td>False</td>\n",
       "      <td>False</td>\n",
       "      <td>True</td>\n",
       "      <td>False</td>\n",
       "      <td>True</td>\n",
       "      <td>False</td>\n",
       "      <td>False</td>\n",
       "      <td>False</td>\n",
       "      <td>False</td>\n",
       "      <td>True</td>\n",
       "    </tr>\n",
       "    <tr>\n",
       "      <th>5</th>\n",
       "      <td>6</td>\n",
       "      <td>True</td>\n",
       "      <td>True</td>\n",
       "      <td>False</td>\n",
       "      <td>NaN</td>\n",
       "      <td>no_management</td>\n",
       "      <td>1.1125</td>\n",
       "      <td>3.943182</td>\n",
       "      <td>True</td>\n",
       "      <td>3.0</td>\n",
       "      <td>0.0140</td>\n",
       "      <td>False</td>\n",
       "      <td>False</td>\n",
       "      <td>False</td>\n",
       "      <td>3.943182</td>\n",
       "      <td>False</td>\n",
       "      <td>0.0088</td>\n",
       "      <td>1.1213</td>\n",
       "      <td>False</td>\n",
       "      <td>NaN</td>\n",
       "      <td>0.0347</td>\n",
       "      <td>False</td>\n",
       "      <td>False</td>\n",
       "      <td>0.0347</td>\n",
       "      <td>False</td>\n",
       "      <td>False</td>\n",
       "      <td>1.1353</td>\n",
       "      <td>False</td>\n",
       "      <td>long</td>\n",
       "      <td>False</td>\n",
       "      <td>False</td>\n",
       "      <td>False</td>\n",
       "      <td>False</td>\n",
       "      <td>2025-01-09 20:44:35.001853</td>\n",
       "      <td>1.1560</td>\n",
       "      <td>False</td>\n",
       "      <td>False</td>\n",
       "      <td>False</td>\n",
       "      <td>False</td>\n",
       "      <td>tokyo</td>\n",
       "      <td>False</td>\n",
       "      <td>False</td>\n",
       "      <td>False</td>\n",
       "      <td>NaN</td>\n",
       "      <td>False</td>\n",
       "      <td>1.590909</td>\n",
       "      <td>False</td>\n",
       "      <td>False</td>\n",
       "      <td>False</td>\n",
       "      <td>True</td>\n",
       "      <td>False</td>\n",
       "      <td>False</td>\n",
       "      <td>True</td>\n",
       "      <td>False</td>\n",
       "      <td>False</td>\n",
       "      <td>False</td>\n",
       "    </tr>\n",
       "    <tr>\n",
       "      <th>6</th>\n",
       "      <td>7</td>\n",
       "      <td>False</td>\n",
       "      <td>False</td>\n",
       "      <td>False</td>\n",
       "      <td>-0.0118</td>\n",
       "      <td>be_after_push</td>\n",
       "      <td>1.1256</td>\n",
       "      <td>3.323529</td>\n",
       "      <td>False</td>\n",
       "      <td>4.0</td>\n",
       "      <td>0.0446</td>\n",
       "      <td>False</td>\n",
       "      <td>False</td>\n",
       "      <td>False</td>\n",
       "      <td>3.323529</td>\n",
       "      <td>False</td>\n",
       "      <td>0.0068</td>\n",
       "      <td>1.1324</td>\n",
       "      <td>False</td>\n",
       "      <td>loss</td>\n",
       "      <td>0.0226</td>\n",
       "      <td>False</td>\n",
       "      <td>False</td>\n",
       "      <td>0.0226</td>\n",
       "      <td>True</td>\n",
       "      <td>False</td>\n",
       "      <td>1.1770</td>\n",
       "      <td>False</td>\n",
       "      <td>long</td>\n",
       "      <td>True</td>\n",
       "      <td>False</td>\n",
       "      <td>False</td>\n",
       "      <td>False</td>\n",
       "      <td>2025-01-09 20:44:35.002075</td>\n",
       "      <td>1.1550</td>\n",
       "      <td>False</td>\n",
       "      <td>False</td>\n",
       "      <td>False</td>\n",
       "      <td>False</td>\n",
       "      <td>tokyo</td>\n",
       "      <td>False</td>\n",
       "      <td>False</td>\n",
       "      <td>False</td>\n",
       "      <td>1.1206</td>\n",
       "      <td>False</td>\n",
       "      <td>6.558824</td>\n",
       "      <td>False</td>\n",
       "      <td>False</td>\n",
       "      <td>True</td>\n",
       "      <td>False</td>\n",
       "      <td>False</td>\n",
       "      <td>True</td>\n",
       "      <td>False</td>\n",
       "      <td>False</td>\n",
       "      <td>True</td>\n",
       "      <td>False</td>\n",
       "    </tr>\n",
       "    <tr>\n",
       "      <th>7</th>\n",
       "      <td>8</td>\n",
       "      <td>False</td>\n",
       "      <td>False</td>\n",
       "      <td>False</td>\n",
       "      <td>0.0114</td>\n",
       "      <td>be_after_push</td>\n",
       "      <td>1.1411</td>\n",
       "      <td>7.927273</td>\n",
       "      <td>True</td>\n",
       "      <td>5.0</td>\n",
       "      <td>0.0297</td>\n",
       "      <td>False</td>\n",
       "      <td>False</td>\n",
       "      <td>False</td>\n",
       "      <td>7.927273</td>\n",
       "      <td>False</td>\n",
       "      <td>0.0055</td>\n",
       "      <td>1.1466</td>\n",
       "      <td>False</td>\n",
       "      <td>win</td>\n",
       "      <td>0.0436</td>\n",
       "      <td>False</td>\n",
       "      <td>False</td>\n",
       "      <td>0.0436</td>\n",
       "      <td>False</td>\n",
       "      <td>False</td>\n",
       "      <td>1.1763</td>\n",
       "      <td>False</td>\n",
       "      <td>long</td>\n",
       "      <td>False</td>\n",
       "      <td>False</td>\n",
       "      <td>False</td>\n",
       "      <td>False</td>\n",
       "      <td>2025-01-09 20:44:35.002426</td>\n",
       "      <td>1.1902</td>\n",
       "      <td>False</td>\n",
       "      <td>False</td>\n",
       "      <td>False</td>\n",
       "      <td>False</td>\n",
       "      <td>tokyo</td>\n",
       "      <td>False</td>\n",
       "      <td>False</td>\n",
       "      <td>False</td>\n",
       "      <td>1.1580</td>\n",
       "      <td>True</td>\n",
       "      <td>5.400000</td>\n",
       "      <td>False</td>\n",
       "      <td>True</td>\n",
       "      <td>False</td>\n",
       "      <td>True</td>\n",
       "      <td>False</td>\n",
       "      <td>True</td>\n",
       "      <td>False</td>\n",
       "      <td>False</td>\n",
       "      <td>False</td>\n",
       "      <td>True</td>\n",
       "    </tr>\n",
       "    <tr>\n",
       "      <th>8</th>\n",
       "      <td>9</td>\n",
       "      <td>False</td>\n",
       "      <td>False</td>\n",
       "      <td>False</td>\n",
       "      <td>NaN</td>\n",
       "      <td>no_management</td>\n",
       "      <td>1.1328</td>\n",
       "      <td>8.811321</td>\n",
       "      <td>True</td>\n",
       "      <td>5.0</td>\n",
       "      <td>0.0279</td>\n",
       "      <td>False</td>\n",
       "      <td>False</td>\n",
       "      <td>False</td>\n",
       "      <td>8.811321</td>\n",
       "      <td>False</td>\n",
       "      <td>0.0053</td>\n",
       "      <td>1.1381</td>\n",
       "      <td>False</td>\n",
       "      <td>NaN</td>\n",
       "      <td>0.0467</td>\n",
       "      <td>False</td>\n",
       "      <td>False</td>\n",
       "      <td>0.0467</td>\n",
       "      <td>False</td>\n",
       "      <td>True</td>\n",
       "      <td>1.1660</td>\n",
       "      <td>True</td>\n",
       "      <td>long</td>\n",
       "      <td>False</td>\n",
       "      <td>False</td>\n",
       "      <td>False</td>\n",
       "      <td>False</td>\n",
       "      <td>2025-01-09 20:44:35.002785</td>\n",
       "      <td>1.1848</td>\n",
       "      <td>False</td>\n",
       "      <td>False</td>\n",
       "      <td>False</td>\n",
       "      <td>False</td>\n",
       "      <td>tokyo</td>\n",
       "      <td>False</td>\n",
       "      <td>False</td>\n",
       "      <td>False</td>\n",
       "      <td>NaN</td>\n",
       "      <td>False</td>\n",
       "      <td>5.264151</td>\n",
       "      <td>False</td>\n",
       "      <td>False</td>\n",
       "      <td>False</td>\n",
       "      <td>True</td>\n",
       "      <td>False</td>\n",
       "      <td>False</td>\n",
       "      <td>True</td>\n",
       "      <td>False</td>\n",
       "      <td>False</td>\n",
       "      <td>False</td>\n",
       "    </tr>\n",
       "    <tr>\n",
       "      <th>9</th>\n",
       "      <td>10</td>\n",
       "      <td>False</td>\n",
       "      <td>False</td>\n",
       "      <td>False</td>\n",
       "      <td>NaN</td>\n",
       "      <td>be_after_1r</td>\n",
       "      <td>1.1425</td>\n",
       "      <td>2.986486</td>\n",
       "      <td>True</td>\n",
       "      <td>5.0</td>\n",
       "      <td>0.0233</td>\n",
       "      <td>False</td>\n",
       "      <td>False</td>\n",
       "      <td>False</td>\n",
       "      <td>2.986486</td>\n",
       "      <td>False</td>\n",
       "      <td>0.0074</td>\n",
       "      <td>1.1499</td>\n",
       "      <td>False</td>\n",
       "      <td>NaN</td>\n",
       "      <td>0.0221</td>\n",
       "      <td>False</td>\n",
       "      <td>False</td>\n",
       "      <td>0.0221</td>\n",
       "      <td>True</td>\n",
       "      <td>False</td>\n",
       "      <td>1.1732</td>\n",
       "      <td>False</td>\n",
       "      <td>long</td>\n",
       "      <td>False</td>\n",
       "      <td>False</td>\n",
       "      <td>False</td>\n",
       "      <td>False</td>\n",
       "      <td>2025-01-09 20:44:35.003049</td>\n",
       "      <td>1.1720</td>\n",
       "      <td>False</td>\n",
       "      <td>False</td>\n",
       "      <td>False</td>\n",
       "      <td>False</td>\n",
       "      <td>tokyo</td>\n",
       "      <td>False</td>\n",
       "      <td>False</td>\n",
       "      <td>False</td>\n",
       "      <td>NaN</td>\n",
       "      <td>True</td>\n",
       "      <td>3.148649</td>\n",
       "      <td>False</td>\n",
       "      <td>False</td>\n",
       "      <td>False</td>\n",
       "      <td>True</td>\n",
       "      <td>True</td>\n",
       "      <td>False</td>\n",
       "      <td>False</td>\n",
       "      <td>False</td>\n",
       "      <td>False</td>\n",
       "      <td>False</td>\n",
       "    </tr>\n",
       "    <tr>\n",
       "      <th>10</th>\n",
       "      <td>11</td>\n",
       "      <td>False</td>\n",
       "      <td>True</td>\n",
       "      <td>False</td>\n",
       "      <td>-0.0084</td>\n",
       "      <td>be_after_push</td>\n",
       "      <td>1.1198</td>\n",
       "      <td>3.175000</td>\n",
       "      <td>True</td>\n",
       "      <td>2.0</td>\n",
       "      <td>0.0113</td>\n",
       "      <td>False</td>\n",
       "      <td>False</td>\n",
       "      <td>False</td>\n",
       "      <td>3.175000</td>\n",
       "      <td>False</td>\n",
       "      <td>0.0080</td>\n",
       "      <td>1.1278</td>\n",
       "      <td>False</td>\n",
       "      <td>loss</td>\n",
       "      <td>0.0254</td>\n",
       "      <td>False</td>\n",
       "      <td>False</td>\n",
       "      <td>0.0254</td>\n",
       "      <td>False</td>\n",
       "      <td>False</td>\n",
       "      <td>1.1391</td>\n",
       "      <td>False</td>\n",
       "      <td>long</td>\n",
       "      <td>False</td>\n",
       "      <td>False</td>\n",
       "      <td>False</td>\n",
       "      <td>False</td>\n",
       "      <td>2025-01-09 20:44:35.003332</td>\n",
       "      <td>1.1532</td>\n",
       "      <td>False</td>\n",
       "      <td>False</td>\n",
       "      <td>False</td>\n",
       "      <td>False</td>\n",
       "      <td>tokyo</td>\n",
       "      <td>False</td>\n",
       "      <td>False</td>\n",
       "      <td>False</td>\n",
       "      <td>1.1194</td>\n",
       "      <td>False</td>\n",
       "      <td>1.412500</td>\n",
       "      <td>True</td>\n",
       "      <td>False</td>\n",
       "      <td>False</td>\n",
       "      <td>True</td>\n",
       "      <td>False</td>\n",
       "      <td>True</td>\n",
       "      <td>False</td>\n",
       "      <td>False</td>\n",
       "      <td>True</td>\n",
       "      <td>False</td>\n",
       "    </tr>\n",
       "    <tr>\n",
       "      <th>11</th>\n",
       "      <td>12</td>\n",
       "      <td>False</td>\n",
       "      <td>False</td>\n",
       "      <td>False</td>\n",
       "      <td>0.0137</td>\n",
       "      <td>be_after_1r</td>\n",
       "      <td>1.1048</td>\n",
       "      <td>5.125000</td>\n",
       "      <td>False</td>\n",
       "      <td>5.0</td>\n",
       "      <td>0.0210</td>\n",
       "      <td>False</td>\n",
       "      <td>False</td>\n",
       "      <td>True</td>\n",
       "      <td>5.125000</td>\n",
       "      <td>False</td>\n",
       "      <td>0.0088</td>\n",
       "      <td>1.1136</td>\n",
       "      <td>False</td>\n",
       "      <td>win</td>\n",
       "      <td>0.0451</td>\n",
       "      <td>False</td>\n",
       "      <td>False</td>\n",
       "      <td>0.0451</td>\n",
       "      <td>False</td>\n",
       "      <td>False</td>\n",
       "      <td>1.1346</td>\n",
       "      <td>False</td>\n",
       "      <td>long</td>\n",
       "      <td>False</td>\n",
       "      <td>True</td>\n",
       "      <td>False</td>\n",
       "      <td>False</td>\n",
       "      <td>2025-01-09 20:44:35.003777</td>\n",
       "      <td>1.1587</td>\n",
       "      <td>False</td>\n",
       "      <td>False</td>\n",
       "      <td>False</td>\n",
       "      <td>False</td>\n",
       "      <td>tokyo</td>\n",
       "      <td>False</td>\n",
       "      <td>False</td>\n",
       "      <td>False</td>\n",
       "      <td>1.1273</td>\n",
       "      <td>False</td>\n",
       "      <td>2.386364</td>\n",
       "      <td>False</td>\n",
       "      <td>False</td>\n",
       "      <td>True</td>\n",
       "      <td>False</td>\n",
       "      <td>True</td>\n",
       "      <td>False</td>\n",
       "      <td>False</td>\n",
       "      <td>False</td>\n",
       "      <td>False</td>\n",
       "      <td>True</td>\n",
       "    </tr>\n",
       "    <tr>\n",
       "      <th>12</th>\n",
       "      <td>13</td>\n",
       "      <td>False</td>\n",
       "      <td>False</td>\n",
       "      <td>False</td>\n",
       "      <td>0.0167</td>\n",
       "      <td>no_management</td>\n",
       "      <td>1.1259</td>\n",
       "      <td>4.986301</td>\n",
       "      <td>False</td>\n",
       "      <td>1.0</td>\n",
       "      <td>0.0230</td>\n",
       "      <td>False</td>\n",
       "      <td>False</td>\n",
       "      <td>False</td>\n",
       "      <td>4.986301</td>\n",
       "      <td>False</td>\n",
       "      <td>0.0073</td>\n",
       "      <td>1.1332</td>\n",
       "      <td>False</td>\n",
       "      <td>win</td>\n",
       "      <td>0.0364</td>\n",
       "      <td>True</td>\n",
       "      <td>False</td>\n",
       "      <td>0.0364</td>\n",
       "      <td>False</td>\n",
       "      <td>False</td>\n",
       "      <td>1.1562</td>\n",
       "      <td>True</td>\n",
       "      <td>long</td>\n",
       "      <td>False</td>\n",
       "      <td>False</td>\n",
       "      <td>False</td>\n",
       "      <td>False</td>\n",
       "      <td>2025-01-09 20:44:35.004004</td>\n",
       "      <td>1.1696</td>\n",
       "      <td>False</td>\n",
       "      <td>False</td>\n",
       "      <td>False</td>\n",
       "      <td>False</td>\n",
       "      <td>tokyo</td>\n",
       "      <td>False</td>\n",
       "      <td>False</td>\n",
       "      <td>False</td>\n",
       "      <td>1.1499</td>\n",
       "      <td>False</td>\n",
       "      <td>3.150685</td>\n",
       "      <td>False</td>\n",
       "      <td>False</td>\n",
       "      <td>True</td>\n",
       "      <td>False</td>\n",
       "      <td>False</td>\n",
       "      <td>False</td>\n",
       "      <td>True</td>\n",
       "      <td>False</td>\n",
       "      <td>False</td>\n",
       "      <td>True</td>\n",
       "    </tr>\n",
       "    <tr>\n",
       "      <th>13</th>\n",
       "      <td>14</td>\n",
       "      <td>False</td>\n",
       "      <td>False</td>\n",
       "      <td>False</td>\n",
       "      <td>NaN</td>\n",
       "      <td>be_after_push</td>\n",
       "      <td>1.1376</td>\n",
       "      <td>6.338710</td>\n",
       "      <td>True</td>\n",
       "      <td>3.0</td>\n",
       "      <td>0.0418</td>\n",
       "      <td>False</td>\n",
       "      <td>False</td>\n",
       "      <td>False</td>\n",
       "      <td>6.338710</td>\n",
       "      <td>False</td>\n",
       "      <td>0.0062</td>\n",
       "      <td>1.1438</td>\n",
       "      <td>False</td>\n",
       "      <td>NaN</td>\n",
       "      <td>0.0393</td>\n",
       "      <td>False</td>\n",
       "      <td>False</td>\n",
       "      <td>0.0393</td>\n",
       "      <td>False</td>\n",
       "      <td>True</td>\n",
       "      <td>1.1856</td>\n",
       "      <td>False</td>\n",
       "      <td>long</td>\n",
       "      <td>False</td>\n",
       "      <td>True</td>\n",
       "      <td>False</td>\n",
       "      <td>False</td>\n",
       "      <td>2025-01-09 20:44:35.004312</td>\n",
       "      <td>1.1831</td>\n",
       "      <td>False</td>\n",
       "      <td>False</td>\n",
       "      <td>False</td>\n",
       "      <td>False</td>\n",
       "      <td>tokyo</td>\n",
       "      <td>False</td>\n",
       "      <td>False</td>\n",
       "      <td>False</td>\n",
       "      <td>NaN</td>\n",
       "      <td>False</td>\n",
       "      <td>6.741935</td>\n",
       "      <td>False</td>\n",
       "      <td>False</td>\n",
       "      <td>False</td>\n",
       "      <td>True</td>\n",
       "      <td>False</td>\n",
       "      <td>True</td>\n",
       "      <td>False</td>\n",
       "      <td>False</td>\n",
       "      <td>False</td>\n",
       "      <td>False</td>\n",
       "    </tr>\n",
       "  </tbody>\n",
       "</table>\n",
       "</div>"
      ],
      "text/plain": [
       "   trade_uid  type_2_m15  type_1_M  type_3_h4  return management_strategy  \\\n",
       "0          1       False     False      False     NaN       no_management   \n",
       "1          2       False     False      False -0.0145       no_management   \n",
       "2          3       False     False      False     NaN       no_management   \n",
       "3          4       False     False      False  0.0050          strategy_2   \n",
       "4          5       False     False      False  0.0132         be_after_1r   \n",
       "5          6        True      True      False     NaN       no_management   \n",
       "6          7       False     False      False -0.0118       be_after_push   \n",
       "7          8       False     False      False  0.0114       be_after_push   \n",
       "8          9       False     False      False     NaN       no_management   \n",
       "9         10       False     False      False     NaN         be_after_1r   \n",
       "10        11       False      True      False -0.0084       be_after_push   \n",
       "11        12       False     False      False  0.0137         be_after_1r   \n",
       "12        13       False     False      False  0.0167       no_management   \n",
       "13        14       False     False      False     NaN       be_after_push   \n",
       "\n",
       "    sl_price  initial_risk_reward htf_poi_ltf_confirmation  \\\n",
       "0     1.0950             2.000000                    False   \n",
       "1     1.1850             0.666667                     True   \n",
       "2     1.2970            10.000000                    False   \n",
       "3     1.2970            10.000000                    False   \n",
       "4     1.1018             3.000000                    False   \n",
       "5     1.1125             3.943182                     True   \n",
       "6     1.1256             3.323529                    False   \n",
       "7     1.1411             7.927273                     True   \n",
       "8     1.1328             8.811321                     True   \n",
       "9     1.1425             2.986486                     True   \n",
       "10    1.1198             3.175000                     True   \n",
       "11    1.1048             5.125000                    False   \n",
       "12    1.1259             4.986301                    False   \n",
       "13    1.1376             6.338710                     True   \n",
       "\n",
       "    numerical_confidence  potential_return  type_1_h1  type_1_d  type_2_m5  \\\n",
       "0                    3.0               NaN      False     False      False   \n",
       "1                    2.0               NaN      False     False      False   \n",
       "2                    NaN               NaN      False     False      False   \n",
       "3                    4.0            0.0150      False     False      False   \n",
       "4                    3.0            0.0333      False      True      False   \n",
       "5                    3.0            0.0140      False     False      False   \n",
       "6                    4.0            0.0446      False     False      False   \n",
       "7                    5.0            0.0297      False     False      False   \n",
       "8                    5.0            0.0279      False     False      False   \n",
       "9                    5.0            0.0233      False     False      False   \n",
       "10                   2.0            0.0113      False     False      False   \n",
       "11                   5.0            0.0210      False     False       True   \n",
       "12                   1.0            0.0230      False     False      False   \n",
       "13                   3.0            0.0418      False     False      False   \n",
       "\n",
       "    risk_reward_ratio  type_1_m5  SL_distance  entry_price  type_3_h1 outcome  \\\n",
       "0            2.000000      False       0.0050       1.1000      False     NaN   \n",
       "1            0.666667      False       0.0150       1.2000      False    loss   \n",
       "2           10.000000      False       0.5000       1.3000      False     NaN   \n",
       "3           10.000000      False       0.5000       1.3000      False     win   \n",
       "4            3.000000      False       0.0098       1.1116      False     win   \n",
       "5            3.943182      False       0.0088       1.1213      False     NaN   \n",
       "6            3.323529      False       0.0068       1.1324      False    loss   \n",
       "7            7.927273      False       0.0055       1.1466      False     win   \n",
       "8            8.811321      False       0.0053       1.1381      False     NaN   \n",
       "9            2.986486      False       0.0074       1.1499      False     NaN   \n",
       "10           3.175000      False       0.0080       1.1278      False    loss   \n",
       "11           5.125000      False       0.0088       1.1136      False     win   \n",
       "12           4.986301      False       0.0073       1.1332      False     win   \n",
       "13           6.338710      False       0.0062       1.1438      False     NaN   \n",
       "\n",
       "    TP_distance  type_2_d  type_3_m5  initial_return  type_1_h4  type_2_h4  \\\n",
       "0        0.0100     False      False          0.0100      False      False   \n",
       "1        0.0100     False      False          0.0100      False      False   \n",
       "2        0.0300     False      False          0.0300      False      False   \n",
       "3        0.0300     False      False          0.0300      False      False   \n",
       "4        0.0294      True      False          0.0294      False      False   \n",
       "5        0.0347     False      False          0.0347      False      False   \n",
       "6        0.0226     False      False          0.0226       True      False   \n",
       "7        0.0436     False      False          0.0436      False      False   \n",
       "8        0.0467     False      False          0.0467      False       True   \n",
       "9        0.0221     False      False          0.0221       True      False   \n",
       "10       0.0254     False      False          0.0254      False      False   \n",
       "11       0.0451     False      False          0.0451      False      False   \n",
       "12       0.0364      True      False          0.0364      False      False   \n",
       "13       0.0393     False      False          0.0393      False       True   \n",
       "\n",
       "    potential_price  type_1_m30  side  type_2_w  type_1_w  type_3_w  type_3_M  \\\n",
       "0               NaN       False  long     False     False     False     False   \n",
       "1               NaN       False  long     False     False     False     False   \n",
       "2               NaN       False  long     False     False     False     False   \n",
       "3            1.3150       False  long     False     False     False     False   \n",
       "4            1.1449       False  long     False     False     False     False   \n",
       "5            1.1353       False  long     False     False     False     False   \n",
       "6            1.1770       False  long      True     False     False     False   \n",
       "7            1.1763       False  long     False     False     False     False   \n",
       "8            1.1660        True  long     False     False     False     False   \n",
       "9            1.1732       False  long     False     False     False     False   \n",
       "10           1.1391       False  long     False     False     False     False   \n",
       "11           1.1346       False  long     False      True     False     False   \n",
       "12           1.1562        True  long     False     False     False     False   \n",
       "13           1.1856       False  long     False      True     False     False   \n",
       "\n",
       "                   entry_time  tp_price  type_2_m30  type_1_m15  type_3_m1  \\\n",
       "0  2025-01-09 20:44:34.998902    1.1100       False       False      False   \n",
       "1  2025-01-09 20:44:34.999204    1.2100       False       False      False   \n",
       "2  2024-12-27 10:00:01.000000    1.3300       False       False      False   \n",
       "3  2024-12-25 10:00:00.000000    1.3300       False       False      False   \n",
       "4  2025-01-09 20:44:35.001562    1.1410       False       False      False   \n",
       "5  2025-01-09 20:44:35.001853    1.1560       False       False      False   \n",
       "6  2025-01-09 20:44:35.002075    1.1550       False       False      False   \n",
       "7  2025-01-09 20:44:35.002426    1.1902       False       False      False   \n",
       "8  2025-01-09 20:44:35.002785    1.1848       False       False      False   \n",
       "9  2025-01-09 20:44:35.003049    1.1720       False       False      False   \n",
       "10 2025-01-09 20:44:35.003332    1.1532       False       False      False   \n",
       "11 2025-01-09 20:44:35.003777    1.1587       False       False      False   \n",
       "12 2025-01-09 20:44:35.004004    1.1696       False       False      False   \n",
       "13 2025-01-09 20:44:35.004312    1.1831       False       False      False   \n",
       "\n",
       "    type_3_m15 session  type_3_m30  type_2_m1  type_3_d  close_price  \\\n",
       "0         True   tokyo       False      False     False          NaN   \n",
       "1        False   tokyo       False      False     False       1.1855   \n",
       "2        False  london       False      False     False          NaN   \n",
       "3        False  london       False      False     False       1.3050   \n",
       "4        False   tokyo       False      False     False       1.1248   \n",
       "5        False   tokyo       False      False     False          NaN   \n",
       "6        False   tokyo       False      False     False       1.1206   \n",
       "7        False   tokyo       False      False     False       1.1580   \n",
       "8        False   tokyo       False      False     False          NaN   \n",
       "9        False   tokyo       False      False     False          NaN   \n",
       "10       False   tokyo       False      False     False       1.1194   \n",
       "11       False   tokyo       False      False     False       1.1273   \n",
       "12       False   tokyo       False      False     False       1.1499   \n",
       "13       False   tokyo       False      False     False          NaN   \n",
       "\n",
       "    type_2_M  potential_risk_reward  type_2_h1  type_1_m1  \\\n",
       "0      False                    NaN      False       True   \n",
       "1      False                    NaN       True      False   \n",
       "2      False                    NaN      False      False   \n",
       "3      False               5.000000      False      False   \n",
       "4      False               3.397959      False      False   \n",
       "5      False               1.590909      False      False   \n",
       "6      False               6.558824      False      False   \n",
       "7       True               5.400000      False       True   \n",
       "8      False               5.264151      False      False   \n",
       "9       True               3.148649      False      False   \n",
       "10     False               1.412500       True      False   \n",
       "11     False               2.386364      False      False   \n",
       "12     False               3.150685      False      False   \n",
       "13     False               6.741935      False      False   \n",
       "\n",
       "    htf_poi_ltf_confirmation_False  htf_poi_ltf_confirmation_True  \\\n",
       "0                             True                          False   \n",
       "1                            False                           True   \n",
       "2                             True                          False   \n",
       "3                             True                          False   \n",
       "4                             True                          False   \n",
       "5                            False                           True   \n",
       "6                             True                          False   \n",
       "7                            False                           True   \n",
       "8                            False                           True   \n",
       "9                            False                           True   \n",
       "10                           False                           True   \n",
       "11                            True                          False   \n",
       "12                            True                          False   \n",
       "13                           False                           True   \n",
       "\n",
       "    management_strategy_be_after_1r  management_strategy_be_after_push  \\\n",
       "0                             False                              False   \n",
       "1                             False                              False   \n",
       "2                             False                              False   \n",
       "3                             False                              False   \n",
       "4                              True                              False   \n",
       "5                             False                              False   \n",
       "6                             False                               True   \n",
       "7                             False                               True   \n",
       "8                             False                              False   \n",
       "9                              True                              False   \n",
       "10                            False                               True   \n",
       "11                             True                              False   \n",
       "12                            False                              False   \n",
       "13                            False                               True   \n",
       "\n",
       "    management_strategy_no_management  management_strategy_strategy_2  \\\n",
       "0                                True                           False   \n",
       "1                                True                           False   \n",
       "2                                True                           False   \n",
       "3                               False                            True   \n",
       "4                               False                           False   \n",
       "5                                True                           False   \n",
       "6                               False                           False   \n",
       "7                               False                           False   \n",
       "8                                True                           False   \n",
       "9                               False                           False   \n",
       "10                              False                           False   \n",
       "11                              False                           False   \n",
       "12                               True                           False   \n",
       "13                              False                           False   \n",
       "\n",
       "    outcome_loss  outcome_win  \n",
       "0          False        False  \n",
       "1           True        False  \n",
       "2          False        False  \n",
       "3          False         True  \n",
       "4          False         True  \n",
       "5          False        False  \n",
       "6           True        False  \n",
       "7          False         True  \n",
       "8          False        False  \n",
       "9          False        False  \n",
       "10          True        False  \n",
       "11         False         True  \n",
       "12         False         True  \n",
       "13         False        False  "
      ]
     },
     "execution_count": 8,
     "metadata": {},
     "output_type": "execute_result"
    }
   ],
   "source": [
    "df = j.to_dataframe(config=None)\n",
    "df"
   ]
  },
  {
   "cell_type": "code",
   "execution_count": 9,
   "metadata": {},
   "outputs": [
    {
     "name": "stdout",
     "output_type": "stream",
     "text": [
      "Expected return full search space: 0.0031624999999999848\n",
      "Expected return is positive\n"
     ]
    },
    {
     "data": {
      "text/plain": [
       "type_1_m5                       bool\n",
       "type_2_m5                       bool\n",
       "type_3_m5                       bool\n",
       "htf_poi_ltf_confirmation    category\n",
       "return                       float64\n",
       "dtype: object"
      ]
     },
     "execution_count": 9,
     "metadata": {},
     "output_type": "execute_result"
    }
   ],
   "source": [
    "df_test = df.copy()\n",
    "features = ['type_1_m5', 'type_2_m5', 'type_3_m5', 'htf_poi_ltf_confirmation', 'return']\n",
    "df_test = df_test[features]\n",
    "df_test = df_test.dropna()\n",
    "exptected_return = df_test['return'].mean()\n",
    "print('Expected return full search space:', exptected_return)\n",
    "if exptected_return > 0:\n",
    "    print('Expected return is positive')\n",
    "else:\n",
    "    print('Expected return is negative')\n",
    "df_test\n",
    "\n",
    "df_test.dtypes"
   ]
  },
  {
   "cell_type": "code",
   "execution_count": 10,
   "metadata": {},
   "outputs": [
    {
     "data": {
      "text/html": [
       "<div>\n",
       "<style scoped>\n",
       "    .dataframe tbody tr th:only-of-type {\n",
       "        vertical-align: middle;\n",
       "    }\n",
       "\n",
       "    .dataframe tbody tr th {\n",
       "        vertical-align: top;\n",
       "    }\n",
       "\n",
       "    .dataframe thead th {\n",
       "        text-align: right;\n",
       "    }\n",
       "</style>\n",
       "<table border=\"1\" class=\"dataframe\">\n",
       "  <thead>\n",
       "    <tr style=\"text-align: right;\">\n",
       "      <th></th>\n",
       "      <th>type_1_m5</th>\n",
       "      <th>type_2_m5</th>\n",
       "      <th>type_3_m5</th>\n",
       "      <th>htf_poi_ltf_confirmation</th>\n",
       "      <th>return</th>\n",
       "    </tr>\n",
       "  </thead>\n",
       "  <tbody>\n",
       "    <tr>\n",
       "      <th>1</th>\n",
       "      <td>False</td>\n",
       "      <td>False</td>\n",
       "      <td>False</td>\n",
       "      <td>True</td>\n",
       "      <td>-0.0145</td>\n",
       "    </tr>\n",
       "    <tr>\n",
       "      <th>3</th>\n",
       "      <td>False</td>\n",
       "      <td>False</td>\n",
       "      <td>False</td>\n",
       "      <td>False</td>\n",
       "      <td>0.0050</td>\n",
       "    </tr>\n",
       "    <tr>\n",
       "      <th>4</th>\n",
       "      <td>False</td>\n",
       "      <td>False</td>\n",
       "      <td>False</td>\n",
       "      <td>False</td>\n",
       "      <td>0.0132</td>\n",
       "    </tr>\n",
       "    <tr>\n",
       "      <th>6</th>\n",
       "      <td>False</td>\n",
       "      <td>False</td>\n",
       "      <td>False</td>\n",
       "      <td>False</td>\n",
       "      <td>-0.0118</td>\n",
       "    </tr>\n",
       "    <tr>\n",
       "      <th>7</th>\n",
       "      <td>False</td>\n",
       "      <td>False</td>\n",
       "      <td>False</td>\n",
       "      <td>True</td>\n",
       "      <td>0.0114</td>\n",
       "    </tr>\n",
       "    <tr>\n",
       "      <th>10</th>\n",
       "      <td>False</td>\n",
       "      <td>False</td>\n",
       "      <td>False</td>\n",
       "      <td>True</td>\n",
       "      <td>-0.0084</td>\n",
       "    </tr>\n",
       "    <tr>\n",
       "      <th>11</th>\n",
       "      <td>False</td>\n",
       "      <td>True</td>\n",
       "      <td>False</td>\n",
       "      <td>False</td>\n",
       "      <td>0.0137</td>\n",
       "    </tr>\n",
       "    <tr>\n",
       "      <th>12</th>\n",
       "      <td>False</td>\n",
       "      <td>False</td>\n",
       "      <td>False</td>\n",
       "      <td>False</td>\n",
       "      <td>0.0167</td>\n",
       "    </tr>\n",
       "  </tbody>\n",
       "</table>\n",
       "</div>"
      ],
      "text/plain": [
       "    type_1_m5  type_2_m5  type_3_m5 htf_poi_ltf_confirmation  return\n",
       "1       False      False      False                     True -0.0145\n",
       "3       False      False      False                    False  0.0050\n",
       "4       False      False      False                    False  0.0132\n",
       "6       False      False      False                    False -0.0118\n",
       "7       False      False      False                     True  0.0114\n",
       "10      False      False      False                     True -0.0084\n",
       "11      False       True      False                    False  0.0137\n",
       "12      False      False      False                    False  0.0167"
      ]
     },
     "execution_count": 10,
     "metadata": {},
     "output_type": "execute_result"
    }
   ],
   "source": [
    "df_test"
   ]
  },
  {
   "cell_type": "code",
   "execution_count": 11,
   "metadata": {},
   "outputs": [
    {
     "name": "stderr",
     "output_type": "stream",
     "text": [
      "INFO:root:Unique values for each feature:\n",
      "{'type_1_m5': [False], 'type_2_m5': [False, True], 'type_3_m5': [False], 'htf_poi_ltf_confirmation': [True, False]}\n",
      "WARNING:root:Score is NaN for subset ('htf_poi_ltf_confirmation',) with combination (True,)\n",
      "WARNING:root:Score is NaN for subset ('htf_poi_ltf_confirmation',) with combination (False,)\n",
      "WARNING:root:Score is NaN for subset ('type_2_m5', 'htf_poi_ltf_confirmation') with combination (True, True)\n",
      "WARNING:root:Score is NaN for subset ('type_1_m5', 'type_2_m5', 'htf_poi_ltf_confirmation') with combination (False, True, True)\n",
      "WARNING:root:Score is NaN for subset ('type_2_m5', 'type_3_m5', 'htf_poi_ltf_confirmation') with combination (True, False, True)\n",
      "WARNING:root:Score is NaN for subset ('type_1_m5', 'type_2_m5', 'type_3_m5', 'htf_poi_ltf_confirmation') with combination (False, True, False, True)\n"
     ]
    },
    {
     "name": "stdout",
     "output_type": "stream",
     "text": [
      "Best subset: ('type_1_m5',)\n",
      "Best combination: (False,)\n",
      "Best score: 0.0031624999999999848\n",
      "Best subset: ('type_2_m5',)\n",
      "Best combination: (True,)\n",
      "Best score: 0.013700000000000045\n",
      "Best subset: ('type_2_m5',)\n",
      "Best combination: (True,)\n",
      "Best score: 0.013700000000000045\n"
     ]
    }
   ],
   "source": [
    "report_best_performing_tags_value(df_test, y_col='return', score_mode='mean', method='brute_force')"
   ]
  },
  {
   "cell_type": "code",
   "execution_count": 12,
   "metadata": {},
   "outputs": [
    {
     "name": "stderr",
     "output_type": "stream",
     "text": [
      "INFO:root:Unique values for each feature:\n",
      "{'type_1_m5': [False], 'type_2_m5': [False, True], 'type_3_m5': [False], 'htf_poi_ltf_confirmation': [True, False]}\n",
      "[I 2025-01-09 20:44:41,268] A new study created in memory with name: default_1\n"
     ]
    },
    {
     "data": {
      "application/vnd.jupyter.widget-view+json": {
       "model_id": "48e1f1253441420ab293d78e4256765e",
       "version_major": 2,
       "version_minor": 0
      },
      "text/plain": [
       "  0%|          | 0/100 [00:00<?, ?it/s]"
      ]
     },
     "metadata": {},
     "output_type": "display_data"
    },
    {
     "name": "stdout",
     "output_type": "stream",
     "text": [
      "[I 2025-01-09 20:44:41,275] Trial 0 finished with value: -inf and parameters: {'include_type_1_m5': False, 'include_type_2_m5': False, 'include_type_3_m5': False, 'include_htf_poi_ltf_confirmation': False}. Best is trial 0 with value: -inf.\n",
      "[I 2025-01-09 20:44:41,278] Trial 1 finished with value: 0.0016571428571428332 and parameters: {'include_type_1_m5': True, 'value_type_1_m5': False, 'include_type_2_m5': True, 'value_type_2_m5': False, 'include_type_3_m5': True, 'value_type_3_m5': False, 'include_htf_poi_ltf_confirmation': False}. Best is trial 1 with value: 0.0016571428571428332.\n",
      "[I 2025-01-09 20:44:41,281] Trial 2 finished with value: 0.0031624999999999848 and parameters: {'include_type_1_m5': True, 'value_type_1_m5': False, 'include_type_2_m5': False, 'include_type_3_m5': True, 'value_type_3_m5': False, 'include_htf_poi_ltf_confirmation': False}. Best is trial 2 with value: 0.0031624999999999848.\n",
      "[I 2025-01-09 20:44:41,285] Trial 3 finished with value: -0.0038333333333333552 and parameters: {'include_type_1_m5': False, 'include_type_2_m5': False, 'include_type_3_m5': True, 'value_type_3_m5': False, 'include_htf_poi_ltf_confirmation': True, 'value_htf_poi_ltf_confirmation': True}. Best is trial 2 with value: 0.0031624999999999848.\n",
      "[I 2025-01-09 20:44:41,288] Trial 4 finished with value: -inf and parameters: {'include_type_1_m5': False, 'include_type_2_m5': False, 'include_type_3_m5': False, 'include_htf_poi_ltf_confirmation': False}. Best is trial 2 with value: 0.0031624999999999848.\n",
      "[I 2025-01-09 20:44:41,292] Trial 5 finished with value: 0.0031624999999999848 and parameters: {'include_type_1_m5': False, 'include_type_2_m5': False, 'include_type_3_m5': True, 'value_type_3_m5': False, 'include_htf_poi_ltf_confirmation': False}. Best is trial 2 with value: 0.0031624999999999848.\n"
     ]
    },
    {
     "name": "stderr",
     "output_type": "stream",
     "text": [
      "WARNING:root:Score is NaN for trial with tags {'type_2_m5': True, 'htf_poi_ltf_confirmation': True}\n"
     ]
    },
    {
     "name": "stdout",
     "output_type": "stream",
     "text": [
      "[I 2025-01-09 20:44:41,330] Trial 6 finished with value: 0.0031624999999999848 and parameters: {'include_type_1_m5': False, 'include_type_2_m5': False, 'include_type_3_m5': True, 'value_type_3_m5': False, 'include_htf_poi_ltf_confirmation': False}. Best is trial 2 with value: 0.0031624999999999848.\n",
      "[I 2025-01-09 20:44:41,344] Trial 7 finished with value: 0.007359999999999989 and parameters: {'include_type_1_m5': False, 'include_type_2_m5': False, 'include_type_3_m5': False, 'include_htf_poi_ltf_confirmation': True, 'value_htf_poi_ltf_confirmation': False}. Best is trial 7 with value: 0.007359999999999989.\n",
      "[I 2025-01-09 20:44:41,347] Trial 8 finished with value: -inf and parameters: {'include_type_1_m5': False, 'include_type_2_m5': True, 'value_type_2_m5': True, 'include_type_3_m5': False, 'include_htf_poi_ltf_confirmation': True, 'value_htf_poi_ltf_confirmation': True}. Best is trial 7 with value: 0.007359999999999989.\n",
      "[I 2025-01-09 20:44:41,352] Trial 9 finished with value: 0.013700000000000045 and parameters: {'include_type_1_m5': False, 'include_type_2_m5': True, 'value_type_2_m5': True, 'include_type_3_m5': True, 'value_type_3_m5': False, 'include_htf_poi_ltf_confirmation': False}. Best is trial 9 with value: 0.013700000000000045.\n",
      "[I 2025-01-09 20:44:41,359] Trial 10 finished with value: 0.013700000000000045 and parameters: {'include_type_1_m5': True, 'value_type_1_m5': False, 'include_type_2_m5': True, 'value_type_2_m5': True, 'include_type_3_m5': True, 'value_type_3_m5': False, 'include_htf_poi_ltf_confirmation': True, 'value_htf_poi_ltf_confirmation': False}. Best is trial 9 with value: 0.013700000000000045.\n",
      "[I 2025-01-09 20:44:41,367] Trial 11 finished with value: 0.013700000000000045 and parameters: {'include_type_1_m5': True, 'value_type_1_m5': False, 'include_type_2_m5': True, 'value_type_2_m5': True, 'include_type_3_m5': True, 'value_type_3_m5': False, 'include_htf_poi_ltf_confirmation': True, 'value_htf_poi_ltf_confirmation': False}. Best is trial 9 with value: 0.013700000000000045.\n"
     ]
    },
    {
     "name": "stderr",
     "output_type": "stream",
     "text": [
      "WARNING:root:Score is NaN for trial with tags {'type_1_m5': False, 'type_2_m5': True, 'type_3_m5': False, 'htf_poi_ltf_confirmation': True}\n"
     ]
    },
    {
     "name": "stdout",
     "output_type": "stream",
     "text": [
      "[I 2025-01-09 20:44:41,372] Trial 12 finished with value: 0.013700000000000045 and parameters: {'include_type_1_m5': True, 'value_type_1_m5': False, 'include_type_2_m5': True, 'value_type_2_m5': True, 'include_type_3_m5': True, 'value_type_3_m5': False, 'include_htf_poi_ltf_confirmation': True, 'value_htf_poi_ltf_confirmation': False}. Best is trial 9 with value: 0.013700000000000045.\n",
      "[I 2025-01-09 20:44:41,377] Trial 13 finished with value: 0.013700000000000045 and parameters: {'include_type_1_m5': True, 'value_type_1_m5': False, 'include_type_2_m5': True, 'value_type_2_m5': True, 'include_type_3_m5': True, 'value_type_3_m5': False, 'include_htf_poi_ltf_confirmation': True, 'value_htf_poi_ltf_confirmation': False}. Best is trial 9 with value: 0.013700000000000045.\n",
      "[I 2025-01-09 20:44:41,382] Trial 14 finished with value: 0.013700000000000045 and parameters: {'include_type_1_m5': True, 'value_type_1_m5': False, 'include_type_2_m5': True, 'value_type_2_m5': True, 'include_type_3_m5': True, 'value_type_3_m5': False, 'include_htf_poi_ltf_confirmation': False}. Best is trial 9 with value: 0.013700000000000045.\n",
      "[I 2025-01-09 20:44:41,387] Trial 15 finished with value: 0.005774999999999975 and parameters: {'include_type_1_m5': True, 'value_type_1_m5': False, 'include_type_2_m5': True, 'value_type_2_m5': False, 'include_type_3_m5': True, 'value_type_3_m5': False, 'include_htf_poi_ltf_confirmation': True, 'value_htf_poi_ltf_confirmation': False}. Best is trial 9 with value: 0.013700000000000045.\n",
      "[I 2025-01-09 20:44:41,392] Trial 16 finished with value: -inf and parameters: {'include_type_1_m5': True, 'value_type_1_m5': False, 'include_type_2_m5': True, 'value_type_2_m5': True, 'include_type_3_m5': True, 'value_type_3_m5': False, 'include_htf_poi_ltf_confirmation': True, 'value_htf_poi_ltf_confirmation': True}. Best is trial 9 with value: 0.013700000000000045.\n",
      "[I 2025-01-09 20:44:41,396] Trial 17 finished with value: 0.013700000000000045 and parameters: {'include_type_1_m5': False, 'include_type_2_m5': True, 'value_type_2_m5': True, 'include_type_3_m5': True, 'value_type_3_m5': False, 'include_htf_poi_ltf_confirmation': False}. Best is trial 9 with value: 0.013700000000000045.\n",
      "[I 2025-01-09 20:44:41,399] Trial 18 finished with value: 0.0016571428571428332 and parameters: {'include_type_1_m5': False, 'include_type_2_m5': True, 'value_type_2_m5': False, 'include_type_3_m5': False, 'include_htf_poi_ltf_confirmation': False}. Best is trial 9 with value: 0.013700000000000045.\n",
      "[I 2025-01-09 20:44:41,404] Trial 19 finished with value: 0.013700000000000045 and parameters: {'include_type_1_m5': True, 'value_type_1_m5': False, 'include_type_2_m5': True, 'value_type_2_m5': True, 'include_type_3_m5': True, 'value_type_3_m5': False, 'include_htf_poi_ltf_confirmation': True, 'value_htf_poi_ltf_confirmation': False}. Best is trial 9 with value: 0.013700000000000045.\n",
      "[I 2025-01-09 20:44:41,411] Trial 20 finished with value: 0.013700000000000045 and parameters: {'include_type_1_m5': True, 'value_type_1_m5': False, 'include_type_2_m5': True, 'value_type_2_m5': True, 'include_type_3_m5': True, 'value_type_3_m5': False, 'include_htf_poi_ltf_confirmation': False}. Best is trial 9 with value: 0.013700000000000045.\n",
      "[I 2025-01-09 20:44:41,415] Trial 21 finished with value: 0.013700000000000045 and parameters: {'include_type_1_m5': True, 'value_type_1_m5': False, 'include_type_2_m5': True, 'value_type_2_m5': True, 'include_type_3_m5': True, 'value_type_3_m5': False, 'include_htf_poi_ltf_confirmation': True, 'value_htf_poi_ltf_confirmation': False}. Best is trial 9 with value: 0.013700000000000045.\n",
      "[I 2025-01-09 20:44:41,420] Trial 22 finished with value: 0.013700000000000045 and parameters: {'include_type_1_m5': True, 'value_type_1_m5': False, 'include_type_2_m5': True, 'value_type_2_m5': True, 'include_type_3_m5': True, 'value_type_3_m5': False, 'include_htf_poi_ltf_confirmation': True, 'value_htf_poi_ltf_confirmation': False}. Best is trial 9 with value: 0.013700000000000045.\n",
      "[I 2025-01-09 20:44:41,425] Trial 23 finished with value: 0.013700000000000045 and parameters: {'include_type_1_m5': True, 'value_type_1_m5': False, 'include_type_2_m5': True, 'value_type_2_m5': True, 'include_type_3_m5': True, 'value_type_3_m5': False, 'include_htf_poi_ltf_confirmation': True, 'value_htf_poi_ltf_confirmation': False}. Best is trial 9 with value: 0.013700000000000045.\n",
      "[I 2025-01-09 20:44:41,429] Trial 24 finished with value: 0.013700000000000045 and parameters: {'include_type_1_m5': True, 'value_type_1_m5': False, 'include_type_2_m5': True, 'value_type_2_m5': True, 'include_type_3_m5': True, 'value_type_3_m5': False, 'include_htf_poi_ltf_confirmation': True, 'value_htf_poi_ltf_confirmation': False}. Best is trial 9 with value: 0.013700000000000045.\n",
      "[I 2025-01-09 20:44:41,432] Trial 25 finished with value: -0.0038333333333333552 and parameters: {'include_type_1_m5': True, 'value_type_1_m5': False, 'include_type_2_m5': True, 'value_type_2_m5': False, 'include_type_3_m5': True, 'value_type_3_m5': False, 'include_htf_poi_ltf_confirmation': True, 'value_htf_poi_ltf_confirmation': True}. Best is trial 9 with value: 0.013700000000000045.\n",
      "[I 2025-01-09 20:44:41,436] Trial 26 finished with value: 0.013700000000000045 and parameters: {'include_type_1_m5': False, 'include_type_2_m5': True, 'value_type_2_m5': True, 'include_type_3_m5': False, 'include_htf_poi_ltf_confirmation': True, 'value_htf_poi_ltf_confirmation': False}. Best is trial 9 with value: 0.013700000000000045.\n",
      "[I 2025-01-09 20:44:41,441] Trial 27 finished with value: 0.013700000000000045 and parameters: {'include_type_1_m5': True, 'value_type_1_m5': False, 'include_type_2_m5': True, 'value_type_2_m5': True, 'include_type_3_m5': True, 'value_type_3_m5': False, 'include_htf_poi_ltf_confirmation': True, 'value_htf_poi_ltf_confirmation': False}. Best is trial 9 with value: 0.013700000000000045.\n",
      "[I 2025-01-09 20:44:41,445] Trial 28 finished with value: 0.013700000000000045 and parameters: {'include_type_1_m5': False, 'include_type_2_m5': True, 'value_type_2_m5': True, 'include_type_3_m5': True, 'value_type_3_m5': False, 'include_htf_poi_ltf_confirmation': False}. Best is trial 9 with value: 0.013700000000000045.\n",
      "[I 2025-01-09 20:44:41,449] Trial 29 finished with value: 0.0016571428571428332 and parameters: {'include_type_1_m5': False, 'include_type_2_m5': True, 'value_type_2_m5': False, 'include_type_3_m5': False, 'include_htf_poi_ltf_confirmation': False}. Best is trial 9 with value: 0.013700000000000045.\n",
      "[I 2025-01-09 20:44:41,453] Trial 30 finished with value: 0.013700000000000045 and parameters: {'include_type_1_m5': True, 'value_type_1_m5': False, 'include_type_2_m5': True, 'value_type_2_m5': True, 'include_type_3_m5': True, 'value_type_3_m5': False, 'include_htf_poi_ltf_confirmation': True, 'value_htf_poi_ltf_confirmation': False}. Best is trial 9 with value: 0.013700000000000045.\n",
      "[I 2025-01-09 20:44:41,457] Trial 31 finished with value: 0.013700000000000045 and parameters: {'include_type_1_m5': True, 'value_type_1_m5': False, 'include_type_2_m5': True, 'value_type_2_m5': True, 'include_type_3_m5': True, 'value_type_3_m5': False, 'include_htf_poi_ltf_confirmation': True, 'value_htf_poi_ltf_confirmation': False}. Best is trial 9 with value: 0.013700000000000045.\n",
      "[I 2025-01-09 20:44:41,461] Trial 32 finished with value: 0.013700000000000045 and parameters: {'include_type_1_m5': True, 'value_type_1_m5': False, 'include_type_2_m5': True, 'value_type_2_m5': True, 'include_type_3_m5': True, 'value_type_3_m5': False, 'include_htf_poi_ltf_confirmation': True, 'value_htf_poi_ltf_confirmation': False}. Best is trial 9 with value: 0.013700000000000045.\n",
      "[I 2025-01-09 20:44:41,465] Trial 33 finished with value: 0.013700000000000045 and parameters: {'include_type_1_m5': True, 'value_type_1_m5': False, 'include_type_2_m5': True, 'value_type_2_m5': True, 'include_type_3_m5': True, 'value_type_3_m5': False, 'include_htf_poi_ltf_confirmation': True, 'value_htf_poi_ltf_confirmation': False}. Best is trial 9 with value: 0.013700000000000045.\n",
      "[I 2025-01-09 20:44:41,469] Trial 34 finished with value: 0.013700000000000045 and parameters: {'include_type_1_m5': True, 'value_type_1_m5': False, 'include_type_2_m5': True, 'value_type_2_m5': True, 'include_type_3_m5': True, 'value_type_3_m5': False, 'include_htf_poi_ltf_confirmation': True, 'value_htf_poi_ltf_confirmation': False}. Best is trial 9 with value: 0.013700000000000045.\n",
      "[I 2025-01-09 20:44:41,473] Trial 35 finished with value: 0.0031624999999999848 and parameters: {'include_type_1_m5': True, 'value_type_1_m5': False, 'include_type_2_m5': False, 'include_type_3_m5': True, 'value_type_3_m5': False, 'include_htf_poi_ltf_confirmation': False}. Best is trial 9 with value: 0.013700000000000045.\n"
     ]
    },
    {
     "name": "stderr",
     "output_type": "stream",
     "text": [
      "WARNING:root:Score is NaN for trial with tags {'type_1_m5': False, 'type_2_m5': True, 'type_3_m5': False, 'htf_poi_ltf_confirmation': True}\n"
     ]
    },
    {
     "name": "stdout",
     "output_type": "stream",
     "text": [
      "[I 2025-01-09 20:44:41,513] Trial 36 finished with value: -inf and parameters: {'include_type_1_m5': True, 'value_type_1_m5': False, 'include_type_2_m5': True, 'value_type_2_m5': True, 'include_type_3_m5': True, 'value_type_3_m5': False, 'include_htf_poi_ltf_confirmation': True, 'value_htf_poi_ltf_confirmation': True}. Best is trial 9 with value: 0.013700000000000045.\n",
      "[I 2025-01-09 20:44:41,523] Trial 37 finished with value: 0.0031624999999999848 and parameters: {'include_type_1_m5': False, 'include_type_2_m5': False, 'include_type_3_m5': True, 'value_type_3_m5': False, 'include_htf_poi_ltf_confirmation': False}. Best is trial 9 with value: 0.013700000000000045.\n",
      "[I 2025-01-09 20:44:41,530] Trial 38 finished with value: 0.007359999999999989 and parameters: {'include_type_1_m5': True, 'value_type_1_m5': False, 'include_type_2_m5': False, 'include_type_3_m5': False, 'include_htf_poi_ltf_confirmation': True, 'value_htf_poi_ltf_confirmation': False}. Best is trial 9 with value: 0.013700000000000045.\n"
     ]
    },
    {
     "name": "stderr",
     "output_type": "stream",
     "text": [
      "WARNING:root:Score is NaN for trial with tags {'type_2_m5': True, 'type_3_m5': False, 'htf_poi_ltf_confirmation': True}\n"
     ]
    },
    {
     "name": "stdout",
     "output_type": "stream",
     "text": [
      "[I 2025-01-09 20:44:41,534] Trial 39 finished with value: 0.013700000000000045 and parameters: {'include_type_1_m5': False, 'include_type_2_m5': True, 'value_type_2_m5': True, 'include_type_3_m5': True, 'value_type_3_m5': False, 'include_htf_poi_ltf_confirmation': False}. Best is trial 9 with value: 0.013700000000000045.\n",
      "[I 2025-01-09 20:44:41,540] Trial 40 finished with value: 0.005774999999999975 and parameters: {'include_type_1_m5': False, 'include_type_2_m5': True, 'value_type_2_m5': False, 'include_type_3_m5': True, 'value_type_3_m5': False, 'include_htf_poi_ltf_confirmation': True, 'value_htf_poi_ltf_confirmation': False}. Best is trial 9 with value: 0.013700000000000045.\n",
      "[I 2025-01-09 20:44:41,545] Trial 41 finished with value: 0.013700000000000045 and parameters: {'include_type_1_m5': True, 'value_type_1_m5': False, 'include_type_2_m5': True, 'value_type_2_m5': True, 'include_type_3_m5': True, 'value_type_3_m5': False, 'include_htf_poi_ltf_confirmation': True, 'value_htf_poi_ltf_confirmation': False}. Best is trial 9 with value: 0.013700000000000045.\n",
      "[I 2025-01-09 20:44:41,551] Trial 42 finished with value: 0.013700000000000045 and parameters: {'include_type_1_m5': True, 'value_type_1_m5': False, 'include_type_2_m5': True, 'value_type_2_m5': True, 'include_type_3_m5': True, 'value_type_3_m5': False, 'include_htf_poi_ltf_confirmation': True, 'value_htf_poi_ltf_confirmation': False}. Best is trial 9 with value: 0.013700000000000045.\n",
      "[I 2025-01-09 20:44:41,556] Trial 43 finished with value: 0.013700000000000045 and parameters: {'include_type_1_m5': True, 'value_type_1_m5': False, 'include_type_2_m5': True, 'value_type_2_m5': True, 'include_type_3_m5': True, 'value_type_3_m5': False, 'include_htf_poi_ltf_confirmation': True, 'value_htf_poi_ltf_confirmation': False}. Best is trial 9 with value: 0.013700000000000045.\n",
      "[I 2025-01-09 20:44:41,560] Trial 44 finished with value: 0.013700000000000045 and parameters: {'include_type_1_m5': True, 'value_type_1_m5': False, 'include_type_2_m5': True, 'value_type_2_m5': True, 'include_type_3_m5': True, 'value_type_3_m5': False, 'include_htf_poi_ltf_confirmation': True, 'value_htf_poi_ltf_confirmation': False}. Best is trial 9 with value: 0.013700000000000045.\n",
      "[I 2025-01-09 20:44:41,564] Trial 45 finished with value: 0.007359999999999989 and parameters: {'include_type_1_m5': True, 'value_type_1_m5': False, 'include_type_2_m5': False, 'include_type_3_m5': True, 'value_type_3_m5': False, 'include_htf_poi_ltf_confirmation': True, 'value_htf_poi_ltf_confirmation': False}. Best is trial 9 with value: 0.013700000000000045.\n",
      "[I 2025-01-09 20:44:41,568] Trial 46 finished with value: 0.013700000000000045 and parameters: {'include_type_1_m5': True, 'value_type_1_m5': False, 'include_type_2_m5': True, 'value_type_2_m5': True, 'include_type_3_m5': False, 'include_htf_poi_ltf_confirmation': False}. Best is trial 9 with value: 0.013700000000000045.\n"
     ]
    },
    {
     "name": "stderr",
     "output_type": "stream",
     "text": [
      "WARNING:root:Score is NaN for trial with tags {'type_2_m5': True, 'type_3_m5': False, 'htf_poi_ltf_confirmation': True}\n",
      "WARNING:root:Score is NaN for trial with tags {'type_2_m5': True, 'type_3_m5': False, 'htf_poi_ltf_confirmation': True}\n"
     ]
    },
    {
     "name": "stdout",
     "output_type": "stream",
     "text": [
      "[I 2025-01-09 20:44:41,573] Trial 47 finished with value: -inf and parameters: {'include_type_1_m5': False, 'include_type_2_m5': True, 'value_type_2_m5': True, 'include_type_3_m5': True, 'value_type_3_m5': False, 'include_htf_poi_ltf_confirmation': True, 'value_htf_poi_ltf_confirmation': True}. Best is trial 9 with value: 0.013700000000000045.\n",
      "[I 2025-01-09 20:44:41,577] Trial 48 finished with value: 0.013700000000000045 and parameters: {'include_type_1_m5': True, 'value_type_1_m5': False, 'include_type_2_m5': True, 'value_type_2_m5': True, 'include_type_3_m5': True, 'value_type_3_m5': False, 'include_htf_poi_ltf_confirmation': False}. Best is trial 9 with value: 0.013700000000000045.\n",
      "[I 2025-01-09 20:44:41,581] Trial 49 finished with value: 0.007359999999999989 and parameters: {'include_type_1_m5': False, 'include_type_2_m5': False, 'include_type_3_m5': True, 'value_type_3_m5': False, 'include_htf_poi_ltf_confirmation': True, 'value_htf_poi_ltf_confirmation': False}. Best is trial 9 with value: 0.013700000000000045.\n",
      "[I 2025-01-09 20:44:41,586] Trial 50 finished with value: 0.005774999999999975 and parameters: {'include_type_1_m5': True, 'value_type_1_m5': False, 'include_type_2_m5': True, 'value_type_2_m5': False, 'include_type_3_m5': False, 'include_htf_poi_ltf_confirmation': True, 'value_htf_poi_ltf_confirmation': False}. Best is trial 9 with value: 0.013700000000000045.\n",
      "[I 2025-01-09 20:44:41,593] Trial 51 finished with value: 0.013700000000000045 and parameters: {'include_type_1_m5': True, 'value_type_1_m5': False, 'include_type_2_m5': True, 'value_type_2_m5': True, 'include_type_3_m5': True, 'value_type_3_m5': False, 'include_htf_poi_ltf_confirmation': False}. Best is trial 9 with value: 0.013700000000000045.\n",
      "[I 2025-01-09 20:44:41,597] Trial 52 finished with value: 0.013700000000000045 and parameters: {'include_type_1_m5': True, 'value_type_1_m5': False, 'include_type_2_m5': True, 'value_type_2_m5': True, 'include_type_3_m5': True, 'value_type_3_m5': False, 'include_htf_poi_ltf_confirmation': False}. Best is trial 9 with value: 0.013700000000000045.\n",
      "[I 2025-01-09 20:44:41,601] Trial 53 finished with value: 0.013700000000000045 and parameters: {'include_type_1_m5': True, 'value_type_1_m5': False, 'include_type_2_m5': True, 'value_type_2_m5': True, 'include_type_3_m5': True, 'value_type_3_m5': False, 'include_htf_poi_ltf_confirmation': False}. Best is trial 9 with value: 0.013700000000000045.\n",
      "[I 2025-01-09 20:44:41,605] Trial 54 finished with value: 0.013700000000000045 and parameters: {'include_type_1_m5': True, 'value_type_1_m5': False, 'include_type_2_m5': True, 'value_type_2_m5': True, 'include_type_3_m5': True, 'value_type_3_m5': False, 'include_htf_poi_ltf_confirmation': False}. Best is trial 9 with value: 0.013700000000000045.\n",
      "[I 2025-01-09 20:44:41,610] Trial 55 finished with value: 0.013700000000000045 and parameters: {'include_type_1_m5': True, 'value_type_1_m5': False, 'include_type_2_m5': True, 'value_type_2_m5': True, 'include_type_3_m5': True, 'value_type_3_m5': False, 'include_htf_poi_ltf_confirmation': False}. Best is trial 9 with value: 0.013700000000000045.\n",
      "[I 2025-01-09 20:44:41,613] Trial 56 finished with value: 0.013700000000000045 and parameters: {'include_type_1_m5': True, 'value_type_1_m5': False, 'include_type_2_m5': True, 'value_type_2_m5': True, 'include_type_3_m5': True, 'value_type_3_m5': False, 'include_htf_poi_ltf_confirmation': False}. Best is trial 9 with value: 0.013700000000000045.\n",
      "[I 2025-01-09 20:44:41,617] Trial 57 finished with value: -inf and parameters: {'include_type_1_m5': False, 'include_type_2_m5': True, 'value_type_2_m5': True, 'include_type_3_m5': True, 'value_type_3_m5': False, 'include_htf_poi_ltf_confirmation': True, 'value_htf_poi_ltf_confirmation': True}. Best is trial 9 with value: 0.013700000000000045.\n",
      "[I 2025-01-09 20:44:41,621] Trial 58 finished with value: 0.005774999999999975 and parameters: {'include_type_1_m5': True, 'value_type_1_m5': False, 'include_type_2_m5': True, 'value_type_2_m5': False, 'include_type_3_m5': True, 'value_type_3_m5': False, 'include_htf_poi_ltf_confirmation': True, 'value_htf_poi_ltf_confirmation': False}. Best is trial 9 with value: 0.013700000000000045.\n",
      "[I 2025-01-09 20:44:41,627] Trial 59 finished with value: 0.013700000000000045 and parameters: {'include_type_1_m5': True, 'value_type_1_m5': False, 'include_type_2_m5': True, 'value_type_2_m5': True, 'include_type_3_m5': True, 'value_type_3_m5': False, 'include_htf_poi_ltf_confirmation': False}. Best is trial 9 with value: 0.013700000000000045.\n",
      "[I 2025-01-09 20:44:41,632] Trial 60 finished with value: 0.013700000000000045 and parameters: {'include_type_1_m5': False, 'include_type_2_m5': True, 'value_type_2_m5': True, 'include_type_3_m5': False, 'include_htf_poi_ltf_confirmation': True, 'value_htf_poi_ltf_confirmation': False}. Best is trial 9 with value: 0.013700000000000045.\n",
      "[I 2025-01-09 20:44:41,636] Trial 61 finished with value: 0.013700000000000045 and parameters: {'include_type_1_m5': False, 'include_type_2_m5': True, 'value_type_2_m5': True, 'include_type_3_m5': True, 'value_type_3_m5': False, 'include_htf_poi_ltf_confirmation': False}. Best is trial 9 with value: 0.013700000000000045.\n",
      "[I 2025-01-09 20:44:41,641] Trial 62 finished with value: 0.013700000000000045 and parameters: {'include_type_1_m5': False, 'include_type_2_m5': True, 'value_type_2_m5': True, 'include_type_3_m5': True, 'value_type_3_m5': False, 'include_htf_poi_ltf_confirmation': False}. Best is trial 9 with value: 0.013700000000000045.\n",
      "[I 2025-01-09 20:44:41,645] Trial 63 finished with value: 0.013700000000000045 and parameters: {'include_type_1_m5': False, 'include_type_2_m5': True, 'value_type_2_m5': True, 'include_type_3_m5': True, 'value_type_3_m5': False, 'include_htf_poi_ltf_confirmation': False}. Best is trial 9 with value: 0.013700000000000045.\n",
      "[I 2025-01-09 20:44:41,649] Trial 64 finished with value: 0.013700000000000045 and parameters: {'include_type_1_m5': False, 'include_type_2_m5': True, 'value_type_2_m5': True, 'include_type_3_m5': True, 'value_type_3_m5': False, 'include_htf_poi_ltf_confirmation': False}. Best is trial 9 with value: 0.013700000000000045.\n",
      "[I 2025-01-09 20:44:41,652] Trial 65 finished with value: 0.013700000000000045 and parameters: {'include_type_1_m5': True, 'value_type_1_m5': False, 'include_type_2_m5': True, 'value_type_2_m5': True, 'include_type_3_m5': True, 'value_type_3_m5': False, 'include_htf_poi_ltf_confirmation': False}. Best is trial 9 with value: 0.013700000000000045.\n",
      "[I 2025-01-09 20:44:41,657] Trial 66 finished with value: -inf and parameters: {'include_type_1_m5': False, 'include_type_2_m5': True, 'value_type_2_m5': True, 'include_type_3_m5': True, 'value_type_3_m5': False, 'include_htf_poi_ltf_confirmation': True, 'value_htf_poi_ltf_confirmation': True}. Best is trial 9 with value: 0.013700000000000045.\n",
      "[I 2025-01-09 20:44:41,662] Trial 67 finished with value: 0.007359999999999989 and parameters: {'include_type_1_m5': True, 'value_type_1_m5': False, 'include_type_2_m5': False, 'include_type_3_m5': True, 'value_type_3_m5': False, 'include_htf_poi_ltf_confirmation': True, 'value_htf_poi_ltf_confirmation': False}. Best is trial 9 with value: 0.013700000000000045.\n",
      "[I 2025-01-09 20:44:41,666] Trial 68 finished with value: 0.0016571428571428332 and parameters: {'include_type_1_m5': True, 'value_type_1_m5': False, 'include_type_2_m5': True, 'value_type_2_m5': False, 'include_type_3_m5': True, 'value_type_3_m5': False, 'include_htf_poi_ltf_confirmation': False}. Best is trial 9 with value: 0.013700000000000045.\n",
      "[I 2025-01-09 20:44:41,670] Trial 69 finished with value: 0.013700000000000045 and parameters: {'include_type_1_m5': False, 'include_type_2_m5': True, 'value_type_2_m5': True, 'include_type_3_m5': True, 'value_type_3_m5': False, 'include_htf_poi_ltf_confirmation': True, 'value_htf_poi_ltf_confirmation': False}. Best is trial 9 with value: 0.013700000000000045.\n",
      "[I 2025-01-09 20:44:41,708] Trial 70 finished with value: 0.013700000000000045 and parameters: {'include_type_1_m5': True, 'value_type_1_m5': False, 'include_type_2_m5': True, 'value_type_2_m5': True, 'include_type_3_m5': True, 'value_type_3_m5': False, 'include_htf_poi_ltf_confirmation': True, 'value_htf_poi_ltf_confirmation': False}. Best is trial 9 with value: 0.013700000000000045.\n",
      "[I 2025-01-09 20:44:41,720] Trial 71 finished with value: 0.013700000000000045 and parameters: {'include_type_1_m5': True, 'value_type_1_m5': False, 'include_type_2_m5': True, 'value_type_2_m5': True, 'include_type_3_m5': True, 'value_type_3_m5': False, 'include_htf_poi_ltf_confirmation': True, 'value_htf_poi_ltf_confirmation': False}. Best is trial 9 with value: 0.013700000000000045.\n",
      "[I 2025-01-09 20:44:41,727] Trial 72 finished with value: 0.013700000000000045 and parameters: {'include_type_1_m5': True, 'value_type_1_m5': False, 'include_type_2_m5': True, 'value_type_2_m5': True, 'include_type_3_m5': True, 'value_type_3_m5': False, 'include_htf_poi_ltf_confirmation': True, 'value_htf_poi_ltf_confirmation': False}. Best is trial 9 with value: 0.013700000000000045.\n",
      "[I 2025-01-09 20:44:41,730] Trial 73 finished with value: 0.013700000000000045 and parameters: {'include_type_1_m5': True, 'value_type_1_m5': False, 'include_type_2_m5': True, 'value_type_2_m5': True, 'include_type_3_m5': True, 'value_type_3_m5': False, 'include_htf_poi_ltf_confirmation': True, 'value_htf_poi_ltf_confirmation': False}. Best is trial 9 with value: 0.013700000000000045.\n"
     ]
    },
    {
     "name": "stderr",
     "output_type": "stream",
     "text": [
      "WARNING:root:Score is NaN for trial with tags {'type_1_m5': False, 'type_2_m5': True, 'type_3_m5': False, 'htf_poi_ltf_confirmation': True}\n"
     ]
    },
    {
     "name": "stdout",
     "output_type": "stream",
     "text": [
      "[I 2025-01-09 20:44:41,737] Trial 74 finished with value: 0.013700000000000045 and parameters: {'include_type_1_m5': True, 'value_type_1_m5': False, 'include_type_2_m5': True, 'value_type_2_m5': True, 'include_type_3_m5': True, 'value_type_3_m5': False, 'include_htf_poi_ltf_confirmation': True, 'value_htf_poi_ltf_confirmation': False}. Best is trial 9 with value: 0.013700000000000045.\n",
      "[I 2025-01-09 20:44:41,743] Trial 75 finished with value: 0.013700000000000045 and parameters: {'include_type_1_m5': True, 'value_type_1_m5': False, 'include_type_2_m5': True, 'value_type_2_m5': True, 'include_type_3_m5': False, 'include_htf_poi_ltf_confirmation': True, 'value_htf_poi_ltf_confirmation': False}. Best is trial 9 with value: 0.013700000000000045.\n",
      "[I 2025-01-09 20:44:41,748] Trial 76 finished with value: -inf and parameters: {'include_type_1_m5': True, 'value_type_1_m5': False, 'include_type_2_m5': True, 'value_type_2_m5': True, 'include_type_3_m5': True, 'value_type_3_m5': False, 'include_htf_poi_ltf_confirmation': True, 'value_htf_poi_ltf_confirmation': True}. Best is trial 9 with value: 0.013700000000000045.\n",
      "[I 2025-01-09 20:44:41,756] Trial 77 finished with value: 0.0031624999999999848 and parameters: {'include_type_1_m5': False, 'include_type_2_m5': False, 'include_type_3_m5': True, 'value_type_3_m5': False, 'include_htf_poi_ltf_confirmation': False}. Best is trial 9 with value: 0.013700000000000045.\n",
      "[I 2025-01-09 20:44:41,761] Trial 78 finished with value: 0.013700000000000045 and parameters: {'include_type_1_m5': True, 'value_type_1_m5': False, 'include_type_2_m5': True, 'value_type_2_m5': True, 'include_type_3_m5': True, 'value_type_3_m5': False, 'include_htf_poi_ltf_confirmation': True, 'value_htf_poi_ltf_confirmation': False}. Best is trial 9 with value: 0.013700000000000045.\n",
      "[I 2025-01-09 20:44:41,766] Trial 79 finished with value: 0.005774999999999975 and parameters: {'include_type_1_m5': True, 'value_type_1_m5': False, 'include_type_2_m5': True, 'value_type_2_m5': False, 'include_type_3_m5': True, 'value_type_3_m5': False, 'include_htf_poi_ltf_confirmation': True, 'value_htf_poi_ltf_confirmation': False}. Best is trial 9 with value: 0.013700000000000045.\n",
      "[I 2025-01-09 20:44:41,770] Trial 80 finished with value: 0.013700000000000045 and parameters: {'include_type_1_m5': True, 'value_type_1_m5': False, 'include_type_2_m5': True, 'value_type_2_m5': True, 'include_type_3_m5': True, 'value_type_3_m5': False, 'include_htf_poi_ltf_confirmation': False}. Best is trial 9 with value: 0.013700000000000045.\n"
     ]
    },
    {
     "name": "stderr",
     "output_type": "stream",
     "text": [
      "WARNING:root:Score is NaN for trial with tags {'type_2_m5': True, 'type_3_m5': False, 'htf_poi_ltf_confirmation': True}\n"
     ]
    },
    {
     "name": "stdout",
     "output_type": "stream",
     "text": [
      "[I 2025-01-09 20:44:41,778] Trial 81 finished with value: 0.013700000000000045 and parameters: {'include_type_1_m5': True, 'value_type_1_m5': False, 'include_type_2_m5': True, 'value_type_2_m5': True, 'include_type_3_m5': True, 'value_type_3_m5': False, 'include_htf_poi_ltf_confirmation': False}. Best is trial 9 with value: 0.013700000000000045.\n",
      "[I 2025-01-09 20:44:41,782] Trial 82 finished with value: 0.013700000000000045 and parameters: {'include_type_1_m5': True, 'value_type_1_m5': False, 'include_type_2_m5': True, 'value_type_2_m5': True, 'include_type_3_m5': True, 'value_type_3_m5': False, 'include_htf_poi_ltf_confirmation': False}. Best is trial 9 with value: 0.013700000000000045.\n",
      "[I 2025-01-09 20:44:41,787] Trial 83 finished with value: 0.013700000000000045 and parameters: {'include_type_1_m5': True, 'value_type_1_m5': False, 'include_type_2_m5': True, 'value_type_2_m5': True, 'include_type_3_m5': True, 'value_type_3_m5': False, 'include_htf_poi_ltf_confirmation': False}. Best is trial 9 with value: 0.013700000000000045.\n",
      "[I 2025-01-09 20:44:41,794] Trial 84 finished with value: 0.013700000000000045 and parameters: {'include_type_1_m5': True, 'value_type_1_m5': False, 'include_type_2_m5': True, 'value_type_2_m5': True, 'include_type_3_m5': True, 'value_type_3_m5': False, 'include_htf_poi_ltf_confirmation': False}. Best is trial 9 with value: 0.013700000000000045.\n",
      "[I 2025-01-09 20:44:41,798] Trial 85 finished with value: 0.013700000000000045 and parameters: {'include_type_1_m5': True, 'value_type_1_m5': False, 'include_type_2_m5': True, 'value_type_2_m5': True, 'include_type_3_m5': True, 'value_type_3_m5': False, 'include_htf_poi_ltf_confirmation': False}. Best is trial 9 with value: 0.013700000000000045.\n",
      "[I 2025-01-09 20:44:41,803] Trial 86 finished with value: 0.013700000000000045 and parameters: {'include_type_1_m5': False, 'include_type_2_m5': True, 'value_type_2_m5': True, 'include_type_3_m5': False, 'include_htf_poi_ltf_confirmation': True, 'value_htf_poi_ltf_confirmation': False}. Best is trial 9 with value: 0.013700000000000045.\n",
      "[I 2025-01-09 20:44:41,808] Trial 87 finished with value: 0.013700000000000045 and parameters: {'include_type_1_m5': True, 'value_type_1_m5': False, 'include_type_2_m5': True, 'value_type_2_m5': True, 'include_type_3_m5': True, 'value_type_3_m5': False, 'include_htf_poi_ltf_confirmation': False}. Best is trial 9 with value: 0.013700000000000045.\n",
      "[I 2025-01-09 20:44:41,813] Trial 88 finished with value: 0.007359999999999989 and parameters: {'include_type_1_m5': True, 'value_type_1_m5': False, 'include_type_2_m5': False, 'include_type_3_m5': True, 'value_type_3_m5': False, 'include_htf_poi_ltf_confirmation': True, 'value_htf_poi_ltf_confirmation': False}. Best is trial 9 with value: 0.013700000000000045.\n",
      "[I 2025-01-09 20:44:41,817] Trial 89 finished with value: -inf and parameters: {'include_type_1_m5': False, 'include_type_2_m5': True, 'value_type_2_m5': True, 'include_type_3_m5': True, 'value_type_3_m5': False, 'include_htf_poi_ltf_confirmation': True, 'value_htf_poi_ltf_confirmation': True}. Best is trial 9 with value: 0.013700000000000045.\n",
      "[I 2025-01-09 20:44:41,822] Trial 90 finished with value: 0.013700000000000045 and parameters: {'include_type_1_m5': True, 'value_type_1_m5': False, 'include_type_2_m5': True, 'value_type_2_m5': True, 'include_type_3_m5': True, 'value_type_3_m5': False, 'include_htf_poi_ltf_confirmation': False}. Best is trial 9 with value: 0.013700000000000045.\n",
      "[I 2025-01-09 20:44:41,831] Trial 91 finished with value: 0.013700000000000045 and parameters: {'include_type_1_m5': True, 'value_type_1_m5': False, 'include_type_2_m5': True, 'value_type_2_m5': True, 'include_type_3_m5': True, 'value_type_3_m5': False, 'include_htf_poi_ltf_confirmation': True, 'value_htf_poi_ltf_confirmation': False}. Best is trial 9 with value: 0.013700000000000045.\n",
      "[I 2025-01-09 20:44:41,835] Trial 92 finished with value: 0.013700000000000045 and parameters: {'include_type_1_m5': True, 'value_type_1_m5': False, 'include_type_2_m5': True, 'value_type_2_m5': True, 'include_type_3_m5': True, 'value_type_3_m5': False, 'include_htf_poi_ltf_confirmation': True, 'value_htf_poi_ltf_confirmation': False}. Best is trial 9 with value: 0.013700000000000045.\n",
      "[I 2025-01-09 20:44:41,840] Trial 93 finished with value: 0.013700000000000045 and parameters: {'include_type_1_m5': True, 'value_type_1_m5': False, 'include_type_2_m5': True, 'value_type_2_m5': True, 'include_type_3_m5': True, 'value_type_3_m5': False, 'include_htf_poi_ltf_confirmation': True, 'value_htf_poi_ltf_confirmation': False}. Best is trial 9 with value: 0.013700000000000045.\n",
      "[I 2025-01-09 20:44:41,845] Trial 94 finished with value: 0.013700000000000045 and parameters: {'include_type_1_m5': True, 'value_type_1_m5': False, 'include_type_2_m5': True, 'value_type_2_m5': True, 'include_type_3_m5': True, 'value_type_3_m5': False, 'include_htf_poi_ltf_confirmation': True, 'value_htf_poi_ltf_confirmation': False}. Best is trial 9 with value: 0.013700000000000045.\n",
      "[I 2025-01-09 20:44:41,850] Trial 95 finished with value: 0.005774999999999975 and parameters: {'include_type_1_m5': True, 'value_type_1_m5': False, 'include_type_2_m5': True, 'value_type_2_m5': False, 'include_type_3_m5': True, 'value_type_3_m5': False, 'include_htf_poi_ltf_confirmation': True, 'value_htf_poi_ltf_confirmation': False}. Best is trial 9 with value: 0.013700000000000045.\n",
      "[I 2025-01-09 20:44:41,855] Trial 96 finished with value: 0.013700000000000045 and parameters: {'include_type_1_m5': False, 'include_type_2_m5': True, 'value_type_2_m5': True, 'include_type_3_m5': True, 'value_type_3_m5': False, 'include_htf_poi_ltf_confirmation': False}. Best is trial 9 with value: 0.013700000000000045.\n",
      "[I 2025-01-09 20:44:41,860] Trial 97 finished with value: 0.013700000000000045 and parameters: {'include_type_1_m5': True, 'value_type_1_m5': False, 'include_type_2_m5': True, 'value_type_2_m5': True, 'include_type_3_m5': True, 'value_type_3_m5': False, 'include_htf_poi_ltf_confirmation': True, 'value_htf_poi_ltf_confirmation': False}. Best is trial 9 with value: 0.013700000000000045.\n",
      "[I 2025-01-09 20:44:41,864] Trial 98 finished with value: 0.013700000000000045 and parameters: {'include_type_1_m5': True, 'value_type_1_m5': False, 'include_type_2_m5': True, 'value_type_2_m5': True, 'include_type_3_m5': False, 'include_htf_poi_ltf_confirmation': True, 'value_htf_poi_ltf_confirmation': False}. Best is trial 9 with value: 0.013700000000000045.\n",
      "[I 2025-01-09 20:44:41,869] Trial 99 finished with value: 0.013700000000000045 and parameters: {'include_type_1_m5': True, 'value_type_1_m5': False, 'include_type_2_m5': True, 'value_type_2_m5': True, 'include_type_3_m5': True, 'value_type_3_m5': False, 'include_htf_poi_ltf_confirmation': False}. Best is trial 9 with value: 0.013700000000000045.\n",
      "Best parameters: {'include_type_1_m5': False, 'include_type_2_m5': True, 'value_type_2_m5': True, 'include_type_3_m5': True, 'value_type_3_m5': False, 'include_htf_poi_ltf_confirmation': False}\n",
      "Best score: 0.013700000000000045\n"
     ]
    }
   ],
   "source": [
    "import src.tradecli\n",
    "cfg = src.tradecli.ReportOptunaConfig(study_name='default_1')\n",
    "res = report_best_performing_tags_value(df_test, \n",
    "                                  y_col='return', \n",
    "                                  score_mode='mean', method='optuna', config=cfg)"
   ]
  },
  {
   "cell_type": "code",
   "execution_count": 13,
   "metadata": {},
   "outputs": [
    {
     "data": {
      "text/plain": [
       "(<optuna.study.study.Study at 0x171206060>,\n",
       " {'include_type_1_m5': False,\n",
       "  'include_type_2_m5': True,\n",
       "  'value_type_2_m5': True,\n",
       "  'include_type_3_m5': True,\n",
       "  'value_type_3_m5': False,\n",
       "  'include_htf_poi_ltf_confirmation': False},\n",
       " 0.013700000000000045)"
      ]
     },
     "execution_count": 13,
     "metadata": {},
     "output_type": "execute_result"
    }
   ],
   "source": [
    "res"
   ]
  },
  {
   "cell_type": "code",
   "execution_count": 14,
   "metadata": {},
   "outputs": [],
   "source": [
    "res[0].best_trial\n",
    "study = res[0]"
   ]
  },
  {
   "cell_type": "code",
   "execution_count": 17,
   "metadata": {},
   "outputs": [
    {
     "data": {
      "application/vnd.plotly.v1+json": {
       "config": {
        "plotlyServerURL": "https://plot.ly"
       },
       "data": [
        {
         "mode": "markers",
         "name": "Objective Value",
         "type": "scatter",
         "x": [
          0,
          1,
          2,
          3,
          4,
          5,
          6,
          7,
          8,
          9,
          10,
          11,
          12,
          13,
          14,
          15,
          16,
          17,
          18,
          19,
          20,
          21,
          22,
          23,
          24,
          25,
          26,
          27,
          28,
          29,
          30,
          31,
          32,
          33,
          34,
          35,
          36,
          37,
          38,
          39,
          40,
          41,
          42,
          43,
          44,
          45,
          46,
          47,
          48,
          49,
          50,
          51,
          52,
          53,
          54,
          55,
          56,
          57,
          58,
          59,
          60,
          61,
          62,
          63,
          64,
          65,
          66,
          67,
          68,
          69,
          70,
          71,
          72,
          73,
          74,
          75,
          76,
          77,
          78,
          79,
          80,
          81,
          82,
          83,
          84,
          85,
          86,
          87,
          88,
          89,
          90,
          91,
          92,
          93,
          94,
          95,
          96,
          97,
          98,
          99
         ],
         "y": [
          null,
          0.0016571428571428332,
          0.0031624999999999848,
          -0.0038333333333333552,
          null,
          0.0031624999999999848,
          0.0031624999999999848,
          0.007359999999999989,
          null,
          0.013700000000000045,
          0.013700000000000045,
          0.013700000000000045,
          0.013700000000000045,
          0.013700000000000045,
          0.013700000000000045,
          0.005774999999999975,
          null,
          0.013700000000000045,
          0.0016571428571428332,
          0.013700000000000045,
          0.013700000000000045,
          0.013700000000000045,
          0.013700000000000045,
          0.013700000000000045,
          0.013700000000000045,
          -0.0038333333333333552,
          0.013700000000000045,
          0.013700000000000045,
          0.013700000000000045,
          0.0016571428571428332,
          0.013700000000000045,
          0.013700000000000045,
          0.013700000000000045,
          0.013700000000000045,
          0.013700000000000045,
          0.0031624999999999848,
          null,
          0.0031624999999999848,
          0.007359999999999989,
          0.013700000000000045,
          0.005774999999999975,
          0.013700000000000045,
          0.013700000000000045,
          0.013700000000000045,
          0.013700000000000045,
          0.007359999999999989,
          0.013700000000000045,
          null,
          0.013700000000000045,
          0.007359999999999989,
          0.005774999999999975,
          0.013700000000000045,
          0.013700000000000045,
          0.013700000000000045,
          0.013700000000000045,
          0.013700000000000045,
          0.013700000000000045,
          null,
          0.005774999999999975,
          0.013700000000000045,
          0.013700000000000045,
          0.013700000000000045,
          0.013700000000000045,
          0.013700000000000045,
          0.013700000000000045,
          0.013700000000000045,
          null,
          0.007359999999999989,
          0.0016571428571428332,
          0.013700000000000045,
          0.013700000000000045,
          0.013700000000000045,
          0.013700000000000045,
          0.013700000000000045,
          0.013700000000000045,
          0.013700000000000045,
          null,
          0.0031624999999999848,
          0.013700000000000045,
          0.005774999999999975,
          0.013700000000000045,
          0.013700000000000045,
          0.013700000000000045,
          0.013700000000000045,
          0.013700000000000045,
          0.013700000000000045,
          0.013700000000000045,
          0.013700000000000045,
          0.007359999999999989,
          null,
          0.013700000000000045,
          0.013700000000000045,
          0.013700000000000045,
          0.013700000000000045,
          0.013700000000000045,
          0.005774999999999975,
          0.013700000000000045,
          0.013700000000000045,
          0.013700000000000045,
          0.013700000000000045
         ]
        },
        {
         "mode": "lines",
         "name": "Best Value",
         "type": "scatter",
         "x": [
          0,
          1,
          2,
          3,
          4,
          5,
          6,
          7,
          8,
          9,
          10,
          11,
          12,
          13,
          14,
          15,
          16,
          17,
          18,
          19,
          20,
          21,
          22,
          23,
          24,
          25,
          26,
          27,
          28,
          29,
          30,
          31,
          32,
          33,
          34,
          35,
          36,
          37,
          38,
          39,
          40,
          41,
          42,
          43,
          44,
          45,
          46,
          47,
          48,
          49,
          50,
          51,
          52,
          53,
          54,
          55,
          56,
          57,
          58,
          59,
          60,
          61,
          62,
          63,
          64,
          65,
          66,
          67,
          68,
          69,
          70,
          71,
          72,
          73,
          74,
          75,
          76,
          77,
          78,
          79,
          80,
          81,
          82,
          83,
          84,
          85,
          86,
          87,
          88,
          89,
          90,
          91,
          92,
          93,
          94,
          95,
          96,
          97,
          98,
          99
         ],
         "y": [
          null,
          0.0016571428571428332,
          0.0031624999999999848,
          0.0031624999999999848,
          0.0031624999999999848,
          0.0031624999999999848,
          0.0031624999999999848,
          0.007359999999999989,
          0.007359999999999989,
          0.013700000000000045,
          0.013700000000000045,
          0.013700000000000045,
          0.013700000000000045,
          0.013700000000000045,
          0.013700000000000045,
          0.013700000000000045,
          0.013700000000000045,
          0.013700000000000045,
          0.013700000000000045,
          0.013700000000000045,
          0.013700000000000045,
          0.013700000000000045,
          0.013700000000000045,
          0.013700000000000045,
          0.013700000000000045,
          0.013700000000000045,
          0.013700000000000045,
          0.013700000000000045,
          0.013700000000000045,
          0.013700000000000045,
          0.013700000000000045,
          0.013700000000000045,
          0.013700000000000045,
          0.013700000000000045,
          0.013700000000000045,
          0.013700000000000045,
          0.013700000000000045,
          0.013700000000000045,
          0.013700000000000045,
          0.013700000000000045,
          0.013700000000000045,
          0.013700000000000045,
          0.013700000000000045,
          0.013700000000000045,
          0.013700000000000045,
          0.013700000000000045,
          0.013700000000000045,
          0.013700000000000045,
          0.013700000000000045,
          0.013700000000000045,
          0.013700000000000045,
          0.013700000000000045,
          0.013700000000000045,
          0.013700000000000045,
          0.013700000000000045,
          0.013700000000000045,
          0.013700000000000045,
          0.013700000000000045,
          0.013700000000000045,
          0.013700000000000045,
          0.013700000000000045,
          0.013700000000000045,
          0.013700000000000045,
          0.013700000000000045,
          0.013700000000000045,
          0.013700000000000045,
          0.013700000000000045,
          0.013700000000000045,
          0.013700000000000045,
          0.013700000000000045,
          0.013700000000000045,
          0.013700000000000045,
          0.013700000000000045,
          0.013700000000000045,
          0.013700000000000045,
          0.013700000000000045,
          0.013700000000000045,
          0.013700000000000045,
          0.013700000000000045,
          0.013700000000000045,
          0.013700000000000045,
          0.013700000000000045,
          0.013700000000000045,
          0.013700000000000045,
          0.013700000000000045,
          0.013700000000000045,
          0.013700000000000045,
          0.013700000000000045,
          0.013700000000000045,
          0.013700000000000045,
          0.013700000000000045,
          0.013700000000000045,
          0.013700000000000045,
          0.013700000000000045,
          0.013700000000000045,
          0.013700000000000045,
          0.013700000000000045,
          0.013700000000000045,
          0.013700000000000045,
          0.013700000000000045
         ]
        },
        {
         "marker": {
          "color": "#cccccc"
         },
         "mode": "markers",
         "name": "Infeasible Trial",
         "showlegend": false,
         "type": "scatter",
         "x": [],
         "y": []
        }
       ],
       "layout": {
        "template": {
         "data": {
          "bar": [
           {
            "error_x": {
             "color": "#2a3f5f"
            },
            "error_y": {
             "color": "#2a3f5f"
            },
            "marker": {
             "line": {
              "color": "#E5ECF6",
              "width": 0.5
             },
             "pattern": {
              "fillmode": "overlay",
              "size": 10,
              "solidity": 0.2
             }
            },
            "type": "bar"
           }
          ],
          "barpolar": [
           {
            "marker": {
             "line": {
              "color": "#E5ECF6",
              "width": 0.5
             },
             "pattern": {
              "fillmode": "overlay",
              "size": 10,
              "solidity": 0.2
             }
            },
            "type": "barpolar"
           }
          ],
          "carpet": [
           {
            "aaxis": {
             "endlinecolor": "#2a3f5f",
             "gridcolor": "white",
             "linecolor": "white",
             "minorgridcolor": "white",
             "startlinecolor": "#2a3f5f"
            },
            "baxis": {
             "endlinecolor": "#2a3f5f",
             "gridcolor": "white",
             "linecolor": "white",
             "minorgridcolor": "white",
             "startlinecolor": "#2a3f5f"
            },
            "type": "carpet"
           }
          ],
          "choropleth": [
           {
            "colorbar": {
             "outlinewidth": 0,
             "ticks": ""
            },
            "type": "choropleth"
           }
          ],
          "contour": [
           {
            "colorbar": {
             "outlinewidth": 0,
             "ticks": ""
            },
            "colorscale": [
             [
              0,
              "#0d0887"
             ],
             [
              0.1111111111111111,
              "#46039f"
             ],
             [
              0.2222222222222222,
              "#7201a8"
             ],
             [
              0.3333333333333333,
              "#9c179e"
             ],
             [
              0.4444444444444444,
              "#bd3786"
             ],
             [
              0.5555555555555556,
              "#d8576b"
             ],
             [
              0.6666666666666666,
              "#ed7953"
             ],
             [
              0.7777777777777778,
              "#fb9f3a"
             ],
             [
              0.8888888888888888,
              "#fdca26"
             ],
             [
              1,
              "#f0f921"
             ]
            ],
            "type": "contour"
           }
          ],
          "contourcarpet": [
           {
            "colorbar": {
             "outlinewidth": 0,
             "ticks": ""
            },
            "type": "contourcarpet"
           }
          ],
          "heatmap": [
           {
            "colorbar": {
             "outlinewidth": 0,
             "ticks": ""
            },
            "colorscale": [
             [
              0,
              "#0d0887"
             ],
             [
              0.1111111111111111,
              "#46039f"
             ],
             [
              0.2222222222222222,
              "#7201a8"
             ],
             [
              0.3333333333333333,
              "#9c179e"
             ],
             [
              0.4444444444444444,
              "#bd3786"
             ],
             [
              0.5555555555555556,
              "#d8576b"
             ],
             [
              0.6666666666666666,
              "#ed7953"
             ],
             [
              0.7777777777777778,
              "#fb9f3a"
             ],
             [
              0.8888888888888888,
              "#fdca26"
             ],
             [
              1,
              "#f0f921"
             ]
            ],
            "type": "heatmap"
           }
          ],
          "heatmapgl": [
           {
            "colorbar": {
             "outlinewidth": 0,
             "ticks": ""
            },
            "colorscale": [
             [
              0,
              "#0d0887"
             ],
             [
              0.1111111111111111,
              "#46039f"
             ],
             [
              0.2222222222222222,
              "#7201a8"
             ],
             [
              0.3333333333333333,
              "#9c179e"
             ],
             [
              0.4444444444444444,
              "#bd3786"
             ],
             [
              0.5555555555555556,
              "#d8576b"
             ],
             [
              0.6666666666666666,
              "#ed7953"
             ],
             [
              0.7777777777777778,
              "#fb9f3a"
             ],
             [
              0.8888888888888888,
              "#fdca26"
             ],
             [
              1,
              "#f0f921"
             ]
            ],
            "type": "heatmapgl"
           }
          ],
          "histogram": [
           {
            "marker": {
             "pattern": {
              "fillmode": "overlay",
              "size": 10,
              "solidity": 0.2
             }
            },
            "type": "histogram"
           }
          ],
          "histogram2d": [
           {
            "colorbar": {
             "outlinewidth": 0,
             "ticks": ""
            },
            "colorscale": [
             [
              0,
              "#0d0887"
             ],
             [
              0.1111111111111111,
              "#46039f"
             ],
             [
              0.2222222222222222,
              "#7201a8"
             ],
             [
              0.3333333333333333,
              "#9c179e"
             ],
             [
              0.4444444444444444,
              "#bd3786"
             ],
             [
              0.5555555555555556,
              "#d8576b"
             ],
             [
              0.6666666666666666,
              "#ed7953"
             ],
             [
              0.7777777777777778,
              "#fb9f3a"
             ],
             [
              0.8888888888888888,
              "#fdca26"
             ],
             [
              1,
              "#f0f921"
             ]
            ],
            "type": "histogram2d"
           }
          ],
          "histogram2dcontour": [
           {
            "colorbar": {
             "outlinewidth": 0,
             "ticks": ""
            },
            "colorscale": [
             [
              0,
              "#0d0887"
             ],
             [
              0.1111111111111111,
              "#46039f"
             ],
             [
              0.2222222222222222,
              "#7201a8"
             ],
             [
              0.3333333333333333,
              "#9c179e"
             ],
             [
              0.4444444444444444,
              "#bd3786"
             ],
             [
              0.5555555555555556,
              "#d8576b"
             ],
             [
              0.6666666666666666,
              "#ed7953"
             ],
             [
              0.7777777777777778,
              "#fb9f3a"
             ],
             [
              0.8888888888888888,
              "#fdca26"
             ],
             [
              1,
              "#f0f921"
             ]
            ],
            "type": "histogram2dcontour"
           }
          ],
          "mesh3d": [
           {
            "colorbar": {
             "outlinewidth": 0,
             "ticks": ""
            },
            "type": "mesh3d"
           }
          ],
          "parcoords": [
           {
            "line": {
             "colorbar": {
              "outlinewidth": 0,
              "ticks": ""
             }
            },
            "type": "parcoords"
           }
          ],
          "pie": [
           {
            "automargin": true,
            "type": "pie"
           }
          ],
          "scatter": [
           {
            "fillpattern": {
             "fillmode": "overlay",
             "size": 10,
             "solidity": 0.2
            },
            "type": "scatter"
           }
          ],
          "scatter3d": [
           {
            "line": {
             "colorbar": {
              "outlinewidth": 0,
              "ticks": ""
             }
            },
            "marker": {
             "colorbar": {
              "outlinewidth": 0,
              "ticks": ""
             }
            },
            "type": "scatter3d"
           }
          ],
          "scattercarpet": [
           {
            "marker": {
             "colorbar": {
              "outlinewidth": 0,
              "ticks": ""
             }
            },
            "type": "scattercarpet"
           }
          ],
          "scattergeo": [
           {
            "marker": {
             "colorbar": {
              "outlinewidth": 0,
              "ticks": ""
             }
            },
            "type": "scattergeo"
           }
          ],
          "scattergl": [
           {
            "marker": {
             "colorbar": {
              "outlinewidth": 0,
              "ticks": ""
             }
            },
            "type": "scattergl"
           }
          ],
          "scattermapbox": [
           {
            "marker": {
             "colorbar": {
              "outlinewidth": 0,
              "ticks": ""
             }
            },
            "type": "scattermapbox"
           }
          ],
          "scatterpolar": [
           {
            "marker": {
             "colorbar": {
              "outlinewidth": 0,
              "ticks": ""
             }
            },
            "type": "scatterpolar"
           }
          ],
          "scatterpolargl": [
           {
            "marker": {
             "colorbar": {
              "outlinewidth": 0,
              "ticks": ""
             }
            },
            "type": "scatterpolargl"
           }
          ],
          "scatterternary": [
           {
            "marker": {
             "colorbar": {
              "outlinewidth": 0,
              "ticks": ""
             }
            },
            "type": "scatterternary"
           }
          ],
          "surface": [
           {
            "colorbar": {
             "outlinewidth": 0,
             "ticks": ""
            },
            "colorscale": [
             [
              0,
              "#0d0887"
             ],
             [
              0.1111111111111111,
              "#46039f"
             ],
             [
              0.2222222222222222,
              "#7201a8"
             ],
             [
              0.3333333333333333,
              "#9c179e"
             ],
             [
              0.4444444444444444,
              "#bd3786"
             ],
             [
              0.5555555555555556,
              "#d8576b"
             ],
             [
              0.6666666666666666,
              "#ed7953"
             ],
             [
              0.7777777777777778,
              "#fb9f3a"
             ],
             [
              0.8888888888888888,
              "#fdca26"
             ],
             [
              1,
              "#f0f921"
             ]
            ],
            "type": "surface"
           }
          ],
          "table": [
           {
            "cells": {
             "fill": {
              "color": "#EBF0F8"
             },
             "line": {
              "color": "white"
             }
            },
            "header": {
             "fill": {
              "color": "#C8D4E3"
             },
             "line": {
              "color": "white"
             }
            },
            "type": "table"
           }
          ]
         },
         "layout": {
          "annotationdefaults": {
           "arrowcolor": "#2a3f5f",
           "arrowhead": 0,
           "arrowwidth": 1
          },
          "autotypenumbers": "strict",
          "coloraxis": {
           "colorbar": {
            "outlinewidth": 0,
            "ticks": ""
           }
          },
          "colorscale": {
           "diverging": [
            [
             0,
             "#8e0152"
            ],
            [
             0.1,
             "#c51b7d"
            ],
            [
             0.2,
             "#de77ae"
            ],
            [
             0.3,
             "#f1b6da"
            ],
            [
             0.4,
             "#fde0ef"
            ],
            [
             0.5,
             "#f7f7f7"
            ],
            [
             0.6,
             "#e6f5d0"
            ],
            [
             0.7,
             "#b8e186"
            ],
            [
             0.8,
             "#7fbc41"
            ],
            [
             0.9,
             "#4d9221"
            ],
            [
             1,
             "#276419"
            ]
           ],
           "sequential": [
            [
             0,
             "#0d0887"
            ],
            [
             0.1111111111111111,
             "#46039f"
            ],
            [
             0.2222222222222222,
             "#7201a8"
            ],
            [
             0.3333333333333333,
             "#9c179e"
            ],
            [
             0.4444444444444444,
             "#bd3786"
            ],
            [
             0.5555555555555556,
             "#d8576b"
            ],
            [
             0.6666666666666666,
             "#ed7953"
            ],
            [
             0.7777777777777778,
             "#fb9f3a"
            ],
            [
             0.8888888888888888,
             "#fdca26"
            ],
            [
             1,
             "#f0f921"
            ]
           ],
           "sequentialminus": [
            [
             0,
             "#0d0887"
            ],
            [
             0.1111111111111111,
             "#46039f"
            ],
            [
             0.2222222222222222,
             "#7201a8"
            ],
            [
             0.3333333333333333,
             "#9c179e"
            ],
            [
             0.4444444444444444,
             "#bd3786"
            ],
            [
             0.5555555555555556,
             "#d8576b"
            ],
            [
             0.6666666666666666,
             "#ed7953"
            ],
            [
             0.7777777777777778,
             "#fb9f3a"
            ],
            [
             0.8888888888888888,
             "#fdca26"
            ],
            [
             1,
             "#f0f921"
            ]
           ]
          },
          "colorway": [
           "#636efa",
           "#EF553B",
           "#00cc96",
           "#ab63fa",
           "#FFA15A",
           "#19d3f3",
           "#FF6692",
           "#B6E880",
           "#FF97FF",
           "#FECB52"
          ],
          "font": {
           "color": "#2a3f5f"
          },
          "geo": {
           "bgcolor": "white",
           "lakecolor": "white",
           "landcolor": "#E5ECF6",
           "showlakes": true,
           "showland": true,
           "subunitcolor": "white"
          },
          "hoverlabel": {
           "align": "left"
          },
          "hovermode": "closest",
          "mapbox": {
           "style": "light"
          },
          "paper_bgcolor": "white",
          "plot_bgcolor": "#E5ECF6",
          "polar": {
           "angularaxis": {
            "gridcolor": "white",
            "linecolor": "white",
            "ticks": ""
           },
           "bgcolor": "#E5ECF6",
           "radialaxis": {
            "gridcolor": "white",
            "linecolor": "white",
            "ticks": ""
           }
          },
          "scene": {
           "xaxis": {
            "backgroundcolor": "#E5ECF6",
            "gridcolor": "white",
            "gridwidth": 2,
            "linecolor": "white",
            "showbackground": true,
            "ticks": "",
            "zerolinecolor": "white"
           },
           "yaxis": {
            "backgroundcolor": "#E5ECF6",
            "gridcolor": "white",
            "gridwidth": 2,
            "linecolor": "white",
            "showbackground": true,
            "ticks": "",
            "zerolinecolor": "white"
           },
           "zaxis": {
            "backgroundcolor": "#E5ECF6",
            "gridcolor": "white",
            "gridwidth": 2,
            "linecolor": "white",
            "showbackground": true,
            "ticks": "",
            "zerolinecolor": "white"
           }
          },
          "shapedefaults": {
           "line": {
            "color": "#2a3f5f"
           }
          },
          "ternary": {
           "aaxis": {
            "gridcolor": "white",
            "linecolor": "white",
            "ticks": ""
           },
           "baxis": {
            "gridcolor": "white",
            "linecolor": "white",
            "ticks": ""
           },
           "bgcolor": "#E5ECF6",
           "caxis": {
            "gridcolor": "white",
            "linecolor": "white",
            "ticks": ""
           }
          },
          "title": {
           "x": 0.05
          },
          "xaxis": {
           "automargin": true,
           "gridcolor": "white",
           "linecolor": "white",
           "ticks": "",
           "title": {
            "standoff": 15
           },
           "zerolinecolor": "white",
           "zerolinewidth": 2
          },
          "yaxis": {
           "automargin": true,
           "gridcolor": "white",
           "linecolor": "white",
           "ticks": "",
           "title": {
            "standoff": 15
           },
           "zerolinecolor": "white",
           "zerolinewidth": 2
          }
         }
        },
        "title": {
         "text": "Optimization History Plot"
        },
        "xaxis": {
         "title": {
          "text": "Trial"
         }
        },
        "yaxis": {
         "title": {
          "text": "Objective Value"
         }
        }
       }
      }
     },
     "metadata": {},
     "output_type": "display_data"
    }
   ],
   "source": [
    "# visualize stuff\n",
    "import optuna\n",
    "import plotly\n",
    "from optuna.visualization import plot_optimization_history\n",
    "from optuna.visualization import plot_slice\n",
    "from optuna.visualization import plot_param_importances\n",
    "\n",
    "plot_optimization_history(study)"
   ]
  },
  {
   "cell_type": "code",
   "execution_count": 18,
   "metadata": {},
   "outputs": [
    {
     "name": "stderr",
     "output_type": "stream",
     "text": [
      "[W 2025-01-09 20:45:29,111] Trial 0 is omitted in visualization because its objective value is inf or nan.\n",
      "[W 2025-01-09 20:45:29,112] Trial 4 is omitted in visualization because its objective value is inf or nan.\n",
      "[W 2025-01-09 20:45:29,112] Trial 8 is omitted in visualization because its objective value is inf or nan.\n",
      "[W 2025-01-09 20:45:29,112] Trial 16 is omitted in visualization because its objective value is inf or nan.\n",
      "[W 2025-01-09 20:45:29,113] Trial 36 is omitted in visualization because its objective value is inf or nan.\n",
      "[W 2025-01-09 20:45:29,113] Trial 47 is omitted in visualization because its objective value is inf or nan.\n",
      "[W 2025-01-09 20:45:29,113] Trial 57 is omitted in visualization because its objective value is inf or nan.\n",
      "[W 2025-01-09 20:45:29,113] Trial 66 is omitted in visualization because its objective value is inf or nan.\n",
      "[W 2025-01-09 20:45:29,114] Trial 76 is omitted in visualization because its objective value is inf or nan.\n",
      "[W 2025-01-09 20:45:29,114] Trial 89 is omitted in visualization because its objective value is inf or nan.\n"
     ]
    },
    {
     "data": {
      "application/vnd.plotly.v1+json": {
       "config": {
        "plotlyServerURL": "https://plot.ly"
       },
       "data": [
        {
         "cliponaxis": false,
         "hovertemplate": [
          "include_type_1_m5 (CategoricalDistribution): 0.06324482548438198<extra></extra>",
          "include_type_3_m5 (CategoricalDistribution): 0.07298887546083627<extra></extra>",
          "include_htf_poi_ltf_confirmation (CategoricalDistribution): 0.107091403636754<extra></extra>",
          "include_type_2_m5 (CategoricalDistribution): 0.7566748954180278<extra></extra>"
         ],
         "name": "Objective Value",
         "orientation": "h",
         "text": [
          "0.06",
          "0.07",
          "0.11",
          "0.76"
         ],
         "textposition": "outside",
         "type": "bar",
         "x": [
          0.06324482548438198,
          0.07298887546083627,
          0.107091403636754,
          0.7566748954180278
         ],
         "y": [
          "include_type_1_m5",
          "include_type_3_m5",
          "include_htf_poi_ltf_confirmation",
          "include_type_2_m5"
         ]
        }
       ],
       "layout": {
        "template": {
         "data": {
          "bar": [
           {
            "error_x": {
             "color": "#2a3f5f"
            },
            "error_y": {
             "color": "#2a3f5f"
            },
            "marker": {
             "line": {
              "color": "#E5ECF6",
              "width": 0.5
             },
             "pattern": {
              "fillmode": "overlay",
              "size": 10,
              "solidity": 0.2
             }
            },
            "type": "bar"
           }
          ],
          "barpolar": [
           {
            "marker": {
             "line": {
              "color": "#E5ECF6",
              "width": 0.5
             },
             "pattern": {
              "fillmode": "overlay",
              "size": 10,
              "solidity": 0.2
             }
            },
            "type": "barpolar"
           }
          ],
          "carpet": [
           {
            "aaxis": {
             "endlinecolor": "#2a3f5f",
             "gridcolor": "white",
             "linecolor": "white",
             "minorgridcolor": "white",
             "startlinecolor": "#2a3f5f"
            },
            "baxis": {
             "endlinecolor": "#2a3f5f",
             "gridcolor": "white",
             "linecolor": "white",
             "minorgridcolor": "white",
             "startlinecolor": "#2a3f5f"
            },
            "type": "carpet"
           }
          ],
          "choropleth": [
           {
            "colorbar": {
             "outlinewidth": 0,
             "ticks": ""
            },
            "type": "choropleth"
           }
          ],
          "contour": [
           {
            "colorbar": {
             "outlinewidth": 0,
             "ticks": ""
            },
            "colorscale": [
             [
              0,
              "#0d0887"
             ],
             [
              0.1111111111111111,
              "#46039f"
             ],
             [
              0.2222222222222222,
              "#7201a8"
             ],
             [
              0.3333333333333333,
              "#9c179e"
             ],
             [
              0.4444444444444444,
              "#bd3786"
             ],
             [
              0.5555555555555556,
              "#d8576b"
             ],
             [
              0.6666666666666666,
              "#ed7953"
             ],
             [
              0.7777777777777778,
              "#fb9f3a"
             ],
             [
              0.8888888888888888,
              "#fdca26"
             ],
             [
              1,
              "#f0f921"
             ]
            ],
            "type": "contour"
           }
          ],
          "contourcarpet": [
           {
            "colorbar": {
             "outlinewidth": 0,
             "ticks": ""
            },
            "type": "contourcarpet"
           }
          ],
          "heatmap": [
           {
            "colorbar": {
             "outlinewidth": 0,
             "ticks": ""
            },
            "colorscale": [
             [
              0,
              "#0d0887"
             ],
             [
              0.1111111111111111,
              "#46039f"
             ],
             [
              0.2222222222222222,
              "#7201a8"
             ],
             [
              0.3333333333333333,
              "#9c179e"
             ],
             [
              0.4444444444444444,
              "#bd3786"
             ],
             [
              0.5555555555555556,
              "#d8576b"
             ],
             [
              0.6666666666666666,
              "#ed7953"
             ],
             [
              0.7777777777777778,
              "#fb9f3a"
             ],
             [
              0.8888888888888888,
              "#fdca26"
             ],
             [
              1,
              "#f0f921"
             ]
            ],
            "type": "heatmap"
           }
          ],
          "heatmapgl": [
           {
            "colorbar": {
             "outlinewidth": 0,
             "ticks": ""
            },
            "colorscale": [
             [
              0,
              "#0d0887"
             ],
             [
              0.1111111111111111,
              "#46039f"
             ],
             [
              0.2222222222222222,
              "#7201a8"
             ],
             [
              0.3333333333333333,
              "#9c179e"
             ],
             [
              0.4444444444444444,
              "#bd3786"
             ],
             [
              0.5555555555555556,
              "#d8576b"
             ],
             [
              0.6666666666666666,
              "#ed7953"
             ],
             [
              0.7777777777777778,
              "#fb9f3a"
             ],
             [
              0.8888888888888888,
              "#fdca26"
             ],
             [
              1,
              "#f0f921"
             ]
            ],
            "type": "heatmapgl"
           }
          ],
          "histogram": [
           {
            "marker": {
             "pattern": {
              "fillmode": "overlay",
              "size": 10,
              "solidity": 0.2
             }
            },
            "type": "histogram"
           }
          ],
          "histogram2d": [
           {
            "colorbar": {
             "outlinewidth": 0,
             "ticks": ""
            },
            "colorscale": [
             [
              0,
              "#0d0887"
             ],
             [
              0.1111111111111111,
              "#46039f"
             ],
             [
              0.2222222222222222,
              "#7201a8"
             ],
             [
              0.3333333333333333,
              "#9c179e"
             ],
             [
              0.4444444444444444,
              "#bd3786"
             ],
             [
              0.5555555555555556,
              "#d8576b"
             ],
             [
              0.6666666666666666,
              "#ed7953"
             ],
             [
              0.7777777777777778,
              "#fb9f3a"
             ],
             [
              0.8888888888888888,
              "#fdca26"
             ],
             [
              1,
              "#f0f921"
             ]
            ],
            "type": "histogram2d"
           }
          ],
          "histogram2dcontour": [
           {
            "colorbar": {
             "outlinewidth": 0,
             "ticks": ""
            },
            "colorscale": [
             [
              0,
              "#0d0887"
             ],
             [
              0.1111111111111111,
              "#46039f"
             ],
             [
              0.2222222222222222,
              "#7201a8"
             ],
             [
              0.3333333333333333,
              "#9c179e"
             ],
             [
              0.4444444444444444,
              "#bd3786"
             ],
             [
              0.5555555555555556,
              "#d8576b"
             ],
             [
              0.6666666666666666,
              "#ed7953"
             ],
             [
              0.7777777777777778,
              "#fb9f3a"
             ],
             [
              0.8888888888888888,
              "#fdca26"
             ],
             [
              1,
              "#f0f921"
             ]
            ],
            "type": "histogram2dcontour"
           }
          ],
          "mesh3d": [
           {
            "colorbar": {
             "outlinewidth": 0,
             "ticks": ""
            },
            "type": "mesh3d"
           }
          ],
          "parcoords": [
           {
            "line": {
             "colorbar": {
              "outlinewidth": 0,
              "ticks": ""
             }
            },
            "type": "parcoords"
           }
          ],
          "pie": [
           {
            "automargin": true,
            "type": "pie"
           }
          ],
          "scatter": [
           {
            "fillpattern": {
             "fillmode": "overlay",
             "size": 10,
             "solidity": 0.2
            },
            "type": "scatter"
           }
          ],
          "scatter3d": [
           {
            "line": {
             "colorbar": {
              "outlinewidth": 0,
              "ticks": ""
             }
            },
            "marker": {
             "colorbar": {
              "outlinewidth": 0,
              "ticks": ""
             }
            },
            "type": "scatter3d"
           }
          ],
          "scattercarpet": [
           {
            "marker": {
             "colorbar": {
              "outlinewidth": 0,
              "ticks": ""
             }
            },
            "type": "scattercarpet"
           }
          ],
          "scattergeo": [
           {
            "marker": {
             "colorbar": {
              "outlinewidth": 0,
              "ticks": ""
             }
            },
            "type": "scattergeo"
           }
          ],
          "scattergl": [
           {
            "marker": {
             "colorbar": {
              "outlinewidth": 0,
              "ticks": ""
             }
            },
            "type": "scattergl"
           }
          ],
          "scattermapbox": [
           {
            "marker": {
             "colorbar": {
              "outlinewidth": 0,
              "ticks": ""
             }
            },
            "type": "scattermapbox"
           }
          ],
          "scatterpolar": [
           {
            "marker": {
             "colorbar": {
              "outlinewidth": 0,
              "ticks": ""
             }
            },
            "type": "scatterpolar"
           }
          ],
          "scatterpolargl": [
           {
            "marker": {
             "colorbar": {
              "outlinewidth": 0,
              "ticks": ""
             }
            },
            "type": "scatterpolargl"
           }
          ],
          "scatterternary": [
           {
            "marker": {
             "colorbar": {
              "outlinewidth": 0,
              "ticks": ""
             }
            },
            "type": "scatterternary"
           }
          ],
          "surface": [
           {
            "colorbar": {
             "outlinewidth": 0,
             "ticks": ""
            },
            "colorscale": [
             [
              0,
              "#0d0887"
             ],
             [
              0.1111111111111111,
              "#46039f"
             ],
             [
              0.2222222222222222,
              "#7201a8"
             ],
             [
              0.3333333333333333,
              "#9c179e"
             ],
             [
              0.4444444444444444,
              "#bd3786"
             ],
             [
              0.5555555555555556,
              "#d8576b"
             ],
             [
              0.6666666666666666,
              "#ed7953"
             ],
             [
              0.7777777777777778,
              "#fb9f3a"
             ],
             [
              0.8888888888888888,
              "#fdca26"
             ],
             [
              1,
              "#f0f921"
             ]
            ],
            "type": "surface"
           }
          ],
          "table": [
           {
            "cells": {
             "fill": {
              "color": "#EBF0F8"
             },
             "line": {
              "color": "white"
             }
            },
            "header": {
             "fill": {
              "color": "#C8D4E3"
             },
             "line": {
              "color": "white"
             }
            },
            "type": "table"
           }
          ]
         },
         "layout": {
          "annotationdefaults": {
           "arrowcolor": "#2a3f5f",
           "arrowhead": 0,
           "arrowwidth": 1
          },
          "autotypenumbers": "strict",
          "coloraxis": {
           "colorbar": {
            "outlinewidth": 0,
            "ticks": ""
           }
          },
          "colorscale": {
           "diverging": [
            [
             0,
             "#8e0152"
            ],
            [
             0.1,
             "#c51b7d"
            ],
            [
             0.2,
             "#de77ae"
            ],
            [
             0.3,
             "#f1b6da"
            ],
            [
             0.4,
             "#fde0ef"
            ],
            [
             0.5,
             "#f7f7f7"
            ],
            [
             0.6,
             "#e6f5d0"
            ],
            [
             0.7,
             "#b8e186"
            ],
            [
             0.8,
             "#7fbc41"
            ],
            [
             0.9,
             "#4d9221"
            ],
            [
             1,
             "#276419"
            ]
           ],
           "sequential": [
            [
             0,
             "#0d0887"
            ],
            [
             0.1111111111111111,
             "#46039f"
            ],
            [
             0.2222222222222222,
             "#7201a8"
            ],
            [
             0.3333333333333333,
             "#9c179e"
            ],
            [
             0.4444444444444444,
             "#bd3786"
            ],
            [
             0.5555555555555556,
             "#d8576b"
            ],
            [
             0.6666666666666666,
             "#ed7953"
            ],
            [
             0.7777777777777778,
             "#fb9f3a"
            ],
            [
             0.8888888888888888,
             "#fdca26"
            ],
            [
             1,
             "#f0f921"
            ]
           ],
           "sequentialminus": [
            [
             0,
             "#0d0887"
            ],
            [
             0.1111111111111111,
             "#46039f"
            ],
            [
             0.2222222222222222,
             "#7201a8"
            ],
            [
             0.3333333333333333,
             "#9c179e"
            ],
            [
             0.4444444444444444,
             "#bd3786"
            ],
            [
             0.5555555555555556,
             "#d8576b"
            ],
            [
             0.6666666666666666,
             "#ed7953"
            ],
            [
             0.7777777777777778,
             "#fb9f3a"
            ],
            [
             0.8888888888888888,
             "#fdca26"
            ],
            [
             1,
             "#f0f921"
            ]
           ]
          },
          "colorway": [
           "#636efa",
           "#EF553B",
           "#00cc96",
           "#ab63fa",
           "#FFA15A",
           "#19d3f3",
           "#FF6692",
           "#B6E880",
           "#FF97FF",
           "#FECB52"
          ],
          "font": {
           "color": "#2a3f5f"
          },
          "geo": {
           "bgcolor": "white",
           "lakecolor": "white",
           "landcolor": "#E5ECF6",
           "showlakes": true,
           "showland": true,
           "subunitcolor": "white"
          },
          "hoverlabel": {
           "align": "left"
          },
          "hovermode": "closest",
          "mapbox": {
           "style": "light"
          },
          "paper_bgcolor": "white",
          "plot_bgcolor": "#E5ECF6",
          "polar": {
           "angularaxis": {
            "gridcolor": "white",
            "linecolor": "white",
            "ticks": ""
           },
           "bgcolor": "#E5ECF6",
           "radialaxis": {
            "gridcolor": "white",
            "linecolor": "white",
            "ticks": ""
           }
          },
          "scene": {
           "xaxis": {
            "backgroundcolor": "#E5ECF6",
            "gridcolor": "white",
            "gridwidth": 2,
            "linecolor": "white",
            "showbackground": true,
            "ticks": "",
            "zerolinecolor": "white"
           },
           "yaxis": {
            "backgroundcolor": "#E5ECF6",
            "gridcolor": "white",
            "gridwidth": 2,
            "linecolor": "white",
            "showbackground": true,
            "ticks": "",
            "zerolinecolor": "white"
           },
           "zaxis": {
            "backgroundcolor": "#E5ECF6",
            "gridcolor": "white",
            "gridwidth": 2,
            "linecolor": "white",
            "showbackground": true,
            "ticks": "",
            "zerolinecolor": "white"
           }
          },
          "shapedefaults": {
           "line": {
            "color": "#2a3f5f"
           }
          },
          "ternary": {
           "aaxis": {
            "gridcolor": "white",
            "linecolor": "white",
            "ticks": ""
           },
           "baxis": {
            "gridcolor": "white",
            "linecolor": "white",
            "ticks": ""
           },
           "bgcolor": "#E5ECF6",
           "caxis": {
            "gridcolor": "white",
            "linecolor": "white",
            "ticks": ""
           }
          },
          "title": {
           "x": 0.05
          },
          "xaxis": {
           "automargin": true,
           "gridcolor": "white",
           "linecolor": "white",
           "ticks": "",
           "title": {
            "standoff": 15
           },
           "zerolinecolor": "white",
           "zerolinewidth": 2
          },
          "yaxis": {
           "automargin": true,
           "gridcolor": "white",
           "linecolor": "white",
           "ticks": "",
           "title": {
            "standoff": 15
           },
           "zerolinecolor": "white",
           "zerolinewidth": 2
          }
         }
        },
        "title": {
         "text": "Hyperparameter Importances"
        },
        "xaxis": {
         "title": {
          "text": "Hyperparameter Importance"
         }
        },
        "yaxis": {
         "title": {
          "text": "Hyperparameter"
         }
        }
       }
      }
     },
     "metadata": {},
     "output_type": "display_data"
    }
   ],
   "source": [
    "plot_param_importances(study)\n"
   ]
  },
  {
   "cell_type": "code",
   "execution_count": 19,
   "metadata": {},
   "outputs": [
    {
     "name": "stderr",
     "output_type": "stream",
     "text": [
      "[W 2025-01-09 20:45:30,715] Trial 0 is omitted in visualization because its objective value is inf or nan.\n",
      "[W 2025-01-09 20:45:30,715] Trial 4 is omitted in visualization because its objective value is inf or nan.\n",
      "[W 2025-01-09 20:45:30,716] Trial 8 is omitted in visualization because its objective value is inf or nan.\n",
      "[W 2025-01-09 20:45:30,716] Trial 16 is omitted in visualization because its objective value is inf or nan.\n",
      "[W 2025-01-09 20:45:30,716] Trial 36 is omitted in visualization because its objective value is inf or nan.\n",
      "[W 2025-01-09 20:45:30,717] Trial 47 is omitted in visualization because its objective value is inf or nan.\n",
      "[W 2025-01-09 20:45:30,717] Trial 57 is omitted in visualization because its objective value is inf or nan.\n",
      "[W 2025-01-09 20:45:30,717] Trial 66 is omitted in visualization because its objective value is inf or nan.\n",
      "[W 2025-01-09 20:45:30,717] Trial 76 is omitted in visualization because its objective value is inf or nan.\n",
      "[W 2025-01-09 20:45:30,718] Trial 89 is omitted in visualization because its objective value is inf or nan.\n"
     ]
    },
    {
     "data": {
      "application/vnd.plotly.v1+json": {
       "config": {
        "plotlyServerURL": "https://plot.ly"
       },
       "data": [
        {
         "marker": {
          "color": [
           1,
           2,
           3,
           5,
           6,
           7,
           9,
           10,
           11,
           12,
           13,
           14,
           15,
           17,
           18,
           19,
           20,
           21,
           22,
           23,
           24,
           25,
           26,
           27,
           28,
           29,
           30,
           31,
           32,
           33,
           34,
           35,
           37,
           38,
           39,
           40,
           41,
           42,
           43,
           44,
           45,
           46,
           48,
           49,
           50,
           51,
           52,
           53,
           54,
           55,
           56,
           58,
           59,
           60,
           61,
           62,
           63,
           64,
           65,
           67,
           68,
           69,
           70,
           71,
           72,
           73,
           74,
           75,
           77,
           78,
           79,
           80,
           81,
           82,
           83,
           84,
           85,
           86,
           87,
           88,
           90,
           91,
           92,
           93,
           94,
           95,
           96,
           97,
           98,
           99
          ],
          "colorbar": {
           "title": {
            "text": "Trial"
           },
           "x": 1,
           "xpad": 40
          },
          "colorscale": [
           [
            0,
            "rgb(247,251,255)"
           ],
           [
            0.125,
            "rgb(222,235,247)"
           ],
           [
            0.25,
            "rgb(198,219,239)"
           ],
           [
            0.375,
            "rgb(158,202,225)"
           ],
           [
            0.5,
            "rgb(107,174,214)"
           ],
           [
            0.625,
            "rgb(66,146,198)"
           ],
           [
            0.75,
            "rgb(33,113,181)"
           ],
           [
            0.875,
            "rgb(8,81,156)"
           ],
           [
            1,
            "rgb(8,48,107)"
           ]
          ],
          "line": {
           "color": "Grey",
           "width": 0.5
          },
          "showscale": true
         },
         "mode": "markers",
         "name": "Feasible Trial",
         "showlegend": false,
         "type": "scatter",
         "x": [
          false,
          false,
          true,
          false,
          false,
          true,
          false,
          true,
          true,
          true,
          true,
          false,
          true,
          false,
          false,
          true,
          false,
          true,
          true,
          true,
          true,
          true,
          true,
          true,
          false,
          false,
          true,
          true,
          true,
          true,
          true,
          false,
          false,
          true,
          false,
          true,
          true,
          true,
          true,
          true,
          true,
          false,
          false,
          true,
          true,
          false,
          false,
          false,
          false,
          false,
          false,
          true,
          false,
          true,
          false,
          false,
          false,
          false,
          false,
          true,
          false,
          true,
          true,
          true,
          true,
          true,
          true,
          true,
          false,
          true,
          true,
          false,
          false,
          false,
          false,
          false,
          false,
          true,
          false,
          true,
          false,
          true,
          true,
          true,
          true,
          true,
          false,
          true,
          true,
          false
         ],
         "xaxis": "x",
         "y": [
          0.0016571428571428332,
          0.0031624999999999848,
          -0.0038333333333333552,
          0.0031624999999999848,
          0.0031624999999999848,
          0.007359999999999989,
          0.013700000000000045,
          0.013700000000000045,
          0.013700000000000045,
          0.013700000000000045,
          0.013700000000000045,
          0.013700000000000045,
          0.005774999999999975,
          0.013700000000000045,
          0.0016571428571428332,
          0.013700000000000045,
          0.013700000000000045,
          0.013700000000000045,
          0.013700000000000045,
          0.013700000000000045,
          0.013700000000000045,
          -0.0038333333333333552,
          0.013700000000000045,
          0.013700000000000045,
          0.013700000000000045,
          0.0016571428571428332,
          0.013700000000000045,
          0.013700000000000045,
          0.013700000000000045,
          0.013700000000000045,
          0.013700000000000045,
          0.0031624999999999848,
          0.0031624999999999848,
          0.007359999999999989,
          0.013700000000000045,
          0.005774999999999975,
          0.013700000000000045,
          0.013700000000000045,
          0.013700000000000045,
          0.013700000000000045,
          0.007359999999999989,
          0.013700000000000045,
          0.013700000000000045,
          0.007359999999999989,
          0.005774999999999975,
          0.013700000000000045,
          0.013700000000000045,
          0.013700000000000045,
          0.013700000000000045,
          0.013700000000000045,
          0.013700000000000045,
          0.005774999999999975,
          0.013700000000000045,
          0.013700000000000045,
          0.013700000000000045,
          0.013700000000000045,
          0.013700000000000045,
          0.013700000000000045,
          0.013700000000000045,
          0.007359999999999989,
          0.0016571428571428332,
          0.013700000000000045,
          0.013700000000000045,
          0.013700000000000045,
          0.013700000000000045,
          0.013700000000000045,
          0.013700000000000045,
          0.013700000000000045,
          0.0031624999999999848,
          0.013700000000000045,
          0.005774999999999975,
          0.013700000000000045,
          0.013700000000000045,
          0.013700000000000045,
          0.013700000000000045,
          0.013700000000000045,
          0.013700000000000045,
          0.013700000000000045,
          0.013700000000000045,
          0.007359999999999989,
          0.013700000000000045,
          0.013700000000000045,
          0.013700000000000045,
          0.013700000000000045,
          0.013700000000000045,
          0.005774999999999975,
          0.013700000000000045,
          0.013700000000000045,
          0.013700000000000045,
          0.013700000000000045
         ],
         "yaxis": "y"
        },
        {
         "marker": {
          "color": [
           1,
           2,
           3,
           5,
           6,
           7,
           9,
           10,
           11,
           12,
           13,
           14,
           15,
           17,
           18,
           19,
           20,
           21,
           22,
           23,
           24,
           25,
           26,
           27,
           28,
           29,
           30,
           31,
           32,
           33,
           34,
           35,
           37,
           38,
           39,
           40,
           41,
           42,
           43,
           44,
           45,
           46,
           48,
           49,
           50,
           51,
           52,
           53,
           54,
           55,
           56,
           58,
           59,
           60,
           61,
           62,
           63,
           64,
           65,
           67,
           68,
           69,
           70,
           71,
           72,
           73,
           74,
           75,
           77,
           78,
           79,
           80,
           81,
           82,
           83,
           84,
           85,
           86,
           87,
           88,
           90,
           91,
           92,
           93,
           94,
           95,
           96,
           97,
           98,
           99
          ],
          "colorbar": {
           "title": {
            "text": "Trial"
           },
           "x": 1,
           "xpad": 40
          },
          "colorscale": [
           [
            0,
            "rgb(247,251,255)"
           ],
           [
            0.125,
            "rgb(222,235,247)"
           ],
           [
            0.25,
            "rgb(198,219,239)"
           ],
           [
            0.375,
            "rgb(158,202,225)"
           ],
           [
            0.5,
            "rgb(107,174,214)"
           ],
           [
            0.625,
            "rgb(66,146,198)"
           ],
           [
            0.75,
            "rgb(33,113,181)"
           ],
           [
            0.875,
            "rgb(8,81,156)"
           ],
           [
            1,
            "rgb(8,48,107)"
           ]
          ],
          "line": {
           "color": "Grey",
           "width": 0.5
          },
          "showscale": false
         },
         "mode": "markers",
         "name": "Feasible Trial",
         "showlegend": false,
         "type": "scatter",
         "x": [
          true,
          true,
          false,
          false,
          false,
          false,
          false,
          true,
          true,
          true,
          true,
          true,
          true,
          false,
          false,
          true,
          true,
          true,
          true,
          true,
          true,
          true,
          false,
          true,
          false,
          false,
          true,
          true,
          true,
          true,
          true,
          true,
          false,
          true,
          false,
          false,
          true,
          true,
          true,
          true,
          true,
          true,
          true,
          false,
          true,
          true,
          true,
          true,
          true,
          true,
          true,
          true,
          true,
          false,
          false,
          false,
          false,
          false,
          true,
          true,
          true,
          false,
          true,
          true,
          true,
          true,
          true,
          true,
          false,
          true,
          true,
          true,
          true,
          true,
          true,
          true,
          true,
          false,
          true,
          true,
          true,
          true,
          true,
          true,
          true,
          true,
          false,
          true,
          true,
          true
         ],
         "xaxis": "x2",
         "y": [
          0.0016571428571428332,
          0.0031624999999999848,
          -0.0038333333333333552,
          0.0031624999999999848,
          0.0031624999999999848,
          0.007359999999999989,
          0.013700000000000045,
          0.013700000000000045,
          0.013700000000000045,
          0.013700000000000045,
          0.013700000000000045,
          0.013700000000000045,
          0.005774999999999975,
          0.013700000000000045,
          0.0016571428571428332,
          0.013700000000000045,
          0.013700000000000045,
          0.013700000000000045,
          0.013700000000000045,
          0.013700000000000045,
          0.013700000000000045,
          -0.0038333333333333552,
          0.013700000000000045,
          0.013700000000000045,
          0.013700000000000045,
          0.0016571428571428332,
          0.013700000000000045,
          0.013700000000000045,
          0.013700000000000045,
          0.013700000000000045,
          0.013700000000000045,
          0.0031624999999999848,
          0.0031624999999999848,
          0.007359999999999989,
          0.013700000000000045,
          0.005774999999999975,
          0.013700000000000045,
          0.013700000000000045,
          0.013700000000000045,
          0.013700000000000045,
          0.007359999999999989,
          0.013700000000000045,
          0.013700000000000045,
          0.007359999999999989,
          0.005774999999999975,
          0.013700000000000045,
          0.013700000000000045,
          0.013700000000000045,
          0.013700000000000045,
          0.013700000000000045,
          0.013700000000000045,
          0.005774999999999975,
          0.013700000000000045,
          0.013700000000000045,
          0.013700000000000045,
          0.013700000000000045,
          0.013700000000000045,
          0.013700000000000045,
          0.013700000000000045,
          0.007359999999999989,
          0.0016571428571428332,
          0.013700000000000045,
          0.013700000000000045,
          0.013700000000000045,
          0.013700000000000045,
          0.013700000000000045,
          0.013700000000000045,
          0.013700000000000045,
          0.0031624999999999848,
          0.013700000000000045,
          0.005774999999999975,
          0.013700000000000045,
          0.013700000000000045,
          0.013700000000000045,
          0.013700000000000045,
          0.013700000000000045,
          0.013700000000000045,
          0.013700000000000045,
          0.013700000000000045,
          0.007359999999999989,
          0.013700000000000045,
          0.013700000000000045,
          0.013700000000000045,
          0.013700000000000045,
          0.013700000000000045,
          0.005774999999999975,
          0.013700000000000045,
          0.013700000000000045,
          0.013700000000000045,
          0.013700000000000045
         ],
         "yaxis": "y2"
        },
        {
         "marker": {
          "color": [
           1,
           2,
           3,
           5,
           6,
           7,
           9,
           10,
           11,
           12,
           13,
           14,
           15,
           17,
           18,
           19,
           20,
           21,
           22,
           23,
           24,
           25,
           26,
           27,
           28,
           29,
           30,
           31,
           32,
           33,
           34,
           35,
           37,
           38,
           39,
           40,
           41,
           42,
           43,
           44,
           45,
           46,
           48,
           49,
           50,
           51,
           52,
           53,
           54,
           55,
           56,
           58,
           59,
           60,
           61,
           62,
           63,
           64,
           65,
           67,
           68,
           69,
           70,
           71,
           72,
           73,
           74,
           75,
           77,
           78,
           79,
           80,
           81,
           82,
           83,
           84,
           85,
           86,
           87,
           88,
           90,
           91,
           92,
           93,
           94,
           95,
           96,
           97,
           98,
           99
          ],
          "colorbar": {
           "title": {
            "text": "Trial"
           },
           "x": 1,
           "xpad": 40
          },
          "colorscale": [
           [
            0,
            "rgb(247,251,255)"
           ],
           [
            0.125,
            "rgb(222,235,247)"
           ],
           [
            0.25,
            "rgb(198,219,239)"
           ],
           [
            0.375,
            "rgb(158,202,225)"
           ],
           [
            0.5,
            "rgb(107,174,214)"
           ],
           [
            0.625,
            "rgb(66,146,198)"
           ],
           [
            0.75,
            "rgb(33,113,181)"
           ],
           [
            0.875,
            "rgb(8,81,156)"
           ],
           [
            1,
            "rgb(8,48,107)"
           ]
          ],
          "line": {
           "color": "Grey",
           "width": 0.5
          },
          "showscale": false
         },
         "mode": "markers",
         "name": "Feasible Trial",
         "showlegend": false,
         "type": "scatter",
         "x": [
          true,
          false,
          false,
          false,
          false,
          false,
          true,
          true,
          true,
          true,
          true,
          true,
          true,
          true,
          true,
          true,
          true,
          true,
          true,
          true,
          true,
          true,
          true,
          true,
          true,
          true,
          true,
          true,
          true,
          true,
          true,
          false,
          false,
          false,
          true,
          true,
          true,
          true,
          true,
          true,
          false,
          true,
          true,
          false,
          true,
          true,
          true,
          true,
          true,
          true,
          true,
          true,
          true,
          true,
          true,
          true,
          true,
          true,
          true,
          false,
          true,
          true,
          true,
          true,
          true,
          true,
          true,
          true,
          false,
          true,
          true,
          true,
          true,
          true,
          true,
          true,
          true,
          true,
          true,
          false,
          true,
          true,
          true,
          true,
          true,
          true,
          true,
          true,
          true,
          true
         ],
         "xaxis": "x3",
         "y": [
          0.0016571428571428332,
          0.0031624999999999848,
          -0.0038333333333333552,
          0.0031624999999999848,
          0.0031624999999999848,
          0.007359999999999989,
          0.013700000000000045,
          0.013700000000000045,
          0.013700000000000045,
          0.013700000000000045,
          0.013700000000000045,
          0.013700000000000045,
          0.005774999999999975,
          0.013700000000000045,
          0.0016571428571428332,
          0.013700000000000045,
          0.013700000000000045,
          0.013700000000000045,
          0.013700000000000045,
          0.013700000000000045,
          0.013700000000000045,
          -0.0038333333333333552,
          0.013700000000000045,
          0.013700000000000045,
          0.013700000000000045,
          0.0016571428571428332,
          0.013700000000000045,
          0.013700000000000045,
          0.013700000000000045,
          0.013700000000000045,
          0.013700000000000045,
          0.0031624999999999848,
          0.0031624999999999848,
          0.007359999999999989,
          0.013700000000000045,
          0.005774999999999975,
          0.013700000000000045,
          0.013700000000000045,
          0.013700000000000045,
          0.013700000000000045,
          0.007359999999999989,
          0.013700000000000045,
          0.013700000000000045,
          0.007359999999999989,
          0.005774999999999975,
          0.013700000000000045,
          0.013700000000000045,
          0.013700000000000045,
          0.013700000000000045,
          0.013700000000000045,
          0.013700000000000045,
          0.005774999999999975,
          0.013700000000000045,
          0.013700000000000045,
          0.013700000000000045,
          0.013700000000000045,
          0.013700000000000045,
          0.013700000000000045,
          0.013700000000000045,
          0.007359999999999989,
          0.0016571428571428332,
          0.013700000000000045,
          0.013700000000000045,
          0.013700000000000045,
          0.013700000000000045,
          0.013700000000000045,
          0.013700000000000045,
          0.013700000000000045,
          0.0031624999999999848,
          0.013700000000000045,
          0.005774999999999975,
          0.013700000000000045,
          0.013700000000000045,
          0.013700000000000045,
          0.013700000000000045,
          0.013700000000000045,
          0.013700000000000045,
          0.013700000000000045,
          0.013700000000000045,
          0.007359999999999989,
          0.013700000000000045,
          0.013700000000000045,
          0.013700000000000045,
          0.013700000000000045,
          0.013700000000000045,
          0.005774999999999975,
          0.013700000000000045,
          0.013700000000000045,
          0.013700000000000045,
          0.013700000000000045
         ],
         "yaxis": "y3"
        },
        {
         "marker": {
          "color": [
           1,
           2,
           3,
           5,
           6,
           7,
           9,
           10,
           11,
           12,
           13,
           14,
           15,
           17,
           18,
           19,
           20,
           21,
           22,
           23,
           24,
           25,
           26,
           27,
           28,
           29,
           30,
           31,
           32,
           33,
           34,
           35,
           37,
           38,
           39,
           40,
           41,
           42,
           43,
           44,
           45,
           46,
           48,
           49,
           50,
           51,
           52,
           53,
           54,
           55,
           56,
           58,
           59,
           60,
           61,
           62,
           63,
           64,
           65,
           67,
           68,
           69,
           70,
           71,
           72,
           73,
           74,
           75,
           77,
           78,
           79,
           80,
           81,
           82,
           83,
           84,
           85,
           86,
           87,
           88,
           90,
           91,
           92,
           93,
           94,
           95,
           96,
           97,
           98,
           99
          ],
          "colorbar": {
           "title": {
            "text": "Trial"
           },
           "x": 1,
           "xpad": 40
          },
          "colorscale": [
           [
            0,
            "rgb(247,251,255)"
           ],
           [
            0.125,
            "rgb(222,235,247)"
           ],
           [
            0.25,
            "rgb(198,219,239)"
           ],
           [
            0.375,
            "rgb(158,202,225)"
           ],
           [
            0.5,
            "rgb(107,174,214)"
           ],
           [
            0.625,
            "rgb(66,146,198)"
           ],
           [
            0.75,
            "rgb(33,113,181)"
           ],
           [
            0.875,
            "rgb(8,81,156)"
           ],
           [
            1,
            "rgb(8,48,107)"
           ]
          ],
          "line": {
           "color": "Grey",
           "width": 0.5
          },
          "showscale": false
         },
         "mode": "markers",
         "name": "Feasible Trial",
         "showlegend": false,
         "type": "scatter",
         "x": [
          true,
          true,
          true,
          true,
          true,
          false,
          true,
          true,
          true,
          true,
          true,
          true,
          true,
          true,
          false,
          true,
          true,
          true,
          true,
          true,
          true,
          true,
          false,
          true,
          true,
          false,
          true,
          true,
          true,
          true,
          true,
          true,
          true,
          false,
          true,
          true,
          true,
          true,
          true,
          true,
          true,
          false,
          true,
          true,
          false,
          true,
          true,
          true,
          true,
          true,
          true,
          true,
          true,
          false,
          true,
          true,
          true,
          true,
          true,
          true,
          true,
          true,
          true,
          true,
          true,
          true,
          true,
          false,
          true,
          true,
          true,
          true,
          true,
          true,
          true,
          true,
          true,
          false,
          true,
          true,
          true,
          true,
          true,
          true,
          true,
          true,
          true,
          true,
          false,
          true
         ],
         "xaxis": "x4",
         "y": [
          0.0016571428571428332,
          0.0031624999999999848,
          -0.0038333333333333552,
          0.0031624999999999848,
          0.0031624999999999848,
          0.007359999999999989,
          0.013700000000000045,
          0.013700000000000045,
          0.013700000000000045,
          0.013700000000000045,
          0.013700000000000045,
          0.013700000000000045,
          0.005774999999999975,
          0.013700000000000045,
          0.0016571428571428332,
          0.013700000000000045,
          0.013700000000000045,
          0.013700000000000045,
          0.013700000000000045,
          0.013700000000000045,
          0.013700000000000045,
          -0.0038333333333333552,
          0.013700000000000045,
          0.013700000000000045,
          0.013700000000000045,
          0.0016571428571428332,
          0.013700000000000045,
          0.013700000000000045,
          0.013700000000000045,
          0.013700000000000045,
          0.013700000000000045,
          0.0031624999999999848,
          0.0031624999999999848,
          0.007359999999999989,
          0.013700000000000045,
          0.005774999999999975,
          0.013700000000000045,
          0.013700000000000045,
          0.013700000000000045,
          0.013700000000000045,
          0.007359999999999989,
          0.013700000000000045,
          0.013700000000000045,
          0.007359999999999989,
          0.005774999999999975,
          0.013700000000000045,
          0.013700000000000045,
          0.013700000000000045,
          0.013700000000000045,
          0.013700000000000045,
          0.013700000000000045,
          0.005774999999999975,
          0.013700000000000045,
          0.013700000000000045,
          0.013700000000000045,
          0.013700000000000045,
          0.013700000000000045,
          0.013700000000000045,
          0.013700000000000045,
          0.007359999999999989,
          0.0016571428571428332,
          0.013700000000000045,
          0.013700000000000045,
          0.013700000000000045,
          0.013700000000000045,
          0.013700000000000045,
          0.013700000000000045,
          0.013700000000000045,
          0.0031624999999999848,
          0.013700000000000045,
          0.005774999999999975,
          0.013700000000000045,
          0.013700000000000045,
          0.013700000000000045,
          0.013700000000000045,
          0.013700000000000045,
          0.013700000000000045,
          0.013700000000000045,
          0.013700000000000045,
          0.007359999999999989,
          0.013700000000000045,
          0.013700000000000045,
          0.013700000000000045,
          0.013700000000000045,
          0.013700000000000045,
          0.005774999999999975,
          0.013700000000000045,
          0.013700000000000045,
          0.013700000000000045,
          0.013700000000000045
         ],
         "yaxis": "y4"
        },
        {
         "marker": {
          "color": [
           3,
           7,
           10,
           11,
           12,
           13,
           15,
           19,
           21,
           22,
           23,
           24,
           25,
           26,
           27,
           30,
           31,
           32,
           33,
           34,
           38,
           40,
           41,
           42,
           43,
           44,
           45,
           49,
           50,
           58,
           60,
           67,
           69,
           70,
           71,
           72,
           73,
           74,
           75,
           78,
           79,
           86,
           88,
           91,
           92,
           93,
           94,
           95,
           97,
           98
          ],
          "colorbar": {
           "title": {
            "text": "Trial"
           },
           "x": 1,
           "xpad": 40
          },
          "colorscale": [
           [
            0,
            "rgb(247,251,255)"
           ],
           [
            0.125,
            "rgb(222,235,247)"
           ],
           [
            0.25,
            "rgb(198,219,239)"
           ],
           [
            0.375,
            "rgb(158,202,225)"
           ],
           [
            0.5,
            "rgb(107,174,214)"
           ],
           [
            0.625,
            "rgb(66,146,198)"
           ],
           [
            0.75,
            "rgb(33,113,181)"
           ],
           [
            0.875,
            "rgb(8,81,156)"
           ],
           [
            1,
            "rgb(8,48,107)"
           ]
          ],
          "line": {
           "color": "Grey",
           "width": 0.5
          },
          "showscale": false
         },
         "mode": "markers",
         "name": "Feasible Trial",
         "showlegend": false,
         "type": "scatter",
         "x": [
          true,
          false,
          false,
          false,
          false,
          false,
          false,
          false,
          false,
          false,
          false,
          false,
          true,
          false,
          false,
          false,
          false,
          false,
          false,
          false,
          false,
          false,
          false,
          false,
          false,
          false,
          false,
          false,
          false,
          false,
          false,
          false,
          false,
          false,
          false,
          false,
          false,
          false,
          false,
          false,
          false,
          false,
          false,
          false,
          false,
          false,
          false,
          false,
          false,
          false
         ],
         "xaxis": "x5",
         "y": [
          -0.0038333333333333552,
          0.007359999999999989,
          0.013700000000000045,
          0.013700000000000045,
          0.013700000000000045,
          0.013700000000000045,
          0.005774999999999975,
          0.013700000000000045,
          0.013700000000000045,
          0.013700000000000045,
          0.013700000000000045,
          0.013700000000000045,
          -0.0038333333333333552,
          0.013700000000000045,
          0.013700000000000045,
          0.013700000000000045,
          0.013700000000000045,
          0.013700000000000045,
          0.013700000000000045,
          0.013700000000000045,
          0.007359999999999989,
          0.005774999999999975,
          0.013700000000000045,
          0.013700000000000045,
          0.013700000000000045,
          0.013700000000000045,
          0.007359999999999989,
          0.007359999999999989,
          0.005774999999999975,
          0.005774999999999975,
          0.013700000000000045,
          0.007359999999999989,
          0.013700000000000045,
          0.013700000000000045,
          0.013700000000000045,
          0.013700000000000045,
          0.013700000000000045,
          0.013700000000000045,
          0.013700000000000045,
          0.013700000000000045,
          0.005774999999999975,
          0.013700000000000045,
          0.007359999999999989,
          0.013700000000000045,
          0.013700000000000045,
          0.013700000000000045,
          0.013700000000000045,
          0.005774999999999975,
          0.013700000000000045,
          0.013700000000000045
         ],
         "yaxis": "y5"
        },
        {
         "marker": {
          "color": [
           1,
           2,
           10,
           11,
           12,
           13,
           14,
           15,
           19,
           20,
           21,
           22,
           23,
           24,
           25,
           27,
           30,
           31,
           32,
           33,
           34,
           35,
           38,
           41,
           42,
           43,
           44,
           45,
           46,
           48,
           50,
           51,
           52,
           53,
           54,
           55,
           56,
           58,
           59,
           65,
           67,
           68,
           70,
           71,
           72,
           73,
           74,
           75,
           78,
           79,
           80,
           81,
           82,
           83,
           84,
           85,
           87,
           88,
           90,
           91,
           92,
           93,
           94,
           95,
           97,
           98,
           99
          ],
          "colorbar": {
           "title": {
            "text": "Trial"
           },
           "x": 1,
           "xpad": 40
          },
          "colorscale": [
           [
            0,
            "rgb(247,251,255)"
           ],
           [
            0.125,
            "rgb(222,235,247)"
           ],
           [
            0.25,
            "rgb(198,219,239)"
           ],
           [
            0.375,
            "rgb(158,202,225)"
           ],
           [
            0.5,
            "rgb(107,174,214)"
           ],
           [
            0.625,
            "rgb(66,146,198)"
           ],
           [
            0.75,
            "rgb(33,113,181)"
           ],
           [
            0.875,
            "rgb(8,81,156)"
           ],
           [
            1,
            "rgb(8,48,107)"
           ]
          ],
          "line": {
           "color": "Grey",
           "width": 0.5
          },
          "showscale": false
         },
         "mode": "markers",
         "name": "Feasible Trial",
         "showlegend": false,
         "type": "scatter",
         "x": [
          false,
          false,
          false,
          false,
          false,
          false,
          false,
          false,
          false,
          false,
          false,
          false,
          false,
          false,
          false,
          false,
          false,
          false,
          false,
          false,
          false,
          false,
          false,
          false,
          false,
          false,
          false,
          false,
          false,
          false,
          false,
          false,
          false,
          false,
          false,
          false,
          false,
          false,
          false,
          false,
          false,
          false,
          false,
          false,
          false,
          false,
          false,
          false,
          false,
          false,
          false,
          false,
          false,
          false,
          false,
          false,
          false,
          false,
          false,
          false,
          false,
          false,
          false,
          false,
          false,
          false,
          false
         ],
         "xaxis": "x6",
         "y": [
          0.0016571428571428332,
          0.0031624999999999848,
          0.013700000000000045,
          0.013700000000000045,
          0.013700000000000045,
          0.013700000000000045,
          0.013700000000000045,
          0.005774999999999975,
          0.013700000000000045,
          0.013700000000000045,
          0.013700000000000045,
          0.013700000000000045,
          0.013700000000000045,
          0.013700000000000045,
          -0.0038333333333333552,
          0.013700000000000045,
          0.013700000000000045,
          0.013700000000000045,
          0.013700000000000045,
          0.013700000000000045,
          0.013700000000000045,
          0.0031624999999999848,
          0.007359999999999989,
          0.013700000000000045,
          0.013700000000000045,
          0.013700000000000045,
          0.013700000000000045,
          0.007359999999999989,
          0.013700000000000045,
          0.013700000000000045,
          0.005774999999999975,
          0.013700000000000045,
          0.013700000000000045,
          0.013700000000000045,
          0.013700000000000045,
          0.013700000000000045,
          0.013700000000000045,
          0.005774999999999975,
          0.013700000000000045,
          0.013700000000000045,
          0.007359999999999989,
          0.0016571428571428332,
          0.013700000000000045,
          0.013700000000000045,
          0.013700000000000045,
          0.013700000000000045,
          0.013700000000000045,
          0.013700000000000045,
          0.013700000000000045,
          0.005774999999999975,
          0.013700000000000045,
          0.013700000000000045,
          0.013700000000000045,
          0.013700000000000045,
          0.013700000000000045,
          0.013700000000000045,
          0.013700000000000045,
          0.007359999999999989,
          0.013700000000000045,
          0.013700000000000045,
          0.013700000000000045,
          0.013700000000000045,
          0.013700000000000045,
          0.005774999999999975,
          0.013700000000000045,
          0.013700000000000045,
          0.013700000000000045
         ],
         "yaxis": "y6"
        },
        {
         "marker": {
          "color": [
           1,
           9,
           10,
           11,
           12,
           13,
           14,
           15,
           17,
           18,
           19,
           20,
           21,
           22,
           23,
           24,
           25,
           26,
           27,
           28,
           29,
           30,
           31,
           32,
           33,
           34,
           39,
           40,
           41,
           42,
           43,
           44,
           46,
           48,
           50,
           51,
           52,
           53,
           54,
           55,
           56,
           58,
           59,
           60,
           61,
           62,
           63,
           64,
           65,
           68,
           69,
           70,
           71,
           72,
           73,
           74,
           75,
           78,
           79,
           80,
           81,
           82,
           83,
           84,
           85,
           86,
           87,
           90,
           91,
           92,
           93,
           94,
           95,
           96,
           97,
           98,
           99
          ],
          "colorbar": {
           "title": {
            "text": "Trial"
           },
           "x": 1,
           "xpad": 40
          },
          "colorscale": [
           [
            0,
            "rgb(247,251,255)"
           ],
           [
            0.125,
            "rgb(222,235,247)"
           ],
           [
            0.25,
            "rgb(198,219,239)"
           ],
           [
            0.375,
            "rgb(158,202,225)"
           ],
           [
            0.5,
            "rgb(107,174,214)"
           ],
           [
            0.625,
            "rgb(66,146,198)"
           ],
           [
            0.75,
            "rgb(33,113,181)"
           ],
           [
            0.875,
            "rgb(8,81,156)"
           ],
           [
            1,
            "rgb(8,48,107)"
           ]
          ],
          "line": {
           "color": "Grey",
           "width": 0.5
          },
          "showscale": false
         },
         "mode": "markers",
         "name": "Feasible Trial",
         "showlegend": false,
         "type": "scatter",
         "x": [
          false,
          true,
          true,
          true,
          true,
          true,
          true,
          false,
          true,
          false,
          true,
          true,
          true,
          true,
          true,
          true,
          false,
          true,
          true,
          true,
          false,
          true,
          true,
          true,
          true,
          true,
          true,
          false,
          true,
          true,
          true,
          true,
          true,
          true,
          false,
          true,
          true,
          true,
          true,
          true,
          true,
          false,
          true,
          true,
          true,
          true,
          true,
          true,
          true,
          false,
          true,
          true,
          true,
          true,
          true,
          true,
          true,
          true,
          false,
          true,
          true,
          true,
          true,
          true,
          true,
          true,
          true,
          true,
          true,
          true,
          true,
          true,
          false,
          true,
          true,
          true,
          true
         ],
         "xaxis": "x7",
         "y": [
          0.0016571428571428332,
          0.013700000000000045,
          0.013700000000000045,
          0.013700000000000045,
          0.013700000000000045,
          0.013700000000000045,
          0.013700000000000045,
          0.005774999999999975,
          0.013700000000000045,
          0.0016571428571428332,
          0.013700000000000045,
          0.013700000000000045,
          0.013700000000000045,
          0.013700000000000045,
          0.013700000000000045,
          0.013700000000000045,
          -0.0038333333333333552,
          0.013700000000000045,
          0.013700000000000045,
          0.013700000000000045,
          0.0016571428571428332,
          0.013700000000000045,
          0.013700000000000045,
          0.013700000000000045,
          0.013700000000000045,
          0.013700000000000045,
          0.013700000000000045,
          0.005774999999999975,
          0.013700000000000045,
          0.013700000000000045,
          0.013700000000000045,
          0.013700000000000045,
          0.013700000000000045,
          0.013700000000000045,
          0.005774999999999975,
          0.013700000000000045,
          0.013700000000000045,
          0.013700000000000045,
          0.013700000000000045,
          0.013700000000000045,
          0.013700000000000045,
          0.005774999999999975,
          0.013700000000000045,
          0.013700000000000045,
          0.013700000000000045,
          0.013700000000000045,
          0.013700000000000045,
          0.013700000000000045,
          0.013700000000000045,
          0.0016571428571428332,
          0.013700000000000045,
          0.013700000000000045,
          0.013700000000000045,
          0.013700000000000045,
          0.013700000000000045,
          0.013700000000000045,
          0.013700000000000045,
          0.013700000000000045,
          0.005774999999999975,
          0.013700000000000045,
          0.013700000000000045,
          0.013700000000000045,
          0.013700000000000045,
          0.013700000000000045,
          0.013700000000000045,
          0.013700000000000045,
          0.013700000000000045,
          0.013700000000000045,
          0.013700000000000045,
          0.013700000000000045,
          0.013700000000000045,
          0.013700000000000045,
          0.005774999999999975,
          0.013700000000000045,
          0.013700000000000045,
          0.013700000000000045,
          0.013700000000000045
         ],
         "yaxis": "y7"
        },
        {
         "marker": {
          "color": [
           1,
           2,
           3,
           5,
           6,
           9,
           10,
           11,
           12,
           13,
           14,
           15,
           17,
           19,
           20,
           21,
           22,
           23,
           24,
           25,
           27,
           28,
           30,
           31,
           32,
           33,
           34,
           35,
           37,
           39,
           40,
           41,
           42,
           43,
           44,
           45,
           48,
           49,
           51,
           52,
           53,
           54,
           55,
           56,
           58,
           59,
           61,
           62,
           63,
           64,
           65,
           67,
           68,
           69,
           70,
           71,
           72,
           73,
           74,
           77,
           78,
           79,
           80,
           81,
           82,
           83,
           84,
           85,
           87,
           88,
           90,
           91,
           92,
           93,
           94,
           95,
           96,
           97,
           99
          ],
          "colorbar": {
           "title": {
            "text": "Trial"
           },
           "x": 1,
           "xpad": 40
          },
          "colorscale": [
           [
            0,
            "rgb(247,251,255)"
           ],
           [
            0.125,
            "rgb(222,235,247)"
           ],
           [
            0.25,
            "rgb(198,219,239)"
           ],
           [
            0.375,
            "rgb(158,202,225)"
           ],
           [
            0.5,
            "rgb(107,174,214)"
           ],
           [
            0.625,
            "rgb(66,146,198)"
           ],
           [
            0.75,
            "rgb(33,113,181)"
           ],
           [
            0.875,
            "rgb(8,81,156)"
           ],
           [
            1,
            "rgb(8,48,107)"
           ]
          ],
          "line": {
           "color": "Grey",
           "width": 0.5
          },
          "showscale": false
         },
         "mode": "markers",
         "name": "Feasible Trial",
         "showlegend": false,
         "type": "scatter",
         "x": [
          false,
          false,
          false,
          false,
          false,
          false,
          false,
          false,
          false,
          false,
          false,
          false,
          false,
          false,
          false,
          false,
          false,
          false,
          false,
          false,
          false,
          false,
          false,
          false,
          false,
          false,
          false,
          false,
          false,
          false,
          false,
          false,
          false,
          false,
          false,
          false,
          false,
          false,
          false,
          false,
          false,
          false,
          false,
          false,
          false,
          false,
          false,
          false,
          false,
          false,
          false,
          false,
          false,
          false,
          false,
          false,
          false,
          false,
          false,
          false,
          false,
          false,
          false,
          false,
          false,
          false,
          false,
          false,
          false,
          false,
          false,
          false,
          false,
          false,
          false,
          false,
          false,
          false,
          false
         ],
         "xaxis": "x8",
         "y": [
          0.0016571428571428332,
          0.0031624999999999848,
          -0.0038333333333333552,
          0.0031624999999999848,
          0.0031624999999999848,
          0.013700000000000045,
          0.013700000000000045,
          0.013700000000000045,
          0.013700000000000045,
          0.013700000000000045,
          0.013700000000000045,
          0.005774999999999975,
          0.013700000000000045,
          0.013700000000000045,
          0.013700000000000045,
          0.013700000000000045,
          0.013700000000000045,
          0.013700000000000045,
          0.013700000000000045,
          -0.0038333333333333552,
          0.013700000000000045,
          0.013700000000000045,
          0.013700000000000045,
          0.013700000000000045,
          0.013700000000000045,
          0.013700000000000045,
          0.013700000000000045,
          0.0031624999999999848,
          0.0031624999999999848,
          0.013700000000000045,
          0.005774999999999975,
          0.013700000000000045,
          0.013700000000000045,
          0.013700000000000045,
          0.013700000000000045,
          0.007359999999999989,
          0.013700000000000045,
          0.007359999999999989,
          0.013700000000000045,
          0.013700000000000045,
          0.013700000000000045,
          0.013700000000000045,
          0.013700000000000045,
          0.013700000000000045,
          0.005774999999999975,
          0.013700000000000045,
          0.013700000000000045,
          0.013700000000000045,
          0.013700000000000045,
          0.013700000000000045,
          0.013700000000000045,
          0.007359999999999989,
          0.0016571428571428332,
          0.013700000000000045,
          0.013700000000000045,
          0.013700000000000045,
          0.013700000000000045,
          0.013700000000000045,
          0.013700000000000045,
          0.0031624999999999848,
          0.013700000000000045,
          0.005774999999999975,
          0.013700000000000045,
          0.013700000000000045,
          0.013700000000000045,
          0.013700000000000045,
          0.013700000000000045,
          0.013700000000000045,
          0.013700000000000045,
          0.007359999999999989,
          0.013700000000000045,
          0.013700000000000045,
          0.013700000000000045,
          0.013700000000000045,
          0.013700000000000045,
          0.005774999999999975,
          0.013700000000000045,
          0.013700000000000045,
          0.013700000000000045
         ],
         "yaxis": "y8"
        }
       ],
       "layout": {
        "template": {
         "data": {
          "bar": [
           {
            "error_x": {
             "color": "#2a3f5f"
            },
            "error_y": {
             "color": "#2a3f5f"
            },
            "marker": {
             "line": {
              "color": "#E5ECF6",
              "width": 0.5
             },
             "pattern": {
              "fillmode": "overlay",
              "size": 10,
              "solidity": 0.2
             }
            },
            "type": "bar"
           }
          ],
          "barpolar": [
           {
            "marker": {
             "line": {
              "color": "#E5ECF6",
              "width": 0.5
             },
             "pattern": {
              "fillmode": "overlay",
              "size": 10,
              "solidity": 0.2
             }
            },
            "type": "barpolar"
           }
          ],
          "carpet": [
           {
            "aaxis": {
             "endlinecolor": "#2a3f5f",
             "gridcolor": "white",
             "linecolor": "white",
             "minorgridcolor": "white",
             "startlinecolor": "#2a3f5f"
            },
            "baxis": {
             "endlinecolor": "#2a3f5f",
             "gridcolor": "white",
             "linecolor": "white",
             "minorgridcolor": "white",
             "startlinecolor": "#2a3f5f"
            },
            "type": "carpet"
           }
          ],
          "choropleth": [
           {
            "colorbar": {
             "outlinewidth": 0,
             "ticks": ""
            },
            "type": "choropleth"
           }
          ],
          "contour": [
           {
            "colorbar": {
             "outlinewidth": 0,
             "ticks": ""
            },
            "colorscale": [
             [
              0,
              "#0d0887"
             ],
             [
              0.1111111111111111,
              "#46039f"
             ],
             [
              0.2222222222222222,
              "#7201a8"
             ],
             [
              0.3333333333333333,
              "#9c179e"
             ],
             [
              0.4444444444444444,
              "#bd3786"
             ],
             [
              0.5555555555555556,
              "#d8576b"
             ],
             [
              0.6666666666666666,
              "#ed7953"
             ],
             [
              0.7777777777777778,
              "#fb9f3a"
             ],
             [
              0.8888888888888888,
              "#fdca26"
             ],
             [
              1,
              "#f0f921"
             ]
            ],
            "type": "contour"
           }
          ],
          "contourcarpet": [
           {
            "colorbar": {
             "outlinewidth": 0,
             "ticks": ""
            },
            "type": "contourcarpet"
           }
          ],
          "heatmap": [
           {
            "colorbar": {
             "outlinewidth": 0,
             "ticks": ""
            },
            "colorscale": [
             [
              0,
              "#0d0887"
             ],
             [
              0.1111111111111111,
              "#46039f"
             ],
             [
              0.2222222222222222,
              "#7201a8"
             ],
             [
              0.3333333333333333,
              "#9c179e"
             ],
             [
              0.4444444444444444,
              "#bd3786"
             ],
             [
              0.5555555555555556,
              "#d8576b"
             ],
             [
              0.6666666666666666,
              "#ed7953"
             ],
             [
              0.7777777777777778,
              "#fb9f3a"
             ],
             [
              0.8888888888888888,
              "#fdca26"
             ],
             [
              1,
              "#f0f921"
             ]
            ],
            "type": "heatmap"
           }
          ],
          "heatmapgl": [
           {
            "colorbar": {
             "outlinewidth": 0,
             "ticks": ""
            },
            "colorscale": [
             [
              0,
              "#0d0887"
             ],
             [
              0.1111111111111111,
              "#46039f"
             ],
             [
              0.2222222222222222,
              "#7201a8"
             ],
             [
              0.3333333333333333,
              "#9c179e"
             ],
             [
              0.4444444444444444,
              "#bd3786"
             ],
             [
              0.5555555555555556,
              "#d8576b"
             ],
             [
              0.6666666666666666,
              "#ed7953"
             ],
             [
              0.7777777777777778,
              "#fb9f3a"
             ],
             [
              0.8888888888888888,
              "#fdca26"
             ],
             [
              1,
              "#f0f921"
             ]
            ],
            "type": "heatmapgl"
           }
          ],
          "histogram": [
           {
            "marker": {
             "pattern": {
              "fillmode": "overlay",
              "size": 10,
              "solidity": 0.2
             }
            },
            "type": "histogram"
           }
          ],
          "histogram2d": [
           {
            "colorbar": {
             "outlinewidth": 0,
             "ticks": ""
            },
            "colorscale": [
             [
              0,
              "#0d0887"
             ],
             [
              0.1111111111111111,
              "#46039f"
             ],
             [
              0.2222222222222222,
              "#7201a8"
             ],
             [
              0.3333333333333333,
              "#9c179e"
             ],
             [
              0.4444444444444444,
              "#bd3786"
             ],
             [
              0.5555555555555556,
              "#d8576b"
             ],
             [
              0.6666666666666666,
              "#ed7953"
             ],
             [
              0.7777777777777778,
              "#fb9f3a"
             ],
             [
              0.8888888888888888,
              "#fdca26"
             ],
             [
              1,
              "#f0f921"
             ]
            ],
            "type": "histogram2d"
           }
          ],
          "histogram2dcontour": [
           {
            "colorbar": {
             "outlinewidth": 0,
             "ticks": ""
            },
            "colorscale": [
             [
              0,
              "#0d0887"
             ],
             [
              0.1111111111111111,
              "#46039f"
             ],
             [
              0.2222222222222222,
              "#7201a8"
             ],
             [
              0.3333333333333333,
              "#9c179e"
             ],
             [
              0.4444444444444444,
              "#bd3786"
             ],
             [
              0.5555555555555556,
              "#d8576b"
             ],
             [
              0.6666666666666666,
              "#ed7953"
             ],
             [
              0.7777777777777778,
              "#fb9f3a"
             ],
             [
              0.8888888888888888,
              "#fdca26"
             ],
             [
              1,
              "#f0f921"
             ]
            ],
            "type": "histogram2dcontour"
           }
          ],
          "mesh3d": [
           {
            "colorbar": {
             "outlinewidth": 0,
             "ticks": ""
            },
            "type": "mesh3d"
           }
          ],
          "parcoords": [
           {
            "line": {
             "colorbar": {
              "outlinewidth": 0,
              "ticks": ""
             }
            },
            "type": "parcoords"
           }
          ],
          "pie": [
           {
            "automargin": true,
            "type": "pie"
           }
          ],
          "scatter": [
           {
            "fillpattern": {
             "fillmode": "overlay",
             "size": 10,
             "solidity": 0.2
            },
            "type": "scatter"
           }
          ],
          "scatter3d": [
           {
            "line": {
             "colorbar": {
              "outlinewidth": 0,
              "ticks": ""
             }
            },
            "marker": {
             "colorbar": {
              "outlinewidth": 0,
              "ticks": ""
             }
            },
            "type": "scatter3d"
           }
          ],
          "scattercarpet": [
           {
            "marker": {
             "colorbar": {
              "outlinewidth": 0,
              "ticks": ""
             }
            },
            "type": "scattercarpet"
           }
          ],
          "scattergeo": [
           {
            "marker": {
             "colorbar": {
              "outlinewidth": 0,
              "ticks": ""
             }
            },
            "type": "scattergeo"
           }
          ],
          "scattergl": [
           {
            "marker": {
             "colorbar": {
              "outlinewidth": 0,
              "ticks": ""
             }
            },
            "type": "scattergl"
           }
          ],
          "scattermapbox": [
           {
            "marker": {
             "colorbar": {
              "outlinewidth": 0,
              "ticks": ""
             }
            },
            "type": "scattermapbox"
           }
          ],
          "scatterpolar": [
           {
            "marker": {
             "colorbar": {
              "outlinewidth": 0,
              "ticks": ""
             }
            },
            "type": "scatterpolar"
           }
          ],
          "scatterpolargl": [
           {
            "marker": {
             "colorbar": {
              "outlinewidth": 0,
              "ticks": ""
             }
            },
            "type": "scatterpolargl"
           }
          ],
          "scatterternary": [
           {
            "marker": {
             "colorbar": {
              "outlinewidth": 0,
              "ticks": ""
             }
            },
            "type": "scatterternary"
           }
          ],
          "surface": [
           {
            "colorbar": {
             "outlinewidth": 0,
             "ticks": ""
            },
            "colorscale": [
             [
              0,
              "#0d0887"
             ],
             [
              0.1111111111111111,
              "#46039f"
             ],
             [
              0.2222222222222222,
              "#7201a8"
             ],
             [
              0.3333333333333333,
              "#9c179e"
             ],
             [
              0.4444444444444444,
              "#bd3786"
             ],
             [
              0.5555555555555556,
              "#d8576b"
             ],
             [
              0.6666666666666666,
              "#ed7953"
             ],
             [
              0.7777777777777778,
              "#fb9f3a"
             ],
             [
              0.8888888888888888,
              "#fdca26"
             ],
             [
              1,
              "#f0f921"
             ]
            ],
            "type": "surface"
           }
          ],
          "table": [
           {
            "cells": {
             "fill": {
              "color": "#EBF0F8"
             },
             "line": {
              "color": "white"
             }
            },
            "header": {
             "fill": {
              "color": "#C8D4E3"
             },
             "line": {
              "color": "white"
             }
            },
            "type": "table"
           }
          ]
         },
         "layout": {
          "annotationdefaults": {
           "arrowcolor": "#2a3f5f",
           "arrowhead": 0,
           "arrowwidth": 1
          },
          "autotypenumbers": "strict",
          "coloraxis": {
           "colorbar": {
            "outlinewidth": 0,
            "ticks": ""
           }
          },
          "colorscale": {
           "diverging": [
            [
             0,
             "#8e0152"
            ],
            [
             0.1,
             "#c51b7d"
            ],
            [
             0.2,
             "#de77ae"
            ],
            [
             0.3,
             "#f1b6da"
            ],
            [
             0.4,
             "#fde0ef"
            ],
            [
             0.5,
             "#f7f7f7"
            ],
            [
             0.6,
             "#e6f5d0"
            ],
            [
             0.7,
             "#b8e186"
            ],
            [
             0.8,
             "#7fbc41"
            ],
            [
             0.9,
             "#4d9221"
            ],
            [
             1,
             "#276419"
            ]
           ],
           "sequential": [
            [
             0,
             "#0d0887"
            ],
            [
             0.1111111111111111,
             "#46039f"
            ],
            [
             0.2222222222222222,
             "#7201a8"
            ],
            [
             0.3333333333333333,
             "#9c179e"
            ],
            [
             0.4444444444444444,
             "#bd3786"
            ],
            [
             0.5555555555555556,
             "#d8576b"
            ],
            [
             0.6666666666666666,
             "#ed7953"
            ],
            [
             0.7777777777777778,
             "#fb9f3a"
            ],
            [
             0.8888888888888888,
             "#fdca26"
            ],
            [
             1,
             "#f0f921"
            ]
           ],
           "sequentialminus": [
            [
             0,
             "#0d0887"
            ],
            [
             0.1111111111111111,
             "#46039f"
            ],
            [
             0.2222222222222222,
             "#7201a8"
            ],
            [
             0.3333333333333333,
             "#9c179e"
            ],
            [
             0.4444444444444444,
             "#bd3786"
            ],
            [
             0.5555555555555556,
             "#d8576b"
            ],
            [
             0.6666666666666666,
             "#ed7953"
            ],
            [
             0.7777777777777778,
             "#fb9f3a"
            ],
            [
             0.8888888888888888,
             "#fdca26"
            ],
            [
             1,
             "#f0f921"
            ]
           ]
          },
          "colorway": [
           "#636efa",
           "#EF553B",
           "#00cc96",
           "#ab63fa",
           "#FFA15A",
           "#19d3f3",
           "#FF6692",
           "#B6E880",
           "#FF97FF",
           "#FECB52"
          ],
          "font": {
           "color": "#2a3f5f"
          },
          "geo": {
           "bgcolor": "white",
           "lakecolor": "white",
           "landcolor": "#E5ECF6",
           "showlakes": true,
           "showland": true,
           "subunitcolor": "white"
          },
          "hoverlabel": {
           "align": "left"
          },
          "hovermode": "closest",
          "mapbox": {
           "style": "light"
          },
          "paper_bgcolor": "white",
          "plot_bgcolor": "#E5ECF6",
          "polar": {
           "angularaxis": {
            "gridcolor": "white",
            "linecolor": "white",
            "ticks": ""
           },
           "bgcolor": "#E5ECF6",
           "radialaxis": {
            "gridcolor": "white",
            "linecolor": "white",
            "ticks": ""
           }
          },
          "scene": {
           "xaxis": {
            "backgroundcolor": "#E5ECF6",
            "gridcolor": "white",
            "gridwidth": 2,
            "linecolor": "white",
            "showbackground": true,
            "ticks": "",
            "zerolinecolor": "white"
           },
           "yaxis": {
            "backgroundcolor": "#E5ECF6",
            "gridcolor": "white",
            "gridwidth": 2,
            "linecolor": "white",
            "showbackground": true,
            "ticks": "",
            "zerolinecolor": "white"
           },
           "zaxis": {
            "backgroundcolor": "#E5ECF6",
            "gridcolor": "white",
            "gridwidth": 2,
            "linecolor": "white",
            "showbackground": true,
            "ticks": "",
            "zerolinecolor": "white"
           }
          },
          "shapedefaults": {
           "line": {
            "color": "#2a3f5f"
           }
          },
          "ternary": {
           "aaxis": {
            "gridcolor": "white",
            "linecolor": "white",
            "ticks": ""
           },
           "baxis": {
            "gridcolor": "white",
            "linecolor": "white",
            "ticks": ""
           },
           "bgcolor": "#E5ECF6",
           "caxis": {
            "gridcolor": "white",
            "linecolor": "white",
            "ticks": ""
           }
          },
          "title": {
           "x": 0.05
          },
          "xaxis": {
           "automargin": true,
           "gridcolor": "white",
           "linecolor": "white",
           "ticks": "",
           "title": {
            "standoff": 15
           },
           "zerolinecolor": "white",
           "zerolinewidth": 2
          },
          "yaxis": {
           "automargin": true,
           "gridcolor": "white",
           "linecolor": "white",
           "ticks": "",
           "title": {
            "standoff": 15
           },
           "zerolinecolor": "white",
           "zerolinewidth": 2
          }
         }
        },
        "title": {
         "text": "Slice Plot"
        },
        "width": 2400,
        "xaxis": {
         "anchor": "y",
         "categoryarray": [
          true,
          false
         ],
         "categoryorder": "array",
         "domain": [
          0,
          0.103125
         ],
         "title": {
          "text": "include_htf_poi_ltf_confirmation"
         },
         "type": "category"
        },
        "xaxis2": {
         "anchor": "y2",
         "categoryarray": [
          true,
          false
         ],
         "categoryorder": "array",
         "domain": [
          0.128125,
          0.23124999999999998
         ],
         "title": {
          "text": "include_type_1_m5"
         },
         "type": "category"
        },
        "xaxis3": {
         "anchor": "y3",
         "categoryarray": [
          true,
          false
         ],
         "categoryorder": "array",
         "domain": [
          0.25625,
          0.359375
         ],
         "title": {
          "text": "include_type_2_m5"
         },
         "type": "category"
        },
        "xaxis4": {
         "anchor": "y4",
         "categoryarray": [
          true,
          false
         ],
         "categoryorder": "array",
         "domain": [
          0.38437499999999997,
          0.48749999999999993
         ],
         "title": {
          "text": "include_type_3_m5"
         },
         "type": "category"
        },
        "xaxis5": {
         "anchor": "y5",
         "categoryarray": [
          true,
          false
         ],
         "categoryorder": "array",
         "domain": [
          0.5125,
          0.615625
         ],
         "title": {
          "text": "value_htf_poi_ltf_confirmation"
         },
         "type": "category"
        },
        "xaxis6": {
         "anchor": "y6",
         "categoryarray": [
          false
         ],
         "categoryorder": "array",
         "domain": [
          0.640625,
          0.74375
         ],
         "title": {
          "text": "value_type_1_m5"
         },
         "type": "category"
        },
        "xaxis7": {
         "anchor": "y7",
         "categoryarray": [
          false,
          true
         ],
         "categoryorder": "array",
         "domain": [
          0.7687499999999999,
          0.871875
         ],
         "title": {
          "text": "value_type_2_m5"
         },
         "type": "category"
        },
        "xaxis8": {
         "anchor": "y8",
         "categoryarray": [
          false
         ],
         "categoryorder": "array",
         "domain": [
          0.896875,
          1
         ],
         "title": {
          "text": "value_type_3_m5"
         },
         "type": "category"
        },
        "yaxis": {
         "anchor": "x",
         "domain": [
          0,
          1
         ],
         "title": {
          "text": "Objective Value"
         }
        },
        "yaxis2": {
         "anchor": "x2",
         "domain": [
          0,
          1
         ],
         "matches": "y",
         "showticklabels": false
        },
        "yaxis3": {
         "anchor": "x3",
         "domain": [
          0,
          1
         ],
         "matches": "y",
         "showticklabels": false
        },
        "yaxis4": {
         "anchor": "x4",
         "domain": [
          0,
          1
         ],
         "matches": "y",
         "showticklabels": false
        },
        "yaxis5": {
         "anchor": "x5",
         "domain": [
          0,
          1
         ],
         "matches": "y",
         "showticklabels": false
        },
        "yaxis6": {
         "anchor": "x6",
         "domain": [
          0,
          1
         ],
         "matches": "y",
         "showticklabels": false
        },
        "yaxis7": {
         "anchor": "x7",
         "domain": [
          0,
          1
         ],
         "matches": "y",
         "showticklabels": false
        },
        "yaxis8": {
         "anchor": "x8",
         "domain": [
          0,
          1
         ],
         "matches": "y",
         "showticklabels": false
        }
       }
      }
     },
     "metadata": {},
     "output_type": "display_data"
    }
   ],
   "source": [
    "plot_slice(study)"
   ]
  },
  {
   "cell_type": "code",
   "execution_count": null,
   "metadata": {},
   "outputs": [],
   "source": []
  }
 ],
 "metadata": {
  "kernelspec": {
   "display_name": "base",
   "language": "python",
   "name": "python3"
  },
  "language_info": {
   "codemirror_mode": {
    "name": "ipython",
    "version": 3
   },
   "file_extension": ".py",
   "mimetype": "text/x-python",
   "name": "python",
   "nbconvert_exporter": "python",
   "pygments_lexer": "ipython3",
   "version": "3.12.2"
  }
 },
 "nbformat": 4,
 "nbformat_minor": 2
}
