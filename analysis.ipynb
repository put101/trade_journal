{
 "cells": [
  {
   "cell_type": "code",
   "execution_count": 1,
   "metadata": {},
   "outputs": [
    {
     "name": "stdout",
     "output_type": "stream",
     "text": [
      "/bin/zsh\n",
      "/Users/tobiaspucher/miniconda3/bin:/opt/homebrew/opt/node@22/bin:/Users/tobiaspucher/miniconda3/bin:/Users/tobiaspucher/miniconda3/condabin:/opt/homebrew/bin:/opt/homebrew/sbin:/usr/local/bin:/System/Cryptexes/App/usr/bin:/usr/bin:/bin:/usr/sbin:/sbin:/var/run/com.apple.security.cryptexd/codex.system/bootstrap/usr/local/bin:/var/run/com.apple.security.cryptexd/codex.system/bootstrap/usr/bin:/var/run/com.apple.security.cryptexd/codex.system/bootstrap/usr/appleinternal/bin:/Library/Apple/usr/bin:/Library/TeX/texbin:/Users/tobiaspucher/.cargo/bin:/Users/tobiaspucher/.local/bin:/Users/tobiaspucher/Library/Application Support/JetBrains/Toolbox/scripts\n",
      "/Users/tobiaspucher/Library/CloudStorage/OneDrive-Personal/2025/trade_journal\n"
     ]
    }
   ],
   "source": [
    "!echo $SHELL\n",
    "!echo $PATH\n",
    "!echo $JOURNAL_ROOT"
   ]
  },
  {
   "cell_type": "code",
   "execution_count": 2,
   "metadata": {},
   "outputs": [
    {
     "data": {
      "text/plain": [
       "'/Users/tobiaspucher/Library/CloudStorage/OneDrive-Personal/2025/trade_journal'"
      ]
     },
     "execution_count": 2,
     "metadata": {},
     "output_type": "execute_result"
    }
   ],
   "source": [
    "%load_ext autoreload\n",
    "%autoreload 2\n",
    "import logging\n",
    "logging.basicConfig(level=logging.ERROR)\n",
    "import random\n",
    "random.seed(0)\n",
    "import os\n",
    "os.getenv('JOURNAL_ROOT')"
   ]
  },
  {
   "cell_type": "code",
   "execution_count": 3,
   "metadata": {},
   "outputs": [],
   "source": [
    "from src.tradecli import *\n",
    "from src.utils import *\n",
    "from src.journal import *\n",
    "\n",
    "pd.set_option('display.max_rows', 500)\n",
    "pd.set_option('display.max_columns', 500)"
   ]
  },
  {
   "cell_type": "code",
   "execution_count": 6,
   "metadata": {},
   "outputs": [
    {
     "data": {
      "text/html": [
       "<div>\n",
       "<style scoped>\n",
       "    .dataframe tbody tr th:only-of-type {\n",
       "        vertical-align: middle;\n",
       "    }\n",
       "\n",
       "    .dataframe tbody tr th {\n",
       "        vertical-align: top;\n",
       "    }\n",
       "\n",
       "    .dataframe thead th {\n",
       "        text-align: right;\n",
       "    }\n",
       "</style>\n",
       "<table border=\"1\" class=\"dataframe\">\n",
       "  <thead>\n",
       "    <tr style=\"text-align: right;\">\n",
       "      <th></th>\n",
       "      <th>type_1_h4</th>\n",
       "      <th>type_1_w</th>\n",
       "      <th>type_3_m15</th>\n",
       "      <th>type_1_M</th>\n",
       "      <th>type_3_m30</th>\n",
       "      <th>risk_reward_ratio</th>\n",
       "      <th>type_1_m30</th>\n",
       "      <th>side</th>\n",
       "      <th>type_3_m1</th>\n",
       "      <th>type_3_m5</th>\n",
       "      <th>type_3_M</th>\n",
       "      <th>type_1_m1</th>\n",
       "      <th>type_3_h1</th>\n",
       "      <th>type_3_d</th>\n",
       "      <th>type_3_h4</th>\n",
       "      <th>type_3_w</th>\n",
       "      <th>type_1_m15</th>\n",
       "      <th>type_1_h1</th>\n",
       "      <th>type_1_m5</th>\n",
       "      <th>type_1_d</th>\n",
       "    </tr>\n",
       "  </thead>\n",
       "  <tbody>\n",
       "    <tr>\n",
       "      <th>0</th>\n",
       "      <td>False</td>\n",
       "      <td>False</td>\n",
       "      <td>True</td>\n",
       "      <td>False</td>\n",
       "      <td>False</td>\n",
       "      <td>2.000000</td>\n",
       "      <td>False</td>\n",
       "      <td>long</td>\n",
       "      <td>False</td>\n",
       "      <td>False</td>\n",
       "      <td>False</td>\n",
       "      <td>True</td>\n",
       "      <td>False</td>\n",
       "      <td>False</td>\n",
       "      <td>False</td>\n",
       "      <td>False</td>\n",
       "      <td>False</td>\n",
       "      <td>False</td>\n",
       "      <td>False</td>\n",
       "      <td>False</td>\n",
       "    </tr>\n",
       "    <tr>\n",
       "      <th>1</th>\n",
       "      <td>False</td>\n",
       "      <td>False</td>\n",
       "      <td>False</td>\n",
       "      <td>False</td>\n",
       "      <td>False</td>\n",
       "      <td>0.666667</td>\n",
       "      <td>False</td>\n",
       "      <td>long</td>\n",
       "      <td>False</td>\n",
       "      <td>False</td>\n",
       "      <td>False</td>\n",
       "      <td>False</td>\n",
       "      <td>False</td>\n",
       "      <td>False</td>\n",
       "      <td>False</td>\n",
       "      <td>False</td>\n",
       "      <td>False</td>\n",
       "      <td>False</td>\n",
       "      <td>False</td>\n",
       "      <td>False</td>\n",
       "    </tr>\n",
       "    <tr>\n",
       "      <th>2</th>\n",
       "      <td>False</td>\n",
       "      <td>False</td>\n",
       "      <td>False</td>\n",
       "      <td>False</td>\n",
       "      <td>False</td>\n",
       "      <td>10.000000</td>\n",
       "      <td>False</td>\n",
       "      <td>long</td>\n",
       "      <td>False</td>\n",
       "      <td>False</td>\n",
       "      <td>False</td>\n",
       "      <td>False</td>\n",
       "      <td>False</td>\n",
       "      <td>False</td>\n",
       "      <td>False</td>\n",
       "      <td>False</td>\n",
       "      <td>False</td>\n",
       "      <td>False</td>\n",
       "      <td>False</td>\n",
       "      <td>False</td>\n",
       "    </tr>\n",
       "    <tr>\n",
       "      <th>3</th>\n",
       "      <td>False</td>\n",
       "      <td>False</td>\n",
       "      <td>False</td>\n",
       "      <td>False</td>\n",
       "      <td>False</td>\n",
       "      <td>10.000000</td>\n",
       "      <td>False</td>\n",
       "      <td>long</td>\n",
       "      <td>False</td>\n",
       "      <td>False</td>\n",
       "      <td>False</td>\n",
       "      <td>False</td>\n",
       "      <td>False</td>\n",
       "      <td>False</td>\n",
       "      <td>False</td>\n",
       "      <td>False</td>\n",
       "      <td>False</td>\n",
       "      <td>False</td>\n",
       "      <td>False</td>\n",
       "      <td>False</td>\n",
       "    </tr>\n",
       "    <tr>\n",
       "      <th>4</th>\n",
       "      <td>False</td>\n",
       "      <td>False</td>\n",
       "      <td>False</td>\n",
       "      <td>False</td>\n",
       "      <td>False</td>\n",
       "      <td>3.000000</td>\n",
       "      <td>False</td>\n",
       "      <td>long</td>\n",
       "      <td>False</td>\n",
       "      <td>False</td>\n",
       "      <td>False</td>\n",
       "      <td>False</td>\n",
       "      <td>False</td>\n",
       "      <td>False</td>\n",
       "      <td>False</td>\n",
       "      <td>False</td>\n",
       "      <td>False</td>\n",
       "      <td>False</td>\n",
       "      <td>False</td>\n",
       "      <td>True</td>\n",
       "    </tr>\n",
       "    <tr>\n",
       "      <th>5</th>\n",
       "      <td>False</td>\n",
       "      <td>False</td>\n",
       "      <td>False</td>\n",
       "      <td>True</td>\n",
       "      <td>False</td>\n",
       "      <td>3.943182</td>\n",
       "      <td>False</td>\n",
       "      <td>long</td>\n",
       "      <td>False</td>\n",
       "      <td>False</td>\n",
       "      <td>False</td>\n",
       "      <td>False</td>\n",
       "      <td>False</td>\n",
       "      <td>False</td>\n",
       "      <td>False</td>\n",
       "      <td>False</td>\n",
       "      <td>False</td>\n",
       "      <td>False</td>\n",
       "      <td>False</td>\n",
       "      <td>False</td>\n",
       "    </tr>\n",
       "    <tr>\n",
       "      <th>6</th>\n",
       "      <td>True</td>\n",
       "      <td>False</td>\n",
       "      <td>False</td>\n",
       "      <td>False</td>\n",
       "      <td>False</td>\n",
       "      <td>3.323529</td>\n",
       "      <td>False</td>\n",
       "      <td>long</td>\n",
       "      <td>False</td>\n",
       "      <td>False</td>\n",
       "      <td>False</td>\n",
       "      <td>False</td>\n",
       "      <td>False</td>\n",
       "      <td>False</td>\n",
       "      <td>False</td>\n",
       "      <td>False</td>\n",
       "      <td>False</td>\n",
       "      <td>False</td>\n",
       "      <td>False</td>\n",
       "      <td>False</td>\n",
       "    </tr>\n",
       "    <tr>\n",
       "      <th>7</th>\n",
       "      <td>False</td>\n",
       "      <td>False</td>\n",
       "      <td>False</td>\n",
       "      <td>False</td>\n",
       "      <td>False</td>\n",
       "      <td>7.927273</td>\n",
       "      <td>False</td>\n",
       "      <td>long</td>\n",
       "      <td>False</td>\n",
       "      <td>False</td>\n",
       "      <td>False</td>\n",
       "      <td>True</td>\n",
       "      <td>False</td>\n",
       "      <td>False</td>\n",
       "      <td>False</td>\n",
       "      <td>False</td>\n",
       "      <td>False</td>\n",
       "      <td>False</td>\n",
       "      <td>False</td>\n",
       "      <td>False</td>\n",
       "    </tr>\n",
       "    <tr>\n",
       "      <th>8</th>\n",
       "      <td>False</td>\n",
       "      <td>False</td>\n",
       "      <td>False</td>\n",
       "      <td>False</td>\n",
       "      <td>False</td>\n",
       "      <td>8.811321</td>\n",
       "      <td>True</td>\n",
       "      <td>long</td>\n",
       "      <td>False</td>\n",
       "      <td>False</td>\n",
       "      <td>False</td>\n",
       "      <td>False</td>\n",
       "      <td>False</td>\n",
       "      <td>False</td>\n",
       "      <td>False</td>\n",
       "      <td>False</td>\n",
       "      <td>False</td>\n",
       "      <td>False</td>\n",
       "      <td>False</td>\n",
       "      <td>False</td>\n",
       "    </tr>\n",
       "    <tr>\n",
       "      <th>9</th>\n",
       "      <td>True</td>\n",
       "      <td>False</td>\n",
       "      <td>False</td>\n",
       "      <td>False</td>\n",
       "      <td>False</td>\n",
       "      <td>2.986486</td>\n",
       "      <td>False</td>\n",
       "      <td>long</td>\n",
       "      <td>False</td>\n",
       "      <td>False</td>\n",
       "      <td>False</td>\n",
       "      <td>False</td>\n",
       "      <td>False</td>\n",
       "      <td>False</td>\n",
       "      <td>False</td>\n",
       "      <td>False</td>\n",
       "      <td>False</td>\n",
       "      <td>False</td>\n",
       "      <td>False</td>\n",
       "      <td>False</td>\n",
       "    </tr>\n",
       "    <tr>\n",
       "      <th>10</th>\n",
       "      <td>False</td>\n",
       "      <td>False</td>\n",
       "      <td>False</td>\n",
       "      <td>True</td>\n",
       "      <td>False</td>\n",
       "      <td>3.175000</td>\n",
       "      <td>False</td>\n",
       "      <td>long</td>\n",
       "      <td>False</td>\n",
       "      <td>False</td>\n",
       "      <td>False</td>\n",
       "      <td>False</td>\n",
       "      <td>False</td>\n",
       "      <td>False</td>\n",
       "      <td>False</td>\n",
       "      <td>False</td>\n",
       "      <td>False</td>\n",
       "      <td>False</td>\n",
       "      <td>False</td>\n",
       "      <td>False</td>\n",
       "    </tr>\n",
       "    <tr>\n",
       "      <th>11</th>\n",
       "      <td>False</td>\n",
       "      <td>True</td>\n",
       "      <td>False</td>\n",
       "      <td>False</td>\n",
       "      <td>False</td>\n",
       "      <td>5.125000</td>\n",
       "      <td>False</td>\n",
       "      <td>long</td>\n",
       "      <td>False</td>\n",
       "      <td>False</td>\n",
       "      <td>False</td>\n",
       "      <td>False</td>\n",
       "      <td>False</td>\n",
       "      <td>False</td>\n",
       "      <td>False</td>\n",
       "      <td>False</td>\n",
       "      <td>False</td>\n",
       "      <td>False</td>\n",
       "      <td>False</td>\n",
       "      <td>False</td>\n",
       "    </tr>\n",
       "    <tr>\n",
       "      <th>12</th>\n",
       "      <td>False</td>\n",
       "      <td>False</td>\n",
       "      <td>False</td>\n",
       "      <td>False</td>\n",
       "      <td>False</td>\n",
       "      <td>4.986301</td>\n",
       "      <td>True</td>\n",
       "      <td>long</td>\n",
       "      <td>False</td>\n",
       "      <td>False</td>\n",
       "      <td>False</td>\n",
       "      <td>False</td>\n",
       "      <td>False</td>\n",
       "      <td>False</td>\n",
       "      <td>False</td>\n",
       "      <td>False</td>\n",
       "      <td>False</td>\n",
       "      <td>False</td>\n",
       "      <td>False</td>\n",
       "      <td>False</td>\n",
       "    </tr>\n",
       "    <tr>\n",
       "      <th>13</th>\n",
       "      <td>False</td>\n",
       "      <td>True</td>\n",
       "      <td>False</td>\n",
       "      <td>False</td>\n",
       "      <td>False</td>\n",
       "      <td>6.338710</td>\n",
       "      <td>False</td>\n",
       "      <td>long</td>\n",
       "      <td>False</td>\n",
       "      <td>False</td>\n",
       "      <td>False</td>\n",
       "      <td>False</td>\n",
       "      <td>False</td>\n",
       "      <td>False</td>\n",
       "      <td>False</td>\n",
       "      <td>False</td>\n",
       "      <td>False</td>\n",
       "      <td>False</td>\n",
       "      <td>False</td>\n",
       "      <td>False</td>\n",
       "    </tr>\n",
       "  </tbody>\n",
       "</table>\n",
       "</div>"
      ],
      "text/plain": [
       "    type_1_h4  type_1_w  type_3_m15  type_1_M  type_3_m30  risk_reward_ratio  \\\n",
       "0       False     False        True     False       False           2.000000   \n",
       "1       False     False       False     False       False           0.666667   \n",
       "2       False     False       False     False       False          10.000000   \n",
       "3       False     False       False     False       False          10.000000   \n",
       "4       False     False       False     False       False           3.000000   \n",
       "5       False     False       False      True       False           3.943182   \n",
       "6        True     False       False     False       False           3.323529   \n",
       "7       False     False       False     False       False           7.927273   \n",
       "8       False     False       False     False       False           8.811321   \n",
       "9        True     False       False     False       False           2.986486   \n",
       "10      False     False       False      True       False           3.175000   \n",
       "11      False      True       False     False       False           5.125000   \n",
       "12      False     False       False     False       False           4.986301   \n",
       "13      False      True       False     False       False           6.338710   \n",
       "\n",
       "    type_1_m30  side  type_3_m1  type_3_m5  type_3_M  type_1_m1  type_3_h1  \\\n",
       "0        False  long      False      False     False       True      False   \n",
       "1        False  long      False      False     False      False      False   \n",
       "2        False  long      False      False     False      False      False   \n",
       "3        False  long      False      False     False      False      False   \n",
       "4        False  long      False      False     False      False      False   \n",
       "5        False  long      False      False     False      False      False   \n",
       "6        False  long      False      False     False      False      False   \n",
       "7        False  long      False      False     False       True      False   \n",
       "8         True  long      False      False     False      False      False   \n",
       "9        False  long      False      False     False      False      False   \n",
       "10       False  long      False      False     False      False      False   \n",
       "11       False  long      False      False     False      False      False   \n",
       "12        True  long      False      False     False      False      False   \n",
       "13       False  long      False      False     False      False      False   \n",
       "\n",
       "    type_3_d  type_3_h4  type_3_w  type_1_m15  type_1_h1  type_1_m5  type_1_d  \n",
       "0      False      False     False       False      False      False     False  \n",
       "1      False      False     False       False      False      False     False  \n",
       "2      False      False     False       False      False      False     False  \n",
       "3      False      False     False       False      False      False     False  \n",
       "4      False      False     False       False      False      False      True  \n",
       "5      False      False     False       False      False      False     False  \n",
       "6      False      False     False       False      False      False     False  \n",
       "7      False      False     False       False      False      False     False  \n",
       "8      False      False     False       False      False      False     False  \n",
       "9      False      False     False       False      False      False     False  \n",
       "10     False      False     False       False      False      False     False  \n",
       "11     False      False     False       False      False      False     False  \n",
       "12     False      False     False       False      False      False     False  \n",
       "13     False      False     False       False      False      False     False  "
      ]
     },
     "metadata": {},
     "output_type": "display_data"
    }
   ],
   "source": [
    "config = Config(\n",
    "    include_patterns=[r'^type_1_', r'^type_3_', r'^risk_reward_ratio$', r'^side'],  \n",
    "    exclude_patterns=[r'^management_strategy$'],         \n",
    "    #force_values={'side': 'short', 'side': 'long'},\n",
    ")\n",
    "\n",
    "full_df = j.to_dataframe(config)\n",
    "#full_df = full_df[full_df['side'] == 'long']\n",
    "display(full_df)"
   ]
  },
  {
   "cell_type": "code",
   "execution_count": 7,
   "metadata": {},
   "outputs": [
    {
     "name": "stderr",
     "output_type": "stream",
     "text": [
      "2025-01-23 16:03:21 - root - INFO - Journal root: /Users/tobiaspucher/Library/CloudStorage/OneDrive-Personal/2025/trade_journal\n",
      "2025-01-23 16:03:21 - root - INFO - CMD Journal root: /Users/tobiaspucher/Library/CloudStorage/OneDrive-Personal/2025/trade_journal\n",
      "2025-01-23 16:03:21 - root - INFO - Assets root: /Users/tobiaspucher/Library/CloudStorage/OneDrive-Personal/2025/trade_journal/assets\n",
      "2025-01-23 16:03:21 - root - INFO - Export root: /Users/tobiaspucher/Library/CloudStorage/OneDrive-Personal/2025/trade_journal/export\n",
      "2025-01-23 16:03:21 - root - INFO - Journal root: /Users/tobiaspucher/Library/CloudStorage/OneDrive-Personal/2025/trade_journal\n",
      "2025-01-23 16:03:21 - root - INFO - CMD Journal root: /Users/tobiaspucher/Library/CloudStorage/OneDrive-Personal/2025/trade_journal\n",
      "2025-01-23 16:03:21 - root - INFO - Assets root: /Users/tobiaspucher/Library/CloudStorage/OneDrive-Personal/2025/trade_journal/assets\n",
      "2025-01-23 16:03:21 - root - INFO - Export root: /Users/tobiaspucher/Library/CloudStorage/OneDrive-Personal/2025/trade_journal/export\n",
      "2025-01-23 16:03:22 - root - INFO - Journal root: /Users/tobiaspucher/Library/CloudStorage/OneDrive-Personal/2025/trade_journal\n",
      "2025-01-23 16:03:22 - root - INFO - CMD Journal root: /Users/tobiaspucher/Library/CloudStorage/OneDrive-Personal/2025/trade_journal\n",
      "2025-01-23 16:03:22 - root - INFO - Assets root: /Users/tobiaspucher/Library/CloudStorage/OneDrive-Personal/2025/trade_journal/assets\n",
      "2025-01-23 16:03:22 - root - INFO - Export root: /Users/tobiaspucher/Library/CloudStorage/OneDrive-Personal/2025/trade_journal/export\n",
      "2025-01-23 16:03:22 - root - INFO - Journal root: /Users/tobiaspucher/Library/CloudStorage/OneDrive-Personal/2025/trade_journal\n",
      "2025-01-23 16:03:22 - root - INFO - CMD Journal root: /Users/tobiaspucher/Library/CloudStorage/OneDrive-Personal/2025/trade_journal\n",
      "2025-01-23 16:03:22 - root - INFO - Assets root: /Users/tobiaspucher/Library/CloudStorage/OneDrive-Personal/2025/trade_journal/assets\n",
      "2025-01-23 16:03:22 - root - INFO - Export root: /Users/tobiaspucher/Library/CloudStorage/OneDrive-Personal/2025/trade_journal/export\n",
      "2025-01-23 16:03:22 - root - INFO - Journal root: /Users/tobiaspucher/Library/CloudStorage/OneDrive-Personal/2025/trade_journal\n",
      "2025-01-23 16:03:22 - root - INFO - CMD Journal root: /Users/tobiaspucher/Library/CloudStorage/OneDrive-Personal/2025/trade_journal\n",
      "2025-01-23 16:03:22 - root - INFO - Assets root: /Users/tobiaspucher/Library/CloudStorage/OneDrive-Personal/2025/trade_journal/assets\n",
      "2025-01-23 16:03:22 - root - INFO - Export root: /Users/tobiaspucher/Library/CloudStorage/OneDrive-Personal/2025/trade_journal/export\n",
      "2025-01-23 16:03:22 - root - INFO - Journal root: /Users/tobiaspucher/Library/CloudStorage/OneDrive-Personal/2025/trade_journal\n",
      "2025-01-23 16:03:22 - root - INFO - CMD Journal root: /Users/tobiaspucher/Library/CloudStorage/OneDrive-Personal/2025/trade_journal\n",
      "2025-01-23 16:03:22 - root - INFO - Assets root: /Users/tobiaspucher/Library/CloudStorage/OneDrive-Personal/2025/trade_journal/assets\n",
      "2025-01-23 16:03:22 - root - INFO - Export root: /Users/tobiaspucher/Library/CloudStorage/OneDrive-Personal/2025/trade_journal/export\n",
      "2025-01-23 16:03:22 - root - INFO - Journal root: /Users/tobiaspucher/Library/CloudStorage/OneDrive-Personal/2025/trade_journal\n",
      "2025-01-23 16:03:22 - root - INFO - CMD Journal root: /Users/tobiaspucher/Library/CloudStorage/OneDrive-Personal/2025/trade_journal\n",
      "2025-01-23 16:03:22 - root - INFO - Assets root: /Users/tobiaspucher/Library/CloudStorage/OneDrive-Personal/2025/trade_journal/assets\n",
      "2025-01-23 16:03:22 - root - INFO - Export root: /Users/tobiaspucher/Library/CloudStorage/OneDrive-Personal/2025/trade_journal/export\n",
      "2025-01-23 16:03:22 - root - INFO - Journal root: /Users/tobiaspucher/Library/CloudStorage/OneDrive-Personal/2025/trade_journal\n",
      "2025-01-23 16:03:22 - root - INFO - CMD Journal root: /Users/tobiaspucher/Library/CloudStorage/OneDrive-Personal/2025/trade_journal\n",
      "2025-01-23 16:03:22 - root - INFO - Assets root: /Users/tobiaspucher/Library/CloudStorage/OneDrive-Personal/2025/trade_journal/assets\n",
      "2025-01-23 16:03:22 - root - INFO - Export root: /Users/tobiaspucher/Library/CloudStorage/OneDrive-Personal/2025/trade_journal/export\n"
     ]
    }
   ],
   "source": [
    "!rm -rf output\n",
    "logger = logging.getLogger()\n",
    "logger.setLevel(logging.ERROR)\n",
    "j.to_markdown(output_dir='output',)"
   ]
  },
  {
   "cell_type": "code",
   "execution_count": 8,
   "metadata": {},
   "outputs": [
    {
     "data": {
      "text/html": [
       "<div>\n",
       "<style scoped>\n",
       "    .dataframe tbody tr th:only-of-type {\n",
       "        vertical-align: middle;\n",
       "    }\n",
       "\n",
       "    .dataframe tbody tr th {\n",
       "        vertical-align: top;\n",
       "    }\n",
       "\n",
       "    .dataframe thead th {\n",
       "        text-align: right;\n",
       "    }\n",
       "</style>\n",
       "<table border=\"1\" class=\"dataframe\">\n",
       "  <thead>\n",
       "    <tr style=\"text-align: right;\">\n",
       "      <th></th>\n",
       "      <th>trade_uid</th>\n",
       "      <th>entry_time</th>\n",
       "      <th>potential_risk_reward</th>\n",
       "      <th>outcome</th>\n",
       "      <th>tp_price</th>\n",
       "      <th>unit_test</th>\n",
       "      <th>type_2_M</th>\n",
       "      <th>type_1_h4</th>\n",
       "      <th>type_1_w</th>\n",
       "      <th>session</th>\n",
       "      <th>initial_return</th>\n",
       "      <th>type_3_m15</th>\n",
       "      <th>type_2_m30</th>\n",
       "      <th>type_1_M</th>\n",
       "      <th>type_3_m30</th>\n",
       "      <th>management_strategy</th>\n",
       "      <th>risk_reward_ratio</th>\n",
       "      <th>type_2_m1</th>\n",
       "      <th>type_1_m30</th>\n",
       "      <th>numerical_confidence</th>\n",
       "      <th>close_price</th>\n",
       "      <th>type_2_m5</th>\n",
       "      <th>side</th>\n",
       "      <th>SL_distance</th>\n",
       "      <th>type_3_m1</th>\n",
       "      <th>type_2_w</th>\n",
       "      <th>type_3_m5</th>\n",
       "      <th>return</th>\n",
       "      <th>htf_poi_ltf_confirmation</th>\n",
       "      <th>type_3_M</th>\n",
       "      <th>potential_return</th>\n",
       "      <th>type_1_m1</th>\n",
       "      <th>type_2_d</th>\n",
       "      <th>type_3_h1</th>\n",
       "      <th>type_3_d</th>\n",
       "      <th>potential_price</th>\n",
       "      <th>account_name</th>\n",
       "      <th>type_3_h4</th>\n",
       "      <th>type_3_w</th>\n",
       "      <th>TP_distance</th>\n",
       "      <th>initial_risk_reward</th>\n",
       "      <th>type_1_m15</th>\n",
       "      <th>type_2_h4</th>\n",
       "      <th>type_2_m15</th>\n",
       "      <th>type_1_h1</th>\n",
       "      <th>type_2_h1</th>\n",
       "      <th>account</th>\n",
       "      <th>entry_price</th>\n",
       "      <th>sl_price</th>\n",
       "      <th>type_1_m5</th>\n",
       "      <th>type_1_d</th>\n",
       "      <th>htf_poi_ltf_confirmation_False</th>\n",
       "      <th>htf_poi_ltf_confirmation_True</th>\n",
       "      <th>management_strategy_be_after_1r</th>\n",
       "      <th>management_strategy_be_after_push</th>\n",
       "      <th>management_strategy_no_management</th>\n",
       "      <th>management_strategy_strategy_2</th>\n",
       "      <th>outcome_loss</th>\n",
       "      <th>outcome_win</th>\n",
       "    </tr>\n",
       "  </thead>\n",
       "  <tbody>\n",
       "    <tr>\n",
       "      <th>0</th>\n",
       "      <td>1001</td>\n",
       "      <td>2025-01-23 16:02:04.728513</td>\n",
       "      <td>NaN</td>\n",
       "      <td>NaN</td>\n",
       "      <td>1.1100</td>\n",
       "      <td>False</td>\n",
       "      <td>False</td>\n",
       "      <td>False</td>\n",
       "      <td>False</td>\n",
       "      <td>new_york</td>\n",
       "      <td>0.0100</td>\n",
       "      <td>True</td>\n",
       "      <td>False</td>\n",
       "      <td>False</td>\n",
       "      <td>False</td>\n",
       "      <td>no_management</td>\n",
       "      <td>2.000000</td>\n",
       "      <td>False</td>\n",
       "      <td>False</td>\n",
       "      <td>3.0</td>\n",
       "      <td>NaN</td>\n",
       "      <td>False</td>\n",
       "      <td>long</td>\n",
       "      <td>0.0050</td>\n",
       "      <td>False</td>\n",
       "      <td>False</td>\n",
       "      <td>False</td>\n",
       "      <td>NaN</td>\n",
       "      <td>False</td>\n",
       "      <td>False</td>\n",
       "      <td>NaN</td>\n",
       "      <td>True</td>\n",
       "      <td>False</td>\n",
       "      <td>False</td>\n",
       "      <td>False</td>\n",
       "      <td>NaN</td>\n",
       "      <td>default</td>\n",
       "      <td>False</td>\n",
       "      <td>False</td>\n",
       "      <td>0.0100</td>\n",
       "      <td>2.000000</td>\n",
       "      <td>False</td>\n",
       "      <td>False</td>\n",
       "      <td>False</td>\n",
       "      <td>False</td>\n",
       "      <td>False</td>\n",
       "      <td>None</td>\n",
       "      <td>1.1000</td>\n",
       "      <td>1.0950</td>\n",
       "      <td>False</td>\n",
       "      <td>False</td>\n",
       "      <td>True</td>\n",
       "      <td>False</td>\n",
       "      <td>False</td>\n",
       "      <td>False</td>\n",
       "      <td>True</td>\n",
       "      <td>False</td>\n",
       "      <td>False</td>\n",
       "      <td>False</td>\n",
       "    </tr>\n",
       "    <tr>\n",
       "      <th>1</th>\n",
       "      <td>1002</td>\n",
       "      <td>2025-01-23 16:02:04.728553</td>\n",
       "      <td>NaN</td>\n",
       "      <td>loss</td>\n",
       "      <td>1.2100</td>\n",
       "      <td>False</td>\n",
       "      <td>False</td>\n",
       "      <td>False</td>\n",
       "      <td>False</td>\n",
       "      <td>new_york</td>\n",
       "      <td>0.0100</td>\n",
       "      <td>False</td>\n",
       "      <td>False</td>\n",
       "      <td>False</td>\n",
       "      <td>False</td>\n",
       "      <td>no_management</td>\n",
       "      <td>0.666667</td>\n",
       "      <td>False</td>\n",
       "      <td>False</td>\n",
       "      <td>2.0</td>\n",
       "      <td>1.1855</td>\n",
       "      <td>False</td>\n",
       "      <td>long</td>\n",
       "      <td>0.0150</td>\n",
       "      <td>False</td>\n",
       "      <td>False</td>\n",
       "      <td>False</td>\n",
       "      <td>-0.0145</td>\n",
       "      <td>True</td>\n",
       "      <td>False</td>\n",
       "      <td>NaN</td>\n",
       "      <td>False</td>\n",
       "      <td>False</td>\n",
       "      <td>False</td>\n",
       "      <td>False</td>\n",
       "      <td>NaN</td>\n",
       "      <td>default</td>\n",
       "      <td>False</td>\n",
       "      <td>False</td>\n",
       "      <td>0.0100</td>\n",
       "      <td>0.666667</td>\n",
       "      <td>False</td>\n",
       "      <td>False</td>\n",
       "      <td>False</td>\n",
       "      <td>False</td>\n",
       "      <td>True</td>\n",
       "      <td>None</td>\n",
       "      <td>1.2000</td>\n",
       "      <td>1.1850</td>\n",
       "      <td>False</td>\n",
       "      <td>False</td>\n",
       "      <td>False</td>\n",
       "      <td>True</td>\n",
       "      <td>False</td>\n",
       "      <td>False</td>\n",
       "      <td>True</td>\n",
       "      <td>False</td>\n",
       "      <td>True</td>\n",
       "      <td>False</td>\n",
       "    </tr>\n",
       "    <tr>\n",
       "      <th>2</th>\n",
       "      <td>1003</td>\n",
       "      <td>2024-12-27 10:00:01.000000</td>\n",
       "      <td>NaN</td>\n",
       "      <td>NaN</td>\n",
       "      <td>1.3300</td>\n",
       "      <td>False</td>\n",
       "      <td>False</td>\n",
       "      <td>False</td>\n",
       "      <td>False</td>\n",
       "      <td>london</td>\n",
       "      <td>0.0300</td>\n",
       "      <td>False</td>\n",
       "      <td>False</td>\n",
       "      <td>False</td>\n",
       "      <td>False</td>\n",
       "      <td>no_management</td>\n",
       "      <td>10.000000</td>\n",
       "      <td>False</td>\n",
       "      <td>False</td>\n",
       "      <td>NaN</td>\n",
       "      <td>NaN</td>\n",
       "      <td>False</td>\n",
       "      <td>long</td>\n",
       "      <td>0.5000</td>\n",
       "      <td>False</td>\n",
       "      <td>False</td>\n",
       "      <td>False</td>\n",
       "      <td>NaN</td>\n",
       "      <td>False</td>\n",
       "      <td>False</td>\n",
       "      <td>NaN</td>\n",
       "      <td>False</td>\n",
       "      <td>False</td>\n",
       "      <td>False</td>\n",
       "      <td>False</td>\n",
       "      <td>NaN</td>\n",
       "      <td>default</td>\n",
       "      <td>False</td>\n",
       "      <td>False</td>\n",
       "      <td>0.0300</td>\n",
       "      <td>10.000000</td>\n",
       "      <td>False</td>\n",
       "      <td>False</td>\n",
       "      <td>False</td>\n",
       "      <td>False</td>\n",
       "      <td>False</td>\n",
       "      <td>None</td>\n",
       "      <td>1.3000</td>\n",
       "      <td>1.2970</td>\n",
       "      <td>False</td>\n",
       "      <td>False</td>\n",
       "      <td>True</td>\n",
       "      <td>False</td>\n",
       "      <td>False</td>\n",
       "      <td>False</td>\n",
       "      <td>True</td>\n",
       "      <td>False</td>\n",
       "      <td>False</td>\n",
       "      <td>False</td>\n",
       "    </tr>\n",
       "    <tr>\n",
       "      <th>3</th>\n",
       "      <td>1004</td>\n",
       "      <td>2024-12-25 10:00:00.000000</td>\n",
       "      <td>5.000000</td>\n",
       "      <td>win</td>\n",
       "      <td>1.3300</td>\n",
       "      <td>False</td>\n",
       "      <td>False</td>\n",
       "      <td>False</td>\n",
       "      <td>False</td>\n",
       "      <td>london</td>\n",
       "      <td>0.0300</td>\n",
       "      <td>False</td>\n",
       "      <td>False</td>\n",
       "      <td>False</td>\n",
       "      <td>False</td>\n",
       "      <td>strategy_2</td>\n",
       "      <td>10.000000</td>\n",
       "      <td>False</td>\n",
       "      <td>False</td>\n",
       "      <td>4.0</td>\n",
       "      <td>1.3050</td>\n",
       "      <td>False</td>\n",
       "      <td>long</td>\n",
       "      <td>0.5000</td>\n",
       "      <td>False</td>\n",
       "      <td>False</td>\n",
       "      <td>False</td>\n",
       "      <td>0.0050</td>\n",
       "      <td>False</td>\n",
       "      <td>False</td>\n",
       "      <td>0.0150</td>\n",
       "      <td>False</td>\n",
       "      <td>False</td>\n",
       "      <td>False</td>\n",
       "      <td>False</td>\n",
       "      <td>1.3150</td>\n",
       "      <td>default</td>\n",
       "      <td>False</td>\n",
       "      <td>False</td>\n",
       "      <td>0.0300</td>\n",
       "      <td>10.000000</td>\n",
       "      <td>False</td>\n",
       "      <td>False</td>\n",
       "      <td>False</td>\n",
       "      <td>False</td>\n",
       "      <td>False</td>\n",
       "      <td>None</td>\n",
       "      <td>1.3000</td>\n",
       "      <td>1.2970</td>\n",
       "      <td>False</td>\n",
       "      <td>False</td>\n",
       "      <td>True</td>\n",
       "      <td>False</td>\n",
       "      <td>False</td>\n",
       "      <td>False</td>\n",
       "      <td>False</td>\n",
       "      <td>True</td>\n",
       "      <td>False</td>\n",
       "      <td>True</td>\n",
       "    </tr>\n",
       "    <tr>\n",
       "      <th>4</th>\n",
       "      <td>1005</td>\n",
       "      <td>2025-01-23 16:02:04.729619</td>\n",
       "      <td>3.397959</td>\n",
       "      <td>win</td>\n",
       "      <td>1.1410</td>\n",
       "      <td>True</td>\n",
       "      <td>False</td>\n",
       "      <td>False</td>\n",
       "      <td>False</td>\n",
       "      <td>new_york</td>\n",
       "      <td>0.0294</td>\n",
       "      <td>False</td>\n",
       "      <td>False</td>\n",
       "      <td>False</td>\n",
       "      <td>False</td>\n",
       "      <td>be_after_1r</td>\n",
       "      <td>3.000000</td>\n",
       "      <td>False</td>\n",
       "      <td>False</td>\n",
       "      <td>3.0</td>\n",
       "      <td>1.1248</td>\n",
       "      <td>False</td>\n",
       "      <td>long</td>\n",
       "      <td>0.0098</td>\n",
       "      <td>False</td>\n",
       "      <td>False</td>\n",
       "      <td>False</td>\n",
       "      <td>0.0132</td>\n",
       "      <td>False</td>\n",
       "      <td>False</td>\n",
       "      <td>0.0333</td>\n",
       "      <td>False</td>\n",
       "      <td>True</td>\n",
       "      <td>False</td>\n",
       "      <td>False</td>\n",
       "      <td>1.1449</td>\n",
       "      <td>None</td>\n",
       "      <td>False</td>\n",
       "      <td>False</td>\n",
       "      <td>0.0294</td>\n",
       "      <td>3.000000</td>\n",
       "      <td>False</td>\n",
       "      <td>False</td>\n",
       "      <td>False</td>\n",
       "      <td>False</td>\n",
       "      <td>False</td>\n",
       "      <td>test_account</td>\n",
       "      <td>1.1116</td>\n",
       "      <td>1.1018</td>\n",
       "      <td>False</td>\n",
       "      <td>True</td>\n",
       "      <td>True</td>\n",
       "      <td>False</td>\n",
       "      <td>True</td>\n",
       "      <td>False</td>\n",
       "      <td>False</td>\n",
       "      <td>False</td>\n",
       "      <td>False</td>\n",
       "      <td>True</td>\n",
       "    </tr>\n",
       "    <tr>\n",
       "      <th>5</th>\n",
       "      <td>1006</td>\n",
       "      <td>2025-01-23 16:02:04.729668</td>\n",
       "      <td>1.590909</td>\n",
       "      <td>NaN</td>\n",
       "      <td>1.1560</td>\n",
       "      <td>True</td>\n",
       "      <td>False</td>\n",
       "      <td>False</td>\n",
       "      <td>False</td>\n",
       "      <td>new_york</td>\n",
       "      <td>0.0347</td>\n",
       "      <td>False</td>\n",
       "      <td>False</td>\n",
       "      <td>True</td>\n",
       "      <td>False</td>\n",
       "      <td>no_management</td>\n",
       "      <td>3.943182</td>\n",
       "      <td>False</td>\n",
       "      <td>False</td>\n",
       "      <td>3.0</td>\n",
       "      <td>NaN</td>\n",
       "      <td>False</td>\n",
       "      <td>long</td>\n",
       "      <td>0.0088</td>\n",
       "      <td>False</td>\n",
       "      <td>False</td>\n",
       "      <td>False</td>\n",
       "      <td>NaN</td>\n",
       "      <td>True</td>\n",
       "      <td>False</td>\n",
       "      <td>0.0140</td>\n",
       "      <td>False</td>\n",
       "      <td>False</td>\n",
       "      <td>False</td>\n",
       "      <td>False</td>\n",
       "      <td>1.1353</td>\n",
       "      <td>None</td>\n",
       "      <td>False</td>\n",
       "      <td>False</td>\n",
       "      <td>0.0347</td>\n",
       "      <td>3.943182</td>\n",
       "      <td>False</td>\n",
       "      <td>False</td>\n",
       "      <td>True</td>\n",
       "      <td>False</td>\n",
       "      <td>False</td>\n",
       "      <td>test_account</td>\n",
       "      <td>1.1213</td>\n",
       "      <td>1.1125</td>\n",
       "      <td>False</td>\n",
       "      <td>False</td>\n",
       "      <td>False</td>\n",
       "      <td>True</td>\n",
       "      <td>False</td>\n",
       "      <td>False</td>\n",
       "      <td>True</td>\n",
       "      <td>False</td>\n",
       "      <td>False</td>\n",
       "      <td>False</td>\n",
       "    </tr>\n",
       "    <tr>\n",
       "      <th>6</th>\n",
       "      <td>1007</td>\n",
       "      <td>2025-01-23 16:02:04.729709</td>\n",
       "      <td>6.558824</td>\n",
       "      <td>loss</td>\n",
       "      <td>1.1550</td>\n",
       "      <td>True</td>\n",
       "      <td>False</td>\n",
       "      <td>True</td>\n",
       "      <td>False</td>\n",
       "      <td>new_york</td>\n",
       "      <td>0.0226</td>\n",
       "      <td>False</td>\n",
       "      <td>False</td>\n",
       "      <td>False</td>\n",
       "      <td>False</td>\n",
       "      <td>be_after_push</td>\n",
       "      <td>3.323529</td>\n",
       "      <td>False</td>\n",
       "      <td>False</td>\n",
       "      <td>4.0</td>\n",
       "      <td>1.1206</td>\n",
       "      <td>False</td>\n",
       "      <td>long</td>\n",
       "      <td>0.0068</td>\n",
       "      <td>False</td>\n",
       "      <td>True</td>\n",
       "      <td>False</td>\n",
       "      <td>-0.0118</td>\n",
       "      <td>False</td>\n",
       "      <td>False</td>\n",
       "      <td>0.0446</td>\n",
       "      <td>False</td>\n",
       "      <td>False</td>\n",
       "      <td>False</td>\n",
       "      <td>False</td>\n",
       "      <td>1.1770</td>\n",
       "      <td>None</td>\n",
       "      <td>False</td>\n",
       "      <td>False</td>\n",
       "      <td>0.0226</td>\n",
       "      <td>3.323529</td>\n",
       "      <td>False</td>\n",
       "      <td>False</td>\n",
       "      <td>False</td>\n",
       "      <td>False</td>\n",
       "      <td>False</td>\n",
       "      <td>test_account</td>\n",
       "      <td>1.1324</td>\n",
       "      <td>1.1256</td>\n",
       "      <td>False</td>\n",
       "      <td>False</td>\n",
       "      <td>True</td>\n",
       "      <td>False</td>\n",
       "      <td>False</td>\n",
       "      <td>True</td>\n",
       "      <td>False</td>\n",
       "      <td>False</td>\n",
       "      <td>True</td>\n",
       "      <td>False</td>\n",
       "    </tr>\n",
       "    <tr>\n",
       "      <th>7</th>\n",
       "      <td>1008</td>\n",
       "      <td>2025-01-23 16:02:04.729745</td>\n",
       "      <td>5.400000</td>\n",
       "      <td>win</td>\n",
       "      <td>1.1902</td>\n",
       "      <td>True</td>\n",
       "      <td>True</td>\n",
       "      <td>False</td>\n",
       "      <td>False</td>\n",
       "      <td>new_york</td>\n",
       "      <td>0.0436</td>\n",
       "      <td>False</td>\n",
       "      <td>False</td>\n",
       "      <td>False</td>\n",
       "      <td>False</td>\n",
       "      <td>be_after_push</td>\n",
       "      <td>7.927273</td>\n",
       "      <td>False</td>\n",
       "      <td>False</td>\n",
       "      <td>5.0</td>\n",
       "      <td>1.1580</td>\n",
       "      <td>False</td>\n",
       "      <td>long</td>\n",
       "      <td>0.0055</td>\n",
       "      <td>False</td>\n",
       "      <td>False</td>\n",
       "      <td>False</td>\n",
       "      <td>0.0114</td>\n",
       "      <td>True</td>\n",
       "      <td>False</td>\n",
       "      <td>0.0297</td>\n",
       "      <td>True</td>\n",
       "      <td>False</td>\n",
       "      <td>False</td>\n",
       "      <td>False</td>\n",
       "      <td>1.1763</td>\n",
       "      <td>None</td>\n",
       "      <td>False</td>\n",
       "      <td>False</td>\n",
       "      <td>0.0436</td>\n",
       "      <td>7.927273</td>\n",
       "      <td>False</td>\n",
       "      <td>False</td>\n",
       "      <td>False</td>\n",
       "      <td>False</td>\n",
       "      <td>False</td>\n",
       "      <td>test_account</td>\n",
       "      <td>1.1466</td>\n",
       "      <td>1.1411</td>\n",
       "      <td>False</td>\n",
       "      <td>False</td>\n",
       "      <td>False</td>\n",
       "      <td>True</td>\n",
       "      <td>False</td>\n",
       "      <td>True</td>\n",
       "      <td>False</td>\n",
       "      <td>False</td>\n",
       "      <td>False</td>\n",
       "      <td>True</td>\n",
       "    </tr>\n",
       "    <tr>\n",
       "      <th>8</th>\n",
       "      <td>1009</td>\n",
       "      <td>2025-01-23 16:02:04.729778</td>\n",
       "      <td>5.264151</td>\n",
       "      <td>NaN</td>\n",
       "      <td>1.1848</td>\n",
       "      <td>True</td>\n",
       "      <td>False</td>\n",
       "      <td>False</td>\n",
       "      <td>False</td>\n",
       "      <td>new_york</td>\n",
       "      <td>0.0467</td>\n",
       "      <td>False</td>\n",
       "      <td>False</td>\n",
       "      <td>False</td>\n",
       "      <td>False</td>\n",
       "      <td>no_management</td>\n",
       "      <td>8.811321</td>\n",
       "      <td>False</td>\n",
       "      <td>True</td>\n",
       "      <td>5.0</td>\n",
       "      <td>NaN</td>\n",
       "      <td>False</td>\n",
       "      <td>long</td>\n",
       "      <td>0.0053</td>\n",
       "      <td>False</td>\n",
       "      <td>False</td>\n",
       "      <td>False</td>\n",
       "      <td>NaN</td>\n",
       "      <td>True</td>\n",
       "      <td>False</td>\n",
       "      <td>0.0279</td>\n",
       "      <td>False</td>\n",
       "      <td>False</td>\n",
       "      <td>False</td>\n",
       "      <td>False</td>\n",
       "      <td>1.1660</td>\n",
       "      <td>None</td>\n",
       "      <td>False</td>\n",
       "      <td>False</td>\n",
       "      <td>0.0467</td>\n",
       "      <td>8.811321</td>\n",
       "      <td>False</td>\n",
       "      <td>True</td>\n",
       "      <td>False</td>\n",
       "      <td>False</td>\n",
       "      <td>False</td>\n",
       "      <td>test_account</td>\n",
       "      <td>1.1381</td>\n",
       "      <td>1.1328</td>\n",
       "      <td>False</td>\n",
       "      <td>False</td>\n",
       "      <td>False</td>\n",
       "      <td>True</td>\n",
       "      <td>False</td>\n",
       "      <td>False</td>\n",
       "      <td>True</td>\n",
       "      <td>False</td>\n",
       "      <td>False</td>\n",
       "      <td>False</td>\n",
       "    </tr>\n",
       "    <tr>\n",
       "      <th>9</th>\n",
       "      <td>1010</td>\n",
       "      <td>2025-01-23 16:02:04.729809</td>\n",
       "      <td>3.148649</td>\n",
       "      <td>NaN</td>\n",
       "      <td>1.1720</td>\n",
       "      <td>True</td>\n",
       "      <td>True</td>\n",
       "      <td>True</td>\n",
       "      <td>False</td>\n",
       "      <td>new_york</td>\n",
       "      <td>0.0221</td>\n",
       "      <td>False</td>\n",
       "      <td>False</td>\n",
       "      <td>False</td>\n",
       "      <td>False</td>\n",
       "      <td>be_after_1r</td>\n",
       "      <td>2.986486</td>\n",
       "      <td>False</td>\n",
       "      <td>False</td>\n",
       "      <td>5.0</td>\n",
       "      <td>NaN</td>\n",
       "      <td>False</td>\n",
       "      <td>long</td>\n",
       "      <td>0.0074</td>\n",
       "      <td>False</td>\n",
       "      <td>False</td>\n",
       "      <td>False</td>\n",
       "      <td>NaN</td>\n",
       "      <td>True</td>\n",
       "      <td>False</td>\n",
       "      <td>0.0233</td>\n",
       "      <td>False</td>\n",
       "      <td>False</td>\n",
       "      <td>False</td>\n",
       "      <td>False</td>\n",
       "      <td>1.1732</td>\n",
       "      <td>None</td>\n",
       "      <td>False</td>\n",
       "      <td>False</td>\n",
       "      <td>0.0221</td>\n",
       "      <td>2.986486</td>\n",
       "      <td>False</td>\n",
       "      <td>False</td>\n",
       "      <td>False</td>\n",
       "      <td>False</td>\n",
       "      <td>False</td>\n",
       "      <td>test_account</td>\n",
       "      <td>1.1499</td>\n",
       "      <td>1.1425</td>\n",
       "      <td>False</td>\n",
       "      <td>False</td>\n",
       "      <td>False</td>\n",
       "      <td>True</td>\n",
       "      <td>True</td>\n",
       "      <td>False</td>\n",
       "      <td>False</td>\n",
       "      <td>False</td>\n",
       "      <td>False</td>\n",
       "      <td>False</td>\n",
       "    </tr>\n",
       "    <tr>\n",
       "      <th>10</th>\n",
       "      <td>1011</td>\n",
       "      <td>2025-01-23 16:02:04.729841</td>\n",
       "      <td>1.412500</td>\n",
       "      <td>loss</td>\n",
       "      <td>1.1532</td>\n",
       "      <td>True</td>\n",
       "      <td>False</td>\n",
       "      <td>False</td>\n",
       "      <td>False</td>\n",
       "      <td>new_york</td>\n",
       "      <td>0.0254</td>\n",
       "      <td>False</td>\n",
       "      <td>False</td>\n",
       "      <td>True</td>\n",
       "      <td>False</td>\n",
       "      <td>be_after_push</td>\n",
       "      <td>3.175000</td>\n",
       "      <td>False</td>\n",
       "      <td>False</td>\n",
       "      <td>2.0</td>\n",
       "      <td>1.1194</td>\n",
       "      <td>False</td>\n",
       "      <td>long</td>\n",
       "      <td>0.0080</td>\n",
       "      <td>False</td>\n",
       "      <td>False</td>\n",
       "      <td>False</td>\n",
       "      <td>-0.0084</td>\n",
       "      <td>True</td>\n",
       "      <td>False</td>\n",
       "      <td>0.0113</td>\n",
       "      <td>False</td>\n",
       "      <td>False</td>\n",
       "      <td>False</td>\n",
       "      <td>False</td>\n",
       "      <td>1.1391</td>\n",
       "      <td>None</td>\n",
       "      <td>False</td>\n",
       "      <td>False</td>\n",
       "      <td>0.0254</td>\n",
       "      <td>3.175000</td>\n",
       "      <td>False</td>\n",
       "      <td>False</td>\n",
       "      <td>False</td>\n",
       "      <td>False</td>\n",
       "      <td>True</td>\n",
       "      <td>test_account</td>\n",
       "      <td>1.1278</td>\n",
       "      <td>1.1198</td>\n",
       "      <td>False</td>\n",
       "      <td>False</td>\n",
       "      <td>False</td>\n",
       "      <td>True</td>\n",
       "      <td>False</td>\n",
       "      <td>True</td>\n",
       "      <td>False</td>\n",
       "      <td>False</td>\n",
       "      <td>True</td>\n",
       "      <td>False</td>\n",
       "    </tr>\n",
       "    <tr>\n",
       "      <th>11</th>\n",
       "      <td>1012</td>\n",
       "      <td>2025-01-23 16:02:04.729874</td>\n",
       "      <td>2.386364</td>\n",
       "      <td>win</td>\n",
       "      <td>1.1587</td>\n",
       "      <td>True</td>\n",
       "      <td>False</td>\n",
       "      <td>False</td>\n",
       "      <td>True</td>\n",
       "      <td>new_york</td>\n",
       "      <td>0.0451</td>\n",
       "      <td>False</td>\n",
       "      <td>False</td>\n",
       "      <td>False</td>\n",
       "      <td>False</td>\n",
       "      <td>be_after_1r</td>\n",
       "      <td>5.125000</td>\n",
       "      <td>False</td>\n",
       "      <td>False</td>\n",
       "      <td>5.0</td>\n",
       "      <td>1.1273</td>\n",
       "      <td>True</td>\n",
       "      <td>long</td>\n",
       "      <td>0.0088</td>\n",
       "      <td>False</td>\n",
       "      <td>False</td>\n",
       "      <td>False</td>\n",
       "      <td>0.0137</td>\n",
       "      <td>False</td>\n",
       "      <td>False</td>\n",
       "      <td>0.0210</td>\n",
       "      <td>False</td>\n",
       "      <td>False</td>\n",
       "      <td>False</td>\n",
       "      <td>False</td>\n",
       "      <td>1.1346</td>\n",
       "      <td>None</td>\n",
       "      <td>False</td>\n",
       "      <td>False</td>\n",
       "      <td>0.0451</td>\n",
       "      <td>5.125000</td>\n",
       "      <td>False</td>\n",
       "      <td>False</td>\n",
       "      <td>False</td>\n",
       "      <td>False</td>\n",
       "      <td>False</td>\n",
       "      <td>test_account</td>\n",
       "      <td>1.1136</td>\n",
       "      <td>1.1048</td>\n",
       "      <td>False</td>\n",
       "      <td>False</td>\n",
       "      <td>True</td>\n",
       "      <td>False</td>\n",
       "      <td>True</td>\n",
       "      <td>False</td>\n",
       "      <td>False</td>\n",
       "      <td>False</td>\n",
       "      <td>False</td>\n",
       "      <td>True</td>\n",
       "    </tr>\n",
       "    <tr>\n",
       "      <th>12</th>\n",
       "      <td>1013</td>\n",
       "      <td>2025-01-23 16:02:04.729906</td>\n",
       "      <td>3.150685</td>\n",
       "      <td>win</td>\n",
       "      <td>1.1696</td>\n",
       "      <td>True</td>\n",
       "      <td>False</td>\n",
       "      <td>False</td>\n",
       "      <td>False</td>\n",
       "      <td>new_york</td>\n",
       "      <td>0.0364</td>\n",
       "      <td>False</td>\n",
       "      <td>False</td>\n",
       "      <td>False</td>\n",
       "      <td>False</td>\n",
       "      <td>no_management</td>\n",
       "      <td>4.986301</td>\n",
       "      <td>False</td>\n",
       "      <td>True</td>\n",
       "      <td>1.0</td>\n",
       "      <td>1.1499</td>\n",
       "      <td>False</td>\n",
       "      <td>long</td>\n",
       "      <td>0.0073</td>\n",
       "      <td>False</td>\n",
       "      <td>False</td>\n",
       "      <td>False</td>\n",
       "      <td>0.0167</td>\n",
       "      <td>False</td>\n",
       "      <td>False</td>\n",
       "      <td>0.0230</td>\n",
       "      <td>False</td>\n",
       "      <td>True</td>\n",
       "      <td>False</td>\n",
       "      <td>False</td>\n",
       "      <td>1.1562</td>\n",
       "      <td>None</td>\n",
       "      <td>False</td>\n",
       "      <td>False</td>\n",
       "      <td>0.0364</td>\n",
       "      <td>4.986301</td>\n",
       "      <td>False</td>\n",
       "      <td>False</td>\n",
       "      <td>False</td>\n",
       "      <td>False</td>\n",
       "      <td>False</td>\n",
       "      <td>test_account</td>\n",
       "      <td>1.1332</td>\n",
       "      <td>1.1259</td>\n",
       "      <td>False</td>\n",
       "      <td>False</td>\n",
       "      <td>True</td>\n",
       "      <td>False</td>\n",
       "      <td>False</td>\n",
       "      <td>False</td>\n",
       "      <td>True</td>\n",
       "      <td>False</td>\n",
       "      <td>False</td>\n",
       "      <td>True</td>\n",
       "    </tr>\n",
       "    <tr>\n",
       "      <th>13</th>\n",
       "      <td>1014</td>\n",
       "      <td>2025-01-23 16:02:04.729936</td>\n",
       "      <td>6.741935</td>\n",
       "      <td>NaN</td>\n",
       "      <td>1.1831</td>\n",
       "      <td>True</td>\n",
       "      <td>False</td>\n",
       "      <td>False</td>\n",
       "      <td>True</td>\n",
       "      <td>new_york</td>\n",
       "      <td>0.0393</td>\n",
       "      <td>False</td>\n",
       "      <td>False</td>\n",
       "      <td>False</td>\n",
       "      <td>False</td>\n",
       "      <td>be_after_push</td>\n",
       "      <td>6.338710</td>\n",
       "      <td>False</td>\n",
       "      <td>False</td>\n",
       "      <td>3.0</td>\n",
       "      <td>NaN</td>\n",
       "      <td>False</td>\n",
       "      <td>long</td>\n",
       "      <td>0.0062</td>\n",
       "      <td>False</td>\n",
       "      <td>False</td>\n",
       "      <td>False</td>\n",
       "      <td>NaN</td>\n",
       "      <td>True</td>\n",
       "      <td>False</td>\n",
       "      <td>0.0418</td>\n",
       "      <td>False</td>\n",
       "      <td>False</td>\n",
       "      <td>False</td>\n",
       "      <td>False</td>\n",
       "      <td>1.1856</td>\n",
       "      <td>None</td>\n",
       "      <td>False</td>\n",
       "      <td>False</td>\n",
       "      <td>0.0393</td>\n",
       "      <td>6.338710</td>\n",
       "      <td>False</td>\n",
       "      <td>True</td>\n",
       "      <td>False</td>\n",
       "      <td>False</td>\n",
       "      <td>False</td>\n",
       "      <td>test_account</td>\n",
       "      <td>1.1438</td>\n",
       "      <td>1.1376</td>\n",
       "      <td>False</td>\n",
       "      <td>False</td>\n",
       "      <td>False</td>\n",
       "      <td>True</td>\n",
       "      <td>False</td>\n",
       "      <td>True</td>\n",
       "      <td>False</td>\n",
       "      <td>False</td>\n",
       "      <td>False</td>\n",
       "      <td>False</td>\n",
       "    </tr>\n",
       "  </tbody>\n",
       "</table>\n",
       "</div>"
      ],
      "text/plain": [
       "   trade_uid                 entry_time  potential_risk_reward outcome  \\\n",
       "0       1001 2025-01-23 16:02:04.728513                    NaN     NaN   \n",
       "1       1002 2025-01-23 16:02:04.728553                    NaN    loss   \n",
       "2       1003 2024-12-27 10:00:01.000000                    NaN     NaN   \n",
       "3       1004 2024-12-25 10:00:00.000000               5.000000     win   \n",
       "4       1005 2025-01-23 16:02:04.729619               3.397959     win   \n",
       "5       1006 2025-01-23 16:02:04.729668               1.590909     NaN   \n",
       "6       1007 2025-01-23 16:02:04.729709               6.558824    loss   \n",
       "7       1008 2025-01-23 16:02:04.729745               5.400000     win   \n",
       "8       1009 2025-01-23 16:02:04.729778               5.264151     NaN   \n",
       "9       1010 2025-01-23 16:02:04.729809               3.148649     NaN   \n",
       "10      1011 2025-01-23 16:02:04.729841               1.412500    loss   \n",
       "11      1012 2025-01-23 16:02:04.729874               2.386364     win   \n",
       "12      1013 2025-01-23 16:02:04.729906               3.150685     win   \n",
       "13      1014 2025-01-23 16:02:04.729936               6.741935     NaN   \n",
       "\n",
       "    tp_price  unit_test  type_2_M  type_1_h4  type_1_w   session  \\\n",
       "0     1.1100      False     False      False     False  new_york   \n",
       "1     1.2100      False     False      False     False  new_york   \n",
       "2     1.3300      False     False      False     False    london   \n",
       "3     1.3300      False     False      False     False    london   \n",
       "4     1.1410       True     False      False     False  new_york   \n",
       "5     1.1560       True     False      False     False  new_york   \n",
       "6     1.1550       True     False       True     False  new_york   \n",
       "7     1.1902       True      True      False     False  new_york   \n",
       "8     1.1848       True     False      False     False  new_york   \n",
       "9     1.1720       True      True       True     False  new_york   \n",
       "10    1.1532       True     False      False     False  new_york   \n",
       "11    1.1587       True     False      False      True  new_york   \n",
       "12    1.1696       True     False      False     False  new_york   \n",
       "13    1.1831       True     False      False      True  new_york   \n",
       "\n",
       "    initial_return  type_3_m15  type_2_m30  type_1_M  type_3_m30  \\\n",
       "0           0.0100        True       False     False       False   \n",
       "1           0.0100       False       False     False       False   \n",
       "2           0.0300       False       False     False       False   \n",
       "3           0.0300       False       False     False       False   \n",
       "4           0.0294       False       False     False       False   \n",
       "5           0.0347       False       False      True       False   \n",
       "6           0.0226       False       False     False       False   \n",
       "7           0.0436       False       False     False       False   \n",
       "8           0.0467       False       False     False       False   \n",
       "9           0.0221       False       False     False       False   \n",
       "10          0.0254       False       False      True       False   \n",
       "11          0.0451       False       False     False       False   \n",
       "12          0.0364       False       False     False       False   \n",
       "13          0.0393       False       False     False       False   \n",
       "\n",
       "   management_strategy  risk_reward_ratio  type_2_m1  type_1_m30  \\\n",
       "0        no_management           2.000000      False       False   \n",
       "1        no_management           0.666667      False       False   \n",
       "2        no_management          10.000000      False       False   \n",
       "3           strategy_2          10.000000      False       False   \n",
       "4          be_after_1r           3.000000      False       False   \n",
       "5        no_management           3.943182      False       False   \n",
       "6        be_after_push           3.323529      False       False   \n",
       "7        be_after_push           7.927273      False       False   \n",
       "8        no_management           8.811321      False        True   \n",
       "9          be_after_1r           2.986486      False       False   \n",
       "10       be_after_push           3.175000      False       False   \n",
       "11         be_after_1r           5.125000      False       False   \n",
       "12       no_management           4.986301      False        True   \n",
       "13       be_after_push           6.338710      False       False   \n",
       "\n",
       "    numerical_confidence  close_price  type_2_m5  side  SL_distance  \\\n",
       "0                    3.0          NaN      False  long       0.0050   \n",
       "1                    2.0       1.1855      False  long       0.0150   \n",
       "2                    NaN          NaN      False  long       0.5000   \n",
       "3                    4.0       1.3050      False  long       0.5000   \n",
       "4                    3.0       1.1248      False  long       0.0098   \n",
       "5                    3.0          NaN      False  long       0.0088   \n",
       "6                    4.0       1.1206      False  long       0.0068   \n",
       "7                    5.0       1.1580      False  long       0.0055   \n",
       "8                    5.0          NaN      False  long       0.0053   \n",
       "9                    5.0          NaN      False  long       0.0074   \n",
       "10                   2.0       1.1194      False  long       0.0080   \n",
       "11                   5.0       1.1273       True  long       0.0088   \n",
       "12                   1.0       1.1499      False  long       0.0073   \n",
       "13                   3.0          NaN      False  long       0.0062   \n",
       "\n",
       "    type_3_m1  type_2_w  type_3_m5  return htf_poi_ltf_confirmation  type_3_M  \\\n",
       "0       False     False      False     NaN                    False     False   \n",
       "1       False     False      False -0.0145                     True     False   \n",
       "2       False     False      False     NaN                    False     False   \n",
       "3       False     False      False  0.0050                    False     False   \n",
       "4       False     False      False  0.0132                    False     False   \n",
       "5       False     False      False     NaN                     True     False   \n",
       "6       False      True      False -0.0118                    False     False   \n",
       "7       False     False      False  0.0114                     True     False   \n",
       "8       False     False      False     NaN                     True     False   \n",
       "9       False     False      False     NaN                     True     False   \n",
       "10      False     False      False -0.0084                     True     False   \n",
       "11      False     False      False  0.0137                    False     False   \n",
       "12      False     False      False  0.0167                    False     False   \n",
       "13      False     False      False     NaN                     True     False   \n",
       "\n",
       "    potential_return  type_1_m1  type_2_d  type_3_h1  type_3_d  \\\n",
       "0                NaN       True     False      False     False   \n",
       "1                NaN      False     False      False     False   \n",
       "2                NaN      False     False      False     False   \n",
       "3             0.0150      False     False      False     False   \n",
       "4             0.0333      False      True      False     False   \n",
       "5             0.0140      False     False      False     False   \n",
       "6             0.0446      False     False      False     False   \n",
       "7             0.0297       True     False      False     False   \n",
       "8             0.0279      False     False      False     False   \n",
       "9             0.0233      False     False      False     False   \n",
       "10            0.0113      False     False      False     False   \n",
       "11            0.0210      False     False      False     False   \n",
       "12            0.0230      False      True      False     False   \n",
       "13            0.0418      False     False      False     False   \n",
       "\n",
       "    potential_price account_name  type_3_h4  type_3_w  TP_distance  \\\n",
       "0               NaN      default      False     False       0.0100   \n",
       "1               NaN      default      False     False       0.0100   \n",
       "2               NaN      default      False     False       0.0300   \n",
       "3            1.3150      default      False     False       0.0300   \n",
       "4            1.1449         None      False     False       0.0294   \n",
       "5            1.1353         None      False     False       0.0347   \n",
       "6            1.1770         None      False     False       0.0226   \n",
       "7            1.1763         None      False     False       0.0436   \n",
       "8            1.1660         None      False     False       0.0467   \n",
       "9            1.1732         None      False     False       0.0221   \n",
       "10           1.1391         None      False     False       0.0254   \n",
       "11           1.1346         None      False     False       0.0451   \n",
       "12           1.1562         None      False     False       0.0364   \n",
       "13           1.1856         None      False     False       0.0393   \n",
       "\n",
       "    initial_risk_reward  type_1_m15  type_2_h4  type_2_m15  type_1_h1  \\\n",
       "0              2.000000       False      False       False      False   \n",
       "1              0.666667       False      False       False      False   \n",
       "2             10.000000       False      False       False      False   \n",
       "3             10.000000       False      False       False      False   \n",
       "4              3.000000       False      False       False      False   \n",
       "5              3.943182       False      False        True      False   \n",
       "6              3.323529       False      False       False      False   \n",
       "7              7.927273       False      False       False      False   \n",
       "8              8.811321       False       True       False      False   \n",
       "9              2.986486       False      False       False      False   \n",
       "10             3.175000       False      False       False      False   \n",
       "11             5.125000       False      False       False      False   \n",
       "12             4.986301       False      False       False      False   \n",
       "13             6.338710       False       True       False      False   \n",
       "\n",
       "    type_2_h1       account  entry_price  sl_price  type_1_m5  type_1_d  \\\n",
       "0       False          None       1.1000    1.0950      False     False   \n",
       "1        True          None       1.2000    1.1850      False     False   \n",
       "2       False          None       1.3000    1.2970      False     False   \n",
       "3       False          None       1.3000    1.2970      False     False   \n",
       "4       False  test_account       1.1116    1.1018      False      True   \n",
       "5       False  test_account       1.1213    1.1125      False     False   \n",
       "6       False  test_account       1.1324    1.1256      False     False   \n",
       "7       False  test_account       1.1466    1.1411      False     False   \n",
       "8       False  test_account       1.1381    1.1328      False     False   \n",
       "9       False  test_account       1.1499    1.1425      False     False   \n",
       "10       True  test_account       1.1278    1.1198      False     False   \n",
       "11      False  test_account       1.1136    1.1048      False     False   \n",
       "12      False  test_account       1.1332    1.1259      False     False   \n",
       "13      False  test_account       1.1438    1.1376      False     False   \n",
       "\n",
       "    htf_poi_ltf_confirmation_False  htf_poi_ltf_confirmation_True  \\\n",
       "0                             True                          False   \n",
       "1                            False                           True   \n",
       "2                             True                          False   \n",
       "3                             True                          False   \n",
       "4                             True                          False   \n",
       "5                            False                           True   \n",
       "6                             True                          False   \n",
       "7                            False                           True   \n",
       "8                            False                           True   \n",
       "9                            False                           True   \n",
       "10                           False                           True   \n",
       "11                            True                          False   \n",
       "12                            True                          False   \n",
       "13                           False                           True   \n",
       "\n",
       "    management_strategy_be_after_1r  management_strategy_be_after_push  \\\n",
       "0                             False                              False   \n",
       "1                             False                              False   \n",
       "2                             False                              False   \n",
       "3                             False                              False   \n",
       "4                              True                              False   \n",
       "5                             False                              False   \n",
       "6                             False                               True   \n",
       "7                             False                               True   \n",
       "8                             False                              False   \n",
       "9                              True                              False   \n",
       "10                            False                               True   \n",
       "11                             True                              False   \n",
       "12                            False                              False   \n",
       "13                            False                               True   \n",
       "\n",
       "    management_strategy_no_management  management_strategy_strategy_2  \\\n",
       "0                                True                           False   \n",
       "1                                True                           False   \n",
       "2                                True                           False   \n",
       "3                               False                            True   \n",
       "4                               False                           False   \n",
       "5                                True                           False   \n",
       "6                               False                           False   \n",
       "7                               False                           False   \n",
       "8                                True                           False   \n",
       "9                               False                           False   \n",
       "10                              False                           False   \n",
       "11                              False                           False   \n",
       "12                               True                           False   \n",
       "13                              False                           False   \n",
       "\n",
       "    outcome_loss  outcome_win  \n",
       "0          False        False  \n",
       "1           True        False  \n",
       "2          False        False  \n",
       "3          False         True  \n",
       "4          False         True  \n",
       "5          False        False  \n",
       "6           True        False  \n",
       "7          False         True  \n",
       "8          False        False  \n",
       "9          False        False  \n",
       "10          True        False  \n",
       "11         False         True  \n",
       "12         False         True  \n",
       "13         False        False  "
      ]
     },
     "execution_count": 8,
     "metadata": {},
     "output_type": "execute_result"
    }
   ],
   "source": [
    "df = j.to_dataframe(config=None)\n",
    "df"
   ]
  },
  {
   "cell_type": "code",
   "execution_count": 12,
   "metadata": {},
   "outputs": [
    {
     "name": "stdout",
     "output_type": "stream",
     "text": [
      "Expected return full search space: 0.0031624999999999848\n",
      "Expected return is positive\n"
     ]
    },
    {
     "data": {
      "text/plain": [
       "type_1_m5                       bool\n",
       "type_2_m5                       bool\n",
       "type_3_m5                       bool\n",
       "htf_poi_ltf_confirmation    category\n",
       "return                       float64\n",
       "dtype: object"
      ]
     },
     "metadata": {},
     "output_type": "display_data"
    },
    {
     "data": {
      "text/html": [
       "<div>\n",
       "<style scoped>\n",
       "    .dataframe tbody tr th:only-of-type {\n",
       "        vertical-align: middle;\n",
       "    }\n",
       "\n",
       "    .dataframe tbody tr th {\n",
       "        vertical-align: top;\n",
       "    }\n",
       "\n",
       "    .dataframe thead th {\n",
       "        text-align: right;\n",
       "    }\n",
       "</style>\n",
       "<table border=\"1\" class=\"dataframe\">\n",
       "  <thead>\n",
       "    <tr style=\"text-align: right;\">\n",
       "      <th></th>\n",
       "      <th>return</th>\n",
       "    </tr>\n",
       "  </thead>\n",
       "  <tbody>\n",
       "    <tr>\n",
       "      <th>count</th>\n",
       "      <td>8.000000</td>\n",
       "    </tr>\n",
       "    <tr>\n",
       "      <th>mean</th>\n",
       "      <td>0.003162</td>\n",
       "    </tr>\n",
       "    <tr>\n",
       "      <th>std</th>\n",
       "      <td>0.012738</td>\n",
       "    </tr>\n",
       "    <tr>\n",
       "      <th>min</th>\n",
       "      <td>-0.014500</td>\n",
       "    </tr>\n",
       "    <tr>\n",
       "      <th>25%</th>\n",
       "      <td>-0.009250</td>\n",
       "    </tr>\n",
       "    <tr>\n",
       "      <th>50%</th>\n",
       "      <td>0.008200</td>\n",
       "    </tr>\n",
       "    <tr>\n",
       "      <th>75%</th>\n",
       "      <td>0.013325</td>\n",
       "    </tr>\n",
       "    <tr>\n",
       "      <th>max</th>\n",
       "      <td>0.016700</td>\n",
       "    </tr>\n",
       "  </tbody>\n",
       "</table>\n",
       "</div>"
      ],
      "text/plain": [
       "         return\n",
       "count  8.000000\n",
       "mean   0.003162\n",
       "std    0.012738\n",
       "min   -0.014500\n",
       "25%   -0.009250\n",
       "50%    0.008200\n",
       "75%    0.013325\n",
       "max    0.016700"
      ]
     },
     "metadata": {},
     "output_type": "display_data"
    },
    {
     "data": {
      "text/html": [
       "<div>\n",
       "<style scoped>\n",
       "    .dataframe tbody tr th:only-of-type {\n",
       "        vertical-align: middle;\n",
       "    }\n",
       "\n",
       "    .dataframe tbody tr th {\n",
       "        vertical-align: top;\n",
       "    }\n",
       "\n",
       "    .dataframe thead th {\n",
       "        text-align: right;\n",
       "    }\n",
       "</style>\n",
       "<table border=\"1\" class=\"dataframe\">\n",
       "  <thead>\n",
       "    <tr style=\"text-align: right;\">\n",
       "      <th></th>\n",
       "      <th>type_1_m5</th>\n",
       "      <th>type_2_m5</th>\n",
       "      <th>type_3_m5</th>\n",
       "      <th>htf_poi_ltf_confirmation</th>\n",
       "      <th>return</th>\n",
       "    </tr>\n",
       "  </thead>\n",
       "  <tbody>\n",
       "    <tr>\n",
       "      <th>1</th>\n",
       "      <td>False</td>\n",
       "      <td>False</td>\n",
       "      <td>False</td>\n",
       "      <td>True</td>\n",
       "      <td>-0.0145</td>\n",
       "    </tr>\n",
       "    <tr>\n",
       "      <th>3</th>\n",
       "      <td>False</td>\n",
       "      <td>False</td>\n",
       "      <td>False</td>\n",
       "      <td>False</td>\n",
       "      <td>0.0050</td>\n",
       "    </tr>\n",
       "    <tr>\n",
       "      <th>4</th>\n",
       "      <td>False</td>\n",
       "      <td>False</td>\n",
       "      <td>False</td>\n",
       "      <td>False</td>\n",
       "      <td>0.0132</td>\n",
       "    </tr>\n",
       "    <tr>\n",
       "      <th>6</th>\n",
       "      <td>False</td>\n",
       "      <td>False</td>\n",
       "      <td>False</td>\n",
       "      <td>False</td>\n",
       "      <td>-0.0118</td>\n",
       "    </tr>\n",
       "    <tr>\n",
       "      <th>7</th>\n",
       "      <td>False</td>\n",
       "      <td>False</td>\n",
       "      <td>False</td>\n",
       "      <td>True</td>\n",
       "      <td>0.0114</td>\n",
       "    </tr>\n",
       "    <tr>\n",
       "      <th>10</th>\n",
       "      <td>False</td>\n",
       "      <td>False</td>\n",
       "      <td>False</td>\n",
       "      <td>True</td>\n",
       "      <td>-0.0084</td>\n",
       "    </tr>\n",
       "    <tr>\n",
       "      <th>11</th>\n",
       "      <td>False</td>\n",
       "      <td>True</td>\n",
       "      <td>False</td>\n",
       "      <td>False</td>\n",
       "      <td>0.0137</td>\n",
       "    </tr>\n",
       "    <tr>\n",
       "      <th>12</th>\n",
       "      <td>False</td>\n",
       "      <td>False</td>\n",
       "      <td>False</td>\n",
       "      <td>False</td>\n",
       "      <td>0.0167</td>\n",
       "    </tr>\n",
       "  </tbody>\n",
       "</table>\n",
       "</div>"
      ],
      "text/plain": [
       "    type_1_m5  type_2_m5  type_3_m5 htf_poi_ltf_confirmation  return\n",
       "1       False      False      False                     True -0.0145\n",
       "3       False      False      False                    False  0.0050\n",
       "4       False      False      False                    False  0.0132\n",
       "6       False      False      False                    False -0.0118\n",
       "7       False      False      False                     True  0.0114\n",
       "10      False      False      False                     True -0.0084\n",
       "11      False       True      False                    False  0.0137\n",
       "12      False      False      False                    False  0.0167"
      ]
     },
     "metadata": {},
     "output_type": "display_data"
    },
    {
     "name": "stdout",
     "output_type": "stream",
     "text": [
      "Best subset: ('type_1_m5',)\n",
      "Best combination: (False,)\n",
      "Best score: 0.0031624999999999848\n",
      "Best subset: ('type_2_m5',)\n",
      "Best combination: (True,)\n",
      "Best score: 0.013700000000000045\n",
      "Best subset: ('type_2_m5',)\n",
      "Best combination: (True,)\n",
      "Best score: 0.013700000000000045\n"
     ]
    }
   ],
   "source": [
    "df_test = df.copy()\n",
    "features = ['type_1_m5', 'type_2_m5', 'type_3_m5', 'htf_poi_ltf_confirmation', 'return']\n",
    "df_test = df_test[features]\n",
    "df_test = df_test.dropna()\n",
    "exptected_return = df_test['return'].mean()\n",
    "print('Expected return full search space:', exptected_return)\n",
    "if exptected_return > 0:\n",
    "    print('Expected return is positive')\n",
    "else:\n",
    "    print('Expected return is negative')\n",
    "df_test\n",
    "\n",
    "display(df_test.dtypes)\n",
    "display(df_test.describe())\n",
    "display(df_test)\n",
    "\n",
    "\n",
    "report_best_performing_tags_value(df_test, y_col='return', score_mode='mean', method='brute_force')"
   ]
  },
  {
   "cell_type": "code",
   "execution_count": 13,
   "metadata": {},
   "outputs": [
    {
     "name": "stderr",
     "output_type": "stream",
     "text": [
      "[I 2025-01-23 16:05:07,771] A new study created in memory with name: default_1\n"
     ]
    },
    {
     "data": {
      "application/vnd.jupyter.widget-view+json": {
       "model_id": "82f685cc73d74e6380181cc7f18d2b11",
       "version_major": 2,
       "version_minor": 0
      },
      "text/plain": [
       "  0%|          | 0/100 [00:00<?, ?it/s]"
      ]
     },
     "metadata": {},
     "output_type": "display_data"
    },
    {
     "name": "stdout",
     "output_type": "stream",
     "text": [
      "[I 2025-01-23 16:05:07,781] Trial 0 finished with value: -0.0038333333333333552 and parameters: {'include_type_1_m5': True, 'value_type_1_m5': False, 'include_type_2_m5': False, 'include_type_3_m5': True, 'value_type_3_m5': False, 'include_htf_poi_ltf_confirmation': True, 'value_htf_poi_ltf_confirmation': True}. Best is trial 0 with value: -0.0038333333333333552.\n",
      "[I 2025-01-23 16:05:07,783] Trial 1 finished with value: 0.0031624999999999848 and parameters: {'include_type_1_m5': False, 'include_type_2_m5': False, 'include_type_3_m5': True, 'value_type_3_m5': False, 'include_htf_poi_ltf_confirmation': False}. Best is trial 1 with value: 0.0031624999999999848.\n",
      "[I 2025-01-23 16:05:07,786] Trial 2 finished with value: 0.013700000000000045 and parameters: {'include_type_1_m5': False, 'include_type_2_m5': True, 'value_type_2_m5': True, 'include_type_3_m5': False, 'include_htf_poi_ltf_confirmation': False}. Best is trial 2 with value: 0.013700000000000045.\n",
      "[I 2025-01-23 16:05:07,791] Trial 3 finished with value: 0.0016571428571428332 and parameters: {'include_type_1_m5': False, 'include_type_2_m5': True, 'value_type_2_m5': False, 'include_type_3_m5': False, 'include_htf_poi_ltf_confirmation': False}. Best is trial 2 with value: 0.013700000000000045.\n",
      "[I 2025-01-23 16:05:07,825] Trial 4 finished with value: -inf and parameters: {'include_type_1_m5': True, 'value_type_1_m5': False, 'include_type_2_m5': True, 'value_type_2_m5': True, 'include_type_3_m5': True, 'value_type_3_m5': False, 'include_htf_poi_ltf_confirmation': True, 'value_htf_poi_ltf_confirmation': True}. Best is trial 2 with value: 0.013700000000000045.\n",
      "[I 2025-01-23 16:05:07,841] Trial 5 finished with value: -0.0038333333333333552 and parameters: {'include_type_1_m5': True, 'value_type_1_m5': False, 'include_type_2_m5': False, 'include_type_3_m5': False, 'include_htf_poi_ltf_confirmation': True, 'value_htf_poi_ltf_confirmation': True}. Best is trial 2 with value: 0.013700000000000045.\n",
      "[I 2025-01-23 16:05:07,845] Trial 6 finished with value: -0.0038333333333333552 and parameters: {'include_type_1_m5': False, 'include_type_2_m5': True, 'value_type_2_m5': False, 'include_type_3_m5': False, 'include_htf_poi_ltf_confirmation': True, 'value_htf_poi_ltf_confirmation': True}. Best is trial 2 with value: 0.013700000000000045.\n",
      "[I 2025-01-23 16:05:07,847] Trial 7 finished with value: 0.013700000000000045 and parameters: {'include_type_1_m5': False, 'include_type_2_m5': True, 'value_type_2_m5': True, 'include_type_3_m5': True, 'value_type_3_m5': False, 'include_htf_poi_ltf_confirmation': False}. Best is trial 2 with value: 0.013700000000000045.\n",
      "[I 2025-01-23 16:05:07,851] Trial 8 finished with value: -0.0038333333333333552 and parameters: {'include_type_1_m5': True, 'value_type_1_m5': False, 'include_type_2_m5': False, 'include_type_3_m5': False, 'include_htf_poi_ltf_confirmation': True, 'value_htf_poi_ltf_confirmation': True}. Best is trial 2 with value: 0.013700000000000045.\n",
      "[I 2025-01-23 16:05:07,855] Trial 9 finished with value: 0.0031624999999999848 and parameters: {'include_type_1_m5': True, 'value_type_1_m5': False, 'include_type_2_m5': False, 'include_type_3_m5': False, 'include_htf_poi_ltf_confirmation': False}. Best is trial 2 with value: 0.013700000000000045.\n",
      "[I 2025-01-23 16:05:07,862] Trial 10 finished with value: 0.013700000000000045 and parameters: {'include_type_1_m5': False, 'include_type_2_m5': True, 'value_type_2_m5': True, 'include_type_3_m5': False, 'include_htf_poi_ltf_confirmation': False}. Best is trial 2 with value: 0.013700000000000045.\n",
      "[I 2025-01-23 16:05:07,867] Trial 11 finished with value: 0.013700000000000045 and parameters: {'include_type_1_m5': False, 'include_type_2_m5': True, 'value_type_2_m5': True, 'include_type_3_m5': True, 'value_type_3_m5': False, 'include_htf_poi_ltf_confirmation': False}. Best is trial 2 with value: 0.013700000000000045.\n",
      "[I 2025-01-23 16:05:07,872] Trial 12 finished with value: 0.013700000000000045 and parameters: {'include_type_1_m5': False, 'include_type_2_m5': True, 'value_type_2_m5': True, 'include_type_3_m5': True, 'value_type_3_m5': False, 'include_htf_poi_ltf_confirmation': False}. Best is trial 2 with value: 0.013700000000000045.\n",
      "[I 2025-01-23 16:05:07,876] Trial 13 finished with value: 0.013700000000000045 and parameters: {'include_type_1_m5': False, 'include_type_2_m5': True, 'value_type_2_m5': True, 'include_type_3_m5': True, 'value_type_3_m5': False, 'include_htf_poi_ltf_confirmation': False}. Best is trial 2 with value: 0.013700000000000045.\n",
      "[I 2025-01-23 16:05:07,879] Trial 14 finished with value: 0.013700000000000045 and parameters: {'include_type_1_m5': False, 'include_type_2_m5': True, 'value_type_2_m5': True, 'include_type_3_m5': False, 'include_htf_poi_ltf_confirmation': False}. Best is trial 2 with value: 0.013700000000000045.\n",
      "[I 2025-01-23 16:05:07,883] Trial 15 finished with value: 0.013700000000000045 and parameters: {'include_type_1_m5': False, 'include_type_2_m5': True, 'value_type_2_m5': True, 'include_type_3_m5': True, 'value_type_3_m5': False, 'include_htf_poi_ltf_confirmation': False}. Best is trial 2 with value: 0.013700000000000045.\n",
      "[I 2025-01-23 16:05:07,886] Trial 16 finished with value: 0.0016571428571428332 and parameters: {'include_type_1_m5': False, 'include_type_2_m5': True, 'value_type_2_m5': False, 'include_type_3_m5': True, 'value_type_3_m5': False, 'include_htf_poi_ltf_confirmation': False}. Best is trial 2 with value: 0.013700000000000045.\n",
      "[I 2025-01-23 16:05:07,889] Trial 17 finished with value: 0.013700000000000045 and parameters: {'include_type_1_m5': False, 'include_type_2_m5': True, 'value_type_2_m5': True, 'include_type_3_m5': False, 'include_htf_poi_ltf_confirmation': False}. Best is trial 2 with value: 0.013700000000000045.\n",
      "[I 2025-01-23 16:05:07,892] Trial 18 finished with value: 0.013700000000000045 and parameters: {'include_type_1_m5': False, 'include_type_2_m5': True, 'value_type_2_m5': True, 'include_type_3_m5': False, 'include_htf_poi_ltf_confirmation': False}. Best is trial 2 with value: 0.013700000000000045.\n",
      "[I 2025-01-23 16:05:07,895] Trial 19 finished with value: 0.0016571428571428332 and parameters: {'include_type_1_m5': False, 'include_type_2_m5': True, 'value_type_2_m5': False, 'include_type_3_m5': True, 'value_type_3_m5': False, 'include_htf_poi_ltf_confirmation': False}. Best is trial 2 with value: 0.013700000000000045.\n",
      "[I 2025-01-23 16:05:07,899] Trial 20 finished with value: 0.013700000000000045 and parameters: {'include_type_1_m5': False, 'include_type_2_m5': True, 'value_type_2_m5': True, 'include_type_3_m5': False, 'include_htf_poi_ltf_confirmation': False}. Best is trial 2 with value: 0.013700000000000045.\n",
      "[I 2025-01-23 16:05:07,903] Trial 21 finished with value: 0.013700000000000045 and parameters: {'include_type_1_m5': False, 'include_type_2_m5': True, 'value_type_2_m5': True, 'include_type_3_m5': False, 'include_htf_poi_ltf_confirmation': False}. Best is trial 2 with value: 0.013700000000000045.\n",
      "[I 2025-01-23 16:05:07,906] Trial 22 finished with value: 0.013700000000000045 and parameters: {'include_type_1_m5': False, 'include_type_2_m5': True, 'value_type_2_m5': True, 'include_type_3_m5': False, 'include_htf_poi_ltf_confirmation': False}. Best is trial 2 with value: 0.013700000000000045.\n",
      "[I 2025-01-23 16:05:07,910] Trial 23 finished with value: 0.013700000000000045 and parameters: {'include_type_1_m5': False, 'include_type_2_m5': True, 'value_type_2_m5': True, 'include_type_3_m5': False, 'include_htf_poi_ltf_confirmation': False}. Best is trial 2 with value: 0.013700000000000045.\n",
      "[I 2025-01-23 16:05:07,913] Trial 24 finished with value: 0.013700000000000045 and parameters: {'include_type_1_m5': False, 'include_type_2_m5': True, 'value_type_2_m5': True, 'include_type_3_m5': False, 'include_htf_poi_ltf_confirmation': False}. Best is trial 2 with value: 0.013700000000000045.\n",
      "[I 2025-01-23 16:05:07,917] Trial 25 finished with value: 0.013700000000000045 and parameters: {'include_type_1_m5': False, 'include_type_2_m5': True, 'value_type_2_m5': True, 'include_type_3_m5': False, 'include_htf_poi_ltf_confirmation': False}. Best is trial 2 with value: 0.013700000000000045.\n",
      "[I 2025-01-23 16:05:07,920] Trial 26 finished with value: 0.007359999999999989 and parameters: {'include_type_1_m5': True, 'value_type_1_m5': False, 'include_type_2_m5': False, 'include_type_3_m5': True, 'value_type_3_m5': False, 'include_htf_poi_ltf_confirmation': True, 'value_htf_poi_ltf_confirmation': False}. Best is trial 2 with value: 0.013700000000000045.\n",
      "[I 2025-01-23 16:05:07,923] Trial 27 finished with value: 0.013700000000000045 and parameters: {'include_type_1_m5': False, 'include_type_2_m5': True, 'value_type_2_m5': True, 'include_type_3_m5': False, 'include_htf_poi_ltf_confirmation': False}. Best is trial 2 with value: 0.013700000000000045.\n",
      "[I 2025-01-23 16:05:07,927] Trial 28 finished with value: 0.013700000000000045 and parameters: {'include_type_1_m5': False, 'include_type_2_m5': True, 'value_type_2_m5': True, 'include_type_3_m5': True, 'value_type_3_m5': False, 'include_htf_poi_ltf_confirmation': False}. Best is trial 2 with value: 0.013700000000000045.\n",
      "[I 2025-01-23 16:05:07,931] Trial 29 finished with value: 0.007359999999999989 and parameters: {'include_type_1_m5': True, 'value_type_1_m5': False, 'include_type_2_m5': False, 'include_type_3_m5': True, 'value_type_3_m5': False, 'include_htf_poi_ltf_confirmation': True, 'value_htf_poi_ltf_confirmation': False}. Best is trial 2 with value: 0.013700000000000045.\n",
      "[I 2025-01-23 16:05:07,958] Trial 30 finished with value: 0.0016571428571428332 and parameters: {'include_type_1_m5': False, 'include_type_2_m5': True, 'value_type_2_m5': False, 'include_type_3_m5': False, 'include_htf_poi_ltf_confirmation': False}. Best is trial 2 with value: 0.013700000000000045.\n",
      "[I 2025-01-23 16:05:07,966] Trial 31 finished with value: 0.013700000000000045 and parameters: {'include_type_1_m5': False, 'include_type_2_m5': True, 'value_type_2_m5': True, 'include_type_3_m5': True, 'value_type_3_m5': False, 'include_htf_poi_ltf_confirmation': False}. Best is trial 2 with value: 0.013700000000000045.\n",
      "[I 2025-01-23 16:05:07,971] Trial 32 finished with value: 0.013700000000000045 and parameters: {'include_type_1_m5': False, 'include_type_2_m5': True, 'value_type_2_m5': True, 'include_type_3_m5': True, 'value_type_3_m5': False, 'include_htf_poi_ltf_confirmation': False}. Best is trial 2 with value: 0.013700000000000045.\n",
      "[I 2025-01-23 16:05:07,974] Trial 33 finished with value: 0.013700000000000045 and parameters: {'include_type_1_m5': False, 'include_type_2_m5': True, 'value_type_2_m5': True, 'include_type_3_m5': True, 'value_type_3_m5': False, 'include_htf_poi_ltf_confirmation': False}. Best is trial 2 with value: 0.013700000000000045.\n",
      "[I 2025-01-23 16:05:07,979] Trial 34 finished with value: 0.013700000000000045 and parameters: {'include_type_1_m5': False, 'include_type_2_m5': True, 'value_type_2_m5': True, 'include_type_3_m5': True, 'value_type_3_m5': False, 'include_htf_poi_ltf_confirmation': False}. Best is trial 2 with value: 0.013700000000000045.\n",
      "[I 2025-01-23 16:05:07,981] Trial 35 finished with value: 0.0031624999999999848 and parameters: {'include_type_1_m5': False, 'include_type_2_m5': False, 'include_type_3_m5': True, 'value_type_3_m5': False, 'include_htf_poi_ltf_confirmation': False}. Best is trial 2 with value: 0.013700000000000045.\n",
      "[I 2025-01-23 16:05:07,986] Trial 36 finished with value: 0.013700000000000045 and parameters: {'include_type_1_m5': True, 'value_type_1_m5': False, 'include_type_2_m5': True, 'value_type_2_m5': True, 'include_type_3_m5': True, 'value_type_3_m5': False, 'include_htf_poi_ltf_confirmation': True, 'value_htf_poi_ltf_confirmation': False}. Best is trial 2 with value: 0.013700000000000045.\n",
      "[I 2025-01-23 16:05:07,990] Trial 37 finished with value: 0.013700000000000045 and parameters: {'include_type_1_m5': False, 'include_type_2_m5': True, 'value_type_2_m5': True, 'include_type_3_m5': False, 'include_htf_poi_ltf_confirmation': False}. Best is trial 2 with value: 0.013700000000000045.\n",
      "[I 2025-01-23 16:05:07,994] Trial 38 finished with value: 0.007359999999999989 and parameters: {'include_type_1_m5': False, 'include_type_2_m5': False, 'include_type_3_m5': True, 'value_type_3_m5': False, 'include_htf_poi_ltf_confirmation': True, 'value_htf_poi_ltf_confirmation': False}. Best is trial 2 with value: 0.013700000000000045.\n",
      "[I 2025-01-23 16:05:07,998] Trial 39 finished with value: 0.0016571428571428332 and parameters: {'include_type_1_m5': True, 'value_type_1_m5': False, 'include_type_2_m5': True, 'value_type_2_m5': False, 'include_type_3_m5': False, 'include_htf_poi_ltf_confirmation': False}. Best is trial 2 with value: 0.013700000000000045.\n",
      "[I 2025-01-23 16:05:08,002] Trial 40 finished with value: 0.013700000000000045 and parameters: {'include_type_1_m5': False, 'include_type_2_m5': True, 'value_type_2_m5': True, 'include_type_3_m5': True, 'value_type_3_m5': False, 'include_htf_poi_ltf_confirmation': False}. Best is trial 2 with value: 0.013700000000000045.\n",
      "[I 2025-01-23 16:05:08,005] Trial 41 finished with value: 0.013700000000000045 and parameters: {'include_type_1_m5': False, 'include_type_2_m5': True, 'value_type_2_m5': True, 'include_type_3_m5': True, 'value_type_3_m5': False, 'include_htf_poi_ltf_confirmation': False}. Best is trial 2 with value: 0.013700000000000045.\n",
      "[I 2025-01-23 16:05:08,009] Trial 42 finished with value: 0.013700000000000045 and parameters: {'include_type_1_m5': False, 'include_type_2_m5': True, 'value_type_2_m5': True, 'include_type_3_m5': True, 'value_type_3_m5': False, 'include_htf_poi_ltf_confirmation': False}. Best is trial 2 with value: 0.013700000000000045.\n",
      "[I 2025-01-23 16:05:08,012] Trial 43 finished with value: 0.013700000000000045 and parameters: {'include_type_1_m5': False, 'include_type_2_m5': True, 'value_type_2_m5': True, 'include_type_3_m5': True, 'value_type_3_m5': False, 'include_htf_poi_ltf_confirmation': False}. Best is trial 2 with value: 0.013700000000000045.\n",
      "[I 2025-01-23 16:05:08,016] Trial 44 finished with value: 0.013700000000000045 and parameters: {'include_type_1_m5': False, 'include_type_2_m5': True, 'value_type_2_m5': True, 'include_type_3_m5': True, 'value_type_3_m5': False, 'include_htf_poi_ltf_confirmation': False}. Best is trial 2 with value: 0.013700000000000045.\n",
      "[I 2025-01-23 16:05:08,019] Trial 45 finished with value: 0.013700000000000045 and parameters: {'include_type_1_m5': False, 'include_type_2_m5': True, 'value_type_2_m5': True, 'include_type_3_m5': True, 'value_type_3_m5': False, 'include_htf_poi_ltf_confirmation': False}. Best is trial 2 with value: 0.013700000000000045.\n",
      "[I 2025-01-23 16:05:08,023] Trial 46 finished with value: 0.007359999999999989 and parameters: {'include_type_1_m5': False, 'include_type_2_m5': False, 'include_type_3_m5': False, 'include_htf_poi_ltf_confirmation': True, 'value_htf_poi_ltf_confirmation': False}. Best is trial 2 with value: 0.013700000000000045.\n",
      "[I 2025-01-23 16:05:08,026] Trial 47 finished with value: 0.0016571428571428332 and parameters: {'include_type_1_m5': True, 'value_type_1_m5': False, 'include_type_2_m5': True, 'value_type_2_m5': False, 'include_type_3_m5': True, 'value_type_3_m5': False, 'include_htf_poi_ltf_confirmation': False}. Best is trial 2 with value: 0.013700000000000045.\n",
      "[I 2025-01-23 16:05:08,029] Trial 48 finished with value: 0.013700000000000045 and parameters: {'include_type_1_m5': False, 'include_type_2_m5': True, 'value_type_2_m5': True, 'include_type_3_m5': False, 'include_htf_poi_ltf_confirmation': False}. Best is trial 2 with value: 0.013700000000000045.\n",
      "[I 2025-01-23 16:05:08,033] Trial 49 finished with value: 0.013700000000000045 and parameters: {'include_type_1_m5': False, 'include_type_2_m5': True, 'value_type_2_m5': True, 'include_type_3_m5': False, 'include_htf_poi_ltf_confirmation': False}. Best is trial 2 with value: 0.013700000000000045.\n",
      "[I 2025-01-23 16:05:08,037] Trial 50 finished with value: 0.013700000000000045 and parameters: {'include_type_1_m5': False, 'include_type_2_m5': True, 'value_type_2_m5': True, 'include_type_3_m5': True, 'value_type_3_m5': False, 'include_htf_poi_ltf_confirmation': False}. Best is trial 2 with value: 0.013700000000000045.\n",
      "[I 2025-01-23 16:05:08,041] Trial 51 finished with value: 0.013700000000000045 and parameters: {'include_type_1_m5': False, 'include_type_2_m5': True, 'value_type_2_m5': True, 'include_type_3_m5': True, 'value_type_3_m5': False, 'include_htf_poi_ltf_confirmation': False}. Best is trial 2 with value: 0.013700000000000045.\n",
      "[I 2025-01-23 16:05:08,044] Trial 52 finished with value: 0.013700000000000045 and parameters: {'include_type_1_m5': False, 'include_type_2_m5': True, 'value_type_2_m5': True, 'include_type_3_m5': True, 'value_type_3_m5': False, 'include_htf_poi_ltf_confirmation': False}. Best is trial 2 with value: 0.013700000000000045.\n",
      "[I 2025-01-23 16:05:08,049] Trial 53 finished with value: 0.013700000000000045 and parameters: {'include_type_1_m5': False, 'include_type_2_m5': True, 'value_type_2_m5': True, 'include_type_3_m5': True, 'value_type_3_m5': False, 'include_htf_poi_ltf_confirmation': False}. Best is trial 2 with value: 0.013700000000000045.\n",
      "[I 2025-01-23 16:05:08,052] Trial 54 finished with value: 0.0016571428571428332 and parameters: {'include_type_1_m5': False, 'include_type_2_m5': True, 'value_type_2_m5': False, 'include_type_3_m5': True, 'value_type_3_m5': False, 'include_htf_poi_ltf_confirmation': False}. Best is trial 2 with value: 0.013700000000000045.\n",
      "[I 2025-01-23 16:05:08,056] Trial 55 finished with value: 0.013700000000000045 and parameters: {'include_type_1_m5': False, 'include_type_2_m5': True, 'value_type_2_m5': True, 'include_type_3_m5': False, 'include_htf_poi_ltf_confirmation': False}. Best is trial 2 with value: 0.013700000000000045.\n",
      "[I 2025-01-23 16:05:08,060] Trial 56 finished with value: 0.013700000000000045 and parameters: {'include_type_1_m5': False, 'include_type_2_m5': True, 'value_type_2_m5': True, 'include_type_3_m5': True, 'value_type_3_m5': False, 'include_htf_poi_ltf_confirmation': False}. Best is trial 2 with value: 0.013700000000000045.\n",
      "[I 2025-01-23 16:05:08,065] Trial 57 finished with value: -0.0038333333333333552 and parameters: {'include_type_1_m5': False, 'include_type_2_m5': False, 'include_type_3_m5': False, 'include_htf_poi_ltf_confirmation': True, 'value_htf_poi_ltf_confirmation': True}. Best is trial 2 with value: 0.013700000000000045.\n",
      "[I 2025-01-23 16:05:08,069] Trial 58 finished with value: 0.013700000000000045 and parameters: {'include_type_1_m5': True, 'value_type_1_m5': False, 'include_type_2_m5': True, 'value_type_2_m5': True, 'include_type_3_m5': True, 'value_type_3_m5': False, 'include_htf_poi_ltf_confirmation': False}. Best is trial 2 with value: 0.013700000000000045.\n",
      "[I 2025-01-23 16:05:08,072] Trial 59 finished with value: 0.013700000000000045 and parameters: {'include_type_1_m5': False, 'include_type_2_m5': True, 'value_type_2_m5': True, 'include_type_3_m5': False, 'include_htf_poi_ltf_confirmation': False}. Best is trial 2 with value: 0.013700000000000045.\n",
      "[I 2025-01-23 16:05:08,076] Trial 60 finished with value: 0.013700000000000045 and parameters: {'include_type_1_m5': False, 'include_type_2_m5': True, 'value_type_2_m5': True, 'include_type_3_m5': True, 'value_type_3_m5': False, 'include_htf_poi_ltf_confirmation': False}. Best is trial 2 with value: 0.013700000000000045.\n",
      "[I 2025-01-23 16:05:08,081] Trial 61 finished with value: 0.013700000000000045 and parameters: {'include_type_1_m5': False, 'include_type_2_m5': True, 'value_type_2_m5': True, 'include_type_3_m5': False, 'include_htf_poi_ltf_confirmation': False}. Best is trial 2 with value: 0.013700000000000045.\n",
      "[I 2025-01-23 16:05:08,109] Trial 62 finished with value: 0.013700000000000045 and parameters: {'include_type_1_m5': False, 'include_type_2_m5': True, 'value_type_2_m5': True, 'include_type_3_m5': False, 'include_htf_poi_ltf_confirmation': False}. Best is trial 2 with value: 0.013700000000000045.\n",
      "[I 2025-01-23 16:05:08,118] Trial 63 finished with value: 0.013700000000000045 and parameters: {'include_type_1_m5': False, 'include_type_2_m5': True, 'value_type_2_m5': True, 'include_type_3_m5': False, 'include_htf_poi_ltf_confirmation': False}. Best is trial 2 with value: 0.013700000000000045.\n",
      "[I 2025-01-23 16:05:08,122] Trial 64 finished with value: 0.013700000000000045 and parameters: {'include_type_1_m5': False, 'include_type_2_m5': True, 'value_type_2_m5': True, 'include_type_3_m5': False, 'include_htf_poi_ltf_confirmation': False}. Best is trial 2 with value: 0.013700000000000045.\n",
      "[I 2025-01-23 16:05:08,126] Trial 65 finished with value: 0.0016571428571428332 and parameters: {'include_type_1_m5': False, 'include_type_2_m5': True, 'value_type_2_m5': False, 'include_type_3_m5': False, 'include_htf_poi_ltf_confirmation': False}. Best is trial 2 with value: 0.013700000000000045.\n",
      "[I 2025-01-23 16:05:08,130] Trial 66 finished with value: 0.013700000000000045 and parameters: {'include_type_1_m5': False, 'include_type_2_m5': True, 'value_type_2_m5': True, 'include_type_3_m5': False, 'include_htf_poi_ltf_confirmation': False}. Best is trial 2 with value: 0.013700000000000045.\n",
      "[I 2025-01-23 16:05:08,133] Trial 67 finished with value: 0.0031624999999999848 and parameters: {'include_type_1_m5': False, 'include_type_2_m5': False, 'include_type_3_m5': True, 'value_type_3_m5': False, 'include_htf_poi_ltf_confirmation': False}. Best is trial 2 with value: 0.013700000000000045.\n",
      "[I 2025-01-23 16:05:08,137] Trial 68 finished with value: 0.013700000000000045 and parameters: {'include_type_1_m5': True, 'value_type_1_m5': False, 'include_type_2_m5': True, 'value_type_2_m5': True, 'include_type_3_m5': False, 'include_htf_poi_ltf_confirmation': True, 'value_htf_poi_ltf_confirmation': False}. Best is trial 2 with value: 0.013700000000000045.\n",
      "[I 2025-01-23 16:05:08,140] Trial 69 finished with value: 0.013700000000000045 and parameters: {'include_type_1_m5': False, 'include_type_2_m5': True, 'value_type_2_m5': True, 'include_type_3_m5': True, 'value_type_3_m5': False, 'include_htf_poi_ltf_confirmation': False}. Best is trial 2 with value: 0.013700000000000045.\n",
      "[I 2025-01-23 16:05:08,144] Trial 70 finished with value: 0.013700000000000045 and parameters: {'include_type_1_m5': False, 'include_type_2_m5': True, 'value_type_2_m5': True, 'include_type_3_m5': False, 'include_htf_poi_ltf_confirmation': False}. Best is trial 2 with value: 0.013700000000000045.\n",
      "[I 2025-01-23 16:05:08,148] Trial 71 finished with value: 0.013700000000000045 and parameters: {'include_type_1_m5': False, 'include_type_2_m5': True, 'value_type_2_m5': True, 'include_type_3_m5': True, 'value_type_3_m5': False, 'include_htf_poi_ltf_confirmation': False}. Best is trial 2 with value: 0.013700000000000045.\n",
      "[I 2025-01-23 16:05:08,152] Trial 72 finished with value: 0.013700000000000045 and parameters: {'include_type_1_m5': False, 'include_type_2_m5': True, 'value_type_2_m5': True, 'include_type_3_m5': True, 'value_type_3_m5': False, 'include_htf_poi_ltf_confirmation': False}. Best is trial 2 with value: 0.013700000000000045.\n",
      "[I 2025-01-23 16:05:08,155] Trial 73 finished with value: 0.013700000000000045 and parameters: {'include_type_1_m5': False, 'include_type_2_m5': True, 'value_type_2_m5': True, 'include_type_3_m5': True, 'value_type_3_m5': False, 'include_htf_poi_ltf_confirmation': False}. Best is trial 2 with value: 0.013700000000000045.\n",
      "[I 2025-01-23 16:05:08,159] Trial 74 finished with value: 0.013700000000000045 and parameters: {'include_type_1_m5': False, 'include_type_2_m5': True, 'value_type_2_m5': True, 'include_type_3_m5': True, 'value_type_3_m5': False, 'include_htf_poi_ltf_confirmation': False}. Best is trial 2 with value: 0.013700000000000045.\n",
      "[I 2025-01-23 16:05:08,162] Trial 75 finished with value: 0.013700000000000045 and parameters: {'include_type_1_m5': False, 'include_type_2_m5': True, 'value_type_2_m5': True, 'include_type_3_m5': True, 'value_type_3_m5': False, 'include_htf_poi_ltf_confirmation': False}. Best is trial 2 with value: 0.013700000000000045.\n",
      "[I 2025-01-23 16:05:08,166] Trial 76 finished with value: 0.0016571428571428332 and parameters: {'include_type_1_m5': False, 'include_type_2_m5': True, 'value_type_2_m5': False, 'include_type_3_m5': True, 'value_type_3_m5': False, 'include_htf_poi_ltf_confirmation': False}. Best is trial 2 with value: 0.013700000000000045.\n",
      "[I 2025-01-23 16:05:08,170] Trial 77 finished with value: 0.013700000000000045 and parameters: {'include_type_1_m5': False, 'include_type_2_m5': True, 'value_type_2_m5': True, 'include_type_3_m5': True, 'value_type_3_m5': False, 'include_htf_poi_ltf_confirmation': False}. Best is trial 2 with value: 0.013700000000000045.\n",
      "[I 2025-01-23 16:05:08,174] Trial 78 finished with value: 0.007359999999999989 and parameters: {'include_type_1_m5': False, 'include_type_2_m5': False, 'include_type_3_m5': False, 'include_htf_poi_ltf_confirmation': True, 'value_htf_poi_ltf_confirmation': False}. Best is trial 2 with value: 0.013700000000000045.\n",
      "[I 2025-01-23 16:05:08,178] Trial 79 finished with value: 0.013700000000000045 and parameters: {'include_type_1_m5': True, 'value_type_1_m5': False, 'include_type_2_m5': True, 'value_type_2_m5': True, 'include_type_3_m5': True, 'value_type_3_m5': False, 'include_htf_poi_ltf_confirmation': False}. Best is trial 2 with value: 0.013700000000000045.\n",
      "[I 2025-01-23 16:05:08,182] Trial 80 finished with value: 0.013700000000000045 and parameters: {'include_type_1_m5': False, 'include_type_2_m5': True, 'value_type_2_m5': True, 'include_type_3_m5': True, 'value_type_3_m5': False, 'include_htf_poi_ltf_confirmation': False}. Best is trial 2 with value: 0.013700000000000045.\n",
      "[I 2025-01-23 16:05:08,186] Trial 81 finished with value: 0.013700000000000045 and parameters: {'include_type_1_m5': False, 'include_type_2_m5': True, 'value_type_2_m5': True, 'include_type_3_m5': False, 'include_htf_poi_ltf_confirmation': False}. Best is trial 2 with value: 0.013700000000000045.\n",
      "[I 2025-01-23 16:05:08,189] Trial 82 finished with value: 0.013700000000000045 and parameters: {'include_type_1_m5': False, 'include_type_2_m5': True, 'value_type_2_m5': True, 'include_type_3_m5': False, 'include_htf_poi_ltf_confirmation': False}. Best is trial 2 with value: 0.013700000000000045.\n",
      "[I 2025-01-23 16:05:08,193] Trial 83 finished with value: 0.013700000000000045 and parameters: {'include_type_1_m5': False, 'include_type_2_m5': True, 'value_type_2_m5': True, 'include_type_3_m5': False, 'include_htf_poi_ltf_confirmation': False}. Best is trial 2 with value: 0.013700000000000045.\n",
      "[I 2025-01-23 16:05:08,196] Trial 84 finished with value: 0.013700000000000045 and parameters: {'include_type_1_m5': False, 'include_type_2_m5': True, 'value_type_2_m5': True, 'include_type_3_m5': False, 'include_htf_poi_ltf_confirmation': False}. Best is trial 2 with value: 0.013700000000000045.\n",
      "[I 2025-01-23 16:05:08,200] Trial 85 finished with value: 0.013700000000000045 and parameters: {'include_type_1_m5': False, 'include_type_2_m5': True, 'value_type_2_m5': True, 'include_type_3_m5': False, 'include_htf_poi_ltf_confirmation': False}. Best is trial 2 with value: 0.013700000000000045.\n",
      "[I 2025-01-23 16:05:08,204] Trial 86 finished with value: 0.013700000000000045 and parameters: {'include_type_1_m5': False, 'include_type_2_m5': True, 'value_type_2_m5': True, 'include_type_3_m5': False, 'include_htf_poi_ltf_confirmation': False}. Best is trial 2 with value: 0.013700000000000045.\n",
      "[I 2025-01-23 16:05:08,208] Trial 87 finished with value: 0.013700000000000045 and parameters: {'include_type_1_m5': False, 'include_type_2_m5': True, 'value_type_2_m5': True, 'include_type_3_m5': True, 'value_type_3_m5': False, 'include_htf_poi_ltf_confirmation': False}. Best is trial 2 with value: 0.013700000000000045.\n",
      "[I 2025-01-23 16:05:08,212] Trial 88 finished with value: 0.0016571428571428332 and parameters: {'include_type_1_m5': False, 'include_type_2_m5': True, 'value_type_2_m5': False, 'include_type_3_m5': True, 'value_type_3_m5': False, 'include_htf_poi_ltf_confirmation': False}. Best is trial 2 with value: 0.013700000000000045.\n",
      "[I 2025-01-23 16:05:08,216] Trial 89 finished with value: -0.0038333333333333552 and parameters: {'include_type_1_m5': False, 'include_type_2_m5': False, 'include_type_3_m5': False, 'include_htf_poi_ltf_confirmation': True, 'value_htf_poi_ltf_confirmation': True}. Best is trial 2 with value: 0.013700000000000045.\n",
      "[I 2025-01-23 16:05:08,220] Trial 90 finished with value: 0.013700000000000045 and parameters: {'include_type_1_m5': True, 'value_type_1_m5': False, 'include_type_2_m5': True, 'value_type_2_m5': True, 'include_type_3_m5': True, 'value_type_3_m5': False, 'include_htf_poi_ltf_confirmation': False}. Best is trial 2 with value: 0.013700000000000045.\n",
      "[I 2025-01-23 16:05:08,224] Trial 91 finished with value: 0.013700000000000045 and parameters: {'include_type_1_m5': False, 'include_type_2_m5': True, 'value_type_2_m5': True, 'include_type_3_m5': False, 'include_htf_poi_ltf_confirmation': False}. Best is trial 2 with value: 0.013700000000000045.\n",
      "[I 2025-01-23 16:05:08,228] Trial 92 finished with value: 0.013700000000000045 and parameters: {'include_type_1_m5': False, 'include_type_2_m5': True, 'value_type_2_m5': True, 'include_type_3_m5': False, 'include_htf_poi_ltf_confirmation': False}. Best is trial 2 with value: 0.013700000000000045.\n",
      "[I 2025-01-23 16:05:08,232] Trial 93 finished with value: 0.013700000000000045 and parameters: {'include_type_1_m5': False, 'include_type_2_m5': True, 'value_type_2_m5': True, 'include_type_3_m5': False, 'include_htf_poi_ltf_confirmation': False}. Best is trial 2 with value: 0.013700000000000045.\n",
      "[I 2025-01-23 16:05:08,236] Trial 94 finished with value: 0.013700000000000045 and parameters: {'include_type_1_m5': False, 'include_type_2_m5': True, 'value_type_2_m5': True, 'include_type_3_m5': False, 'include_htf_poi_ltf_confirmation': False}. Best is trial 2 with value: 0.013700000000000045.\n",
      "[I 2025-01-23 16:05:08,240] Trial 95 finished with value: 0.013700000000000045 and parameters: {'include_type_1_m5': False, 'include_type_2_m5': True, 'value_type_2_m5': True, 'include_type_3_m5': False, 'include_htf_poi_ltf_confirmation': False}. Best is trial 2 with value: 0.013700000000000045.\n",
      "[I 2025-01-23 16:05:08,244] Trial 96 finished with value: 0.013700000000000045 and parameters: {'include_type_1_m5': False, 'include_type_2_m5': True, 'value_type_2_m5': True, 'include_type_3_m5': False, 'include_htf_poi_ltf_confirmation': False}. Best is trial 2 with value: 0.013700000000000045.\n",
      "[I 2025-01-23 16:05:08,248] Trial 97 finished with value: 0.013700000000000045 and parameters: {'include_type_1_m5': False, 'include_type_2_m5': True, 'value_type_2_m5': True, 'include_type_3_m5': True, 'value_type_3_m5': False, 'include_htf_poi_ltf_confirmation': False}. Best is trial 2 with value: 0.013700000000000045.\n",
      "[I 2025-01-23 16:05:08,253] Trial 98 finished with value: 0.013700000000000045 and parameters: {'include_type_1_m5': False, 'include_type_2_m5': True, 'value_type_2_m5': True, 'include_type_3_m5': True, 'value_type_3_m5': False, 'include_htf_poi_ltf_confirmation': False}. Best is trial 2 with value: 0.013700000000000045.\n",
      "[I 2025-01-23 16:05:08,257] Trial 99 finished with value: 0.013700000000000045 and parameters: {'include_type_1_m5': False, 'include_type_2_m5': True, 'value_type_2_m5': True, 'include_type_3_m5': False, 'include_htf_poi_ltf_confirmation': False}. Best is trial 2 with value: 0.013700000000000045.\n",
      "Best parameters: {'include_type_1_m5': False, 'include_type_2_m5': True, 'value_type_2_m5': True, 'include_type_3_m5': False, 'include_htf_poi_ltf_confirmation': False}\n",
      "Best score: 0.013700000000000045\n"
     ]
    }
   ],
   "source": [
    "import src.tradecli\n",
    "cfg = src.tradecli.ReportOptunaConfig(study_name='default_1')\n",
    "res = report_best_performing_tags_value(df_test, \n",
    "                                  y_col='return', \n",
    "                                  score_mode='mean', method='optuna', config=cfg)"
   ]
  },
  {
   "cell_type": "code",
   "execution_count": 14,
   "metadata": {},
   "outputs": [
    {
     "data": {
      "text/plain": [
       "(<optuna.study.study.Study at 0x1682b4dd0>,\n",
       " {'include_type_1_m5': False,\n",
       "  'include_type_2_m5': True,\n",
       "  'value_type_2_m5': True,\n",
       "  'include_type_3_m5': False,\n",
       "  'include_htf_poi_ltf_confirmation': False},\n",
       " 0.013700000000000045)"
      ]
     },
     "execution_count": 14,
     "metadata": {},
     "output_type": "execute_result"
    }
   ],
   "source": [
    "res"
   ]
  },
  {
   "cell_type": "code",
   "execution_count": 15,
   "metadata": {},
   "outputs": [],
   "source": [
    "res[0].best_trial\n",
    "study = res[0]"
   ]
  },
  {
   "cell_type": "code",
   "execution_count": 16,
   "metadata": {},
   "outputs": [
    {
     "data": {
      "application/vnd.plotly.v1+json": {
       "config": {
        "plotlyServerURL": "https://plot.ly"
       },
       "data": [
        {
         "mode": "markers",
         "name": "Objective Value",
         "type": "scatter",
         "x": [
          0,
          1,
          2,
          3,
          4,
          5,
          6,
          7,
          8,
          9,
          10,
          11,
          12,
          13,
          14,
          15,
          16,
          17,
          18,
          19,
          20,
          21,
          22,
          23,
          24,
          25,
          26,
          27,
          28,
          29,
          30,
          31,
          32,
          33,
          34,
          35,
          36,
          37,
          38,
          39,
          40,
          41,
          42,
          43,
          44,
          45,
          46,
          47,
          48,
          49,
          50,
          51,
          52,
          53,
          54,
          55,
          56,
          57,
          58,
          59,
          60,
          61,
          62,
          63,
          64,
          65,
          66,
          67,
          68,
          69,
          70,
          71,
          72,
          73,
          74,
          75,
          76,
          77,
          78,
          79,
          80,
          81,
          82,
          83,
          84,
          85,
          86,
          87,
          88,
          89,
          90,
          91,
          92,
          93,
          94,
          95,
          96,
          97,
          98,
          99
         ],
         "y": [
          -0.0038333333333333552,
          0.0031624999999999848,
          0.013700000000000045,
          0.0016571428571428332,
          null,
          -0.0038333333333333552,
          -0.0038333333333333552,
          0.013700000000000045,
          -0.0038333333333333552,
          0.0031624999999999848,
          0.013700000000000045,
          0.013700000000000045,
          0.013700000000000045,
          0.013700000000000045,
          0.013700000000000045,
          0.013700000000000045,
          0.0016571428571428332,
          0.013700000000000045,
          0.013700000000000045,
          0.0016571428571428332,
          0.013700000000000045,
          0.013700000000000045,
          0.013700000000000045,
          0.013700000000000045,
          0.013700000000000045,
          0.013700000000000045,
          0.007359999999999989,
          0.013700000000000045,
          0.013700000000000045,
          0.007359999999999989,
          0.0016571428571428332,
          0.013700000000000045,
          0.013700000000000045,
          0.013700000000000045,
          0.013700000000000045,
          0.0031624999999999848,
          0.013700000000000045,
          0.013700000000000045,
          0.007359999999999989,
          0.0016571428571428332,
          0.013700000000000045,
          0.013700000000000045,
          0.013700000000000045,
          0.013700000000000045,
          0.013700000000000045,
          0.013700000000000045,
          0.007359999999999989,
          0.0016571428571428332,
          0.013700000000000045,
          0.013700000000000045,
          0.013700000000000045,
          0.013700000000000045,
          0.013700000000000045,
          0.013700000000000045,
          0.0016571428571428332,
          0.013700000000000045,
          0.013700000000000045,
          -0.0038333333333333552,
          0.013700000000000045,
          0.013700000000000045,
          0.013700000000000045,
          0.013700000000000045,
          0.013700000000000045,
          0.013700000000000045,
          0.013700000000000045,
          0.0016571428571428332,
          0.013700000000000045,
          0.0031624999999999848,
          0.013700000000000045,
          0.013700000000000045,
          0.013700000000000045,
          0.013700000000000045,
          0.013700000000000045,
          0.013700000000000045,
          0.013700000000000045,
          0.013700000000000045,
          0.0016571428571428332,
          0.013700000000000045,
          0.007359999999999989,
          0.013700000000000045,
          0.013700000000000045,
          0.013700000000000045,
          0.013700000000000045,
          0.013700000000000045,
          0.013700000000000045,
          0.013700000000000045,
          0.013700000000000045,
          0.013700000000000045,
          0.0016571428571428332,
          -0.0038333333333333552,
          0.013700000000000045,
          0.013700000000000045,
          0.013700000000000045,
          0.013700000000000045,
          0.013700000000000045,
          0.013700000000000045,
          0.013700000000000045,
          0.013700000000000045,
          0.013700000000000045,
          0.013700000000000045
         ]
        },
        {
         "mode": "lines",
         "name": "Best Value",
         "type": "scatter",
         "x": [
          0,
          1,
          2,
          3,
          4,
          5,
          6,
          7,
          8,
          9,
          10,
          11,
          12,
          13,
          14,
          15,
          16,
          17,
          18,
          19,
          20,
          21,
          22,
          23,
          24,
          25,
          26,
          27,
          28,
          29,
          30,
          31,
          32,
          33,
          34,
          35,
          36,
          37,
          38,
          39,
          40,
          41,
          42,
          43,
          44,
          45,
          46,
          47,
          48,
          49,
          50,
          51,
          52,
          53,
          54,
          55,
          56,
          57,
          58,
          59,
          60,
          61,
          62,
          63,
          64,
          65,
          66,
          67,
          68,
          69,
          70,
          71,
          72,
          73,
          74,
          75,
          76,
          77,
          78,
          79,
          80,
          81,
          82,
          83,
          84,
          85,
          86,
          87,
          88,
          89,
          90,
          91,
          92,
          93,
          94,
          95,
          96,
          97,
          98,
          99
         ],
         "y": [
          -0.0038333333333333552,
          0.0031624999999999848,
          0.013700000000000045,
          0.013700000000000045,
          0.013700000000000045,
          0.013700000000000045,
          0.013700000000000045,
          0.013700000000000045,
          0.013700000000000045,
          0.013700000000000045,
          0.013700000000000045,
          0.013700000000000045,
          0.013700000000000045,
          0.013700000000000045,
          0.013700000000000045,
          0.013700000000000045,
          0.013700000000000045,
          0.013700000000000045,
          0.013700000000000045,
          0.013700000000000045,
          0.013700000000000045,
          0.013700000000000045,
          0.013700000000000045,
          0.013700000000000045,
          0.013700000000000045,
          0.013700000000000045,
          0.013700000000000045,
          0.013700000000000045,
          0.013700000000000045,
          0.013700000000000045,
          0.013700000000000045,
          0.013700000000000045,
          0.013700000000000045,
          0.013700000000000045,
          0.013700000000000045,
          0.013700000000000045,
          0.013700000000000045,
          0.013700000000000045,
          0.013700000000000045,
          0.013700000000000045,
          0.013700000000000045,
          0.013700000000000045,
          0.013700000000000045,
          0.013700000000000045,
          0.013700000000000045,
          0.013700000000000045,
          0.013700000000000045,
          0.013700000000000045,
          0.013700000000000045,
          0.013700000000000045,
          0.013700000000000045,
          0.013700000000000045,
          0.013700000000000045,
          0.013700000000000045,
          0.013700000000000045,
          0.013700000000000045,
          0.013700000000000045,
          0.013700000000000045,
          0.013700000000000045,
          0.013700000000000045,
          0.013700000000000045,
          0.013700000000000045,
          0.013700000000000045,
          0.013700000000000045,
          0.013700000000000045,
          0.013700000000000045,
          0.013700000000000045,
          0.013700000000000045,
          0.013700000000000045,
          0.013700000000000045,
          0.013700000000000045,
          0.013700000000000045,
          0.013700000000000045,
          0.013700000000000045,
          0.013700000000000045,
          0.013700000000000045,
          0.013700000000000045,
          0.013700000000000045,
          0.013700000000000045,
          0.013700000000000045,
          0.013700000000000045,
          0.013700000000000045,
          0.013700000000000045,
          0.013700000000000045,
          0.013700000000000045,
          0.013700000000000045,
          0.013700000000000045,
          0.013700000000000045,
          0.013700000000000045,
          0.013700000000000045,
          0.013700000000000045,
          0.013700000000000045,
          0.013700000000000045,
          0.013700000000000045,
          0.013700000000000045,
          0.013700000000000045,
          0.013700000000000045,
          0.013700000000000045,
          0.013700000000000045,
          0.013700000000000045
         ]
        },
        {
         "marker": {
          "color": "#cccccc"
         },
         "mode": "markers",
         "name": "Infeasible Trial",
         "showlegend": false,
         "type": "scatter",
         "x": [],
         "y": []
        }
       ],
       "layout": {
        "template": {
         "data": {
          "bar": [
           {
            "error_x": {
             "color": "#2a3f5f"
            },
            "error_y": {
             "color": "#2a3f5f"
            },
            "marker": {
             "line": {
              "color": "#E5ECF6",
              "width": 0.5
             },
             "pattern": {
              "fillmode": "overlay",
              "size": 10,
              "solidity": 0.2
             }
            },
            "type": "bar"
           }
          ],
          "barpolar": [
           {
            "marker": {
             "line": {
              "color": "#E5ECF6",
              "width": 0.5
             },
             "pattern": {
              "fillmode": "overlay",
              "size": 10,
              "solidity": 0.2
             }
            },
            "type": "barpolar"
           }
          ],
          "carpet": [
           {
            "aaxis": {
             "endlinecolor": "#2a3f5f",
             "gridcolor": "white",
             "linecolor": "white",
             "minorgridcolor": "white",
             "startlinecolor": "#2a3f5f"
            },
            "baxis": {
             "endlinecolor": "#2a3f5f",
             "gridcolor": "white",
             "linecolor": "white",
             "minorgridcolor": "white",
             "startlinecolor": "#2a3f5f"
            },
            "type": "carpet"
           }
          ],
          "choropleth": [
           {
            "colorbar": {
             "outlinewidth": 0,
             "ticks": ""
            },
            "type": "choropleth"
           }
          ],
          "contour": [
           {
            "colorbar": {
             "outlinewidth": 0,
             "ticks": ""
            },
            "colorscale": [
             [
              0,
              "#0d0887"
             ],
             [
              0.1111111111111111,
              "#46039f"
             ],
             [
              0.2222222222222222,
              "#7201a8"
             ],
             [
              0.3333333333333333,
              "#9c179e"
             ],
             [
              0.4444444444444444,
              "#bd3786"
             ],
             [
              0.5555555555555556,
              "#d8576b"
             ],
             [
              0.6666666666666666,
              "#ed7953"
             ],
             [
              0.7777777777777778,
              "#fb9f3a"
             ],
             [
              0.8888888888888888,
              "#fdca26"
             ],
             [
              1,
              "#f0f921"
             ]
            ],
            "type": "contour"
           }
          ],
          "contourcarpet": [
           {
            "colorbar": {
             "outlinewidth": 0,
             "ticks": ""
            },
            "type": "contourcarpet"
           }
          ],
          "heatmap": [
           {
            "colorbar": {
             "outlinewidth": 0,
             "ticks": ""
            },
            "colorscale": [
             [
              0,
              "#0d0887"
             ],
             [
              0.1111111111111111,
              "#46039f"
             ],
             [
              0.2222222222222222,
              "#7201a8"
             ],
             [
              0.3333333333333333,
              "#9c179e"
             ],
             [
              0.4444444444444444,
              "#bd3786"
             ],
             [
              0.5555555555555556,
              "#d8576b"
             ],
             [
              0.6666666666666666,
              "#ed7953"
             ],
             [
              0.7777777777777778,
              "#fb9f3a"
             ],
             [
              0.8888888888888888,
              "#fdca26"
             ],
             [
              1,
              "#f0f921"
             ]
            ],
            "type": "heatmap"
           }
          ],
          "heatmapgl": [
           {
            "colorbar": {
             "outlinewidth": 0,
             "ticks": ""
            },
            "colorscale": [
             [
              0,
              "#0d0887"
             ],
             [
              0.1111111111111111,
              "#46039f"
             ],
             [
              0.2222222222222222,
              "#7201a8"
             ],
             [
              0.3333333333333333,
              "#9c179e"
             ],
             [
              0.4444444444444444,
              "#bd3786"
             ],
             [
              0.5555555555555556,
              "#d8576b"
             ],
             [
              0.6666666666666666,
              "#ed7953"
             ],
             [
              0.7777777777777778,
              "#fb9f3a"
             ],
             [
              0.8888888888888888,
              "#fdca26"
             ],
             [
              1,
              "#f0f921"
             ]
            ],
            "type": "heatmapgl"
           }
          ],
          "histogram": [
           {
            "marker": {
             "pattern": {
              "fillmode": "overlay",
              "size": 10,
              "solidity": 0.2
             }
            },
            "type": "histogram"
           }
          ],
          "histogram2d": [
           {
            "colorbar": {
             "outlinewidth": 0,
             "ticks": ""
            },
            "colorscale": [
             [
              0,
              "#0d0887"
             ],
             [
              0.1111111111111111,
              "#46039f"
             ],
             [
              0.2222222222222222,
              "#7201a8"
             ],
             [
              0.3333333333333333,
              "#9c179e"
             ],
             [
              0.4444444444444444,
              "#bd3786"
             ],
             [
              0.5555555555555556,
              "#d8576b"
             ],
             [
              0.6666666666666666,
              "#ed7953"
             ],
             [
              0.7777777777777778,
              "#fb9f3a"
             ],
             [
              0.8888888888888888,
              "#fdca26"
             ],
             [
              1,
              "#f0f921"
             ]
            ],
            "type": "histogram2d"
           }
          ],
          "histogram2dcontour": [
           {
            "colorbar": {
             "outlinewidth": 0,
             "ticks": ""
            },
            "colorscale": [
             [
              0,
              "#0d0887"
             ],
             [
              0.1111111111111111,
              "#46039f"
             ],
             [
              0.2222222222222222,
              "#7201a8"
             ],
             [
              0.3333333333333333,
              "#9c179e"
             ],
             [
              0.4444444444444444,
              "#bd3786"
             ],
             [
              0.5555555555555556,
              "#d8576b"
             ],
             [
              0.6666666666666666,
              "#ed7953"
             ],
             [
              0.7777777777777778,
              "#fb9f3a"
             ],
             [
              0.8888888888888888,
              "#fdca26"
             ],
             [
              1,
              "#f0f921"
             ]
            ],
            "type": "histogram2dcontour"
           }
          ],
          "mesh3d": [
           {
            "colorbar": {
             "outlinewidth": 0,
             "ticks": ""
            },
            "type": "mesh3d"
           }
          ],
          "parcoords": [
           {
            "line": {
             "colorbar": {
              "outlinewidth": 0,
              "ticks": ""
             }
            },
            "type": "parcoords"
           }
          ],
          "pie": [
           {
            "automargin": true,
            "type": "pie"
           }
          ],
          "scatter": [
           {
            "fillpattern": {
             "fillmode": "overlay",
             "size": 10,
             "solidity": 0.2
            },
            "type": "scatter"
           }
          ],
          "scatter3d": [
           {
            "line": {
             "colorbar": {
              "outlinewidth": 0,
              "ticks": ""
             }
            },
            "marker": {
             "colorbar": {
              "outlinewidth": 0,
              "ticks": ""
             }
            },
            "type": "scatter3d"
           }
          ],
          "scattercarpet": [
           {
            "marker": {
             "colorbar": {
              "outlinewidth": 0,
              "ticks": ""
             }
            },
            "type": "scattercarpet"
           }
          ],
          "scattergeo": [
           {
            "marker": {
             "colorbar": {
              "outlinewidth": 0,
              "ticks": ""
             }
            },
            "type": "scattergeo"
           }
          ],
          "scattergl": [
           {
            "marker": {
             "colorbar": {
              "outlinewidth": 0,
              "ticks": ""
             }
            },
            "type": "scattergl"
           }
          ],
          "scattermapbox": [
           {
            "marker": {
             "colorbar": {
              "outlinewidth": 0,
              "ticks": ""
             }
            },
            "type": "scattermapbox"
           }
          ],
          "scatterpolar": [
           {
            "marker": {
             "colorbar": {
              "outlinewidth": 0,
              "ticks": ""
             }
            },
            "type": "scatterpolar"
           }
          ],
          "scatterpolargl": [
           {
            "marker": {
             "colorbar": {
              "outlinewidth": 0,
              "ticks": ""
             }
            },
            "type": "scatterpolargl"
           }
          ],
          "scatterternary": [
           {
            "marker": {
             "colorbar": {
              "outlinewidth": 0,
              "ticks": ""
             }
            },
            "type": "scatterternary"
           }
          ],
          "surface": [
           {
            "colorbar": {
             "outlinewidth": 0,
             "ticks": ""
            },
            "colorscale": [
             [
              0,
              "#0d0887"
             ],
             [
              0.1111111111111111,
              "#46039f"
             ],
             [
              0.2222222222222222,
              "#7201a8"
             ],
             [
              0.3333333333333333,
              "#9c179e"
             ],
             [
              0.4444444444444444,
              "#bd3786"
             ],
             [
              0.5555555555555556,
              "#d8576b"
             ],
             [
              0.6666666666666666,
              "#ed7953"
             ],
             [
              0.7777777777777778,
              "#fb9f3a"
             ],
             [
              0.8888888888888888,
              "#fdca26"
             ],
             [
              1,
              "#f0f921"
             ]
            ],
            "type": "surface"
           }
          ],
          "table": [
           {
            "cells": {
             "fill": {
              "color": "#EBF0F8"
             },
             "line": {
              "color": "white"
             }
            },
            "header": {
             "fill": {
              "color": "#C8D4E3"
             },
             "line": {
              "color": "white"
             }
            },
            "type": "table"
           }
          ]
         },
         "layout": {
          "annotationdefaults": {
           "arrowcolor": "#2a3f5f",
           "arrowhead": 0,
           "arrowwidth": 1
          },
          "autotypenumbers": "strict",
          "coloraxis": {
           "colorbar": {
            "outlinewidth": 0,
            "ticks": ""
           }
          },
          "colorscale": {
           "diverging": [
            [
             0,
             "#8e0152"
            ],
            [
             0.1,
             "#c51b7d"
            ],
            [
             0.2,
             "#de77ae"
            ],
            [
             0.3,
             "#f1b6da"
            ],
            [
             0.4,
             "#fde0ef"
            ],
            [
             0.5,
             "#f7f7f7"
            ],
            [
             0.6,
             "#e6f5d0"
            ],
            [
             0.7,
             "#b8e186"
            ],
            [
             0.8,
             "#7fbc41"
            ],
            [
             0.9,
             "#4d9221"
            ],
            [
             1,
             "#276419"
            ]
           ],
           "sequential": [
            [
             0,
             "#0d0887"
            ],
            [
             0.1111111111111111,
             "#46039f"
            ],
            [
             0.2222222222222222,
             "#7201a8"
            ],
            [
             0.3333333333333333,
             "#9c179e"
            ],
            [
             0.4444444444444444,
             "#bd3786"
            ],
            [
             0.5555555555555556,
             "#d8576b"
            ],
            [
             0.6666666666666666,
             "#ed7953"
            ],
            [
             0.7777777777777778,
             "#fb9f3a"
            ],
            [
             0.8888888888888888,
             "#fdca26"
            ],
            [
             1,
             "#f0f921"
            ]
           ],
           "sequentialminus": [
            [
             0,
             "#0d0887"
            ],
            [
             0.1111111111111111,
             "#46039f"
            ],
            [
             0.2222222222222222,
             "#7201a8"
            ],
            [
             0.3333333333333333,
             "#9c179e"
            ],
            [
             0.4444444444444444,
             "#bd3786"
            ],
            [
             0.5555555555555556,
             "#d8576b"
            ],
            [
             0.6666666666666666,
             "#ed7953"
            ],
            [
             0.7777777777777778,
             "#fb9f3a"
            ],
            [
             0.8888888888888888,
             "#fdca26"
            ],
            [
             1,
             "#f0f921"
            ]
           ]
          },
          "colorway": [
           "#636efa",
           "#EF553B",
           "#00cc96",
           "#ab63fa",
           "#FFA15A",
           "#19d3f3",
           "#FF6692",
           "#B6E880",
           "#FF97FF",
           "#FECB52"
          ],
          "font": {
           "color": "#2a3f5f"
          },
          "geo": {
           "bgcolor": "white",
           "lakecolor": "white",
           "landcolor": "#E5ECF6",
           "showlakes": true,
           "showland": true,
           "subunitcolor": "white"
          },
          "hoverlabel": {
           "align": "left"
          },
          "hovermode": "closest",
          "mapbox": {
           "style": "light"
          },
          "paper_bgcolor": "white",
          "plot_bgcolor": "#E5ECF6",
          "polar": {
           "angularaxis": {
            "gridcolor": "white",
            "linecolor": "white",
            "ticks": ""
           },
           "bgcolor": "#E5ECF6",
           "radialaxis": {
            "gridcolor": "white",
            "linecolor": "white",
            "ticks": ""
           }
          },
          "scene": {
           "xaxis": {
            "backgroundcolor": "#E5ECF6",
            "gridcolor": "white",
            "gridwidth": 2,
            "linecolor": "white",
            "showbackground": true,
            "ticks": "",
            "zerolinecolor": "white"
           },
           "yaxis": {
            "backgroundcolor": "#E5ECF6",
            "gridcolor": "white",
            "gridwidth": 2,
            "linecolor": "white",
            "showbackground": true,
            "ticks": "",
            "zerolinecolor": "white"
           },
           "zaxis": {
            "backgroundcolor": "#E5ECF6",
            "gridcolor": "white",
            "gridwidth": 2,
            "linecolor": "white",
            "showbackground": true,
            "ticks": "",
            "zerolinecolor": "white"
           }
          },
          "shapedefaults": {
           "line": {
            "color": "#2a3f5f"
           }
          },
          "ternary": {
           "aaxis": {
            "gridcolor": "white",
            "linecolor": "white",
            "ticks": ""
           },
           "baxis": {
            "gridcolor": "white",
            "linecolor": "white",
            "ticks": ""
           },
           "bgcolor": "#E5ECF6",
           "caxis": {
            "gridcolor": "white",
            "linecolor": "white",
            "ticks": ""
           }
          },
          "title": {
           "x": 0.05
          },
          "xaxis": {
           "automargin": true,
           "gridcolor": "white",
           "linecolor": "white",
           "ticks": "",
           "title": {
            "standoff": 15
           },
           "zerolinecolor": "white",
           "zerolinewidth": 2
          },
          "yaxis": {
           "automargin": true,
           "gridcolor": "white",
           "linecolor": "white",
           "ticks": "",
           "title": {
            "standoff": 15
           },
           "zerolinecolor": "white",
           "zerolinewidth": 2
          }
         }
        },
        "title": {
         "text": "Optimization History Plot"
        },
        "xaxis": {
         "title": {
          "text": "Trial"
         }
        },
        "yaxis": {
         "title": {
          "text": "Objective Value"
         }
        }
       }
      }
     },
     "metadata": {},
     "output_type": "display_data"
    },
    {
     "data": {
      "application/vnd.plotly.v1+json": {
       "config": {
        "plotlyServerURL": "https://plot.ly"
       },
       "data": [
        {
         "cliponaxis": false,
         "hovertemplate": [
          "include_type_3_m5 (CategoricalDistribution): 0.10314669669902063<extra></extra>",
          "include_type_1_m5 (CategoricalDistribution): 0.12782648669124919<extra></extra>",
          "include_htf_poi_ltf_confirmation (CategoricalDistribution): 0.16997374939964463<extra></extra>",
          "include_type_2_m5 (CategoricalDistribution): 0.5990530672100857<extra></extra>"
         ],
         "name": "Objective Value",
         "orientation": "h",
         "text": [
          "0.10",
          "0.13",
          "0.17",
          "0.60"
         ],
         "textposition": "outside",
         "type": "bar",
         "x": [
          0.10314669669902063,
          0.12782648669124919,
          0.16997374939964463,
          0.5990530672100857
         ],
         "y": [
          "include_type_3_m5",
          "include_type_1_m5",
          "include_htf_poi_ltf_confirmation",
          "include_type_2_m5"
         ]
        }
       ],
       "layout": {
        "template": {
         "data": {
          "bar": [
           {
            "error_x": {
             "color": "#2a3f5f"
            },
            "error_y": {
             "color": "#2a3f5f"
            },
            "marker": {
             "line": {
              "color": "#E5ECF6",
              "width": 0.5
             },
             "pattern": {
              "fillmode": "overlay",
              "size": 10,
              "solidity": 0.2
             }
            },
            "type": "bar"
           }
          ],
          "barpolar": [
           {
            "marker": {
             "line": {
              "color": "#E5ECF6",
              "width": 0.5
             },
             "pattern": {
              "fillmode": "overlay",
              "size": 10,
              "solidity": 0.2
             }
            },
            "type": "barpolar"
           }
          ],
          "carpet": [
           {
            "aaxis": {
             "endlinecolor": "#2a3f5f",
             "gridcolor": "white",
             "linecolor": "white",
             "minorgridcolor": "white",
             "startlinecolor": "#2a3f5f"
            },
            "baxis": {
             "endlinecolor": "#2a3f5f",
             "gridcolor": "white",
             "linecolor": "white",
             "minorgridcolor": "white",
             "startlinecolor": "#2a3f5f"
            },
            "type": "carpet"
           }
          ],
          "choropleth": [
           {
            "colorbar": {
             "outlinewidth": 0,
             "ticks": ""
            },
            "type": "choropleth"
           }
          ],
          "contour": [
           {
            "colorbar": {
             "outlinewidth": 0,
             "ticks": ""
            },
            "colorscale": [
             [
              0,
              "#0d0887"
             ],
             [
              0.1111111111111111,
              "#46039f"
             ],
             [
              0.2222222222222222,
              "#7201a8"
             ],
             [
              0.3333333333333333,
              "#9c179e"
             ],
             [
              0.4444444444444444,
              "#bd3786"
             ],
             [
              0.5555555555555556,
              "#d8576b"
             ],
             [
              0.6666666666666666,
              "#ed7953"
             ],
             [
              0.7777777777777778,
              "#fb9f3a"
             ],
             [
              0.8888888888888888,
              "#fdca26"
             ],
             [
              1,
              "#f0f921"
             ]
            ],
            "type": "contour"
           }
          ],
          "contourcarpet": [
           {
            "colorbar": {
             "outlinewidth": 0,
             "ticks": ""
            },
            "type": "contourcarpet"
           }
          ],
          "heatmap": [
           {
            "colorbar": {
             "outlinewidth": 0,
             "ticks": ""
            },
            "colorscale": [
             [
              0,
              "#0d0887"
             ],
             [
              0.1111111111111111,
              "#46039f"
             ],
             [
              0.2222222222222222,
              "#7201a8"
             ],
             [
              0.3333333333333333,
              "#9c179e"
             ],
             [
              0.4444444444444444,
              "#bd3786"
             ],
             [
              0.5555555555555556,
              "#d8576b"
             ],
             [
              0.6666666666666666,
              "#ed7953"
             ],
             [
              0.7777777777777778,
              "#fb9f3a"
             ],
             [
              0.8888888888888888,
              "#fdca26"
             ],
             [
              1,
              "#f0f921"
             ]
            ],
            "type": "heatmap"
           }
          ],
          "heatmapgl": [
           {
            "colorbar": {
             "outlinewidth": 0,
             "ticks": ""
            },
            "colorscale": [
             [
              0,
              "#0d0887"
             ],
             [
              0.1111111111111111,
              "#46039f"
             ],
             [
              0.2222222222222222,
              "#7201a8"
             ],
             [
              0.3333333333333333,
              "#9c179e"
             ],
             [
              0.4444444444444444,
              "#bd3786"
             ],
             [
              0.5555555555555556,
              "#d8576b"
             ],
             [
              0.6666666666666666,
              "#ed7953"
             ],
             [
              0.7777777777777778,
              "#fb9f3a"
             ],
             [
              0.8888888888888888,
              "#fdca26"
             ],
             [
              1,
              "#f0f921"
             ]
            ],
            "type": "heatmapgl"
           }
          ],
          "histogram": [
           {
            "marker": {
             "pattern": {
              "fillmode": "overlay",
              "size": 10,
              "solidity": 0.2
             }
            },
            "type": "histogram"
           }
          ],
          "histogram2d": [
           {
            "colorbar": {
             "outlinewidth": 0,
             "ticks": ""
            },
            "colorscale": [
             [
              0,
              "#0d0887"
             ],
             [
              0.1111111111111111,
              "#46039f"
             ],
             [
              0.2222222222222222,
              "#7201a8"
             ],
             [
              0.3333333333333333,
              "#9c179e"
             ],
             [
              0.4444444444444444,
              "#bd3786"
             ],
             [
              0.5555555555555556,
              "#d8576b"
             ],
             [
              0.6666666666666666,
              "#ed7953"
             ],
             [
              0.7777777777777778,
              "#fb9f3a"
             ],
             [
              0.8888888888888888,
              "#fdca26"
             ],
             [
              1,
              "#f0f921"
             ]
            ],
            "type": "histogram2d"
           }
          ],
          "histogram2dcontour": [
           {
            "colorbar": {
             "outlinewidth": 0,
             "ticks": ""
            },
            "colorscale": [
             [
              0,
              "#0d0887"
             ],
             [
              0.1111111111111111,
              "#46039f"
             ],
             [
              0.2222222222222222,
              "#7201a8"
             ],
             [
              0.3333333333333333,
              "#9c179e"
             ],
             [
              0.4444444444444444,
              "#bd3786"
             ],
             [
              0.5555555555555556,
              "#d8576b"
             ],
             [
              0.6666666666666666,
              "#ed7953"
             ],
             [
              0.7777777777777778,
              "#fb9f3a"
             ],
             [
              0.8888888888888888,
              "#fdca26"
             ],
             [
              1,
              "#f0f921"
             ]
            ],
            "type": "histogram2dcontour"
           }
          ],
          "mesh3d": [
           {
            "colorbar": {
             "outlinewidth": 0,
             "ticks": ""
            },
            "type": "mesh3d"
           }
          ],
          "parcoords": [
           {
            "line": {
             "colorbar": {
              "outlinewidth": 0,
              "ticks": ""
             }
            },
            "type": "parcoords"
           }
          ],
          "pie": [
           {
            "automargin": true,
            "type": "pie"
           }
          ],
          "scatter": [
           {
            "fillpattern": {
             "fillmode": "overlay",
             "size": 10,
             "solidity": 0.2
            },
            "type": "scatter"
           }
          ],
          "scatter3d": [
           {
            "line": {
             "colorbar": {
              "outlinewidth": 0,
              "ticks": ""
             }
            },
            "marker": {
             "colorbar": {
              "outlinewidth": 0,
              "ticks": ""
             }
            },
            "type": "scatter3d"
           }
          ],
          "scattercarpet": [
           {
            "marker": {
             "colorbar": {
              "outlinewidth": 0,
              "ticks": ""
             }
            },
            "type": "scattercarpet"
           }
          ],
          "scattergeo": [
           {
            "marker": {
             "colorbar": {
              "outlinewidth": 0,
              "ticks": ""
             }
            },
            "type": "scattergeo"
           }
          ],
          "scattergl": [
           {
            "marker": {
             "colorbar": {
              "outlinewidth": 0,
              "ticks": ""
             }
            },
            "type": "scattergl"
           }
          ],
          "scattermapbox": [
           {
            "marker": {
             "colorbar": {
              "outlinewidth": 0,
              "ticks": ""
             }
            },
            "type": "scattermapbox"
           }
          ],
          "scatterpolar": [
           {
            "marker": {
             "colorbar": {
              "outlinewidth": 0,
              "ticks": ""
             }
            },
            "type": "scatterpolar"
           }
          ],
          "scatterpolargl": [
           {
            "marker": {
             "colorbar": {
              "outlinewidth": 0,
              "ticks": ""
             }
            },
            "type": "scatterpolargl"
           }
          ],
          "scatterternary": [
           {
            "marker": {
             "colorbar": {
              "outlinewidth": 0,
              "ticks": ""
             }
            },
            "type": "scatterternary"
           }
          ],
          "surface": [
           {
            "colorbar": {
             "outlinewidth": 0,
             "ticks": ""
            },
            "colorscale": [
             [
              0,
              "#0d0887"
             ],
             [
              0.1111111111111111,
              "#46039f"
             ],
             [
              0.2222222222222222,
              "#7201a8"
             ],
             [
              0.3333333333333333,
              "#9c179e"
             ],
             [
              0.4444444444444444,
              "#bd3786"
             ],
             [
              0.5555555555555556,
              "#d8576b"
             ],
             [
              0.6666666666666666,
              "#ed7953"
             ],
             [
              0.7777777777777778,
              "#fb9f3a"
             ],
             [
              0.8888888888888888,
              "#fdca26"
             ],
             [
              1,
              "#f0f921"
             ]
            ],
            "type": "surface"
           }
          ],
          "table": [
           {
            "cells": {
             "fill": {
              "color": "#EBF0F8"
             },
             "line": {
              "color": "white"
             }
            },
            "header": {
             "fill": {
              "color": "#C8D4E3"
             },
             "line": {
              "color": "white"
             }
            },
            "type": "table"
           }
          ]
         },
         "layout": {
          "annotationdefaults": {
           "arrowcolor": "#2a3f5f",
           "arrowhead": 0,
           "arrowwidth": 1
          },
          "autotypenumbers": "strict",
          "coloraxis": {
           "colorbar": {
            "outlinewidth": 0,
            "ticks": ""
           }
          },
          "colorscale": {
           "diverging": [
            [
             0,
             "#8e0152"
            ],
            [
             0.1,
             "#c51b7d"
            ],
            [
             0.2,
             "#de77ae"
            ],
            [
             0.3,
             "#f1b6da"
            ],
            [
             0.4,
             "#fde0ef"
            ],
            [
             0.5,
             "#f7f7f7"
            ],
            [
             0.6,
             "#e6f5d0"
            ],
            [
             0.7,
             "#b8e186"
            ],
            [
             0.8,
             "#7fbc41"
            ],
            [
             0.9,
             "#4d9221"
            ],
            [
             1,
             "#276419"
            ]
           ],
           "sequential": [
            [
             0,
             "#0d0887"
            ],
            [
             0.1111111111111111,
             "#46039f"
            ],
            [
             0.2222222222222222,
             "#7201a8"
            ],
            [
             0.3333333333333333,
             "#9c179e"
            ],
            [
             0.4444444444444444,
             "#bd3786"
            ],
            [
             0.5555555555555556,
             "#d8576b"
            ],
            [
             0.6666666666666666,
             "#ed7953"
            ],
            [
             0.7777777777777778,
             "#fb9f3a"
            ],
            [
             0.8888888888888888,
             "#fdca26"
            ],
            [
             1,
             "#f0f921"
            ]
           ],
           "sequentialminus": [
            [
             0,
             "#0d0887"
            ],
            [
             0.1111111111111111,
             "#46039f"
            ],
            [
             0.2222222222222222,
             "#7201a8"
            ],
            [
             0.3333333333333333,
             "#9c179e"
            ],
            [
             0.4444444444444444,
             "#bd3786"
            ],
            [
             0.5555555555555556,
             "#d8576b"
            ],
            [
             0.6666666666666666,
             "#ed7953"
            ],
            [
             0.7777777777777778,
             "#fb9f3a"
            ],
            [
             0.8888888888888888,
             "#fdca26"
            ],
            [
             1,
             "#f0f921"
            ]
           ]
          },
          "colorway": [
           "#636efa",
           "#EF553B",
           "#00cc96",
           "#ab63fa",
           "#FFA15A",
           "#19d3f3",
           "#FF6692",
           "#B6E880",
           "#FF97FF",
           "#FECB52"
          ],
          "font": {
           "color": "#2a3f5f"
          },
          "geo": {
           "bgcolor": "white",
           "lakecolor": "white",
           "landcolor": "#E5ECF6",
           "showlakes": true,
           "showland": true,
           "subunitcolor": "white"
          },
          "hoverlabel": {
           "align": "left"
          },
          "hovermode": "closest",
          "mapbox": {
           "style": "light"
          },
          "paper_bgcolor": "white",
          "plot_bgcolor": "#E5ECF6",
          "polar": {
           "angularaxis": {
            "gridcolor": "white",
            "linecolor": "white",
            "ticks": ""
           },
           "bgcolor": "#E5ECF6",
           "radialaxis": {
            "gridcolor": "white",
            "linecolor": "white",
            "ticks": ""
           }
          },
          "scene": {
           "xaxis": {
            "backgroundcolor": "#E5ECF6",
            "gridcolor": "white",
            "gridwidth": 2,
            "linecolor": "white",
            "showbackground": true,
            "ticks": "",
            "zerolinecolor": "white"
           },
           "yaxis": {
            "backgroundcolor": "#E5ECF6",
            "gridcolor": "white",
            "gridwidth": 2,
            "linecolor": "white",
            "showbackground": true,
            "ticks": "",
            "zerolinecolor": "white"
           },
           "zaxis": {
            "backgroundcolor": "#E5ECF6",
            "gridcolor": "white",
            "gridwidth": 2,
            "linecolor": "white",
            "showbackground": true,
            "ticks": "",
            "zerolinecolor": "white"
           }
          },
          "shapedefaults": {
           "line": {
            "color": "#2a3f5f"
           }
          },
          "ternary": {
           "aaxis": {
            "gridcolor": "white",
            "linecolor": "white",
            "ticks": ""
           },
           "baxis": {
            "gridcolor": "white",
            "linecolor": "white",
            "ticks": ""
           },
           "bgcolor": "#E5ECF6",
           "caxis": {
            "gridcolor": "white",
            "linecolor": "white",
            "ticks": ""
           }
          },
          "title": {
           "x": 0.05
          },
          "xaxis": {
           "automargin": true,
           "gridcolor": "white",
           "linecolor": "white",
           "ticks": "",
           "title": {
            "standoff": 15
           },
           "zerolinecolor": "white",
           "zerolinewidth": 2
          },
          "yaxis": {
           "automargin": true,
           "gridcolor": "white",
           "linecolor": "white",
           "ticks": "",
           "title": {
            "standoff": 15
           },
           "zerolinecolor": "white",
           "zerolinewidth": 2
          }
         }
        },
        "title": {
         "text": "Hyperparameter Importances"
        },
        "xaxis": {
         "title": {
          "text": "Hyperparameter Importance"
         }
        },
        "yaxis": {
         "title": {
          "text": "Hyperparameter"
         }
        }
       }
      }
     },
     "metadata": {},
     "output_type": "display_data"
    },
    {
     "data": {
      "application/vnd.plotly.v1+json": {
       "config": {
        "plotlyServerURL": "https://plot.ly"
       },
       "data": [
        {
         "marker": {
          "color": [
           0,
           1,
           2,
           3,
           5,
           6,
           7,
           8,
           9,
           10,
           11,
           12,
           13,
           14,
           15,
           16,
           17,
           18,
           19,
           20,
           21,
           22,
           23,
           24,
           25,
           26,
           27,
           28,
           29,
           30,
           31,
           32,
           33,
           34,
           35,
           36,
           37,
           38,
           39,
           40,
           41,
           42,
           43,
           44,
           45,
           46,
           47,
           48,
           49,
           50,
           51,
           52,
           53,
           54,
           55,
           56,
           57,
           58,
           59,
           60,
           61,
           62,
           63,
           64,
           65,
           66,
           67,
           68,
           69,
           70,
           71,
           72,
           73,
           74,
           75,
           76,
           77,
           78,
           79,
           80,
           81,
           82,
           83,
           84,
           85,
           86,
           87,
           88,
           89,
           90,
           91,
           92,
           93,
           94,
           95,
           96,
           97,
           98,
           99
          ],
          "colorbar": {
           "title": {
            "text": "Trial"
           },
           "x": 1,
           "xpad": 40
          },
          "colorscale": [
           [
            0,
            "rgb(247,251,255)"
           ],
           [
            0.125,
            "rgb(222,235,247)"
           ],
           [
            0.25,
            "rgb(198,219,239)"
           ],
           [
            0.375,
            "rgb(158,202,225)"
           ],
           [
            0.5,
            "rgb(107,174,214)"
           ],
           [
            0.625,
            "rgb(66,146,198)"
           ],
           [
            0.75,
            "rgb(33,113,181)"
           ],
           [
            0.875,
            "rgb(8,81,156)"
           ],
           [
            1,
            "rgb(8,48,107)"
           ]
          ],
          "line": {
           "color": "Grey",
           "width": 0.5
          },
          "showscale": true
         },
         "mode": "markers",
         "name": "Feasible Trial",
         "showlegend": false,
         "type": "scatter",
         "x": [
          true,
          false,
          false,
          false,
          true,
          true,
          false,
          true,
          false,
          false,
          false,
          false,
          false,
          false,
          false,
          false,
          false,
          false,
          false,
          false,
          false,
          false,
          false,
          false,
          false,
          true,
          false,
          false,
          true,
          false,
          false,
          false,
          false,
          false,
          false,
          true,
          false,
          true,
          false,
          false,
          false,
          false,
          false,
          false,
          false,
          true,
          false,
          false,
          false,
          false,
          false,
          false,
          false,
          false,
          false,
          false,
          true,
          false,
          false,
          false,
          false,
          false,
          false,
          false,
          false,
          false,
          false,
          true,
          false,
          false,
          false,
          false,
          false,
          false,
          false,
          false,
          false,
          true,
          false,
          false,
          false,
          false,
          false,
          false,
          false,
          false,
          false,
          false,
          true,
          false,
          false,
          false,
          false,
          false,
          false,
          false,
          false,
          false,
          false
         ],
         "xaxis": "x",
         "y": [
          -0.0038333333333333552,
          0.0031624999999999848,
          0.013700000000000045,
          0.0016571428571428332,
          -0.0038333333333333552,
          -0.0038333333333333552,
          0.013700000000000045,
          -0.0038333333333333552,
          0.0031624999999999848,
          0.013700000000000045,
          0.013700000000000045,
          0.013700000000000045,
          0.013700000000000045,
          0.013700000000000045,
          0.013700000000000045,
          0.0016571428571428332,
          0.013700000000000045,
          0.013700000000000045,
          0.0016571428571428332,
          0.013700000000000045,
          0.013700000000000045,
          0.013700000000000045,
          0.013700000000000045,
          0.013700000000000045,
          0.013700000000000045,
          0.007359999999999989,
          0.013700000000000045,
          0.013700000000000045,
          0.007359999999999989,
          0.0016571428571428332,
          0.013700000000000045,
          0.013700000000000045,
          0.013700000000000045,
          0.013700000000000045,
          0.0031624999999999848,
          0.013700000000000045,
          0.013700000000000045,
          0.007359999999999989,
          0.0016571428571428332,
          0.013700000000000045,
          0.013700000000000045,
          0.013700000000000045,
          0.013700000000000045,
          0.013700000000000045,
          0.013700000000000045,
          0.007359999999999989,
          0.0016571428571428332,
          0.013700000000000045,
          0.013700000000000045,
          0.013700000000000045,
          0.013700000000000045,
          0.013700000000000045,
          0.013700000000000045,
          0.0016571428571428332,
          0.013700000000000045,
          0.013700000000000045,
          -0.0038333333333333552,
          0.013700000000000045,
          0.013700000000000045,
          0.013700000000000045,
          0.013700000000000045,
          0.013700000000000045,
          0.013700000000000045,
          0.013700000000000045,
          0.0016571428571428332,
          0.013700000000000045,
          0.0031624999999999848,
          0.013700000000000045,
          0.013700000000000045,
          0.013700000000000045,
          0.013700000000000045,
          0.013700000000000045,
          0.013700000000000045,
          0.013700000000000045,
          0.013700000000000045,
          0.0016571428571428332,
          0.013700000000000045,
          0.007359999999999989,
          0.013700000000000045,
          0.013700000000000045,
          0.013700000000000045,
          0.013700000000000045,
          0.013700000000000045,
          0.013700000000000045,
          0.013700000000000045,
          0.013700000000000045,
          0.013700000000000045,
          0.0016571428571428332,
          -0.0038333333333333552,
          0.013700000000000045,
          0.013700000000000045,
          0.013700000000000045,
          0.013700000000000045,
          0.013700000000000045,
          0.013700000000000045,
          0.013700000000000045,
          0.013700000000000045,
          0.013700000000000045,
          0.013700000000000045
         ],
         "yaxis": "y"
        },
        {
         "marker": {
          "color": [
           0,
           1,
           2,
           3,
           5,
           6,
           7,
           8,
           9,
           10,
           11,
           12,
           13,
           14,
           15,
           16,
           17,
           18,
           19,
           20,
           21,
           22,
           23,
           24,
           25,
           26,
           27,
           28,
           29,
           30,
           31,
           32,
           33,
           34,
           35,
           36,
           37,
           38,
           39,
           40,
           41,
           42,
           43,
           44,
           45,
           46,
           47,
           48,
           49,
           50,
           51,
           52,
           53,
           54,
           55,
           56,
           57,
           58,
           59,
           60,
           61,
           62,
           63,
           64,
           65,
           66,
           67,
           68,
           69,
           70,
           71,
           72,
           73,
           74,
           75,
           76,
           77,
           78,
           79,
           80,
           81,
           82,
           83,
           84,
           85,
           86,
           87,
           88,
           89,
           90,
           91,
           92,
           93,
           94,
           95,
           96,
           97,
           98,
           99
          ],
          "colorbar": {
           "title": {
            "text": "Trial"
           },
           "x": 1,
           "xpad": 40
          },
          "colorscale": [
           [
            0,
            "rgb(247,251,255)"
           ],
           [
            0.125,
            "rgb(222,235,247)"
           ],
           [
            0.25,
            "rgb(198,219,239)"
           ],
           [
            0.375,
            "rgb(158,202,225)"
           ],
           [
            0.5,
            "rgb(107,174,214)"
           ],
           [
            0.625,
            "rgb(66,146,198)"
           ],
           [
            0.75,
            "rgb(33,113,181)"
           ],
           [
            0.875,
            "rgb(8,81,156)"
           ],
           [
            1,
            "rgb(8,48,107)"
           ]
          ],
          "line": {
           "color": "Grey",
           "width": 0.5
          },
          "showscale": false
         },
         "mode": "markers",
         "name": "Feasible Trial",
         "showlegend": false,
         "type": "scatter",
         "x": [
          true,
          false,
          false,
          false,
          true,
          false,
          false,
          true,
          true,
          false,
          false,
          false,
          false,
          false,
          false,
          false,
          false,
          false,
          false,
          false,
          false,
          false,
          false,
          false,
          false,
          true,
          false,
          false,
          true,
          false,
          false,
          false,
          false,
          false,
          false,
          true,
          false,
          false,
          true,
          false,
          false,
          false,
          false,
          false,
          false,
          false,
          true,
          false,
          false,
          false,
          false,
          false,
          false,
          false,
          false,
          false,
          false,
          true,
          false,
          false,
          false,
          false,
          false,
          false,
          false,
          false,
          false,
          true,
          false,
          false,
          false,
          false,
          false,
          false,
          false,
          false,
          false,
          false,
          true,
          false,
          false,
          false,
          false,
          false,
          false,
          false,
          false,
          false,
          false,
          true,
          false,
          false,
          false,
          false,
          false,
          false,
          false,
          false,
          false
         ],
         "xaxis": "x2",
         "y": [
          -0.0038333333333333552,
          0.0031624999999999848,
          0.013700000000000045,
          0.0016571428571428332,
          -0.0038333333333333552,
          -0.0038333333333333552,
          0.013700000000000045,
          -0.0038333333333333552,
          0.0031624999999999848,
          0.013700000000000045,
          0.013700000000000045,
          0.013700000000000045,
          0.013700000000000045,
          0.013700000000000045,
          0.013700000000000045,
          0.0016571428571428332,
          0.013700000000000045,
          0.013700000000000045,
          0.0016571428571428332,
          0.013700000000000045,
          0.013700000000000045,
          0.013700000000000045,
          0.013700000000000045,
          0.013700000000000045,
          0.013700000000000045,
          0.007359999999999989,
          0.013700000000000045,
          0.013700000000000045,
          0.007359999999999989,
          0.0016571428571428332,
          0.013700000000000045,
          0.013700000000000045,
          0.013700000000000045,
          0.013700000000000045,
          0.0031624999999999848,
          0.013700000000000045,
          0.013700000000000045,
          0.007359999999999989,
          0.0016571428571428332,
          0.013700000000000045,
          0.013700000000000045,
          0.013700000000000045,
          0.013700000000000045,
          0.013700000000000045,
          0.013700000000000045,
          0.007359999999999989,
          0.0016571428571428332,
          0.013700000000000045,
          0.013700000000000045,
          0.013700000000000045,
          0.013700000000000045,
          0.013700000000000045,
          0.013700000000000045,
          0.0016571428571428332,
          0.013700000000000045,
          0.013700000000000045,
          -0.0038333333333333552,
          0.013700000000000045,
          0.013700000000000045,
          0.013700000000000045,
          0.013700000000000045,
          0.013700000000000045,
          0.013700000000000045,
          0.013700000000000045,
          0.0016571428571428332,
          0.013700000000000045,
          0.0031624999999999848,
          0.013700000000000045,
          0.013700000000000045,
          0.013700000000000045,
          0.013700000000000045,
          0.013700000000000045,
          0.013700000000000045,
          0.013700000000000045,
          0.013700000000000045,
          0.0016571428571428332,
          0.013700000000000045,
          0.007359999999999989,
          0.013700000000000045,
          0.013700000000000045,
          0.013700000000000045,
          0.013700000000000045,
          0.013700000000000045,
          0.013700000000000045,
          0.013700000000000045,
          0.013700000000000045,
          0.013700000000000045,
          0.0016571428571428332,
          -0.0038333333333333552,
          0.013700000000000045,
          0.013700000000000045,
          0.013700000000000045,
          0.013700000000000045,
          0.013700000000000045,
          0.013700000000000045,
          0.013700000000000045,
          0.013700000000000045,
          0.013700000000000045,
          0.013700000000000045
         ],
         "yaxis": "y2"
        },
        {
         "marker": {
          "color": [
           0,
           1,
           2,
           3,
           5,
           6,
           7,
           8,
           9,
           10,
           11,
           12,
           13,
           14,
           15,
           16,
           17,
           18,
           19,
           20,
           21,
           22,
           23,
           24,
           25,
           26,
           27,
           28,
           29,
           30,
           31,
           32,
           33,
           34,
           35,
           36,
           37,
           38,
           39,
           40,
           41,
           42,
           43,
           44,
           45,
           46,
           47,
           48,
           49,
           50,
           51,
           52,
           53,
           54,
           55,
           56,
           57,
           58,
           59,
           60,
           61,
           62,
           63,
           64,
           65,
           66,
           67,
           68,
           69,
           70,
           71,
           72,
           73,
           74,
           75,
           76,
           77,
           78,
           79,
           80,
           81,
           82,
           83,
           84,
           85,
           86,
           87,
           88,
           89,
           90,
           91,
           92,
           93,
           94,
           95,
           96,
           97,
           98,
           99
          ],
          "colorbar": {
           "title": {
            "text": "Trial"
           },
           "x": 1,
           "xpad": 40
          },
          "colorscale": [
           [
            0,
            "rgb(247,251,255)"
           ],
           [
            0.125,
            "rgb(222,235,247)"
           ],
           [
            0.25,
            "rgb(198,219,239)"
           ],
           [
            0.375,
            "rgb(158,202,225)"
           ],
           [
            0.5,
            "rgb(107,174,214)"
           ],
           [
            0.625,
            "rgb(66,146,198)"
           ],
           [
            0.75,
            "rgb(33,113,181)"
           ],
           [
            0.875,
            "rgb(8,81,156)"
           ],
           [
            1,
            "rgb(8,48,107)"
           ]
          ],
          "line": {
           "color": "Grey",
           "width": 0.5
          },
          "showscale": false
         },
         "mode": "markers",
         "name": "Feasible Trial",
         "showlegend": false,
         "type": "scatter",
         "x": [
          false,
          false,
          true,
          true,
          false,
          true,
          true,
          false,
          false,
          true,
          true,
          true,
          true,
          true,
          true,
          true,
          true,
          true,
          true,
          true,
          true,
          true,
          true,
          true,
          true,
          false,
          true,
          true,
          false,
          true,
          true,
          true,
          true,
          true,
          false,
          true,
          true,
          false,
          true,
          true,
          true,
          true,
          true,
          true,
          true,
          false,
          true,
          true,
          true,
          true,
          true,
          true,
          true,
          true,
          true,
          true,
          false,
          true,
          true,
          true,
          true,
          true,
          true,
          true,
          true,
          true,
          false,
          true,
          true,
          true,
          true,
          true,
          true,
          true,
          true,
          true,
          true,
          false,
          true,
          true,
          true,
          true,
          true,
          true,
          true,
          true,
          true,
          true,
          false,
          true,
          true,
          true,
          true,
          true,
          true,
          true,
          true,
          true,
          true
         ],
         "xaxis": "x3",
         "y": [
          -0.0038333333333333552,
          0.0031624999999999848,
          0.013700000000000045,
          0.0016571428571428332,
          -0.0038333333333333552,
          -0.0038333333333333552,
          0.013700000000000045,
          -0.0038333333333333552,
          0.0031624999999999848,
          0.013700000000000045,
          0.013700000000000045,
          0.013700000000000045,
          0.013700000000000045,
          0.013700000000000045,
          0.013700000000000045,
          0.0016571428571428332,
          0.013700000000000045,
          0.013700000000000045,
          0.0016571428571428332,
          0.013700000000000045,
          0.013700000000000045,
          0.013700000000000045,
          0.013700000000000045,
          0.013700000000000045,
          0.013700000000000045,
          0.007359999999999989,
          0.013700000000000045,
          0.013700000000000045,
          0.007359999999999989,
          0.0016571428571428332,
          0.013700000000000045,
          0.013700000000000045,
          0.013700000000000045,
          0.013700000000000045,
          0.0031624999999999848,
          0.013700000000000045,
          0.013700000000000045,
          0.007359999999999989,
          0.0016571428571428332,
          0.013700000000000045,
          0.013700000000000045,
          0.013700000000000045,
          0.013700000000000045,
          0.013700000000000045,
          0.013700000000000045,
          0.007359999999999989,
          0.0016571428571428332,
          0.013700000000000045,
          0.013700000000000045,
          0.013700000000000045,
          0.013700000000000045,
          0.013700000000000045,
          0.013700000000000045,
          0.0016571428571428332,
          0.013700000000000045,
          0.013700000000000045,
          -0.0038333333333333552,
          0.013700000000000045,
          0.013700000000000045,
          0.013700000000000045,
          0.013700000000000045,
          0.013700000000000045,
          0.013700000000000045,
          0.013700000000000045,
          0.0016571428571428332,
          0.013700000000000045,
          0.0031624999999999848,
          0.013700000000000045,
          0.013700000000000045,
          0.013700000000000045,
          0.013700000000000045,
          0.013700000000000045,
          0.013700000000000045,
          0.013700000000000045,
          0.013700000000000045,
          0.0016571428571428332,
          0.013700000000000045,
          0.007359999999999989,
          0.013700000000000045,
          0.013700000000000045,
          0.013700000000000045,
          0.013700000000000045,
          0.013700000000000045,
          0.013700000000000045,
          0.013700000000000045,
          0.013700000000000045,
          0.013700000000000045,
          0.0016571428571428332,
          -0.0038333333333333552,
          0.013700000000000045,
          0.013700000000000045,
          0.013700000000000045,
          0.013700000000000045,
          0.013700000000000045,
          0.013700000000000045,
          0.013700000000000045,
          0.013700000000000045,
          0.013700000000000045,
          0.013700000000000045
         ],
         "yaxis": "y3"
        },
        {
         "marker": {
          "color": [
           0,
           1,
           2,
           3,
           5,
           6,
           7,
           8,
           9,
           10,
           11,
           12,
           13,
           14,
           15,
           16,
           17,
           18,
           19,
           20,
           21,
           22,
           23,
           24,
           25,
           26,
           27,
           28,
           29,
           30,
           31,
           32,
           33,
           34,
           35,
           36,
           37,
           38,
           39,
           40,
           41,
           42,
           43,
           44,
           45,
           46,
           47,
           48,
           49,
           50,
           51,
           52,
           53,
           54,
           55,
           56,
           57,
           58,
           59,
           60,
           61,
           62,
           63,
           64,
           65,
           66,
           67,
           68,
           69,
           70,
           71,
           72,
           73,
           74,
           75,
           76,
           77,
           78,
           79,
           80,
           81,
           82,
           83,
           84,
           85,
           86,
           87,
           88,
           89,
           90,
           91,
           92,
           93,
           94,
           95,
           96,
           97,
           98,
           99
          ],
          "colorbar": {
           "title": {
            "text": "Trial"
           },
           "x": 1,
           "xpad": 40
          },
          "colorscale": [
           [
            0,
            "rgb(247,251,255)"
           ],
           [
            0.125,
            "rgb(222,235,247)"
           ],
           [
            0.25,
            "rgb(198,219,239)"
           ],
           [
            0.375,
            "rgb(158,202,225)"
           ],
           [
            0.5,
            "rgb(107,174,214)"
           ],
           [
            0.625,
            "rgb(66,146,198)"
           ],
           [
            0.75,
            "rgb(33,113,181)"
           ],
           [
            0.875,
            "rgb(8,81,156)"
           ],
           [
            1,
            "rgb(8,48,107)"
           ]
          ],
          "line": {
           "color": "Grey",
           "width": 0.5
          },
          "showscale": false
         },
         "mode": "markers",
         "name": "Feasible Trial",
         "showlegend": false,
         "type": "scatter",
         "x": [
          true,
          true,
          false,
          false,
          false,
          false,
          true,
          false,
          false,
          false,
          true,
          true,
          true,
          false,
          true,
          true,
          false,
          false,
          true,
          false,
          false,
          false,
          false,
          false,
          false,
          true,
          false,
          true,
          true,
          false,
          true,
          true,
          true,
          true,
          true,
          true,
          false,
          true,
          false,
          true,
          true,
          true,
          true,
          true,
          true,
          false,
          true,
          false,
          false,
          true,
          true,
          true,
          true,
          true,
          false,
          true,
          false,
          true,
          false,
          true,
          false,
          false,
          false,
          false,
          false,
          false,
          true,
          false,
          true,
          false,
          true,
          true,
          true,
          true,
          true,
          true,
          true,
          false,
          true,
          true,
          false,
          false,
          false,
          false,
          false,
          false,
          true,
          true,
          false,
          true,
          false,
          false,
          false,
          false,
          false,
          false,
          true,
          true,
          false
         ],
         "xaxis": "x4",
         "y": [
          -0.0038333333333333552,
          0.0031624999999999848,
          0.013700000000000045,
          0.0016571428571428332,
          -0.0038333333333333552,
          -0.0038333333333333552,
          0.013700000000000045,
          -0.0038333333333333552,
          0.0031624999999999848,
          0.013700000000000045,
          0.013700000000000045,
          0.013700000000000045,
          0.013700000000000045,
          0.013700000000000045,
          0.013700000000000045,
          0.0016571428571428332,
          0.013700000000000045,
          0.013700000000000045,
          0.0016571428571428332,
          0.013700000000000045,
          0.013700000000000045,
          0.013700000000000045,
          0.013700000000000045,
          0.013700000000000045,
          0.013700000000000045,
          0.007359999999999989,
          0.013700000000000045,
          0.013700000000000045,
          0.007359999999999989,
          0.0016571428571428332,
          0.013700000000000045,
          0.013700000000000045,
          0.013700000000000045,
          0.013700000000000045,
          0.0031624999999999848,
          0.013700000000000045,
          0.013700000000000045,
          0.007359999999999989,
          0.0016571428571428332,
          0.013700000000000045,
          0.013700000000000045,
          0.013700000000000045,
          0.013700000000000045,
          0.013700000000000045,
          0.013700000000000045,
          0.007359999999999989,
          0.0016571428571428332,
          0.013700000000000045,
          0.013700000000000045,
          0.013700000000000045,
          0.013700000000000045,
          0.013700000000000045,
          0.013700000000000045,
          0.0016571428571428332,
          0.013700000000000045,
          0.013700000000000045,
          -0.0038333333333333552,
          0.013700000000000045,
          0.013700000000000045,
          0.013700000000000045,
          0.013700000000000045,
          0.013700000000000045,
          0.013700000000000045,
          0.013700000000000045,
          0.0016571428571428332,
          0.013700000000000045,
          0.0031624999999999848,
          0.013700000000000045,
          0.013700000000000045,
          0.013700000000000045,
          0.013700000000000045,
          0.013700000000000045,
          0.013700000000000045,
          0.013700000000000045,
          0.013700000000000045,
          0.0016571428571428332,
          0.013700000000000045,
          0.007359999999999989,
          0.013700000000000045,
          0.013700000000000045,
          0.013700000000000045,
          0.013700000000000045,
          0.013700000000000045,
          0.013700000000000045,
          0.013700000000000045,
          0.013700000000000045,
          0.013700000000000045,
          0.0016571428571428332,
          -0.0038333333333333552,
          0.013700000000000045,
          0.013700000000000045,
          0.013700000000000045,
          0.013700000000000045,
          0.013700000000000045,
          0.013700000000000045,
          0.013700000000000045,
          0.013700000000000045,
          0.013700000000000045,
          0.013700000000000045
         ],
         "yaxis": "y4"
        },
        {
         "marker": {
          "color": [
           0,
           5,
           6,
           8,
           26,
           29,
           36,
           38,
           46,
           57,
           68,
           78,
           89
          ],
          "colorbar": {
           "title": {
            "text": "Trial"
           },
           "x": 1,
           "xpad": 40
          },
          "colorscale": [
           [
            0,
            "rgb(247,251,255)"
           ],
           [
            0.125,
            "rgb(222,235,247)"
           ],
           [
            0.25,
            "rgb(198,219,239)"
           ],
           [
            0.375,
            "rgb(158,202,225)"
           ],
           [
            0.5,
            "rgb(107,174,214)"
           ],
           [
            0.625,
            "rgb(66,146,198)"
           ],
           [
            0.75,
            "rgb(33,113,181)"
           ],
           [
            0.875,
            "rgb(8,81,156)"
           ],
           [
            1,
            "rgb(8,48,107)"
           ]
          ],
          "line": {
           "color": "Grey",
           "width": 0.5
          },
          "showscale": false
         },
         "mode": "markers",
         "name": "Feasible Trial",
         "showlegend": false,
         "type": "scatter",
         "x": [
          true,
          true,
          true,
          true,
          false,
          false,
          false,
          false,
          false,
          true,
          false,
          false,
          true
         ],
         "xaxis": "x5",
         "y": [
          -0.0038333333333333552,
          -0.0038333333333333552,
          -0.0038333333333333552,
          -0.0038333333333333552,
          0.007359999999999989,
          0.007359999999999989,
          0.013700000000000045,
          0.007359999999999989,
          0.007359999999999989,
          -0.0038333333333333552,
          0.013700000000000045,
          0.007359999999999989,
          -0.0038333333333333552
         ],
         "yaxis": "y5"
        },
        {
         "marker": {
          "color": [
           0,
           5,
           8,
           9,
           26,
           29,
           36,
           39,
           47,
           58,
           68,
           79,
           90
          ],
          "colorbar": {
           "title": {
            "text": "Trial"
           },
           "x": 1,
           "xpad": 40
          },
          "colorscale": [
           [
            0,
            "rgb(247,251,255)"
           ],
           [
            0.125,
            "rgb(222,235,247)"
           ],
           [
            0.25,
            "rgb(198,219,239)"
           ],
           [
            0.375,
            "rgb(158,202,225)"
           ],
           [
            0.5,
            "rgb(107,174,214)"
           ],
           [
            0.625,
            "rgb(66,146,198)"
           ],
           [
            0.75,
            "rgb(33,113,181)"
           ],
           [
            0.875,
            "rgb(8,81,156)"
           ],
           [
            1,
            "rgb(8,48,107)"
           ]
          ],
          "line": {
           "color": "Grey",
           "width": 0.5
          },
          "showscale": false
         },
         "mode": "markers",
         "name": "Feasible Trial",
         "showlegend": false,
         "type": "scatter",
         "x": [
          false,
          false,
          false,
          false,
          false,
          false,
          false,
          false,
          false,
          false,
          false,
          false,
          false
         ],
         "xaxis": "x6",
         "y": [
          -0.0038333333333333552,
          -0.0038333333333333552,
          -0.0038333333333333552,
          0.0031624999999999848,
          0.007359999999999989,
          0.007359999999999989,
          0.013700000000000045,
          0.0016571428571428332,
          0.0016571428571428332,
          0.013700000000000045,
          0.013700000000000045,
          0.013700000000000045,
          0.013700000000000045
         ],
         "yaxis": "y6"
        },
        {
         "marker": {
          "color": [
           2,
           3,
           6,
           7,
           10,
           11,
           12,
           13,
           14,
           15,
           16,
           17,
           18,
           19,
           20,
           21,
           22,
           23,
           24,
           25,
           27,
           28,
           30,
           31,
           32,
           33,
           34,
           36,
           37,
           39,
           40,
           41,
           42,
           43,
           44,
           45,
           47,
           48,
           49,
           50,
           51,
           52,
           53,
           54,
           55,
           56,
           58,
           59,
           60,
           61,
           62,
           63,
           64,
           65,
           66,
           68,
           69,
           70,
           71,
           72,
           73,
           74,
           75,
           76,
           77,
           79,
           80,
           81,
           82,
           83,
           84,
           85,
           86,
           87,
           88,
           90,
           91,
           92,
           93,
           94,
           95,
           96,
           97,
           98,
           99
          ],
          "colorbar": {
           "title": {
            "text": "Trial"
           },
           "x": 1,
           "xpad": 40
          },
          "colorscale": [
           [
            0,
            "rgb(247,251,255)"
           ],
           [
            0.125,
            "rgb(222,235,247)"
           ],
           [
            0.25,
            "rgb(198,219,239)"
           ],
           [
            0.375,
            "rgb(158,202,225)"
           ],
           [
            0.5,
            "rgb(107,174,214)"
           ],
           [
            0.625,
            "rgb(66,146,198)"
           ],
           [
            0.75,
            "rgb(33,113,181)"
           ],
           [
            0.875,
            "rgb(8,81,156)"
           ],
           [
            1,
            "rgb(8,48,107)"
           ]
          ],
          "line": {
           "color": "Grey",
           "width": 0.5
          },
          "showscale": false
         },
         "mode": "markers",
         "name": "Feasible Trial",
         "showlegend": false,
         "type": "scatter",
         "x": [
          true,
          false,
          false,
          true,
          true,
          true,
          true,
          true,
          true,
          true,
          false,
          true,
          true,
          false,
          true,
          true,
          true,
          true,
          true,
          true,
          true,
          true,
          false,
          true,
          true,
          true,
          true,
          true,
          true,
          false,
          true,
          true,
          true,
          true,
          true,
          true,
          false,
          true,
          true,
          true,
          true,
          true,
          true,
          false,
          true,
          true,
          true,
          true,
          true,
          true,
          true,
          true,
          true,
          false,
          true,
          true,
          true,
          true,
          true,
          true,
          true,
          true,
          true,
          false,
          true,
          true,
          true,
          true,
          true,
          true,
          true,
          true,
          true,
          true,
          false,
          true,
          true,
          true,
          true,
          true,
          true,
          true,
          true,
          true,
          true
         ],
         "xaxis": "x7",
         "y": [
          0.013700000000000045,
          0.0016571428571428332,
          -0.0038333333333333552,
          0.013700000000000045,
          0.013700000000000045,
          0.013700000000000045,
          0.013700000000000045,
          0.013700000000000045,
          0.013700000000000045,
          0.013700000000000045,
          0.0016571428571428332,
          0.013700000000000045,
          0.013700000000000045,
          0.0016571428571428332,
          0.013700000000000045,
          0.013700000000000045,
          0.013700000000000045,
          0.013700000000000045,
          0.013700000000000045,
          0.013700000000000045,
          0.013700000000000045,
          0.013700000000000045,
          0.0016571428571428332,
          0.013700000000000045,
          0.013700000000000045,
          0.013700000000000045,
          0.013700000000000045,
          0.013700000000000045,
          0.013700000000000045,
          0.0016571428571428332,
          0.013700000000000045,
          0.013700000000000045,
          0.013700000000000045,
          0.013700000000000045,
          0.013700000000000045,
          0.013700000000000045,
          0.0016571428571428332,
          0.013700000000000045,
          0.013700000000000045,
          0.013700000000000045,
          0.013700000000000045,
          0.013700000000000045,
          0.013700000000000045,
          0.0016571428571428332,
          0.013700000000000045,
          0.013700000000000045,
          0.013700000000000045,
          0.013700000000000045,
          0.013700000000000045,
          0.013700000000000045,
          0.013700000000000045,
          0.013700000000000045,
          0.013700000000000045,
          0.0016571428571428332,
          0.013700000000000045,
          0.013700000000000045,
          0.013700000000000045,
          0.013700000000000045,
          0.013700000000000045,
          0.013700000000000045,
          0.013700000000000045,
          0.013700000000000045,
          0.013700000000000045,
          0.0016571428571428332,
          0.013700000000000045,
          0.013700000000000045,
          0.013700000000000045,
          0.013700000000000045,
          0.013700000000000045,
          0.013700000000000045,
          0.013700000000000045,
          0.013700000000000045,
          0.013700000000000045,
          0.013700000000000045,
          0.0016571428571428332,
          0.013700000000000045,
          0.013700000000000045,
          0.013700000000000045,
          0.013700000000000045,
          0.013700000000000045,
          0.013700000000000045,
          0.013700000000000045,
          0.013700000000000045,
          0.013700000000000045,
          0.013700000000000045
         ],
         "yaxis": "y7"
        },
        {
         "marker": {
          "color": [
           0,
           1,
           7,
           11,
           12,
           13,
           15,
           16,
           19,
           26,
           28,
           29,
           31,
           32,
           33,
           34,
           35,
           36,
           38,
           40,
           41,
           42,
           43,
           44,
           45,
           47,
           50,
           51,
           52,
           53,
           54,
           56,
           58,
           60,
           67,
           69,
           71,
           72,
           73,
           74,
           75,
           76,
           77,
           79,
           80,
           87,
           88,
           90,
           97,
           98
          ],
          "colorbar": {
           "title": {
            "text": "Trial"
           },
           "x": 1,
           "xpad": 40
          },
          "colorscale": [
           [
            0,
            "rgb(247,251,255)"
           ],
           [
            0.125,
            "rgb(222,235,247)"
           ],
           [
            0.25,
            "rgb(198,219,239)"
           ],
           [
            0.375,
            "rgb(158,202,225)"
           ],
           [
            0.5,
            "rgb(107,174,214)"
           ],
           [
            0.625,
            "rgb(66,146,198)"
           ],
           [
            0.75,
            "rgb(33,113,181)"
           ],
           [
            0.875,
            "rgb(8,81,156)"
           ],
           [
            1,
            "rgb(8,48,107)"
           ]
          ],
          "line": {
           "color": "Grey",
           "width": 0.5
          },
          "showscale": false
         },
         "mode": "markers",
         "name": "Feasible Trial",
         "showlegend": false,
         "type": "scatter",
         "x": [
          false,
          false,
          false,
          false,
          false,
          false,
          false,
          false,
          false,
          false,
          false,
          false,
          false,
          false,
          false,
          false,
          false,
          false,
          false,
          false,
          false,
          false,
          false,
          false,
          false,
          false,
          false,
          false,
          false,
          false,
          false,
          false,
          false,
          false,
          false,
          false,
          false,
          false,
          false,
          false,
          false,
          false,
          false,
          false,
          false,
          false,
          false,
          false,
          false,
          false
         ],
         "xaxis": "x8",
         "y": [
          -0.0038333333333333552,
          0.0031624999999999848,
          0.013700000000000045,
          0.013700000000000045,
          0.013700000000000045,
          0.013700000000000045,
          0.013700000000000045,
          0.0016571428571428332,
          0.0016571428571428332,
          0.007359999999999989,
          0.013700000000000045,
          0.007359999999999989,
          0.013700000000000045,
          0.013700000000000045,
          0.013700000000000045,
          0.013700000000000045,
          0.0031624999999999848,
          0.013700000000000045,
          0.007359999999999989,
          0.013700000000000045,
          0.013700000000000045,
          0.013700000000000045,
          0.013700000000000045,
          0.013700000000000045,
          0.013700000000000045,
          0.0016571428571428332,
          0.013700000000000045,
          0.013700000000000045,
          0.013700000000000045,
          0.013700000000000045,
          0.0016571428571428332,
          0.013700000000000045,
          0.013700000000000045,
          0.013700000000000045,
          0.0031624999999999848,
          0.013700000000000045,
          0.013700000000000045,
          0.013700000000000045,
          0.013700000000000045,
          0.013700000000000045,
          0.013700000000000045,
          0.0016571428571428332,
          0.013700000000000045,
          0.013700000000000045,
          0.013700000000000045,
          0.013700000000000045,
          0.0016571428571428332,
          0.013700000000000045,
          0.013700000000000045,
          0.013700000000000045
         ],
         "yaxis": "y8"
        }
       ],
       "layout": {
        "template": {
         "data": {
          "bar": [
           {
            "error_x": {
             "color": "#2a3f5f"
            },
            "error_y": {
             "color": "#2a3f5f"
            },
            "marker": {
             "line": {
              "color": "#E5ECF6",
              "width": 0.5
             },
             "pattern": {
              "fillmode": "overlay",
              "size": 10,
              "solidity": 0.2
             }
            },
            "type": "bar"
           }
          ],
          "barpolar": [
           {
            "marker": {
             "line": {
              "color": "#E5ECF6",
              "width": 0.5
             },
             "pattern": {
              "fillmode": "overlay",
              "size": 10,
              "solidity": 0.2
             }
            },
            "type": "barpolar"
           }
          ],
          "carpet": [
           {
            "aaxis": {
             "endlinecolor": "#2a3f5f",
             "gridcolor": "white",
             "linecolor": "white",
             "minorgridcolor": "white",
             "startlinecolor": "#2a3f5f"
            },
            "baxis": {
             "endlinecolor": "#2a3f5f",
             "gridcolor": "white",
             "linecolor": "white",
             "minorgridcolor": "white",
             "startlinecolor": "#2a3f5f"
            },
            "type": "carpet"
           }
          ],
          "choropleth": [
           {
            "colorbar": {
             "outlinewidth": 0,
             "ticks": ""
            },
            "type": "choropleth"
           }
          ],
          "contour": [
           {
            "colorbar": {
             "outlinewidth": 0,
             "ticks": ""
            },
            "colorscale": [
             [
              0,
              "#0d0887"
             ],
             [
              0.1111111111111111,
              "#46039f"
             ],
             [
              0.2222222222222222,
              "#7201a8"
             ],
             [
              0.3333333333333333,
              "#9c179e"
             ],
             [
              0.4444444444444444,
              "#bd3786"
             ],
             [
              0.5555555555555556,
              "#d8576b"
             ],
             [
              0.6666666666666666,
              "#ed7953"
             ],
             [
              0.7777777777777778,
              "#fb9f3a"
             ],
             [
              0.8888888888888888,
              "#fdca26"
             ],
             [
              1,
              "#f0f921"
             ]
            ],
            "type": "contour"
           }
          ],
          "contourcarpet": [
           {
            "colorbar": {
             "outlinewidth": 0,
             "ticks": ""
            },
            "type": "contourcarpet"
           }
          ],
          "heatmap": [
           {
            "colorbar": {
             "outlinewidth": 0,
             "ticks": ""
            },
            "colorscale": [
             [
              0,
              "#0d0887"
             ],
             [
              0.1111111111111111,
              "#46039f"
             ],
             [
              0.2222222222222222,
              "#7201a8"
             ],
             [
              0.3333333333333333,
              "#9c179e"
             ],
             [
              0.4444444444444444,
              "#bd3786"
             ],
             [
              0.5555555555555556,
              "#d8576b"
             ],
             [
              0.6666666666666666,
              "#ed7953"
             ],
             [
              0.7777777777777778,
              "#fb9f3a"
             ],
             [
              0.8888888888888888,
              "#fdca26"
             ],
             [
              1,
              "#f0f921"
             ]
            ],
            "type": "heatmap"
           }
          ],
          "heatmapgl": [
           {
            "colorbar": {
             "outlinewidth": 0,
             "ticks": ""
            },
            "colorscale": [
             [
              0,
              "#0d0887"
             ],
             [
              0.1111111111111111,
              "#46039f"
             ],
             [
              0.2222222222222222,
              "#7201a8"
             ],
             [
              0.3333333333333333,
              "#9c179e"
             ],
             [
              0.4444444444444444,
              "#bd3786"
             ],
             [
              0.5555555555555556,
              "#d8576b"
             ],
             [
              0.6666666666666666,
              "#ed7953"
             ],
             [
              0.7777777777777778,
              "#fb9f3a"
             ],
             [
              0.8888888888888888,
              "#fdca26"
             ],
             [
              1,
              "#f0f921"
             ]
            ],
            "type": "heatmapgl"
           }
          ],
          "histogram": [
           {
            "marker": {
             "pattern": {
              "fillmode": "overlay",
              "size": 10,
              "solidity": 0.2
             }
            },
            "type": "histogram"
           }
          ],
          "histogram2d": [
           {
            "colorbar": {
             "outlinewidth": 0,
             "ticks": ""
            },
            "colorscale": [
             [
              0,
              "#0d0887"
             ],
             [
              0.1111111111111111,
              "#46039f"
             ],
             [
              0.2222222222222222,
              "#7201a8"
             ],
             [
              0.3333333333333333,
              "#9c179e"
             ],
             [
              0.4444444444444444,
              "#bd3786"
             ],
             [
              0.5555555555555556,
              "#d8576b"
             ],
             [
              0.6666666666666666,
              "#ed7953"
             ],
             [
              0.7777777777777778,
              "#fb9f3a"
             ],
             [
              0.8888888888888888,
              "#fdca26"
             ],
             [
              1,
              "#f0f921"
             ]
            ],
            "type": "histogram2d"
           }
          ],
          "histogram2dcontour": [
           {
            "colorbar": {
             "outlinewidth": 0,
             "ticks": ""
            },
            "colorscale": [
             [
              0,
              "#0d0887"
             ],
             [
              0.1111111111111111,
              "#46039f"
             ],
             [
              0.2222222222222222,
              "#7201a8"
             ],
             [
              0.3333333333333333,
              "#9c179e"
             ],
             [
              0.4444444444444444,
              "#bd3786"
             ],
             [
              0.5555555555555556,
              "#d8576b"
             ],
             [
              0.6666666666666666,
              "#ed7953"
             ],
             [
              0.7777777777777778,
              "#fb9f3a"
             ],
             [
              0.8888888888888888,
              "#fdca26"
             ],
             [
              1,
              "#f0f921"
             ]
            ],
            "type": "histogram2dcontour"
           }
          ],
          "mesh3d": [
           {
            "colorbar": {
             "outlinewidth": 0,
             "ticks": ""
            },
            "type": "mesh3d"
           }
          ],
          "parcoords": [
           {
            "line": {
             "colorbar": {
              "outlinewidth": 0,
              "ticks": ""
             }
            },
            "type": "parcoords"
           }
          ],
          "pie": [
           {
            "automargin": true,
            "type": "pie"
           }
          ],
          "scatter": [
           {
            "fillpattern": {
             "fillmode": "overlay",
             "size": 10,
             "solidity": 0.2
            },
            "type": "scatter"
           }
          ],
          "scatter3d": [
           {
            "line": {
             "colorbar": {
              "outlinewidth": 0,
              "ticks": ""
             }
            },
            "marker": {
             "colorbar": {
              "outlinewidth": 0,
              "ticks": ""
             }
            },
            "type": "scatter3d"
           }
          ],
          "scattercarpet": [
           {
            "marker": {
             "colorbar": {
              "outlinewidth": 0,
              "ticks": ""
             }
            },
            "type": "scattercarpet"
           }
          ],
          "scattergeo": [
           {
            "marker": {
             "colorbar": {
              "outlinewidth": 0,
              "ticks": ""
             }
            },
            "type": "scattergeo"
           }
          ],
          "scattergl": [
           {
            "marker": {
             "colorbar": {
              "outlinewidth": 0,
              "ticks": ""
             }
            },
            "type": "scattergl"
           }
          ],
          "scattermapbox": [
           {
            "marker": {
             "colorbar": {
              "outlinewidth": 0,
              "ticks": ""
             }
            },
            "type": "scattermapbox"
           }
          ],
          "scatterpolar": [
           {
            "marker": {
             "colorbar": {
              "outlinewidth": 0,
              "ticks": ""
             }
            },
            "type": "scatterpolar"
           }
          ],
          "scatterpolargl": [
           {
            "marker": {
             "colorbar": {
              "outlinewidth": 0,
              "ticks": ""
             }
            },
            "type": "scatterpolargl"
           }
          ],
          "scatterternary": [
           {
            "marker": {
             "colorbar": {
              "outlinewidth": 0,
              "ticks": ""
             }
            },
            "type": "scatterternary"
           }
          ],
          "surface": [
           {
            "colorbar": {
             "outlinewidth": 0,
             "ticks": ""
            },
            "colorscale": [
             [
              0,
              "#0d0887"
             ],
             [
              0.1111111111111111,
              "#46039f"
             ],
             [
              0.2222222222222222,
              "#7201a8"
             ],
             [
              0.3333333333333333,
              "#9c179e"
             ],
             [
              0.4444444444444444,
              "#bd3786"
             ],
             [
              0.5555555555555556,
              "#d8576b"
             ],
             [
              0.6666666666666666,
              "#ed7953"
             ],
             [
              0.7777777777777778,
              "#fb9f3a"
             ],
             [
              0.8888888888888888,
              "#fdca26"
             ],
             [
              1,
              "#f0f921"
             ]
            ],
            "type": "surface"
           }
          ],
          "table": [
           {
            "cells": {
             "fill": {
              "color": "#EBF0F8"
             },
             "line": {
              "color": "white"
             }
            },
            "header": {
             "fill": {
              "color": "#C8D4E3"
             },
             "line": {
              "color": "white"
             }
            },
            "type": "table"
           }
          ]
         },
         "layout": {
          "annotationdefaults": {
           "arrowcolor": "#2a3f5f",
           "arrowhead": 0,
           "arrowwidth": 1
          },
          "autotypenumbers": "strict",
          "coloraxis": {
           "colorbar": {
            "outlinewidth": 0,
            "ticks": ""
           }
          },
          "colorscale": {
           "diverging": [
            [
             0,
             "#8e0152"
            ],
            [
             0.1,
             "#c51b7d"
            ],
            [
             0.2,
             "#de77ae"
            ],
            [
             0.3,
             "#f1b6da"
            ],
            [
             0.4,
             "#fde0ef"
            ],
            [
             0.5,
             "#f7f7f7"
            ],
            [
             0.6,
             "#e6f5d0"
            ],
            [
             0.7,
             "#b8e186"
            ],
            [
             0.8,
             "#7fbc41"
            ],
            [
             0.9,
             "#4d9221"
            ],
            [
             1,
             "#276419"
            ]
           ],
           "sequential": [
            [
             0,
             "#0d0887"
            ],
            [
             0.1111111111111111,
             "#46039f"
            ],
            [
             0.2222222222222222,
             "#7201a8"
            ],
            [
             0.3333333333333333,
             "#9c179e"
            ],
            [
             0.4444444444444444,
             "#bd3786"
            ],
            [
             0.5555555555555556,
             "#d8576b"
            ],
            [
             0.6666666666666666,
             "#ed7953"
            ],
            [
             0.7777777777777778,
             "#fb9f3a"
            ],
            [
             0.8888888888888888,
             "#fdca26"
            ],
            [
             1,
             "#f0f921"
            ]
           ],
           "sequentialminus": [
            [
             0,
             "#0d0887"
            ],
            [
             0.1111111111111111,
             "#46039f"
            ],
            [
             0.2222222222222222,
             "#7201a8"
            ],
            [
             0.3333333333333333,
             "#9c179e"
            ],
            [
             0.4444444444444444,
             "#bd3786"
            ],
            [
             0.5555555555555556,
             "#d8576b"
            ],
            [
             0.6666666666666666,
             "#ed7953"
            ],
            [
             0.7777777777777778,
             "#fb9f3a"
            ],
            [
             0.8888888888888888,
             "#fdca26"
            ],
            [
             1,
             "#f0f921"
            ]
           ]
          },
          "colorway": [
           "#636efa",
           "#EF553B",
           "#00cc96",
           "#ab63fa",
           "#FFA15A",
           "#19d3f3",
           "#FF6692",
           "#B6E880",
           "#FF97FF",
           "#FECB52"
          ],
          "font": {
           "color": "#2a3f5f"
          },
          "geo": {
           "bgcolor": "white",
           "lakecolor": "white",
           "landcolor": "#E5ECF6",
           "showlakes": true,
           "showland": true,
           "subunitcolor": "white"
          },
          "hoverlabel": {
           "align": "left"
          },
          "hovermode": "closest",
          "mapbox": {
           "style": "light"
          },
          "paper_bgcolor": "white",
          "plot_bgcolor": "#E5ECF6",
          "polar": {
           "angularaxis": {
            "gridcolor": "white",
            "linecolor": "white",
            "ticks": ""
           },
           "bgcolor": "#E5ECF6",
           "radialaxis": {
            "gridcolor": "white",
            "linecolor": "white",
            "ticks": ""
           }
          },
          "scene": {
           "xaxis": {
            "backgroundcolor": "#E5ECF6",
            "gridcolor": "white",
            "gridwidth": 2,
            "linecolor": "white",
            "showbackground": true,
            "ticks": "",
            "zerolinecolor": "white"
           },
           "yaxis": {
            "backgroundcolor": "#E5ECF6",
            "gridcolor": "white",
            "gridwidth": 2,
            "linecolor": "white",
            "showbackground": true,
            "ticks": "",
            "zerolinecolor": "white"
           },
           "zaxis": {
            "backgroundcolor": "#E5ECF6",
            "gridcolor": "white",
            "gridwidth": 2,
            "linecolor": "white",
            "showbackground": true,
            "ticks": "",
            "zerolinecolor": "white"
           }
          },
          "shapedefaults": {
           "line": {
            "color": "#2a3f5f"
           }
          },
          "ternary": {
           "aaxis": {
            "gridcolor": "white",
            "linecolor": "white",
            "ticks": ""
           },
           "baxis": {
            "gridcolor": "white",
            "linecolor": "white",
            "ticks": ""
           },
           "bgcolor": "#E5ECF6",
           "caxis": {
            "gridcolor": "white",
            "linecolor": "white",
            "ticks": ""
           }
          },
          "title": {
           "x": 0.05
          },
          "xaxis": {
           "automargin": true,
           "gridcolor": "white",
           "linecolor": "white",
           "ticks": "",
           "title": {
            "standoff": 15
           },
           "zerolinecolor": "white",
           "zerolinewidth": 2
          },
          "yaxis": {
           "automargin": true,
           "gridcolor": "white",
           "linecolor": "white",
           "ticks": "",
           "title": {
            "standoff": 15
           },
           "zerolinecolor": "white",
           "zerolinewidth": 2
          }
         }
        },
        "title": {
         "text": "Slice Plot"
        },
        "width": 2400,
        "xaxis": {
         "anchor": "y",
         "categoryarray": [
          true,
          false
         ],
         "categoryorder": "array",
         "domain": [
          0,
          0.103125
         ],
         "title": {
          "text": "include_htf_poi_ltf_confirmation"
         },
         "type": "category"
        },
        "xaxis2": {
         "anchor": "y2",
         "categoryarray": [
          true,
          false
         ],
         "categoryorder": "array",
         "domain": [
          0.128125,
          0.23124999999999998
         ],
         "title": {
          "text": "include_type_1_m5"
         },
         "type": "category"
        },
        "xaxis3": {
         "anchor": "y3",
         "categoryarray": [
          true,
          false
         ],
         "categoryorder": "array",
         "domain": [
          0.25625,
          0.359375
         ],
         "title": {
          "text": "include_type_2_m5"
         },
         "type": "category"
        },
        "xaxis4": {
         "anchor": "y4",
         "categoryarray": [
          true,
          false
         ],
         "categoryorder": "array",
         "domain": [
          0.38437499999999997,
          0.48749999999999993
         ],
         "title": {
          "text": "include_type_3_m5"
         },
         "type": "category"
        },
        "xaxis5": {
         "anchor": "y5",
         "categoryarray": [
          true,
          false
         ],
         "categoryorder": "array",
         "domain": [
          0.5125,
          0.615625
         ],
         "title": {
          "text": "value_htf_poi_ltf_confirmation"
         },
         "type": "category"
        },
        "xaxis6": {
         "anchor": "y6",
         "categoryarray": [
          false
         ],
         "categoryorder": "array",
         "domain": [
          0.640625,
          0.74375
         ],
         "title": {
          "text": "value_type_1_m5"
         },
         "type": "category"
        },
        "xaxis7": {
         "anchor": "y7",
         "categoryarray": [
          false,
          true
         ],
         "categoryorder": "array",
         "domain": [
          0.7687499999999999,
          0.871875
         ],
         "title": {
          "text": "value_type_2_m5"
         },
         "type": "category"
        },
        "xaxis8": {
         "anchor": "y8",
         "categoryarray": [
          false
         ],
         "categoryorder": "array",
         "domain": [
          0.896875,
          1
         ],
         "title": {
          "text": "value_type_3_m5"
         },
         "type": "category"
        },
        "yaxis": {
         "anchor": "x",
         "domain": [
          0,
          1
         ],
         "title": {
          "text": "Objective Value"
         }
        },
        "yaxis2": {
         "anchor": "x2",
         "domain": [
          0,
          1
         ],
         "matches": "y",
         "showticklabels": false
        },
        "yaxis3": {
         "anchor": "x3",
         "domain": [
          0,
          1
         ],
         "matches": "y",
         "showticklabels": false
        },
        "yaxis4": {
         "anchor": "x4",
         "domain": [
          0,
          1
         ],
         "matches": "y",
         "showticklabels": false
        },
        "yaxis5": {
         "anchor": "x5",
         "domain": [
          0,
          1
         ],
         "matches": "y",
         "showticklabels": false
        },
        "yaxis6": {
         "anchor": "x6",
         "domain": [
          0,
          1
         ],
         "matches": "y",
         "showticklabels": false
        },
        "yaxis7": {
         "anchor": "x7",
         "domain": [
          0,
          1
         ],
         "matches": "y",
         "showticklabels": false
        },
        "yaxis8": {
         "anchor": "x8",
         "domain": [
          0,
          1
         ],
         "matches": "y",
         "showticklabels": false
        }
       }
      }
     },
     "metadata": {},
     "output_type": "display_data"
    }
   ],
   "source": [
    "# visualize stuff\n",
    "import optuna\n",
    "import plotly\n",
    "from optuna.visualization import plot_optimization_history\n",
    "from optuna.visualization import plot_slice\n",
    "from optuna.visualization import plot_param_importances\n",
    "\n",
    "# disable optuna warnings\n",
    "optuna.logging.set_verbosity(optuna.logging.ERROR)\n",
    "\n",
    "plot_optimization_history(study).show()\n",
    "plot_param_importances(study).show()\n",
    "plot_slice(study).show()"
   ]
  },
  {
   "cell_type": "code",
   "execution_count": 18,
   "metadata": {},
   "outputs": [],
   "source": [
    "!rm -rf output/studies.md\n",
    "import pprint\n",
    "def markdown_report_study(study:optuna.Study, output_dir='output'):\n",
    "    SECTION_OPTUNA_STUDIES = '## Optuna Studies'\n",
    "    SECTION_BEST_TRIAL = f'### {study.study_name} - {study.best_trial.number}'\n",
    "    GENERATION_TIME = datetime.now().strftime('%Y-%m-%d %H:%M:%S')\n",
    "    \n",
    "    best_trial = study.best_trial\n",
    "    best_trial_params = best_trial.params\n",
    "    best_trial_value = best_trial.value\n",
    "    best_trial_number = best_trial.number\n",
    "    best_trial_number\n",
    "    best_trial_params\n",
    "    best_trial_value\n",
    "    # add the params as nicely formatted json inside code block\n",
    "    best_trial_params_str = f'''\n",
    "```json\n",
    "{pprint.pformat(best_trial_params)}\n",
    "```\n",
    "''' \n",
    "    \n",
    "    best_trial_str = f'''\n",
    "{SECTION_BEST_TRIAL}\n",
    "- generation time: {GENERATION_TIME}\n",
    "- best trial value: {best_trial_value}\n",
    "- best trial params: {best_trial_params_str}\n",
    "'''\n",
    "    with open(f'{output_dir}/studies.md', 'a') as f:\n",
    "        f.write(best_trial_str)\n",
    "\n",
    "    \n",
    "    # find the section or create it and add md link to the best trial in the study\n",
    "    with open(f'{output_dir}/index.md', 'r') as f:\n",
    "        lines = f.readlines()\n",
    "        found = False\n",
    "        for i, line in enumerate(lines):\n",
    "            if SECTION_OPTUNA_STUDIES in line:\n",
    "                found = True\n",
    "                break\n",
    "        if not found:\n",
    "            lines.append(f'\\n{SECTION_OPTUNA_STUDIES}\\n')\n",
    "        lines.append(f'- [[studies.md{SECTION_BEST_TRIAL}]]\\n')\n",
    "    with open(f'{output_dir}/index.md', 'w') as f:\n",
    "        f.write(''.join(lines))\n",
    "        \n",
    "\n",
    "markdown_report_study(study, output_dir='output')"
   ]
  },
  {
   "cell_type": "code",
   "execution_count": 21,
   "metadata": {},
   "outputs": [
    {
     "name": "stdout",
     "output_type": "stream",
     "text": [
      "Index(['trade_uid', 'entry_time', 'potential_risk_reward', 'outcome',\n",
      "       'tp_price', 'unit_test', 'type_2_M', 'type_1_h4', 'type_1_w', 'session',\n",
      "       'initial_return', 'type_3_m15', 'type_2_m30', 'type_1_M', 'type_3_m30',\n",
      "       'management_strategy', 'risk_reward_ratio', 'type_2_m1', 'type_1_m30',\n",
      "       'numerical_confidence', 'close_price', 'type_2_m5', 'side',\n",
      "       'SL_distance', 'type_3_m1', 'type_2_w', 'type_3_m5', 'return',\n",
      "       'htf_poi_ltf_confirmation', 'type_3_M', 'potential_return', 'type_1_m1',\n",
      "       'type_2_d', 'type_3_h1', 'type_3_d', 'potential_price', 'account_name',\n",
      "       'type_3_h4', 'type_3_w', 'TP_distance', 'initial_risk_reward',\n",
      "       'type_1_m15', 'type_2_h4', 'type_2_m15', 'type_1_h1', 'type_2_h1',\n",
      "       'account', 'entry_price', 'sl_price', 'type_1_m5', 'type_1_d',\n",
      "       'htf_poi_ltf_confirmation_False', 'htf_poi_ltf_confirmation_True',\n",
      "       'management_strategy_be_after_1r', 'management_strategy_be_after_push',\n",
      "       'management_strategy_no_management', 'management_strategy_strategy_2',\n",
      "       'outcome_loss', 'outcome_win'],\n",
      "      dtype='object')\n"
     ]
    }
   ],
   "source": [
    "df = j.to_dataframe()\n",
    "print(df.columns)"
   ]
  },
  {
   "cell_type": "code",
   "execution_count": 27,
   "metadata": {},
   "outputs": [
    {
     "data": {
      "text/plain": [
       "Index(['type_2_M', 'type_1_h4', 'type_1_w', 'type_3_m15', 'type_2_m30',\n",
       "       'type_1_M', 'type_3_m30', 'type_2_m1', 'type_1_m30', 'type_2_m5',\n",
       "       'type_3_m1', 'type_2_w', 'type_3_m5', 'return',\n",
       "       'htf_poi_ltf_confirmation', 'type_3_M', 'type_1_m1', 'type_2_d',\n",
       "       'type_3_h1', 'type_3_d', 'type_3_h4', 'type_3_w', 'type_1_m15',\n",
       "       'type_2_h4', 'type_2_m15', 'type_1_h1', 'type_2_h1', 'type_1_m5',\n",
       "       'type_1_d'],\n",
       "      dtype='object')"
      ]
     },
     "execution_count": 27,
     "metadata": {},
     "output_type": "execute_result"
    }
   ],
   "source": [
    "full_df = df.filter(regex='^type_|^htf_poi_ltf_confirmation$|^return$')\n",
    "full_df.columns"
   ]
  },
  {
   "cell_type": "code",
   "execution_count": 29,
   "metadata": {},
   "outputs": [
    {
     "data": {
      "text/plain": [
       "0     False\n",
       "1      True\n",
       "2     False\n",
       "3     False\n",
       "4     False\n",
       "5      True\n",
       "6     False\n",
       "7      True\n",
       "8      True\n",
       "9      True\n",
       "10     True\n",
       "11    False\n",
       "12    False\n",
       "13     True\n",
       "Name: htf_poi_ltf_confirmation, dtype: category\n",
       "Categories (2, bool): [False, True]"
      ]
     },
     "execution_count": 29,
     "metadata": {},
     "output_type": "execute_result"
    }
   ],
   "source": [
    "full_df['htf_poi_ltf_confirmation']"
   ]
  },
  {
   "cell_type": "code",
   "execution_count": null,
   "metadata": {},
   "outputs": [],
   "source": []
  }
 ],
 "metadata": {
  "kernelspec": {
   "display_name": "base",
   "language": "python",
   "name": "python3"
  },
  "language_info": {
   "codemirror_mode": {
    "name": "ipython",
    "version": 3
   },
   "file_extension": ".py",
   "mimetype": "text/x-python",
   "name": "python",
   "nbconvert_exporter": "python",
   "pygments_lexer": "ipython3",
   "version": "3.12.2"
  }
 },
 "nbformat": 4,
 "nbformat_minor": 2
}
