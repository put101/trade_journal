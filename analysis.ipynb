{
 "cells": [
  {
   "cell_type": "code",
   "execution_count": 4,
   "metadata": {},
   "outputs": [
    {
     "name": "stdout",
     "output_type": "stream",
     "text": [
      "The autoreload extension is already loaded. To reload it, use:\n",
      "  %reload_ext autoreload\n"
     ]
    }
   ],
   "source": [
    "%load_ext autoreload\n",
    "%autoreload 2"
   ]
  },
  {
   "cell_type": "code",
   "execution_count": 5,
   "metadata": {},
   "outputs": [
    {
     "name": "stdout",
     "output_type": "stream",
     "text": [
      "frozenset({'type_2_m5', 'type_1_m15', 'type_1_h4', 'type_2_h1', 'type_1_m30', 'type_1_m1', 'type_1_w', 'M', 'h1', 'w', 'h4', 'type_1_h1', 'm30', 'type_2_m15', 'm5', 'type_1_m5', 'type_1_d', 'd', 'type_2_w', 'type_1_M', 'type_2_h4', 'type_2_M', 'type_2_m30', 'type_2_d', 'm1', 'type_2_m1', 'm15'})\n",
      "[Trade(uid='1', tags=[Tag(timestamp=datetime.datetime(2024, 12, 28, 16, 6, 41, 876108), key='type_1_m1', value=True), Tag(timestamp=datetime.datetime(2024, 12, 28, 16, 6, 41, 876118), key='type_3_m15', value=True), Tag(timestamp=datetime.datetime(2024, 12, 28, 16, 6, 41, 876121), key='entry_price', value=1.1), Tag(timestamp=datetime.datetime(2024, 12, 28, 16, 6, 41, 876122), key='sl_price', value=1.095), Tag(timestamp=datetime.datetime(2024, 12, 28, 16, 6, 41, 876123), key='tp_price', value=1.11)]), Trade(uid='2', tags=[Tag(timestamp=datetime.datetime(2024, 12, 28, 16, 6, 41, 876125), key='type_2_h1', value=True), Tag(timestamp=datetime.datetime(2024, 12, 28, 16, 6, 41, 876127), key='entry_price', value=1.2), Tag(timestamp=datetime.datetime(2024, 12, 28, 16, 6, 41, 876128), key='sl_price', value=1.195), Tag(timestamp=datetime.datetime(2024, 12, 28, 16, 6, 41, 876129), key='tp_price', value=1.21)]), Trade(uid='3', tags=[Tag(timestamp=datetime.datetime(2024, 12, 28, 16, 6, 41, 876130), key='SL_distance', value=0.5), Tag(timestamp=datetime.datetime(2024, 12, 28, 16, 6, 41, 876132), key='entry_price', value=1.3), Tag(timestamp=datetime.datetime(2024, 12, 28, 16, 6, 41, 876133), key='sl_price', value=1.295), Tag(timestamp=datetime.datetime(2024, 12, 28, 16, 6, 41, 876133), key='tp_price', value=1.31)]), Trade(uid='4', tags=[Tag(timestamp=datetime.datetime(2024, 12, 28, 16, 6, 41, 876130), key='SL_distance', value=0.5), Tag(timestamp=datetime.datetime(2024, 12, 28, 16, 6, 41, 876132), key='entry_price', value=1.3), Tag(timestamp=datetime.datetime(2024, 12, 28, 16, 6, 41, 876133), key='sl_price', value=1.295), Tag(timestamp=datetime.datetime(2024, 12, 28, 16, 6, 41, 876133), key='tp_price', value=1.31), Tag(timestamp=datetime.datetime(2024, 12, 28, 16, 6, 41, 876182), key='management_strategy', value='strategy_2'), Tag(timestamp=datetime.datetime(2024, 12, 28, 16, 6, 41, 876185), key='entry_price', value=1.3), Tag(timestamp=datetime.datetime(2024, 12, 28, 16, 6, 41, 876185), key='sl_price', value=1.295), Tag(timestamp=datetime.datetime(2024, 12, 28, 16, 6, 41, 876186), key='tp_price', value=1.31), Tag(timestamp=datetime.datetime(2024, 12, 28, 16, 6, 41, 876187), key='close_price', value=1.305)])]\n"
     ]
    }
   ],
   "source": [
    "from src.tradecli import TradeJournal\n",
    "from src.journal import journal"
   ]
  },
  {
   "cell_type": "code",
   "execution_count": 6,
   "metadata": {},
   "outputs": [
    {
     "name": "stdout",
     "output_type": "stream",
     "text": [
      "  trade_uid  SL_distance management_strategy type_3_m15 type_2_h1 type_1_m1  \\\n",
      "0         1          NaN                None       True      None      True   \n",
      "1         2          NaN                None       None      True      None   \n",
      "2         3          0.5                None       None      None      None   \n",
      "3         4          0.5          strategy_2       None      None      None   \n",
      "\n",
      "   close_price  entry_price  tp_price  sl_price  \n",
      "0          NaN          1.1      1.11     1.095  \n",
      "1          NaN          1.2      1.21     1.195  \n",
      "2          NaN          1.3      1.31     1.295  \n",
      "3        1.305          1.3      1.31     1.295  \n"
     ]
    }
   ],
   "source": [
    "# Generate the feature dataframe\n",
    "df = journal.to_dataframe()\n",
    "print(df)"
   ]
  },
  {
   "cell_type": "code",
   "execution_count": 7,
   "metadata": {},
   "outputs": [
    {
     "name": "stdout",
     "output_type": "stream",
     "text": [
      "  trade_uid  SL_distance management_strategy type_3_m15 type_2_h1 type_1_m1  \\\n",
      "2         3          0.5                None       None      None      None   \n",
      "3         4          0.5          strategy_2       None      None      None   \n",
      "\n",
      "   close_price  entry_price  tp_price  sl_price  \n",
      "2          NaN          1.3      1.31     1.295  \n",
      "3        1.305          1.3      1.31     1.295  \n"
     ]
    }
   ],
   "source": [
    "# Example analysis: Compare trades with different SL distances\n",
    "sl_trades = df[df['SL_distance'] > 0]\n",
    "print(sl_trades)"
   ]
  },
  {
   "cell_type": "code",
   "execution_count": null,
   "metadata": {},
   "outputs": [],
   "source": []
  }
 ],
 "metadata": {
  "kernelspec": {
   "display_name": "base",
   "language": "python",
   "name": "python3"
  },
  "language_info": {
   "codemirror_mode": {
    "name": "ipython",
    "version": 3
   },
   "file_extension": ".py",
   "mimetype": "text/x-python",
   "name": "python",
   "nbconvert_exporter": "python",
   "pygments_lexer": "ipython3",
   "version": "3.12.2"
  }
 },
 "nbformat": 4,
 "nbformat_minor": 2
}
