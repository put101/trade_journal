{
 "cells": [
  {
   "cell_type": "code",
   "execution_count": null,
   "metadata": {},
   "outputs": [
    {
     "name": "stdout",
     "output_type": "stream",
     "text": [
      "/bin/zsh\n",
      "/Users/tobiaspucher/miniconda3/bin:/opt/homebrew/opt/node@22/bin:/Users/tobiaspucher/miniconda3/bin:/Users/tobiaspucher/miniconda3/condabin:/opt/homebrew/bin:/opt/homebrew/sbin:/usr/local/bin:/System/Cryptexes/App/usr/bin:/usr/bin:/bin:/usr/sbin:/sbin:/var/run/com.apple.security.cryptexd/codex.system/bootstrap/usr/local/bin:/var/run/com.apple.security.cryptexd/codex.system/bootstrap/usr/bin:/var/run/com.apple.security.cryptexd/codex.system/bootstrap/usr/appleinternal/bin:/Library/Apple/usr/bin:/Library/TeX/texbin:/Users/tobiaspucher/.cargo/bin:/Users/tobiaspucher/.local/bin:/Users/tobiaspucher/Library/Application Support/JetBrains/Toolbox/scripts\n",
      "/Users/tobiaspucher/Library/CloudStorage/OneDrive-Personal/2025/trade_journal\n"
     ]
    }
   ],
   "source": [
    "!echo $SHELL\n",
    "!echo $PATH\n",
    "!echo $JOURNAL_ROOT"
   ]
  },
  {
   "cell_type": "code",
   "execution_count": null,
   "metadata": {},
   "outputs": [
    {
     "name": "stdout",
     "output_type": "stream",
     "text": [
      "The autoreload extension is already loaded. To reload it, use:\n",
      "  %reload_ext autoreload\n"
     ]
    },
    {
     "data": {
      "text/plain": [
       "'/Users/tobiaspucher/Library/CloudStorage/OneDrive-Personal/2025/trade_journal'"
      ]
     },
     "execution_count": 40,
     "metadata": {},
     "output_type": "execute_result"
    }
   ],
   "source": [
    "%load_ext autoreload\n",
    "%autoreload 2\n",
    "import logging\n",
    "logging.basicConfig(level=logging.ERROR)\n",
    "import random\n",
    "random.seed(0)\n",
    "import os\n",
    "os.getenv('JOURNAL_ROOT')"
   ]
  },
  {
   "cell_type": "code",
   "execution_count": null,
   "metadata": {},
   "outputs": [],
   "source": [
    "from src.tradecli import *\n",
    "from src.utils import *\n",
    "from src.journal import *\n",
    "\n",
    "pd.set_option('display.max_rows', 500)\n",
    "pd.set_option('display.max_columns', 500)"
   ]
  },
  {
   "cell_type": "code",
   "execution_count": null,
   "metadata": {},
   "outputs": [
    {
     "data": {
      "text/html": [
       "<div>\n",
       "<style scoped>\n",
       "    .dataframe tbody tr th:only-of-type {\n",
       "        vertical-align: middle;\n",
       "    }\n",
       "\n",
       "    .dataframe tbody tr th {\n",
       "        vertical-align: top;\n",
       "    }\n",
       "\n",
       "    .dataframe thead th {\n",
       "        text-align: right;\n",
       "    }\n",
       "</style>\n",
       "<table border=\"1\" class=\"dataframe\">\n",
       "  <thead>\n",
       "    <tr style=\"text-align: right;\">\n",
       "      <th></th>\n",
       "      <th>type_1_m5</th>\n",
       "      <th>type_3_w</th>\n",
       "      <th>type_1_m30</th>\n",
       "      <th>type_1_h4</th>\n",
       "      <th>type_3_d</th>\n",
       "      <th>type_3_h4</th>\n",
       "      <th>type_1_d</th>\n",
       "      <th>type_1_w</th>\n",
       "      <th>type_3_m5</th>\n",
       "      <th>type_3_h1</th>\n",
       "      <th>type_3_M</th>\n",
       "      <th>type_1_M</th>\n",
       "      <th>type_3_m15</th>\n",
       "      <th>type_1_h1</th>\n",
       "      <th>type_3_m1</th>\n",
       "      <th>type_3_m30</th>\n",
       "      <th>type_1_m1</th>\n",
       "      <th>side</th>\n",
       "      <th>type_1_m15</th>\n",
       "    </tr>\n",
       "  </thead>\n",
       "  <tbody>\n",
       "    <tr>\n",
       "      <th>0</th>\n",
       "      <td>False</td>\n",
       "      <td>False</td>\n",
       "      <td>False</td>\n",
       "      <td>False</td>\n",
       "      <td>False</td>\n",
       "      <td>False</td>\n",
       "      <td>True</td>\n",
       "      <td>False</td>\n",
       "      <td>False</td>\n",
       "      <td>False</td>\n",
       "      <td>False</td>\n",
       "      <td>False</td>\n",
       "      <td>False</td>\n",
       "      <td>False</td>\n",
       "      <td>True</td>\n",
       "      <td>False</td>\n",
       "      <td>False</td>\n",
       "      <td>short</td>\n",
       "      <td>False</td>\n",
       "    </tr>\n",
       "    <tr>\n",
       "      <th>1</th>\n",
       "      <td>False</td>\n",
       "      <td>False</td>\n",
       "      <td>False</td>\n",
       "      <td>False</td>\n",
       "      <td>False</td>\n",
       "      <td>False</td>\n",
       "      <td>False</td>\n",
       "      <td>False</td>\n",
       "      <td>True</td>\n",
       "      <td>False</td>\n",
       "      <td>False</td>\n",
       "      <td>False</td>\n",
       "      <td>False</td>\n",
       "      <td>True</td>\n",
       "      <td>False</td>\n",
       "      <td>False</td>\n",
       "      <td>False</td>\n",
       "      <td>short</td>\n",
       "      <td>False</td>\n",
       "    </tr>\n",
       "    <tr>\n",
       "      <th>2</th>\n",
       "      <td>False</td>\n",
       "      <td>False</td>\n",
       "      <td>False</td>\n",
       "      <td>False</td>\n",
       "      <td>False</td>\n",
       "      <td>False</td>\n",
       "      <td>False</td>\n",
       "      <td>True</td>\n",
       "      <td>True</td>\n",
       "      <td>False</td>\n",
       "      <td>False</td>\n",
       "      <td>False</td>\n",
       "      <td>False</td>\n",
       "      <td>False</td>\n",
       "      <td>False</td>\n",
       "      <td>False</td>\n",
       "      <td>False</td>\n",
       "      <td>short</td>\n",
       "      <td>False</td>\n",
       "    </tr>\n",
       "    <tr>\n",
       "      <th>3</th>\n",
       "      <td>True</td>\n",
       "      <td>False</td>\n",
       "      <td>False</td>\n",
       "      <td>False</td>\n",
       "      <td>False</td>\n",
       "      <td>False</td>\n",
       "      <td>False</td>\n",
       "      <td>False</td>\n",
       "      <td>False</td>\n",
       "      <td>False</td>\n",
       "      <td>False</td>\n",
       "      <td>False</td>\n",
       "      <td>False</td>\n",
       "      <td>False</td>\n",
       "      <td>True</td>\n",
       "      <td>False</td>\n",
       "      <td>False</td>\n",
       "      <td>short</td>\n",
       "      <td>False</td>\n",
       "    </tr>\n",
       "    <tr>\n",
       "      <th>4</th>\n",
       "      <td>False</td>\n",
       "      <td>False</td>\n",
       "      <td>False</td>\n",
       "      <td>False</td>\n",
       "      <td>False</td>\n",
       "      <td>False</td>\n",
       "      <td>False</td>\n",
       "      <td>False</td>\n",
       "      <td>True</td>\n",
       "      <td>False</td>\n",
       "      <td>False</td>\n",
       "      <td>True</td>\n",
       "      <td>False</td>\n",
       "      <td>False</td>\n",
       "      <td>False</td>\n",
       "      <td>False</td>\n",
       "      <td>False</td>\n",
       "      <td>short</td>\n",
       "      <td>False</td>\n",
       "    </tr>\n",
       "    <tr>\n",
       "      <th>5</th>\n",
       "      <td>False</td>\n",
       "      <td>False</td>\n",
       "      <td>False</td>\n",
       "      <td>False</td>\n",
       "      <td>False</td>\n",
       "      <td>False</td>\n",
       "      <td>False</td>\n",
       "      <td>False</td>\n",
       "      <td>False</td>\n",
       "      <td>False</td>\n",
       "      <td>True</td>\n",
       "      <td>True</td>\n",
       "      <td>False</td>\n",
       "      <td>False</td>\n",
       "      <td>False</td>\n",
       "      <td>False</td>\n",
       "      <td>False</td>\n",
       "      <td>short</td>\n",
       "      <td>False</td>\n",
       "    </tr>\n",
       "    <tr>\n",
       "      <th>6</th>\n",
       "      <td>False</td>\n",
       "      <td>True</td>\n",
       "      <td>False</td>\n",
       "      <td>False</td>\n",
       "      <td>False</td>\n",
       "      <td>False</td>\n",
       "      <td>False</td>\n",
       "      <td>False</td>\n",
       "      <td>False</td>\n",
       "      <td>False</td>\n",
       "      <td>False</td>\n",
       "      <td>False</td>\n",
       "      <td>False</td>\n",
       "      <td>False</td>\n",
       "      <td>False</td>\n",
       "      <td>False</td>\n",
       "      <td>True</td>\n",
       "      <td>long</td>\n",
       "      <td>False</td>\n",
       "    </tr>\n",
       "    <tr>\n",
       "      <th>7</th>\n",
       "      <td>False</td>\n",
       "      <td>False</td>\n",
       "      <td>True</td>\n",
       "      <td>False</td>\n",
       "      <td>False</td>\n",
       "      <td>False</td>\n",
       "      <td>False</td>\n",
       "      <td>False</td>\n",
       "      <td>False</td>\n",
       "      <td>True</td>\n",
       "      <td>False</td>\n",
       "      <td>False</td>\n",
       "      <td>False</td>\n",
       "      <td>False</td>\n",
       "      <td>False</td>\n",
       "      <td>False</td>\n",
       "      <td>False</td>\n",
       "      <td>short</td>\n",
       "      <td>False</td>\n",
       "    </tr>\n",
       "    <tr>\n",
       "      <th>8</th>\n",
       "      <td>False</td>\n",
       "      <td>False</td>\n",
       "      <td>False</td>\n",
       "      <td>False</td>\n",
       "      <td>False</td>\n",
       "      <td>False</td>\n",
       "      <td>False</td>\n",
       "      <td>False</td>\n",
       "      <td>False</td>\n",
       "      <td>False</td>\n",
       "      <td>False</td>\n",
       "      <td>False</td>\n",
       "      <td>False</td>\n",
       "      <td>True</td>\n",
       "      <td>False</td>\n",
       "      <td>True</td>\n",
       "      <td>False</td>\n",
       "      <td>long</td>\n",
       "      <td>False</td>\n",
       "    </tr>\n",
       "    <tr>\n",
       "      <th>9</th>\n",
       "      <td>False</td>\n",
       "      <td>False</td>\n",
       "      <td>False</td>\n",
       "      <td>False</td>\n",
       "      <td>False</td>\n",
       "      <td>False</td>\n",
       "      <td>False</td>\n",
       "      <td>False</td>\n",
       "      <td>False</td>\n",
       "      <td>False</td>\n",
       "      <td>False</td>\n",
       "      <td>False</td>\n",
       "      <td>False</td>\n",
       "      <td>False</td>\n",
       "      <td>False</td>\n",
       "      <td>True</td>\n",
       "      <td>True</td>\n",
       "      <td>long</td>\n",
       "      <td>False</td>\n",
       "    </tr>\n",
       "    <tr>\n",
       "      <th>10</th>\n",
       "      <td>False</td>\n",
       "      <td>False</td>\n",
       "      <td>False</td>\n",
       "      <td>False</td>\n",
       "      <td>False</td>\n",
       "      <td>False</td>\n",
       "      <td>False</td>\n",
       "      <td>False</td>\n",
       "      <td>False</td>\n",
       "      <td>False</td>\n",
       "      <td>False</td>\n",
       "      <td>False</td>\n",
       "      <td>False</td>\n",
       "      <td>False</td>\n",
       "      <td>False</td>\n",
       "      <td>False</td>\n",
       "      <td>False</td>\n",
       "      <td>long</td>\n",
       "      <td>False</td>\n",
       "    </tr>\n",
       "    <tr>\n",
       "      <th>11</th>\n",
       "      <td>True</td>\n",
       "      <td>False</td>\n",
       "      <td>False</td>\n",
       "      <td>False</td>\n",
       "      <td>False</td>\n",
       "      <td>False</td>\n",
       "      <td>False</td>\n",
       "      <td>False</td>\n",
       "      <td>False</td>\n",
       "      <td>False</td>\n",
       "      <td>False</td>\n",
       "      <td>False</td>\n",
       "      <td>False</td>\n",
       "      <td>False</td>\n",
       "      <td>True</td>\n",
       "      <td>False</td>\n",
       "      <td>False</td>\n",
       "      <td>short</td>\n",
       "      <td>True</td>\n",
       "    </tr>\n",
       "  </tbody>\n",
       "</table>\n",
       "</div>"
      ],
      "text/plain": [
       "    type_1_m5  type_3_w  type_1_m30  type_1_h4  type_3_d  type_3_h4  type_1_d  \\\n",
       "0       False     False       False      False     False      False      True   \n",
       "1       False     False       False      False     False      False     False   \n",
       "2       False     False       False      False     False      False     False   \n",
       "3        True     False       False      False     False      False     False   \n",
       "4       False     False       False      False     False      False     False   \n",
       "5       False     False       False      False     False      False     False   \n",
       "6       False      True       False      False     False      False     False   \n",
       "7       False     False        True      False     False      False     False   \n",
       "8       False     False       False      False     False      False     False   \n",
       "9       False     False       False      False     False      False     False   \n",
       "10      False     False       False      False     False      False     False   \n",
       "11       True     False       False      False     False      False     False   \n",
       "\n",
       "    type_1_w  type_3_m5  type_3_h1  type_3_M  type_1_M  type_3_m15  type_1_h1  \\\n",
       "0      False      False      False     False     False       False      False   \n",
       "1      False       True      False     False     False       False       True   \n",
       "2       True       True      False     False     False       False      False   \n",
       "3      False      False      False     False     False       False      False   \n",
       "4      False       True      False     False      True       False      False   \n",
       "5      False      False      False      True      True       False      False   \n",
       "6      False      False      False     False     False       False      False   \n",
       "7      False      False       True     False     False       False      False   \n",
       "8      False      False      False     False     False       False       True   \n",
       "9      False      False      False     False     False       False      False   \n",
       "10     False      False      False     False     False       False      False   \n",
       "11     False      False      False     False     False       False      False   \n",
       "\n",
       "    type_3_m1  type_3_m30  type_1_m1   side  type_1_m15  \n",
       "0        True       False      False  short       False  \n",
       "1       False       False      False  short       False  \n",
       "2       False       False      False  short       False  \n",
       "3        True       False      False  short       False  \n",
       "4       False       False      False  short       False  \n",
       "5       False       False      False  short       False  \n",
       "6       False       False       True   long       False  \n",
       "7       False       False      False  short       False  \n",
       "8       False        True      False   long       False  \n",
       "9       False        True       True   long       False  \n",
       "10      False       False      False   long       False  \n",
       "11       True       False      False  short        True  "
      ]
     },
     "metadata": {},
     "output_type": "display_data"
    }
   ],
   "source": [
    "config = Config(\n",
    "    include_patterns=[r'^type_1_', r'^type_3_', r'^risk_reward_ratio$', r'^side'],  \n",
    "    exclude_patterns=[r'^management_strategy$'],         \n",
    "    #force_values={'side': 'short', 'side': 'long'},\n",
    ")\n",
    "\n",
    "full_df = j.to_dataframe(config)\n",
    "#full_df = full_df[full_df['side'] == 'long']\n",
    "display(full_df)"
   ]
  },
  {
   "cell_type": "code",
   "execution_count": null,
   "metadata": {},
   "outputs": [
    {
     "data": {
      "text/html": [
       "<div>\n",
       "<style scoped>\n",
       "    .dataframe tbody tr th:only-of-type {\n",
       "        vertical-align: middle;\n",
       "    }\n",
       "\n",
       "    .dataframe tbody tr th {\n",
       "        vertical-align: top;\n",
       "    }\n",
       "\n",
       "    .dataframe thead th {\n",
       "        text-align: right;\n",
       "    }\n",
       "</style>\n",
       "<table border=\"1\" class=\"dataframe\">\n",
       "  <thead>\n",
       "    <tr style=\"text-align: right;\">\n",
       "      <th></th>\n",
       "      <th>trade_uid</th>\n",
       "      <th>initial_risk_reward</th>\n",
       "      <th>entry_price</th>\n",
       "      <th>type_2_m15</th>\n",
       "      <th>type_1_m5</th>\n",
       "      <th>type_3_w</th>\n",
       "      <th>poi_15m_sc</th>\n",
       "      <th>outcome</th>\n",
       "      <th>poi_15m_mitigation</th>\n",
       "      <th>poi_1m_liquidity_grab</th>\n",
       "      <th>type_1_m30</th>\n",
       "      <th>type_1_h4</th>\n",
       "      <th>return</th>\n",
       "      <th>type_3_d</th>\n",
       "      <th>type_3_h4</th>\n",
       "      <th>tp_price</th>\n",
       "      <th>unit_test</th>\n",
       "      <th>type_1_d</th>\n",
       "      <th>numerical_confidence</th>\n",
       "      <th>type_2_m1</th>\n",
       "      <th>type_2_m5</th>\n",
       "      <th>rr</th>\n",
       "      <th>poi_1h_mitigation</th>\n",
       "      <th>poi_1m_mitigation</th>\n",
       "      <th>type_1_w</th>\n",
       "      <th>account</th>\n",
       "      <th>management_strategy</th>\n",
       "      <th>entry_time</th>\n",
       "      <th>sl_price</th>\n",
       "      <th>type_3_m5</th>\n",
       "      <th>taken</th>\n",
       "      <th>potential_return</th>\n",
       "      <th>TP_distance</th>\n",
       "      <th>type_3_h1</th>\n",
       "      <th>type_2_d</th>\n",
       "      <th>type_3_M</th>\n",
       "      <th>type_1_M</th>\n",
       "      <th>type_3_m15</th>\n",
       "      <th>type_2_h4</th>\n",
       "      <th>initial_return</th>\n",
       "      <th>type_1_h1</th>\n",
       "      <th>type_3_m1</th>\n",
       "      <th>poi_1h_liquidity_grab</th>\n",
       "      <th>potential_price</th>\n",
       "      <th>potential_risk_reward</th>\n",
       "      <th>session</th>\n",
       "      <th>poi_1h_sc</th>\n",
       "      <th>type_3_m30</th>\n",
       "      <th>poi_1m_sc</th>\n",
       "      <th>type_2_m30</th>\n",
       "      <th>type_2_w</th>\n",
       "      <th>type_2_M</th>\n",
       "      <th>type_1_m1</th>\n",
       "      <th>poi</th>\n",
       "      <th>poi_15m_liquidity_grab</th>\n",
       "      <th>SL_distance</th>\n",
       "      <th>side</th>\n",
       "      <th>type_2_h1</th>\n",
       "      <th>htf_poi_ltf_confirmation</th>\n",
       "      <th>close_price</th>\n",
       "      <th>type_1_m15</th>\n",
       "      <th>htf_poi_ltf_confirmation_False</th>\n",
       "      <th>htf_poi_ltf_confirmation_True</th>\n",
       "      <th>management_strategy_be_after_1r</th>\n",
       "      <th>management_strategy_be_after_push</th>\n",
       "      <th>management_strategy_no_management</th>\n",
       "      <th>outcome_be</th>\n",
       "      <th>outcome_loss</th>\n",
       "      <th>outcome_win</th>\n",
       "    </tr>\n",
       "  </thead>\n",
       "  <tbody>\n",
       "    <tr>\n",
       "      <th>0</th>\n",
       "      <td>1005</td>\n",
       "      <td>4.644407</td>\n",
       "      <td>1.1204</td>\n",
       "      <td>False</td>\n",
       "      <td>False</td>\n",
       "      <td>False</td>\n",
       "      <td>False</td>\n",
       "      <td>loss</td>\n",
       "      <td>False</td>\n",
       "      <td>False</td>\n",
       "      <td>False</td>\n",
       "      <td>False</td>\n",
       "      <td>0.00525</td>\n",
       "      <td>False</td>\n",
       "      <td>False</td>\n",
       "      <td>1.097178</td>\n",
       "      <td>True</td>\n",
       "      <td>True</td>\n",
       "      <td>5.0</td>\n",
       "      <td>False</td>\n",
       "      <td>False</td>\n",
       "      <td>-1.050000</td>\n",
       "      <td>False</td>\n",
       "      <td>False</td>\n",
       "      <td>False</td>\n",
       "      <td>test_account</td>\n",
       "      <td>be_after_1r</td>\n",
       "      <td>2025-02-15 06:20:11.869262705</td>\n",
       "      <td>1.1254</td>\n",
       "      <td>False</td>\n",
       "      <td>False</td>\n",
       "      <td>NaN</td>\n",
       "      <td>-0.023222</td>\n",
       "      <td>False</td>\n",
       "      <td>True</td>\n",
       "      <td>False</td>\n",
       "      <td>False</td>\n",
       "      <td>False</td>\n",
       "      <td>False</td>\n",
       "      <td>-0.023222</td>\n",
       "      <td>False</td>\n",
       "      <td>True</td>\n",
       "      <td>False</td>\n",
       "      <td>NaN</td>\n",
       "      <td>NaN</td>\n",
       "      <td>tokyo</td>\n",
       "      <td>False</td>\n",
       "      <td>False</td>\n",
       "      <td>False</td>\n",
       "      <td>False</td>\n",
       "      <td>False</td>\n",
       "      <td>False</td>\n",
       "      <td>False</td>\n",
       "      <td>None</td>\n",
       "      <td>False</td>\n",
       "      <td>-0.005</td>\n",
       "      <td>short</td>\n",
       "      <td>False</td>\n",
       "      <td>True</td>\n",
       "      <td>1.12565</td>\n",
       "      <td>False</td>\n",
       "      <td>False</td>\n",
       "      <td>True</td>\n",
       "      <td>True</td>\n",
       "      <td>False</td>\n",
       "      <td>False</td>\n",
       "      <td>False</td>\n",
       "      <td>True</td>\n",
       "      <td>False</td>\n",
       "    </tr>\n",
       "    <tr>\n",
       "      <th>1</th>\n",
       "      <td>1006</td>\n",
       "      <td>9.885333</td>\n",
       "      <td>1.1347</td>\n",
       "      <td>True</td>\n",
       "      <td>False</td>\n",
       "      <td>False</td>\n",
       "      <td>False</td>\n",
       "      <td>win</td>\n",
       "      <td>False</td>\n",
       "      <td>False</td>\n",
       "      <td>False</td>\n",
       "      <td>False</td>\n",
       "      <td>-0.03525</td>\n",
       "      <td>False</td>\n",
       "      <td>False</td>\n",
       "      <td>1.085273</td>\n",
       "      <td>True</td>\n",
       "      <td>False</td>\n",
       "      <td>1.0</td>\n",
       "      <td>False</td>\n",
       "      <td>False</td>\n",
       "      <td>7.050000</td>\n",
       "      <td>False</td>\n",
       "      <td>False</td>\n",
       "      <td>False</td>\n",
       "      <td>test_account</td>\n",
       "      <td>be_after_push</td>\n",
       "      <td>2025-02-13 06:00:30.030270186</td>\n",
       "      <td>1.1397</td>\n",
       "      <td>True</td>\n",
       "      <td>False</td>\n",
       "      <td>NaN</td>\n",
       "      <td>-0.049427</td>\n",
       "      <td>False</td>\n",
       "      <td>False</td>\n",
       "      <td>False</td>\n",
       "      <td>False</td>\n",
       "      <td>False</td>\n",
       "      <td>False</td>\n",
       "      <td>-0.049427</td>\n",
       "      <td>True</td>\n",
       "      <td>False</td>\n",
       "      <td>False</td>\n",
       "      <td>NaN</td>\n",
       "      <td>NaN</td>\n",
       "      <td>tokyo</td>\n",
       "      <td>False</td>\n",
       "      <td>False</td>\n",
       "      <td>False</td>\n",
       "      <td>False</td>\n",
       "      <td>False</td>\n",
       "      <td>False</td>\n",
       "      <td>False</td>\n",
       "      <td>None</td>\n",
       "      <td>False</td>\n",
       "      <td>-0.005</td>\n",
       "      <td>short</td>\n",
       "      <td>False</td>\n",
       "      <td>True</td>\n",
       "      <td>1.09945</td>\n",
       "      <td>False</td>\n",
       "      <td>False</td>\n",
       "      <td>True</td>\n",
       "      <td>False</td>\n",
       "      <td>True</td>\n",
       "      <td>False</td>\n",
       "      <td>False</td>\n",
       "      <td>False</td>\n",
       "      <td>True</td>\n",
       "    </tr>\n",
       "    <tr>\n",
       "      <th>2</th>\n",
       "      <td>1007</td>\n",
       "      <td>6.497983</td>\n",
       "      <td>1.1242</td>\n",
       "      <td>False</td>\n",
       "      <td>False</td>\n",
       "      <td>False</td>\n",
       "      <td>False</td>\n",
       "      <td>be</td>\n",
       "      <td>False</td>\n",
       "      <td>False</td>\n",
       "      <td>False</td>\n",
       "      <td>False</td>\n",
       "      <td>0.00025</td>\n",
       "      <td>False</td>\n",
       "      <td>False</td>\n",
       "      <td>1.091710</td>\n",
       "      <td>True</td>\n",
       "      <td>False</td>\n",
       "      <td>1.0</td>\n",
       "      <td>False</td>\n",
       "      <td>False</td>\n",
       "      <td>-0.050000</td>\n",
       "      <td>False</td>\n",
       "      <td>False</td>\n",
       "      <td>True</td>\n",
       "      <td>test_account</td>\n",
       "      <td>no_management</td>\n",
       "      <td>2025-02-18 07:34:28.867189251</td>\n",
       "      <td>1.1292</td>\n",
       "      <td>True</td>\n",
       "      <td>False</td>\n",
       "      <td>NaN</td>\n",
       "      <td>-0.032490</td>\n",
       "      <td>False</td>\n",
       "      <td>False</td>\n",
       "      <td>False</td>\n",
       "      <td>False</td>\n",
       "      <td>False</td>\n",
       "      <td>False</td>\n",
       "      <td>-0.032490</td>\n",
       "      <td>False</td>\n",
       "      <td>False</td>\n",
       "      <td>False</td>\n",
       "      <td>NaN</td>\n",
       "      <td>NaN</td>\n",
       "      <td>london</td>\n",
       "      <td>False</td>\n",
       "      <td>False</td>\n",
       "      <td>False</td>\n",
       "      <td>False</td>\n",
       "      <td>False</td>\n",
       "      <td>True</td>\n",
       "      <td>False</td>\n",
       "      <td>None</td>\n",
       "      <td>False</td>\n",
       "      <td>-0.005</td>\n",
       "      <td>short</td>\n",
       "      <td>False</td>\n",
       "      <td>False</td>\n",
       "      <td>1.12445</td>\n",
       "      <td>False</td>\n",
       "      <td>True</td>\n",
       "      <td>False</td>\n",
       "      <td>False</td>\n",
       "      <td>False</td>\n",
       "      <td>True</td>\n",
       "      <td>True</td>\n",
       "      <td>False</td>\n",
       "      <td>False</td>\n",
       "    </tr>\n",
       "    <tr>\n",
       "      <th>3</th>\n",
       "      <td>1008</td>\n",
       "      <td>3.195198</td>\n",
       "      <td>1.1345</td>\n",
       "      <td>False</td>\n",
       "      <td>True</td>\n",
       "      <td>False</td>\n",
       "      <td>False</td>\n",
       "      <td>win</td>\n",
       "      <td>False</td>\n",
       "      <td>False</td>\n",
       "      <td>False</td>\n",
       "      <td>False</td>\n",
       "      <td>-0.04350</td>\n",
       "      <td>False</td>\n",
       "      <td>False</td>\n",
       "      <td>1.118524</td>\n",
       "      <td>True</td>\n",
       "      <td>False</td>\n",
       "      <td>2.0</td>\n",
       "      <td>False</td>\n",
       "      <td>False</td>\n",
       "      <td>8.700000</td>\n",
       "      <td>False</td>\n",
       "      <td>False</td>\n",
       "      <td>False</td>\n",
       "      <td>test_account</td>\n",
       "      <td>be_after_1r</td>\n",
       "      <td>2025-03-05 07:07:42.801306061</td>\n",
       "      <td>1.1395</td>\n",
       "      <td>False</td>\n",
       "      <td>False</td>\n",
       "      <td>NaN</td>\n",
       "      <td>-0.015976</td>\n",
       "      <td>False</td>\n",
       "      <td>True</td>\n",
       "      <td>False</td>\n",
       "      <td>False</td>\n",
       "      <td>False</td>\n",
       "      <td>False</td>\n",
       "      <td>-0.015976</td>\n",
       "      <td>False</td>\n",
       "      <td>True</td>\n",
       "      <td>False</td>\n",
       "      <td>NaN</td>\n",
       "      <td>NaN</td>\n",
       "      <td>london</td>\n",
       "      <td>False</td>\n",
       "      <td>False</td>\n",
       "      <td>False</td>\n",
       "      <td>False</td>\n",
       "      <td>False</td>\n",
       "      <td>False</td>\n",
       "      <td>False</td>\n",
       "      <td>None</td>\n",
       "      <td>False</td>\n",
       "      <td>-0.005</td>\n",
       "      <td>short</td>\n",
       "      <td>False</td>\n",
       "      <td>True</td>\n",
       "      <td>1.09100</td>\n",
       "      <td>False</td>\n",
       "      <td>False</td>\n",
       "      <td>True</td>\n",
       "      <td>True</td>\n",
       "      <td>False</td>\n",
       "      <td>False</td>\n",
       "      <td>False</td>\n",
       "      <td>False</td>\n",
       "      <td>True</td>\n",
       "    </tr>\n",
       "    <tr>\n",
       "      <th>4</th>\n",
       "      <td>1009</td>\n",
       "      <td>8.875786</td>\n",
       "      <td>1.1132</td>\n",
       "      <td>False</td>\n",
       "      <td>False</td>\n",
       "      <td>False</td>\n",
       "      <td>False</td>\n",
       "      <td>loss</td>\n",
       "      <td>False</td>\n",
       "      <td>False</td>\n",
       "      <td>False</td>\n",
       "      <td>False</td>\n",
       "      <td>0.00385</td>\n",
       "      <td>False</td>\n",
       "      <td>False</td>\n",
       "      <td>1.068821</td>\n",
       "      <td>True</td>\n",
       "      <td>False</td>\n",
       "      <td>1.0</td>\n",
       "      <td>False</td>\n",
       "      <td>False</td>\n",
       "      <td>-0.770000</td>\n",
       "      <td>False</td>\n",
       "      <td>False</td>\n",
       "      <td>False</td>\n",
       "      <td>test_account</td>\n",
       "      <td>be_after_push</td>\n",
       "      <td>2025-02-21 07:12:31.963838975</td>\n",
       "      <td>1.1182</td>\n",
       "      <td>True</td>\n",
       "      <td>False</td>\n",
       "      <td>NaN</td>\n",
       "      <td>-0.044379</td>\n",
       "      <td>False</td>\n",
       "      <td>False</td>\n",
       "      <td>False</td>\n",
       "      <td>True</td>\n",
       "      <td>False</td>\n",
       "      <td>False</td>\n",
       "      <td>-0.044379</td>\n",
       "      <td>False</td>\n",
       "      <td>False</td>\n",
       "      <td>False</td>\n",
       "      <td>NaN</td>\n",
       "      <td>NaN</td>\n",
       "      <td>london</td>\n",
       "      <td>False</td>\n",
       "      <td>False</td>\n",
       "      <td>False</td>\n",
       "      <td>False</td>\n",
       "      <td>True</td>\n",
       "      <td>False</td>\n",
       "      <td>False</td>\n",
       "      <td>None</td>\n",
       "      <td>False</td>\n",
       "      <td>-0.005</td>\n",
       "      <td>short</td>\n",
       "      <td>False</td>\n",
       "      <td>False</td>\n",
       "      <td>1.11705</td>\n",
       "      <td>False</td>\n",
       "      <td>True</td>\n",
       "      <td>False</td>\n",
       "      <td>False</td>\n",
       "      <td>True</td>\n",
       "      <td>False</td>\n",
       "      <td>False</td>\n",
       "      <td>True</td>\n",
       "      <td>False</td>\n",
       "    </tr>\n",
       "    <tr>\n",
       "      <th>5</th>\n",
       "      <td>1010</td>\n",
       "      <td>1.824689</td>\n",
       "      <td>1.1335</td>\n",
       "      <td>False</td>\n",
       "      <td>False</td>\n",
       "      <td>False</td>\n",
       "      <td>False</td>\n",
       "      <td>loss</td>\n",
       "      <td>False</td>\n",
       "      <td>False</td>\n",
       "      <td>False</td>\n",
       "      <td>False</td>\n",
       "      <td>0.00510</td>\n",
       "      <td>False</td>\n",
       "      <td>False</td>\n",
       "      <td>1.124377</td>\n",
       "      <td>True</td>\n",
       "      <td>False</td>\n",
       "      <td>2.0</td>\n",
       "      <td>False</td>\n",
       "      <td>False</td>\n",
       "      <td>-1.020000</td>\n",
       "      <td>False</td>\n",
       "      <td>False</td>\n",
       "      <td>False</td>\n",
       "      <td>test_account</td>\n",
       "      <td>be_after_1r</td>\n",
       "      <td>2025-02-13 06:38:36.944399655</td>\n",
       "      <td>1.1385</td>\n",
       "      <td>False</td>\n",
       "      <td>False</td>\n",
       "      <td>NaN</td>\n",
       "      <td>-0.009123</td>\n",
       "      <td>False</td>\n",
       "      <td>False</td>\n",
       "      <td>True</td>\n",
       "      <td>True</td>\n",
       "      <td>False</td>\n",
       "      <td>False</td>\n",
       "      <td>-0.009123</td>\n",
       "      <td>False</td>\n",
       "      <td>False</td>\n",
       "      <td>False</td>\n",
       "      <td>NaN</td>\n",
       "      <td>NaN</td>\n",
       "      <td>tokyo</td>\n",
       "      <td>False</td>\n",
       "      <td>False</td>\n",
       "      <td>False</td>\n",
       "      <td>True</td>\n",
       "      <td>False</td>\n",
       "      <td>False</td>\n",
       "      <td>False</td>\n",
       "      <td>None</td>\n",
       "      <td>False</td>\n",
       "      <td>-0.005</td>\n",
       "      <td>short</td>\n",
       "      <td>False</td>\n",
       "      <td>True</td>\n",
       "      <td>1.13860</td>\n",
       "      <td>False</td>\n",
       "      <td>False</td>\n",
       "      <td>True</td>\n",
       "      <td>True</td>\n",
       "      <td>False</td>\n",
       "      <td>False</td>\n",
       "      <td>False</td>\n",
       "      <td>True</td>\n",
       "      <td>False</td>\n",
       "    </tr>\n",
       "    <tr>\n",
       "      <th>6</th>\n",
       "      <td>1011</td>\n",
       "      <td>8.890933</td>\n",
       "      <td>1.1128</td>\n",
       "      <td>False</td>\n",
       "      <td>False</td>\n",
       "      <td>True</td>\n",
       "      <td>False</td>\n",
       "      <td>loss</td>\n",
       "      <td>False</td>\n",
       "      <td>False</td>\n",
       "      <td>False</td>\n",
       "      <td>False</td>\n",
       "      <td>-0.00120</td>\n",
       "      <td>False</td>\n",
       "      <td>False</td>\n",
       "      <td>1.157255</td>\n",
       "      <td>True</td>\n",
       "      <td>False</td>\n",
       "      <td>5.0</td>\n",
       "      <td>False</td>\n",
       "      <td>False</td>\n",
       "      <td>-0.240000</td>\n",
       "      <td>False</td>\n",
       "      <td>False</td>\n",
       "      <td>False</td>\n",
       "      <td>test_account</td>\n",
       "      <td>be_after_1r</td>\n",
       "      <td>2025-03-02 06:34:15.293149438</td>\n",
       "      <td>1.1078</td>\n",
       "      <td>False</td>\n",
       "      <td>False</td>\n",
       "      <td>NaN</td>\n",
       "      <td>0.044455</td>\n",
       "      <td>False</td>\n",
       "      <td>False</td>\n",
       "      <td>False</td>\n",
       "      <td>False</td>\n",
       "      <td>False</td>\n",
       "      <td>False</td>\n",
       "      <td>0.044455</td>\n",
       "      <td>False</td>\n",
       "      <td>False</td>\n",
       "      <td>False</td>\n",
       "      <td>NaN</td>\n",
       "      <td>NaN</td>\n",
       "      <td>tokyo</td>\n",
       "      <td>False</td>\n",
       "      <td>False</td>\n",
       "      <td>False</td>\n",
       "      <td>False</td>\n",
       "      <td>False</td>\n",
       "      <td>False</td>\n",
       "      <td>True</td>\n",
       "      <td>None</td>\n",
       "      <td>False</td>\n",
       "      <td>0.005</td>\n",
       "      <td>long</td>\n",
       "      <td>True</td>\n",
       "      <td>False</td>\n",
       "      <td>1.11160</td>\n",
       "      <td>False</td>\n",
       "      <td>True</td>\n",
       "      <td>False</td>\n",
       "      <td>True</td>\n",
       "      <td>False</td>\n",
       "      <td>False</td>\n",
       "      <td>False</td>\n",
       "      <td>True</td>\n",
       "      <td>False</td>\n",
       "    </tr>\n",
       "    <tr>\n",
       "      <th>7</th>\n",
       "      <td>1012</td>\n",
       "      <td>1.741357</td>\n",
       "      <td>1.1280</td>\n",
       "      <td>False</td>\n",
       "      <td>False</td>\n",
       "      <td>False</td>\n",
       "      <td>False</td>\n",
       "      <td>win</td>\n",
       "      <td>False</td>\n",
       "      <td>False</td>\n",
       "      <td>True</td>\n",
       "      <td>False</td>\n",
       "      <td>-0.02430</td>\n",
       "      <td>False</td>\n",
       "      <td>False</td>\n",
       "      <td>1.119293</td>\n",
       "      <td>True</td>\n",
       "      <td>False</td>\n",
       "      <td>2.0</td>\n",
       "      <td>False</td>\n",
       "      <td>False</td>\n",
       "      <td>4.860000</td>\n",
       "      <td>False</td>\n",
       "      <td>False</td>\n",
       "      <td>False</td>\n",
       "      <td>test_account</td>\n",
       "      <td>no_management</td>\n",
       "      <td>2025-03-03 06:07:59.938551714</td>\n",
       "      <td>1.1330</td>\n",
       "      <td>False</td>\n",
       "      <td>False</td>\n",
       "      <td>NaN</td>\n",
       "      <td>-0.008707</td>\n",
       "      <td>True</td>\n",
       "      <td>True</td>\n",
       "      <td>False</td>\n",
       "      <td>False</td>\n",
       "      <td>False</td>\n",
       "      <td>False</td>\n",
       "      <td>-0.008707</td>\n",
       "      <td>False</td>\n",
       "      <td>False</td>\n",
       "      <td>False</td>\n",
       "      <td>NaN</td>\n",
       "      <td>NaN</td>\n",
       "      <td>tokyo</td>\n",
       "      <td>False</td>\n",
       "      <td>False</td>\n",
       "      <td>False</td>\n",
       "      <td>False</td>\n",
       "      <td>False</td>\n",
       "      <td>False</td>\n",
       "      <td>False</td>\n",
       "      <td>None</td>\n",
       "      <td>False</td>\n",
       "      <td>-0.005</td>\n",
       "      <td>short</td>\n",
       "      <td>False</td>\n",
       "      <td>True</td>\n",
       "      <td>1.10370</td>\n",
       "      <td>False</td>\n",
       "      <td>False</td>\n",
       "      <td>True</td>\n",
       "      <td>False</td>\n",
       "      <td>False</td>\n",
       "      <td>True</td>\n",
       "      <td>False</td>\n",
       "      <td>False</td>\n",
       "      <td>True</td>\n",
       "    </tr>\n",
       "    <tr>\n",
       "      <th>8</th>\n",
       "      <td>1013</td>\n",
       "      <td>3.992825</td>\n",
       "      <td>1.1249</td>\n",
       "      <td>False</td>\n",
       "      <td>False</td>\n",
       "      <td>False</td>\n",
       "      <td>False</td>\n",
       "      <td>loss</td>\n",
       "      <td>False</td>\n",
       "      <td>False</td>\n",
       "      <td>False</td>\n",
       "      <td>False</td>\n",
       "      <td>-0.00675</td>\n",
       "      <td>False</td>\n",
       "      <td>False</td>\n",
       "      <td>1.144864</td>\n",
       "      <td>True</td>\n",
       "      <td>False</td>\n",
       "      <td>1.0</td>\n",
       "      <td>False</td>\n",
       "      <td>True</td>\n",
       "      <td>-1.350000</td>\n",
       "      <td>False</td>\n",
       "      <td>False</td>\n",
       "      <td>False</td>\n",
       "      <td>test_account</td>\n",
       "      <td>no_management</td>\n",
       "      <td>2025-03-03 06:47:02.469978317</td>\n",
       "      <td>1.1199</td>\n",
       "      <td>False</td>\n",
       "      <td>False</td>\n",
       "      <td>NaN</td>\n",
       "      <td>0.019964</td>\n",
       "      <td>False</td>\n",
       "      <td>False</td>\n",
       "      <td>False</td>\n",
       "      <td>False</td>\n",
       "      <td>False</td>\n",
       "      <td>False</td>\n",
       "      <td>0.019964</td>\n",
       "      <td>True</td>\n",
       "      <td>False</td>\n",
       "      <td>False</td>\n",
       "      <td>NaN</td>\n",
       "      <td>NaN</td>\n",
       "      <td>tokyo</td>\n",
       "      <td>False</td>\n",
       "      <td>True</td>\n",
       "      <td>False</td>\n",
       "      <td>False</td>\n",
       "      <td>False</td>\n",
       "      <td>False</td>\n",
       "      <td>False</td>\n",
       "      <td>None</td>\n",
       "      <td>False</td>\n",
       "      <td>0.005</td>\n",
       "      <td>long</td>\n",
       "      <td>False</td>\n",
       "      <td>True</td>\n",
       "      <td>1.11815</td>\n",
       "      <td>False</td>\n",
       "      <td>False</td>\n",
       "      <td>True</td>\n",
       "      <td>False</td>\n",
       "      <td>False</td>\n",
       "      <td>True</td>\n",
       "      <td>False</td>\n",
       "      <td>True</td>\n",
       "      <td>False</td>\n",
       "    </tr>\n",
       "    <tr>\n",
       "      <th>9</th>\n",
       "      <td>1014</td>\n",
       "      <td>4.520885</td>\n",
       "      <td>1.1343</td>\n",
       "      <td>False</td>\n",
       "      <td>False</td>\n",
       "      <td>False</td>\n",
       "      <td>False</td>\n",
       "      <td>win</td>\n",
       "      <td>False</td>\n",
       "      <td>False</td>\n",
       "      <td>False</td>\n",
       "      <td>False</td>\n",
       "      <td>0.04905</td>\n",
       "      <td>False</td>\n",
       "      <td>False</td>\n",
       "      <td>1.156904</td>\n",
       "      <td>True</td>\n",
       "      <td>False</td>\n",
       "      <td>2.0</td>\n",
       "      <td>False</td>\n",
       "      <td>True</td>\n",
       "      <td>9.810000</td>\n",
       "      <td>False</td>\n",
       "      <td>False</td>\n",
       "      <td>False</td>\n",
       "      <td>test_account</td>\n",
       "      <td>be_after_1r</td>\n",
       "      <td>2025-02-23 05:29:11.449141101</td>\n",
       "      <td>1.1293</td>\n",
       "      <td>False</td>\n",
       "      <td>False</td>\n",
       "      <td>NaN</td>\n",
       "      <td>0.022604</td>\n",
       "      <td>False</td>\n",
       "      <td>False</td>\n",
       "      <td>False</td>\n",
       "      <td>False</td>\n",
       "      <td>False</td>\n",
       "      <td>False</td>\n",
       "      <td>0.022604</td>\n",
       "      <td>False</td>\n",
       "      <td>False</td>\n",
       "      <td>False</td>\n",
       "      <td>NaN</td>\n",
       "      <td>NaN</td>\n",
       "      <td>tokyo</td>\n",
       "      <td>False</td>\n",
       "      <td>True</td>\n",
       "      <td>False</td>\n",
       "      <td>False</td>\n",
       "      <td>False</td>\n",
       "      <td>False</td>\n",
       "      <td>True</td>\n",
       "      <td>None</td>\n",
       "      <td>False</td>\n",
       "      <td>0.005</td>\n",
       "      <td>long</td>\n",
       "      <td>False</td>\n",
       "      <td>True</td>\n",
       "      <td>1.18335</td>\n",
       "      <td>False</td>\n",
       "      <td>False</td>\n",
       "      <td>True</td>\n",
       "      <td>True</td>\n",
       "      <td>False</td>\n",
       "      <td>False</td>\n",
       "      <td>False</td>\n",
       "      <td>False</td>\n",
       "      <td>True</td>\n",
       "    </tr>\n",
       "    <tr>\n",
       "      <th>10</th>\n",
       "      <td>2</td>\n",
       "      <td>27.822006</td>\n",
       "      <td>2914.0300</td>\n",
       "      <td>False</td>\n",
       "      <td>False</td>\n",
       "      <td>False</td>\n",
       "      <td>False</td>\n",
       "      <td>NaN</td>\n",
       "      <td>False</td>\n",
       "      <td>False</td>\n",
       "      <td>False</td>\n",
       "      <td>False</td>\n",
       "      <td>NaN</td>\n",
       "      <td>False</td>\n",
       "      <td>False</td>\n",
       "      <td>3000.000000</td>\n",
       "      <td>False</td>\n",
       "      <td>False</td>\n",
       "      <td>NaN</td>\n",
       "      <td>False</td>\n",
       "      <td>False</td>\n",
       "      <td>NaN</td>\n",
       "      <td>False</td>\n",
       "      <td>False</td>\n",
       "      <td>False</td>\n",
       "      <td>mt5_vantage</td>\n",
       "      <td>no_management</td>\n",
       "      <td>2025-02-18 14:10:00.000000000</td>\n",
       "      <td>2910.9400</td>\n",
       "      <td>False</td>\n",
       "      <td>True</td>\n",
       "      <td>NaN</td>\n",
       "      <td>85.970000</td>\n",
       "      <td>False</td>\n",
       "      <td>False</td>\n",
       "      <td>False</td>\n",
       "      <td>False</td>\n",
       "      <td>False</td>\n",
       "      <td>False</td>\n",
       "      <td>85.970000</td>\n",
       "      <td>False</td>\n",
       "      <td>False</td>\n",
       "      <td>False</td>\n",
       "      <td>NaN</td>\n",
       "      <td>NaN</td>\n",
       "      <td>new_york</td>\n",
       "      <td>False</td>\n",
       "      <td>False</td>\n",
       "      <td>False</td>\n",
       "      <td>False</td>\n",
       "      <td>False</td>\n",
       "      <td>False</td>\n",
       "      <td>False</td>\n",
       "      <td>None</td>\n",
       "      <td>False</td>\n",
       "      <td>3.090</td>\n",
       "      <td>long</td>\n",
       "      <td>False</td>\n",
       "      <td>False</td>\n",
       "      <td>NaN</td>\n",
       "      <td>False</td>\n",
       "      <td>True</td>\n",
       "      <td>False</td>\n",
       "      <td>False</td>\n",
       "      <td>False</td>\n",
       "      <td>True</td>\n",
       "      <td>False</td>\n",
       "      <td>False</td>\n",
       "      <td>False</td>\n",
       "    </tr>\n",
       "    <tr>\n",
       "      <th>11</th>\n",
       "      <td>4</td>\n",
       "      <td>4.025187</td>\n",
       "      <td>22164.4000</td>\n",
       "      <td>False</td>\n",
       "      <td>True</td>\n",
       "      <td>False</td>\n",
       "      <td>False</td>\n",
       "      <td>NaN</td>\n",
       "      <td>False</td>\n",
       "      <td>False</td>\n",
       "      <td>False</td>\n",
       "      <td>False</td>\n",
       "      <td>-59.13000</td>\n",
       "      <td>False</td>\n",
       "      <td>False</td>\n",
       "      <td>22105.270000</td>\n",
       "      <td>False</td>\n",
       "      <td>False</td>\n",
       "      <td>5.0</td>\n",
       "      <td>False</td>\n",
       "      <td>False</td>\n",
       "      <td>4.025187</td>\n",
       "      <td>False</td>\n",
       "      <td>False</td>\n",
       "      <td>False</td>\n",
       "      <td>ideal</td>\n",
       "      <td>be_after_push</td>\n",
       "      <td>2025-02-22 15:11:00.000000000</td>\n",
       "      <td>22179.0900</td>\n",
       "      <td>False</td>\n",
       "      <td>False</td>\n",
       "      <td>-564.4</td>\n",
       "      <td>-59.130000</td>\n",
       "      <td>False</td>\n",
       "      <td>False</td>\n",
       "      <td>False</td>\n",
       "      <td>False</td>\n",
       "      <td>False</td>\n",
       "      <td>False</td>\n",
       "      <td>-59.130000</td>\n",
       "      <td>False</td>\n",
       "      <td>True</td>\n",
       "      <td>True</td>\n",
       "      <td>21600.0</td>\n",
       "      <td>38.420694</td>\n",
       "      <td>new_york</td>\n",
       "      <td>True</td>\n",
       "      <td>False</td>\n",
       "      <td>True</td>\n",
       "      <td>False</td>\n",
       "      <td>False</td>\n",
       "      <td>False</td>\n",
       "      <td>False</td>\n",
       "      <td>(poi_1h_liquidity_grab, poi_1h_sc, poi_1m_sc)</td>\n",
       "      <td>False</td>\n",
       "      <td>-14.690</td>\n",
       "      <td>short</td>\n",
       "      <td>False</td>\n",
       "      <td>True</td>\n",
       "      <td>22105.27000</td>\n",
       "      <td>True</td>\n",
       "      <td>False</td>\n",
       "      <td>True</td>\n",
       "      <td>False</td>\n",
       "      <td>True</td>\n",
       "      <td>False</td>\n",
       "      <td>False</td>\n",
       "      <td>False</td>\n",
       "      <td>False</td>\n",
       "    </tr>\n",
       "  </tbody>\n",
       "</table>\n",
       "</div>"
      ],
      "text/plain": [
       "   trade_uid  initial_risk_reward  entry_price  type_2_m15  type_1_m5  \\\n",
       "0       1005             4.644407       1.1204       False      False   \n",
       "1       1006             9.885333       1.1347        True      False   \n",
       "2       1007             6.497983       1.1242       False      False   \n",
       "3       1008             3.195198       1.1345       False       True   \n",
       "4       1009             8.875786       1.1132       False      False   \n",
       "5       1010             1.824689       1.1335       False      False   \n",
       "6       1011             8.890933       1.1128       False      False   \n",
       "7       1012             1.741357       1.1280       False      False   \n",
       "8       1013             3.992825       1.1249       False      False   \n",
       "9       1014             4.520885       1.1343       False      False   \n",
       "10         2            27.822006    2914.0300       False      False   \n",
       "11         4             4.025187   22164.4000       False       True   \n",
       "\n",
       "    type_3_w  poi_15m_sc outcome  poi_15m_mitigation  poi_1m_liquidity_grab  \\\n",
       "0      False       False    loss               False                  False   \n",
       "1      False       False     win               False                  False   \n",
       "2      False       False      be               False                  False   \n",
       "3      False       False     win               False                  False   \n",
       "4      False       False    loss               False                  False   \n",
       "5      False       False    loss               False                  False   \n",
       "6       True       False    loss               False                  False   \n",
       "7      False       False     win               False                  False   \n",
       "8      False       False    loss               False                  False   \n",
       "9      False       False     win               False                  False   \n",
       "10     False       False     NaN               False                  False   \n",
       "11     False       False     NaN               False                  False   \n",
       "\n",
       "    type_1_m30  type_1_h4    return  type_3_d  type_3_h4      tp_price  \\\n",
       "0        False      False   0.00525     False      False      1.097178   \n",
       "1        False      False  -0.03525     False      False      1.085273   \n",
       "2        False      False   0.00025     False      False      1.091710   \n",
       "3        False      False  -0.04350     False      False      1.118524   \n",
       "4        False      False   0.00385     False      False      1.068821   \n",
       "5        False      False   0.00510     False      False      1.124377   \n",
       "6        False      False  -0.00120     False      False      1.157255   \n",
       "7         True      False  -0.02430     False      False      1.119293   \n",
       "8        False      False  -0.00675     False      False      1.144864   \n",
       "9        False      False   0.04905     False      False      1.156904   \n",
       "10       False      False       NaN     False      False   3000.000000   \n",
       "11       False      False -59.13000     False      False  22105.270000   \n",
       "\n",
       "    unit_test  type_1_d  numerical_confidence  type_2_m1  type_2_m5        rr  \\\n",
       "0        True      True                   5.0      False      False -1.050000   \n",
       "1        True     False                   1.0      False      False  7.050000   \n",
       "2        True     False                   1.0      False      False -0.050000   \n",
       "3        True     False                   2.0      False      False  8.700000   \n",
       "4        True     False                   1.0      False      False -0.770000   \n",
       "5        True     False                   2.0      False      False -1.020000   \n",
       "6        True     False                   5.0      False      False -0.240000   \n",
       "7        True     False                   2.0      False      False  4.860000   \n",
       "8        True     False                   1.0      False       True -1.350000   \n",
       "9        True     False                   2.0      False       True  9.810000   \n",
       "10      False     False                   NaN      False      False       NaN   \n",
       "11      False     False                   5.0      False      False  4.025187   \n",
       "\n",
       "    poi_1h_mitigation  poi_1m_mitigation  type_1_w       account  \\\n",
       "0               False              False     False  test_account   \n",
       "1               False              False     False  test_account   \n",
       "2               False              False      True  test_account   \n",
       "3               False              False     False  test_account   \n",
       "4               False              False     False  test_account   \n",
       "5               False              False     False  test_account   \n",
       "6               False              False     False  test_account   \n",
       "7               False              False     False  test_account   \n",
       "8               False              False     False  test_account   \n",
       "9               False              False     False  test_account   \n",
       "10              False              False     False   mt5_vantage   \n",
       "11              False              False     False         ideal   \n",
       "\n",
       "   management_strategy                    entry_time    sl_price  type_3_m5  \\\n",
       "0          be_after_1r 2025-02-15 06:20:11.869262705      1.1254      False   \n",
       "1        be_after_push 2025-02-13 06:00:30.030270186      1.1397       True   \n",
       "2        no_management 2025-02-18 07:34:28.867189251      1.1292       True   \n",
       "3          be_after_1r 2025-03-05 07:07:42.801306061      1.1395      False   \n",
       "4        be_after_push 2025-02-21 07:12:31.963838975      1.1182       True   \n",
       "5          be_after_1r 2025-02-13 06:38:36.944399655      1.1385      False   \n",
       "6          be_after_1r 2025-03-02 06:34:15.293149438      1.1078      False   \n",
       "7        no_management 2025-03-03 06:07:59.938551714      1.1330      False   \n",
       "8        no_management 2025-03-03 06:47:02.469978317      1.1199      False   \n",
       "9          be_after_1r 2025-02-23 05:29:11.449141101      1.1293      False   \n",
       "10       no_management 2025-02-18 14:10:00.000000000   2910.9400      False   \n",
       "11       be_after_push 2025-02-22 15:11:00.000000000  22179.0900      False   \n",
       "\n",
       "    taken  potential_return  TP_distance  type_3_h1  type_2_d  type_3_M  \\\n",
       "0   False               NaN    -0.023222      False      True     False   \n",
       "1   False               NaN    -0.049427      False     False     False   \n",
       "2   False               NaN    -0.032490      False     False     False   \n",
       "3   False               NaN    -0.015976      False      True     False   \n",
       "4   False               NaN    -0.044379      False     False     False   \n",
       "5   False               NaN    -0.009123      False     False      True   \n",
       "6   False               NaN     0.044455      False     False     False   \n",
       "7   False               NaN    -0.008707       True      True     False   \n",
       "8   False               NaN     0.019964      False     False     False   \n",
       "9   False               NaN     0.022604      False     False     False   \n",
       "10   True               NaN    85.970000      False     False     False   \n",
       "11  False            -564.4   -59.130000      False     False     False   \n",
       "\n",
       "    type_1_M  type_3_m15  type_2_h4  initial_return  type_1_h1  type_3_m1  \\\n",
       "0      False       False      False       -0.023222      False       True   \n",
       "1      False       False      False       -0.049427       True      False   \n",
       "2      False       False      False       -0.032490      False      False   \n",
       "3      False       False      False       -0.015976      False       True   \n",
       "4       True       False      False       -0.044379      False      False   \n",
       "5       True       False      False       -0.009123      False      False   \n",
       "6      False       False      False        0.044455      False      False   \n",
       "7      False       False      False       -0.008707      False      False   \n",
       "8      False       False      False        0.019964       True      False   \n",
       "9      False       False      False        0.022604      False      False   \n",
       "10     False       False      False       85.970000      False      False   \n",
       "11     False       False      False      -59.130000      False       True   \n",
       "\n",
       "    poi_1h_liquidity_grab  potential_price  potential_risk_reward   session  \\\n",
       "0                   False              NaN                    NaN     tokyo   \n",
       "1                   False              NaN                    NaN     tokyo   \n",
       "2                   False              NaN                    NaN    london   \n",
       "3                   False              NaN                    NaN    london   \n",
       "4                   False              NaN                    NaN    london   \n",
       "5                   False              NaN                    NaN     tokyo   \n",
       "6                   False              NaN                    NaN     tokyo   \n",
       "7                   False              NaN                    NaN     tokyo   \n",
       "8                   False              NaN                    NaN     tokyo   \n",
       "9                   False              NaN                    NaN     tokyo   \n",
       "10                  False              NaN                    NaN  new_york   \n",
       "11                   True          21600.0              38.420694  new_york   \n",
       "\n",
       "    poi_1h_sc  type_3_m30  poi_1m_sc  type_2_m30  type_2_w  type_2_M  \\\n",
       "0       False       False      False       False     False     False   \n",
       "1       False       False      False       False     False     False   \n",
       "2       False       False      False       False     False      True   \n",
       "3       False       False      False       False     False     False   \n",
       "4       False       False      False       False      True     False   \n",
       "5       False       False      False        True     False     False   \n",
       "6       False       False      False       False     False     False   \n",
       "7       False       False      False       False     False     False   \n",
       "8       False        True      False       False     False     False   \n",
       "9       False        True      False       False     False     False   \n",
       "10      False       False      False       False     False     False   \n",
       "11       True       False       True       False     False     False   \n",
       "\n",
       "    type_1_m1                                            poi  \\\n",
       "0       False                                           None   \n",
       "1       False                                           None   \n",
       "2       False                                           None   \n",
       "3       False                                           None   \n",
       "4       False                                           None   \n",
       "5       False                                           None   \n",
       "6        True                                           None   \n",
       "7       False                                           None   \n",
       "8       False                                           None   \n",
       "9        True                                           None   \n",
       "10      False                                           None   \n",
       "11      False  (poi_1h_liquidity_grab, poi_1h_sc, poi_1m_sc)   \n",
       "\n",
       "    poi_15m_liquidity_grab  SL_distance   side  type_2_h1  \\\n",
       "0                    False       -0.005  short      False   \n",
       "1                    False       -0.005  short      False   \n",
       "2                    False       -0.005  short      False   \n",
       "3                    False       -0.005  short      False   \n",
       "4                    False       -0.005  short      False   \n",
       "5                    False       -0.005  short      False   \n",
       "6                    False        0.005   long       True   \n",
       "7                    False       -0.005  short      False   \n",
       "8                    False        0.005   long      False   \n",
       "9                    False        0.005   long      False   \n",
       "10                   False        3.090   long      False   \n",
       "11                   False      -14.690  short      False   \n",
       "\n",
       "   htf_poi_ltf_confirmation  close_price  type_1_m15  \\\n",
       "0                      True      1.12565       False   \n",
       "1                      True      1.09945       False   \n",
       "2                     False      1.12445       False   \n",
       "3                      True      1.09100       False   \n",
       "4                     False      1.11705       False   \n",
       "5                      True      1.13860       False   \n",
       "6                     False      1.11160       False   \n",
       "7                      True      1.10370       False   \n",
       "8                      True      1.11815       False   \n",
       "9                      True      1.18335       False   \n",
       "10                    False          NaN       False   \n",
       "11                     True  22105.27000        True   \n",
       "\n",
       "    htf_poi_ltf_confirmation_False  htf_poi_ltf_confirmation_True  \\\n",
       "0                            False                           True   \n",
       "1                            False                           True   \n",
       "2                             True                          False   \n",
       "3                            False                           True   \n",
       "4                             True                          False   \n",
       "5                            False                           True   \n",
       "6                             True                          False   \n",
       "7                            False                           True   \n",
       "8                            False                           True   \n",
       "9                            False                           True   \n",
       "10                            True                          False   \n",
       "11                           False                           True   \n",
       "\n",
       "    management_strategy_be_after_1r  management_strategy_be_after_push  \\\n",
       "0                              True                              False   \n",
       "1                             False                               True   \n",
       "2                             False                              False   \n",
       "3                              True                              False   \n",
       "4                             False                               True   \n",
       "5                              True                              False   \n",
       "6                              True                              False   \n",
       "7                             False                              False   \n",
       "8                             False                              False   \n",
       "9                              True                              False   \n",
       "10                            False                              False   \n",
       "11                            False                               True   \n",
       "\n",
       "    management_strategy_no_management  outcome_be  outcome_loss  outcome_win  \n",
       "0                               False       False          True        False  \n",
       "1                               False       False         False         True  \n",
       "2                                True        True         False        False  \n",
       "3                               False       False         False         True  \n",
       "4                               False       False          True        False  \n",
       "5                               False       False          True        False  \n",
       "6                               False       False          True        False  \n",
       "7                                True       False         False         True  \n",
       "8                                True       False          True        False  \n",
       "9                               False       False         False         True  \n",
       "10                               True       False         False        False  \n",
       "11                              False       False         False        False  "
      ]
     },
     "execution_count": 43,
     "metadata": {},
     "output_type": "execute_result"
    }
   ],
   "source": [
    "j.to_dataframe()"
   ]
  },
  {
   "cell_type": "code",
   "execution_count": null,
   "metadata": {},
   "outputs": [],
   "source": [
    "!rm -rf output\n",
    "logger = logging.getLogger()\n",
    "logger.setLevel(logging.ERROR)\n",
    "#j.to_markdown(output_dir='output',)"
   ]
  },
  {
   "cell_type": "code",
   "execution_count": null,
   "metadata": {},
   "outputs": [
    {
     "data": {
      "text/html": [
       "<div>\n",
       "<style scoped>\n",
       "    .dataframe tbody tr th:only-of-type {\n",
       "        vertical-align: middle;\n",
       "    }\n",
       "\n",
       "    .dataframe tbody tr th {\n",
       "        vertical-align: top;\n",
       "    }\n",
       "\n",
       "    .dataframe thead th {\n",
       "        text-align: right;\n",
       "    }\n",
       "</style>\n",
       "<table border=\"1\" class=\"dataframe\">\n",
       "  <thead>\n",
       "    <tr style=\"text-align: right;\">\n",
       "      <th></th>\n",
       "      <th>trade_uid</th>\n",
       "      <th>initial_risk_reward</th>\n",
       "      <th>entry_price</th>\n",
       "      <th>type_2_m15</th>\n",
       "      <th>type_1_m5</th>\n",
       "      <th>type_3_w</th>\n",
       "      <th>poi_15m_sc</th>\n",
       "      <th>outcome</th>\n",
       "      <th>poi_15m_mitigation</th>\n",
       "      <th>poi_1m_liquidity_grab</th>\n",
       "      <th>type_1_m30</th>\n",
       "      <th>type_1_h4</th>\n",
       "      <th>return</th>\n",
       "      <th>type_3_d</th>\n",
       "      <th>type_3_h4</th>\n",
       "      <th>tp_price</th>\n",
       "      <th>unit_test</th>\n",
       "      <th>type_1_d</th>\n",
       "      <th>numerical_confidence</th>\n",
       "      <th>type_2_m1</th>\n",
       "      <th>type_2_m5</th>\n",
       "      <th>rr</th>\n",
       "      <th>poi_1h_mitigation</th>\n",
       "      <th>poi_1m_mitigation</th>\n",
       "      <th>type_1_w</th>\n",
       "      <th>account</th>\n",
       "      <th>management_strategy</th>\n",
       "      <th>entry_time</th>\n",
       "      <th>sl_price</th>\n",
       "      <th>type_3_m5</th>\n",
       "      <th>taken</th>\n",
       "      <th>potential_return</th>\n",
       "      <th>TP_distance</th>\n",
       "      <th>type_3_h1</th>\n",
       "      <th>type_2_d</th>\n",
       "      <th>type_3_M</th>\n",
       "      <th>type_1_M</th>\n",
       "      <th>type_3_m15</th>\n",
       "      <th>type_2_h4</th>\n",
       "      <th>initial_return</th>\n",
       "      <th>type_1_h1</th>\n",
       "      <th>type_3_m1</th>\n",
       "      <th>poi_1h_liquidity_grab</th>\n",
       "      <th>potential_price</th>\n",
       "      <th>potential_risk_reward</th>\n",
       "      <th>session</th>\n",
       "      <th>poi_1h_sc</th>\n",
       "      <th>type_3_m30</th>\n",
       "      <th>poi_1m_sc</th>\n",
       "      <th>type_2_m30</th>\n",
       "      <th>type_2_w</th>\n",
       "      <th>type_2_M</th>\n",
       "      <th>type_1_m1</th>\n",
       "      <th>poi</th>\n",
       "      <th>poi_15m_liquidity_grab</th>\n",
       "      <th>SL_distance</th>\n",
       "      <th>side</th>\n",
       "      <th>type_2_h1</th>\n",
       "      <th>htf_poi_ltf_confirmation</th>\n",
       "      <th>close_price</th>\n",
       "      <th>type_1_m15</th>\n",
       "      <th>htf_poi_ltf_confirmation_False</th>\n",
       "      <th>htf_poi_ltf_confirmation_True</th>\n",
       "      <th>management_strategy_be_after_1r</th>\n",
       "      <th>management_strategy_be_after_push</th>\n",
       "      <th>management_strategy_no_management</th>\n",
       "      <th>outcome_be</th>\n",
       "      <th>outcome_loss</th>\n",
       "      <th>outcome_win</th>\n",
       "    </tr>\n",
       "  </thead>\n",
       "  <tbody>\n",
       "    <tr>\n",
       "      <th>0</th>\n",
       "      <td>1005</td>\n",
       "      <td>4.644407</td>\n",
       "      <td>1.1204</td>\n",
       "      <td>False</td>\n",
       "      <td>False</td>\n",
       "      <td>False</td>\n",
       "      <td>&lt;NA&gt;</td>\n",
       "      <td>loss</td>\n",
       "      <td>&lt;NA&gt;</td>\n",
       "      <td>&lt;NA&gt;</td>\n",
       "      <td>False</td>\n",
       "      <td>False</td>\n",
       "      <td>0.00525</td>\n",
       "      <td>False</td>\n",
       "      <td>False</td>\n",
       "      <td>1.097178</td>\n",
       "      <td>True</td>\n",
       "      <td>True</td>\n",
       "      <td>5.0</td>\n",
       "      <td>False</td>\n",
       "      <td>False</td>\n",
       "      <td>-1.050000</td>\n",
       "      <td>&lt;NA&gt;</td>\n",
       "      <td>&lt;NA&gt;</td>\n",
       "      <td>False</td>\n",
       "      <td>test_account</td>\n",
       "      <td>be_after_1r</td>\n",
       "      <td>2025-02-15 06:20:11.869262705</td>\n",
       "      <td>1.1254</td>\n",
       "      <td>False</td>\n",
       "      <td>&lt;NA&gt;</td>\n",
       "      <td>NaN</td>\n",
       "      <td>-0.023222</td>\n",
       "      <td>False</td>\n",
       "      <td>True</td>\n",
       "      <td>False</td>\n",
       "      <td>False</td>\n",
       "      <td>False</td>\n",
       "      <td>False</td>\n",
       "      <td>-0.023222</td>\n",
       "      <td>False</td>\n",
       "      <td>True</td>\n",
       "      <td>&lt;NA&gt;</td>\n",
       "      <td>NaN</td>\n",
       "      <td>NaN</td>\n",
       "      <td>tokyo</td>\n",
       "      <td>&lt;NA&gt;</td>\n",
       "      <td>False</td>\n",
       "      <td>&lt;NA&gt;</td>\n",
       "      <td>False</td>\n",
       "      <td>False</td>\n",
       "      <td>False</td>\n",
       "      <td>False</td>\n",
       "      <td>None</td>\n",
       "      <td>&lt;NA&gt;</td>\n",
       "      <td>-0.005</td>\n",
       "      <td>short</td>\n",
       "      <td>False</td>\n",
       "      <td>True</td>\n",
       "      <td>1.12565</td>\n",
       "      <td>False</td>\n",
       "      <td>False</td>\n",
       "      <td>True</td>\n",
       "      <td>True</td>\n",
       "      <td>False</td>\n",
       "      <td>False</td>\n",
       "      <td>False</td>\n",
       "      <td>True</td>\n",
       "      <td>False</td>\n",
       "    </tr>\n",
       "    <tr>\n",
       "      <th>1</th>\n",
       "      <td>1006</td>\n",
       "      <td>9.885333</td>\n",
       "      <td>1.1347</td>\n",
       "      <td>True</td>\n",
       "      <td>False</td>\n",
       "      <td>False</td>\n",
       "      <td>&lt;NA&gt;</td>\n",
       "      <td>win</td>\n",
       "      <td>&lt;NA&gt;</td>\n",
       "      <td>&lt;NA&gt;</td>\n",
       "      <td>False</td>\n",
       "      <td>False</td>\n",
       "      <td>-0.03525</td>\n",
       "      <td>False</td>\n",
       "      <td>False</td>\n",
       "      <td>1.085273</td>\n",
       "      <td>True</td>\n",
       "      <td>False</td>\n",
       "      <td>1.0</td>\n",
       "      <td>False</td>\n",
       "      <td>False</td>\n",
       "      <td>7.050000</td>\n",
       "      <td>&lt;NA&gt;</td>\n",
       "      <td>&lt;NA&gt;</td>\n",
       "      <td>False</td>\n",
       "      <td>test_account</td>\n",
       "      <td>be_after_push</td>\n",
       "      <td>2025-02-13 06:00:30.030270186</td>\n",
       "      <td>1.1397</td>\n",
       "      <td>True</td>\n",
       "      <td>&lt;NA&gt;</td>\n",
       "      <td>NaN</td>\n",
       "      <td>-0.049427</td>\n",
       "      <td>False</td>\n",
       "      <td>False</td>\n",
       "      <td>False</td>\n",
       "      <td>False</td>\n",
       "      <td>False</td>\n",
       "      <td>False</td>\n",
       "      <td>-0.049427</td>\n",
       "      <td>True</td>\n",
       "      <td>False</td>\n",
       "      <td>&lt;NA&gt;</td>\n",
       "      <td>NaN</td>\n",
       "      <td>NaN</td>\n",
       "      <td>tokyo</td>\n",
       "      <td>&lt;NA&gt;</td>\n",
       "      <td>False</td>\n",
       "      <td>&lt;NA&gt;</td>\n",
       "      <td>False</td>\n",
       "      <td>False</td>\n",
       "      <td>False</td>\n",
       "      <td>False</td>\n",
       "      <td>None</td>\n",
       "      <td>&lt;NA&gt;</td>\n",
       "      <td>-0.005</td>\n",
       "      <td>short</td>\n",
       "      <td>False</td>\n",
       "      <td>True</td>\n",
       "      <td>1.09945</td>\n",
       "      <td>False</td>\n",
       "      <td>False</td>\n",
       "      <td>True</td>\n",
       "      <td>False</td>\n",
       "      <td>True</td>\n",
       "      <td>False</td>\n",
       "      <td>False</td>\n",
       "      <td>False</td>\n",
       "      <td>True</td>\n",
       "    </tr>\n",
       "    <tr>\n",
       "      <th>2</th>\n",
       "      <td>1007</td>\n",
       "      <td>6.497983</td>\n",
       "      <td>1.1242</td>\n",
       "      <td>False</td>\n",
       "      <td>False</td>\n",
       "      <td>False</td>\n",
       "      <td>&lt;NA&gt;</td>\n",
       "      <td>be</td>\n",
       "      <td>&lt;NA&gt;</td>\n",
       "      <td>&lt;NA&gt;</td>\n",
       "      <td>False</td>\n",
       "      <td>False</td>\n",
       "      <td>0.00025</td>\n",
       "      <td>False</td>\n",
       "      <td>False</td>\n",
       "      <td>1.091710</td>\n",
       "      <td>True</td>\n",
       "      <td>False</td>\n",
       "      <td>1.0</td>\n",
       "      <td>False</td>\n",
       "      <td>False</td>\n",
       "      <td>-0.050000</td>\n",
       "      <td>&lt;NA&gt;</td>\n",
       "      <td>&lt;NA&gt;</td>\n",
       "      <td>True</td>\n",
       "      <td>test_account</td>\n",
       "      <td>no_management</td>\n",
       "      <td>2025-02-18 07:34:28.867189251</td>\n",
       "      <td>1.1292</td>\n",
       "      <td>True</td>\n",
       "      <td>&lt;NA&gt;</td>\n",
       "      <td>NaN</td>\n",
       "      <td>-0.032490</td>\n",
       "      <td>False</td>\n",
       "      <td>False</td>\n",
       "      <td>False</td>\n",
       "      <td>False</td>\n",
       "      <td>False</td>\n",
       "      <td>False</td>\n",
       "      <td>-0.032490</td>\n",
       "      <td>False</td>\n",
       "      <td>False</td>\n",
       "      <td>&lt;NA&gt;</td>\n",
       "      <td>NaN</td>\n",
       "      <td>NaN</td>\n",
       "      <td>london</td>\n",
       "      <td>&lt;NA&gt;</td>\n",
       "      <td>False</td>\n",
       "      <td>&lt;NA&gt;</td>\n",
       "      <td>False</td>\n",
       "      <td>False</td>\n",
       "      <td>True</td>\n",
       "      <td>False</td>\n",
       "      <td>None</td>\n",
       "      <td>&lt;NA&gt;</td>\n",
       "      <td>-0.005</td>\n",
       "      <td>short</td>\n",
       "      <td>False</td>\n",
       "      <td>False</td>\n",
       "      <td>1.12445</td>\n",
       "      <td>False</td>\n",
       "      <td>True</td>\n",
       "      <td>False</td>\n",
       "      <td>False</td>\n",
       "      <td>False</td>\n",
       "      <td>True</td>\n",
       "      <td>True</td>\n",
       "      <td>False</td>\n",
       "      <td>False</td>\n",
       "    </tr>\n",
       "    <tr>\n",
       "      <th>3</th>\n",
       "      <td>1008</td>\n",
       "      <td>3.195198</td>\n",
       "      <td>1.1345</td>\n",
       "      <td>False</td>\n",
       "      <td>True</td>\n",
       "      <td>False</td>\n",
       "      <td>&lt;NA&gt;</td>\n",
       "      <td>win</td>\n",
       "      <td>&lt;NA&gt;</td>\n",
       "      <td>&lt;NA&gt;</td>\n",
       "      <td>False</td>\n",
       "      <td>False</td>\n",
       "      <td>-0.04350</td>\n",
       "      <td>False</td>\n",
       "      <td>False</td>\n",
       "      <td>1.118524</td>\n",
       "      <td>True</td>\n",
       "      <td>False</td>\n",
       "      <td>2.0</td>\n",
       "      <td>False</td>\n",
       "      <td>False</td>\n",
       "      <td>8.700000</td>\n",
       "      <td>&lt;NA&gt;</td>\n",
       "      <td>&lt;NA&gt;</td>\n",
       "      <td>False</td>\n",
       "      <td>test_account</td>\n",
       "      <td>be_after_1r</td>\n",
       "      <td>2025-03-05 07:07:42.801306061</td>\n",
       "      <td>1.1395</td>\n",
       "      <td>False</td>\n",
       "      <td>&lt;NA&gt;</td>\n",
       "      <td>NaN</td>\n",
       "      <td>-0.015976</td>\n",
       "      <td>False</td>\n",
       "      <td>True</td>\n",
       "      <td>False</td>\n",
       "      <td>False</td>\n",
       "      <td>False</td>\n",
       "      <td>False</td>\n",
       "      <td>-0.015976</td>\n",
       "      <td>False</td>\n",
       "      <td>True</td>\n",
       "      <td>&lt;NA&gt;</td>\n",
       "      <td>NaN</td>\n",
       "      <td>NaN</td>\n",
       "      <td>london</td>\n",
       "      <td>&lt;NA&gt;</td>\n",
       "      <td>False</td>\n",
       "      <td>&lt;NA&gt;</td>\n",
       "      <td>False</td>\n",
       "      <td>False</td>\n",
       "      <td>False</td>\n",
       "      <td>False</td>\n",
       "      <td>None</td>\n",
       "      <td>&lt;NA&gt;</td>\n",
       "      <td>-0.005</td>\n",
       "      <td>short</td>\n",
       "      <td>False</td>\n",
       "      <td>True</td>\n",
       "      <td>1.09100</td>\n",
       "      <td>False</td>\n",
       "      <td>False</td>\n",
       "      <td>True</td>\n",
       "      <td>True</td>\n",
       "      <td>False</td>\n",
       "      <td>False</td>\n",
       "      <td>False</td>\n",
       "      <td>False</td>\n",
       "      <td>True</td>\n",
       "    </tr>\n",
       "    <tr>\n",
       "      <th>4</th>\n",
       "      <td>1009</td>\n",
       "      <td>8.875786</td>\n",
       "      <td>1.1132</td>\n",
       "      <td>False</td>\n",
       "      <td>False</td>\n",
       "      <td>False</td>\n",
       "      <td>&lt;NA&gt;</td>\n",
       "      <td>loss</td>\n",
       "      <td>&lt;NA&gt;</td>\n",
       "      <td>&lt;NA&gt;</td>\n",
       "      <td>False</td>\n",
       "      <td>False</td>\n",
       "      <td>0.00385</td>\n",
       "      <td>False</td>\n",
       "      <td>False</td>\n",
       "      <td>1.068821</td>\n",
       "      <td>True</td>\n",
       "      <td>False</td>\n",
       "      <td>1.0</td>\n",
       "      <td>False</td>\n",
       "      <td>False</td>\n",
       "      <td>-0.770000</td>\n",
       "      <td>&lt;NA&gt;</td>\n",
       "      <td>&lt;NA&gt;</td>\n",
       "      <td>False</td>\n",
       "      <td>test_account</td>\n",
       "      <td>be_after_push</td>\n",
       "      <td>2025-02-21 07:12:31.963838975</td>\n",
       "      <td>1.1182</td>\n",
       "      <td>True</td>\n",
       "      <td>&lt;NA&gt;</td>\n",
       "      <td>NaN</td>\n",
       "      <td>-0.044379</td>\n",
       "      <td>False</td>\n",
       "      <td>False</td>\n",
       "      <td>False</td>\n",
       "      <td>True</td>\n",
       "      <td>False</td>\n",
       "      <td>False</td>\n",
       "      <td>-0.044379</td>\n",
       "      <td>False</td>\n",
       "      <td>False</td>\n",
       "      <td>&lt;NA&gt;</td>\n",
       "      <td>NaN</td>\n",
       "      <td>NaN</td>\n",
       "      <td>london</td>\n",
       "      <td>&lt;NA&gt;</td>\n",
       "      <td>False</td>\n",
       "      <td>&lt;NA&gt;</td>\n",
       "      <td>False</td>\n",
       "      <td>True</td>\n",
       "      <td>False</td>\n",
       "      <td>False</td>\n",
       "      <td>None</td>\n",
       "      <td>&lt;NA&gt;</td>\n",
       "      <td>-0.005</td>\n",
       "      <td>short</td>\n",
       "      <td>False</td>\n",
       "      <td>False</td>\n",
       "      <td>1.11705</td>\n",
       "      <td>False</td>\n",
       "      <td>True</td>\n",
       "      <td>False</td>\n",
       "      <td>False</td>\n",
       "      <td>True</td>\n",
       "      <td>False</td>\n",
       "      <td>False</td>\n",
       "      <td>True</td>\n",
       "      <td>False</td>\n",
       "    </tr>\n",
       "    <tr>\n",
       "      <th>5</th>\n",
       "      <td>1010</td>\n",
       "      <td>1.824689</td>\n",
       "      <td>1.1335</td>\n",
       "      <td>False</td>\n",
       "      <td>False</td>\n",
       "      <td>False</td>\n",
       "      <td>&lt;NA&gt;</td>\n",
       "      <td>loss</td>\n",
       "      <td>&lt;NA&gt;</td>\n",
       "      <td>&lt;NA&gt;</td>\n",
       "      <td>False</td>\n",
       "      <td>False</td>\n",
       "      <td>0.00510</td>\n",
       "      <td>False</td>\n",
       "      <td>False</td>\n",
       "      <td>1.124377</td>\n",
       "      <td>True</td>\n",
       "      <td>False</td>\n",
       "      <td>2.0</td>\n",
       "      <td>False</td>\n",
       "      <td>False</td>\n",
       "      <td>-1.020000</td>\n",
       "      <td>&lt;NA&gt;</td>\n",
       "      <td>&lt;NA&gt;</td>\n",
       "      <td>False</td>\n",
       "      <td>test_account</td>\n",
       "      <td>be_after_1r</td>\n",
       "      <td>2025-02-13 06:38:36.944399655</td>\n",
       "      <td>1.1385</td>\n",
       "      <td>False</td>\n",
       "      <td>&lt;NA&gt;</td>\n",
       "      <td>NaN</td>\n",
       "      <td>-0.009123</td>\n",
       "      <td>False</td>\n",
       "      <td>False</td>\n",
       "      <td>True</td>\n",
       "      <td>True</td>\n",
       "      <td>False</td>\n",
       "      <td>False</td>\n",
       "      <td>-0.009123</td>\n",
       "      <td>False</td>\n",
       "      <td>False</td>\n",
       "      <td>&lt;NA&gt;</td>\n",
       "      <td>NaN</td>\n",
       "      <td>NaN</td>\n",
       "      <td>tokyo</td>\n",
       "      <td>&lt;NA&gt;</td>\n",
       "      <td>False</td>\n",
       "      <td>&lt;NA&gt;</td>\n",
       "      <td>True</td>\n",
       "      <td>False</td>\n",
       "      <td>False</td>\n",
       "      <td>False</td>\n",
       "      <td>None</td>\n",
       "      <td>&lt;NA&gt;</td>\n",
       "      <td>-0.005</td>\n",
       "      <td>short</td>\n",
       "      <td>False</td>\n",
       "      <td>True</td>\n",
       "      <td>1.13860</td>\n",
       "      <td>False</td>\n",
       "      <td>False</td>\n",
       "      <td>True</td>\n",
       "      <td>True</td>\n",
       "      <td>False</td>\n",
       "      <td>False</td>\n",
       "      <td>False</td>\n",
       "      <td>True</td>\n",
       "      <td>False</td>\n",
       "    </tr>\n",
       "    <tr>\n",
       "      <th>6</th>\n",
       "      <td>1011</td>\n",
       "      <td>8.890933</td>\n",
       "      <td>1.1128</td>\n",
       "      <td>False</td>\n",
       "      <td>False</td>\n",
       "      <td>True</td>\n",
       "      <td>&lt;NA&gt;</td>\n",
       "      <td>loss</td>\n",
       "      <td>&lt;NA&gt;</td>\n",
       "      <td>&lt;NA&gt;</td>\n",
       "      <td>False</td>\n",
       "      <td>False</td>\n",
       "      <td>-0.00120</td>\n",
       "      <td>False</td>\n",
       "      <td>False</td>\n",
       "      <td>1.157255</td>\n",
       "      <td>True</td>\n",
       "      <td>False</td>\n",
       "      <td>5.0</td>\n",
       "      <td>False</td>\n",
       "      <td>False</td>\n",
       "      <td>-0.240000</td>\n",
       "      <td>&lt;NA&gt;</td>\n",
       "      <td>&lt;NA&gt;</td>\n",
       "      <td>False</td>\n",
       "      <td>test_account</td>\n",
       "      <td>be_after_1r</td>\n",
       "      <td>2025-03-02 06:34:15.293149438</td>\n",
       "      <td>1.1078</td>\n",
       "      <td>False</td>\n",
       "      <td>&lt;NA&gt;</td>\n",
       "      <td>NaN</td>\n",
       "      <td>0.044455</td>\n",
       "      <td>False</td>\n",
       "      <td>False</td>\n",
       "      <td>False</td>\n",
       "      <td>False</td>\n",
       "      <td>False</td>\n",
       "      <td>False</td>\n",
       "      <td>0.044455</td>\n",
       "      <td>False</td>\n",
       "      <td>False</td>\n",
       "      <td>&lt;NA&gt;</td>\n",
       "      <td>NaN</td>\n",
       "      <td>NaN</td>\n",
       "      <td>tokyo</td>\n",
       "      <td>&lt;NA&gt;</td>\n",
       "      <td>False</td>\n",
       "      <td>&lt;NA&gt;</td>\n",
       "      <td>False</td>\n",
       "      <td>False</td>\n",
       "      <td>False</td>\n",
       "      <td>True</td>\n",
       "      <td>None</td>\n",
       "      <td>&lt;NA&gt;</td>\n",
       "      <td>0.005</td>\n",
       "      <td>long</td>\n",
       "      <td>True</td>\n",
       "      <td>False</td>\n",
       "      <td>1.11160</td>\n",
       "      <td>False</td>\n",
       "      <td>True</td>\n",
       "      <td>False</td>\n",
       "      <td>True</td>\n",
       "      <td>False</td>\n",
       "      <td>False</td>\n",
       "      <td>False</td>\n",
       "      <td>True</td>\n",
       "      <td>False</td>\n",
       "    </tr>\n",
       "    <tr>\n",
       "      <th>7</th>\n",
       "      <td>1012</td>\n",
       "      <td>1.741357</td>\n",
       "      <td>1.1280</td>\n",
       "      <td>False</td>\n",
       "      <td>False</td>\n",
       "      <td>False</td>\n",
       "      <td>&lt;NA&gt;</td>\n",
       "      <td>win</td>\n",
       "      <td>&lt;NA&gt;</td>\n",
       "      <td>&lt;NA&gt;</td>\n",
       "      <td>True</td>\n",
       "      <td>False</td>\n",
       "      <td>-0.02430</td>\n",
       "      <td>False</td>\n",
       "      <td>False</td>\n",
       "      <td>1.119293</td>\n",
       "      <td>True</td>\n",
       "      <td>False</td>\n",
       "      <td>2.0</td>\n",
       "      <td>False</td>\n",
       "      <td>False</td>\n",
       "      <td>4.860000</td>\n",
       "      <td>&lt;NA&gt;</td>\n",
       "      <td>&lt;NA&gt;</td>\n",
       "      <td>False</td>\n",
       "      <td>test_account</td>\n",
       "      <td>no_management</td>\n",
       "      <td>2025-03-03 06:07:59.938551714</td>\n",
       "      <td>1.1330</td>\n",
       "      <td>False</td>\n",
       "      <td>&lt;NA&gt;</td>\n",
       "      <td>NaN</td>\n",
       "      <td>-0.008707</td>\n",
       "      <td>True</td>\n",
       "      <td>True</td>\n",
       "      <td>False</td>\n",
       "      <td>False</td>\n",
       "      <td>False</td>\n",
       "      <td>False</td>\n",
       "      <td>-0.008707</td>\n",
       "      <td>False</td>\n",
       "      <td>False</td>\n",
       "      <td>&lt;NA&gt;</td>\n",
       "      <td>NaN</td>\n",
       "      <td>NaN</td>\n",
       "      <td>tokyo</td>\n",
       "      <td>&lt;NA&gt;</td>\n",
       "      <td>False</td>\n",
       "      <td>&lt;NA&gt;</td>\n",
       "      <td>False</td>\n",
       "      <td>False</td>\n",
       "      <td>False</td>\n",
       "      <td>False</td>\n",
       "      <td>None</td>\n",
       "      <td>&lt;NA&gt;</td>\n",
       "      <td>-0.005</td>\n",
       "      <td>short</td>\n",
       "      <td>False</td>\n",
       "      <td>True</td>\n",
       "      <td>1.10370</td>\n",
       "      <td>False</td>\n",
       "      <td>False</td>\n",
       "      <td>True</td>\n",
       "      <td>False</td>\n",
       "      <td>False</td>\n",
       "      <td>True</td>\n",
       "      <td>False</td>\n",
       "      <td>False</td>\n",
       "      <td>True</td>\n",
       "    </tr>\n",
       "    <tr>\n",
       "      <th>8</th>\n",
       "      <td>1013</td>\n",
       "      <td>3.992825</td>\n",
       "      <td>1.1249</td>\n",
       "      <td>False</td>\n",
       "      <td>False</td>\n",
       "      <td>False</td>\n",
       "      <td>&lt;NA&gt;</td>\n",
       "      <td>loss</td>\n",
       "      <td>&lt;NA&gt;</td>\n",
       "      <td>&lt;NA&gt;</td>\n",
       "      <td>False</td>\n",
       "      <td>False</td>\n",
       "      <td>-0.00675</td>\n",
       "      <td>False</td>\n",
       "      <td>False</td>\n",
       "      <td>1.144864</td>\n",
       "      <td>True</td>\n",
       "      <td>False</td>\n",
       "      <td>1.0</td>\n",
       "      <td>False</td>\n",
       "      <td>True</td>\n",
       "      <td>-1.350000</td>\n",
       "      <td>&lt;NA&gt;</td>\n",
       "      <td>&lt;NA&gt;</td>\n",
       "      <td>False</td>\n",
       "      <td>test_account</td>\n",
       "      <td>no_management</td>\n",
       "      <td>2025-03-03 06:47:02.469978317</td>\n",
       "      <td>1.1199</td>\n",
       "      <td>False</td>\n",
       "      <td>&lt;NA&gt;</td>\n",
       "      <td>NaN</td>\n",
       "      <td>0.019964</td>\n",
       "      <td>False</td>\n",
       "      <td>False</td>\n",
       "      <td>False</td>\n",
       "      <td>False</td>\n",
       "      <td>False</td>\n",
       "      <td>False</td>\n",
       "      <td>0.019964</td>\n",
       "      <td>True</td>\n",
       "      <td>False</td>\n",
       "      <td>&lt;NA&gt;</td>\n",
       "      <td>NaN</td>\n",
       "      <td>NaN</td>\n",
       "      <td>tokyo</td>\n",
       "      <td>&lt;NA&gt;</td>\n",
       "      <td>True</td>\n",
       "      <td>&lt;NA&gt;</td>\n",
       "      <td>False</td>\n",
       "      <td>False</td>\n",
       "      <td>False</td>\n",
       "      <td>False</td>\n",
       "      <td>None</td>\n",
       "      <td>&lt;NA&gt;</td>\n",
       "      <td>0.005</td>\n",
       "      <td>long</td>\n",
       "      <td>False</td>\n",
       "      <td>True</td>\n",
       "      <td>1.11815</td>\n",
       "      <td>False</td>\n",
       "      <td>False</td>\n",
       "      <td>True</td>\n",
       "      <td>False</td>\n",
       "      <td>False</td>\n",
       "      <td>True</td>\n",
       "      <td>False</td>\n",
       "      <td>True</td>\n",
       "      <td>False</td>\n",
       "    </tr>\n",
       "    <tr>\n",
       "      <th>9</th>\n",
       "      <td>1014</td>\n",
       "      <td>4.520885</td>\n",
       "      <td>1.1343</td>\n",
       "      <td>False</td>\n",
       "      <td>False</td>\n",
       "      <td>False</td>\n",
       "      <td>&lt;NA&gt;</td>\n",
       "      <td>win</td>\n",
       "      <td>&lt;NA&gt;</td>\n",
       "      <td>&lt;NA&gt;</td>\n",
       "      <td>False</td>\n",
       "      <td>False</td>\n",
       "      <td>0.04905</td>\n",
       "      <td>False</td>\n",
       "      <td>False</td>\n",
       "      <td>1.156904</td>\n",
       "      <td>True</td>\n",
       "      <td>False</td>\n",
       "      <td>2.0</td>\n",
       "      <td>False</td>\n",
       "      <td>True</td>\n",
       "      <td>9.810000</td>\n",
       "      <td>&lt;NA&gt;</td>\n",
       "      <td>&lt;NA&gt;</td>\n",
       "      <td>False</td>\n",
       "      <td>test_account</td>\n",
       "      <td>be_after_1r</td>\n",
       "      <td>2025-02-23 05:29:11.449141101</td>\n",
       "      <td>1.1293</td>\n",
       "      <td>False</td>\n",
       "      <td>&lt;NA&gt;</td>\n",
       "      <td>NaN</td>\n",
       "      <td>0.022604</td>\n",
       "      <td>False</td>\n",
       "      <td>False</td>\n",
       "      <td>False</td>\n",
       "      <td>False</td>\n",
       "      <td>False</td>\n",
       "      <td>False</td>\n",
       "      <td>0.022604</td>\n",
       "      <td>False</td>\n",
       "      <td>False</td>\n",
       "      <td>&lt;NA&gt;</td>\n",
       "      <td>NaN</td>\n",
       "      <td>NaN</td>\n",
       "      <td>tokyo</td>\n",
       "      <td>&lt;NA&gt;</td>\n",
       "      <td>True</td>\n",
       "      <td>&lt;NA&gt;</td>\n",
       "      <td>False</td>\n",
       "      <td>False</td>\n",
       "      <td>False</td>\n",
       "      <td>True</td>\n",
       "      <td>None</td>\n",
       "      <td>&lt;NA&gt;</td>\n",
       "      <td>0.005</td>\n",
       "      <td>long</td>\n",
       "      <td>False</td>\n",
       "      <td>True</td>\n",
       "      <td>1.18335</td>\n",
       "      <td>False</td>\n",
       "      <td>False</td>\n",
       "      <td>True</td>\n",
       "      <td>True</td>\n",
       "      <td>False</td>\n",
       "      <td>False</td>\n",
       "      <td>False</td>\n",
       "      <td>False</td>\n",
       "      <td>True</td>\n",
       "    </tr>\n",
       "    <tr>\n",
       "      <th>10</th>\n",
       "      <td>2</td>\n",
       "      <td>27.822006</td>\n",
       "      <td>2914.0300</td>\n",
       "      <td>False</td>\n",
       "      <td>False</td>\n",
       "      <td>False</td>\n",
       "      <td>&lt;NA&gt;</td>\n",
       "      <td>NaN</td>\n",
       "      <td>&lt;NA&gt;</td>\n",
       "      <td>&lt;NA&gt;</td>\n",
       "      <td>False</td>\n",
       "      <td>False</td>\n",
       "      <td>NaN</td>\n",
       "      <td>False</td>\n",
       "      <td>False</td>\n",
       "      <td>3000.000000</td>\n",
       "      <td>&lt;NA&gt;</td>\n",
       "      <td>False</td>\n",
       "      <td>NaN</td>\n",
       "      <td>False</td>\n",
       "      <td>False</td>\n",
       "      <td>NaN</td>\n",
       "      <td>&lt;NA&gt;</td>\n",
       "      <td>&lt;NA&gt;</td>\n",
       "      <td>False</td>\n",
       "      <td>mt5_vantage</td>\n",
       "      <td>no_management</td>\n",
       "      <td>2025-02-18 14:10:00.000000000</td>\n",
       "      <td>2910.9400</td>\n",
       "      <td>False</td>\n",
       "      <td>True</td>\n",
       "      <td>NaN</td>\n",
       "      <td>85.970000</td>\n",
       "      <td>False</td>\n",
       "      <td>False</td>\n",
       "      <td>False</td>\n",
       "      <td>False</td>\n",
       "      <td>False</td>\n",
       "      <td>False</td>\n",
       "      <td>85.970000</td>\n",
       "      <td>False</td>\n",
       "      <td>False</td>\n",
       "      <td>&lt;NA&gt;</td>\n",
       "      <td>NaN</td>\n",
       "      <td>NaN</td>\n",
       "      <td>new_york</td>\n",
       "      <td>&lt;NA&gt;</td>\n",
       "      <td>False</td>\n",
       "      <td>&lt;NA&gt;</td>\n",
       "      <td>False</td>\n",
       "      <td>False</td>\n",
       "      <td>False</td>\n",
       "      <td>False</td>\n",
       "      <td>None</td>\n",
       "      <td>&lt;NA&gt;</td>\n",
       "      <td>3.090</td>\n",
       "      <td>long</td>\n",
       "      <td>False</td>\n",
       "      <td>&lt;NA&gt;</td>\n",
       "      <td>NaN</td>\n",
       "      <td>False</td>\n",
       "      <td>False</td>\n",
       "      <td>False</td>\n",
       "      <td>False</td>\n",
       "      <td>False</td>\n",
       "      <td>True</td>\n",
       "      <td>False</td>\n",
       "      <td>False</td>\n",
       "      <td>False</td>\n",
       "    </tr>\n",
       "    <tr>\n",
       "      <th>11</th>\n",
       "      <td>4</td>\n",
       "      <td>4.025187</td>\n",
       "      <td>22164.4000</td>\n",
       "      <td>False</td>\n",
       "      <td>True</td>\n",
       "      <td>False</td>\n",
       "      <td>False</td>\n",
       "      <td>NaN</td>\n",
       "      <td>False</td>\n",
       "      <td>False</td>\n",
       "      <td>False</td>\n",
       "      <td>False</td>\n",
       "      <td>-59.13000</td>\n",
       "      <td>False</td>\n",
       "      <td>False</td>\n",
       "      <td>22105.270000</td>\n",
       "      <td>&lt;NA&gt;</td>\n",
       "      <td>False</td>\n",
       "      <td>5.0</td>\n",
       "      <td>False</td>\n",
       "      <td>False</td>\n",
       "      <td>4.025187</td>\n",
       "      <td>False</td>\n",
       "      <td>False</td>\n",
       "      <td>False</td>\n",
       "      <td>ideal</td>\n",
       "      <td>be_after_push</td>\n",
       "      <td>2025-02-22 15:11:00.000000000</td>\n",
       "      <td>22179.0900</td>\n",
       "      <td>False</td>\n",
       "      <td>&lt;NA&gt;</td>\n",
       "      <td>-564.4</td>\n",
       "      <td>-59.130000</td>\n",
       "      <td>False</td>\n",
       "      <td>False</td>\n",
       "      <td>False</td>\n",
       "      <td>False</td>\n",
       "      <td>False</td>\n",
       "      <td>False</td>\n",
       "      <td>-59.130000</td>\n",
       "      <td>False</td>\n",
       "      <td>True</td>\n",
       "      <td>True</td>\n",
       "      <td>21600.0</td>\n",
       "      <td>38.420694</td>\n",
       "      <td>new_york</td>\n",
       "      <td>True</td>\n",
       "      <td>False</td>\n",
       "      <td>True</td>\n",
       "      <td>False</td>\n",
       "      <td>False</td>\n",
       "      <td>False</td>\n",
       "      <td>False</td>\n",
       "      <td>(poi_1h_liquidity_grab, poi_1h_sc, poi_1m_sc)</td>\n",
       "      <td>False</td>\n",
       "      <td>-14.690</td>\n",
       "      <td>short</td>\n",
       "      <td>False</td>\n",
       "      <td>True</td>\n",
       "      <td>22105.27000</td>\n",
       "      <td>True</td>\n",
       "      <td>False</td>\n",
       "      <td>True</td>\n",
       "      <td>False</td>\n",
       "      <td>True</td>\n",
       "      <td>False</td>\n",
       "      <td>False</td>\n",
       "      <td>False</td>\n",
       "      <td>False</td>\n",
       "    </tr>\n",
       "  </tbody>\n",
       "</table>\n",
       "</div>"
      ],
      "text/plain": [
       "   trade_uid  initial_risk_reward  entry_price  type_2_m15  type_1_m5  \\\n",
       "0       1005             4.644407       1.1204       False      False   \n",
       "1       1006             9.885333       1.1347        True      False   \n",
       "2       1007             6.497983       1.1242       False      False   \n",
       "3       1008             3.195198       1.1345       False       True   \n",
       "4       1009             8.875786       1.1132       False      False   \n",
       "5       1010             1.824689       1.1335       False      False   \n",
       "6       1011             8.890933       1.1128       False      False   \n",
       "7       1012             1.741357       1.1280       False      False   \n",
       "8       1013             3.992825       1.1249       False      False   \n",
       "9       1014             4.520885       1.1343       False      False   \n",
       "10         2            27.822006    2914.0300       False      False   \n",
       "11         4             4.025187   22164.4000       False       True   \n",
       "\n",
       "    type_3_w  poi_15m_sc outcome  poi_15m_mitigation  poi_1m_liquidity_grab  \\\n",
       "0      False        <NA>    loss                <NA>                   <NA>   \n",
       "1      False        <NA>     win                <NA>                   <NA>   \n",
       "2      False        <NA>      be                <NA>                   <NA>   \n",
       "3      False        <NA>     win                <NA>                   <NA>   \n",
       "4      False        <NA>    loss                <NA>                   <NA>   \n",
       "5      False        <NA>    loss                <NA>                   <NA>   \n",
       "6       True        <NA>    loss                <NA>                   <NA>   \n",
       "7      False        <NA>     win                <NA>                   <NA>   \n",
       "8      False        <NA>    loss                <NA>                   <NA>   \n",
       "9      False        <NA>     win                <NA>                   <NA>   \n",
       "10     False        <NA>     NaN                <NA>                   <NA>   \n",
       "11     False       False     NaN               False                  False   \n",
       "\n",
       "    type_1_m30  type_1_h4    return  type_3_d  type_3_h4      tp_price  \\\n",
       "0        False      False   0.00525     False      False      1.097178   \n",
       "1        False      False  -0.03525     False      False      1.085273   \n",
       "2        False      False   0.00025     False      False      1.091710   \n",
       "3        False      False  -0.04350     False      False      1.118524   \n",
       "4        False      False   0.00385     False      False      1.068821   \n",
       "5        False      False   0.00510     False      False      1.124377   \n",
       "6        False      False  -0.00120     False      False      1.157255   \n",
       "7         True      False  -0.02430     False      False      1.119293   \n",
       "8        False      False  -0.00675     False      False      1.144864   \n",
       "9        False      False   0.04905     False      False      1.156904   \n",
       "10       False      False       NaN     False      False   3000.000000   \n",
       "11       False      False -59.13000     False      False  22105.270000   \n",
       "\n",
       "    unit_test  type_1_d  numerical_confidence  type_2_m1  type_2_m5        rr  \\\n",
       "0        True      True                   5.0      False      False -1.050000   \n",
       "1        True     False                   1.0      False      False  7.050000   \n",
       "2        True     False                   1.0      False      False -0.050000   \n",
       "3        True     False                   2.0      False      False  8.700000   \n",
       "4        True     False                   1.0      False      False -0.770000   \n",
       "5        True     False                   2.0      False      False -1.020000   \n",
       "6        True     False                   5.0      False      False -0.240000   \n",
       "7        True     False                   2.0      False      False  4.860000   \n",
       "8        True     False                   1.0      False       True -1.350000   \n",
       "9        True     False                   2.0      False       True  9.810000   \n",
       "10       <NA>     False                   NaN      False      False       NaN   \n",
       "11       <NA>     False                   5.0      False      False  4.025187   \n",
       "\n",
       "    poi_1h_mitigation  poi_1m_mitigation  type_1_w       account  \\\n",
       "0                <NA>               <NA>     False  test_account   \n",
       "1                <NA>               <NA>     False  test_account   \n",
       "2                <NA>               <NA>      True  test_account   \n",
       "3                <NA>               <NA>     False  test_account   \n",
       "4                <NA>               <NA>     False  test_account   \n",
       "5                <NA>               <NA>     False  test_account   \n",
       "6                <NA>               <NA>     False  test_account   \n",
       "7                <NA>               <NA>     False  test_account   \n",
       "8                <NA>               <NA>     False  test_account   \n",
       "9                <NA>               <NA>     False  test_account   \n",
       "10               <NA>               <NA>     False   mt5_vantage   \n",
       "11              False              False     False         ideal   \n",
       "\n",
       "   management_strategy                    entry_time    sl_price  type_3_m5  \\\n",
       "0          be_after_1r 2025-02-15 06:20:11.869262705      1.1254      False   \n",
       "1        be_after_push 2025-02-13 06:00:30.030270186      1.1397       True   \n",
       "2        no_management 2025-02-18 07:34:28.867189251      1.1292       True   \n",
       "3          be_after_1r 2025-03-05 07:07:42.801306061      1.1395      False   \n",
       "4        be_after_push 2025-02-21 07:12:31.963838975      1.1182       True   \n",
       "5          be_after_1r 2025-02-13 06:38:36.944399655      1.1385      False   \n",
       "6          be_after_1r 2025-03-02 06:34:15.293149438      1.1078      False   \n",
       "7        no_management 2025-03-03 06:07:59.938551714      1.1330      False   \n",
       "8        no_management 2025-03-03 06:47:02.469978317      1.1199      False   \n",
       "9          be_after_1r 2025-02-23 05:29:11.449141101      1.1293      False   \n",
       "10       no_management 2025-02-18 14:10:00.000000000   2910.9400      False   \n",
       "11       be_after_push 2025-02-22 15:11:00.000000000  22179.0900      False   \n",
       "\n",
       "    taken  potential_return  TP_distance  type_3_h1  type_2_d  type_3_M  \\\n",
       "0    <NA>               NaN    -0.023222      False      True     False   \n",
       "1    <NA>               NaN    -0.049427      False     False     False   \n",
       "2    <NA>               NaN    -0.032490      False     False     False   \n",
       "3    <NA>               NaN    -0.015976      False      True     False   \n",
       "4    <NA>               NaN    -0.044379      False     False     False   \n",
       "5    <NA>               NaN    -0.009123      False     False      True   \n",
       "6    <NA>               NaN     0.044455      False     False     False   \n",
       "7    <NA>               NaN    -0.008707       True      True     False   \n",
       "8    <NA>               NaN     0.019964      False     False     False   \n",
       "9    <NA>               NaN     0.022604      False     False     False   \n",
       "10   True               NaN    85.970000      False     False     False   \n",
       "11   <NA>            -564.4   -59.130000      False     False     False   \n",
       "\n",
       "    type_1_M  type_3_m15  type_2_h4  initial_return  type_1_h1  type_3_m1  \\\n",
       "0      False       False      False       -0.023222      False       True   \n",
       "1      False       False      False       -0.049427       True      False   \n",
       "2      False       False      False       -0.032490      False      False   \n",
       "3      False       False      False       -0.015976      False       True   \n",
       "4       True       False      False       -0.044379      False      False   \n",
       "5       True       False      False       -0.009123      False      False   \n",
       "6      False       False      False        0.044455      False      False   \n",
       "7      False       False      False       -0.008707      False      False   \n",
       "8      False       False      False        0.019964       True      False   \n",
       "9      False       False      False        0.022604      False      False   \n",
       "10     False       False      False       85.970000      False      False   \n",
       "11     False       False      False      -59.130000      False       True   \n",
       "\n",
       "    poi_1h_liquidity_grab  potential_price  potential_risk_reward   session  \\\n",
       "0                    <NA>              NaN                    NaN     tokyo   \n",
       "1                    <NA>              NaN                    NaN     tokyo   \n",
       "2                    <NA>              NaN                    NaN    london   \n",
       "3                    <NA>              NaN                    NaN    london   \n",
       "4                    <NA>              NaN                    NaN    london   \n",
       "5                    <NA>              NaN                    NaN     tokyo   \n",
       "6                    <NA>              NaN                    NaN     tokyo   \n",
       "7                    <NA>              NaN                    NaN     tokyo   \n",
       "8                    <NA>              NaN                    NaN     tokyo   \n",
       "9                    <NA>              NaN                    NaN     tokyo   \n",
       "10                   <NA>              NaN                    NaN  new_york   \n",
       "11                   True          21600.0              38.420694  new_york   \n",
       "\n",
       "    poi_1h_sc  type_3_m30  poi_1m_sc  type_2_m30  type_2_w  type_2_M  \\\n",
       "0        <NA>       False       <NA>       False     False     False   \n",
       "1        <NA>       False       <NA>       False     False     False   \n",
       "2        <NA>       False       <NA>       False     False      True   \n",
       "3        <NA>       False       <NA>       False     False     False   \n",
       "4        <NA>       False       <NA>       False      True     False   \n",
       "5        <NA>       False       <NA>        True     False     False   \n",
       "6        <NA>       False       <NA>       False     False     False   \n",
       "7        <NA>       False       <NA>       False     False     False   \n",
       "8        <NA>        True       <NA>       False     False     False   \n",
       "9        <NA>        True       <NA>       False     False     False   \n",
       "10       <NA>       False       <NA>       False     False     False   \n",
       "11       True       False       True       False     False     False   \n",
       "\n",
       "    type_1_m1                                            poi  \\\n",
       "0       False                                           None   \n",
       "1       False                                           None   \n",
       "2       False                                           None   \n",
       "3       False                                           None   \n",
       "4       False                                           None   \n",
       "5       False                                           None   \n",
       "6        True                                           None   \n",
       "7       False                                           None   \n",
       "8       False                                           None   \n",
       "9        True                                           None   \n",
       "10      False                                           None   \n",
       "11      False  (poi_1h_liquidity_grab, poi_1h_sc, poi_1m_sc)   \n",
       "\n",
       "    poi_15m_liquidity_grab  SL_distance   side  type_2_h1  \\\n",
       "0                     <NA>       -0.005  short      False   \n",
       "1                     <NA>       -0.005  short      False   \n",
       "2                     <NA>       -0.005  short      False   \n",
       "3                     <NA>       -0.005  short      False   \n",
       "4                     <NA>       -0.005  short      False   \n",
       "5                     <NA>       -0.005  short      False   \n",
       "6                     <NA>        0.005   long       True   \n",
       "7                     <NA>       -0.005  short      False   \n",
       "8                     <NA>        0.005   long      False   \n",
       "9                     <NA>        0.005   long      False   \n",
       "10                    <NA>        3.090   long      False   \n",
       "11                   False      -14.690  short      False   \n",
       "\n",
       "   htf_poi_ltf_confirmation  close_price  type_1_m15  \\\n",
       "0                      True      1.12565       False   \n",
       "1                      True      1.09945       False   \n",
       "2                     False      1.12445       False   \n",
       "3                      True      1.09100       False   \n",
       "4                     False      1.11705       False   \n",
       "5                      True      1.13860       False   \n",
       "6                     False      1.11160       False   \n",
       "7                      True      1.10370       False   \n",
       "8                      True      1.11815       False   \n",
       "9                      True      1.18335       False   \n",
       "10                     <NA>          NaN       False   \n",
       "11                     True  22105.27000        True   \n",
       "\n",
       "    htf_poi_ltf_confirmation_False  htf_poi_ltf_confirmation_True  \\\n",
       "0                            False                           True   \n",
       "1                            False                           True   \n",
       "2                             True                          False   \n",
       "3                            False                           True   \n",
       "4                             True                          False   \n",
       "5                            False                           True   \n",
       "6                             True                          False   \n",
       "7                            False                           True   \n",
       "8                            False                           True   \n",
       "9                            False                           True   \n",
       "10                           False                          False   \n",
       "11                           False                           True   \n",
       "\n",
       "    management_strategy_be_after_1r  management_strategy_be_after_push  \\\n",
       "0                              True                              False   \n",
       "1                             False                               True   \n",
       "2                             False                              False   \n",
       "3                              True                              False   \n",
       "4                             False                               True   \n",
       "5                              True                              False   \n",
       "6                              True                              False   \n",
       "7                             False                              False   \n",
       "8                             False                              False   \n",
       "9                              True                              False   \n",
       "10                            False                              False   \n",
       "11                            False                               True   \n",
       "\n",
       "    management_strategy_no_management  outcome_be  outcome_loss  outcome_win  \n",
       "0                               False       False          True        False  \n",
       "1                               False       False         False         True  \n",
       "2                                True        True         False        False  \n",
       "3                               False       False         False         True  \n",
       "4                               False       False          True        False  \n",
       "5                               False       False          True        False  \n",
       "6                               False       False          True        False  \n",
       "7                                True       False         False         True  \n",
       "8                                True       False          True        False  \n",
       "9                               False       False         False         True  \n",
       "10                               True       False         False        False  \n",
       "11                              False       False         False        False  "
      ]
     },
     "execution_count": 152,
     "metadata": {},
     "output_type": "execute_result"
    }
   ],
   "source": [
    "df = j.to_dataframe(config=None)\n",
    "df"
   ]
  },
  {
   "cell_type": "code",
   "execution_count": 153,
   "metadata": {},
   "outputs": [
    {
     "name": "stdout",
     "output_type": "stream",
     "text": [
      "Expected return full search space: -5.37977272727282\n",
      "Expected return is negative\n"
     ]
    },
    {
     "data": {
      "text/plain": [
       "type_1_m5                    boolean\n",
       "type_2_m5                    boolean\n",
       "type_3_m5                    boolean\n",
       "htf_poi_ltf_confirmation    category\n",
       "return                       float64\n",
       "dtype: object"
      ]
     },
     "metadata": {},
     "output_type": "display_data"
    },
    {
     "data": {
      "text/html": [
       "<div>\n",
       "<style scoped>\n",
       "    .dataframe tbody tr th:only-of-type {\n",
       "        vertical-align: middle;\n",
       "    }\n",
       "\n",
       "    .dataframe tbody tr th {\n",
       "        vertical-align: top;\n",
       "    }\n",
       "\n",
       "    .dataframe thead th {\n",
       "        text-align: right;\n",
       "    }\n",
       "</style>\n",
       "<table border=\"1\" class=\"dataframe\">\n",
       "  <thead>\n",
       "    <tr style=\"text-align: right;\">\n",
       "      <th></th>\n",
       "      <th>return</th>\n",
       "    </tr>\n",
       "  </thead>\n",
       "  <tbody>\n",
       "    <tr>\n",
       "      <th>count</th>\n",
       "      <td>11.000000</td>\n",
       "    </tr>\n",
       "    <tr>\n",
       "      <th>mean</th>\n",
       "      <td>-5.379773</td>\n",
       "    </tr>\n",
       "    <tr>\n",
       "      <th>std</th>\n",
       "      <td>17.826951</td>\n",
       "    </tr>\n",
       "    <tr>\n",
       "      <th>min</th>\n",
       "      <td>-59.130000</td>\n",
       "    </tr>\n",
       "    <tr>\n",
       "      <th>25%</th>\n",
       "      <td>-0.029775</td>\n",
       "    </tr>\n",
       "    <tr>\n",
       "      <th>50%</th>\n",
       "      <td>-0.001200</td>\n",
       "    </tr>\n",
       "    <tr>\n",
       "      <th>75%</th>\n",
       "      <td>0.004475</td>\n",
       "    </tr>\n",
       "    <tr>\n",
       "      <th>max</th>\n",
       "      <td>0.049050</td>\n",
       "    </tr>\n",
       "  </tbody>\n",
       "</table>\n",
       "</div>"
      ],
      "text/plain": [
       "          return\n",
       "count  11.000000\n",
       "mean   -5.379773\n",
       "std    17.826951\n",
       "min   -59.130000\n",
       "25%    -0.029775\n",
       "50%    -0.001200\n",
       "75%     0.004475\n",
       "max     0.049050"
      ]
     },
     "metadata": {},
     "output_type": "display_data"
    },
    {
     "data": {
      "text/html": [
       "<div>\n",
       "<style scoped>\n",
       "    .dataframe tbody tr th:only-of-type {\n",
       "        vertical-align: middle;\n",
       "    }\n",
       "\n",
       "    .dataframe tbody tr th {\n",
       "        vertical-align: top;\n",
       "    }\n",
       "\n",
       "    .dataframe thead th {\n",
       "        text-align: right;\n",
       "    }\n",
       "</style>\n",
       "<table border=\"1\" class=\"dataframe\">\n",
       "  <thead>\n",
       "    <tr style=\"text-align: right;\">\n",
       "      <th></th>\n",
       "      <th>type_1_m5</th>\n",
       "      <th>type_2_m5</th>\n",
       "      <th>type_3_m5</th>\n",
       "      <th>htf_poi_ltf_confirmation</th>\n",
       "      <th>return</th>\n",
       "    </tr>\n",
       "  </thead>\n",
       "  <tbody>\n",
       "    <tr>\n",
       "      <th>0</th>\n",
       "      <td>False</td>\n",
       "      <td>False</td>\n",
       "      <td>False</td>\n",
       "      <td>True</td>\n",
       "      <td>0.00525</td>\n",
       "    </tr>\n",
       "    <tr>\n",
       "      <th>1</th>\n",
       "      <td>False</td>\n",
       "      <td>False</td>\n",
       "      <td>True</td>\n",
       "      <td>True</td>\n",
       "      <td>-0.03525</td>\n",
       "    </tr>\n",
       "    <tr>\n",
       "      <th>2</th>\n",
       "      <td>False</td>\n",
       "      <td>False</td>\n",
       "      <td>True</td>\n",
       "      <td>False</td>\n",
       "      <td>0.00025</td>\n",
       "    </tr>\n",
       "    <tr>\n",
       "      <th>3</th>\n",
       "      <td>True</td>\n",
       "      <td>False</td>\n",
       "      <td>False</td>\n",
       "      <td>True</td>\n",
       "      <td>-0.04350</td>\n",
       "    </tr>\n",
       "    <tr>\n",
       "      <th>4</th>\n",
       "      <td>False</td>\n",
       "      <td>False</td>\n",
       "      <td>True</td>\n",
       "      <td>False</td>\n",
       "      <td>0.00385</td>\n",
       "    </tr>\n",
       "    <tr>\n",
       "      <th>5</th>\n",
       "      <td>False</td>\n",
       "      <td>False</td>\n",
       "      <td>False</td>\n",
       "      <td>True</td>\n",
       "      <td>0.00510</td>\n",
       "    </tr>\n",
       "    <tr>\n",
       "      <th>6</th>\n",
       "      <td>False</td>\n",
       "      <td>False</td>\n",
       "      <td>False</td>\n",
       "      <td>False</td>\n",
       "      <td>-0.00120</td>\n",
       "    </tr>\n",
       "    <tr>\n",
       "      <th>7</th>\n",
       "      <td>False</td>\n",
       "      <td>False</td>\n",
       "      <td>False</td>\n",
       "      <td>True</td>\n",
       "      <td>-0.02430</td>\n",
       "    </tr>\n",
       "    <tr>\n",
       "      <th>8</th>\n",
       "      <td>False</td>\n",
       "      <td>True</td>\n",
       "      <td>False</td>\n",
       "      <td>True</td>\n",
       "      <td>-0.00675</td>\n",
       "    </tr>\n",
       "    <tr>\n",
       "      <th>9</th>\n",
       "      <td>False</td>\n",
       "      <td>True</td>\n",
       "      <td>False</td>\n",
       "      <td>True</td>\n",
       "      <td>0.04905</td>\n",
       "    </tr>\n",
       "    <tr>\n",
       "      <th>11</th>\n",
       "      <td>True</td>\n",
       "      <td>False</td>\n",
       "      <td>False</td>\n",
       "      <td>True</td>\n",
       "      <td>-59.13000</td>\n",
       "    </tr>\n",
       "  </tbody>\n",
       "</table>\n",
       "</div>"
      ],
      "text/plain": [
       "    type_1_m5  type_2_m5  type_3_m5 htf_poi_ltf_confirmation    return\n",
       "0       False      False      False                     True   0.00525\n",
       "1       False      False       True                     True  -0.03525\n",
       "2       False      False       True                    False   0.00025\n",
       "3        True      False      False                     True  -0.04350\n",
       "4       False      False       True                    False   0.00385\n",
       "5       False      False      False                     True   0.00510\n",
       "6       False      False      False                    False  -0.00120\n",
       "7       False      False      False                     True  -0.02430\n",
       "8       False       True      False                     True  -0.00675\n",
       "9       False       True      False                     True   0.04905\n",
       "11       True      False      False                     True -59.13000"
      ]
     },
     "metadata": {},
     "output_type": "display_data"
    },
    {
     "name": "stdout",
     "output_type": "stream",
     "text": [
      "Best subset: ('type_1_m5',)\n",
      "Best combination: (False,)\n",
      "Best score: -0.00044444444444444485\n",
      "Best subset: ('type_2_m5',)\n",
      "Best combination: (True,)\n",
      "Best score: 0.021150000000000002\n",
      "Best subset: ('type_2_m5',)\n",
      "Best combination: (True,)\n",
      "Best score: 0.021150000000000002\n"
     ]
    }
   ],
   "source": [
    "df_test = df.copy()\n",
    "features = ['type_1_m5', 'type_2_m5', 'type_3_m5', 'htf_poi_ltf_confirmation', 'return']\n",
    "df_test = df_test[features]\n",
    "df_test = df_test.dropna()\n",
    "exptected_return = df_test['return'].mean()\n",
    "print('Expected return full search space:', exptected_return)\n",
    "if exptected_return > 0:\n",
    "    print('Expected return is positive')\n",
    "else:\n",
    "    print('Expected return is negative')\n",
    "df_test\n",
    "\n",
    "display(df_test.dtypes)\n",
    "display(df_test.describe())\n",
    "display(df_test)\n",
    "\n",
    "\n",
    "report_best_performing_tags_value(df_test, y_col='return', score_mode='mean', method='brute_force')"
   ]
  },
  {
   "cell_type": "code",
   "execution_count": 154,
   "metadata": {},
   "outputs": [
    {
     "data": {
      "text/html": [
       "<div>\n",
       "<style scoped>\n",
       "    .dataframe tbody tr th:only-of-type {\n",
       "        vertical-align: middle;\n",
       "    }\n",
       "\n",
       "    .dataframe tbody tr th {\n",
       "        vertical-align: top;\n",
       "    }\n",
       "\n",
       "    .dataframe thead th {\n",
       "        text-align: right;\n",
       "    }\n",
       "</style>\n",
       "<table border=\"1\" class=\"dataframe\">\n",
       "  <thead>\n",
       "    <tr style=\"text-align: right;\">\n",
       "      <th></th>\n",
       "      <th>trade_uid</th>\n",
       "      <th>initial_risk_reward</th>\n",
       "      <th>entry_price</th>\n",
       "      <th>type_2_m15</th>\n",
       "      <th>type_1_m5</th>\n",
       "      <th>type_3_w</th>\n",
       "      <th>poi_15m_sc</th>\n",
       "      <th>outcome</th>\n",
       "      <th>poi_15m_mitigation</th>\n",
       "      <th>poi_1m_liquidity_grab</th>\n",
       "      <th>type_1_m30</th>\n",
       "      <th>type_1_h4</th>\n",
       "      <th>return</th>\n",
       "      <th>type_3_d</th>\n",
       "      <th>type_3_h4</th>\n",
       "      <th>tp_price</th>\n",
       "      <th>unit_test</th>\n",
       "      <th>type_1_d</th>\n",
       "      <th>numerical_confidence</th>\n",
       "      <th>type_2_m1</th>\n",
       "      <th>type_2_m5</th>\n",
       "      <th>rr</th>\n",
       "      <th>poi_1h_mitigation</th>\n",
       "      <th>poi_1m_mitigation</th>\n",
       "      <th>type_1_w</th>\n",
       "      <th>account</th>\n",
       "      <th>management_strategy</th>\n",
       "      <th>entry_time</th>\n",
       "      <th>sl_price</th>\n",
       "      <th>type_3_m5</th>\n",
       "      <th>taken</th>\n",
       "      <th>potential_return</th>\n",
       "      <th>TP_distance</th>\n",
       "      <th>type_3_h1</th>\n",
       "      <th>type_2_d</th>\n",
       "      <th>type_3_M</th>\n",
       "      <th>type_1_M</th>\n",
       "      <th>type_3_m15</th>\n",
       "      <th>type_2_h4</th>\n",
       "      <th>initial_return</th>\n",
       "      <th>type_1_h1</th>\n",
       "      <th>type_3_m1</th>\n",
       "      <th>poi_1h_liquidity_grab</th>\n",
       "      <th>potential_price</th>\n",
       "      <th>potential_risk_reward</th>\n",
       "      <th>session</th>\n",
       "      <th>poi_1h_sc</th>\n",
       "      <th>type_3_m30</th>\n",
       "      <th>poi_1m_sc</th>\n",
       "      <th>type_2_m30</th>\n",
       "      <th>type_2_w</th>\n",
       "      <th>type_2_M</th>\n",
       "      <th>type_1_m1</th>\n",
       "      <th>poi</th>\n",
       "      <th>poi_15m_liquidity_grab</th>\n",
       "      <th>SL_distance</th>\n",
       "      <th>side</th>\n",
       "      <th>type_2_h1</th>\n",
       "      <th>htf_poi_ltf_confirmation</th>\n",
       "      <th>close_price</th>\n",
       "      <th>type_1_m15</th>\n",
       "      <th>htf_poi_ltf_confirmation_False</th>\n",
       "      <th>htf_poi_ltf_confirmation_True</th>\n",
       "      <th>management_strategy_be_after_1r</th>\n",
       "      <th>management_strategy_be_after_push</th>\n",
       "      <th>management_strategy_no_management</th>\n",
       "      <th>outcome_be</th>\n",
       "      <th>outcome_loss</th>\n",
       "      <th>outcome_win</th>\n",
       "    </tr>\n",
       "  </thead>\n",
       "  <tbody>\n",
       "    <tr>\n",
       "      <th>0</th>\n",
       "      <td>1005</td>\n",
       "      <td>4.644407</td>\n",
       "      <td>1.1204</td>\n",
       "      <td>False</td>\n",
       "      <td>False</td>\n",
       "      <td>False</td>\n",
       "      <td>&lt;NA&gt;</td>\n",
       "      <td>loss</td>\n",
       "      <td>&lt;NA&gt;</td>\n",
       "      <td>&lt;NA&gt;</td>\n",
       "      <td>False</td>\n",
       "      <td>False</td>\n",
       "      <td>0.00525</td>\n",
       "      <td>False</td>\n",
       "      <td>False</td>\n",
       "      <td>1.097178</td>\n",
       "      <td>True</td>\n",
       "      <td>True</td>\n",
       "      <td>5.0</td>\n",
       "      <td>False</td>\n",
       "      <td>False</td>\n",
       "      <td>-1.050000</td>\n",
       "      <td>&lt;NA&gt;</td>\n",
       "      <td>&lt;NA&gt;</td>\n",
       "      <td>False</td>\n",
       "      <td>test_account</td>\n",
       "      <td>be_after_1r</td>\n",
       "      <td>2025-02-15 06:20:11.869262705</td>\n",
       "      <td>1.1254</td>\n",
       "      <td>False</td>\n",
       "      <td>&lt;NA&gt;</td>\n",
       "      <td>NaN</td>\n",
       "      <td>-0.023222</td>\n",
       "      <td>False</td>\n",
       "      <td>True</td>\n",
       "      <td>False</td>\n",
       "      <td>False</td>\n",
       "      <td>False</td>\n",
       "      <td>False</td>\n",
       "      <td>-0.023222</td>\n",
       "      <td>False</td>\n",
       "      <td>True</td>\n",
       "      <td>&lt;NA&gt;</td>\n",
       "      <td>NaN</td>\n",
       "      <td>NaN</td>\n",
       "      <td>tokyo</td>\n",
       "      <td>&lt;NA&gt;</td>\n",
       "      <td>False</td>\n",
       "      <td>&lt;NA&gt;</td>\n",
       "      <td>False</td>\n",
       "      <td>False</td>\n",
       "      <td>False</td>\n",
       "      <td>False</td>\n",
       "      <td>None</td>\n",
       "      <td>&lt;NA&gt;</td>\n",
       "      <td>-0.005</td>\n",
       "      <td>short</td>\n",
       "      <td>False</td>\n",
       "      <td>True</td>\n",
       "      <td>1.12565</td>\n",
       "      <td>False</td>\n",
       "      <td>False</td>\n",
       "      <td>True</td>\n",
       "      <td>True</td>\n",
       "      <td>False</td>\n",
       "      <td>False</td>\n",
       "      <td>False</td>\n",
       "      <td>True</td>\n",
       "      <td>False</td>\n",
       "    </tr>\n",
       "    <tr>\n",
       "      <th>1</th>\n",
       "      <td>1006</td>\n",
       "      <td>9.885333</td>\n",
       "      <td>1.1347</td>\n",
       "      <td>True</td>\n",
       "      <td>False</td>\n",
       "      <td>False</td>\n",
       "      <td>&lt;NA&gt;</td>\n",
       "      <td>win</td>\n",
       "      <td>&lt;NA&gt;</td>\n",
       "      <td>&lt;NA&gt;</td>\n",
       "      <td>False</td>\n",
       "      <td>False</td>\n",
       "      <td>-0.03525</td>\n",
       "      <td>False</td>\n",
       "      <td>False</td>\n",
       "      <td>1.085273</td>\n",
       "      <td>True</td>\n",
       "      <td>False</td>\n",
       "      <td>1.0</td>\n",
       "      <td>False</td>\n",
       "      <td>False</td>\n",
       "      <td>7.050000</td>\n",
       "      <td>&lt;NA&gt;</td>\n",
       "      <td>&lt;NA&gt;</td>\n",
       "      <td>False</td>\n",
       "      <td>test_account</td>\n",
       "      <td>be_after_push</td>\n",
       "      <td>2025-02-13 06:00:30.030270186</td>\n",
       "      <td>1.1397</td>\n",
       "      <td>True</td>\n",
       "      <td>&lt;NA&gt;</td>\n",
       "      <td>NaN</td>\n",
       "      <td>-0.049427</td>\n",
       "      <td>False</td>\n",
       "      <td>False</td>\n",
       "      <td>False</td>\n",
       "      <td>False</td>\n",
       "      <td>False</td>\n",
       "      <td>False</td>\n",
       "      <td>-0.049427</td>\n",
       "      <td>True</td>\n",
       "      <td>False</td>\n",
       "      <td>&lt;NA&gt;</td>\n",
       "      <td>NaN</td>\n",
       "      <td>NaN</td>\n",
       "      <td>tokyo</td>\n",
       "      <td>&lt;NA&gt;</td>\n",
       "      <td>False</td>\n",
       "      <td>&lt;NA&gt;</td>\n",
       "      <td>False</td>\n",
       "      <td>False</td>\n",
       "      <td>False</td>\n",
       "      <td>False</td>\n",
       "      <td>None</td>\n",
       "      <td>&lt;NA&gt;</td>\n",
       "      <td>-0.005</td>\n",
       "      <td>short</td>\n",
       "      <td>False</td>\n",
       "      <td>True</td>\n",
       "      <td>1.09945</td>\n",
       "      <td>False</td>\n",
       "      <td>False</td>\n",
       "      <td>True</td>\n",
       "      <td>False</td>\n",
       "      <td>True</td>\n",
       "      <td>False</td>\n",
       "      <td>False</td>\n",
       "      <td>False</td>\n",
       "      <td>True</td>\n",
       "    </tr>\n",
       "    <tr>\n",
       "      <th>2</th>\n",
       "      <td>1007</td>\n",
       "      <td>6.497983</td>\n",
       "      <td>1.1242</td>\n",
       "      <td>False</td>\n",
       "      <td>False</td>\n",
       "      <td>False</td>\n",
       "      <td>&lt;NA&gt;</td>\n",
       "      <td>be</td>\n",
       "      <td>&lt;NA&gt;</td>\n",
       "      <td>&lt;NA&gt;</td>\n",
       "      <td>False</td>\n",
       "      <td>False</td>\n",
       "      <td>0.00025</td>\n",
       "      <td>False</td>\n",
       "      <td>False</td>\n",
       "      <td>1.091710</td>\n",
       "      <td>True</td>\n",
       "      <td>False</td>\n",
       "      <td>1.0</td>\n",
       "      <td>False</td>\n",
       "      <td>False</td>\n",
       "      <td>-0.050000</td>\n",
       "      <td>&lt;NA&gt;</td>\n",
       "      <td>&lt;NA&gt;</td>\n",
       "      <td>True</td>\n",
       "      <td>test_account</td>\n",
       "      <td>no_management</td>\n",
       "      <td>2025-02-18 07:34:28.867189251</td>\n",
       "      <td>1.1292</td>\n",
       "      <td>True</td>\n",
       "      <td>&lt;NA&gt;</td>\n",
       "      <td>NaN</td>\n",
       "      <td>-0.032490</td>\n",
       "      <td>False</td>\n",
       "      <td>False</td>\n",
       "      <td>False</td>\n",
       "      <td>False</td>\n",
       "      <td>False</td>\n",
       "      <td>False</td>\n",
       "      <td>-0.032490</td>\n",
       "      <td>False</td>\n",
       "      <td>False</td>\n",
       "      <td>&lt;NA&gt;</td>\n",
       "      <td>NaN</td>\n",
       "      <td>NaN</td>\n",
       "      <td>london</td>\n",
       "      <td>&lt;NA&gt;</td>\n",
       "      <td>False</td>\n",
       "      <td>&lt;NA&gt;</td>\n",
       "      <td>False</td>\n",
       "      <td>False</td>\n",
       "      <td>True</td>\n",
       "      <td>False</td>\n",
       "      <td>None</td>\n",
       "      <td>&lt;NA&gt;</td>\n",
       "      <td>-0.005</td>\n",
       "      <td>short</td>\n",
       "      <td>False</td>\n",
       "      <td>False</td>\n",
       "      <td>1.12445</td>\n",
       "      <td>False</td>\n",
       "      <td>True</td>\n",
       "      <td>False</td>\n",
       "      <td>False</td>\n",
       "      <td>False</td>\n",
       "      <td>True</td>\n",
       "      <td>True</td>\n",
       "      <td>False</td>\n",
       "      <td>False</td>\n",
       "    </tr>\n",
       "    <tr>\n",
       "      <th>3</th>\n",
       "      <td>1008</td>\n",
       "      <td>3.195198</td>\n",
       "      <td>1.1345</td>\n",
       "      <td>False</td>\n",
       "      <td>True</td>\n",
       "      <td>False</td>\n",
       "      <td>&lt;NA&gt;</td>\n",
       "      <td>win</td>\n",
       "      <td>&lt;NA&gt;</td>\n",
       "      <td>&lt;NA&gt;</td>\n",
       "      <td>False</td>\n",
       "      <td>False</td>\n",
       "      <td>-0.04350</td>\n",
       "      <td>False</td>\n",
       "      <td>False</td>\n",
       "      <td>1.118524</td>\n",
       "      <td>True</td>\n",
       "      <td>False</td>\n",
       "      <td>2.0</td>\n",
       "      <td>False</td>\n",
       "      <td>False</td>\n",
       "      <td>8.700000</td>\n",
       "      <td>&lt;NA&gt;</td>\n",
       "      <td>&lt;NA&gt;</td>\n",
       "      <td>False</td>\n",
       "      <td>test_account</td>\n",
       "      <td>be_after_1r</td>\n",
       "      <td>2025-03-05 07:07:42.801306061</td>\n",
       "      <td>1.1395</td>\n",
       "      <td>False</td>\n",
       "      <td>&lt;NA&gt;</td>\n",
       "      <td>NaN</td>\n",
       "      <td>-0.015976</td>\n",
       "      <td>False</td>\n",
       "      <td>True</td>\n",
       "      <td>False</td>\n",
       "      <td>False</td>\n",
       "      <td>False</td>\n",
       "      <td>False</td>\n",
       "      <td>-0.015976</td>\n",
       "      <td>False</td>\n",
       "      <td>True</td>\n",
       "      <td>&lt;NA&gt;</td>\n",
       "      <td>NaN</td>\n",
       "      <td>NaN</td>\n",
       "      <td>london</td>\n",
       "      <td>&lt;NA&gt;</td>\n",
       "      <td>False</td>\n",
       "      <td>&lt;NA&gt;</td>\n",
       "      <td>False</td>\n",
       "      <td>False</td>\n",
       "      <td>False</td>\n",
       "      <td>False</td>\n",
       "      <td>None</td>\n",
       "      <td>&lt;NA&gt;</td>\n",
       "      <td>-0.005</td>\n",
       "      <td>short</td>\n",
       "      <td>False</td>\n",
       "      <td>True</td>\n",
       "      <td>1.09100</td>\n",
       "      <td>False</td>\n",
       "      <td>False</td>\n",
       "      <td>True</td>\n",
       "      <td>True</td>\n",
       "      <td>False</td>\n",
       "      <td>False</td>\n",
       "      <td>False</td>\n",
       "      <td>False</td>\n",
       "      <td>True</td>\n",
       "    </tr>\n",
       "    <tr>\n",
       "      <th>4</th>\n",
       "      <td>1009</td>\n",
       "      <td>8.875786</td>\n",
       "      <td>1.1132</td>\n",
       "      <td>False</td>\n",
       "      <td>False</td>\n",
       "      <td>False</td>\n",
       "      <td>&lt;NA&gt;</td>\n",
       "      <td>loss</td>\n",
       "      <td>&lt;NA&gt;</td>\n",
       "      <td>&lt;NA&gt;</td>\n",
       "      <td>False</td>\n",
       "      <td>False</td>\n",
       "      <td>0.00385</td>\n",
       "      <td>False</td>\n",
       "      <td>False</td>\n",
       "      <td>1.068821</td>\n",
       "      <td>True</td>\n",
       "      <td>False</td>\n",
       "      <td>1.0</td>\n",
       "      <td>False</td>\n",
       "      <td>False</td>\n",
       "      <td>-0.770000</td>\n",
       "      <td>&lt;NA&gt;</td>\n",
       "      <td>&lt;NA&gt;</td>\n",
       "      <td>False</td>\n",
       "      <td>test_account</td>\n",
       "      <td>be_after_push</td>\n",
       "      <td>2025-02-21 07:12:31.963838975</td>\n",
       "      <td>1.1182</td>\n",
       "      <td>True</td>\n",
       "      <td>&lt;NA&gt;</td>\n",
       "      <td>NaN</td>\n",
       "      <td>-0.044379</td>\n",
       "      <td>False</td>\n",
       "      <td>False</td>\n",
       "      <td>False</td>\n",
       "      <td>True</td>\n",
       "      <td>False</td>\n",
       "      <td>False</td>\n",
       "      <td>-0.044379</td>\n",
       "      <td>False</td>\n",
       "      <td>False</td>\n",
       "      <td>&lt;NA&gt;</td>\n",
       "      <td>NaN</td>\n",
       "      <td>NaN</td>\n",
       "      <td>london</td>\n",
       "      <td>&lt;NA&gt;</td>\n",
       "      <td>False</td>\n",
       "      <td>&lt;NA&gt;</td>\n",
       "      <td>False</td>\n",
       "      <td>True</td>\n",
       "      <td>False</td>\n",
       "      <td>False</td>\n",
       "      <td>None</td>\n",
       "      <td>&lt;NA&gt;</td>\n",
       "      <td>-0.005</td>\n",
       "      <td>short</td>\n",
       "      <td>False</td>\n",
       "      <td>False</td>\n",
       "      <td>1.11705</td>\n",
       "      <td>False</td>\n",
       "      <td>True</td>\n",
       "      <td>False</td>\n",
       "      <td>False</td>\n",
       "      <td>True</td>\n",
       "      <td>False</td>\n",
       "      <td>False</td>\n",
       "      <td>True</td>\n",
       "      <td>False</td>\n",
       "    </tr>\n",
       "    <tr>\n",
       "      <th>5</th>\n",
       "      <td>1010</td>\n",
       "      <td>1.824689</td>\n",
       "      <td>1.1335</td>\n",
       "      <td>False</td>\n",
       "      <td>False</td>\n",
       "      <td>False</td>\n",
       "      <td>&lt;NA&gt;</td>\n",
       "      <td>loss</td>\n",
       "      <td>&lt;NA&gt;</td>\n",
       "      <td>&lt;NA&gt;</td>\n",
       "      <td>False</td>\n",
       "      <td>False</td>\n",
       "      <td>0.00510</td>\n",
       "      <td>False</td>\n",
       "      <td>False</td>\n",
       "      <td>1.124377</td>\n",
       "      <td>True</td>\n",
       "      <td>False</td>\n",
       "      <td>2.0</td>\n",
       "      <td>False</td>\n",
       "      <td>False</td>\n",
       "      <td>-1.020000</td>\n",
       "      <td>&lt;NA&gt;</td>\n",
       "      <td>&lt;NA&gt;</td>\n",
       "      <td>False</td>\n",
       "      <td>test_account</td>\n",
       "      <td>be_after_1r</td>\n",
       "      <td>2025-02-13 06:38:36.944399655</td>\n",
       "      <td>1.1385</td>\n",
       "      <td>False</td>\n",
       "      <td>&lt;NA&gt;</td>\n",
       "      <td>NaN</td>\n",
       "      <td>-0.009123</td>\n",
       "      <td>False</td>\n",
       "      <td>False</td>\n",
       "      <td>True</td>\n",
       "      <td>True</td>\n",
       "      <td>False</td>\n",
       "      <td>False</td>\n",
       "      <td>-0.009123</td>\n",
       "      <td>False</td>\n",
       "      <td>False</td>\n",
       "      <td>&lt;NA&gt;</td>\n",
       "      <td>NaN</td>\n",
       "      <td>NaN</td>\n",
       "      <td>tokyo</td>\n",
       "      <td>&lt;NA&gt;</td>\n",
       "      <td>False</td>\n",
       "      <td>&lt;NA&gt;</td>\n",
       "      <td>True</td>\n",
       "      <td>False</td>\n",
       "      <td>False</td>\n",
       "      <td>False</td>\n",
       "      <td>None</td>\n",
       "      <td>&lt;NA&gt;</td>\n",
       "      <td>-0.005</td>\n",
       "      <td>short</td>\n",
       "      <td>False</td>\n",
       "      <td>True</td>\n",
       "      <td>1.13860</td>\n",
       "      <td>False</td>\n",
       "      <td>False</td>\n",
       "      <td>True</td>\n",
       "      <td>True</td>\n",
       "      <td>False</td>\n",
       "      <td>False</td>\n",
       "      <td>False</td>\n",
       "      <td>True</td>\n",
       "      <td>False</td>\n",
       "    </tr>\n",
       "    <tr>\n",
       "      <th>6</th>\n",
       "      <td>1011</td>\n",
       "      <td>8.890933</td>\n",
       "      <td>1.1128</td>\n",
       "      <td>False</td>\n",
       "      <td>False</td>\n",
       "      <td>True</td>\n",
       "      <td>&lt;NA&gt;</td>\n",
       "      <td>loss</td>\n",
       "      <td>&lt;NA&gt;</td>\n",
       "      <td>&lt;NA&gt;</td>\n",
       "      <td>False</td>\n",
       "      <td>False</td>\n",
       "      <td>-0.00120</td>\n",
       "      <td>False</td>\n",
       "      <td>False</td>\n",
       "      <td>1.157255</td>\n",
       "      <td>True</td>\n",
       "      <td>False</td>\n",
       "      <td>5.0</td>\n",
       "      <td>False</td>\n",
       "      <td>False</td>\n",
       "      <td>-0.240000</td>\n",
       "      <td>&lt;NA&gt;</td>\n",
       "      <td>&lt;NA&gt;</td>\n",
       "      <td>False</td>\n",
       "      <td>test_account</td>\n",
       "      <td>be_after_1r</td>\n",
       "      <td>2025-03-02 06:34:15.293149438</td>\n",
       "      <td>1.1078</td>\n",
       "      <td>False</td>\n",
       "      <td>&lt;NA&gt;</td>\n",
       "      <td>NaN</td>\n",
       "      <td>0.044455</td>\n",
       "      <td>False</td>\n",
       "      <td>False</td>\n",
       "      <td>False</td>\n",
       "      <td>False</td>\n",
       "      <td>False</td>\n",
       "      <td>False</td>\n",
       "      <td>0.044455</td>\n",
       "      <td>False</td>\n",
       "      <td>False</td>\n",
       "      <td>&lt;NA&gt;</td>\n",
       "      <td>NaN</td>\n",
       "      <td>NaN</td>\n",
       "      <td>tokyo</td>\n",
       "      <td>&lt;NA&gt;</td>\n",
       "      <td>False</td>\n",
       "      <td>&lt;NA&gt;</td>\n",
       "      <td>False</td>\n",
       "      <td>False</td>\n",
       "      <td>False</td>\n",
       "      <td>True</td>\n",
       "      <td>None</td>\n",
       "      <td>&lt;NA&gt;</td>\n",
       "      <td>0.005</td>\n",
       "      <td>long</td>\n",
       "      <td>True</td>\n",
       "      <td>False</td>\n",
       "      <td>1.11160</td>\n",
       "      <td>False</td>\n",
       "      <td>True</td>\n",
       "      <td>False</td>\n",
       "      <td>True</td>\n",
       "      <td>False</td>\n",
       "      <td>False</td>\n",
       "      <td>False</td>\n",
       "      <td>True</td>\n",
       "      <td>False</td>\n",
       "    </tr>\n",
       "    <tr>\n",
       "      <th>7</th>\n",
       "      <td>1012</td>\n",
       "      <td>1.741357</td>\n",
       "      <td>1.1280</td>\n",
       "      <td>False</td>\n",
       "      <td>False</td>\n",
       "      <td>False</td>\n",
       "      <td>&lt;NA&gt;</td>\n",
       "      <td>win</td>\n",
       "      <td>&lt;NA&gt;</td>\n",
       "      <td>&lt;NA&gt;</td>\n",
       "      <td>True</td>\n",
       "      <td>False</td>\n",
       "      <td>-0.02430</td>\n",
       "      <td>False</td>\n",
       "      <td>False</td>\n",
       "      <td>1.119293</td>\n",
       "      <td>True</td>\n",
       "      <td>False</td>\n",
       "      <td>2.0</td>\n",
       "      <td>False</td>\n",
       "      <td>False</td>\n",
       "      <td>4.860000</td>\n",
       "      <td>&lt;NA&gt;</td>\n",
       "      <td>&lt;NA&gt;</td>\n",
       "      <td>False</td>\n",
       "      <td>test_account</td>\n",
       "      <td>no_management</td>\n",
       "      <td>2025-03-03 06:07:59.938551714</td>\n",
       "      <td>1.1330</td>\n",
       "      <td>False</td>\n",
       "      <td>&lt;NA&gt;</td>\n",
       "      <td>NaN</td>\n",
       "      <td>-0.008707</td>\n",
       "      <td>True</td>\n",
       "      <td>True</td>\n",
       "      <td>False</td>\n",
       "      <td>False</td>\n",
       "      <td>False</td>\n",
       "      <td>False</td>\n",
       "      <td>-0.008707</td>\n",
       "      <td>False</td>\n",
       "      <td>False</td>\n",
       "      <td>&lt;NA&gt;</td>\n",
       "      <td>NaN</td>\n",
       "      <td>NaN</td>\n",
       "      <td>tokyo</td>\n",
       "      <td>&lt;NA&gt;</td>\n",
       "      <td>False</td>\n",
       "      <td>&lt;NA&gt;</td>\n",
       "      <td>False</td>\n",
       "      <td>False</td>\n",
       "      <td>False</td>\n",
       "      <td>False</td>\n",
       "      <td>None</td>\n",
       "      <td>&lt;NA&gt;</td>\n",
       "      <td>-0.005</td>\n",
       "      <td>short</td>\n",
       "      <td>False</td>\n",
       "      <td>True</td>\n",
       "      <td>1.10370</td>\n",
       "      <td>False</td>\n",
       "      <td>False</td>\n",
       "      <td>True</td>\n",
       "      <td>False</td>\n",
       "      <td>False</td>\n",
       "      <td>True</td>\n",
       "      <td>False</td>\n",
       "      <td>False</td>\n",
       "      <td>True</td>\n",
       "    </tr>\n",
       "    <tr>\n",
       "      <th>8</th>\n",
       "      <td>1013</td>\n",
       "      <td>3.992825</td>\n",
       "      <td>1.1249</td>\n",
       "      <td>False</td>\n",
       "      <td>False</td>\n",
       "      <td>False</td>\n",
       "      <td>&lt;NA&gt;</td>\n",
       "      <td>loss</td>\n",
       "      <td>&lt;NA&gt;</td>\n",
       "      <td>&lt;NA&gt;</td>\n",
       "      <td>False</td>\n",
       "      <td>False</td>\n",
       "      <td>-0.00675</td>\n",
       "      <td>False</td>\n",
       "      <td>False</td>\n",
       "      <td>1.144864</td>\n",
       "      <td>True</td>\n",
       "      <td>False</td>\n",
       "      <td>1.0</td>\n",
       "      <td>False</td>\n",
       "      <td>True</td>\n",
       "      <td>-1.350000</td>\n",
       "      <td>&lt;NA&gt;</td>\n",
       "      <td>&lt;NA&gt;</td>\n",
       "      <td>False</td>\n",
       "      <td>test_account</td>\n",
       "      <td>no_management</td>\n",
       "      <td>2025-03-03 06:47:02.469978317</td>\n",
       "      <td>1.1199</td>\n",
       "      <td>False</td>\n",
       "      <td>&lt;NA&gt;</td>\n",
       "      <td>NaN</td>\n",
       "      <td>0.019964</td>\n",
       "      <td>False</td>\n",
       "      <td>False</td>\n",
       "      <td>False</td>\n",
       "      <td>False</td>\n",
       "      <td>False</td>\n",
       "      <td>False</td>\n",
       "      <td>0.019964</td>\n",
       "      <td>True</td>\n",
       "      <td>False</td>\n",
       "      <td>&lt;NA&gt;</td>\n",
       "      <td>NaN</td>\n",
       "      <td>NaN</td>\n",
       "      <td>tokyo</td>\n",
       "      <td>&lt;NA&gt;</td>\n",
       "      <td>True</td>\n",
       "      <td>&lt;NA&gt;</td>\n",
       "      <td>False</td>\n",
       "      <td>False</td>\n",
       "      <td>False</td>\n",
       "      <td>False</td>\n",
       "      <td>None</td>\n",
       "      <td>&lt;NA&gt;</td>\n",
       "      <td>0.005</td>\n",
       "      <td>long</td>\n",
       "      <td>False</td>\n",
       "      <td>True</td>\n",
       "      <td>1.11815</td>\n",
       "      <td>False</td>\n",
       "      <td>False</td>\n",
       "      <td>True</td>\n",
       "      <td>False</td>\n",
       "      <td>False</td>\n",
       "      <td>True</td>\n",
       "      <td>False</td>\n",
       "      <td>True</td>\n",
       "      <td>False</td>\n",
       "    </tr>\n",
       "    <tr>\n",
       "      <th>9</th>\n",
       "      <td>1014</td>\n",
       "      <td>4.520885</td>\n",
       "      <td>1.1343</td>\n",
       "      <td>False</td>\n",
       "      <td>False</td>\n",
       "      <td>False</td>\n",
       "      <td>&lt;NA&gt;</td>\n",
       "      <td>win</td>\n",
       "      <td>&lt;NA&gt;</td>\n",
       "      <td>&lt;NA&gt;</td>\n",
       "      <td>False</td>\n",
       "      <td>False</td>\n",
       "      <td>0.04905</td>\n",
       "      <td>False</td>\n",
       "      <td>False</td>\n",
       "      <td>1.156904</td>\n",
       "      <td>True</td>\n",
       "      <td>False</td>\n",
       "      <td>2.0</td>\n",
       "      <td>False</td>\n",
       "      <td>True</td>\n",
       "      <td>9.810000</td>\n",
       "      <td>&lt;NA&gt;</td>\n",
       "      <td>&lt;NA&gt;</td>\n",
       "      <td>False</td>\n",
       "      <td>test_account</td>\n",
       "      <td>be_after_1r</td>\n",
       "      <td>2025-02-23 05:29:11.449141101</td>\n",
       "      <td>1.1293</td>\n",
       "      <td>False</td>\n",
       "      <td>&lt;NA&gt;</td>\n",
       "      <td>NaN</td>\n",
       "      <td>0.022604</td>\n",
       "      <td>False</td>\n",
       "      <td>False</td>\n",
       "      <td>False</td>\n",
       "      <td>False</td>\n",
       "      <td>False</td>\n",
       "      <td>False</td>\n",
       "      <td>0.022604</td>\n",
       "      <td>False</td>\n",
       "      <td>False</td>\n",
       "      <td>&lt;NA&gt;</td>\n",
       "      <td>NaN</td>\n",
       "      <td>NaN</td>\n",
       "      <td>tokyo</td>\n",
       "      <td>&lt;NA&gt;</td>\n",
       "      <td>True</td>\n",
       "      <td>&lt;NA&gt;</td>\n",
       "      <td>False</td>\n",
       "      <td>False</td>\n",
       "      <td>False</td>\n",
       "      <td>True</td>\n",
       "      <td>None</td>\n",
       "      <td>&lt;NA&gt;</td>\n",
       "      <td>0.005</td>\n",
       "      <td>long</td>\n",
       "      <td>False</td>\n",
       "      <td>True</td>\n",
       "      <td>1.18335</td>\n",
       "      <td>False</td>\n",
       "      <td>False</td>\n",
       "      <td>True</td>\n",
       "      <td>True</td>\n",
       "      <td>False</td>\n",
       "      <td>False</td>\n",
       "      <td>False</td>\n",
       "      <td>False</td>\n",
       "      <td>True</td>\n",
       "    </tr>\n",
       "    <tr>\n",
       "      <th>10</th>\n",
       "      <td>2</td>\n",
       "      <td>27.822006</td>\n",
       "      <td>2914.0300</td>\n",
       "      <td>False</td>\n",
       "      <td>False</td>\n",
       "      <td>False</td>\n",
       "      <td>&lt;NA&gt;</td>\n",
       "      <td>NaN</td>\n",
       "      <td>&lt;NA&gt;</td>\n",
       "      <td>&lt;NA&gt;</td>\n",
       "      <td>False</td>\n",
       "      <td>False</td>\n",
       "      <td>NaN</td>\n",
       "      <td>False</td>\n",
       "      <td>False</td>\n",
       "      <td>3000.000000</td>\n",
       "      <td>&lt;NA&gt;</td>\n",
       "      <td>False</td>\n",
       "      <td>NaN</td>\n",
       "      <td>False</td>\n",
       "      <td>False</td>\n",
       "      <td>NaN</td>\n",
       "      <td>&lt;NA&gt;</td>\n",
       "      <td>&lt;NA&gt;</td>\n",
       "      <td>False</td>\n",
       "      <td>mt5_vantage</td>\n",
       "      <td>no_management</td>\n",
       "      <td>2025-02-18 14:10:00.000000000</td>\n",
       "      <td>2910.9400</td>\n",
       "      <td>False</td>\n",
       "      <td>True</td>\n",
       "      <td>NaN</td>\n",
       "      <td>85.970000</td>\n",
       "      <td>False</td>\n",
       "      <td>False</td>\n",
       "      <td>False</td>\n",
       "      <td>False</td>\n",
       "      <td>False</td>\n",
       "      <td>False</td>\n",
       "      <td>85.970000</td>\n",
       "      <td>False</td>\n",
       "      <td>False</td>\n",
       "      <td>&lt;NA&gt;</td>\n",
       "      <td>NaN</td>\n",
       "      <td>NaN</td>\n",
       "      <td>new_york</td>\n",
       "      <td>&lt;NA&gt;</td>\n",
       "      <td>False</td>\n",
       "      <td>&lt;NA&gt;</td>\n",
       "      <td>False</td>\n",
       "      <td>False</td>\n",
       "      <td>False</td>\n",
       "      <td>False</td>\n",
       "      <td>None</td>\n",
       "      <td>&lt;NA&gt;</td>\n",
       "      <td>3.090</td>\n",
       "      <td>long</td>\n",
       "      <td>False</td>\n",
       "      <td>&lt;NA&gt;</td>\n",
       "      <td>NaN</td>\n",
       "      <td>False</td>\n",
       "      <td>False</td>\n",
       "      <td>False</td>\n",
       "      <td>False</td>\n",
       "      <td>False</td>\n",
       "      <td>True</td>\n",
       "      <td>False</td>\n",
       "      <td>False</td>\n",
       "      <td>False</td>\n",
       "    </tr>\n",
       "    <tr>\n",
       "      <th>11</th>\n",
       "      <td>4</td>\n",
       "      <td>4.025187</td>\n",
       "      <td>22164.4000</td>\n",
       "      <td>False</td>\n",
       "      <td>True</td>\n",
       "      <td>False</td>\n",
       "      <td>False</td>\n",
       "      <td>NaN</td>\n",
       "      <td>False</td>\n",
       "      <td>False</td>\n",
       "      <td>False</td>\n",
       "      <td>False</td>\n",
       "      <td>-59.13000</td>\n",
       "      <td>False</td>\n",
       "      <td>False</td>\n",
       "      <td>22105.270000</td>\n",
       "      <td>&lt;NA&gt;</td>\n",
       "      <td>False</td>\n",
       "      <td>5.0</td>\n",
       "      <td>False</td>\n",
       "      <td>False</td>\n",
       "      <td>4.025187</td>\n",
       "      <td>False</td>\n",
       "      <td>False</td>\n",
       "      <td>False</td>\n",
       "      <td>ideal</td>\n",
       "      <td>be_after_push</td>\n",
       "      <td>2025-02-22 15:11:00.000000000</td>\n",
       "      <td>22179.0900</td>\n",
       "      <td>False</td>\n",
       "      <td>&lt;NA&gt;</td>\n",
       "      <td>-564.4</td>\n",
       "      <td>-59.130000</td>\n",
       "      <td>False</td>\n",
       "      <td>False</td>\n",
       "      <td>False</td>\n",
       "      <td>False</td>\n",
       "      <td>False</td>\n",
       "      <td>False</td>\n",
       "      <td>-59.130000</td>\n",
       "      <td>False</td>\n",
       "      <td>True</td>\n",
       "      <td>True</td>\n",
       "      <td>21600.0</td>\n",
       "      <td>38.420694</td>\n",
       "      <td>new_york</td>\n",
       "      <td>True</td>\n",
       "      <td>False</td>\n",
       "      <td>True</td>\n",
       "      <td>False</td>\n",
       "      <td>False</td>\n",
       "      <td>False</td>\n",
       "      <td>False</td>\n",
       "      <td>(poi_1h_liquidity_grab, poi_1h_sc, poi_1m_sc)</td>\n",
       "      <td>False</td>\n",
       "      <td>-14.690</td>\n",
       "      <td>short</td>\n",
       "      <td>False</td>\n",
       "      <td>True</td>\n",
       "      <td>22105.27000</td>\n",
       "      <td>True</td>\n",
       "      <td>False</td>\n",
       "      <td>True</td>\n",
       "      <td>False</td>\n",
       "      <td>True</td>\n",
       "      <td>False</td>\n",
       "      <td>False</td>\n",
       "      <td>False</td>\n",
       "      <td>False</td>\n",
       "    </tr>\n",
       "  </tbody>\n",
       "</table>\n",
       "</div>"
      ],
      "text/plain": [
       "   trade_uid  initial_risk_reward  entry_price  type_2_m15  type_1_m5  \\\n",
       "0       1005             4.644407       1.1204       False      False   \n",
       "1       1006             9.885333       1.1347        True      False   \n",
       "2       1007             6.497983       1.1242       False      False   \n",
       "3       1008             3.195198       1.1345       False       True   \n",
       "4       1009             8.875786       1.1132       False      False   \n",
       "5       1010             1.824689       1.1335       False      False   \n",
       "6       1011             8.890933       1.1128       False      False   \n",
       "7       1012             1.741357       1.1280       False      False   \n",
       "8       1013             3.992825       1.1249       False      False   \n",
       "9       1014             4.520885       1.1343       False      False   \n",
       "10         2            27.822006    2914.0300       False      False   \n",
       "11         4             4.025187   22164.4000       False       True   \n",
       "\n",
       "    type_3_w  poi_15m_sc outcome  poi_15m_mitigation  poi_1m_liquidity_grab  \\\n",
       "0      False        <NA>    loss                <NA>                   <NA>   \n",
       "1      False        <NA>     win                <NA>                   <NA>   \n",
       "2      False        <NA>      be                <NA>                   <NA>   \n",
       "3      False        <NA>     win                <NA>                   <NA>   \n",
       "4      False        <NA>    loss                <NA>                   <NA>   \n",
       "5      False        <NA>    loss                <NA>                   <NA>   \n",
       "6       True        <NA>    loss                <NA>                   <NA>   \n",
       "7      False        <NA>     win                <NA>                   <NA>   \n",
       "8      False        <NA>    loss                <NA>                   <NA>   \n",
       "9      False        <NA>     win                <NA>                   <NA>   \n",
       "10     False        <NA>     NaN                <NA>                   <NA>   \n",
       "11     False       False     NaN               False                  False   \n",
       "\n",
       "    type_1_m30  type_1_h4    return  type_3_d  type_3_h4      tp_price  \\\n",
       "0        False      False   0.00525     False      False      1.097178   \n",
       "1        False      False  -0.03525     False      False      1.085273   \n",
       "2        False      False   0.00025     False      False      1.091710   \n",
       "3        False      False  -0.04350     False      False      1.118524   \n",
       "4        False      False   0.00385     False      False      1.068821   \n",
       "5        False      False   0.00510     False      False      1.124377   \n",
       "6        False      False  -0.00120     False      False      1.157255   \n",
       "7         True      False  -0.02430     False      False      1.119293   \n",
       "8        False      False  -0.00675     False      False      1.144864   \n",
       "9        False      False   0.04905     False      False      1.156904   \n",
       "10       False      False       NaN     False      False   3000.000000   \n",
       "11       False      False -59.13000     False      False  22105.270000   \n",
       "\n",
       "    unit_test  type_1_d  numerical_confidence  type_2_m1  type_2_m5        rr  \\\n",
       "0        True      True                   5.0      False      False -1.050000   \n",
       "1        True     False                   1.0      False      False  7.050000   \n",
       "2        True     False                   1.0      False      False -0.050000   \n",
       "3        True     False                   2.0      False      False  8.700000   \n",
       "4        True     False                   1.0      False      False -0.770000   \n",
       "5        True     False                   2.0      False      False -1.020000   \n",
       "6        True     False                   5.0      False      False -0.240000   \n",
       "7        True     False                   2.0      False      False  4.860000   \n",
       "8        True     False                   1.0      False       True -1.350000   \n",
       "9        True     False                   2.0      False       True  9.810000   \n",
       "10       <NA>     False                   NaN      False      False       NaN   \n",
       "11       <NA>     False                   5.0      False      False  4.025187   \n",
       "\n",
       "    poi_1h_mitigation  poi_1m_mitigation  type_1_w       account  \\\n",
       "0                <NA>               <NA>     False  test_account   \n",
       "1                <NA>               <NA>     False  test_account   \n",
       "2                <NA>               <NA>      True  test_account   \n",
       "3                <NA>               <NA>     False  test_account   \n",
       "4                <NA>               <NA>     False  test_account   \n",
       "5                <NA>               <NA>     False  test_account   \n",
       "6                <NA>               <NA>     False  test_account   \n",
       "7                <NA>               <NA>     False  test_account   \n",
       "8                <NA>               <NA>     False  test_account   \n",
       "9                <NA>               <NA>     False  test_account   \n",
       "10               <NA>               <NA>     False   mt5_vantage   \n",
       "11              False              False     False         ideal   \n",
       "\n",
       "   management_strategy                    entry_time    sl_price  type_3_m5  \\\n",
       "0          be_after_1r 2025-02-15 06:20:11.869262705      1.1254      False   \n",
       "1        be_after_push 2025-02-13 06:00:30.030270186      1.1397       True   \n",
       "2        no_management 2025-02-18 07:34:28.867189251      1.1292       True   \n",
       "3          be_after_1r 2025-03-05 07:07:42.801306061      1.1395      False   \n",
       "4        be_after_push 2025-02-21 07:12:31.963838975      1.1182       True   \n",
       "5          be_after_1r 2025-02-13 06:38:36.944399655      1.1385      False   \n",
       "6          be_after_1r 2025-03-02 06:34:15.293149438      1.1078      False   \n",
       "7        no_management 2025-03-03 06:07:59.938551714      1.1330      False   \n",
       "8        no_management 2025-03-03 06:47:02.469978317      1.1199      False   \n",
       "9          be_after_1r 2025-02-23 05:29:11.449141101      1.1293      False   \n",
       "10       no_management 2025-02-18 14:10:00.000000000   2910.9400      False   \n",
       "11       be_after_push 2025-02-22 15:11:00.000000000  22179.0900      False   \n",
       "\n",
       "    taken  potential_return  TP_distance  type_3_h1  type_2_d  type_3_M  \\\n",
       "0    <NA>               NaN    -0.023222      False      True     False   \n",
       "1    <NA>               NaN    -0.049427      False     False     False   \n",
       "2    <NA>               NaN    -0.032490      False     False     False   \n",
       "3    <NA>               NaN    -0.015976      False      True     False   \n",
       "4    <NA>               NaN    -0.044379      False     False     False   \n",
       "5    <NA>               NaN    -0.009123      False     False      True   \n",
       "6    <NA>               NaN     0.044455      False     False     False   \n",
       "7    <NA>               NaN    -0.008707       True      True     False   \n",
       "8    <NA>               NaN     0.019964      False     False     False   \n",
       "9    <NA>               NaN     0.022604      False     False     False   \n",
       "10   True               NaN    85.970000      False     False     False   \n",
       "11   <NA>            -564.4   -59.130000      False     False     False   \n",
       "\n",
       "    type_1_M  type_3_m15  type_2_h4  initial_return  type_1_h1  type_3_m1  \\\n",
       "0      False       False      False       -0.023222      False       True   \n",
       "1      False       False      False       -0.049427       True      False   \n",
       "2      False       False      False       -0.032490      False      False   \n",
       "3      False       False      False       -0.015976      False       True   \n",
       "4       True       False      False       -0.044379      False      False   \n",
       "5       True       False      False       -0.009123      False      False   \n",
       "6      False       False      False        0.044455      False      False   \n",
       "7      False       False      False       -0.008707      False      False   \n",
       "8      False       False      False        0.019964       True      False   \n",
       "9      False       False      False        0.022604      False      False   \n",
       "10     False       False      False       85.970000      False      False   \n",
       "11     False       False      False      -59.130000      False       True   \n",
       "\n",
       "    poi_1h_liquidity_grab  potential_price  potential_risk_reward   session  \\\n",
       "0                    <NA>              NaN                    NaN     tokyo   \n",
       "1                    <NA>              NaN                    NaN     tokyo   \n",
       "2                    <NA>              NaN                    NaN    london   \n",
       "3                    <NA>              NaN                    NaN    london   \n",
       "4                    <NA>              NaN                    NaN    london   \n",
       "5                    <NA>              NaN                    NaN     tokyo   \n",
       "6                    <NA>              NaN                    NaN     tokyo   \n",
       "7                    <NA>              NaN                    NaN     tokyo   \n",
       "8                    <NA>              NaN                    NaN     tokyo   \n",
       "9                    <NA>              NaN                    NaN     tokyo   \n",
       "10                   <NA>              NaN                    NaN  new_york   \n",
       "11                   True          21600.0              38.420694  new_york   \n",
       "\n",
       "    poi_1h_sc  type_3_m30  poi_1m_sc  type_2_m30  type_2_w  type_2_M  \\\n",
       "0        <NA>       False       <NA>       False     False     False   \n",
       "1        <NA>       False       <NA>       False     False     False   \n",
       "2        <NA>       False       <NA>       False     False      True   \n",
       "3        <NA>       False       <NA>       False     False     False   \n",
       "4        <NA>       False       <NA>       False      True     False   \n",
       "5        <NA>       False       <NA>        True     False     False   \n",
       "6        <NA>       False       <NA>       False     False     False   \n",
       "7        <NA>       False       <NA>       False     False     False   \n",
       "8        <NA>        True       <NA>       False     False     False   \n",
       "9        <NA>        True       <NA>       False     False     False   \n",
       "10       <NA>       False       <NA>       False     False     False   \n",
       "11       True       False       True       False     False     False   \n",
       "\n",
       "    type_1_m1                                            poi  \\\n",
       "0       False                                           None   \n",
       "1       False                                           None   \n",
       "2       False                                           None   \n",
       "3       False                                           None   \n",
       "4       False                                           None   \n",
       "5       False                                           None   \n",
       "6        True                                           None   \n",
       "7       False                                           None   \n",
       "8       False                                           None   \n",
       "9        True                                           None   \n",
       "10      False                                           None   \n",
       "11      False  (poi_1h_liquidity_grab, poi_1h_sc, poi_1m_sc)   \n",
       "\n",
       "    poi_15m_liquidity_grab  SL_distance   side  type_2_h1  \\\n",
       "0                     <NA>       -0.005  short      False   \n",
       "1                     <NA>       -0.005  short      False   \n",
       "2                     <NA>       -0.005  short      False   \n",
       "3                     <NA>       -0.005  short      False   \n",
       "4                     <NA>       -0.005  short      False   \n",
       "5                     <NA>       -0.005  short      False   \n",
       "6                     <NA>        0.005   long       True   \n",
       "7                     <NA>       -0.005  short      False   \n",
       "8                     <NA>        0.005   long      False   \n",
       "9                     <NA>        0.005   long      False   \n",
       "10                    <NA>        3.090   long      False   \n",
       "11                   False      -14.690  short      False   \n",
       "\n",
       "   htf_poi_ltf_confirmation  close_price  type_1_m15  \\\n",
       "0                      True      1.12565       False   \n",
       "1                      True      1.09945       False   \n",
       "2                     False      1.12445       False   \n",
       "3                      True      1.09100       False   \n",
       "4                     False      1.11705       False   \n",
       "5                      True      1.13860       False   \n",
       "6                     False      1.11160       False   \n",
       "7                      True      1.10370       False   \n",
       "8                      True      1.11815       False   \n",
       "9                      True      1.18335       False   \n",
       "10                     <NA>          NaN       False   \n",
       "11                     True  22105.27000        True   \n",
       "\n",
       "    htf_poi_ltf_confirmation_False  htf_poi_ltf_confirmation_True  \\\n",
       "0                            False                           True   \n",
       "1                            False                           True   \n",
       "2                             True                          False   \n",
       "3                            False                           True   \n",
       "4                             True                          False   \n",
       "5                            False                           True   \n",
       "6                             True                          False   \n",
       "7                            False                           True   \n",
       "8                            False                           True   \n",
       "9                            False                           True   \n",
       "10                           False                          False   \n",
       "11                           False                           True   \n",
       "\n",
       "    management_strategy_be_after_1r  management_strategy_be_after_push  \\\n",
       "0                              True                              False   \n",
       "1                             False                               True   \n",
       "2                             False                              False   \n",
       "3                              True                              False   \n",
       "4                             False                               True   \n",
       "5                              True                              False   \n",
       "6                              True                              False   \n",
       "7                             False                              False   \n",
       "8                             False                              False   \n",
       "9                              True                              False   \n",
       "10                            False                              False   \n",
       "11                            False                               True   \n",
       "\n",
       "    management_strategy_no_management  outcome_be  outcome_loss  outcome_win  \n",
       "0                               False       False          True        False  \n",
       "1                               False       False         False         True  \n",
       "2                                True        True         False        False  \n",
       "3                               False       False         False         True  \n",
       "4                               False       False          True        False  \n",
       "5                               False       False          True        False  \n",
       "6                               False       False          True        False  \n",
       "7                                True       False         False         True  \n",
       "8                                True       False          True        False  \n",
       "9                               False       False         False         True  \n",
       "10                               True       False         False        False  \n",
       "11                              False       False         False        False  "
      ]
     },
     "execution_count": 154,
     "metadata": {},
     "output_type": "execute_result"
    }
   ],
   "source": [
    "df"
   ]
  },
  {
   "cell_type": "code",
   "execution_count": null,
   "metadata": {},
   "outputs": [
    {
     "name": "stdout",
     "output_type": "stream",
     "text": [
      "['type_2_m15', 'type_1_m5', 'type_1_h4', 'type_1_m30', 'type_3_d', 'type_3_h4', 'type_2_m1', 'type_1_d', 'type_3_m5', 'type_3_h1', 'type_1_M', 'type_3_m15', 'type_3_m1', 'type_3_m30', 'type_2_m30', 'type_2_M', 'type_2_h1', 'type_1_m15']\n"
     ]
    },
    {
     "name": "stderr",
     "output_type": "stream",
     "text": [
      "/Users/tobiaspucher/Library/CloudStorage/OneDrive-Personal/2025/trade_journal/src/analysis.py:374: UserWarning: set_ticklabels() should only be used with a fixed number of ticks, i.e. after set_ticks() or using a FixedLocator.\n",
      "  ax.set_ylabel(\"Count\")\n",
      "/Users/tobiaspucher/Library/CloudStorage/OneDrive-Personal/2025/trade_journal/src/analysis.py:374: UserWarning: set_ticklabels() should only be used with a fixed number of ticks, i.e. after set_ticks() or using a FixedLocator.\n",
      "  ax.set_ylabel(\"Count\")\n"
     ]
    },
    {
     "data": {
      "image/png": "[encoded data removed]",
      "text/plain": [
       "<Figure size 1500x500 with 2 Axes>"
      ]
     },
     "metadata": {},
     "output_type": "display_data"
    }
   ],
   "source": [
    "from analysis import *\n",
    "import analysis\n",
    "\n",
    "\n",
    "df=jr.j.to_dataframe().copy()\n",
    " \n",
    "# filter only rows that:\n",
    "# - have a non- test account ACC_TEST\n",
    "def prepare_data(df:pd.DataFrame):\n",
    "    #return df[~df['account'].str.contains('test')]\n",
    "    return df[(df['account'] != ACC_TEST) & (True)]\n",
    "\n",
    "#df = prepare_data(df)\n",
    "\n",
    "type_X_cols = jr.PA.used_tags_in_df(df)\n",
    "\n",
    "print(type_X_cols)\n",
    "\n",
    "analysis.plot_column_distributions(df, ['type_2_m15', 'type_1_m5'])\n",
    "\n"
   ]
  },
  {
   "cell_type": "code",
   "execution_count": 90,
   "metadata": {},
   "outputs": [
    {
     "data": {
      "image/png": "[encoded data removed]",
      "text/plain": [
       "<Figure size 4000x1000 with 2 Axes>"
      ]
     },
     "metadata": {},
     "output_type": "display_data"
    },
    {
     "data": {
      "image/png": "[encoded data removed]",
      "text/plain": [
       "<Figure size 1100x850 with 13 Axes>"
      ]
     },
     "metadata": {},
     "output_type": "display_data"
    }
   ],
   "source": [
    "analysis.plot_calendar_calplot(df)\n",
    "analysis.plot_calendar_calendarplot(df)"
   ]
  },
  {
   "cell_type": "markdown",
   "metadata": {},
   "source": [
    "# Tags Analysis"
   ]
  },
  {
   "cell_type": "code",
   "execution_count": null,
   "metadata": {},
   "outputs": [
    {
     "name": "stderr",
     "output_type": "stream",
     "text": [
      "[I 2025-02-19 14:30:42,168] A new study created in memory with name: default_1\n"
     ]
    },
    {
     "data": {
      "application/vnd.jupyter.widget-view+json": {
       "model_id": "c7c3de804c4a4e6081debb94bb91a7fd",
       "version_major": 2,
       "version_minor": 0
      },
      "text/plain": [
       "  0%|          | 0/100 [00:00<?, ?it/s]"
      ]
     },
     "metadata": {},
     "output_type": "display_data"
    },
    {
     "name": "stdout",
     "output_type": "stream",
     "text": [
      "[I 2025-02-19 14:30:42,177] Trial 0 finished with value: -0.0012000000000000899 and parameters: {'include_type_1_m5': True, 'value_type_1_m5': False, 'include_type_2_m5': True, 'value_type_2_m5': False, 'include_type_3_m5': True, 'value_type_3_m5': False, 'include_htf_poi_ltf_confirmation': True, 'value_htf_poi_ltf_confirmation': False}. Best is trial 0 with value: -0.0012000000000000899.\n",
      "[I 2025-02-19 14:30:42,179] Trial 1 finished with value: -inf and parameters: {'include_type_1_m5': True, 'value_type_1_m5': False, 'include_type_2_m5': True, 'value_type_2_m5': True, 'include_type_3_m5': True, 'value_type_3_m5': True, 'include_htf_poi_ltf_confirmation': False}. Best is trial 0 with value: -0.0012000000000000899.\n",
      "[I 2025-02-19 14:30:42,181] Trial 2 finished with value: -0.010383333333333336 and parameters: {'include_type_1_m5': False, 'include_type_2_m5': True, 'value_type_2_m5': False, 'include_type_3_m5': True, 'value_type_3_m5': True, 'include_htf_poi_ltf_confirmation': False}. Best is trial 0 with value: -0.0012000000000000899.\n",
      "[I 2025-02-19 14:30:42,186] Trial 3 finished with value: -0.0011499999999999844 and parameters: {'include_type_1_m5': True, 'value_type_1_m5': False, 'include_type_2_m5': False, 'include_type_3_m5': False, 'include_htf_poi_ltf_confirmation': True, 'value_htf_poi_ltf_confirmation': True}. Best is trial 3 with value: -0.0011499999999999844.\n",
      "[I 2025-02-19 14:30:42,189] Trial 4 finished with value: -0.043500000000000094 and parameters: {'include_type_1_m5': True, 'value_type_1_m5': True, 'include_type_2_m5': False, 'include_type_3_m5': True, 'value_type_3_m5': False, 'include_htf_poi_ltf_confirmation': False}. Best is trial 3 with value: -0.0011499999999999844.\n",
      "[I 2025-02-19 14:30:42,192] Trial 5 finished with value: -0.011225000000000013 and parameters: {'include_type_1_m5': False, 'include_type_2_m5': True, 'value_type_2_m5': False, 'include_type_3_m5': False, 'include_htf_poi_ltf_confirmation': False}. Best is trial 3 with value: -0.0011499999999999844.\n",
      "[I 2025-02-19 14:30:42,194] Trial 6 finished with value: -0.00044444444444444485 and parameters: {'include_type_1_m5': True, 'value_type_1_m5': False, 'include_type_2_m5': False, 'include_type_3_m5': False, 'include_htf_poi_ltf_confirmation': False}. Best is trial 6 with value: -0.00044444444444444485.\n",
      "[I 2025-02-19 14:30:42,197] Trial 7 finished with value: -0.0012000000000000899 and parameters: {'include_type_1_m5': False, 'include_type_2_m5': False, 'include_type_3_m5': True, 'value_type_3_m5': False, 'include_htf_poi_ltf_confirmation': True, 'value_htf_poi_ltf_confirmation': False}. Best is trial 6 with value: -0.00044444444444444485.\n",
      "[I 2025-02-19 14:30:42,198] Trial 8 finished with value: -0.002335714285714298 and parameters: {'include_type_1_m5': False, 'include_type_2_m5': False, 'include_type_3_m5': True, 'value_type_3_m5': False, 'include_htf_poi_ltf_confirmation': False}. Best is trial 6 with value: -0.00044444444444444485.\n",
      "[I 2025-02-19 14:30:42,202] Trial 9 finished with value: -0.011225000000000013 and parameters: {'include_type_1_m5': False, 'include_type_2_m5': True, 'value_type_2_m5': False, 'include_type_3_m5': False, 'include_htf_poi_ltf_confirmation': False}. Best is trial 6 with value: -0.00044444444444444485.\n",
      "[I 2025-02-19 14:30:42,208] Trial 10 finished with value: -0.043500000000000094 and parameters: {'include_type_1_m5': True, 'value_type_1_m5': True, 'include_type_2_m5': False, 'include_type_3_m5': False, 'include_htf_poi_ltf_confirmation': True, 'value_htf_poi_ltf_confirmation': True}. Best is trial 6 with value: -0.00044444444444444485.\n",
      "[I 2025-02-19 14:30:42,212] Trial 11 finished with value: -0.0011499999999999844 and parameters: {'include_type_1_m5': True, 'value_type_1_m5': False, 'include_type_2_m5': False, 'include_type_3_m5': False, 'include_htf_poi_ltf_confirmation': True, 'value_htf_poi_ltf_confirmation': True}. Best is trial 6 with value: -0.00044444444444444485.\n",
      "[I 2025-02-19 14:30:42,216] Trial 12 finished with value: -0.0011499999999999844 and parameters: {'include_type_1_m5': True, 'value_type_1_m5': False, 'include_type_2_m5': False, 'include_type_3_m5': False, 'include_htf_poi_ltf_confirmation': True, 'value_htf_poi_ltf_confirmation': True}. Best is trial 6 with value: -0.00044444444444444485.\n",
      "[I 2025-02-19 14:30:42,221] Trial 13 finished with value: -0.0011499999999999844 and parameters: {'include_type_1_m5': True, 'value_type_1_m5': False, 'include_type_2_m5': False, 'include_type_3_m5': False, 'include_htf_poi_ltf_confirmation': True, 'value_htf_poi_ltf_confirmation': True}. Best is trial 6 with value: -0.00044444444444444485.\n",
      "[I 2025-02-19 14:30:42,224] Trial 14 finished with value: -0.00044444444444444485 and parameters: {'include_type_1_m5': True, 'value_type_1_m5': False, 'include_type_2_m5': False, 'include_type_3_m5': False, 'include_htf_poi_ltf_confirmation': False}. Best is trial 6 with value: -0.00044444444444444485.\n",
      "[I 2025-02-19 14:30:42,228] Trial 15 finished with value: -0.00044444444444444485 and parameters: {'include_type_1_m5': True, 'value_type_1_m5': False, 'include_type_2_m5': False, 'include_type_3_m5': False, 'include_htf_poi_ltf_confirmation': False}. Best is trial 6 with value: -0.00044444444444444485.\n",
      "[I 2025-02-19 14:30:42,232] Trial 16 finished with value: -0.043500000000000094 and parameters: {'include_type_1_m5': True, 'value_type_1_m5': True, 'include_type_2_m5': False, 'include_type_3_m5': False, 'include_htf_poi_ltf_confirmation': False}. Best is trial 6 with value: -0.00044444444444444485.\n",
      "[I 2025-02-19 14:30:42,236] Trial 17 finished with value: -0.00044444444444444485 and parameters: {'include_type_1_m5': True, 'value_type_1_m5': False, 'include_type_2_m5': False, 'include_type_3_m5': False, 'include_htf_poi_ltf_confirmation': False}. Best is trial 6 with value: -0.00044444444444444485.\n",
      "[I 2025-02-19 14:30:42,242] Trial 18 finished with value: -0.00044444444444444485 and parameters: {'include_type_1_m5': True, 'value_type_1_m5': False, 'include_type_2_m5': False, 'include_type_3_m5': False, 'include_htf_poi_ltf_confirmation': False}. Best is trial 6 with value: -0.00044444444444444485.\n",
      "[I 2025-02-19 14:30:42,297] Trial 19 finished with value: -0.043500000000000094 and parameters: {'include_type_1_m5': True, 'value_type_1_m5': True, 'include_type_2_m5': False, 'include_type_3_m5': False, 'include_htf_poi_ltf_confirmation': False}. Best is trial 6 with value: -0.00044444444444444485.\n",
      "[I 2025-02-19 14:30:42,306] Trial 20 finished with value: -0.00044444444444444485 and parameters: {'include_type_1_m5': True, 'value_type_1_m5': False, 'include_type_2_m5': False, 'include_type_3_m5': False, 'include_htf_poi_ltf_confirmation': False}. Best is trial 6 with value: -0.00044444444444444485.\n",
      "[I 2025-02-19 14:30:42,315] Trial 21 finished with value: -0.00044444444444444485 and parameters: {'include_type_1_m5': True, 'value_type_1_m5': False, 'include_type_2_m5': False, 'include_type_3_m5': False, 'include_htf_poi_ltf_confirmation': False}. Best is trial 6 with value: -0.00044444444444444485.\n",
      "[I 2025-02-19 14:30:42,320] Trial 22 finished with value: -0.00044444444444444485 and parameters: {'include_type_1_m5': True, 'value_type_1_m5': False, 'include_type_2_m5': False, 'include_type_3_m5': False, 'include_htf_poi_ltf_confirmation': False}. Best is trial 6 with value: -0.00044444444444444485.\n",
      "[I 2025-02-19 14:30:42,324] Trial 23 finished with value: -0.00044444444444444485 and parameters: {'include_type_1_m5': True, 'value_type_1_m5': False, 'include_type_2_m5': False, 'include_type_3_m5': False, 'include_htf_poi_ltf_confirmation': False}. Best is trial 6 with value: -0.00044444444444444485.\n",
      "[I 2025-02-19 14:30:42,329] Trial 24 finished with value: -0.00044444444444444485 and parameters: {'include_type_1_m5': True, 'value_type_1_m5': False, 'include_type_2_m5': False, 'include_type_3_m5': False, 'include_htf_poi_ltf_confirmation': False}. Best is trial 6 with value: -0.00044444444444444485.\n",
      "[I 2025-02-19 14:30:42,335] Trial 25 finished with value: -0.00044444444444444485 and parameters: {'include_type_1_m5': True, 'value_type_1_m5': False, 'include_type_2_m5': False, 'include_type_3_m5': False, 'include_htf_poi_ltf_confirmation': False}. Best is trial 6 with value: -0.00044444444444444485.\n",
      "[I 2025-02-19 14:30:42,339] Trial 26 finished with value: 0.021150000000000002 and parameters: {'include_type_1_m5': False, 'include_type_2_m5': True, 'value_type_2_m5': True, 'include_type_3_m5': False, 'include_htf_poi_ltf_confirmation': False}. Best is trial 26 with value: 0.021150000000000002.\n",
      "[I 2025-02-19 14:30:42,344] Trial 27 finished with value: 0.021150000000000002 and parameters: {'include_type_1_m5': False, 'include_type_2_m5': True, 'value_type_2_m5': True, 'include_type_3_m5': False, 'include_htf_poi_ltf_confirmation': False}. Best is trial 26 with value: 0.021150000000000002.\n",
      "[I 2025-02-19 14:30:42,348] Trial 28 finished with value: 0.021150000000000002 and parameters: {'include_type_1_m5': False, 'include_type_2_m5': True, 'value_type_2_m5': True, 'include_type_3_m5': False, 'include_htf_poi_ltf_confirmation': False}. Best is trial 26 with value: 0.021150000000000002.\n",
      "[I 2025-02-19 14:30:42,352] Trial 29 finished with value: -inf and parameters: {'include_type_1_m5': False, 'include_type_2_m5': True, 'value_type_2_m5': True, 'include_type_3_m5': True, 'value_type_3_m5': True, 'include_htf_poi_ltf_confirmation': False}. Best is trial 26 with value: 0.021150000000000002.\n",
      "[I 2025-02-19 14:30:42,356] Trial 30 finished with value: 0.021150000000000002 and parameters: {'include_type_1_m5': False, 'include_type_2_m5': True, 'value_type_2_m5': True, 'include_type_3_m5': False, 'include_htf_poi_ltf_confirmation': False}. Best is trial 26 with value: 0.021150000000000002.\n",
      "[I 2025-02-19 14:30:42,359] Trial 31 finished with value: 0.021150000000000002 and parameters: {'include_type_1_m5': False, 'include_type_2_m5': True, 'value_type_2_m5': True, 'include_type_3_m5': False, 'include_htf_poi_ltf_confirmation': False}. Best is trial 26 with value: 0.021150000000000002.\n",
      "[I 2025-02-19 14:30:42,363] Trial 32 finished with value: 0.021150000000000002 and parameters: {'include_type_1_m5': False, 'include_type_2_m5': True, 'value_type_2_m5': True, 'include_type_3_m5': False, 'include_htf_poi_ltf_confirmation': False}. Best is trial 26 with value: 0.021150000000000002.\n",
      "[I 2025-02-19 14:30:42,367] Trial 33 finished with value: 0.021150000000000002 and parameters: {'include_type_1_m5': False, 'include_type_2_m5': True, 'value_type_2_m5': True, 'include_type_3_m5': False, 'include_htf_poi_ltf_confirmation': False}. Best is trial 26 with value: 0.021150000000000002.\n",
      "[I 2025-02-19 14:30:42,371] Trial 34 finished with value: -inf and parameters: {'include_type_1_m5': False, 'include_type_2_m5': True, 'value_type_2_m5': True, 'include_type_3_m5': True, 'value_type_3_m5': True, 'include_htf_poi_ltf_confirmation': False}. Best is trial 26 with value: 0.021150000000000002.\n",
      "[I 2025-02-19 14:30:42,374] Trial 35 finished with value: 0.021150000000000002 and parameters: {'include_type_1_m5': False, 'include_type_2_m5': True, 'value_type_2_m5': True, 'include_type_3_m5': False, 'include_htf_poi_ltf_confirmation': False}. Best is trial 26 with value: 0.021150000000000002.\n",
      "[I 2025-02-19 14:30:42,378] Trial 36 finished with value: 0.021150000000000002 and parameters: {'include_type_1_m5': False, 'include_type_2_m5': True, 'value_type_2_m5': True, 'include_type_3_m5': True, 'value_type_3_m5': False, 'include_htf_poi_ltf_confirmation': False}. Best is trial 26 with value: 0.021150000000000002.\n",
      "[I 2025-02-19 14:30:42,382] Trial 37 finished with value: 0.021150000000000002 and parameters: {'include_type_1_m5': False, 'include_type_2_m5': True, 'value_type_2_m5': True, 'include_type_3_m5': False, 'include_htf_poi_ltf_confirmation': False}. Best is trial 26 with value: 0.021150000000000002.\n",
      "[I 2025-02-19 14:30:42,387] Trial 38 finished with value: -inf and parameters: {'include_type_1_m5': False, 'include_type_2_m5': True, 'value_type_2_m5': True, 'include_type_3_m5': False, 'include_htf_poi_ltf_confirmation': True, 'value_htf_poi_ltf_confirmation': False}. Best is trial 26 with value: 0.021150000000000002.\n",
      "[I 2025-02-19 14:30:42,390] Trial 39 finished with value: -inf and parameters: {'include_type_1_m5': False, 'include_type_2_m5': True, 'value_type_2_m5': True, 'include_type_3_m5': True, 'value_type_3_m5': True, 'include_htf_poi_ltf_confirmation': False}. Best is trial 26 with value: 0.021150000000000002.\n",
      "[I 2025-02-19 14:30:42,395] Trial 40 finished with value: 0.021150000000000002 and parameters: {'include_type_1_m5': False, 'include_type_2_m5': True, 'value_type_2_m5': True, 'include_type_3_m5': False, 'include_htf_poi_ltf_confirmation': False}. Best is trial 26 with value: 0.021150000000000002.\n",
      "[I 2025-02-19 14:30:42,401] Trial 41 finished with value: 0.021150000000000002 and parameters: {'include_type_1_m5': False, 'include_type_2_m5': True, 'value_type_2_m5': True, 'include_type_3_m5': False, 'include_htf_poi_ltf_confirmation': False}. Best is trial 26 with value: 0.021150000000000002.\n",
      "[I 2025-02-19 14:30:42,406] Trial 42 finished with value: 0.021150000000000002 and parameters: {'include_type_1_m5': False, 'include_type_2_m5': True, 'value_type_2_m5': True, 'include_type_3_m5': False, 'include_htf_poi_ltf_confirmation': False}. Best is trial 26 with value: 0.021150000000000002.\n",
      "[I 2025-02-19 14:30:42,410] Trial 43 finished with value: 0.021150000000000002 and parameters: {'include_type_1_m5': False, 'include_type_2_m5': True, 'value_type_2_m5': True, 'include_type_3_m5': False, 'include_htf_poi_ltf_confirmation': False}. Best is trial 26 with value: 0.021150000000000002.\n",
      "[I 2025-02-19 14:30:42,413] Trial 44 finished with value: 0.021150000000000002 and parameters: {'include_type_1_m5': False, 'include_type_2_m5': True, 'value_type_2_m5': True, 'include_type_3_m5': False, 'include_htf_poi_ltf_confirmation': False}. Best is trial 26 with value: 0.021150000000000002.\n",
      "[I 2025-02-19 14:30:42,417] Trial 45 finished with value: -inf and parameters: {'include_type_1_m5': False, 'include_type_2_m5': True, 'value_type_2_m5': True, 'include_type_3_m5': False, 'include_htf_poi_ltf_confirmation': True, 'value_htf_poi_ltf_confirmation': False}. Best is trial 26 with value: 0.021150000000000002.\n",
      "[I 2025-02-19 14:30:42,423] Trial 46 finished with value: 0.021150000000000002 and parameters: {'include_type_1_m5': False, 'include_type_2_m5': True, 'value_type_2_m5': True, 'include_type_3_m5': False, 'include_htf_poi_ltf_confirmation': False}. Best is trial 26 with value: 0.021150000000000002.\n",
      "[I 2025-02-19 14:30:42,428] Trial 47 finished with value: 0.021150000000000002 and parameters: {'include_type_1_m5': False, 'include_type_2_m5': True, 'value_type_2_m5': True, 'include_type_3_m5': True, 'value_type_3_m5': False, 'include_htf_poi_ltf_confirmation': False}. Best is trial 26 with value: 0.021150000000000002.\n",
      "[I 2025-02-19 14:30:42,431] Trial 48 finished with value: -inf and parameters: {'include_type_1_m5': False, 'include_type_2_m5': True, 'value_type_2_m5': True, 'include_type_3_m5': False, 'include_htf_poi_ltf_confirmation': True, 'value_htf_poi_ltf_confirmation': False}. Best is trial 26 with value: 0.021150000000000002.\n",
      "[I 2025-02-19 14:30:42,436] Trial 49 finished with value: 0.021150000000000002 and parameters: {'include_type_1_m5': False, 'include_type_2_m5': True, 'value_type_2_m5': True, 'include_type_3_m5': False, 'include_htf_poi_ltf_confirmation': False}. Best is trial 26 with value: 0.021150000000000002.\n",
      "[I 2025-02-19 14:30:42,440] Trial 50 finished with value: 0.021150000000000002 and parameters: {'include_type_1_m5': False, 'include_type_2_m5': True, 'value_type_2_m5': True, 'include_type_3_m5': False, 'include_htf_poi_ltf_confirmation': False}. Best is trial 26 with value: 0.021150000000000002.\n",
      "[I 2025-02-19 14:30:42,443] Trial 51 finished with value: 0.021150000000000002 and parameters: {'include_type_1_m5': False, 'include_type_2_m5': True, 'value_type_2_m5': True, 'include_type_3_m5': False, 'include_htf_poi_ltf_confirmation': False}. Best is trial 26 with value: 0.021150000000000002.\n",
      "[I 2025-02-19 14:30:42,447] Trial 52 finished with value: 0.021150000000000002 and parameters: {'include_type_1_m5': False, 'include_type_2_m5': True, 'value_type_2_m5': True, 'include_type_3_m5': False, 'include_htf_poi_ltf_confirmation': False}. Best is trial 26 with value: 0.021150000000000002.\n",
      "[I 2025-02-19 14:30:42,452] Trial 53 finished with value: -0.011225000000000013 and parameters: {'include_type_1_m5': False, 'include_type_2_m5': True, 'value_type_2_m5': False, 'include_type_3_m5': False, 'include_htf_poi_ltf_confirmation': False}. Best is trial 26 with value: 0.021150000000000002.\n",
      "[I 2025-02-19 14:30:42,455] Trial 54 finished with value: 0.021150000000000002 and parameters: {'include_type_1_m5': False, 'include_type_2_m5': True, 'value_type_2_m5': True, 'include_type_3_m5': False, 'include_htf_poi_ltf_confirmation': False}. Best is trial 26 with value: 0.021150000000000002.\n",
      "[I 2025-02-19 14:30:42,487] Trial 55 finished with value: 0.021150000000000002 and parameters: {'include_type_1_m5': False, 'include_type_2_m5': True, 'value_type_2_m5': True, 'include_type_3_m5': False, 'include_htf_poi_ltf_confirmation': False}. Best is trial 26 with value: 0.021150000000000002.\n",
      "[I 2025-02-19 14:30:42,494] Trial 56 finished with value: 0.021150000000000002 and parameters: {'include_type_1_m5': False, 'include_type_2_m5': True, 'value_type_2_m5': True, 'include_type_3_m5': False, 'include_htf_poi_ltf_confirmation': True, 'value_htf_poi_ltf_confirmation': True}. Best is trial 26 with value: 0.021150000000000002.\n",
      "[I 2025-02-19 14:30:42,502] Trial 57 finished with value: -0.011225000000000013 and parameters: {'include_type_1_m5': False, 'include_type_2_m5': True, 'value_type_2_m5': False, 'include_type_3_m5': False, 'include_htf_poi_ltf_confirmation': False}. Best is trial 26 with value: 0.021150000000000002.\n",
      "[I 2025-02-19 14:30:42,505] Trial 58 finished with value: 0.021150000000000002 and parameters: {'include_type_1_m5': False, 'include_type_2_m5': True, 'value_type_2_m5': True, 'include_type_3_m5': False, 'include_htf_poi_ltf_confirmation': False}. Best is trial 26 with value: 0.021150000000000002.\n",
      "[I 2025-02-19 14:30:42,509] Trial 59 finished with value: -0.011225000000000013 and parameters: {'include_type_1_m5': False, 'include_type_2_m5': True, 'value_type_2_m5': False, 'include_type_3_m5': False, 'include_htf_poi_ltf_confirmation': False}. Best is trial 26 with value: 0.021150000000000002.\n",
      "[I 2025-02-19 14:30:42,513] Trial 60 finished with value: 0.021150000000000002 and parameters: {'include_type_1_m5': False, 'include_type_2_m5': True, 'value_type_2_m5': True, 'include_type_3_m5': False, 'include_htf_poi_ltf_confirmation': False}. Best is trial 26 with value: 0.021150000000000002.\n",
      "[I 2025-02-19 14:30:42,517] Trial 61 finished with value: 0.021150000000000002 and parameters: {'include_type_1_m5': False, 'include_type_2_m5': True, 'value_type_2_m5': True, 'include_type_3_m5': False, 'include_htf_poi_ltf_confirmation': False}. Best is trial 26 with value: 0.021150000000000002.\n",
      "[I 2025-02-19 14:30:42,521] Trial 62 finished with value: 0.021150000000000002 and parameters: {'include_type_1_m5': False, 'include_type_2_m5': True, 'value_type_2_m5': True, 'include_type_3_m5': False, 'include_htf_poi_ltf_confirmation': False}. Best is trial 26 with value: 0.021150000000000002.\n",
      "[I 2025-02-19 14:30:42,525] Trial 63 finished with value: 0.021150000000000002 and parameters: {'include_type_1_m5': False, 'include_type_2_m5': True, 'value_type_2_m5': True, 'include_type_3_m5': False, 'include_htf_poi_ltf_confirmation': False}. Best is trial 26 with value: 0.021150000000000002.\n",
      "[I 2025-02-19 14:30:42,528] Trial 64 finished with value: 0.021150000000000002 and parameters: {'include_type_1_m5': False, 'include_type_2_m5': True, 'value_type_2_m5': True, 'include_type_3_m5': False, 'include_htf_poi_ltf_confirmation': False}. Best is trial 26 with value: 0.021150000000000002.\n",
      "[I 2025-02-19 14:30:42,531] Trial 65 finished with value: -inf and parameters: {'include_type_1_m5': False, 'include_type_2_m5': True, 'value_type_2_m5': True, 'include_type_3_m5': True, 'value_type_3_m5': True, 'include_htf_poi_ltf_confirmation': False}. Best is trial 26 with value: 0.021150000000000002.\n",
      "[I 2025-02-19 14:30:42,535] Trial 66 finished with value: 0.021150000000000002 and parameters: {'include_type_1_m5': False, 'include_type_2_m5': True, 'value_type_2_m5': True, 'include_type_3_m5': False, 'include_htf_poi_ltf_confirmation': False}. Best is trial 26 with value: 0.021150000000000002.\n",
      "[I 2025-02-19 14:30:42,539] Trial 67 finished with value: -0.011225000000000013 and parameters: {'include_type_1_m5': False, 'include_type_2_m5': True, 'value_type_2_m5': False, 'include_type_3_m5': False, 'include_htf_poi_ltf_confirmation': False}. Best is trial 26 with value: 0.021150000000000002.\n",
      "[I 2025-02-19 14:30:42,543] Trial 68 finished with value: -inf and parameters: {'include_type_1_m5': False, 'include_type_2_m5': True, 'value_type_2_m5': True, 'include_type_3_m5': False, 'include_htf_poi_ltf_confirmation': True, 'value_htf_poi_ltf_confirmation': False}. Best is trial 26 with value: 0.021150000000000002.\n",
      "[I 2025-02-19 14:30:42,547] Trial 69 finished with value: 0.021150000000000002 and parameters: {'include_type_1_m5': False, 'include_type_2_m5': True, 'value_type_2_m5': True, 'include_type_3_m5': False, 'include_htf_poi_ltf_confirmation': False}. Best is trial 26 with value: 0.021150000000000002.\n",
      "[I 2025-02-19 14:30:42,552] Trial 70 finished with value: 0.021150000000000002 and parameters: {'include_type_1_m5': False, 'include_type_2_m5': True, 'value_type_2_m5': True, 'include_type_3_m5': True, 'value_type_3_m5': False, 'include_htf_poi_ltf_confirmation': False}. Best is trial 26 with value: 0.021150000000000002.\n",
      "[I 2025-02-19 14:30:42,556] Trial 71 finished with value: 0.021150000000000002 and parameters: {'include_type_1_m5': False, 'include_type_2_m5': True, 'value_type_2_m5': True, 'include_type_3_m5': False, 'include_htf_poi_ltf_confirmation': False}. Best is trial 26 with value: 0.021150000000000002.\n",
      "[I 2025-02-19 14:30:42,560] Trial 72 finished with value: 0.021150000000000002 and parameters: {'include_type_1_m5': False, 'include_type_2_m5': True, 'value_type_2_m5': True, 'include_type_3_m5': False, 'include_htf_poi_ltf_confirmation': False}. Best is trial 26 with value: 0.021150000000000002.\n",
      "[I 2025-02-19 14:30:42,563] Trial 73 finished with value: 0.021150000000000002 and parameters: {'include_type_1_m5': False, 'include_type_2_m5': True, 'value_type_2_m5': True, 'include_type_3_m5': False, 'include_htf_poi_ltf_confirmation': False}. Best is trial 26 with value: 0.021150000000000002.\n",
      "[I 2025-02-19 14:30:42,568] Trial 74 finished with value: 0.021150000000000002 and parameters: {'include_type_1_m5': False, 'include_type_2_m5': True, 'value_type_2_m5': True, 'include_type_3_m5': False, 'include_htf_poi_ltf_confirmation': False}. Best is trial 26 with value: 0.021150000000000002.\n",
      "[I 2025-02-19 14:30:42,571] Trial 75 finished with value: 0.021150000000000002 and parameters: {'include_type_1_m5': False, 'include_type_2_m5': True, 'value_type_2_m5': True, 'include_type_3_m5': False, 'include_htf_poi_ltf_confirmation': False}. Best is trial 26 with value: 0.021150000000000002.\n",
      "[I 2025-02-19 14:30:42,575] Trial 76 finished with value: 0.021150000000000002 and parameters: {'include_type_1_m5': False, 'include_type_2_m5': True, 'value_type_2_m5': True, 'include_type_3_m5': False, 'include_htf_poi_ltf_confirmation': False}. Best is trial 26 with value: 0.021150000000000002.\n",
      "[I 2025-02-19 14:30:42,578] Trial 77 finished with value: 0.021150000000000002 and parameters: {'include_type_1_m5': False, 'include_type_2_m5': True, 'value_type_2_m5': True, 'include_type_3_m5': False, 'include_htf_poi_ltf_confirmation': False}. Best is trial 26 with value: 0.021150000000000002.\n",
      "[I 2025-02-19 14:30:42,583] Trial 78 finished with value: 0.021150000000000002 and parameters: {'include_type_1_m5': False, 'include_type_2_m5': True, 'value_type_2_m5': True, 'include_type_3_m5': False, 'include_htf_poi_ltf_confirmation': False}. Best is trial 26 with value: 0.021150000000000002.\n",
      "[I 2025-02-19 14:30:42,587] Trial 79 finished with value: 0.021150000000000002 and parameters: {'include_type_1_m5': False, 'include_type_2_m5': True, 'value_type_2_m5': True, 'include_type_3_m5': False, 'include_htf_poi_ltf_confirmation': True, 'value_htf_poi_ltf_confirmation': True}. Best is trial 26 with value: 0.021150000000000002.\n",
      "[I 2025-02-19 14:30:42,590] Trial 80 finished with value: 0.021150000000000002 and parameters: {'include_type_1_m5': False, 'include_type_2_m5': True, 'value_type_2_m5': True, 'include_type_3_m5': False, 'include_htf_poi_ltf_confirmation': False}. Best is trial 26 with value: 0.021150000000000002.\n",
      "[I 2025-02-19 14:30:42,594] Trial 81 finished with value: 0.021150000000000002 and parameters: {'include_type_1_m5': False, 'include_type_2_m5': True, 'value_type_2_m5': True, 'include_type_3_m5': True, 'value_type_3_m5': False, 'include_htf_poi_ltf_confirmation': False}. Best is trial 26 with value: 0.021150000000000002.\n",
      "[I 2025-02-19 14:30:42,599] Trial 82 finished with value: 0.021150000000000002 and parameters: {'include_type_1_m5': False, 'include_type_2_m5': True, 'value_type_2_m5': True, 'include_type_3_m5': True, 'value_type_3_m5': False, 'include_htf_poi_ltf_confirmation': False}. Best is trial 26 with value: 0.021150000000000002.\n",
      "[I 2025-02-19 14:30:42,604] Trial 83 finished with value: 0.021150000000000002 and parameters: {'include_type_1_m5': False, 'include_type_2_m5': True, 'value_type_2_m5': True, 'include_type_3_m5': True, 'value_type_3_m5': False, 'include_htf_poi_ltf_confirmation': False}. Best is trial 26 with value: 0.021150000000000002.\n",
      "[I 2025-02-19 14:30:42,609] Trial 84 finished with value: 0.021150000000000002 and parameters: {'include_type_1_m5': False, 'include_type_2_m5': True, 'value_type_2_m5': True, 'include_type_3_m5': True, 'value_type_3_m5': False, 'include_htf_poi_ltf_confirmation': False}. Best is trial 26 with value: 0.021150000000000002.\n",
      "[I 2025-02-19 14:30:42,613] Trial 85 finished with value: 0.021150000000000002 and parameters: {'include_type_1_m5': False, 'include_type_2_m5': True, 'value_type_2_m5': True, 'include_type_3_m5': True, 'value_type_3_m5': False, 'include_htf_poi_ltf_confirmation': False}. Best is trial 26 with value: 0.021150000000000002.\n",
      "[I 2025-02-19 14:30:42,618] Trial 86 finished with value: -0.011730000000000018 and parameters: {'include_type_1_m5': False, 'include_type_2_m5': True, 'value_type_2_m5': False, 'include_type_3_m5': True, 'value_type_3_m5': False, 'include_htf_poi_ltf_confirmation': False}. Best is trial 26 with value: 0.021150000000000002.\n",
      "[I 2025-02-19 14:30:42,623] Trial 87 finished with value: 0.021150000000000002 and parameters: {'include_type_1_m5': False, 'include_type_2_m5': True, 'value_type_2_m5': True, 'include_type_3_m5': False, 'include_htf_poi_ltf_confirmation': False}. Best is trial 26 with value: 0.021150000000000002.\n",
      "[I 2025-02-19 14:30:42,628] Trial 88 finished with value: 0.021150000000000002 and parameters: {'include_type_1_m5': False, 'include_type_2_m5': True, 'value_type_2_m5': True, 'include_type_3_m5': False, 'include_htf_poi_ltf_confirmation': False}. Best is trial 26 with value: 0.021150000000000002.\n",
      "[I 2025-02-19 14:30:42,631] Trial 89 finished with value: -inf and parameters: {'include_type_1_m5': True, 'value_type_1_m5': True, 'include_type_2_m5': True, 'value_type_2_m5': True, 'include_type_3_m5': False, 'include_htf_poi_ltf_confirmation': False}. Best is trial 26 with value: 0.021150000000000002.\n",
      "[I 2025-02-19 14:30:42,635] Trial 90 finished with value: -inf and parameters: {'include_type_1_m5': False, 'include_type_2_m5': False, 'include_type_3_m5': False, 'include_htf_poi_ltf_confirmation': False}. Best is trial 26 with value: 0.021150000000000002.\n",
      "[I 2025-02-19 14:30:42,639] Trial 91 finished with value: 0.021150000000000002 and parameters: {'include_type_1_m5': False, 'include_type_2_m5': True, 'value_type_2_m5': True, 'include_type_3_m5': False, 'include_htf_poi_ltf_confirmation': False}. Best is trial 26 with value: 0.021150000000000002.\n",
      "[I 2025-02-19 14:30:42,643] Trial 92 finished with value: 0.021150000000000002 and parameters: {'include_type_1_m5': False, 'include_type_2_m5': True, 'value_type_2_m5': True, 'include_type_3_m5': False, 'include_htf_poi_ltf_confirmation': False}. Best is trial 26 with value: 0.021150000000000002.\n",
      "[I 2025-02-19 14:30:42,647] Trial 93 finished with value: 0.021150000000000002 and parameters: {'include_type_1_m5': False, 'include_type_2_m5': True, 'value_type_2_m5': True, 'include_type_3_m5': False, 'include_htf_poi_ltf_confirmation': False}. Best is trial 26 with value: 0.021150000000000002.\n",
      "[I 2025-02-19 14:30:42,651] Trial 94 finished with value: 0.021150000000000002 and parameters: {'include_type_1_m5': False, 'include_type_2_m5': True, 'value_type_2_m5': True, 'include_type_3_m5': False, 'include_htf_poi_ltf_confirmation': False}. Best is trial 26 with value: 0.021150000000000002.\n",
      "[I 2025-02-19 14:30:42,656] Trial 95 finished with value: 0.021150000000000002 and parameters: {'include_type_1_m5': False, 'include_type_2_m5': True, 'value_type_2_m5': True, 'include_type_3_m5': False, 'include_htf_poi_ltf_confirmation': False}. Best is trial 26 with value: 0.021150000000000002.\n",
      "[I 2025-02-19 14:30:42,691] Trial 96 finished with value: -inf and parameters: {'include_type_1_m5': False, 'include_type_2_m5': True, 'value_type_2_m5': True, 'include_type_3_m5': False, 'include_htf_poi_ltf_confirmation': True, 'value_htf_poi_ltf_confirmation': False}. Best is trial 26 with value: 0.021150000000000002.\n",
      "[I 2025-02-19 14:30:42,710] Trial 97 finished with value: -0.011225000000000013 and parameters: {'include_type_1_m5': False, 'include_type_2_m5': True, 'value_type_2_m5': False, 'include_type_3_m5': False, 'include_htf_poi_ltf_confirmation': False}. Best is trial 26 with value: 0.021150000000000002.\n",
      "[I 2025-02-19 14:30:42,717] Trial 98 finished with value: -inf and parameters: {'include_type_1_m5': False, 'include_type_2_m5': True, 'value_type_2_m5': True, 'include_type_3_m5': True, 'value_type_3_m5': True, 'include_htf_poi_ltf_confirmation': False}. Best is trial 26 with value: 0.021150000000000002.\n",
      "[I 2025-02-19 14:30:42,723] Trial 99 finished with value: 0.021150000000000002 and parameters: {'include_type_1_m5': False, 'include_type_2_m5': True, 'value_type_2_m5': True, 'include_type_3_m5': False, 'include_htf_poi_ltf_confirmation': False}. Best is trial 26 with value: 0.021150000000000002.\n",
      "Best parameters: {'include_type_1_m5': False, 'include_type_2_m5': True, 'value_type_2_m5': True, 'include_type_3_m5': False, 'include_htf_poi_ltf_confirmation': False}\n",
      "Best score: 0.021150000000000002\n"
     ]
    }
   ],
   "source": [
    "import src.tradecli\n",
    "cfg = src.tradecli.ReportOptunaConfig(study_name='default_1')\n",
    "res = report_best_performing_tags_value(df_test, \n",
    "                                  y_col='return', \n",
    "                                  score_mode='mean', method='optuna', config=cfg)"
   ]
  },
  {
   "cell_type": "code",
   "execution_count": null,
   "metadata": {},
   "outputs": [
    {
     "data": {
      "text/plain": [
       "(<optuna.study.study.Study at 0x28d8b95b0>,\n",
       " {'include_type_1_m5': False,\n",
       "  'include_type_2_m5': True,\n",
       "  'value_type_2_m5': True,\n",
       "  'include_type_3_m5': False,\n",
       "  'include_htf_poi_ltf_confirmation': False},\n",
       " 0.021150000000000002)"
      ]
     },
     "execution_count": 10,
     "metadata": {},
     "output_type": "execute_result"
    }
   ],
   "source": [
    "res"
   ]
  },
  {
   "cell_type": "code",
   "execution_count": 54,
   "metadata": {},
   "outputs": [],
   "source": [
    "res[0].best_trial\n",
    "study = res[0]"
   ]
  },
  {
   "cell_type": "code",
   "execution_count": 55,
   "metadata": {},
   "outputs": [
    {
     "data": {
      "application/vnd.plotly.v1+json": {
       "config": {
        "plotlyServerURL": "https://plot.ly"
       },
       "data": [
        {
         "mode": "markers",
         "name": "Objective Value",
         "type": "scatter",
         "x": [
          0,
          1,
          2,
          3,
          4,
          5,
          6,
          7,
          8,
          9,
          10,
          11,
          12,
          13,
          14,
          15,
          16,
          17,
          18,
          19,
          20,
          21,
          22,
          23,
          24,
          25,
          26,
          27,
          28,
          29,
          30,
          31,
          32,
          33,
          34,
          35,
          36,
          37,
          38,
          39,
          40,
          41,
          42,
          43,
          44,
          45,
          46,
          47,
          48,
          49,
          50,
          51,
          52,
          53,
          54,
          55,
          56,
          57,
          58,
          59,
          60,
          61,
          62,
          63,
          64,
          65,
          66,
          67,
          68,
          69,
          70,
          71,
          72,
          73,
          74,
          75,
          76,
          77,
          78,
          79,
          80,
          81,
          82,
          83,
          84,
          85,
          86,
          87,
          88,
          89,
          90,
          91,
          92,
          93,
          94,
          95,
          96,
          97,
          98,
          99
         ],
         "y": [
          -0.0012000000000000899,
          null,
          -0.010383333333333336,
          -0.0011499999999999844,
          -0.043500000000000094,
          -0.011225000000000013,
          -0.00044444444444444485,
          -0.0012000000000000899,
          -0.002335714285714298,
          -0.011225000000000013,
          -0.043500000000000094,
          -0.0011499999999999844,
          -0.0011499999999999844,
          -0.0011499999999999844,
          -0.00044444444444444485,
          -0.00044444444444444485,
          -0.043500000000000094,
          -0.00044444444444444485,
          -0.00044444444444444485,
          -0.043500000000000094,
          -0.00044444444444444485,
          -0.00044444444444444485,
          -0.00044444444444444485,
          -0.00044444444444444485,
          -0.00044444444444444485,
          -0.00044444444444444485,
          0.021150000000000002,
          0.021150000000000002,
          0.021150000000000002,
          null,
          0.021150000000000002,
          0.021150000000000002,
          0.021150000000000002,
          0.021150000000000002,
          null,
          0.021150000000000002,
          0.021150000000000002,
          0.021150000000000002,
          null,
          null,
          0.021150000000000002,
          0.021150000000000002,
          0.021150000000000002,
          0.021150000000000002,
          0.021150000000000002,
          null,
          0.021150000000000002,
          0.021150000000000002,
          null,
          0.021150000000000002,
          0.021150000000000002,
          0.021150000000000002,
          0.021150000000000002,
          -0.011225000000000013,
          0.021150000000000002,
          0.021150000000000002,
          0.021150000000000002,
          -0.011225000000000013,
          0.021150000000000002,
          -0.011225000000000013,
          0.021150000000000002,
          0.021150000000000002,
          0.021150000000000002,
          0.021150000000000002,
          0.021150000000000002,
          null,
          0.021150000000000002,
          -0.011225000000000013,
          null,
          0.021150000000000002,
          0.021150000000000002,
          0.021150000000000002,
          0.021150000000000002,
          0.021150000000000002,
          0.021150000000000002,
          0.021150000000000002,
          0.021150000000000002,
          0.021150000000000002,
          0.021150000000000002,
          0.021150000000000002,
          0.021150000000000002,
          0.021150000000000002,
          0.021150000000000002,
          0.021150000000000002,
          0.021150000000000002,
          0.021150000000000002,
          -0.011730000000000018,
          0.021150000000000002,
          0.021150000000000002,
          null,
          null,
          0.021150000000000002,
          0.021150000000000002,
          0.021150000000000002,
          0.021150000000000002,
          0.021150000000000002,
          null,
          -0.011225000000000013,
          null,
          0.021150000000000002
         ]
        },
        {
         "mode": "lines",
         "name": "Best Value",
         "type": "scatter",
         "x": [
          0,
          1,
          2,
          3,
          4,
          5,
          6,
          7,
          8,
          9,
          10,
          11,
          12,
          13,
          14,
          15,
          16,
          17,
          18,
          19,
          20,
          21,
          22,
          23,
          24,
          25,
          26,
          27,
          28,
          29,
          30,
          31,
          32,
          33,
          34,
          35,
          36,
          37,
          38,
          39,
          40,
          41,
          42,
          43,
          44,
          45,
          46,
          47,
          48,
          49,
          50,
          51,
          52,
          53,
          54,
          55,
          56,
          57,
          58,
          59,
          60,
          61,
          62,
          63,
          64,
          65,
          66,
          67,
          68,
          69,
          70,
          71,
          72,
          73,
          74,
          75,
          76,
          77,
          78,
          79,
          80,
          81,
          82,
          83,
          84,
          85,
          86,
          87,
          88,
          89,
          90,
          91,
          92,
          93,
          94,
          95,
          96,
          97,
          98,
          99
         ],
         "y": [
          -0.0012000000000000899,
          -0.0012000000000000899,
          -0.0012000000000000899,
          -0.0011499999999999844,
          -0.0011499999999999844,
          -0.0011499999999999844,
          -0.00044444444444444485,
          -0.00044444444444444485,
          -0.00044444444444444485,
          -0.00044444444444444485,
          -0.00044444444444444485,
          -0.00044444444444444485,
          -0.00044444444444444485,
          -0.00044444444444444485,
          -0.00044444444444444485,
          -0.00044444444444444485,
          -0.00044444444444444485,
          -0.00044444444444444485,
          -0.00044444444444444485,
          -0.00044444444444444485,
          -0.00044444444444444485,
          -0.00044444444444444485,
          -0.00044444444444444485,
          -0.00044444444444444485,
          -0.00044444444444444485,
          -0.00044444444444444485,
          0.021150000000000002,
          0.021150000000000002,
          0.021150000000000002,
          0.021150000000000002,
          0.021150000000000002,
          0.021150000000000002,
          0.021150000000000002,
          0.021150000000000002,
          0.021150000000000002,
          0.021150000000000002,
          0.021150000000000002,
          0.021150000000000002,
          0.021150000000000002,
          0.021150000000000002,
          0.021150000000000002,
          0.021150000000000002,
          0.021150000000000002,
          0.021150000000000002,
          0.021150000000000002,
          0.021150000000000002,
          0.021150000000000002,
          0.021150000000000002,
          0.021150000000000002,
          0.021150000000000002,
          0.021150000000000002,
          0.021150000000000002,
          0.021150000000000002,
          0.021150000000000002,
          0.021150000000000002,
          0.021150000000000002,
          0.021150000000000002,
          0.021150000000000002,
          0.021150000000000002,
          0.021150000000000002,
          0.021150000000000002,
          0.021150000000000002,
          0.021150000000000002,
          0.021150000000000002,
          0.021150000000000002,
          0.021150000000000002,
          0.021150000000000002,
          0.021150000000000002,
          0.021150000000000002,
          0.021150000000000002,
          0.021150000000000002,
          0.021150000000000002,
          0.021150000000000002,
          0.021150000000000002,
          0.021150000000000002,
          0.021150000000000002,
          0.021150000000000002,
          0.021150000000000002,
          0.021150000000000002,
          0.021150000000000002,
          0.021150000000000002,
          0.021150000000000002,
          0.021150000000000002,
          0.021150000000000002,
          0.021150000000000002,
          0.021150000000000002,
          0.021150000000000002,
          0.021150000000000002,
          0.021150000000000002,
          0.021150000000000002,
          0.021150000000000002,
          0.021150000000000002,
          0.021150000000000002,
          0.021150000000000002,
          0.021150000000000002,
          0.021150000000000002,
          0.021150000000000002,
          0.021150000000000002,
          0.021150000000000002,
          0.021150000000000002
         ]
        },
        {
         "marker": {
          "color": "#cccccc"
         },
         "mode": "markers",
         "name": "Infeasible Trial",
         "showlegend": false,
         "type": "scatter",
         "x": [],
         "y": []
        }
       ],
       "layout": {
        "template": {
         "data": {
          "bar": [
           {
            "error_x": {
             "color": "#2a3f5f"
            },
            "error_y": {
             "color": "#2a3f5f"
            },
            "marker": {
             "line": {
              "color": "#E5ECF6",
              "width": 0.5
             },
             "pattern": {
              "fillmode": "overlay",
              "size": 10,
              "solidity": 0.2
             }
            },
            "type": "bar"
           }
          ],
          "barpolar": [
           {
            "marker": {
             "line": {
              "color": "#E5ECF6",
              "width": 0.5
             },
             "pattern": {
              "fillmode": "overlay",
              "size": 10,
              "solidity": 0.2
             }
            },
            "type": "barpolar"
           }
          ],
          "carpet": [
           {
            "aaxis": {
             "endlinecolor": "#2a3f5f",
             "gridcolor": "white",
             "linecolor": "white",
             "minorgridcolor": "white",
             "startlinecolor": "#2a3f5f"
            },
            "baxis": {
             "endlinecolor": "#2a3f5f",
             "gridcolor": "white",
             "linecolor": "white",
             "minorgridcolor": "white",
             "startlinecolor": "#2a3f5f"
            },
            "type": "carpet"
           }
          ],
          "choropleth": [
           {
            "colorbar": {
             "outlinewidth": 0,
             "ticks": ""
            },
            "type": "choropleth"
           }
          ],
          "contour": [
           {
            "colorbar": {
             "outlinewidth": 0,
             "ticks": ""
            },
            "colorscale": [
             [
              0,
              "#0d0887"
             ],
             [
              0.1111111111111111,
              "#46039f"
             ],
             [
              0.2222222222222222,
              "#7201a8"
             ],
             [
              0.3333333333333333,
              "#9c179e"
             ],
             [
              0.4444444444444444,
              "#bd3786"
             ],
             [
              0.5555555555555556,
              "#d8576b"
             ],
             [
              0.6666666666666666,
              "#ed7953"
             ],
             [
              0.7777777777777778,
              "#fb9f3a"
             ],
             [
              0.8888888888888888,
              "#fdca26"
             ],
             [
              1,
              "#f0f921"
             ]
            ],
            "type": "contour"
           }
          ],
          "contourcarpet": [
           {
            "colorbar": {
             "outlinewidth": 0,
             "ticks": ""
            },
            "type": "contourcarpet"
           }
          ],
          "heatmap": [
           {
            "colorbar": {
             "outlinewidth": 0,
             "ticks": ""
            },
            "colorscale": [
             [
              0,
              "#0d0887"
             ],
             [
              0.1111111111111111,
              "#46039f"
             ],
             [
              0.2222222222222222,
              "#7201a8"
             ],
             [
              0.3333333333333333,
              "#9c179e"
             ],
             [
              0.4444444444444444,
              "#bd3786"
             ],
             [
              0.5555555555555556,
              "#d8576b"
             ],
             [
              0.6666666666666666,
              "#ed7953"
             ],
             [
              0.7777777777777778,
              "#fb9f3a"
             ],
             [
              0.8888888888888888,
              "#fdca26"
             ],
             [
              1,
              "#f0f921"
             ]
            ],
            "type": "heatmap"
           }
          ],
          "heatmapgl": [
           {
            "colorbar": {
             "outlinewidth": 0,
             "ticks": ""
            },
            "colorscale": [
             [
              0,
              "#0d0887"
             ],
             [
              0.1111111111111111,
              "#46039f"
             ],
             [
              0.2222222222222222,
              "#7201a8"
             ],
             [
              0.3333333333333333,
              "#9c179e"
             ],
             [
              0.4444444444444444,
              "#bd3786"
             ],
             [
              0.5555555555555556,
              "#d8576b"
             ],
             [
              0.6666666666666666,
              "#ed7953"
             ],
             [
              0.7777777777777778,
              "#fb9f3a"
             ],
             [
              0.8888888888888888,
              "#fdca26"
             ],
             [
              1,
              "#f0f921"
             ]
            ],
            "type": "heatmapgl"
           }
          ],
          "histogram": [
           {
            "marker": {
             "pattern": {
              "fillmode": "overlay",
              "size": 10,
              "solidity": 0.2
             }
            },
            "type": "histogram"
           }
          ],
          "histogram2d": [
           {
            "colorbar": {
             "outlinewidth": 0,
             "ticks": ""
            },
            "colorscale": [
             [
              0,
              "#0d0887"
             ],
             [
              0.1111111111111111,
              "#46039f"
             ],
             [
              0.2222222222222222,
              "#7201a8"
             ],
             [
              0.3333333333333333,
              "#9c179e"
             ],
             [
              0.4444444444444444,
              "#bd3786"
             ],
             [
              0.5555555555555556,
              "#d8576b"
             ],
             [
              0.6666666666666666,
              "#ed7953"
             ],
             [
              0.7777777777777778,
              "#fb9f3a"
             ],
             [
              0.8888888888888888,
              "#fdca26"
             ],
             [
              1,
              "#f0f921"
             ]
            ],
            "type": "histogram2d"
           }
          ],
          "histogram2dcontour": [
           {
            "colorbar": {
             "outlinewidth": 0,
             "ticks": ""
            },
            "colorscale": [
             [
              0,
              "#0d0887"
             ],
             [
              0.1111111111111111,
              "#46039f"
             ],
             [
              0.2222222222222222,
              "#7201a8"
             ],
             [
              0.3333333333333333,
              "#9c179e"
             ],
             [
              0.4444444444444444,
              "#bd3786"
             ],
             [
              0.5555555555555556,
              "#d8576b"
             ],
             [
              0.6666666666666666,
              "#ed7953"
             ],
             [
              0.7777777777777778,
              "#fb9f3a"
             ],
             [
              0.8888888888888888,
              "#fdca26"
             ],
             [
              1,
              "#f0f921"
             ]
            ],
            "type": "histogram2dcontour"
           }
          ],
          "mesh3d": [
           {
            "colorbar": {
             "outlinewidth": 0,
             "ticks": ""
            },
            "type": "mesh3d"
           }
          ],
          "parcoords": [
           {
            "line": {
             "colorbar": {
              "outlinewidth": 0,
              "ticks": ""
             }
            },
            "type": "parcoords"
           }
          ],
          "pie": [
           {
            "automargin": true,
            "type": "pie"
           }
          ],
          "scatter": [
           {
            "fillpattern": {
             "fillmode": "overlay",
             "size": 10,
             "solidity": 0.2
            },
            "type": "scatter"
           }
          ],
          "scatter3d": [
           {
            "line": {
             "colorbar": {
              "outlinewidth": 0,
              "ticks": ""
             }
            },
            "marker": {
             "colorbar": {
              "outlinewidth": 0,
              "ticks": ""
             }
            },
            "type": "scatter3d"
           }
          ],
          "scattercarpet": [
           {
            "marker": {
             "colorbar": {
              "outlinewidth": 0,
              "ticks": ""
             }
            },
            "type": "scattercarpet"
           }
          ],
          "scattergeo": [
           {
            "marker": {
             "colorbar": {
              "outlinewidth": 0,
              "ticks": ""
             }
            },
            "type": "scattergeo"
           }
          ],
          "scattergl": [
           {
            "marker": {
             "colorbar": {
              "outlinewidth": 0,
              "ticks": ""
             }
            },
            "type": "scattergl"
           }
          ],
          "scattermapbox": [
           {
            "marker": {
             "colorbar": {
              "outlinewidth": 0,
              "ticks": ""
             }
            },
            "type": "scattermapbox"
           }
          ],
          "scatterpolar": [
           {
            "marker": {
             "colorbar": {
              "outlinewidth": 0,
              "ticks": ""
             }
            },
            "type": "scatterpolar"
           }
          ],
          "scatterpolargl": [
           {
            "marker": {
             "colorbar": {
              "outlinewidth": 0,
              "ticks": ""
             }
            },
            "type": "scatterpolargl"
           }
          ],
          "scatterternary": [
           {
            "marker": {
             "colorbar": {
              "outlinewidth": 0,
              "ticks": ""
             }
            },
            "type": "scatterternary"
           }
          ],
          "surface": [
           {
            "colorbar": {
             "outlinewidth": 0,
             "ticks": ""
            },
            "colorscale": [
             [
              0,
              "#0d0887"
             ],
             [
              0.1111111111111111,
              "#46039f"
             ],
             [
              0.2222222222222222,
              "#7201a8"
             ],
             [
              0.3333333333333333,
              "#9c179e"
             ],
             [
              0.4444444444444444,
              "#bd3786"
             ],
             [
              0.5555555555555556,
              "#d8576b"
             ],
             [
              0.6666666666666666,
              "#ed7953"
             ],
             [
              0.7777777777777778,
              "#fb9f3a"
             ],
             [
              0.8888888888888888,
              "#fdca26"
             ],
             [
              1,
              "#f0f921"
             ]
            ],
            "type": "surface"
           }
          ],
          "table": [
           {
            "cells": {
             "fill": {
              "color": "#EBF0F8"
             },
             "line": {
              "color": "white"
             }
            },
            "header": {
             "fill": {
              "color": "#C8D4E3"
             },
             "line": {
              "color": "white"
             }
            },
            "type": "table"
           }
          ]
         },
         "layout": {
          "annotationdefaults": {
           "arrowcolor": "#2a3f5f",
           "arrowhead": 0,
           "arrowwidth": 1
          },
          "autotypenumbers": "strict",
          "coloraxis": {
           "colorbar": {
            "outlinewidth": 0,
            "ticks": ""
           }
          },
          "colorscale": {
           "diverging": [
            [
             0,
             "#8e0152"
            ],
            [
             0.1,
             "#c51b7d"
            ],
            [
             0.2,
             "#de77ae"
            ],
            [
             0.3,
             "#f1b6da"
            ],
            [
             0.4,
             "#fde0ef"
            ],
            [
             0.5,
             "#f7f7f7"
            ],
            [
             0.6,
             "#e6f5d0"
            ],
            [
             0.7,
             "#b8e186"
            ],
            [
             0.8,
             "#7fbc41"
            ],
            [
             0.9,
             "#4d9221"
            ],
            [
             1,
             "#276419"
            ]
           ],
           "sequential": [
            [
             0,
             "#0d0887"
            ],
            [
             0.1111111111111111,
             "#46039f"
            ],
            [
             0.2222222222222222,
             "#7201a8"
            ],
            [
             0.3333333333333333,
             "#9c179e"
            ],
            [
             0.4444444444444444,
             "#bd3786"
            ],
            [
             0.5555555555555556,
             "#d8576b"
            ],
            [
             0.6666666666666666,
             "#ed7953"
            ],
            [
             0.7777777777777778,
             "#fb9f3a"
            ],
            [
             0.8888888888888888,
             "#fdca26"
            ],
            [
             1,
             "#f0f921"
            ]
           ],
           "sequentialminus": [
            [
             0,
             "#0d0887"
            ],
            [
             0.1111111111111111,
             "#46039f"
            ],
            [
             0.2222222222222222,
             "#7201a8"
            ],
            [
             0.3333333333333333,
             "#9c179e"
            ],
            [
             0.4444444444444444,
             "#bd3786"
            ],
            [
             0.5555555555555556,
             "#d8576b"
            ],
            [
             0.6666666666666666,
             "#ed7953"
            ],
            [
             0.7777777777777778,
             "#fb9f3a"
            ],
            [
             0.8888888888888888,
             "#fdca26"
            ],
            [
             1,
             "#f0f921"
            ]
           ]
          },
          "colorway": [
           "#636efa",
           "#EF553B",
           "#00cc96",
           "#ab63fa",
           "#FFA15A",
           "#19d3f3",
           "#FF6692",
           "#B6E880",
           "#FF97FF",
           "#FECB52"
          ],
          "font": {
           "color": "#2a3f5f"
          },
          "geo": {
           "bgcolor": "white",
           "lakecolor": "white",
           "landcolor": "#E5ECF6",
           "showlakes": true,
           "showland": true,
           "subunitcolor": "white"
          },
          "hoverlabel": {
           "align": "left"
          },
          "hovermode": "closest",
          "mapbox": {
           "style": "light"
          },
          "paper_bgcolor": "white",
          "plot_bgcolor": "#E5ECF6",
          "polar": {
           "angularaxis": {
            "gridcolor": "white",
            "linecolor": "white",
            "ticks": ""
           },
           "bgcolor": "#E5ECF6",
           "radialaxis": {
            "gridcolor": "white",
            "linecolor": "white",
            "ticks": ""
           }
          },
          "scene": {
           "xaxis": {
            "backgroundcolor": "#E5ECF6",
            "gridcolor": "white",
            "gridwidth": 2,
            "linecolor": "white",
            "showbackground": true,
            "ticks": "",
            "zerolinecolor": "white"
           },
           "yaxis": {
            "backgroundcolor": "#E5ECF6",
            "gridcolor": "white",
            "gridwidth": 2,
            "linecolor": "white",
            "showbackground": true,
            "ticks": "",
            "zerolinecolor": "white"
           },
           "zaxis": {
            "backgroundcolor": "#E5ECF6",
            "gridcolor": "white",
            "gridwidth": 2,
            "linecolor": "white",
            "showbackground": true,
            "ticks": "",
            "zerolinecolor": "white"
           }
          },
          "shapedefaults": {
           "line": {
            "color": "#2a3f5f"
           }
          },
          "ternary": {
           "aaxis": {
            "gridcolor": "white",
            "linecolor": "white",
            "ticks": ""
           },
           "baxis": {
            "gridcolor": "white",
            "linecolor": "white",
            "ticks": ""
           },
           "bgcolor": "#E5ECF6",
           "caxis": {
            "gridcolor": "white",
            "linecolor": "white",
            "ticks": ""
           }
          },
          "title": {
           "x": 0.05
          },
          "xaxis": {
           "automargin": true,
           "gridcolor": "white",
           "linecolor": "white",
           "ticks": "",
           "title": {
            "standoff": 15
           },
           "zerolinecolor": "white",
           "zerolinewidth": 2
          },
          "yaxis": {
           "automargin": true,
           "gridcolor": "white",
           "linecolor": "white",
           "ticks": "",
           "title": {
            "standoff": 15
           },
           "zerolinecolor": "white",
           "zerolinewidth": 2
          }
         }
        },
        "title": {
         "text": "Optimization History Plot"
        },
        "xaxis": {
         "title": {
          "text": "Trial"
         }
        },
        "yaxis": {
         "title": {
          "text": "Objective Value"
         }
        }
       }
      }
     },
     "metadata": {},
     "output_type": "display_data"
    },
    {
     "data": {
      "application/vnd.plotly.v1+json": {
       "config": {
        "plotlyServerURL": "https://plot.ly"
       },
       "data": [
        {
         "cliponaxis": false,
         "hovertemplate": [
          "include_htf_poi_ltf_confirmation (CategoricalDistribution): 0.041160764087399764<extra></extra>",
          "include_type_3_m5 (CategoricalDistribution): 0.06763450589563728<extra></extra>",
          "include_type_1_m5 (CategoricalDistribution): 0.2861001417479863<extra></extra>",
          "include_type_2_m5 (CategoricalDistribution): 0.6051045882689766<extra></extra>"
         ],
         "name": "Objective Value",
         "orientation": "h",
         "text": [
          "0.04",
          "0.07",
          "0.29",
          "0.61"
         ],
         "textposition": "outside",
         "type": "bar",
         "x": [
          0.041160764087399764,
          0.06763450589563728,
          0.2861001417479863,
          0.6051045882689766
         ],
         "y": [
          "include_htf_poi_ltf_confirmation",
          "include_type_3_m5",
          "include_type_1_m5",
          "include_type_2_m5"
         ]
        }
       ],
       "layout": {
        "template": {
         "data": {
          "bar": [
           {
            "error_x": {
             "color": "#2a3f5f"
            },
            "error_y": {
             "color": "#2a3f5f"
            },
            "marker": {
             "line": {
              "color": "#E5ECF6",
              "width": 0.5
             },
             "pattern": {
              "fillmode": "overlay",
              "size": 10,
              "solidity": 0.2
             }
            },
            "type": "bar"
           }
          ],
          "barpolar": [
           {
            "marker": {
             "line": {
              "color": "#E5ECF6",
              "width": 0.5
             },
             "pattern": {
              "fillmode": "overlay",
              "size": 10,
              "solidity": 0.2
             }
            },
            "type": "barpolar"
           }
          ],
          "carpet": [
           {
            "aaxis": {
             "endlinecolor": "#2a3f5f",
             "gridcolor": "white",
             "linecolor": "white",
             "minorgridcolor": "white",
             "startlinecolor": "#2a3f5f"
            },
            "baxis": {
             "endlinecolor": "#2a3f5f",
             "gridcolor": "white",
             "linecolor": "white",
             "minorgridcolor": "white",
             "startlinecolor": "#2a3f5f"
            },
            "type": "carpet"
           }
          ],
          "choropleth": [
           {
            "colorbar": {
             "outlinewidth": 0,
             "ticks": ""
            },
            "type": "choropleth"
           }
          ],
          "contour": [
           {
            "colorbar": {
             "outlinewidth": 0,
             "ticks": ""
            },
            "colorscale": [
             [
              0,
              "#0d0887"
             ],
             [
              0.1111111111111111,
              "#46039f"
             ],
             [
              0.2222222222222222,
              "#7201a8"
             ],
             [
              0.3333333333333333,
              "#9c179e"
             ],
             [
              0.4444444444444444,
              "#bd3786"
             ],
             [
              0.5555555555555556,
              "#d8576b"
             ],
             [
              0.6666666666666666,
              "#ed7953"
             ],
             [
              0.7777777777777778,
              "#fb9f3a"
             ],
             [
              0.8888888888888888,
              "#fdca26"
             ],
             [
              1,
              "#f0f921"
             ]
            ],
            "type": "contour"
           }
          ],
          "contourcarpet": [
           {
            "colorbar": {
             "outlinewidth": 0,
             "ticks": ""
            },
            "type": "contourcarpet"
           }
          ],
          "heatmap": [
           {
            "colorbar": {
             "outlinewidth": 0,
             "ticks": ""
            },
            "colorscale": [
             [
              0,
              "#0d0887"
             ],
             [
              0.1111111111111111,
              "#46039f"
             ],
             [
              0.2222222222222222,
              "#7201a8"
             ],
             [
              0.3333333333333333,
              "#9c179e"
             ],
             [
              0.4444444444444444,
              "#bd3786"
             ],
             [
              0.5555555555555556,
              "#d8576b"
             ],
             [
              0.6666666666666666,
              "#ed7953"
             ],
             [
              0.7777777777777778,
              "#fb9f3a"
             ],
             [
              0.8888888888888888,
              "#fdca26"
             ],
             [
              1,
              "#f0f921"
             ]
            ],
            "type": "heatmap"
           }
          ],
          "heatmapgl": [
           {
            "colorbar": {
             "outlinewidth": 0,
             "ticks": ""
            },
            "colorscale": [
             [
              0,
              "#0d0887"
             ],
             [
              0.1111111111111111,
              "#46039f"
             ],
             [
              0.2222222222222222,
              "#7201a8"
             ],
             [
              0.3333333333333333,
              "#9c179e"
             ],
             [
              0.4444444444444444,
              "#bd3786"
             ],
             [
              0.5555555555555556,
              "#d8576b"
             ],
             [
              0.6666666666666666,
              "#ed7953"
             ],
             [
              0.7777777777777778,
              "#fb9f3a"
             ],
             [
              0.8888888888888888,
              "#fdca26"
             ],
             [
              1,
              "#f0f921"
             ]
            ],
            "type": "heatmapgl"
           }
          ],
          "histogram": [
           {
            "marker": {
             "pattern": {
              "fillmode": "overlay",
              "size": 10,
              "solidity": 0.2
             }
            },
            "type": "histogram"
           }
          ],
          "histogram2d": [
           {
            "colorbar": {
             "outlinewidth": 0,
             "ticks": ""
            },
            "colorscale": [
             [
              0,
              "#0d0887"
             ],
             [
              0.1111111111111111,
              "#46039f"
             ],
             [
              0.2222222222222222,
              "#7201a8"
             ],
             [
              0.3333333333333333,
              "#9c179e"
             ],
             [
              0.4444444444444444,
              "#bd3786"
             ],
             [
              0.5555555555555556,
              "#d8576b"
             ],
             [
              0.6666666666666666,
              "#ed7953"
             ],
             [
              0.7777777777777778,
              "#fb9f3a"
             ],
             [
              0.8888888888888888,
              "#fdca26"
             ],
             [
              1,
              "#f0f921"
             ]
            ],
            "type": "histogram2d"
           }
          ],
          "histogram2dcontour": [
           {
            "colorbar": {
             "outlinewidth": 0,
             "ticks": ""
            },
            "colorscale": [
             [
              0,
              "#0d0887"
             ],
             [
              0.1111111111111111,
              "#46039f"
             ],
             [
              0.2222222222222222,
              "#7201a8"
             ],
             [
              0.3333333333333333,
              "#9c179e"
             ],
             [
              0.4444444444444444,
              "#bd3786"
             ],
             [
              0.5555555555555556,
              "#d8576b"
             ],
             [
              0.6666666666666666,
              "#ed7953"
             ],
             [
              0.7777777777777778,
              "#fb9f3a"
             ],
             [
              0.8888888888888888,
              "#fdca26"
             ],
             [
              1,
              "#f0f921"
             ]
            ],
            "type": "histogram2dcontour"
           }
          ],
          "mesh3d": [
           {
            "colorbar": {
             "outlinewidth": 0,
             "ticks": ""
            },
            "type": "mesh3d"
           }
          ],
          "parcoords": [
           {
            "line": {
             "colorbar": {
              "outlinewidth": 0,
              "ticks": ""
             }
            },
            "type": "parcoords"
           }
          ],
          "pie": [
           {
            "automargin": true,
            "type": "pie"
           }
          ],
          "scatter": [
           {
            "fillpattern": {
             "fillmode": "overlay",
             "size": 10,
             "solidity": 0.2
            },
            "type": "scatter"
           }
          ],
          "scatter3d": [
           {
            "line": {
             "colorbar": {
              "outlinewidth": 0,
              "ticks": ""
             }
            },
            "marker": {
             "colorbar": {
              "outlinewidth": 0,
              "ticks": ""
             }
            },
            "type": "scatter3d"
           }
          ],
          "scattercarpet": [
           {
            "marker": {
             "colorbar": {
              "outlinewidth": 0,
              "ticks": ""
             }
            },
            "type": "scattercarpet"
           }
          ],
          "scattergeo": [
           {
            "marker": {
             "colorbar": {
              "outlinewidth": 0,
              "ticks": ""
             }
            },
            "type": "scattergeo"
           }
          ],
          "scattergl": [
           {
            "marker": {
             "colorbar": {
              "outlinewidth": 0,
              "ticks": ""
             }
            },
            "type": "scattergl"
           }
          ],
          "scattermapbox": [
           {
            "marker": {
             "colorbar": {
              "outlinewidth": 0,
              "ticks": ""
             }
            },
            "type": "scattermapbox"
           }
          ],
          "scatterpolar": [
           {
            "marker": {
             "colorbar": {
              "outlinewidth": 0,
              "ticks": ""
             }
            },
            "type": "scatterpolar"
           }
          ],
          "scatterpolargl": [
           {
            "marker": {
             "colorbar": {
              "outlinewidth": 0,
              "ticks": ""
             }
            },
            "type": "scatterpolargl"
           }
          ],
          "scatterternary": [
           {
            "marker": {
             "colorbar": {
              "outlinewidth": 0,
              "ticks": ""
             }
            },
            "type": "scatterternary"
           }
          ],
          "surface": [
           {
            "colorbar": {
             "outlinewidth": 0,
             "ticks": ""
            },
            "colorscale": [
             [
              0,
              "#0d0887"
             ],
             [
              0.1111111111111111,
              "#46039f"
             ],
             [
              0.2222222222222222,
              "#7201a8"
             ],
             [
              0.3333333333333333,
              "#9c179e"
             ],
             [
              0.4444444444444444,
              "#bd3786"
             ],
             [
              0.5555555555555556,
              "#d8576b"
             ],
             [
              0.6666666666666666,
              "#ed7953"
             ],
             [
              0.7777777777777778,
              "#fb9f3a"
             ],
             [
              0.8888888888888888,
              "#fdca26"
             ],
             [
              1,
              "#f0f921"
             ]
            ],
            "type": "surface"
           }
          ],
          "table": [
           {
            "cells": {
             "fill": {
              "color": "#EBF0F8"
             },
             "line": {
              "color": "white"
             }
            },
            "header": {
             "fill": {
              "color": "#C8D4E3"
             },
             "line": {
              "color": "white"
             }
            },
            "type": "table"
           }
          ]
         },
         "layout": {
          "annotationdefaults": {
           "arrowcolor": "#2a3f5f",
           "arrowhead": 0,
           "arrowwidth": 1
          },
          "autotypenumbers": "strict",
          "coloraxis": {
           "colorbar": {
            "outlinewidth": 0,
            "ticks": ""
           }
          },
          "colorscale": {
           "diverging": [
            [
             0,
             "#8e0152"
            ],
            [
             0.1,
             "#c51b7d"
            ],
            [
             0.2,
             "#de77ae"
            ],
            [
             0.3,
             "#f1b6da"
            ],
            [
             0.4,
             "#fde0ef"
            ],
            [
             0.5,
             "#f7f7f7"
            ],
            [
             0.6,
             "#e6f5d0"
            ],
            [
             0.7,
             "#b8e186"
            ],
            [
             0.8,
             "#7fbc41"
            ],
            [
             0.9,
             "#4d9221"
            ],
            [
             1,
             "#276419"
            ]
           ],
           "sequential": [
            [
             0,
             "#0d0887"
            ],
            [
             0.1111111111111111,
             "#46039f"
            ],
            [
             0.2222222222222222,
             "#7201a8"
            ],
            [
             0.3333333333333333,
             "#9c179e"
            ],
            [
             0.4444444444444444,
             "#bd3786"
            ],
            [
             0.5555555555555556,
             "#d8576b"
            ],
            [
             0.6666666666666666,
             "#ed7953"
            ],
            [
             0.7777777777777778,
             "#fb9f3a"
            ],
            [
             0.8888888888888888,
             "#fdca26"
            ],
            [
             1,
             "#f0f921"
            ]
           ],
           "sequentialminus": [
            [
             0,
             "#0d0887"
            ],
            [
             0.1111111111111111,
             "#46039f"
            ],
            [
             0.2222222222222222,
             "#7201a8"
            ],
            [
             0.3333333333333333,
             "#9c179e"
            ],
            [
             0.4444444444444444,
             "#bd3786"
            ],
            [
             0.5555555555555556,
             "#d8576b"
            ],
            [
             0.6666666666666666,
             "#ed7953"
            ],
            [
             0.7777777777777778,
             "#fb9f3a"
            ],
            [
             0.8888888888888888,
             "#fdca26"
            ],
            [
             1,
             "#f0f921"
            ]
           ]
          },
          "colorway": [
           "#636efa",
           "#EF553B",
           "#00cc96",
           "#ab63fa",
           "#FFA15A",
           "#19d3f3",
           "#FF6692",
           "#B6E880",
           "#FF97FF",
           "#FECB52"
          ],
          "font": {
           "color": "#2a3f5f"
          },
          "geo": {
           "bgcolor": "white",
           "lakecolor": "white",
           "landcolor": "#E5ECF6",
           "showlakes": true,
           "showland": true,
           "subunitcolor": "white"
          },
          "hoverlabel": {
           "align": "left"
          },
          "hovermode": "closest",
          "mapbox": {
           "style": "light"
          },
          "paper_bgcolor": "white",
          "plot_bgcolor": "#E5ECF6",
          "polar": {
           "angularaxis": {
            "gridcolor": "white",
            "linecolor": "white",
            "ticks": ""
           },
           "bgcolor": "#E5ECF6",
           "radialaxis": {
            "gridcolor": "white",
            "linecolor": "white",
            "ticks": ""
           }
          },
          "scene": {
           "xaxis": {
            "backgroundcolor": "#E5ECF6",
            "gridcolor": "white",
            "gridwidth": 2,
            "linecolor": "white",
            "showbackground": true,
            "ticks": "",
            "zerolinecolor": "white"
           },
           "yaxis": {
            "backgroundcolor": "#E5ECF6",
            "gridcolor": "white",
            "gridwidth": 2,
            "linecolor": "white",
            "showbackground": true,
            "ticks": "",
            "zerolinecolor": "white"
           },
           "zaxis": {
            "backgroundcolor": "#E5ECF6",
            "gridcolor": "white",
            "gridwidth": 2,
            "linecolor": "white",
            "showbackground": true,
            "ticks": "",
            "zerolinecolor": "white"
           }
          },
          "shapedefaults": {
           "line": {
            "color": "#2a3f5f"
           }
          },
          "ternary": {
           "aaxis": {
            "gridcolor": "white",
            "linecolor": "white",
            "ticks": ""
           },
           "baxis": {
            "gridcolor": "white",
            "linecolor": "white",
            "ticks": ""
           },
           "bgcolor": "#E5ECF6",
           "caxis": {
            "gridcolor": "white",
            "linecolor": "white",
            "ticks": ""
           }
          },
          "title": {
           "x": 0.05
          },
          "xaxis": {
           "automargin": true,
           "gridcolor": "white",
           "linecolor": "white",
           "ticks": "",
           "title": {
            "standoff": 15
           },
           "zerolinecolor": "white",
           "zerolinewidth": 2
          },
          "yaxis": {
           "automargin": true,
           "gridcolor": "white",
           "linecolor": "white",
           "ticks": "",
           "title": {
            "standoff": 15
           },
           "zerolinecolor": "white",
           "zerolinewidth": 2
          }
         }
        },
        "title": {
         "text": "Hyperparameter Importances"
        },
        "xaxis": {
         "title": {
          "text": "Hyperparameter Importance"
         }
        },
        "yaxis": {
         "title": {
          "text": "Hyperparameter"
         }
        }
       }
      }
     },
     "metadata": {},
     "output_type": "display_data"
    },
    {
     "data": {
      "application/vnd.plotly.v1+json": {
       "config": {
        "plotlyServerURL": "https://plot.ly"
       },
       "data": [
        {
         "marker": {
          "color": [
           0,
           2,
           3,
           4,
           5,
           6,
           7,
           8,
           9,
           10,
           11,
           12,
           13,
           14,
           15,
           16,
           17,
           18,
           19,
           20,
           21,
           22,
           23,
           24,
           25,
           26,
           27,
           28,
           30,
           31,
           32,
           33,
           35,
           36,
           37,
           40,
           41,
           42,
           43,
           44,
           46,
           47,
           49,
           50,
           51,
           52,
           53,
           54,
           55,
           56,
           57,
           58,
           59,
           60,
           61,
           62,
           63,
           64,
           66,
           67,
           69,
           70,
           71,
           72,
           73,
           74,
           75,
           76,
           77,
           78,
           79,
           80,
           81,
           82,
           83,
           84,
           85,
           86,
           87,
           88,
           91,
           92,
           93,
           94,
           95,
           97,
           99
          ],
          "colorbar": {
           "title": {
            "text": "Trial"
           },
           "x": 1,
           "xpad": 40
          },
          "colorscale": [
           [
            0,
            "rgb(247,251,255)"
           ],
           [
            0.125,
            "rgb(222,235,247)"
           ],
           [
            0.25,
            "rgb(198,219,239)"
           ],
           [
            0.375,
            "rgb(158,202,225)"
           ],
           [
            0.5,
            "rgb(107,174,214)"
           ],
           [
            0.625,
            "rgb(66,146,198)"
           ],
           [
            0.75,
            "rgb(33,113,181)"
           ],
           [
            0.875,
            "rgb(8,81,156)"
           ],
           [
            1,
            "rgb(8,48,107)"
           ]
          ],
          "line": {
           "color": "Grey",
           "width": 0.5
          },
          "showscale": true
         },
         "mode": "markers",
         "name": "Feasible Trial",
         "showlegend": false,
         "type": "scatter",
         "x": [
          true,
          false,
          true,
          false,
          false,
          false,
          true,
          false,
          false,
          true,
          true,
          true,
          true,
          false,
          false,
          false,
          false,
          false,
          false,
          false,
          false,
          false,
          false,
          false,
          false,
          false,
          false,
          false,
          false,
          false,
          false,
          false,
          false,
          false,
          false,
          false,
          false,
          false,
          false,
          false,
          false,
          false,
          false,
          false,
          false,
          false,
          false,
          false,
          false,
          true,
          false,
          false,
          false,
          false,
          false,
          false,
          false,
          false,
          false,
          false,
          false,
          false,
          false,
          false,
          false,
          false,
          false,
          false,
          false,
          false,
          true,
          false,
          false,
          false,
          false,
          false,
          false,
          false,
          false,
          false,
          false,
          false,
          false,
          false,
          false,
          false,
          false
         ],
         "xaxis": "x",
         "y": [
          -0.0012000000000000899,
          -0.010383333333333336,
          -0.0011499999999999844,
          -0.043500000000000094,
          -0.011225000000000013,
          -0.00044444444444444485,
          -0.0012000000000000899,
          -0.002335714285714298,
          -0.011225000000000013,
          -0.043500000000000094,
          -0.0011499999999999844,
          -0.0011499999999999844,
          -0.0011499999999999844,
          -0.00044444444444444485,
          -0.00044444444444444485,
          -0.043500000000000094,
          -0.00044444444444444485,
          -0.00044444444444444485,
          -0.043500000000000094,
          -0.00044444444444444485,
          -0.00044444444444444485,
          -0.00044444444444444485,
          -0.00044444444444444485,
          -0.00044444444444444485,
          -0.00044444444444444485,
          0.021150000000000002,
          0.021150000000000002,
          0.021150000000000002,
          0.021150000000000002,
          0.021150000000000002,
          0.021150000000000002,
          0.021150000000000002,
          0.021150000000000002,
          0.021150000000000002,
          0.021150000000000002,
          0.021150000000000002,
          0.021150000000000002,
          0.021150000000000002,
          0.021150000000000002,
          0.021150000000000002,
          0.021150000000000002,
          0.021150000000000002,
          0.021150000000000002,
          0.021150000000000002,
          0.021150000000000002,
          0.021150000000000002,
          -0.011225000000000013,
          0.021150000000000002,
          0.021150000000000002,
          0.021150000000000002,
          -0.011225000000000013,
          0.021150000000000002,
          -0.011225000000000013,
          0.021150000000000002,
          0.021150000000000002,
          0.021150000000000002,
          0.021150000000000002,
          0.021150000000000002,
          0.021150000000000002,
          -0.011225000000000013,
          0.021150000000000002,
          0.021150000000000002,
          0.021150000000000002,
          0.021150000000000002,
          0.021150000000000002,
          0.021150000000000002,
          0.021150000000000002,
          0.021150000000000002,
          0.021150000000000002,
          0.021150000000000002,
          0.021150000000000002,
          0.021150000000000002,
          0.021150000000000002,
          0.021150000000000002,
          0.021150000000000002,
          0.021150000000000002,
          0.021150000000000002,
          -0.011730000000000018,
          0.021150000000000002,
          0.021150000000000002,
          0.021150000000000002,
          0.021150000000000002,
          0.021150000000000002,
          0.021150000000000002,
          0.021150000000000002,
          -0.011225000000000013,
          0.021150000000000002
         ],
         "yaxis": "y"
        },
        {
         "marker": {
          "color": [
           0,
           2,
           3,
           4,
           5,
           6,
           7,
           8,
           9,
           10,
           11,
           12,
           13,
           14,
           15,
           16,
           17,
           18,
           19,
           20,
           21,
           22,
           23,
           24,
           25,
           26,
           27,
           28,
           30,
           31,
           32,
           33,
           35,
           36,
           37,
           40,
           41,
           42,
           43,
           44,
           46,
           47,
           49,
           50,
           51,
           52,
           53,
           54,
           55,
           56,
           57,
           58,
           59,
           60,
           61,
           62,
           63,
           64,
           66,
           67,
           69,
           70,
           71,
           72,
           73,
           74,
           75,
           76,
           77,
           78,
           79,
           80,
           81,
           82,
           83,
           84,
           85,
           86,
           87,
           88,
           91,
           92,
           93,
           94,
           95,
           97,
           99
          ],
          "colorbar": {
           "title": {
            "text": "Trial"
           },
           "x": 1,
           "xpad": 40
          },
          "colorscale": [
           [
            0,
            "rgb(247,251,255)"
           ],
           [
            0.125,
            "rgb(222,235,247)"
           ],
           [
            0.25,
            "rgb(198,219,239)"
           ],
           [
            0.375,
            "rgb(158,202,225)"
           ],
           [
            0.5,
            "rgb(107,174,214)"
           ],
           [
            0.625,
            "rgb(66,146,198)"
           ],
           [
            0.75,
            "rgb(33,113,181)"
           ],
           [
            0.875,
            "rgb(8,81,156)"
           ],
           [
            1,
            "rgb(8,48,107)"
           ]
          ],
          "line": {
           "color": "Grey",
           "width": 0.5
          },
          "showscale": false
         },
         "mode": "markers",
         "name": "Feasible Trial",
         "showlegend": false,
         "type": "scatter",
         "x": [
          true,
          false,
          true,
          true,
          false,
          true,
          false,
          false,
          false,
          true,
          true,
          true,
          true,
          true,
          true,
          true,
          true,
          true,
          true,
          true,
          true,
          true,
          true,
          true,
          true,
          false,
          false,
          false,
          false,
          false,
          false,
          false,
          false,
          false,
          false,
          false,
          false,
          false,
          false,
          false,
          false,
          false,
          false,
          false,
          false,
          false,
          false,
          false,
          false,
          false,
          false,
          false,
          false,
          false,
          false,
          false,
          false,
          false,
          false,
          false,
          false,
          false,
          false,
          false,
          false,
          false,
          false,
          false,
          false,
          false,
          false,
          false,
          false,
          false,
          false,
          false,
          false,
          false,
          false,
          false,
          false,
          false,
          false,
          false,
          false,
          false,
          false
         ],
         "xaxis": "x2",
         "y": [
          -0.0012000000000000899,
          -0.010383333333333336,
          -0.0011499999999999844,
          -0.043500000000000094,
          -0.011225000000000013,
          -0.00044444444444444485,
          -0.0012000000000000899,
          -0.002335714285714298,
          -0.011225000000000013,
          -0.043500000000000094,
          -0.0011499999999999844,
          -0.0011499999999999844,
          -0.0011499999999999844,
          -0.00044444444444444485,
          -0.00044444444444444485,
          -0.043500000000000094,
          -0.00044444444444444485,
          -0.00044444444444444485,
          -0.043500000000000094,
          -0.00044444444444444485,
          -0.00044444444444444485,
          -0.00044444444444444485,
          -0.00044444444444444485,
          -0.00044444444444444485,
          -0.00044444444444444485,
          0.021150000000000002,
          0.021150000000000002,
          0.021150000000000002,
          0.021150000000000002,
          0.021150000000000002,
          0.021150000000000002,
          0.021150000000000002,
          0.021150000000000002,
          0.021150000000000002,
          0.021150000000000002,
          0.021150000000000002,
          0.021150000000000002,
          0.021150000000000002,
          0.021150000000000002,
          0.021150000000000002,
          0.021150000000000002,
          0.021150000000000002,
          0.021150000000000002,
          0.021150000000000002,
          0.021150000000000002,
          0.021150000000000002,
          -0.011225000000000013,
          0.021150000000000002,
          0.021150000000000002,
          0.021150000000000002,
          -0.011225000000000013,
          0.021150000000000002,
          -0.011225000000000013,
          0.021150000000000002,
          0.021150000000000002,
          0.021150000000000002,
          0.021150000000000002,
          0.021150000000000002,
          0.021150000000000002,
          -0.011225000000000013,
          0.021150000000000002,
          0.021150000000000002,
          0.021150000000000002,
          0.021150000000000002,
          0.021150000000000002,
          0.021150000000000002,
          0.021150000000000002,
          0.021150000000000002,
          0.021150000000000002,
          0.021150000000000002,
          0.021150000000000002,
          0.021150000000000002,
          0.021150000000000002,
          0.021150000000000002,
          0.021150000000000002,
          0.021150000000000002,
          0.021150000000000002,
          -0.011730000000000018,
          0.021150000000000002,
          0.021150000000000002,
          0.021150000000000002,
          0.021150000000000002,
          0.021150000000000002,
          0.021150000000000002,
          0.021150000000000002,
          -0.011225000000000013,
          0.021150000000000002
         ],
         "yaxis": "y2"
        },
        {
         "marker": {
          "color": [
           0,
           2,
           3,
           4,
           5,
           6,
           7,
           8,
           9,
           10,
           11,
           12,
           13,
           14,
           15,
           16,
           17,
           18,
           19,
           20,
           21,
           22,
           23,
           24,
           25,
           26,
           27,
           28,
           30,
           31,
           32,
           33,
           35,
           36,
           37,
           40,
           41,
           42,
           43,
           44,
           46,
           47,
           49,
           50,
           51,
           52,
           53,
           54,
           55,
           56,
           57,
           58,
           59,
           60,
           61,
           62,
           63,
           64,
           66,
           67,
           69,
           70,
           71,
           72,
           73,
           74,
           75,
           76,
           77,
           78,
           79,
           80,
           81,
           82,
           83,
           84,
           85,
           86,
           87,
           88,
           91,
           92,
           93,
           94,
           95,
           97,
           99
          ],
          "colorbar": {
           "title": {
            "text": "Trial"
           },
           "x": 1,
           "xpad": 40
          },
          "colorscale": [
           [
            0,
            "rgb(247,251,255)"
           ],
           [
            0.125,
            "rgb(222,235,247)"
           ],
           [
            0.25,
            "rgb(198,219,239)"
           ],
           [
            0.375,
            "rgb(158,202,225)"
           ],
           [
            0.5,
            "rgb(107,174,214)"
           ],
           [
            0.625,
            "rgb(66,146,198)"
           ],
           [
            0.75,
            "rgb(33,113,181)"
           ],
           [
            0.875,
            "rgb(8,81,156)"
           ],
           [
            1,
            "rgb(8,48,107)"
           ]
          ],
          "line": {
           "color": "Grey",
           "width": 0.5
          },
          "showscale": false
         },
         "mode": "markers",
         "name": "Feasible Trial",
         "showlegend": false,
         "type": "scatter",
         "x": [
          true,
          true,
          false,
          false,
          true,
          false,
          false,
          false,
          true,
          false,
          false,
          false,
          false,
          false,
          false,
          false,
          false,
          false,
          false,
          false,
          false,
          false,
          false,
          false,
          false,
          true,
          true,
          true,
          true,
          true,
          true,
          true,
          true,
          true,
          true,
          true,
          true,
          true,
          true,
          true,
          true,
          true,
          true,
          true,
          true,
          true,
          true,
          true,
          true,
          true,
          true,
          true,
          true,
          true,
          true,
          true,
          true,
          true,
          true,
          true,
          true,
          true,
          true,
          true,
          true,
          true,
          true,
          true,
          true,
          true,
          true,
          true,
          true,
          true,
          true,
          true,
          true,
          true,
          true,
          true,
          true,
          true,
          true,
          true,
          true,
          true,
          true
         ],
         "xaxis": "x3",
         "y": [
          -0.0012000000000000899,
          -0.010383333333333336,
          -0.0011499999999999844,
          -0.043500000000000094,
          -0.011225000000000013,
          -0.00044444444444444485,
          -0.0012000000000000899,
          -0.002335714285714298,
          -0.011225000000000013,
          -0.043500000000000094,
          -0.0011499999999999844,
          -0.0011499999999999844,
          -0.0011499999999999844,
          -0.00044444444444444485,
          -0.00044444444444444485,
          -0.043500000000000094,
          -0.00044444444444444485,
          -0.00044444444444444485,
          -0.043500000000000094,
          -0.00044444444444444485,
          -0.00044444444444444485,
          -0.00044444444444444485,
          -0.00044444444444444485,
          -0.00044444444444444485,
          -0.00044444444444444485,
          0.021150000000000002,
          0.021150000000000002,
          0.021150000000000002,
          0.021150000000000002,
          0.021150000000000002,
          0.021150000000000002,
          0.021150000000000002,
          0.021150000000000002,
          0.021150000000000002,
          0.021150000000000002,
          0.021150000000000002,
          0.021150000000000002,
          0.021150000000000002,
          0.021150000000000002,
          0.021150000000000002,
          0.021150000000000002,
          0.021150000000000002,
          0.021150000000000002,
          0.021150000000000002,
          0.021150000000000002,
          0.021150000000000002,
          -0.011225000000000013,
          0.021150000000000002,
          0.021150000000000002,
          0.021150000000000002,
          -0.011225000000000013,
          0.021150000000000002,
          -0.011225000000000013,
          0.021150000000000002,
          0.021150000000000002,
          0.021150000000000002,
          0.021150000000000002,
          0.021150000000000002,
          0.021150000000000002,
          -0.011225000000000013,
          0.021150000000000002,
          0.021150000000000002,
          0.021150000000000002,
          0.021150000000000002,
          0.021150000000000002,
          0.021150000000000002,
          0.021150000000000002,
          0.021150000000000002,
          0.021150000000000002,
          0.021150000000000002,
          0.021150000000000002,
          0.021150000000000002,
          0.021150000000000002,
          0.021150000000000002,
          0.021150000000000002,
          0.021150000000000002,
          0.021150000000000002,
          -0.011730000000000018,
          0.021150000000000002,
          0.021150000000000002,
          0.021150000000000002,
          0.021150000000000002,
          0.021150000000000002,
          0.021150000000000002,
          0.021150000000000002,
          -0.011225000000000013,
          0.021150000000000002
         ],
         "yaxis": "y3"
        },
        {
         "marker": {
          "color": [
           0,
           2,
           3,
           4,
           5,
           6,
           7,
           8,
           9,
           10,
           11,
           12,
           13,
           14,
           15,
           16,
           17,
           18,
           19,
           20,
           21,
           22,
           23,
           24,
           25,
           26,
           27,
           28,
           30,
           31,
           32,
           33,
           35,
           36,
           37,
           40,
           41,
           42,
           43,
           44,
           46,
           47,
           49,
           50,
           51,
           52,
           53,
           54,
           55,
           56,
           57,
           58,
           59,
           60,
           61,
           62,
           63,
           64,
           66,
           67,
           69,
           70,
           71,
           72,
           73,
           74,
           75,
           76,
           77,
           78,
           79,
           80,
           81,
           82,
           83,
           84,
           85,
           86,
           87,
           88,
           91,
           92,
           93,
           94,
           95,
           97,
           99
          ],
          "colorbar": {
           "title": {
            "text": "Trial"
           },
           "x": 1,
           "xpad": 40
          },
          "colorscale": [
           [
            0,
            "rgb(247,251,255)"
           ],
           [
            0.125,
            "rgb(222,235,247)"
           ],
           [
            0.25,
            "rgb(198,219,239)"
           ],
           [
            0.375,
            "rgb(158,202,225)"
           ],
           [
            0.5,
            "rgb(107,174,214)"
           ],
           [
            0.625,
            "rgb(66,146,198)"
           ],
           [
            0.75,
            "rgb(33,113,181)"
           ],
           [
            0.875,
            "rgb(8,81,156)"
           ],
           [
            1,
            "rgb(8,48,107)"
           ]
          ],
          "line": {
           "color": "Grey",
           "width": 0.5
          },
          "showscale": false
         },
         "mode": "markers",
         "name": "Feasible Trial",
         "showlegend": false,
         "type": "scatter",
         "x": [
          true,
          true,
          false,
          true,
          false,
          false,
          true,
          true,
          false,
          false,
          false,
          false,
          false,
          false,
          false,
          false,
          false,
          false,
          false,
          false,
          false,
          false,
          false,
          false,
          false,
          false,
          false,
          false,
          false,
          false,
          false,
          false,
          false,
          true,
          false,
          false,
          false,
          false,
          false,
          false,
          false,
          true,
          false,
          false,
          false,
          false,
          false,
          false,
          false,
          false,
          false,
          false,
          false,
          false,
          false,
          false,
          false,
          false,
          false,
          false,
          false,
          true,
          false,
          false,
          false,
          false,
          false,
          false,
          false,
          false,
          false,
          false,
          true,
          true,
          true,
          true,
          true,
          true,
          false,
          false,
          false,
          false,
          false,
          false,
          false,
          false,
          false
         ],
         "xaxis": "x4",
         "y": [
          -0.0012000000000000899,
          -0.010383333333333336,
          -0.0011499999999999844,
          -0.043500000000000094,
          -0.011225000000000013,
          -0.00044444444444444485,
          -0.0012000000000000899,
          -0.002335714285714298,
          -0.011225000000000013,
          -0.043500000000000094,
          -0.0011499999999999844,
          -0.0011499999999999844,
          -0.0011499999999999844,
          -0.00044444444444444485,
          -0.00044444444444444485,
          -0.043500000000000094,
          -0.00044444444444444485,
          -0.00044444444444444485,
          -0.043500000000000094,
          -0.00044444444444444485,
          -0.00044444444444444485,
          -0.00044444444444444485,
          -0.00044444444444444485,
          -0.00044444444444444485,
          -0.00044444444444444485,
          0.021150000000000002,
          0.021150000000000002,
          0.021150000000000002,
          0.021150000000000002,
          0.021150000000000002,
          0.021150000000000002,
          0.021150000000000002,
          0.021150000000000002,
          0.021150000000000002,
          0.021150000000000002,
          0.021150000000000002,
          0.021150000000000002,
          0.021150000000000002,
          0.021150000000000002,
          0.021150000000000002,
          0.021150000000000002,
          0.021150000000000002,
          0.021150000000000002,
          0.021150000000000002,
          0.021150000000000002,
          0.021150000000000002,
          -0.011225000000000013,
          0.021150000000000002,
          0.021150000000000002,
          0.021150000000000002,
          -0.011225000000000013,
          0.021150000000000002,
          -0.011225000000000013,
          0.021150000000000002,
          0.021150000000000002,
          0.021150000000000002,
          0.021150000000000002,
          0.021150000000000002,
          0.021150000000000002,
          -0.011225000000000013,
          0.021150000000000002,
          0.021150000000000002,
          0.021150000000000002,
          0.021150000000000002,
          0.021150000000000002,
          0.021150000000000002,
          0.021150000000000002,
          0.021150000000000002,
          0.021150000000000002,
          0.021150000000000002,
          0.021150000000000002,
          0.021150000000000002,
          0.021150000000000002,
          0.021150000000000002,
          0.021150000000000002,
          0.021150000000000002,
          0.021150000000000002,
          -0.011730000000000018,
          0.021150000000000002,
          0.021150000000000002,
          0.021150000000000002,
          0.021150000000000002,
          0.021150000000000002,
          0.021150000000000002,
          0.021150000000000002,
          -0.011225000000000013,
          0.021150000000000002
         ],
         "yaxis": "y4"
        },
        {
         "marker": {
          "color": [
           0,
           3,
           7,
           10,
           11,
           12,
           13,
           56,
           79
          ],
          "colorbar": {
           "title": {
            "text": "Trial"
           },
           "x": 1,
           "xpad": 40
          },
          "colorscale": [
           [
            0,
            "rgb(247,251,255)"
           ],
           [
            0.125,
            "rgb(222,235,247)"
           ],
           [
            0.25,
            "rgb(198,219,239)"
           ],
           [
            0.375,
            "rgb(158,202,225)"
           ],
           [
            0.5,
            "rgb(107,174,214)"
           ],
           [
            0.625,
            "rgb(66,146,198)"
           ],
           [
            0.75,
            "rgb(33,113,181)"
           ],
           [
            0.875,
            "rgb(8,81,156)"
           ],
           [
            1,
            "rgb(8,48,107)"
           ]
          ],
          "line": {
           "color": "Grey",
           "width": 0.5
          },
          "showscale": false
         },
         "mode": "markers",
         "name": "Feasible Trial",
         "showlegend": false,
         "type": "scatter",
         "x": [
          false,
          true,
          false,
          true,
          true,
          true,
          true,
          true,
          true
         ],
         "xaxis": "x5",
         "y": [
          -0.0012000000000000899,
          -0.0011499999999999844,
          -0.0012000000000000899,
          -0.043500000000000094,
          -0.0011499999999999844,
          -0.0011499999999999844,
          -0.0011499999999999844,
          0.021150000000000002,
          0.021150000000000002
         ],
         "yaxis": "y5"
        },
        {
         "marker": {
          "color": [
           0,
           3,
           4,
           6,
           10,
           11,
           12,
           13,
           14,
           15,
           16,
           17,
           18,
           19,
           20,
           21,
           22,
           23,
           24,
           25
          ],
          "colorbar": {
           "title": {
            "text": "Trial"
           },
           "x": 1,
           "xpad": 40
          },
          "colorscale": [
           [
            0,
            "rgb(247,251,255)"
           ],
           [
            0.125,
            "rgb(222,235,247)"
           ],
           [
            0.25,
            "rgb(198,219,239)"
           ],
           [
            0.375,
            "rgb(158,202,225)"
           ],
           [
            0.5,
            "rgb(107,174,214)"
           ],
           [
            0.625,
            "rgb(66,146,198)"
           ],
           [
            0.75,
            "rgb(33,113,181)"
           ],
           [
            0.875,
            "rgb(8,81,156)"
           ],
           [
            1,
            "rgb(8,48,107)"
           ]
          ],
          "line": {
           "color": "Grey",
           "width": 0.5
          },
          "showscale": false
         },
         "mode": "markers",
         "name": "Feasible Trial",
         "showlegend": false,
         "type": "scatter",
         "x": [
          false,
          false,
          true,
          false,
          true,
          false,
          false,
          false,
          false,
          false,
          true,
          false,
          false,
          true,
          false,
          false,
          false,
          false,
          false,
          false
         ],
         "xaxis": "x6",
         "y": [
          -0.0012000000000000899,
          -0.0011499999999999844,
          -0.043500000000000094,
          -0.00044444444444444485,
          -0.043500000000000094,
          -0.0011499999999999844,
          -0.0011499999999999844,
          -0.0011499999999999844,
          -0.00044444444444444485,
          -0.00044444444444444485,
          -0.043500000000000094,
          -0.00044444444444444485,
          -0.00044444444444444485,
          -0.043500000000000094,
          -0.00044444444444444485,
          -0.00044444444444444485,
          -0.00044444444444444485,
          -0.00044444444444444485,
          -0.00044444444444444485,
          -0.00044444444444444485
         ],
         "yaxis": "y6"
        },
        {
         "marker": {
          "color": [
           0,
           2,
           5,
           9,
           26,
           27,
           28,
           30,
           31,
           32,
           33,
           35,
           36,
           37,
           40,
           41,
           42,
           43,
           44,
           46,
           47,
           49,
           50,
           51,
           52,
           53,
           54,
           55,
           56,
           57,
           58,
           59,
           60,
           61,
           62,
           63,
           64,
           66,
           67,
           69,
           70,
           71,
           72,
           73,
           74,
           75,
           76,
           77,
           78,
           79,
           80,
           81,
           82,
           83,
           84,
           85,
           86,
           87,
           88,
           91,
           92,
           93,
           94,
           95,
           97,
           99
          ],
          "colorbar": {
           "title": {
            "text": "Trial"
           },
           "x": 1,
           "xpad": 40
          },
          "colorscale": [
           [
            0,
            "rgb(247,251,255)"
           ],
           [
            0.125,
            "rgb(222,235,247)"
           ],
           [
            0.25,
            "rgb(198,219,239)"
           ],
           [
            0.375,
            "rgb(158,202,225)"
           ],
           [
            0.5,
            "rgb(107,174,214)"
           ],
           [
            0.625,
            "rgb(66,146,198)"
           ],
           [
            0.75,
            "rgb(33,113,181)"
           ],
           [
            0.875,
            "rgb(8,81,156)"
           ],
           [
            1,
            "rgb(8,48,107)"
           ]
          ],
          "line": {
           "color": "Grey",
           "width": 0.5
          },
          "showscale": false
         },
         "mode": "markers",
         "name": "Feasible Trial",
         "showlegend": false,
         "type": "scatter",
         "x": [
          false,
          false,
          false,
          false,
          true,
          true,
          true,
          true,
          true,
          true,
          true,
          true,
          true,
          true,
          true,
          true,
          true,
          true,
          true,
          true,
          true,
          true,
          true,
          true,
          true,
          false,
          true,
          true,
          true,
          false,
          true,
          false,
          true,
          true,
          true,
          true,
          true,
          true,
          false,
          true,
          true,
          true,
          true,
          true,
          true,
          true,
          true,
          true,
          true,
          true,
          true,
          true,
          true,
          true,
          true,
          true,
          false,
          true,
          true,
          true,
          true,
          true,
          true,
          true,
          false,
          true
         ],
         "xaxis": "x7",
         "y": [
          -0.0012000000000000899,
          -0.010383333333333336,
          -0.011225000000000013,
          -0.011225000000000013,
          0.021150000000000002,
          0.021150000000000002,
          0.021150000000000002,
          0.021150000000000002,
          0.021150000000000002,
          0.021150000000000002,
          0.021150000000000002,
          0.021150000000000002,
          0.021150000000000002,
          0.021150000000000002,
          0.021150000000000002,
          0.021150000000000002,
          0.021150000000000002,
          0.021150000000000002,
          0.021150000000000002,
          0.021150000000000002,
          0.021150000000000002,
          0.021150000000000002,
          0.021150000000000002,
          0.021150000000000002,
          0.021150000000000002,
          -0.011225000000000013,
          0.021150000000000002,
          0.021150000000000002,
          0.021150000000000002,
          -0.011225000000000013,
          0.021150000000000002,
          -0.011225000000000013,
          0.021150000000000002,
          0.021150000000000002,
          0.021150000000000002,
          0.021150000000000002,
          0.021150000000000002,
          0.021150000000000002,
          -0.011225000000000013,
          0.021150000000000002,
          0.021150000000000002,
          0.021150000000000002,
          0.021150000000000002,
          0.021150000000000002,
          0.021150000000000002,
          0.021150000000000002,
          0.021150000000000002,
          0.021150000000000002,
          0.021150000000000002,
          0.021150000000000002,
          0.021150000000000002,
          0.021150000000000002,
          0.021150000000000002,
          0.021150000000000002,
          0.021150000000000002,
          0.021150000000000002,
          -0.011730000000000018,
          0.021150000000000002,
          0.021150000000000002,
          0.021150000000000002,
          0.021150000000000002,
          0.021150000000000002,
          0.021150000000000002,
          0.021150000000000002,
          -0.011225000000000013,
          0.021150000000000002
         ],
         "yaxis": "y7"
        },
        {
         "marker": {
          "color": [
           0,
           2,
           4,
           7,
           8,
           36,
           47,
           70,
           81,
           82,
           83,
           84,
           85,
           86
          ],
          "colorbar": {
           "title": {
            "text": "Trial"
           },
           "x": 1,
           "xpad": 40
          },
          "colorscale": [
           [
            0,
            "rgb(247,251,255)"
           ],
           [
            0.125,
            "rgb(222,235,247)"
           ],
           [
            0.25,
            "rgb(198,219,239)"
           ],
           [
            0.375,
            "rgb(158,202,225)"
           ],
           [
            0.5,
            "rgb(107,174,214)"
           ],
           [
            0.625,
            "rgb(66,146,198)"
           ],
           [
            0.75,
            "rgb(33,113,181)"
           ],
           [
            0.875,
            "rgb(8,81,156)"
           ],
           [
            1,
            "rgb(8,48,107)"
           ]
          ],
          "line": {
           "color": "Grey",
           "width": 0.5
          },
          "showscale": false
         },
         "mode": "markers",
         "name": "Feasible Trial",
         "showlegend": false,
         "type": "scatter",
         "x": [
          false,
          true,
          false,
          false,
          false,
          false,
          false,
          false,
          false,
          false,
          false,
          false,
          false,
          false
         ],
         "xaxis": "x8",
         "y": [
          -0.0012000000000000899,
          -0.010383333333333336,
          -0.043500000000000094,
          -0.0012000000000000899,
          -0.002335714285714298,
          0.021150000000000002,
          0.021150000000000002,
          0.021150000000000002,
          0.021150000000000002,
          0.021150000000000002,
          0.021150000000000002,
          0.021150000000000002,
          0.021150000000000002,
          -0.011730000000000018
         ],
         "yaxis": "y8"
        }
       ],
       "layout": {
        "template": {
         "data": {
          "bar": [
           {
            "error_x": {
             "color": "#2a3f5f"
            },
            "error_y": {
             "color": "#2a3f5f"
            },
            "marker": {
             "line": {
              "color": "#E5ECF6",
              "width": 0.5
             },
             "pattern": {
              "fillmode": "overlay",
              "size": 10,
              "solidity": 0.2
             }
            },
            "type": "bar"
           }
          ],
          "barpolar": [
           {
            "marker": {
             "line": {
              "color": "#E5ECF6",
              "width": 0.5
             },
             "pattern": {
              "fillmode": "overlay",
              "size": 10,
              "solidity": 0.2
             }
            },
            "type": "barpolar"
           }
          ],
          "carpet": [
           {
            "aaxis": {
             "endlinecolor": "#2a3f5f",
             "gridcolor": "white",
             "linecolor": "white",
             "minorgridcolor": "white",
             "startlinecolor": "#2a3f5f"
            },
            "baxis": {
             "endlinecolor": "#2a3f5f",
             "gridcolor": "white",
             "linecolor": "white",
             "minorgridcolor": "white",
             "startlinecolor": "#2a3f5f"
            },
            "type": "carpet"
           }
          ],
          "choropleth": [
           {
            "colorbar": {
             "outlinewidth": 0,
             "ticks": ""
            },
            "type": "choropleth"
           }
          ],
          "contour": [
           {
            "colorbar": {
             "outlinewidth": 0,
             "ticks": ""
            },
            "colorscale": [
             [
              0,
              "#0d0887"
             ],
             [
              0.1111111111111111,
              "#46039f"
             ],
             [
              0.2222222222222222,
              "#7201a8"
             ],
             [
              0.3333333333333333,
              "#9c179e"
             ],
             [
              0.4444444444444444,
              "#bd3786"
             ],
             [
              0.5555555555555556,
              "#d8576b"
             ],
             [
              0.6666666666666666,
              "#ed7953"
             ],
             [
              0.7777777777777778,
              "#fb9f3a"
             ],
             [
              0.8888888888888888,
              "#fdca26"
             ],
             [
              1,
              "#f0f921"
             ]
            ],
            "type": "contour"
           }
          ],
          "contourcarpet": [
           {
            "colorbar": {
             "outlinewidth": 0,
             "ticks": ""
            },
            "type": "contourcarpet"
           }
          ],
          "heatmap": [
           {
            "colorbar": {
             "outlinewidth": 0,
             "ticks": ""
            },
            "colorscale": [
             [
              0,
              "#0d0887"
             ],
             [
              0.1111111111111111,
              "#46039f"
             ],
             [
              0.2222222222222222,
              "#7201a8"
             ],
             [
              0.3333333333333333,
              "#9c179e"
             ],
             [
              0.4444444444444444,
              "#bd3786"
             ],
             [
              0.5555555555555556,
              "#d8576b"
             ],
             [
              0.6666666666666666,
              "#ed7953"
             ],
             [
              0.7777777777777778,
              "#fb9f3a"
             ],
             [
              0.8888888888888888,
              "#fdca26"
             ],
             [
              1,
              "#f0f921"
             ]
            ],
            "type": "heatmap"
           }
          ],
          "heatmapgl": [
           {
            "colorbar": {
             "outlinewidth": 0,
             "ticks": ""
            },
            "colorscale": [
             [
              0,
              "#0d0887"
             ],
             [
              0.1111111111111111,
              "#46039f"
             ],
             [
              0.2222222222222222,
              "#7201a8"
             ],
             [
              0.3333333333333333,
              "#9c179e"
             ],
             [
              0.4444444444444444,
              "#bd3786"
             ],
             [
              0.5555555555555556,
              "#d8576b"
             ],
             [
              0.6666666666666666,
              "#ed7953"
             ],
             [
              0.7777777777777778,
              "#fb9f3a"
             ],
             [
              0.8888888888888888,
              "#fdca26"
             ],
             [
              1,
              "#f0f921"
             ]
            ],
            "type": "heatmapgl"
           }
          ],
          "histogram": [
           {
            "marker": {
             "pattern": {
              "fillmode": "overlay",
              "size": 10,
              "solidity": 0.2
             }
            },
            "type": "histogram"
           }
          ],
          "histogram2d": [
           {
            "colorbar": {
             "outlinewidth": 0,
             "ticks": ""
            },
            "colorscale": [
             [
              0,
              "#0d0887"
             ],
             [
              0.1111111111111111,
              "#46039f"
             ],
             [
              0.2222222222222222,
              "#7201a8"
             ],
             [
              0.3333333333333333,
              "#9c179e"
             ],
             [
              0.4444444444444444,
              "#bd3786"
             ],
             [
              0.5555555555555556,
              "#d8576b"
             ],
             [
              0.6666666666666666,
              "#ed7953"
             ],
             [
              0.7777777777777778,
              "#fb9f3a"
             ],
             [
              0.8888888888888888,
              "#fdca26"
             ],
             [
              1,
              "#f0f921"
             ]
            ],
            "type": "histogram2d"
           }
          ],
          "histogram2dcontour": [
           {
            "colorbar": {
             "outlinewidth": 0,
             "ticks": ""
            },
            "colorscale": [
             [
              0,
              "#0d0887"
             ],
             [
              0.1111111111111111,
              "#46039f"
             ],
             [
              0.2222222222222222,
              "#7201a8"
             ],
             [
              0.3333333333333333,
              "#9c179e"
             ],
             [
              0.4444444444444444,
              "#bd3786"
             ],
             [
              0.5555555555555556,
              "#d8576b"
             ],
             [
              0.6666666666666666,
              "#ed7953"
             ],
             [
              0.7777777777777778,
              "#fb9f3a"
             ],
             [
              0.8888888888888888,
              "#fdca26"
             ],
             [
              1,
              "#f0f921"
             ]
            ],
            "type": "histogram2dcontour"
           }
          ],
          "mesh3d": [
           {
            "colorbar": {
             "outlinewidth": 0,
             "ticks": ""
            },
            "type": "mesh3d"
           }
          ],
          "parcoords": [
           {
            "line": {
             "colorbar": {
              "outlinewidth": 0,
              "ticks": ""
             }
            },
            "type": "parcoords"
           }
          ],
          "pie": [
           {
            "automargin": true,
            "type": "pie"
           }
          ],
          "scatter": [
           {
            "fillpattern": {
             "fillmode": "overlay",
             "size": 10,
             "solidity": 0.2
            },
            "type": "scatter"
           }
          ],
          "scatter3d": [
           {
            "line": {
             "colorbar": {
              "outlinewidth": 0,
              "ticks": ""
             }
            },
            "marker": {
             "colorbar": {
              "outlinewidth": 0,
              "ticks": ""
             }
            },
            "type": "scatter3d"
           }
          ],
          "scattercarpet": [
           {
            "marker": {
             "colorbar": {
              "outlinewidth": 0,
              "ticks": ""
             }
            },
            "type": "scattercarpet"
           }
          ],
          "scattergeo": [
           {
            "marker": {
             "colorbar": {
              "outlinewidth": 0,
              "ticks": ""
             }
            },
            "type": "scattergeo"
           }
          ],
          "scattergl": [
           {
            "marker": {
             "colorbar": {
              "outlinewidth": 0,
              "ticks": ""
             }
            },
            "type": "scattergl"
           }
          ],
          "scattermapbox": [
           {
            "marker": {
             "colorbar": {
              "outlinewidth": 0,
              "ticks": ""
             }
            },
            "type": "scattermapbox"
           }
          ],
          "scatterpolar": [
           {
            "marker": {
             "colorbar": {
              "outlinewidth": 0,
              "ticks": ""
             }
            },
            "type": "scatterpolar"
           }
          ],
          "scatterpolargl": [
           {
            "marker": {
             "colorbar": {
              "outlinewidth": 0,
              "ticks": ""
             }
            },
            "type": "scatterpolargl"
           }
          ],
          "scatterternary": [
           {
            "marker": {
             "colorbar": {
              "outlinewidth": 0,
              "ticks": ""
             }
            },
            "type": "scatterternary"
           }
          ],
          "surface": [
           {
            "colorbar": {
             "outlinewidth": 0,
             "ticks": ""
            },
            "colorscale": [
             [
              0,
              "#0d0887"
             ],
             [
              0.1111111111111111,
              "#46039f"
             ],
             [
              0.2222222222222222,
              "#7201a8"
             ],
             [
              0.3333333333333333,
              "#9c179e"
             ],
             [
              0.4444444444444444,
              "#bd3786"
             ],
             [
              0.5555555555555556,
              "#d8576b"
             ],
             [
              0.6666666666666666,
              "#ed7953"
             ],
             [
              0.7777777777777778,
              "#fb9f3a"
             ],
             [
              0.8888888888888888,
              "#fdca26"
             ],
             [
              1,
              "#f0f921"
             ]
            ],
            "type": "surface"
           }
          ],
          "table": [
           {
            "cells": {
             "fill": {
              "color": "#EBF0F8"
             },
             "line": {
              "color": "white"
             }
            },
            "header": {
             "fill": {
              "color": "#C8D4E3"
             },
             "line": {
              "color": "white"
             }
            },
            "type": "table"
           }
          ]
         },
         "layout": {
          "annotationdefaults": {
           "arrowcolor": "#2a3f5f",
           "arrowhead": 0,
           "arrowwidth": 1
          },
          "autotypenumbers": "strict",
          "coloraxis": {
           "colorbar": {
            "outlinewidth": 0,
            "ticks": ""
           }
          },
          "colorscale": {
           "diverging": [
            [
             0,
             "#8e0152"
            ],
            [
             0.1,
             "#c51b7d"
            ],
            [
             0.2,
             "#de77ae"
            ],
            [
             0.3,
             "#f1b6da"
            ],
            [
             0.4,
             "#fde0ef"
            ],
            [
             0.5,
             "#f7f7f7"
            ],
            [
             0.6,
             "#e6f5d0"
            ],
            [
             0.7,
             "#b8e186"
            ],
            [
             0.8,
             "#7fbc41"
            ],
            [
             0.9,
             "#4d9221"
            ],
            [
             1,
             "#276419"
            ]
           ],
           "sequential": [
            [
             0,
             "#0d0887"
            ],
            [
             0.1111111111111111,
             "#46039f"
            ],
            [
             0.2222222222222222,
             "#7201a8"
            ],
            [
             0.3333333333333333,
             "#9c179e"
            ],
            [
             0.4444444444444444,
             "#bd3786"
            ],
            [
             0.5555555555555556,
             "#d8576b"
            ],
            [
             0.6666666666666666,
             "#ed7953"
            ],
            [
             0.7777777777777778,
             "#fb9f3a"
            ],
            [
             0.8888888888888888,
             "#fdca26"
            ],
            [
             1,
             "#f0f921"
            ]
           ],
           "sequentialminus": [
            [
             0,
             "#0d0887"
            ],
            [
             0.1111111111111111,
             "#46039f"
            ],
            [
             0.2222222222222222,
             "#7201a8"
            ],
            [
             0.3333333333333333,
             "#9c179e"
            ],
            [
             0.4444444444444444,
             "#bd3786"
            ],
            [
             0.5555555555555556,
             "#d8576b"
            ],
            [
             0.6666666666666666,
             "#ed7953"
            ],
            [
             0.7777777777777778,
             "#fb9f3a"
            ],
            [
             0.8888888888888888,
             "#fdca26"
            ],
            [
             1,
             "#f0f921"
            ]
           ]
          },
          "colorway": [
           "#636efa",
           "#EF553B",
           "#00cc96",
           "#ab63fa",
           "#FFA15A",
           "#19d3f3",
           "#FF6692",
           "#B6E880",
           "#FF97FF",
           "#FECB52"
          ],
          "font": {
           "color": "#2a3f5f"
          },
          "geo": {
           "bgcolor": "white",
           "lakecolor": "white",
           "landcolor": "#E5ECF6",
           "showlakes": true,
           "showland": true,
           "subunitcolor": "white"
          },
          "hoverlabel": {
           "align": "left"
          },
          "hovermode": "closest",
          "mapbox": {
           "style": "light"
          },
          "paper_bgcolor": "white",
          "plot_bgcolor": "#E5ECF6",
          "polar": {
           "angularaxis": {
            "gridcolor": "white",
            "linecolor": "white",
            "ticks": ""
           },
           "bgcolor": "#E5ECF6",
           "radialaxis": {
            "gridcolor": "white",
            "linecolor": "white",
            "ticks": ""
           }
          },
          "scene": {
           "xaxis": {
            "backgroundcolor": "#E5ECF6",
            "gridcolor": "white",
            "gridwidth": 2,
            "linecolor": "white",
            "showbackground": true,
            "ticks": "",
            "zerolinecolor": "white"
           },
           "yaxis": {
            "backgroundcolor": "#E5ECF6",
            "gridcolor": "white",
            "gridwidth": 2,
            "linecolor": "white",
            "showbackground": true,
            "ticks": "",
            "zerolinecolor": "white"
           },
           "zaxis": {
            "backgroundcolor": "#E5ECF6",
            "gridcolor": "white",
            "gridwidth": 2,
            "linecolor": "white",
            "showbackground": true,
            "ticks": "",
            "zerolinecolor": "white"
           }
          },
          "shapedefaults": {
           "line": {
            "color": "#2a3f5f"
           }
          },
          "ternary": {
           "aaxis": {
            "gridcolor": "white",
            "linecolor": "white",
            "ticks": ""
           },
           "baxis": {
            "gridcolor": "white",
            "linecolor": "white",
            "ticks": ""
           },
           "bgcolor": "#E5ECF6",
           "caxis": {
            "gridcolor": "white",
            "linecolor": "white",
            "ticks": ""
           }
          },
          "title": {
           "x": 0.05
          },
          "xaxis": {
           "automargin": true,
           "gridcolor": "white",
           "linecolor": "white",
           "ticks": "",
           "title": {
            "standoff": 15
           },
           "zerolinecolor": "white",
           "zerolinewidth": 2
          },
          "yaxis": {
           "automargin": true,
           "gridcolor": "white",
           "linecolor": "white",
           "ticks": "",
           "title": {
            "standoff": 15
           },
           "zerolinecolor": "white",
           "zerolinewidth": 2
          }
         }
        },
        "title": {
         "text": "Slice Plot"
        },
        "width": 2400,
        "xaxis": {
         "anchor": "y",
         "categoryarray": [
          true,
          false
         ],
         "categoryorder": "array",
         "domain": [
          0,
          0.103125
         ],
         "title": {
          "text": "include_htf_poi_ltf_confirmation"
         },
         "type": "category"
        },
        "xaxis2": {
         "anchor": "y2",
         "categoryarray": [
          true,
          false
         ],
         "categoryorder": "array",
         "domain": [
          0.128125,
          0.23124999999999998
         ],
         "title": {
          "text": "include_type_1_m5"
         },
         "type": "category"
        },
        "xaxis3": {
         "anchor": "y3",
         "categoryarray": [
          true,
          false
         ],
         "categoryorder": "array",
         "domain": [
          0.25625,
          0.359375
         ],
         "title": {
          "text": "include_type_2_m5"
         },
         "type": "category"
        },
        "xaxis4": {
         "anchor": "y4",
         "categoryarray": [
          true,
          false
         ],
         "categoryorder": "array",
         "domain": [
          0.38437499999999997,
          0.48749999999999993
         ],
         "title": {
          "text": "include_type_3_m5"
         },
         "type": "category"
        },
        "xaxis5": {
         "anchor": "y5",
         "categoryarray": [
          true,
          false
         ],
         "categoryorder": "array",
         "domain": [
          0.5125,
          0.615625
         ],
         "title": {
          "text": "value_htf_poi_ltf_confirmation"
         },
         "type": "category"
        },
        "xaxis6": {
         "anchor": "y6",
         "categoryarray": [
          false,
          true
         ],
         "categoryorder": "array",
         "domain": [
          0.640625,
          0.74375
         ],
         "title": {
          "text": "value_type_1_m5"
         },
         "type": "category"
        },
        "xaxis7": {
         "anchor": "y7",
         "categoryarray": [
          false,
          true
         ],
         "categoryorder": "array",
         "domain": [
          0.7687499999999999,
          0.871875
         ],
         "title": {
          "text": "value_type_2_m5"
         },
         "type": "category"
        },
        "xaxis8": {
         "anchor": "y8",
         "categoryarray": [
          false,
          true
         ],
         "categoryorder": "array",
         "domain": [
          0.896875,
          1
         ],
         "title": {
          "text": "value_type_3_m5"
         },
         "type": "category"
        },
        "yaxis": {
         "anchor": "x",
         "domain": [
          0,
          1
         ],
         "title": {
          "text": "Objective Value"
         }
        },
        "yaxis2": {
         "anchor": "x2",
         "domain": [
          0,
          1
         ],
         "matches": "y",
         "showticklabels": false
        },
        "yaxis3": {
         "anchor": "x3",
         "domain": [
          0,
          1
         ],
         "matches": "y",
         "showticklabels": false
        },
        "yaxis4": {
         "anchor": "x4",
         "domain": [
          0,
          1
         ],
         "matches": "y",
         "showticklabels": false
        },
        "yaxis5": {
         "anchor": "x5",
         "domain": [
          0,
          1
         ],
         "matches": "y",
         "showticklabels": false
        },
        "yaxis6": {
         "anchor": "x6",
         "domain": [
          0,
          1
         ],
         "matches": "y",
         "showticklabels": false
        },
        "yaxis7": {
         "anchor": "x7",
         "domain": [
          0,
          1
         ],
         "matches": "y",
         "showticklabels": false
        },
        "yaxis8": {
         "anchor": "x8",
         "domain": [
          0,
          1
         ],
         "matches": "y",
         "showticklabels": false
        }
       }
      }
     },
     "metadata": {},
     "output_type": "display_data"
    }
   ],
   "source": [
    "# visualize stuff\n",
    "import optuna\n",
    "import plotly\n",
    "from optuna.visualization import plot_optimization_history\n",
    "from optuna.visualization import plot_slice\n",
    "from optuna.visualization import plot_param_importances\n",
    "\n",
    "# disable optuna warnings\n",
    "optuna.logging.set_verbosity(optuna.logging.ERROR)\n",
    "\n",
    "plot_optimization_history(study).show()\n",
    "plot_param_importances(study).show()\n",
    "plot_slice(study).show()"
   ]
  },
  {
   "cell_type": "code",
   "execution_count": 56,
   "metadata": {},
   "outputs": [
    {
     "ename": "FileNotFoundError",
     "evalue": "[Errno 2] No such file or directory: 'output/index.md'",
     "output_type": "error",
     "traceback": [
      "\u001b[0;31m---------------------------------------------------------------------------\u001b[0m",
      "\u001b[0;31mFileNotFoundError\u001b[0m                         Traceback (most recent call last)",
      "Cell \u001b[0;32mIn[56], line 47\u001b[0m\n\u001b[1;32m     43\u001b[0m     \u001b[38;5;28;01mwith\u001b[39;00m \u001b[38;5;28mopen\u001b[39m(\u001b[38;5;124mf\u001b[39m\u001b[38;5;124m'\u001b[39m\u001b[38;5;132;01m{\u001b[39;00moutput_dir\u001b[38;5;132;01m}\u001b[39;00m\u001b[38;5;124m/index.md\u001b[39m\u001b[38;5;124m'\u001b[39m, \u001b[38;5;124m'\u001b[39m\u001b[38;5;124mw\u001b[39m\u001b[38;5;124m'\u001b[39m) \u001b[38;5;28;01mas\u001b[39;00m f:\n\u001b[1;32m     44\u001b[0m         f\u001b[38;5;241m.\u001b[39mwrite(\u001b[38;5;124m'\u001b[39m\u001b[38;5;124m'\u001b[39m\u001b[38;5;241m.\u001b[39mjoin(lines))\n\u001b[0;32m---> 47\u001b[0m \u001b[43mmarkdown_report_study\u001b[49m\u001b[43m(\u001b[49m\u001b[43mstudy\u001b[49m\u001b[43m,\u001b[49m\u001b[43m \u001b[49m\u001b[43moutput_dir\u001b[49m\u001b[38;5;241;43m=\u001b[39;49m\u001b[38;5;124;43m'\u001b[39;49m\u001b[38;5;124;43moutput\u001b[39;49m\u001b[38;5;124;43m'\u001b[39;49m\u001b[43m)\u001b[49m\n",
      "Cell \u001b[0;32mIn[56], line 33\u001b[0m, in \u001b[0;36mmarkdown_report_study\u001b[0;34m(study, output_dir)\u001b[0m\n\u001b[1;32m     29\u001b[0m     f\u001b[38;5;241m.\u001b[39mwrite(best_trial_str)\n\u001b[1;32m     32\u001b[0m \u001b[38;5;66;03m# find the section or create it and add md link to the best trial in the study\u001b[39;00m\n\u001b[0;32m---> 33\u001b[0m \u001b[38;5;28;01mwith\u001b[39;00m \u001b[38;5;28;43mopen\u001b[39;49m\u001b[43m(\u001b[49m\u001b[38;5;124;43mf\u001b[39;49m\u001b[38;5;124;43m'\u001b[39;49m\u001b[38;5;132;43;01m{\u001b[39;49;00m\u001b[43moutput_dir\u001b[49m\u001b[38;5;132;43;01m}\u001b[39;49;00m\u001b[38;5;124;43m/index.md\u001b[39;49m\u001b[38;5;124;43m'\u001b[39;49m\u001b[43m,\u001b[49m\u001b[43m \u001b[49m\u001b[38;5;124;43m'\u001b[39;49m\u001b[38;5;124;43mr\u001b[39;49m\u001b[38;5;124;43m'\u001b[39;49m\u001b[43m)\u001b[49m \u001b[38;5;28;01mas\u001b[39;00m f:\n\u001b[1;32m     34\u001b[0m     lines \u001b[38;5;241m=\u001b[39m f\u001b[38;5;241m.\u001b[39mreadlines()\n\u001b[1;32m     35\u001b[0m     found \u001b[38;5;241m=\u001b[39m \u001b[38;5;28;01mFalse\u001b[39;00m\n",
      "File \u001b[0;32m~/miniconda3/lib/python3.12/site-packages/IPython/core/interactiveshell.py:324\u001b[0m, in \u001b[0;36m_modified_open\u001b[0;34m(file, *args, **kwargs)\u001b[0m\n\u001b[1;32m    317\u001b[0m \u001b[38;5;28;01mif\u001b[39;00m file \u001b[38;5;129;01min\u001b[39;00m {\u001b[38;5;241m0\u001b[39m, \u001b[38;5;241m1\u001b[39m, \u001b[38;5;241m2\u001b[39m}:\n\u001b[1;32m    318\u001b[0m     \u001b[38;5;28;01mraise\u001b[39;00m \u001b[38;5;167;01mValueError\u001b[39;00m(\n\u001b[1;32m    319\u001b[0m         \u001b[38;5;124mf\u001b[39m\u001b[38;5;124m\"\u001b[39m\u001b[38;5;124mIPython won\u001b[39m\u001b[38;5;124m'\u001b[39m\u001b[38;5;124mt let you open fd=\u001b[39m\u001b[38;5;132;01m{\u001b[39;00mfile\u001b[38;5;132;01m}\u001b[39;00m\u001b[38;5;124m by default \u001b[39m\u001b[38;5;124m\"\u001b[39m\n\u001b[1;32m    320\u001b[0m         \u001b[38;5;124m\"\u001b[39m\u001b[38;5;124mas it is likely to crash IPython. If you know what you are doing, \u001b[39m\u001b[38;5;124m\"\u001b[39m\n\u001b[1;32m    321\u001b[0m         \u001b[38;5;124m\"\u001b[39m\u001b[38;5;124myou can use builtins\u001b[39m\u001b[38;5;124m'\u001b[39m\u001b[38;5;124m open.\u001b[39m\u001b[38;5;124m\"\u001b[39m\n\u001b[1;32m    322\u001b[0m     )\n\u001b[0;32m--> 324\u001b[0m \u001b[38;5;28;01mreturn\u001b[39;00m \u001b[43mio_open\u001b[49m\u001b[43m(\u001b[49m\u001b[43mfile\u001b[49m\u001b[43m,\u001b[49m\u001b[43m \u001b[49m\u001b[38;5;241;43m*\u001b[39;49m\u001b[43margs\u001b[49m\u001b[43m,\u001b[49m\u001b[43m \u001b[49m\u001b[38;5;241;43m*\u001b[39;49m\u001b[38;5;241;43m*\u001b[39;49m\u001b[43mkwargs\u001b[49m\u001b[43m)\u001b[49m\n",
      "\u001b[0;31mFileNotFoundError\u001b[0m: [Errno 2] No such file or directory: 'output/index.md'"
     ]
    }
   ],
   "source": [
    "!rm -rf output/studies.md\n",
    "import pprint\n",
    "def markdown_report_study(study:optuna.Study, output_dir='output'):\n",
    "    SECTION_OPTUNA_STUDIES = '## Optuna Studies'\n",
    "    SECTION_BEST_TRIAL = f'### {study.study_name} - {study.best_trial.number}'\n",
    "    GENERATION_TIME = datetime.now().strftime('%Y-%m-%d %H:%M:%S')\n",
    "    \n",
    "    best_trial = study.best_trial\n",
    "    best_trial_params = best_trial.params\n",
    "    best_trial_value = best_trial.value\n",
    "    best_trial_number = best_trial.number\n",
    "    best_trial_number\n",
    "    best_trial_params\n",
    "    best_trial_value\n",
    "    # add the params as nicely formatted json inside code block\n",
    "    best_trial_params_str = f'''\n",
    "```json\n",
    "{pprint.pformat(best_trial_params)}\n",
    "```\n",
    "''' \n",
    "    \n",
    "    best_trial_str = f'''\n",
    "{SECTION_BEST_TRIAL}\n",
    "- generation time: {GENERATION_TIME}\n",
    "- best trial value: {best_trial_value}\n",
    "- best trial params: {best_trial_params_str}\n",
    "'''\n",
    "    with open(f'{output_dir}/studies.md', 'a') as f:\n",
    "        f.write(best_trial_str)\n",
    "\n",
    "    \n",
    "    # find the section or create it and add md link to the best trial in the study\n",
    "    with open(f'{output_dir}/index.md', 'r') as f:\n",
    "        lines = f.readlines()\n",
    "        found = False\n",
    "        for i, line in enumerate(lines):\n",
    "            if SECTION_OPTUNA_STUDIES in line:\n",
    "                found = True\n",
    "                break\n",
    "        if not found:\n",
    "            lines.append(f'\\n{SECTION_OPTUNA_STUDIES}\\n')\n",
    "        lines.append(f'- [[studies.md{SECTION_BEST_TRIAL}]]\\n')\n",
    "    with open(f'{output_dir}/index.md', 'w') as f:\n",
    "        f.write(''.join(lines))\n",
    "        \n",
    "\n",
    "markdown_report_study(study, output_dir='output')"
   ]
  },
  {
   "cell_type": "code",
   "execution_count": 57,
   "metadata": {},
   "outputs": [
    {
     "ename": "TypeError",
     "evalue": "unhashable type: 'list'",
     "output_type": "error",
     "traceback": [
      "\u001b[0;31m---------------------------------------------------------------------------\u001b[0m",
      "\u001b[0;31mTypeError\u001b[0m                                 Traceback (most recent call last)",
      "Cell \u001b[0;32mIn[57], line 1\u001b[0m\n\u001b[0;32m----> 1\u001b[0m full_df \u001b[38;5;241m=\u001b[39m \u001b[43mget_full_df\u001b[49m\u001b[43m(\u001b[49m\u001b[43m)\u001b[49m\n\u001b[1;32m      2\u001b[0m \u001b[38;5;66;03m#rename return column to return_points\u001b[39;00m\n\u001b[1;32m      3\u001b[0m full_df \u001b[38;5;241m=\u001b[39m full_df[full_df[\u001b[38;5;124m'\u001b[39m\u001b[38;5;124maccount\u001b[39m\u001b[38;5;124m'\u001b[39m] \u001b[38;5;241m==\u001b[39m \u001b[38;5;124m'\u001b[39m\u001b[38;5;124mtest_account\u001b[39m\u001b[38;5;124m'\u001b[39m]\n",
      "File \u001b[0;32m~/Library/CloudStorage/OneDrive-Personal/2025/trade_journal/src/journal.py:499\u001b[0m, in \u001b[0;36mget_full_df\u001b[0;34m()\u001b[0m\n\u001b[1;32m    498\u001b[0m \u001b[38;5;28;01mdef\u001b[39;00m \u001b[38;5;21mget_full_df\u001b[39m():\n\u001b[0;32m--> 499\u001b[0m     \u001b[38;5;28;01mreturn\u001b[39;00m \u001b[43mj\u001b[49m\u001b[38;5;241;43m.\u001b[39;49m\u001b[43mto_dataframe\u001b[49m\u001b[43m(\u001b[49m\u001b[43m)\u001b[49m\u001b[38;5;241m.\u001b[39mcopy()\n",
      "File \u001b[0;32m~/Library/CloudStorage/OneDrive-Personal/2025/trade_journal/src/tradecli.py:127\u001b[0m, in \u001b[0;36mTradeJournal.to_dataframe\u001b[0;34m(self, config)\u001b[0m\n\u001b[1;32m    125\u001b[0m \u001b[38;5;66;03m# Detect and convert boolean columns\u001b[39;00m\n\u001b[1;32m    126\u001b[0m \u001b[38;5;28;01mfor\u001b[39;00m col \u001b[38;5;129;01min\u001b[39;00m df\u001b[38;5;241m.\u001b[39mcolumns:\n\u001b[0;32m--> 127\u001b[0m     unique_values \u001b[38;5;241m=\u001b[39m \u001b[43mdf\u001b[49m\u001b[43m[\u001b[49m\u001b[43mcol\u001b[49m\u001b[43m]\u001b[49m\u001b[38;5;241;43m.\u001b[39;49m\u001b[43mdropna\u001b[49m\u001b[43m(\u001b[49m\u001b[43m)\u001b[49m\u001b[38;5;241;43m.\u001b[39;49m\u001b[43munique\u001b[49m\u001b[43m(\u001b[49m\u001b[43m)\u001b[49m\n\u001b[1;32m    128\u001b[0m     \u001b[38;5;28;01mif\u001b[39;00m \u001b[38;5;28mset\u001b[39m(unique_values)\u001b[38;5;241m.\u001b[39missubset({\u001b[38;5;28;01mTrue\u001b[39;00m, \u001b[38;5;28;01mFalse\u001b[39;00m}):\n\u001b[1;32m    129\u001b[0m         logging\u001b[38;5;241m.\u001b[39mdebug(\u001b[38;5;124mf\u001b[39m\u001b[38;5;124m\"\u001b[39m\u001b[38;5;124mConverting column \u001b[39m\u001b[38;5;132;01m{\u001b[39;00mcol\u001b[38;5;132;01m}\u001b[39;00m\u001b[38;5;124m to boolean\u001b[39m\u001b[38;5;124m\"\u001b[39m)\n",
      "File \u001b[0;32m~/miniconda3/lib/python3.12/site-packages/pandas/core/series.py:2407\u001b[0m, in \u001b[0;36mSeries.unique\u001b[0;34m(self)\u001b[0m\n\u001b[1;32m   2344\u001b[0m \u001b[38;5;28;01mdef\u001b[39;00m \u001b[38;5;21munique\u001b[39m(\u001b[38;5;28mself\u001b[39m) \u001b[38;5;241m-\u001b[39m\u001b[38;5;241m>\u001b[39m ArrayLike:  \u001b[38;5;66;03m# pylint: disable=useless-parent-delegation\u001b[39;00m\n\u001b[1;32m   2345\u001b[0m \u001b[38;5;250m    \u001b[39m\u001b[38;5;124;03m\"\"\"\u001b[39;00m\n\u001b[1;32m   2346\u001b[0m \u001b[38;5;124;03m    Return unique values of Series object.\u001b[39;00m\n\u001b[1;32m   2347\u001b[0m \n\u001b[0;32m   (...)\u001b[0m\n\u001b[1;32m   2405\u001b[0m \u001b[38;5;124;03m    Categories (3, object): ['a' < 'b' < 'c']\u001b[39;00m\n\u001b[1;32m   2406\u001b[0m \u001b[38;5;124;03m    \"\"\"\u001b[39;00m\n\u001b[0;32m-> 2407\u001b[0m     \u001b[38;5;28;01mreturn\u001b[39;00m \u001b[38;5;28;43msuper\u001b[39;49m\u001b[43m(\u001b[49m\u001b[43m)\u001b[49m\u001b[38;5;241;43m.\u001b[39;49m\u001b[43munique\u001b[49m\u001b[43m(\u001b[49m\u001b[43m)\u001b[49m\n",
      "File \u001b[0;32m~/miniconda3/lib/python3.12/site-packages/pandas/core/base.py:1025\u001b[0m, in \u001b[0;36mIndexOpsMixin.unique\u001b[0;34m(self)\u001b[0m\n\u001b[1;32m   1023\u001b[0m     result \u001b[38;5;241m=\u001b[39m values\u001b[38;5;241m.\u001b[39munique()\n\u001b[1;32m   1024\u001b[0m \u001b[38;5;28;01melse\u001b[39;00m:\n\u001b[0;32m-> 1025\u001b[0m     result \u001b[38;5;241m=\u001b[39m \u001b[43malgorithms\u001b[49m\u001b[38;5;241;43m.\u001b[39;49m\u001b[43munique1d\u001b[49m\u001b[43m(\u001b[49m\u001b[43mvalues\u001b[49m\u001b[43m)\u001b[49m\n\u001b[1;32m   1026\u001b[0m \u001b[38;5;28;01mreturn\u001b[39;00m result\n",
      "File \u001b[0;32m~/miniconda3/lib/python3.12/site-packages/pandas/core/algorithms.py:401\u001b[0m, in \u001b[0;36munique\u001b[0;34m(values)\u001b[0m\n\u001b[1;32m    307\u001b[0m \u001b[38;5;28;01mdef\u001b[39;00m \u001b[38;5;21munique\u001b[39m(values):\n\u001b[1;32m    308\u001b[0m \u001b[38;5;250m    \u001b[39m\u001b[38;5;124;03m\"\"\"\u001b[39;00m\n\u001b[1;32m    309\u001b[0m \u001b[38;5;124;03m    Return unique values based on a hash table.\u001b[39;00m\n\u001b[1;32m    310\u001b[0m \n\u001b[0;32m   (...)\u001b[0m\n\u001b[1;32m    399\u001b[0m \u001b[38;5;124;03m    array([('a', 'b'), ('b', 'a'), ('a', 'c')], dtype=object)\u001b[39;00m\n\u001b[1;32m    400\u001b[0m \u001b[38;5;124;03m    \"\"\"\u001b[39;00m\n\u001b[0;32m--> 401\u001b[0m     \u001b[38;5;28;01mreturn\u001b[39;00m \u001b[43munique_with_mask\u001b[49m\u001b[43m(\u001b[49m\u001b[43mvalues\u001b[49m\u001b[43m)\u001b[49m\n",
      "File \u001b[0;32m~/miniconda3/lib/python3.12/site-packages/pandas/core/algorithms.py:440\u001b[0m, in \u001b[0;36munique_with_mask\u001b[0;34m(values, mask)\u001b[0m\n\u001b[1;32m    438\u001b[0m table \u001b[38;5;241m=\u001b[39m hashtable(\u001b[38;5;28mlen\u001b[39m(values))\n\u001b[1;32m    439\u001b[0m \u001b[38;5;28;01mif\u001b[39;00m mask \u001b[38;5;129;01mis\u001b[39;00m \u001b[38;5;28;01mNone\u001b[39;00m:\n\u001b[0;32m--> 440\u001b[0m     uniques \u001b[38;5;241m=\u001b[39m \u001b[43mtable\u001b[49m\u001b[38;5;241;43m.\u001b[39;49m\u001b[43munique\u001b[49m\u001b[43m(\u001b[49m\u001b[43mvalues\u001b[49m\u001b[43m)\u001b[49m\n\u001b[1;32m    441\u001b[0m     uniques \u001b[38;5;241m=\u001b[39m _reconstruct_data(uniques, original\u001b[38;5;241m.\u001b[39mdtype, original)\n\u001b[1;32m    442\u001b[0m     \u001b[38;5;28;01mreturn\u001b[39;00m uniques\n",
      "File \u001b[0;32mpandas/_libs/hashtable_class_helper.pxi:7248\u001b[0m, in \u001b[0;36mpandas._libs.hashtable.PyObjectHashTable.unique\u001b[0;34m()\u001b[0m\n",
      "File \u001b[0;32mpandas/_libs/hashtable_class_helper.pxi:7195\u001b[0m, in \u001b[0;36mpandas._libs.hashtable.PyObjectHashTable._unique\u001b[0;34m()\u001b[0m\n",
      "\u001b[0;31mTypeError\u001b[0m: unhashable type: 'list'"
     ]
    }
   ],
   "source": [
    "full_df = get_full_df()\n",
    "#rename return column to return_points\n",
    "full_df = full_df[full_df['account'] == 'test_account']\n",
    "full_df = full_df.rename(columns={'return': 'return_points'})\n",
    "print(np.sort(full_df.columns))\n",
    "full_df"
   ]
  },
  {
   "cell_type": "code",
   "execution_count": null,
   "metadata": {},
   "outputs": [
    {
     "data": {
      "text/html": [
       "<div>\n",
       "<style scoped>\n",
       "    .dataframe tbody tr th:only-of-type {\n",
       "        vertical-align: middle;\n",
       "    }\n",
       "\n",
       "    .dataframe tbody tr th {\n",
       "        vertical-align: top;\n",
       "    }\n",
       "\n",
       "    .dataframe thead th {\n",
       "        text-align: right;\n",
       "    }\n",
       "</style>\n",
       "<table border=\"1\" class=\"dataframe\">\n",
       "  <thead>\n",
       "    <tr style=\"text-align: right;\">\n",
       "      <th></th>\n",
       "      <th>sum_sq</th>\n",
       "      <th>df</th>\n",
       "      <th>F</th>\n",
       "      <th>PR(&gt;F)</th>\n",
       "    </tr>\n",
       "  </thead>\n",
       "  <tbody>\n",
       "    <tr>\n",
       "      <th>C(htf_poi_ltf_confirmation)</th>\n",
       "      <td>0.000140</td>\n",
       "      <td>1.0</td>\n",
       "      <td>0.190524</td>\n",
       "      <td>0.674022</td>\n",
       "    </tr>\n",
       "    <tr>\n",
       "      <th>Residual</th>\n",
       "      <td>0.005881</td>\n",
       "      <td>8.0</td>\n",
       "      <td>NaN</td>\n",
       "      <td>NaN</td>\n",
       "    </tr>\n",
       "  </tbody>\n",
       "</table>\n",
       "</div>"
      ],
      "text/plain": [
       "                               sum_sq   df         F    PR(>F)\n",
       "C(htf_poi_ltf_confirmation)  0.000140  1.0  0.190524  0.674022\n",
       "Residual                     0.005881  8.0       NaN       NaN"
      ]
     },
     "execution_count": 17,
     "metadata": {},
     "output_type": "execute_result"
    }
   ],
   "source": [
    "\n",
    "perform_anova(full_df, dependent_var='return_points', independent_var='htf_poi_ltf_confirmation')"
   ]
  },
  {
   "cell_type": "markdown",
   "metadata": {},
   "source": [
    "## Statistics"
   ]
  },
  {
   "cell_type": "code",
   "execution_count": 18,
   "metadata": {},
   "outputs": [
    {
     "data": {
      "text/plain": [
       "Total Trades                     10.00000\n",
       "Total Return                     -0.04750\n",
       "Average Return                   -0.00475\n",
       "Max Return Drawdown               0.07575\n",
       "Total Risk Reward Ratio          25.94000\n",
       "Average Risk Reward Ratio         2.59400\n",
       "Max Risk Reward Ratio             9.81000\n",
       "Min Risk Reward Ratio            -1.35000\n",
       "Win Rate (%)                      0.40000\n",
       "Average Win RR                    7.60500\n",
       "Max Win RR                        9.81000\n",
       "Min Win RR                        4.86000\n",
       "Loss Rate (%)                     0.50000\n",
       "Average Loss RR                  -0.88600\n",
       "Max Loss RR                      -1.35000\n",
       "Min Loss RR                      -0.24000\n",
       "Breakeven Trades                  1.00000\n",
       "Breakeven Rate (%) (|rr|<0.2)     0.10000\n",
       "dtype: float64"
      ]
     },
     "execution_count": 18,
     "metadata": {},
     "output_type": "execute_result"
    }
   ],
   "source": [
    "calculate_performance_metrics(full_df)"
   ]
  },
  {
   "cell_type": "code",
   "execution_count": 48,
   "metadata": {},
   "outputs": [
    {
     "data": {
      "text/plain": [
       "Index(['trade_uid', 'type_2_m15', 'type_2_m5', 'type_2_M',\n",
       "       'initial_risk_reward', 'account', 'SL_distance', 'type_1_m15', 'taken',\n",
       "       'type_1_h1', 'entry_price', 'type_1_m1', 'type_3_w', 'type_3_m5',\n",
       "       'return', 'side', 'type_3_m1', 'type_2_d', 'unit_test', 'tp_price',\n",
       "       'type_2_m30', 'numerical_confidence', 'type_2_h4', 'initial_return',\n",
       "       'type_1_m5', 'outcome', 'type_3_h4', 'session', 'type_3_d', 'type_3_h1',\n",
       "       'type_3_m15', 'sl_price', 'type_1_d', 'type_1_h4', 'type_2_h1',\n",
       "       'htf_poi_ltf_confirmation', 'TP_distance', 'type_1_m30', 'type_2_w',\n",
       "       'type_3_M', 'type_2_m1', 'rr', 'type_1_M', 'type_3_m30', 'entry_time',\n",
       "       'management_strategy', 'close_price', 'type_1_w',\n",
       "       'htf_poi_ltf_confirmation_False', 'htf_poi_ltf_confirmation_True',\n",
       "       'management_strategy_be_after_1r', 'management_strategy_be_after_push',\n",
       "       'management_strategy_no_management', 'outcome_be', 'outcome_loss',\n",
       "       'outcome_win'],\n",
       "      dtype='object')"
      ]
     },
     "metadata": {},
     "output_type": "display_data"
    },
    {
     "data": {
      "image/png": "[encoded data removed]",
      "text/plain": [
       "<Figure size 640x480 with 1 Axes>"
      ]
     },
     "metadata": {},
     "output_type": "display_data"
    },
    {
     "data": {
      "image/png": "[encoded data removed]",
      "text/plain": [
       "<Figure size 640x480 with 1 Axes>"
      ]
     },
     "metadata": {},
     "output_type": "display_data"
    },
    {
     "name": "stdout",
     "output_type": "stream",
     "text": [
      "outcome\n",
      "loss    5\n",
      "win     4\n",
      "be      1\n",
      "NaN     1\n",
      "Name: count, dtype: int64\n"
     ]
    },
    {
     "data": {
      "text/plain": [
       "10    2\n",
       "Name: trade_uid, dtype: object"
      ]
     },
     "execution_count": 48,
     "metadata": {},
     "output_type": "execute_result"
    }
   ],
   "source": [
    "import journal as jo\n",
    "df=df.copy()\n",
    "df[df['account'] == jo.ACC_MT5_VANTAGE]\n",
    "display(df.columns)\n",
    "\n",
    "def plot_hist_all_values_col(df, col):\n",
    "    df[col].hist()\n",
    "    plt.title(col)\n",
    "    plt.show()\n",
    "    df[col].value_counts(dropna=False).plot(kind='bar')\n",
    "    plt.title(col)\n",
    "    plt.show()\n",
    "    print(df[col].value_counts(dropna=False))\n",
    "\n",
    "plot_hist_all_values_col(df, 'outcome')\n",
    "\n",
    "# trade_uids for the NaN values of certain column\n",
    "def get_trades_col_nan(df, col):\n",
    "    return df[df[col].isna()]['trade_uid']\n",
    "\n",
    "get_trades_col_nan(df, 'outcome')"
   ]
  },
  {
   "cell_type": "code",
   "execution_count": null,
   "metadata": {},
   "outputs": [],
   "source": [
    "# plot drawdown\n",
    "\n",
    "plot_drawdown"
   ]
  },
  {
   "cell_type": "markdown",
   "metadata": {},
   "source": [
    "## Packages: Analysis examples"
   ]
  },
  {
   "cell_type": "code",
   "execution_count": 731,
   "metadata": {},
   "outputs": [
    {
     "data": {
      "image/png": "[encoded data removed]",
      "text/plain": [
       "<Figure size 1000x600 with 1 Axes>"
      ]
     },
     "metadata": {},
     "output_type": "display_data"
    }
   ],
   "source": [
    "from sklearn.ensemble import RandomForestClassifier\n",
    "import matplotlib.pyplot as plt\n",
    "import pandas as pd\n",
    "\n",
    "# Define features and target\n",
    "X = full_df[['type_3_m1', 'type_1_m15', 'htf_poi_ltf_confirmation']]\n",
    "y = full_df['outcome']\n",
    "\n",
    "# Initialize and fit the model\n",
    "rf = RandomForestClassifier()\n",
    "rf.fit(X, y)\n",
    "\n",
    "# Get feature importances\n",
    "importances = rf.feature_importances_\n",
    "feature_names = X.columns\n",
    "\n",
    "# Create a DataFrame\n",
    "feature_importances = pd.DataFrame({'Feature': feature_names, 'Importance': importances})\n",
    "\n",
    "# Sort and plot\n",
    "feature_importances = feature_importances.sort_values(by='Importance', ascending=False)\n",
    "plt.figure(figsize=(10,6))\n",
    "plt.barh(feature_importances['Feature'], feature_importances['Importance'])\n",
    "plt.xlabel('Importance')\n",
    "plt.title('Feature Importances from Random Forest')\n",
    "plt.gca().invert_yaxis()\n",
    "\n",
    "plt.show()"
   ]
  },
  {
   "cell_type": "code",
   "execution_count": 738,
   "metadata": {},
   "outputs": [
    {
     "name": "stdout",
     "output_type": "stream",
     "text": [
      "type_3_m1     0.2\n",
      "type_1_m15    0.0\n",
      "type_1_m5     0.1\n",
      "dtype: float64\n",
      "    type_3_m1  type_1_m15  type_1_m5\n",
      "4         0.8         0.0       -0.1\n",
      "5        -0.2         0.0       -0.1\n",
      "6        -0.2         0.0       -0.1\n",
      "7         0.8         0.0        0.9\n",
      "8        -0.2         0.0       -0.1\n",
      "9        -0.2         0.0       -0.1\n",
      "10       -0.2         0.0       -0.1\n",
      "11       -0.2         0.0       -0.1\n",
      "12       -0.2         0.0       -0.1\n",
      "13       -0.2         0.0       -0.1\n"
     ]
    },
    {
     "data": {
      "image/png": "[encoded data removed]",
      "text/plain": [
       "<Figure size 640x480 with 1 Axes>"
      ]
     },
     "metadata": {},
     "output_type": "display_data"
    }
   ],
   "source": [
    "def plot_clustering_and_data(df, features, n_clusters=3):\n",
    "    from sklearn.cluster import KMeans\n",
    "    import matplotlib.pyplot as plt\n",
    "    import seaborn as sns\n",
    "\n",
    "    # Initialize the model\n",
    "    kmeans = KMeans(n_clusters=n_clusters)\n",
    "\n",
    "    # feartures are binary, subtract the mean row vector to center the data\n",
    "    \n",
    "    mean_row_vector = df[features].mean()\n",
    "    X = df[features] - mean_row_vector\n",
    "    \n",
    "    print(mean_row_vector)\n",
    "    print(X)\n",
    "    \n",
    "    # Fit the model\n",
    "    kmeans.fit(X)\n",
    "    \n",
    "    # Get the cluster assignments\n",
    "    df['cluster'] = kmeans.labels_\n",
    "    \n",
    "    # Plot the clusters\n",
    "    sns.scatterplot(data=df, x=features[0], y=features[1], hue='cluster', palette='viridis')\n",
    "    plt.title('KMeans Clustering')\n",
    "    \n",
    "    \n",
    "\n",
    "plot_clustering_and_data(full_df, features=['type_3_m1', 'type_1_m15', 'type_1_m5'], n_clusters=2)"
   ]
  },
  {
   "cell_type": "code",
   "execution_count": 746,
   "metadata": {},
   "outputs": [
    {
     "name": "stdout",
     "output_type": "stream",
     "text": [
      "Silhouette Score: 0.16\n",
      "Cluster Mean RRs:\n",
      "cluster\n",
      "0    6.780000\n",
      "1    1.918571\n",
      "2   -1.050000\n",
      "Name: rr, dtype: float64\n",
      "\n"
     ]
    },
    {
     "data": {
      "image/png": "[encoded data removed]",
      "text/plain": [
       "<Figure size 1000x700 with 1 Axes>"
      ]
     },
     "metadata": {},
     "output_type": "display_data"
    }
   ],
   "source": [
    "from sklearn.preprocessing import StandardScaler\n",
    "from sklearn.decomposition import PCA\n",
    "from sklearn.cluster import KMeans\n",
    "from sklearn.metrics import silhouette_score\n",
    "import matplotlib.pyplot as plt\n",
    "import seaborn as sns\n",
    "import matplotlib.lines as mlines\n",
    "\n",
    "def plot_clustering_with_rr_in_legend(df, features, clustering_algo='kmeans', n_clusters=3):\n",
    "    # Scale the features\n",
    "    scaler = StandardScaler()\n",
    "    X = scaler.fit_transform(df[features])\n",
    "    \n",
    "    # Apply PCA for visualization\n",
    "    pca = PCA(n_components=2)\n",
    "    X_pca = pca.fit_transform(X)\n",
    "    \n",
    "    # Choose clustering algorithm\n",
    "    if clustering_algo == 'kmeans':\n",
    "        model = KMeans(n_clusters=n_clusters, random_state=42)\n",
    "    else:\n",
    "        raise ValueError(\"Only 'kmeans' is currently supported.\")\n",
    "    \n",
    "    # Fit and predict clusters\n",
    "    df['cluster'] = model.fit_predict(X)\n",
    "    centroids = model.cluster_centers_\n",
    "    centroids_pca = pca.transform(centroids)\n",
    "    \n",
    "    # Compute cluster mean RR\n",
    "    cluster_rr_means = df.groupby('cluster')['rr'].mean()\n",
    "    \n",
    "    # Silhouette Score\n",
    "    score = silhouette_score(X, df['cluster'])\n",
    "    print(f\"Silhouette Score: {score:.2f}\")\n",
    "    print(f\"Cluster Mean RRs:\\n{cluster_rr_means}\\n\")\n",
    "    \n",
    "    # Define a color palette\n",
    "    palette = sns.color_palette(\"viridis\", as_cmap=False, n_colors=n_clusters)\n",
    "    \n",
    "    # Plot clusters in 2D PCA space\n",
    "    plt.figure(figsize=(10, 7))\n",
    "    sns.scatterplot(\n",
    "        x=X_pca[:, 0], y=X_pca[:, 1], hue=df['cluster'], palette=palette, s=100, alpha=0.8, legend=False\n",
    "    )\n",
    "    \n",
    "    # Plot cluster centroids\n",
    "    for idx, (x, y) in enumerate(zip(centroids_pca[:, 0], centroids_pca[:, 1])):\n",
    "        plt.scatter(x, y, color=palette[idx], s=200, marker='X', edgecolors='black', zorder=5)\n",
    "    \n",
    "    # Add custom legend with cluster mean RRs\n",
    "    legend_handles = [\n",
    "        mlines.Line2D(\n",
    "            [], [], color=palette[idx], marker='o', linestyle='', markersize=10,\n",
    "            label=f\"Cluster {idx} (Mean RR: {mean_rr:.2f})\"\n",
    "        )\n",
    "        for idx, mean_rr in cluster_rr_means.items()\n",
    "    ]\n",
    "    plt.legend(handles=legend_handles, title=\"Clusters\", loc=\"upper right\")\n",
    "    \n",
    "    plt.title(f'Clustering with {clustering_algo.upper()} (RR in Legend)')\n",
    "    plt.xlabel('PCA Component 1')\n",
    "    plt.ylabel('PCA Component 2')\n",
    "    plt.show()\n",
    "\n",
    "# Feature selection\n",
    "selected_features = ['rr', 'return_points', 'initial_risk_reward', 'type_1_m15', 'type_3_m1']\n",
    "plot_clustering_with_rr_in_legend(full_df, features=selected_features, clustering_algo='kmeans', n_clusters=3)\n"
   ]
  },
  {
   "cell_type": "code",
   "execution_count": 757,
   "metadata": {},
   "outputs": [
    {
     "name": "stdout",
     "output_type": "stream",
     "text": [
      "type_3_m1      1.000000\n",
      "rr             0.144047\n",
      "TP_distance   -0.172186\n",
      "SL_distance   -0.327327\n",
      "type_1_m15          NaN\n",
      "Name: type_3_m1, dtype: float64\n"
     ]
    }
   ],
   "source": [
    "correlation_matrix = full_df[['rr','SL_distance', 'TP_distance', 'type_3_m1', 'type_1_m15']].corr()\n",
    "print(correlation_matrix['type_3_m1'].sort_values(ascending=False))\n"
   ]
  },
  {
   "cell_type": "code",
   "execution_count": 760,
   "metadata": {},
   "outputs": [
    {
     "data": {
      "text/html": [
       "<div>\n",
       "<style scoped>\n",
       "    .dataframe tbody tr th:only-of-type {\n",
       "        vertical-align: middle;\n",
       "    }\n",
       "\n",
       "    .dataframe tbody tr th {\n",
       "        vertical-align: top;\n",
       "    }\n",
       "\n",
       "    .dataframe thead th {\n",
       "        text-align: right;\n",
       "    }\n",
       "</style>\n",
       "<table border=\"1\" class=\"dataframe\">\n",
       "  <thead>\n",
       "    <tr style=\"text-align: right;\">\n",
       "      <th></th>\n",
       "      <th>rr</th>\n",
       "      <th>SL_distance</th>\n",
       "      <th>TP_distance</th>\n",
       "      <th>type_3_m1</th>\n",
       "      <th>type_1_m15</th>\n",
       "    </tr>\n",
       "  </thead>\n",
       "  <tbody>\n",
       "    <tr>\n",
       "      <th>rr</th>\n",
       "      <td>20.286471</td>\n",
       "      <td>0.000487</td>\n",
       "      <td>-0.002927</td>\n",
       "      <td>0.273556</td>\n",
       "      <td>0.0</td>\n",
       "    </tr>\n",
       "    <tr>\n",
       "      <th>SL_distance</th>\n",
       "      <td>0.000487</td>\n",
       "      <td>0.000023</td>\n",
       "      <td>0.000129</td>\n",
       "      <td>-0.000667</td>\n",
       "      <td>0.0</td>\n",
       "    </tr>\n",
       "    <tr>\n",
       "      <th>TP_distance</th>\n",
       "      <td>-0.002927</td>\n",
       "      <td>0.000129</td>\n",
       "      <td>0.000931</td>\n",
       "      <td>-0.002215</td>\n",
       "      <td>0.0</td>\n",
       "    </tr>\n",
       "    <tr>\n",
       "      <th>type_3_m1</th>\n",
       "      <td>0.273556</td>\n",
       "      <td>-0.000667</td>\n",
       "      <td>-0.002215</td>\n",
       "      <td>0.177778</td>\n",
       "      <td>0.0</td>\n",
       "    </tr>\n",
       "    <tr>\n",
       "      <th>type_1_m15</th>\n",
       "      <td>0.000000</td>\n",
       "      <td>0.000000</td>\n",
       "      <td>0.000000</td>\n",
       "      <td>0.000000</td>\n",
       "      <td>0.0</td>\n",
       "    </tr>\n",
       "  </tbody>\n",
       "</table>\n",
       "</div>"
      ],
      "text/plain": [
       "                    rr  SL_distance  TP_distance  type_3_m1  type_1_m15\n",
       "rr           20.286471     0.000487    -0.002927   0.273556         0.0\n",
       "SL_distance   0.000487     0.000023     0.000129  -0.000667         0.0\n",
       "TP_distance  -0.002927     0.000129     0.000931  -0.002215         0.0\n",
       "type_3_m1     0.273556    -0.000667    -0.002215   0.177778         0.0\n",
       "type_1_m15    0.000000     0.000000     0.000000   0.000000         0.0"
      ]
     },
     "execution_count": 760,
     "metadata": {},
     "output_type": "execute_result"
    }
   ],
   "source": [
    "df = full_df[['rr', 'SL_distance', 'TP_distance', 'type_3_m1', 'type_1_m15']]\n",
    "df.cov()\n"
   ]
  },
  {
   "cell_type": "code",
   "execution_count": 761,
   "metadata": {},
   "outputs": [
    {
     "data": {
      "text/plain": [
       "rr             20.286471\n",
       "SL_distance     0.000023\n",
       "TP_distance     0.000931\n",
       "type_3_m1       0.177778\n",
       "type_1_m15      0.000000\n",
       "dtype: float64"
      ]
     },
     "execution_count": 761,
     "metadata": {},
     "output_type": "execute_result"
    }
   ],
   "source": [
    "df.var()"
   ]
  },
  {
   "cell_type": "code",
   "execution_count": 769,
   "metadata": {},
   "outputs": [
    {
     "data": {
      "text/html": [
       "<div>\n",
       "<style scoped>\n",
       "    .dataframe tbody tr th:only-of-type {\n",
       "        vertical-align: middle;\n",
       "    }\n",
       "\n",
       "    .dataframe tbody tr th {\n",
       "        vertical-align: top;\n",
       "    }\n",
       "\n",
       "    .dataframe thead th {\n",
       "        text-align: right;\n",
       "    }\n",
       "</style>\n",
       "<table border=\"1\" class=\"dataframe\">\n",
       "  <thead>\n",
       "    <tr style=\"text-align: right;\">\n",
       "      <th></th>\n",
       "      <th>rr</th>\n",
       "      <th>SL_distance</th>\n",
       "      <th>TP_distance</th>\n",
       "      <th>type_3_m1</th>\n",
       "      <th>type_1_m15</th>\n",
       "    </tr>\n",
       "  </thead>\n",
       "  <tbody>\n",
       "    <tr>\n",
       "      <th>rr</th>\n",
       "      <td>1.000000</td>\n",
       "      <td>0.022369</td>\n",
       "      <td>-0.021300</td>\n",
       "      <td>0.144047</td>\n",
       "      <td>NaN</td>\n",
       "    </tr>\n",
       "    <tr>\n",
       "      <th>SL_distance</th>\n",
       "      <td>0.022369</td>\n",
       "      <td>1.000000</td>\n",
       "      <td>0.873780</td>\n",
       "      <td>-0.327327</td>\n",
       "      <td>NaN</td>\n",
       "    </tr>\n",
       "    <tr>\n",
       "      <th>TP_distance</th>\n",
       "      <td>-0.021300</td>\n",
       "      <td>0.873780</td>\n",
       "      <td>1.000000</td>\n",
       "      <td>-0.172186</td>\n",
       "      <td>NaN</td>\n",
       "    </tr>\n",
       "    <tr>\n",
       "      <th>type_3_m1</th>\n",
       "      <td>0.144047</td>\n",
       "      <td>-0.327327</td>\n",
       "      <td>-0.172186</td>\n",
       "      <td>1.000000</td>\n",
       "      <td>NaN</td>\n",
       "    </tr>\n",
       "    <tr>\n",
       "      <th>type_1_m15</th>\n",
       "      <td>NaN</td>\n",
       "      <td>NaN</td>\n",
       "      <td>NaN</td>\n",
       "      <td>NaN</td>\n",
       "      <td>NaN</td>\n",
       "    </tr>\n",
       "  </tbody>\n",
       "</table>\n",
       "</div>"
      ],
      "text/plain": [
       "                   rr  SL_distance  TP_distance  type_3_m1  type_1_m15\n",
       "rr           1.000000     0.022369    -0.021300   0.144047         NaN\n",
       "SL_distance  0.022369     1.000000     0.873780  -0.327327         NaN\n",
       "TP_distance -0.021300     0.873780     1.000000  -0.172186         NaN\n",
       "type_3_m1    0.144047    -0.327327    -0.172186   1.000000         NaN\n",
       "type_1_m15        NaN          NaN          NaN        NaN         NaN"
      ]
     },
     "execution_count": 769,
     "metadata": {},
     "output_type": "execute_result"
    }
   ],
   "source": [
    "corr = df.cov() / np.outer(df.std(), df.std())\n",
    "corr"
   ]
  },
  {
   "cell_type": "code",
   "execution_count": 766,
   "metadata": {},
   "outputs": [
    {
     "data": {
      "text/html": [
       "<div>\n",
       "<style scoped>\n",
       "    .dataframe tbody tr th:only-of-type {\n",
       "        vertical-align: middle;\n",
       "    }\n",
       "\n",
       "    .dataframe tbody tr th {\n",
       "        vertical-align: top;\n",
       "    }\n",
       "\n",
       "    .dataframe thead th {\n",
       "        text-align: right;\n",
       "    }\n",
       "</style>\n",
       "<table border=\"1\" class=\"dataframe\">\n",
       "  <thead>\n",
       "    <tr style=\"text-align: right;\">\n",
       "      <th></th>\n",
       "      <th>rr</th>\n",
       "      <th>SL_distance</th>\n",
       "      <th>TP_distance</th>\n",
       "      <th>type_3_m1</th>\n",
       "      <th>type_1_m15</th>\n",
       "    </tr>\n",
       "  </thead>\n",
       "  <tbody>\n",
       "    <tr>\n",
       "      <th>rr</th>\n",
       "      <td>1.000000</td>\n",
       "      <td>0.022369</td>\n",
       "      <td>-0.021300</td>\n",
       "      <td>0.144047</td>\n",
       "      <td>NaN</td>\n",
       "    </tr>\n",
       "    <tr>\n",
       "      <th>SL_distance</th>\n",
       "      <td>0.022369</td>\n",
       "      <td>1.000000</td>\n",
       "      <td>0.873780</td>\n",
       "      <td>-0.327327</td>\n",
       "      <td>NaN</td>\n",
       "    </tr>\n",
       "    <tr>\n",
       "      <th>TP_distance</th>\n",
       "      <td>-0.021300</td>\n",
       "      <td>0.873780</td>\n",
       "      <td>1.000000</td>\n",
       "      <td>-0.172186</td>\n",
       "      <td>NaN</td>\n",
       "    </tr>\n",
       "    <tr>\n",
       "      <th>type_3_m1</th>\n",
       "      <td>0.144047</td>\n",
       "      <td>-0.327327</td>\n",
       "      <td>-0.172186</td>\n",
       "      <td>1.000000</td>\n",
       "      <td>NaN</td>\n",
       "    </tr>\n",
       "    <tr>\n",
       "      <th>type_1_m15</th>\n",
       "      <td>NaN</td>\n",
       "      <td>NaN</td>\n",
       "      <td>NaN</td>\n",
       "      <td>NaN</td>\n",
       "      <td>NaN</td>\n",
       "    </tr>\n",
       "  </tbody>\n",
       "</table>\n",
       "</div>"
      ],
      "text/plain": [
       "                   rr  SL_distance  TP_distance  type_3_m1  type_1_m15\n",
       "rr           1.000000     0.022369    -0.021300   0.144047         NaN\n",
       "SL_distance  0.022369     1.000000     0.873780  -0.327327         NaN\n",
       "TP_distance -0.021300     0.873780     1.000000  -0.172186         NaN\n",
       "type_3_m1    0.144047    -0.327327    -0.172186   1.000000         NaN\n",
       "type_1_m15        NaN          NaN          NaN        NaN         NaN"
      ]
     },
     "execution_count": 766,
     "metadata": {},
     "output_type": "execute_result"
    }
   ],
   "source": [
    "df.corr()"
   ]
  },
  {
   "cell_type": "code",
   "execution_count": 781,
   "metadata": {},
   "outputs": [
    {
     "data": {
      "text/html": [
       "<div>\n",
       "<style scoped>\n",
       "    .dataframe tbody tr th:only-of-type {\n",
       "        vertical-align: middle;\n",
       "    }\n",
       "\n",
       "    .dataframe tbody tr th {\n",
       "        vertical-align: top;\n",
       "    }\n",
       "\n",
       "    .dataframe thead th {\n",
       "        text-align: right;\n",
       "    }\n",
       "</style>\n",
       "<table border=\"1\" class=\"dataframe\">\n",
       "  <thead>\n",
       "    <tr style=\"text-align: right;\">\n",
       "      <th></th>\n",
       "      <th>rr</th>\n",
       "      <th>SL_distance</th>\n",
       "      <th>TP_distance</th>\n",
       "      <th>type_3_m1</th>\n",
       "      <th>type_1_m15</th>\n",
       "    </tr>\n",
       "  </thead>\n",
       "  <tbody>\n",
       "    <tr>\n",
       "      <th>rr</th>\n",
       "      <td>1.000000</td>\n",
       "      <td>0.022369</td>\n",
       "      <td>-0.021300</td>\n",
       "      <td>0.144047</td>\n",
       "      <td>NaN</td>\n",
       "    </tr>\n",
       "    <tr>\n",
       "      <th>SL_distance</th>\n",
       "      <td>0.022369</td>\n",
       "      <td>1.000000</td>\n",
       "      <td>0.873780</td>\n",
       "      <td>-0.327327</td>\n",
       "      <td>NaN</td>\n",
       "    </tr>\n",
       "    <tr>\n",
       "      <th>TP_distance</th>\n",
       "      <td>-0.021300</td>\n",
       "      <td>0.873780</td>\n",
       "      <td>1.000000</td>\n",
       "      <td>-0.172186</td>\n",
       "      <td>NaN</td>\n",
       "    </tr>\n",
       "    <tr>\n",
       "      <th>type_3_m1</th>\n",
       "      <td>0.144047</td>\n",
       "      <td>-0.327327</td>\n",
       "      <td>-0.172186</td>\n",
       "      <td>1.000000</td>\n",
       "      <td>NaN</td>\n",
       "    </tr>\n",
       "    <tr>\n",
       "      <th>type_1_m15</th>\n",
       "      <td>NaN</td>\n",
       "      <td>NaN</td>\n",
       "      <td>NaN</td>\n",
       "      <td>NaN</td>\n",
       "      <td>NaN</td>\n",
       "    </tr>\n",
       "  </tbody>\n",
       "</table>\n",
       "</div>"
      ],
      "text/plain": [
       "                   rr  SL_distance  TP_distance  type_3_m1  type_1_m15\n",
       "rr           1.000000     0.022369    -0.021300   0.144047         NaN\n",
       "SL_distance  0.022369     1.000000     0.873780  -0.327327         NaN\n",
       "TP_distance -0.021300     0.873780     1.000000  -0.172186         NaN\n",
       "type_3_m1    0.144047    -0.327327    -0.172186   1.000000         NaN\n",
       "type_1_m15        NaN          NaN          NaN        NaN         NaN"
      ]
     },
     "execution_count": 781,
     "metadata": {},
     "output_type": "execute_result"
    }
   ],
   "source": [
    "df.cov() / np.outer(df.std(), df.std())"
   ]
  },
  {
   "cell_type": "code",
   "execution_count": 804,
   "metadata": {},
   "outputs": [
    {
     "data": {
      "text/plain": [
       "array([[ 0,  0,  0,  0,  0],\n",
       "       [ 2,  3,  4,  5,  6],\n",
       "       [ 4,  6,  8, 10, 12]])"
      ]
     },
     "execution_count": 804,
     "metadata": {},
     "output_type": "execute_result"
    }
   ],
   "source": [
    "a =np.outer([0,1,2], [2,3,4,5,6])\n",
    "a"
   ]
  },
  {
   "cell_type": "code",
   "execution_count": 800,
   "metadata": {},
   "outputs": [
    {
     "data": {
      "text/plain": [
       "array([ 0,  0,  0,  0,  0,  2,  3,  4,  5,  6,  4,  6,  8, 10, 12])"
      ]
     },
     "execution_count": 800,
     "metadata": {},
     "output_type": "execute_result"
    }
   ],
   "source": [
    "d= np.ravel(np.outer([0,1,2], [2,3,4,5,6]))\n",
    "d"
   ]
  },
  {
   "cell_type": "code",
   "execution_count": 807,
   "metadata": {},
   "outputs": [
    {
     "data": {
      "text/plain": [
       "array([[ 0,  0,  0,  0,  0,  2,  3,  4,  5,  6,  4,  6,  8, 10, 12]])"
      ]
     },
     "execution_count": 807,
     "metadata": {},
     "output_type": "execute_result"
    }
   ],
   "source": [
    "a.reshape(1,-1)"
   ]
  },
  {
   "cell_type": "code",
   "execution_count": 803,
   "metadata": {},
   "outputs": [
    {
     "data": {
      "text/plain": [
       "array([[ 0,  0,  0,  0,  0,  2,  3,  4,  5,  6,  4,  6,  8, 10, 12]])"
      ]
     },
     "execution_count": 803,
     "metadata": {},
     "output_type": "execute_result"
    }
   ],
   "source": [
    "orig= d.reshape(1,-1)\n",
    "orig"
   ]
  },
  {
   "cell_type": "code",
   "execution_count": 813,
   "metadata": {},
   "outputs": [
    {
     "data": {
      "text/plain": [
       "array([[1, 2, 3],\n",
       "       [4, 5, 6]])"
      ]
     },
     "execution_count": 813,
     "metadata": {},
     "output_type": "execute_result"
    }
   ],
   "source": [
    "x = np.array([[1, 2, 3], [4, 5, 6]])\n",
    "x"
   ]
  },
  {
   "cell_type": "code",
   "execution_count": 809,
   "metadata": {},
   "outputs": [
    {
     "data": {
      "text/plain": [
       "array([1, 2, 3, 4, 5, 6])"
      ]
     },
     "execution_count": 809,
     "metadata": {},
     "output_type": "execute_result"
    }
   ],
   "source": [
    "x.ravel()"
   ]
  },
  {
   "cell_type": "code",
   "execution_count": 810,
   "metadata": {},
   "outputs": [
    {
     "data": {
      "text/plain": [
       "array([[1, 4],\n",
       "       [2, 5],\n",
       "       [3, 6]])"
      ]
     },
     "execution_count": 810,
     "metadata": {},
     "output_type": "execute_result"
    }
   ],
   "source": [
    "\n",
    "x.T"
   ]
  },
  {
   "cell_type": "code",
   "execution_count": 812,
   "metadata": {},
   "outputs": [
    {
     "data": {
      "text/plain": [
       "array([[1, 2, 3],\n",
       "       [4, 5, 6]])"
      ]
     },
     "execution_count": 812,
     "metadata": {},
     "output_type": "execute_result"
    }
   ],
   "source": [
    "x"
   ]
  },
  {
   "cell_type": "code",
   "execution_count": 821,
   "metadata": {},
   "outputs": [
    {
     "name": "stdout",
     "output_type": "stream",
     "text": [
      "T-Statistic: -1.0\n",
      "P-Value: 0.0\n",
      "T-Statistic: 0.0\n",
      "P-Value: 0.0\n",
      "Correlation: -1.0\n",
      "P-Value: 0.0\n",
      "Chi-Square Statistic: 0.0\n",
      "P-Value: 1.0\n"
     ]
    }
   ],
   "source": [
    "from scipy.stats import ttest_ind\n",
    "from scipy.stats import pearsonr\n",
    "# Sample data\n",
    "group1 = [1, 2, 3, 4, 5]\n",
    "group2 = [2, 3, 4, 5, 6]\n",
    "\n",
    "# Sample data\n",
    "X = [1, 2, 3, 4, 5]\n",
    "Y = [5, 4, 3, 2, 1]\n",
    "\n",
    "t_stat, p_value = ttest_ind(group1, group2)\n",
    "corr, p_value = pearsonr(group1, group2)\n",
    "print(f\"T-Statistic: {t_stat}\")\n",
    "print(f\"P-Value: {p_value}\")\n",
    "\n",
    "\n",
    "\n",
    "# Perform a two-tailed t-test\n",
    "t_stat, p_value = ttest_ind(X, Y)\n",
    "\n",
    "# Compute correlation and p-value\n",
    "corr, p_value = pearsonr(X, Y)\n",
    "\n",
    "print(f\"T-Statistic: {t_stat}\")\n",
    "print(f\"P-Value: {p_value}\")\n",
    "print(f\"Correlation: {corr}\")\n",
    "print(f\"P-Value: {p_value}\")\n",
    "\n",
    "\n",
    "from scipy.stats import chi2_contingency\n",
    "\n",
    "# Contingency table\n",
    "data = [[10, 20], [20, 40]]\n",
    "\n",
    "# Perform chi-square test\n",
    "chi2_stat, p_value, dof, expected = chi2_contingency(data)\n",
    "\n",
    "print(f\"Chi-Square Statistic: {chi2_stat}\")\n",
    "print(f\"P-Value: {p_value}\")\n",
    "\n"
   ]
  },
  {
   "cell_type": "code",
   "execution_count": null,
   "metadata": {},
   "outputs": [],
   "source": []
  },
  {
   "cell_type": "code",
   "execution_count": null,
   "metadata": {},
   "outputs": [],
   "source": []
  }
 ],
 "metadata": {
  "kernelspec": {
   "display_name": "base",
   "language": "python",
   "name": "python3"
  },
  "language_info": {
   "codemirror_mode": {
    "name": "ipython",
    "version": 3
   },
   "file_extension": ".py",
   "mimetype": "text/x-python",
   "name": "python",
   "nbconvert_exporter": "python",
   "pygments_lexer": "ipython3",
   "version": "3.12.2"
  }
 },
 "nbformat": 4,
 "nbformat_minor": 2
}
