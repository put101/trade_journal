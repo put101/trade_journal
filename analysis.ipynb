{
 "cells": [
  {
   "cell_type": "code",
   "execution_count": 716,
   "metadata": {},
   "outputs": [
    {
     "name": "stdout",
     "output_type": "stream",
     "text": [
      "/bin/zsh\n",
      "/Users/tobiaspucher/miniconda3/bin:/opt/homebrew/opt/node@22/bin:/Users/tobiaspucher/miniconda3/bin:/Users/tobiaspucher/miniconda3/condabin:/opt/homebrew/bin:/opt/homebrew/sbin:/usr/local/bin:/System/Cryptexes/App/usr/bin:/usr/bin:/bin:/usr/sbin:/sbin:/var/run/com.apple.security.cryptexd/codex.system/bootstrap/usr/local/bin:/var/run/com.apple.security.cryptexd/codex.system/bootstrap/usr/bin:/var/run/com.apple.security.cryptexd/codex.system/bootstrap/usr/appleinternal/bin:/Library/Apple/usr/bin:/Library/TeX/texbin:/Users/tobiaspucher/.cargo/bin:/Users/tobiaspucher/.local/bin:/Users/tobiaspucher/Library/Application Support/JetBrains/Toolbox/scripts\n",
      "/Users/tobiaspucher/Library/CloudStorage/OneDrive-Personal/2025/trade_journal\n"
     ]
    }
   ],
   "source": [
    "!echo $SHELL\n",
    "!echo $PATH\n",
    "!echo $JOURNAL_ROOT"
   ]
  },
  {
   "cell_type": "code",
   "execution_count": 717,
   "metadata": {},
   "outputs": [
    {
     "name": "stdout",
     "output_type": "stream",
     "text": [
      "The autoreload extension is already loaded. To reload it, use:\n",
      "  %reload_ext autoreload\n"
     ]
    },
    {
     "data": {
      "text/plain": [
       "'/Users/tobiaspucher/Library/CloudStorage/OneDrive-Personal/2025/trade_journal'"
      ]
     },
     "execution_count": 717,
     "metadata": {},
     "output_type": "execute_result"
    }
   ],
   "source": [
    "%load_ext autoreload\n",
    "%autoreload 2\n",
    "import logging\n",
    "logging.basicConfig(level=logging.ERROR)\n",
    "import random\n",
    "random.seed(0)\n",
    "import os\n",
    "os.getenv('JOURNAL_ROOT')"
   ]
  },
  {
   "cell_type": "code",
   "execution_count": 718,
   "metadata": {},
   "outputs": [],
   "source": [
    "from src.tradecli import *\n",
    "from src.utils import *\n",
    "from src.journal import *\n",
    "\n",
    "pd.set_option('display.max_rows', 500)\n",
    "pd.set_option('display.max_columns', 500)"
   ]
  },
  {
   "cell_type": "code",
   "execution_count": 719,
   "metadata": {},
   "outputs": [
    {
     "data": {
      "text/html": [
       "<div>\n",
       "<style scoped>\n",
       "    .dataframe tbody tr th:only-of-type {\n",
       "        vertical-align: middle;\n",
       "    }\n",
       "\n",
       "    .dataframe tbody tr th {\n",
       "        vertical-align: top;\n",
       "    }\n",
       "\n",
       "    .dataframe thead th {\n",
       "        text-align: right;\n",
       "    }\n",
       "</style>\n",
       "<table border=\"1\" class=\"dataframe\">\n",
       "  <thead>\n",
       "    <tr style=\"text-align: right;\">\n",
       "      <th></th>\n",
       "      <th>type_3_m30</th>\n",
       "      <th>side</th>\n",
       "      <th>type_3_d</th>\n",
       "      <th>type_3_M</th>\n",
       "      <th>type_3_h4</th>\n",
       "      <th>type_3_m1</th>\n",
       "      <th>type_3_w</th>\n",
       "      <th>type_1_m5</th>\n",
       "      <th>type_1_m30</th>\n",
       "      <th>type_1_h1</th>\n",
       "      <th>type_3_m5</th>\n",
       "      <th>type_3_m15</th>\n",
       "      <th>type_1_M</th>\n",
       "      <th>type_1_w</th>\n",
       "      <th>type_3_h1</th>\n",
       "      <th>type_1_d</th>\n",
       "      <th>type_1_m1</th>\n",
       "      <th>type_1_h4</th>\n",
       "      <th>type_1_m15</th>\n",
       "    </tr>\n",
       "  </thead>\n",
       "  <tbody>\n",
       "    <tr>\n",
       "      <th>0</th>\n",
       "      <td>False</td>\n",
       "      <td>long</td>\n",
       "      <td>False</td>\n",
       "      <td>False</td>\n",
       "      <td>False</td>\n",
       "      <td>False</td>\n",
       "      <td>False</td>\n",
       "      <td>False</td>\n",
       "      <td>False</td>\n",
       "      <td>False</td>\n",
       "      <td>False</td>\n",
       "      <td>True</td>\n",
       "      <td>False</td>\n",
       "      <td>False</td>\n",
       "      <td>False</td>\n",
       "      <td>False</td>\n",
       "      <td>True</td>\n",
       "      <td>False</td>\n",
       "      <td>False</td>\n",
       "    </tr>\n",
       "    <tr>\n",
       "      <th>1</th>\n",
       "      <td>False</td>\n",
       "      <td>long</td>\n",
       "      <td>False</td>\n",
       "      <td>False</td>\n",
       "      <td>False</td>\n",
       "      <td>False</td>\n",
       "      <td>False</td>\n",
       "      <td>False</td>\n",
       "      <td>False</td>\n",
       "      <td>False</td>\n",
       "      <td>False</td>\n",
       "      <td>False</td>\n",
       "      <td>False</td>\n",
       "      <td>False</td>\n",
       "      <td>False</td>\n",
       "      <td>False</td>\n",
       "      <td>False</td>\n",
       "      <td>False</td>\n",
       "      <td>False</td>\n",
       "    </tr>\n",
       "    <tr>\n",
       "      <th>2</th>\n",
       "      <td>False</td>\n",
       "      <td>long</td>\n",
       "      <td>False</td>\n",
       "      <td>False</td>\n",
       "      <td>False</td>\n",
       "      <td>False</td>\n",
       "      <td>False</td>\n",
       "      <td>False</td>\n",
       "      <td>False</td>\n",
       "      <td>False</td>\n",
       "      <td>False</td>\n",
       "      <td>False</td>\n",
       "      <td>False</td>\n",
       "      <td>False</td>\n",
       "      <td>False</td>\n",
       "      <td>False</td>\n",
       "      <td>False</td>\n",
       "      <td>False</td>\n",
       "      <td>False</td>\n",
       "    </tr>\n",
       "    <tr>\n",
       "      <th>3</th>\n",
       "      <td>False</td>\n",
       "      <td>long</td>\n",
       "      <td>False</td>\n",
       "      <td>False</td>\n",
       "      <td>False</td>\n",
       "      <td>False</td>\n",
       "      <td>False</td>\n",
       "      <td>False</td>\n",
       "      <td>False</td>\n",
       "      <td>False</td>\n",
       "      <td>False</td>\n",
       "      <td>False</td>\n",
       "      <td>False</td>\n",
       "      <td>False</td>\n",
       "      <td>False</td>\n",
       "      <td>False</td>\n",
       "      <td>False</td>\n",
       "      <td>False</td>\n",
       "      <td>False</td>\n",
       "    </tr>\n",
       "    <tr>\n",
       "      <th>4</th>\n",
       "      <td>False</td>\n",
       "      <td>short</td>\n",
       "      <td>False</td>\n",
       "      <td>False</td>\n",
       "      <td>False</td>\n",
       "      <td>True</td>\n",
       "      <td>False</td>\n",
       "      <td>False</td>\n",
       "      <td>False</td>\n",
       "      <td>False</td>\n",
       "      <td>False</td>\n",
       "      <td>False</td>\n",
       "      <td>False</td>\n",
       "      <td>False</td>\n",
       "      <td>False</td>\n",
       "      <td>True</td>\n",
       "      <td>False</td>\n",
       "      <td>False</td>\n",
       "      <td>False</td>\n",
       "    </tr>\n",
       "    <tr>\n",
       "      <th>5</th>\n",
       "      <td>False</td>\n",
       "      <td>short</td>\n",
       "      <td>False</td>\n",
       "      <td>False</td>\n",
       "      <td>False</td>\n",
       "      <td>False</td>\n",
       "      <td>False</td>\n",
       "      <td>False</td>\n",
       "      <td>False</td>\n",
       "      <td>True</td>\n",
       "      <td>True</td>\n",
       "      <td>False</td>\n",
       "      <td>False</td>\n",
       "      <td>False</td>\n",
       "      <td>False</td>\n",
       "      <td>False</td>\n",
       "      <td>False</td>\n",
       "      <td>False</td>\n",
       "      <td>False</td>\n",
       "    </tr>\n",
       "    <tr>\n",
       "      <th>6</th>\n",
       "      <td>False</td>\n",
       "      <td>short</td>\n",
       "      <td>False</td>\n",
       "      <td>False</td>\n",
       "      <td>False</td>\n",
       "      <td>False</td>\n",
       "      <td>False</td>\n",
       "      <td>False</td>\n",
       "      <td>False</td>\n",
       "      <td>False</td>\n",
       "      <td>True</td>\n",
       "      <td>False</td>\n",
       "      <td>False</td>\n",
       "      <td>True</td>\n",
       "      <td>False</td>\n",
       "      <td>False</td>\n",
       "      <td>False</td>\n",
       "      <td>False</td>\n",
       "      <td>False</td>\n",
       "    </tr>\n",
       "    <tr>\n",
       "      <th>7</th>\n",
       "      <td>False</td>\n",
       "      <td>short</td>\n",
       "      <td>False</td>\n",
       "      <td>False</td>\n",
       "      <td>False</td>\n",
       "      <td>True</td>\n",
       "      <td>False</td>\n",
       "      <td>True</td>\n",
       "      <td>False</td>\n",
       "      <td>False</td>\n",
       "      <td>False</td>\n",
       "      <td>False</td>\n",
       "      <td>False</td>\n",
       "      <td>False</td>\n",
       "      <td>False</td>\n",
       "      <td>False</td>\n",
       "      <td>False</td>\n",
       "      <td>False</td>\n",
       "      <td>False</td>\n",
       "    </tr>\n",
       "    <tr>\n",
       "      <th>8</th>\n",
       "      <td>False</td>\n",
       "      <td>short</td>\n",
       "      <td>False</td>\n",
       "      <td>False</td>\n",
       "      <td>False</td>\n",
       "      <td>False</td>\n",
       "      <td>False</td>\n",
       "      <td>False</td>\n",
       "      <td>False</td>\n",
       "      <td>False</td>\n",
       "      <td>True</td>\n",
       "      <td>False</td>\n",
       "      <td>True</td>\n",
       "      <td>False</td>\n",
       "      <td>False</td>\n",
       "      <td>False</td>\n",
       "      <td>False</td>\n",
       "      <td>False</td>\n",
       "      <td>False</td>\n",
       "    </tr>\n",
       "    <tr>\n",
       "      <th>9</th>\n",
       "      <td>False</td>\n",
       "      <td>short</td>\n",
       "      <td>False</td>\n",
       "      <td>True</td>\n",
       "      <td>False</td>\n",
       "      <td>False</td>\n",
       "      <td>False</td>\n",
       "      <td>False</td>\n",
       "      <td>False</td>\n",
       "      <td>False</td>\n",
       "      <td>False</td>\n",
       "      <td>False</td>\n",
       "      <td>True</td>\n",
       "      <td>False</td>\n",
       "      <td>False</td>\n",
       "      <td>False</td>\n",
       "      <td>False</td>\n",
       "      <td>False</td>\n",
       "      <td>False</td>\n",
       "    </tr>\n",
       "    <tr>\n",
       "      <th>10</th>\n",
       "      <td>False</td>\n",
       "      <td>long</td>\n",
       "      <td>False</td>\n",
       "      <td>False</td>\n",
       "      <td>False</td>\n",
       "      <td>False</td>\n",
       "      <td>True</td>\n",
       "      <td>False</td>\n",
       "      <td>False</td>\n",
       "      <td>False</td>\n",
       "      <td>False</td>\n",
       "      <td>False</td>\n",
       "      <td>False</td>\n",
       "      <td>False</td>\n",
       "      <td>False</td>\n",
       "      <td>False</td>\n",
       "      <td>True</td>\n",
       "      <td>False</td>\n",
       "      <td>False</td>\n",
       "    </tr>\n",
       "    <tr>\n",
       "      <th>11</th>\n",
       "      <td>False</td>\n",
       "      <td>short</td>\n",
       "      <td>False</td>\n",
       "      <td>False</td>\n",
       "      <td>False</td>\n",
       "      <td>False</td>\n",
       "      <td>False</td>\n",
       "      <td>False</td>\n",
       "      <td>True</td>\n",
       "      <td>False</td>\n",
       "      <td>False</td>\n",
       "      <td>False</td>\n",
       "      <td>False</td>\n",
       "      <td>False</td>\n",
       "      <td>True</td>\n",
       "      <td>False</td>\n",
       "      <td>False</td>\n",
       "      <td>False</td>\n",
       "      <td>False</td>\n",
       "    </tr>\n",
       "    <tr>\n",
       "      <th>12</th>\n",
       "      <td>True</td>\n",
       "      <td>long</td>\n",
       "      <td>False</td>\n",
       "      <td>False</td>\n",
       "      <td>False</td>\n",
       "      <td>False</td>\n",
       "      <td>False</td>\n",
       "      <td>False</td>\n",
       "      <td>False</td>\n",
       "      <td>True</td>\n",
       "      <td>False</td>\n",
       "      <td>False</td>\n",
       "      <td>False</td>\n",
       "      <td>False</td>\n",
       "      <td>False</td>\n",
       "      <td>False</td>\n",
       "      <td>False</td>\n",
       "      <td>False</td>\n",
       "      <td>False</td>\n",
       "    </tr>\n",
       "    <tr>\n",
       "      <th>13</th>\n",
       "      <td>True</td>\n",
       "      <td>long</td>\n",
       "      <td>False</td>\n",
       "      <td>False</td>\n",
       "      <td>False</td>\n",
       "      <td>False</td>\n",
       "      <td>False</td>\n",
       "      <td>False</td>\n",
       "      <td>False</td>\n",
       "      <td>False</td>\n",
       "      <td>False</td>\n",
       "      <td>False</td>\n",
       "      <td>False</td>\n",
       "      <td>False</td>\n",
       "      <td>False</td>\n",
       "      <td>False</td>\n",
       "      <td>True</td>\n",
       "      <td>False</td>\n",
       "      <td>False</td>\n",
       "    </tr>\n",
       "  </tbody>\n",
       "</table>\n",
       "</div>"
      ],
      "text/plain": [
       "    type_3_m30   side  type_3_d  type_3_M  type_3_h4  type_3_m1  type_3_w  \\\n",
       "0        False   long     False     False      False      False     False   \n",
       "1        False   long     False     False      False      False     False   \n",
       "2        False   long     False     False      False      False     False   \n",
       "3        False   long     False     False      False      False     False   \n",
       "4        False  short     False     False      False       True     False   \n",
       "5        False  short     False     False      False      False     False   \n",
       "6        False  short     False     False      False      False     False   \n",
       "7        False  short     False     False      False       True     False   \n",
       "8        False  short     False     False      False      False     False   \n",
       "9        False  short     False      True      False      False     False   \n",
       "10       False   long     False     False      False      False      True   \n",
       "11       False  short     False     False      False      False     False   \n",
       "12        True   long     False     False      False      False     False   \n",
       "13        True   long     False     False      False      False     False   \n",
       "\n",
       "    type_1_m5  type_1_m30  type_1_h1  type_3_m5  type_3_m15  type_1_M  \\\n",
       "0       False       False      False      False        True     False   \n",
       "1       False       False      False      False       False     False   \n",
       "2       False       False      False      False       False     False   \n",
       "3       False       False      False      False       False     False   \n",
       "4       False       False      False      False       False     False   \n",
       "5       False       False       True       True       False     False   \n",
       "6       False       False      False       True       False     False   \n",
       "7        True       False      False      False       False     False   \n",
       "8       False       False      False       True       False      True   \n",
       "9       False       False      False      False       False      True   \n",
       "10      False       False      False      False       False     False   \n",
       "11      False        True      False      False       False     False   \n",
       "12      False       False       True      False       False     False   \n",
       "13      False       False      False      False       False     False   \n",
       "\n",
       "    type_1_w  type_3_h1  type_1_d  type_1_m1  type_1_h4  type_1_m15  \n",
       "0      False      False     False       True      False       False  \n",
       "1      False      False     False      False      False       False  \n",
       "2      False      False     False      False      False       False  \n",
       "3      False      False     False      False      False       False  \n",
       "4      False      False      True      False      False       False  \n",
       "5      False      False     False      False      False       False  \n",
       "6       True      False     False      False      False       False  \n",
       "7      False      False     False      False      False       False  \n",
       "8      False      False     False      False      False       False  \n",
       "9      False      False     False      False      False       False  \n",
       "10     False      False     False       True      False       False  \n",
       "11     False       True     False      False      False       False  \n",
       "12     False      False     False      False      False       False  \n",
       "13     False      False     False       True      False       False  "
      ]
     },
     "metadata": {},
     "output_type": "display_data"
    }
   ],
   "source": [
    "config = Config(\n",
    "    include_patterns=[r'^type_1_', r'^type_3_', r'^risk_reward_ratio$', r'^side'],  \n",
    "    exclude_patterns=[r'^management_strategy$'],         \n",
    "    #force_values={'side': 'short', 'side': 'long'},\n",
    ")\n",
    "\n",
    "full_df = j.to_dataframe(config)\n",
    "#full_df = full_df[full_df['side'] == 'long']\n",
    "display(full_df)"
   ]
  },
  {
   "cell_type": "code",
   "execution_count": 720,
   "metadata": {},
   "outputs": [],
   "source": [
    "!rm -rf output\n",
    "logger = logging.getLogger()\n",
    "logger.setLevel(logging.ERROR)\n",
    "j.to_markdown(output_dir='output',)"
   ]
  },
  {
   "cell_type": "code",
   "execution_count": 721,
   "metadata": {},
   "outputs": [
    {
     "data": {
      "text/html": [
       "<div>\n",
       "<style scoped>\n",
       "    .dataframe tbody tr th:only-of-type {\n",
       "        vertical-align: middle;\n",
       "    }\n",
       "\n",
       "    .dataframe tbody tr th {\n",
       "        vertical-align: top;\n",
       "    }\n",
       "\n",
       "    .dataframe thead th {\n",
       "        text-align: right;\n",
       "    }\n",
       "</style>\n",
       "<table border=\"1\" class=\"dataframe\">\n",
       "  <thead>\n",
       "    <tr style=\"text-align: right;\">\n",
       "      <th></th>\n",
       "      <th>trade_uid</th>\n",
       "      <th>outcome</th>\n",
       "      <th>potential_risk_reward</th>\n",
       "      <th>TP_distance</th>\n",
       "      <th>type_3_m30</th>\n",
       "      <th>side</th>\n",
       "      <th>initial_risk_reward</th>\n",
       "      <th>type_3_d</th>\n",
       "      <th>type_3_M</th>\n",
       "      <th>potential_return</th>\n",
       "      <th>type_2_m15</th>\n",
       "      <th>type_3_h4</th>\n",
       "      <th>entry_price</th>\n",
       "      <th>type_3_m1</th>\n",
       "      <th>type_3_w</th>\n",
       "      <th>unit_test</th>\n",
       "      <th>type_1_m5</th>\n",
       "      <th>type_1_m30</th>\n",
       "      <th>rr</th>\n",
       "      <th>type_1_h1</th>\n",
       "      <th>type_3_m5</th>\n",
       "      <th>session</th>\n",
       "      <th>type_2_h1</th>\n",
       "      <th>type_2_m1</th>\n",
       "      <th>close_price</th>\n",
       "      <th>type_2_h4</th>\n",
       "      <th>initial_return</th>\n",
       "      <th>numerical_confidence</th>\n",
       "      <th>type_3_m15</th>\n",
       "      <th>type_1_M</th>\n",
       "      <th>return</th>\n",
       "      <th>account_name</th>\n",
       "      <th>type_1_w</th>\n",
       "      <th>type_2_m30</th>\n",
       "      <th>type_2_d</th>\n",
       "      <th>account</th>\n",
       "      <th>potential_price</th>\n",
       "      <th>tp_price</th>\n",
       "      <th>type_2_w</th>\n",
       "      <th>type_2_m5</th>\n",
       "      <th>SL_distance</th>\n",
       "      <th>type_3_h1</th>\n",
       "      <th>type_1_d</th>\n",
       "      <th>type_1_m1</th>\n",
       "      <th>type_2_M</th>\n",
       "      <th>entry_time</th>\n",
       "      <th>type_1_h4</th>\n",
       "      <th>type_1_m15</th>\n",
       "      <th>management_strategy</th>\n",
       "      <th>sl_price</th>\n",
       "      <th>htf_poi_ltf_confirmation</th>\n",
       "      <th>htf_poi_ltf_confirmation_False</th>\n",
       "      <th>htf_poi_ltf_confirmation_True</th>\n",
       "      <th>management_strategy_be_after_1r</th>\n",
       "      <th>management_strategy_be_after_push</th>\n",
       "      <th>management_strategy_no_management</th>\n",
       "      <th>management_strategy_strategy_2</th>\n",
       "      <th>outcome_be</th>\n",
       "      <th>outcome_loss</th>\n",
       "      <th>outcome_win</th>\n",
       "    </tr>\n",
       "  </thead>\n",
       "  <tbody>\n",
       "    <tr>\n",
       "      <th>0</th>\n",
       "      <td>1001</td>\n",
       "      <td>NaN</td>\n",
       "      <td>NaN</td>\n",
       "      <td>0.010000</td>\n",
       "      <td>False</td>\n",
       "      <td>long</td>\n",
       "      <td>2.000000</td>\n",
       "      <td>False</td>\n",
       "      <td>False</td>\n",
       "      <td>NaN</td>\n",
       "      <td>False</td>\n",
       "      <td>False</td>\n",
       "      <td>1.1000</td>\n",
       "      <td>False</td>\n",
       "      <td>False</td>\n",
       "      <td>False</td>\n",
       "      <td>False</td>\n",
       "      <td>False</td>\n",
       "      <td>NaN</td>\n",
       "      <td>False</td>\n",
       "      <td>False</td>\n",
       "      <td>new_york</td>\n",
       "      <td>False</td>\n",
       "      <td>False</td>\n",
       "      <td>NaN</td>\n",
       "      <td>False</td>\n",
       "      <td>0.010000</td>\n",
       "      <td>3.0</td>\n",
       "      <td>True</td>\n",
       "      <td>False</td>\n",
       "      <td>NaN</td>\n",
       "      <td>default</td>\n",
       "      <td>False</td>\n",
       "      <td>False</td>\n",
       "      <td>False</td>\n",
       "      <td>None</td>\n",
       "      <td>NaN</td>\n",
       "      <td>1.110000</td>\n",
       "      <td>False</td>\n",
       "      <td>False</td>\n",
       "      <td>0.005</td>\n",
       "      <td>False</td>\n",
       "      <td>False</td>\n",
       "      <td>True</td>\n",
       "      <td>False</td>\n",
       "      <td>2025-01-25 14:46:22.808734000</td>\n",
       "      <td>False</td>\n",
       "      <td>False</td>\n",
       "      <td>no_management</td>\n",
       "      <td>1.0950</td>\n",
       "      <td>False</td>\n",
       "      <td>True</td>\n",
       "      <td>False</td>\n",
       "      <td>False</td>\n",
       "      <td>False</td>\n",
       "      <td>True</td>\n",
       "      <td>False</td>\n",
       "      <td>False</td>\n",
       "      <td>False</td>\n",
       "      <td>False</td>\n",
       "    </tr>\n",
       "    <tr>\n",
       "      <th>1</th>\n",
       "      <td>1002</td>\n",
       "      <td>NaN</td>\n",
       "      <td>NaN</td>\n",
       "      <td>0.010000</td>\n",
       "      <td>False</td>\n",
       "      <td>long</td>\n",
       "      <td>0.666667</td>\n",
       "      <td>False</td>\n",
       "      <td>False</td>\n",
       "      <td>NaN</td>\n",
       "      <td>False</td>\n",
       "      <td>False</td>\n",
       "      <td>1.2000</td>\n",
       "      <td>False</td>\n",
       "      <td>False</td>\n",
       "      <td>False</td>\n",
       "      <td>False</td>\n",
       "      <td>False</td>\n",
       "      <td>-0.966667</td>\n",
       "      <td>False</td>\n",
       "      <td>False</td>\n",
       "      <td>new_york</td>\n",
       "      <td>True</td>\n",
       "      <td>False</td>\n",
       "      <td>1.18550</td>\n",
       "      <td>False</td>\n",
       "      <td>0.010000</td>\n",
       "      <td>2.0</td>\n",
       "      <td>False</td>\n",
       "      <td>False</td>\n",
       "      <td>-0.01450</td>\n",
       "      <td>default</td>\n",
       "      <td>False</td>\n",
       "      <td>False</td>\n",
       "      <td>False</td>\n",
       "      <td>None</td>\n",
       "      <td>NaN</td>\n",
       "      <td>1.210000</td>\n",
       "      <td>False</td>\n",
       "      <td>False</td>\n",
       "      <td>0.015</td>\n",
       "      <td>False</td>\n",
       "      <td>False</td>\n",
       "      <td>False</td>\n",
       "      <td>False</td>\n",
       "      <td>2025-01-25 14:46:22.808765000</td>\n",
       "      <td>False</td>\n",
       "      <td>False</td>\n",
       "      <td>no_management</td>\n",
       "      <td>1.1850</td>\n",
       "      <td>True</td>\n",
       "      <td>False</td>\n",
       "      <td>True</td>\n",
       "      <td>False</td>\n",
       "      <td>False</td>\n",
       "      <td>True</td>\n",
       "      <td>False</td>\n",
       "      <td>False</td>\n",
       "      <td>False</td>\n",
       "      <td>False</td>\n",
       "    </tr>\n",
       "    <tr>\n",
       "      <th>2</th>\n",
       "      <td>1003</td>\n",
       "      <td>NaN</td>\n",
       "      <td>NaN</td>\n",
       "      <td>0.030000</td>\n",
       "      <td>False</td>\n",
       "      <td>long</td>\n",
       "      <td>10.000000</td>\n",
       "      <td>False</td>\n",
       "      <td>False</td>\n",
       "      <td>NaN</td>\n",
       "      <td>False</td>\n",
       "      <td>False</td>\n",
       "      <td>1.3000</td>\n",
       "      <td>False</td>\n",
       "      <td>False</td>\n",
       "      <td>False</td>\n",
       "      <td>False</td>\n",
       "      <td>False</td>\n",
       "      <td>NaN</td>\n",
       "      <td>False</td>\n",
       "      <td>False</td>\n",
       "      <td>london</td>\n",
       "      <td>False</td>\n",
       "      <td>False</td>\n",
       "      <td>NaN</td>\n",
       "      <td>False</td>\n",
       "      <td>0.030000</td>\n",
       "      <td>NaN</td>\n",
       "      <td>False</td>\n",
       "      <td>False</td>\n",
       "      <td>NaN</td>\n",
       "      <td>default</td>\n",
       "      <td>False</td>\n",
       "      <td>False</td>\n",
       "      <td>False</td>\n",
       "      <td>None</td>\n",
       "      <td>NaN</td>\n",
       "      <td>1.330000</td>\n",
       "      <td>False</td>\n",
       "      <td>False</td>\n",
       "      <td>0.500</td>\n",
       "      <td>False</td>\n",
       "      <td>False</td>\n",
       "      <td>False</td>\n",
       "      <td>False</td>\n",
       "      <td>2024-12-27 10:00:01.000000000</td>\n",
       "      <td>False</td>\n",
       "      <td>False</td>\n",
       "      <td>no_management</td>\n",
       "      <td>1.2970</td>\n",
       "      <td>False</td>\n",
       "      <td>True</td>\n",
       "      <td>False</td>\n",
       "      <td>False</td>\n",
       "      <td>False</td>\n",
       "      <td>True</td>\n",
       "      <td>False</td>\n",
       "      <td>False</td>\n",
       "      <td>False</td>\n",
       "      <td>False</td>\n",
       "    </tr>\n",
       "    <tr>\n",
       "      <th>3</th>\n",
       "      <td>1004</td>\n",
       "      <td>NaN</td>\n",
       "      <td>5.0</td>\n",
       "      <td>0.030000</td>\n",
       "      <td>False</td>\n",
       "      <td>long</td>\n",
       "      <td>10.000000</td>\n",
       "      <td>False</td>\n",
       "      <td>False</td>\n",
       "      <td>0.015</td>\n",
       "      <td>False</td>\n",
       "      <td>False</td>\n",
       "      <td>1.3000</td>\n",
       "      <td>False</td>\n",
       "      <td>False</td>\n",
       "      <td>False</td>\n",
       "      <td>False</td>\n",
       "      <td>False</td>\n",
       "      <td>1.666667</td>\n",
       "      <td>False</td>\n",
       "      <td>False</td>\n",
       "      <td>london</td>\n",
       "      <td>False</td>\n",
       "      <td>False</td>\n",
       "      <td>1.30500</td>\n",
       "      <td>False</td>\n",
       "      <td>0.030000</td>\n",
       "      <td>4.0</td>\n",
       "      <td>False</td>\n",
       "      <td>False</td>\n",
       "      <td>0.00500</td>\n",
       "      <td>default</td>\n",
       "      <td>False</td>\n",
       "      <td>False</td>\n",
       "      <td>False</td>\n",
       "      <td>None</td>\n",
       "      <td>1.315</td>\n",
       "      <td>1.330000</td>\n",
       "      <td>False</td>\n",
       "      <td>False</td>\n",
       "      <td>0.500</td>\n",
       "      <td>False</td>\n",
       "      <td>False</td>\n",
       "      <td>False</td>\n",
       "      <td>False</td>\n",
       "      <td>2024-12-25 10:00:00.000000000</td>\n",
       "      <td>False</td>\n",
       "      <td>False</td>\n",
       "      <td>strategy_2</td>\n",
       "      <td>1.2970</td>\n",
       "      <td>False</td>\n",
       "      <td>True</td>\n",
       "      <td>False</td>\n",
       "      <td>False</td>\n",
       "      <td>False</td>\n",
       "      <td>False</td>\n",
       "      <td>True</td>\n",
       "      <td>False</td>\n",
       "      <td>False</td>\n",
       "      <td>False</td>\n",
       "    </tr>\n",
       "    <tr>\n",
       "      <th>4</th>\n",
       "      <td>1005</td>\n",
       "      <td>loss</td>\n",
       "      <td>NaN</td>\n",
       "      <td>-0.023222</td>\n",
       "      <td>False</td>\n",
       "      <td>short</td>\n",
       "      <td>4.644407</td>\n",
       "      <td>False</td>\n",
       "      <td>False</td>\n",
       "      <td>NaN</td>\n",
       "      <td>False</td>\n",
       "      <td>False</td>\n",
       "      <td>1.1204</td>\n",
       "      <td>True</td>\n",
       "      <td>False</td>\n",
       "      <td>True</td>\n",
       "      <td>False</td>\n",
       "      <td>False</td>\n",
       "      <td>-1.050000</td>\n",
       "      <td>False</td>\n",
       "      <td>False</td>\n",
       "      <td>tokyo</td>\n",
       "      <td>False</td>\n",
       "      <td>False</td>\n",
       "      <td>1.12565</td>\n",
       "      <td>False</td>\n",
       "      <td>-0.023222</td>\n",
       "      <td>5.0</td>\n",
       "      <td>False</td>\n",
       "      <td>False</td>\n",
       "      <td>0.00525</td>\n",
       "      <td>None</td>\n",
       "      <td>False</td>\n",
       "      <td>False</td>\n",
       "      <td>True</td>\n",
       "      <td>test_account</td>\n",
       "      <td>NaN</td>\n",
       "      <td>1.097178</td>\n",
       "      <td>False</td>\n",
       "      <td>False</td>\n",
       "      <td>-0.005</td>\n",
       "      <td>False</td>\n",
       "      <td>True</td>\n",
       "      <td>False</td>\n",
       "      <td>False</td>\n",
       "      <td>2025-01-07 01:27:23.603112923</td>\n",
       "      <td>False</td>\n",
       "      <td>False</td>\n",
       "      <td>be_after_1r</td>\n",
       "      <td>1.1254</td>\n",
       "      <td>True</td>\n",
       "      <td>False</td>\n",
       "      <td>True</td>\n",
       "      <td>True</td>\n",
       "      <td>False</td>\n",
       "      <td>False</td>\n",
       "      <td>False</td>\n",
       "      <td>False</td>\n",
       "      <td>True</td>\n",
       "      <td>False</td>\n",
       "    </tr>\n",
       "    <tr>\n",
       "      <th>5</th>\n",
       "      <td>1006</td>\n",
       "      <td>win</td>\n",
       "      <td>NaN</td>\n",
       "      <td>-0.049427</td>\n",
       "      <td>False</td>\n",
       "      <td>short</td>\n",
       "      <td>9.885333</td>\n",
       "      <td>False</td>\n",
       "      <td>False</td>\n",
       "      <td>NaN</td>\n",
       "      <td>True</td>\n",
       "      <td>False</td>\n",
       "      <td>1.1347</td>\n",
       "      <td>False</td>\n",
       "      <td>False</td>\n",
       "      <td>True</td>\n",
       "      <td>False</td>\n",
       "      <td>False</td>\n",
       "      <td>7.050000</td>\n",
       "      <td>True</td>\n",
       "      <td>True</td>\n",
       "      <td>tokyo</td>\n",
       "      <td>False</td>\n",
       "      <td>False</td>\n",
       "      <td>1.09945</td>\n",
       "      <td>False</td>\n",
       "      <td>-0.049427</td>\n",
       "      <td>1.0</td>\n",
       "      <td>False</td>\n",
       "      <td>False</td>\n",
       "      <td>-0.03525</td>\n",
       "      <td>None</td>\n",
       "      <td>False</td>\n",
       "      <td>False</td>\n",
       "      <td>False</td>\n",
       "      <td>test_account</td>\n",
       "      <td>NaN</td>\n",
       "      <td>1.085273</td>\n",
       "      <td>False</td>\n",
       "      <td>False</td>\n",
       "      <td>-0.005</td>\n",
       "      <td>False</td>\n",
       "      <td>False</td>\n",
       "      <td>False</td>\n",
       "      <td>False</td>\n",
       "      <td>2025-01-05 00:11:25.857897362</td>\n",
       "      <td>False</td>\n",
       "      <td>False</td>\n",
       "      <td>be_after_push</td>\n",
       "      <td>1.1397</td>\n",
       "      <td>True</td>\n",
       "      <td>False</td>\n",
       "      <td>True</td>\n",
       "      <td>False</td>\n",
       "      <td>True</td>\n",
       "      <td>False</td>\n",
       "      <td>False</td>\n",
       "      <td>False</td>\n",
       "      <td>False</td>\n",
       "      <td>True</td>\n",
       "    </tr>\n",
       "    <tr>\n",
       "      <th>6</th>\n",
       "      <td>1007</td>\n",
       "      <td>be</td>\n",
       "      <td>NaN</td>\n",
       "      <td>-0.032490</td>\n",
       "      <td>False</td>\n",
       "      <td>short</td>\n",
       "      <td>6.497983</td>\n",
       "      <td>False</td>\n",
       "      <td>False</td>\n",
       "      <td>NaN</td>\n",
       "      <td>False</td>\n",
       "      <td>False</td>\n",
       "      <td>1.1242</td>\n",
       "      <td>False</td>\n",
       "      <td>False</td>\n",
       "      <td>True</td>\n",
       "      <td>False</td>\n",
       "      <td>False</td>\n",
       "      <td>-0.050000</td>\n",
       "      <td>False</td>\n",
       "      <td>True</td>\n",
       "      <td>tokyo</td>\n",
       "      <td>False</td>\n",
       "      <td>False</td>\n",
       "      <td>1.12445</td>\n",
       "      <td>False</td>\n",
       "      <td>-0.032490</td>\n",
       "      <td>1.0</td>\n",
       "      <td>False</td>\n",
       "      <td>False</td>\n",
       "      <td>0.00025</td>\n",
       "      <td>None</td>\n",
       "      <td>True</td>\n",
       "      <td>False</td>\n",
       "      <td>False</td>\n",
       "      <td>test_account</td>\n",
       "      <td>NaN</td>\n",
       "      <td>1.091710</td>\n",
       "      <td>False</td>\n",
       "      <td>False</td>\n",
       "      <td>-0.005</td>\n",
       "      <td>False</td>\n",
       "      <td>False</td>\n",
       "      <td>False</td>\n",
       "      <td>True</td>\n",
       "      <td>2025-01-10 00:50:05.722141527</td>\n",
       "      <td>False</td>\n",
       "      <td>False</td>\n",
       "      <td>no_management</td>\n",
       "      <td>1.1292</td>\n",
       "      <td>False</td>\n",
       "      <td>True</td>\n",
       "      <td>False</td>\n",
       "      <td>False</td>\n",
       "      <td>False</td>\n",
       "      <td>True</td>\n",
       "      <td>False</td>\n",
       "      <td>True</td>\n",
       "      <td>False</td>\n",
       "      <td>False</td>\n",
       "    </tr>\n",
       "    <tr>\n",
       "      <th>7</th>\n",
       "      <td>1008</td>\n",
       "      <td>win</td>\n",
       "      <td>NaN</td>\n",
       "      <td>-0.015976</td>\n",
       "      <td>False</td>\n",
       "      <td>short</td>\n",
       "      <td>3.195198</td>\n",
       "      <td>False</td>\n",
       "      <td>False</td>\n",
       "      <td>NaN</td>\n",
       "      <td>False</td>\n",
       "      <td>False</td>\n",
       "      <td>1.1345</td>\n",
       "      <td>True</td>\n",
       "      <td>False</td>\n",
       "      <td>True</td>\n",
       "      <td>True</td>\n",
       "      <td>False</td>\n",
       "      <td>8.700000</td>\n",
       "      <td>False</td>\n",
       "      <td>False</td>\n",
       "      <td>tokyo</td>\n",
       "      <td>False</td>\n",
       "      <td>False</td>\n",
       "      <td>1.09100</td>\n",
       "      <td>False</td>\n",
       "      <td>-0.015976</td>\n",
       "      <td>2.0</td>\n",
       "      <td>False</td>\n",
       "      <td>False</td>\n",
       "      <td>-0.04350</td>\n",
       "      <td>None</td>\n",
       "      <td>False</td>\n",
       "      <td>False</td>\n",
       "      <td>True</td>\n",
       "      <td>test_account</td>\n",
       "      <td>NaN</td>\n",
       "      <td>1.118524</td>\n",
       "      <td>False</td>\n",
       "      <td>False</td>\n",
       "      <td>-0.005</td>\n",
       "      <td>False</td>\n",
       "      <td>False</td>\n",
       "      <td>False</td>\n",
       "      <td>False</td>\n",
       "      <td>2025-01-24 23:20:24.283296430</td>\n",
       "      <td>False</td>\n",
       "      <td>False</td>\n",
       "      <td>be_after_1r</td>\n",
       "      <td>1.1395</td>\n",
       "      <td>True</td>\n",
       "      <td>False</td>\n",
       "      <td>True</td>\n",
       "      <td>True</td>\n",
       "      <td>False</td>\n",
       "      <td>False</td>\n",
       "      <td>False</td>\n",
       "      <td>False</td>\n",
       "      <td>False</td>\n",
       "      <td>True</td>\n",
       "    </tr>\n",
       "    <tr>\n",
       "      <th>8</th>\n",
       "      <td>1009</td>\n",
       "      <td>loss</td>\n",
       "      <td>NaN</td>\n",
       "      <td>-0.044379</td>\n",
       "      <td>False</td>\n",
       "      <td>short</td>\n",
       "      <td>8.875786</td>\n",
       "      <td>False</td>\n",
       "      <td>False</td>\n",
       "      <td>NaN</td>\n",
       "      <td>False</td>\n",
       "      <td>False</td>\n",
       "      <td>1.1132</td>\n",
       "      <td>False</td>\n",
       "      <td>False</td>\n",
       "      <td>True</td>\n",
       "      <td>False</td>\n",
       "      <td>False</td>\n",
       "      <td>-0.770000</td>\n",
       "      <td>False</td>\n",
       "      <td>True</td>\n",
       "      <td>tokyo</td>\n",
       "      <td>False</td>\n",
       "      <td>False</td>\n",
       "      <td>1.11705</td>\n",
       "      <td>False</td>\n",
       "      <td>-0.044379</td>\n",
       "      <td>1.0</td>\n",
       "      <td>False</td>\n",
       "      <td>True</td>\n",
       "      <td>0.00385</td>\n",
       "      <td>None</td>\n",
       "      <td>False</td>\n",
       "      <td>False</td>\n",
       "      <td>False</td>\n",
       "      <td>test_account</td>\n",
       "      <td>NaN</td>\n",
       "      <td>1.068821</td>\n",
       "      <td>True</td>\n",
       "      <td>False</td>\n",
       "      <td>-0.005</td>\n",
       "      <td>False</td>\n",
       "      <td>False</td>\n",
       "      <td>False</td>\n",
       "      <td>False</td>\n",
       "      <td>2025-01-12 23:58:56.190823963</td>\n",
       "      <td>False</td>\n",
       "      <td>False</td>\n",
       "      <td>be_after_push</td>\n",
       "      <td>1.1182</td>\n",
       "      <td>False</td>\n",
       "      <td>True</td>\n",
       "      <td>False</td>\n",
       "      <td>False</td>\n",
       "      <td>True</td>\n",
       "      <td>False</td>\n",
       "      <td>False</td>\n",
       "      <td>False</td>\n",
       "      <td>True</td>\n",
       "      <td>False</td>\n",
       "    </tr>\n",
       "    <tr>\n",
       "      <th>9</th>\n",
       "      <td>1010</td>\n",
       "      <td>loss</td>\n",
       "      <td>NaN</td>\n",
       "      <td>-0.009123</td>\n",
       "      <td>False</td>\n",
       "      <td>short</td>\n",
       "      <td>1.824689</td>\n",
       "      <td>False</td>\n",
       "      <td>True</td>\n",
       "      <td>NaN</td>\n",
       "      <td>False</td>\n",
       "      <td>False</td>\n",
       "      <td>1.1335</td>\n",
       "      <td>False</td>\n",
       "      <td>False</td>\n",
       "      <td>True</td>\n",
       "      <td>False</td>\n",
       "      <td>False</td>\n",
       "      <td>-1.020000</td>\n",
       "      <td>False</td>\n",
       "      <td>False</td>\n",
       "      <td>tokyo</td>\n",
       "      <td>False</td>\n",
       "      <td>False</td>\n",
       "      <td>1.13860</td>\n",
       "      <td>False</td>\n",
       "      <td>-0.009123</td>\n",
       "      <td>2.0</td>\n",
       "      <td>False</td>\n",
       "      <td>True</td>\n",
       "      <td>0.00510</td>\n",
       "      <td>None</td>\n",
       "      <td>False</td>\n",
       "      <td>True</td>\n",
       "      <td>False</td>\n",
       "      <td>test_account</td>\n",
       "      <td>NaN</td>\n",
       "      <td>1.124377</td>\n",
       "      <td>False</td>\n",
       "      <td>False</td>\n",
       "      <td>-0.005</td>\n",
       "      <td>False</td>\n",
       "      <td>False</td>\n",
       "      <td>False</td>\n",
       "      <td>False</td>\n",
       "      <td>2025-01-05 00:58:51.544468002</td>\n",
       "      <td>False</td>\n",
       "      <td>False</td>\n",
       "      <td>be_after_1r</td>\n",
       "      <td>1.1385</td>\n",
       "      <td>True</td>\n",
       "      <td>False</td>\n",
       "      <td>True</td>\n",
       "      <td>True</td>\n",
       "      <td>False</td>\n",
       "      <td>False</td>\n",
       "      <td>False</td>\n",
       "      <td>False</td>\n",
       "      <td>True</td>\n",
       "      <td>False</td>\n",
       "    </tr>\n",
       "    <tr>\n",
       "      <th>10</th>\n",
       "      <td>1011</td>\n",
       "      <td>loss</td>\n",
       "      <td>NaN</td>\n",
       "      <td>0.044455</td>\n",
       "      <td>False</td>\n",
       "      <td>long</td>\n",
       "      <td>8.890933</td>\n",
       "      <td>False</td>\n",
       "      <td>False</td>\n",
       "      <td>NaN</td>\n",
       "      <td>False</td>\n",
       "      <td>False</td>\n",
       "      <td>1.1128</td>\n",
       "      <td>False</td>\n",
       "      <td>True</td>\n",
       "      <td>True</td>\n",
       "      <td>False</td>\n",
       "      <td>False</td>\n",
       "      <td>-0.240000</td>\n",
       "      <td>False</td>\n",
       "      <td>False</td>\n",
       "      <td>tokyo</td>\n",
       "      <td>True</td>\n",
       "      <td>False</td>\n",
       "      <td>1.11160</td>\n",
       "      <td>False</td>\n",
       "      <td>0.044455</td>\n",
       "      <td>5.0</td>\n",
       "      <td>False</td>\n",
       "      <td>False</td>\n",
       "      <td>-0.00120</td>\n",
       "      <td>None</td>\n",
       "      <td>False</td>\n",
       "      <td>False</td>\n",
       "      <td>False</td>\n",
       "      <td>test_account</td>\n",
       "      <td>NaN</td>\n",
       "      <td>1.157255</td>\n",
       "      <td>False</td>\n",
       "      <td>False</td>\n",
       "      <td>0.005</td>\n",
       "      <td>False</td>\n",
       "      <td>False</td>\n",
       "      <td>True</td>\n",
       "      <td>False</td>\n",
       "      <td>2025-01-22 01:21:14.598694243</td>\n",
       "      <td>False</td>\n",
       "      <td>False</td>\n",
       "      <td>be_after_1r</td>\n",
       "      <td>1.1078</td>\n",
       "      <td>False</td>\n",
       "      <td>True</td>\n",
       "      <td>False</td>\n",
       "      <td>True</td>\n",
       "      <td>False</td>\n",
       "      <td>False</td>\n",
       "      <td>False</td>\n",
       "      <td>False</td>\n",
       "      <td>True</td>\n",
       "      <td>False</td>\n",
       "    </tr>\n",
       "    <tr>\n",
       "      <th>11</th>\n",
       "      <td>1012</td>\n",
       "      <td>win</td>\n",
       "      <td>NaN</td>\n",
       "      <td>-0.008707</td>\n",
       "      <td>False</td>\n",
       "      <td>short</td>\n",
       "      <td>1.741357</td>\n",
       "      <td>False</td>\n",
       "      <td>False</td>\n",
       "      <td>NaN</td>\n",
       "      <td>False</td>\n",
       "      <td>False</td>\n",
       "      <td>1.1280</td>\n",
       "      <td>False</td>\n",
       "      <td>False</td>\n",
       "      <td>True</td>\n",
       "      <td>False</td>\n",
       "      <td>True</td>\n",
       "      <td>4.860000</td>\n",
       "      <td>False</td>\n",
       "      <td>False</td>\n",
       "      <td>tokyo</td>\n",
       "      <td>False</td>\n",
       "      <td>False</td>\n",
       "      <td>1.10370</td>\n",
       "      <td>False</td>\n",
       "      <td>-0.008707</td>\n",
       "      <td>2.0</td>\n",
       "      <td>False</td>\n",
       "      <td>False</td>\n",
       "      <td>-0.02430</td>\n",
       "      <td>None</td>\n",
       "      <td>False</td>\n",
       "      <td>False</td>\n",
       "      <td>True</td>\n",
       "      <td>test_account</td>\n",
       "      <td>NaN</td>\n",
       "      <td>1.119293</td>\n",
       "      <td>False</td>\n",
       "      <td>False</td>\n",
       "      <td>-0.005</td>\n",
       "      <td>True</td>\n",
       "      <td>False</td>\n",
       "      <td>False</td>\n",
       "      <td>False</td>\n",
       "      <td>2025-01-23 01:00:24.308085292</td>\n",
       "      <td>False</td>\n",
       "      <td>False</td>\n",
       "      <td>no_management</td>\n",
       "      <td>1.1330</td>\n",
       "      <td>True</td>\n",
       "      <td>False</td>\n",
       "      <td>True</td>\n",
       "      <td>False</td>\n",
       "      <td>False</td>\n",
       "      <td>True</td>\n",
       "      <td>False</td>\n",
       "      <td>False</td>\n",
       "      <td>False</td>\n",
       "      <td>True</td>\n",
       "    </tr>\n",
       "    <tr>\n",
       "      <th>12</th>\n",
       "      <td>1013</td>\n",
       "      <td>loss</td>\n",
       "      <td>NaN</td>\n",
       "      <td>0.019964</td>\n",
       "      <td>True</td>\n",
       "      <td>long</td>\n",
       "      <td>3.992825</td>\n",
       "      <td>False</td>\n",
       "      <td>False</td>\n",
       "      <td>NaN</td>\n",
       "      <td>False</td>\n",
       "      <td>False</td>\n",
       "      <td>1.1249</td>\n",
       "      <td>False</td>\n",
       "      <td>False</td>\n",
       "      <td>True</td>\n",
       "      <td>False</td>\n",
       "      <td>False</td>\n",
       "      <td>-1.350000</td>\n",
       "      <td>True</td>\n",
       "      <td>False</td>\n",
       "      <td>tokyo</td>\n",
       "      <td>False</td>\n",
       "      <td>False</td>\n",
       "      <td>1.11815</td>\n",
       "      <td>False</td>\n",
       "      <td>0.019964</td>\n",
       "      <td>1.0</td>\n",
       "      <td>False</td>\n",
       "      <td>False</td>\n",
       "      <td>-0.00675</td>\n",
       "      <td>None</td>\n",
       "      <td>False</td>\n",
       "      <td>False</td>\n",
       "      <td>False</td>\n",
       "      <td>test_account</td>\n",
       "      <td>NaN</td>\n",
       "      <td>1.144864</td>\n",
       "      <td>False</td>\n",
       "      <td>True</td>\n",
       "      <td>0.005</td>\n",
       "      <td>False</td>\n",
       "      <td>False</td>\n",
       "      <td>False</td>\n",
       "      <td>False</td>\n",
       "      <td>2025-01-23 00:04:51.295959106</td>\n",
       "      <td>False</td>\n",
       "      <td>False</td>\n",
       "      <td>no_management</td>\n",
       "      <td>1.1199</td>\n",
       "      <td>True</td>\n",
       "      <td>False</td>\n",
       "      <td>True</td>\n",
       "      <td>False</td>\n",
       "      <td>False</td>\n",
       "      <td>True</td>\n",
       "      <td>False</td>\n",
       "      <td>False</td>\n",
       "      <td>True</td>\n",
       "      <td>False</td>\n",
       "    </tr>\n",
       "    <tr>\n",
       "      <th>13</th>\n",
       "      <td>1014</td>\n",
       "      <td>win</td>\n",
       "      <td>NaN</td>\n",
       "      <td>0.022604</td>\n",
       "      <td>True</td>\n",
       "      <td>long</td>\n",
       "      <td>4.520885</td>\n",
       "      <td>False</td>\n",
       "      <td>False</td>\n",
       "      <td>NaN</td>\n",
       "      <td>False</td>\n",
       "      <td>False</td>\n",
       "      <td>1.1343</td>\n",
       "      <td>False</td>\n",
       "      <td>False</td>\n",
       "      <td>True</td>\n",
       "      <td>False</td>\n",
       "      <td>False</td>\n",
       "      <td>9.810000</td>\n",
       "      <td>False</td>\n",
       "      <td>False</td>\n",
       "      <td>tokyo</td>\n",
       "      <td>False</td>\n",
       "      <td>False</td>\n",
       "      <td>1.18335</td>\n",
       "      <td>False</td>\n",
       "      <td>0.022604</td>\n",
       "      <td>2.0</td>\n",
       "      <td>False</td>\n",
       "      <td>False</td>\n",
       "      <td>0.04905</td>\n",
       "      <td>None</td>\n",
       "      <td>False</td>\n",
       "      <td>False</td>\n",
       "      <td>False</td>\n",
       "      <td>test_account</td>\n",
       "      <td>NaN</td>\n",
       "      <td>1.156904</td>\n",
       "      <td>False</td>\n",
       "      <td>True</td>\n",
       "      <td>0.005</td>\n",
       "      <td>False</td>\n",
       "      <td>False</td>\n",
       "      <td>True</td>\n",
       "      <td>False</td>\n",
       "      <td>2025-01-14 23:19:09.268751494</td>\n",
       "      <td>False</td>\n",
       "      <td>False</td>\n",
       "      <td>be_after_1r</td>\n",
       "      <td>1.1293</td>\n",
       "      <td>True</td>\n",
       "      <td>False</td>\n",
       "      <td>True</td>\n",
       "      <td>True</td>\n",
       "      <td>False</td>\n",
       "      <td>False</td>\n",
       "      <td>False</td>\n",
       "      <td>False</td>\n",
       "      <td>False</td>\n",
       "      <td>True</td>\n",
       "    </tr>\n",
       "  </tbody>\n",
       "</table>\n",
       "</div>"
      ],
      "text/plain": [
       "   trade_uid outcome  potential_risk_reward  TP_distance  type_3_m30   side  \\\n",
       "0       1001     NaN                    NaN     0.010000       False   long   \n",
       "1       1002     NaN                    NaN     0.010000       False   long   \n",
       "2       1003     NaN                    NaN     0.030000       False   long   \n",
       "3       1004     NaN                    5.0     0.030000       False   long   \n",
       "4       1005    loss                    NaN    -0.023222       False  short   \n",
       "5       1006     win                    NaN    -0.049427       False  short   \n",
       "6       1007      be                    NaN    -0.032490       False  short   \n",
       "7       1008     win                    NaN    -0.015976       False  short   \n",
       "8       1009    loss                    NaN    -0.044379       False  short   \n",
       "9       1010    loss                    NaN    -0.009123       False  short   \n",
       "10      1011    loss                    NaN     0.044455       False   long   \n",
       "11      1012     win                    NaN    -0.008707       False  short   \n",
       "12      1013    loss                    NaN     0.019964        True   long   \n",
       "13      1014     win                    NaN     0.022604        True   long   \n",
       "\n",
       "    initial_risk_reward  type_3_d  type_3_M  potential_return  type_2_m15  \\\n",
       "0              2.000000     False     False               NaN       False   \n",
       "1              0.666667     False     False               NaN       False   \n",
       "2             10.000000     False     False               NaN       False   \n",
       "3             10.000000     False     False             0.015       False   \n",
       "4              4.644407     False     False               NaN       False   \n",
       "5              9.885333     False     False               NaN        True   \n",
       "6              6.497983     False     False               NaN       False   \n",
       "7              3.195198     False     False               NaN       False   \n",
       "8              8.875786     False     False               NaN       False   \n",
       "9              1.824689     False      True               NaN       False   \n",
       "10             8.890933     False     False               NaN       False   \n",
       "11             1.741357     False     False               NaN       False   \n",
       "12             3.992825     False     False               NaN       False   \n",
       "13             4.520885     False     False               NaN       False   \n",
       "\n",
       "    type_3_h4  entry_price  type_3_m1  type_3_w  unit_test  type_1_m5  \\\n",
       "0       False       1.1000      False     False      False      False   \n",
       "1       False       1.2000      False     False      False      False   \n",
       "2       False       1.3000      False     False      False      False   \n",
       "3       False       1.3000      False     False      False      False   \n",
       "4       False       1.1204       True     False       True      False   \n",
       "5       False       1.1347      False     False       True      False   \n",
       "6       False       1.1242      False     False       True      False   \n",
       "7       False       1.1345       True     False       True       True   \n",
       "8       False       1.1132      False     False       True      False   \n",
       "9       False       1.1335      False     False       True      False   \n",
       "10      False       1.1128      False      True       True      False   \n",
       "11      False       1.1280      False     False       True      False   \n",
       "12      False       1.1249      False     False       True      False   \n",
       "13      False       1.1343      False     False       True      False   \n",
       "\n",
       "    type_1_m30        rr  type_1_h1  type_3_m5   session  type_2_h1  \\\n",
       "0        False       NaN      False      False  new_york      False   \n",
       "1        False -0.966667      False      False  new_york       True   \n",
       "2        False       NaN      False      False    london      False   \n",
       "3        False  1.666667      False      False    london      False   \n",
       "4        False -1.050000      False      False     tokyo      False   \n",
       "5        False  7.050000       True       True     tokyo      False   \n",
       "6        False -0.050000      False       True     tokyo      False   \n",
       "7        False  8.700000      False      False     tokyo      False   \n",
       "8        False -0.770000      False       True     tokyo      False   \n",
       "9        False -1.020000      False      False     tokyo      False   \n",
       "10       False -0.240000      False      False     tokyo       True   \n",
       "11        True  4.860000      False      False     tokyo      False   \n",
       "12       False -1.350000       True      False     tokyo      False   \n",
       "13       False  9.810000      False      False     tokyo      False   \n",
       "\n",
       "    type_2_m1  close_price  type_2_h4  initial_return  numerical_confidence  \\\n",
       "0       False          NaN      False        0.010000                   3.0   \n",
       "1       False      1.18550      False        0.010000                   2.0   \n",
       "2       False          NaN      False        0.030000                   NaN   \n",
       "3       False      1.30500      False        0.030000                   4.0   \n",
       "4       False      1.12565      False       -0.023222                   5.0   \n",
       "5       False      1.09945      False       -0.049427                   1.0   \n",
       "6       False      1.12445      False       -0.032490                   1.0   \n",
       "7       False      1.09100      False       -0.015976                   2.0   \n",
       "8       False      1.11705      False       -0.044379                   1.0   \n",
       "9       False      1.13860      False       -0.009123                   2.0   \n",
       "10      False      1.11160      False        0.044455                   5.0   \n",
       "11      False      1.10370      False       -0.008707                   2.0   \n",
       "12      False      1.11815      False        0.019964                   1.0   \n",
       "13      False      1.18335      False        0.022604                   2.0   \n",
       "\n",
       "    type_3_m15  type_1_M   return account_name  type_1_w  type_2_m30  \\\n",
       "0         True     False      NaN      default     False       False   \n",
       "1        False     False -0.01450      default     False       False   \n",
       "2        False     False      NaN      default     False       False   \n",
       "3        False     False  0.00500      default     False       False   \n",
       "4        False     False  0.00525         None     False       False   \n",
       "5        False     False -0.03525         None     False       False   \n",
       "6        False     False  0.00025         None      True       False   \n",
       "7        False     False -0.04350         None     False       False   \n",
       "8        False      True  0.00385         None     False       False   \n",
       "9        False      True  0.00510         None     False        True   \n",
       "10       False     False -0.00120         None     False       False   \n",
       "11       False     False -0.02430         None     False       False   \n",
       "12       False     False -0.00675         None     False       False   \n",
       "13       False     False  0.04905         None     False       False   \n",
       "\n",
       "    type_2_d       account  potential_price  tp_price  type_2_w  type_2_m5  \\\n",
       "0      False          None              NaN  1.110000     False      False   \n",
       "1      False          None              NaN  1.210000     False      False   \n",
       "2      False          None              NaN  1.330000     False      False   \n",
       "3      False          None            1.315  1.330000     False      False   \n",
       "4       True  test_account              NaN  1.097178     False      False   \n",
       "5      False  test_account              NaN  1.085273     False      False   \n",
       "6      False  test_account              NaN  1.091710     False      False   \n",
       "7       True  test_account              NaN  1.118524     False      False   \n",
       "8      False  test_account              NaN  1.068821      True      False   \n",
       "9      False  test_account              NaN  1.124377     False      False   \n",
       "10     False  test_account              NaN  1.157255     False      False   \n",
       "11      True  test_account              NaN  1.119293     False      False   \n",
       "12     False  test_account              NaN  1.144864     False       True   \n",
       "13     False  test_account              NaN  1.156904     False       True   \n",
       "\n",
       "    SL_distance  type_3_h1  type_1_d  type_1_m1  type_2_M  \\\n",
       "0         0.005      False     False       True     False   \n",
       "1         0.015      False     False      False     False   \n",
       "2         0.500      False     False      False     False   \n",
       "3         0.500      False     False      False     False   \n",
       "4        -0.005      False      True      False     False   \n",
       "5        -0.005      False     False      False     False   \n",
       "6        -0.005      False     False      False      True   \n",
       "7        -0.005      False     False      False     False   \n",
       "8        -0.005      False     False      False     False   \n",
       "9        -0.005      False     False      False     False   \n",
       "10        0.005      False     False       True     False   \n",
       "11       -0.005       True     False      False     False   \n",
       "12        0.005      False     False      False     False   \n",
       "13        0.005      False     False       True     False   \n",
       "\n",
       "                      entry_time  type_1_h4  type_1_m15 management_strategy  \\\n",
       "0  2025-01-25 14:46:22.808734000      False       False       no_management   \n",
       "1  2025-01-25 14:46:22.808765000      False       False       no_management   \n",
       "2  2024-12-27 10:00:01.000000000      False       False       no_management   \n",
       "3  2024-12-25 10:00:00.000000000      False       False          strategy_2   \n",
       "4  2025-01-07 01:27:23.603112923      False       False         be_after_1r   \n",
       "5  2025-01-05 00:11:25.857897362      False       False       be_after_push   \n",
       "6  2025-01-10 00:50:05.722141527      False       False       no_management   \n",
       "7  2025-01-24 23:20:24.283296430      False       False         be_after_1r   \n",
       "8  2025-01-12 23:58:56.190823963      False       False       be_after_push   \n",
       "9  2025-01-05 00:58:51.544468002      False       False         be_after_1r   \n",
       "10 2025-01-22 01:21:14.598694243      False       False         be_after_1r   \n",
       "11 2025-01-23 01:00:24.308085292      False       False       no_management   \n",
       "12 2025-01-23 00:04:51.295959106      False       False       no_management   \n",
       "13 2025-01-14 23:19:09.268751494      False       False         be_after_1r   \n",
       "\n",
       "    sl_price htf_poi_ltf_confirmation  htf_poi_ltf_confirmation_False  \\\n",
       "0     1.0950                    False                            True   \n",
       "1     1.1850                     True                           False   \n",
       "2     1.2970                    False                            True   \n",
       "3     1.2970                    False                            True   \n",
       "4     1.1254                     True                           False   \n",
       "5     1.1397                     True                           False   \n",
       "6     1.1292                    False                            True   \n",
       "7     1.1395                     True                           False   \n",
       "8     1.1182                    False                            True   \n",
       "9     1.1385                     True                           False   \n",
       "10    1.1078                    False                            True   \n",
       "11    1.1330                     True                           False   \n",
       "12    1.1199                     True                           False   \n",
       "13    1.1293                     True                           False   \n",
       "\n",
       "    htf_poi_ltf_confirmation_True  management_strategy_be_after_1r  \\\n",
       "0                           False                            False   \n",
       "1                            True                            False   \n",
       "2                           False                            False   \n",
       "3                           False                            False   \n",
       "4                            True                             True   \n",
       "5                            True                            False   \n",
       "6                           False                            False   \n",
       "7                            True                             True   \n",
       "8                           False                            False   \n",
       "9                            True                             True   \n",
       "10                          False                             True   \n",
       "11                           True                            False   \n",
       "12                           True                            False   \n",
       "13                           True                             True   \n",
       "\n",
       "    management_strategy_be_after_push  management_strategy_no_management  \\\n",
       "0                               False                               True   \n",
       "1                               False                               True   \n",
       "2                               False                               True   \n",
       "3                               False                              False   \n",
       "4                               False                              False   \n",
       "5                                True                              False   \n",
       "6                               False                               True   \n",
       "7                               False                              False   \n",
       "8                                True                              False   \n",
       "9                               False                              False   \n",
       "10                              False                              False   \n",
       "11                              False                               True   \n",
       "12                              False                               True   \n",
       "13                              False                              False   \n",
       "\n",
       "    management_strategy_strategy_2  outcome_be  outcome_loss  outcome_win  \n",
       "0                            False       False         False        False  \n",
       "1                            False       False         False        False  \n",
       "2                            False       False         False        False  \n",
       "3                             True       False         False        False  \n",
       "4                            False       False          True        False  \n",
       "5                            False       False         False         True  \n",
       "6                            False        True         False        False  \n",
       "7                            False       False         False         True  \n",
       "8                            False       False          True        False  \n",
       "9                            False       False          True        False  \n",
       "10                           False       False          True        False  \n",
       "11                           False       False         False         True  \n",
       "12                           False       False          True        False  \n",
       "13                           False       False         False         True  "
      ]
     },
     "execution_count": 721,
     "metadata": {},
     "output_type": "execute_result"
    }
   ],
   "source": [
    "df = j.to_dataframe(config=None)\n",
    "df"
   ]
  },
  {
   "cell_type": "code",
   "execution_count": 722,
   "metadata": {},
   "outputs": [
    {
     "name": "stdout",
     "output_type": "stream",
     "text": [
      "Expected return full search space: -0.004750000000000014\n",
      "Expected return is negative\n"
     ]
    },
    {
     "data": {
      "text/plain": [
       "type_1_m5                       bool\n",
       "type_2_m5                       bool\n",
       "type_3_m5                       bool\n",
       "htf_poi_ltf_confirmation    category\n",
       "return                       float64\n",
       "dtype: object"
      ]
     },
     "metadata": {},
     "output_type": "display_data"
    },
    {
     "data": {
      "text/html": [
       "<div>\n",
       "<style scoped>\n",
       "    .dataframe tbody tr th:only-of-type {\n",
       "        vertical-align: middle;\n",
       "    }\n",
       "\n",
       "    .dataframe tbody tr th {\n",
       "        vertical-align: top;\n",
       "    }\n",
       "\n",
       "    .dataframe thead th {\n",
       "        text-align: right;\n",
       "    }\n",
       "</style>\n",
       "<table border=\"1\" class=\"dataframe\">\n",
       "  <thead>\n",
       "    <tr style=\"text-align: right;\">\n",
       "      <th></th>\n",
       "      <th>return</th>\n",
       "    </tr>\n",
       "  </thead>\n",
       "  <tbody>\n",
       "    <tr>\n",
       "      <th>count</th>\n",
       "      <td>12.000000</td>\n",
       "    </tr>\n",
       "    <tr>\n",
       "      <th>mean</th>\n",
       "      <td>-0.004750</td>\n",
       "    </tr>\n",
       "    <tr>\n",
       "      <th>std</th>\n",
       "      <td>0.023762</td>\n",
       "    </tr>\n",
       "    <tr>\n",
       "      <th>min</th>\n",
       "      <td>-0.043500</td>\n",
       "    </tr>\n",
       "    <tr>\n",
       "      <th>25%</th>\n",
       "      <td>-0.016950</td>\n",
       "    </tr>\n",
       "    <tr>\n",
       "      <th>50%</th>\n",
       "      <td>-0.000475</td>\n",
       "    </tr>\n",
       "    <tr>\n",
       "      <th>75%</th>\n",
       "      <td>0.005025</td>\n",
       "    </tr>\n",
       "    <tr>\n",
       "      <th>max</th>\n",
       "      <td>0.049050</td>\n",
       "    </tr>\n",
       "  </tbody>\n",
       "</table>\n",
       "</div>"
      ],
      "text/plain": [
       "          return\n",
       "count  12.000000\n",
       "mean   -0.004750\n",
       "std     0.023762\n",
       "min    -0.043500\n",
       "25%    -0.016950\n",
       "50%    -0.000475\n",
       "75%     0.005025\n",
       "max     0.049050"
      ]
     },
     "metadata": {},
     "output_type": "display_data"
    },
    {
     "data": {
      "text/html": [
       "<div>\n",
       "<style scoped>\n",
       "    .dataframe tbody tr th:only-of-type {\n",
       "        vertical-align: middle;\n",
       "    }\n",
       "\n",
       "    .dataframe tbody tr th {\n",
       "        vertical-align: top;\n",
       "    }\n",
       "\n",
       "    .dataframe thead th {\n",
       "        text-align: right;\n",
       "    }\n",
       "</style>\n",
       "<table border=\"1\" class=\"dataframe\">\n",
       "  <thead>\n",
       "    <tr style=\"text-align: right;\">\n",
       "      <th></th>\n",
       "      <th>type_1_m5</th>\n",
       "      <th>type_2_m5</th>\n",
       "      <th>type_3_m5</th>\n",
       "      <th>htf_poi_ltf_confirmation</th>\n",
       "      <th>return</th>\n",
       "    </tr>\n",
       "  </thead>\n",
       "  <tbody>\n",
       "    <tr>\n",
       "      <th>1</th>\n",
       "      <td>False</td>\n",
       "      <td>False</td>\n",
       "      <td>False</td>\n",
       "      <td>True</td>\n",
       "      <td>-0.01450</td>\n",
       "    </tr>\n",
       "    <tr>\n",
       "      <th>3</th>\n",
       "      <td>False</td>\n",
       "      <td>False</td>\n",
       "      <td>False</td>\n",
       "      <td>False</td>\n",
       "      <td>0.00500</td>\n",
       "    </tr>\n",
       "    <tr>\n",
       "      <th>4</th>\n",
       "      <td>False</td>\n",
       "      <td>False</td>\n",
       "      <td>False</td>\n",
       "      <td>True</td>\n",
       "      <td>0.00525</td>\n",
       "    </tr>\n",
       "    <tr>\n",
       "      <th>5</th>\n",
       "      <td>False</td>\n",
       "      <td>False</td>\n",
       "      <td>True</td>\n",
       "      <td>True</td>\n",
       "      <td>-0.03525</td>\n",
       "    </tr>\n",
       "    <tr>\n",
       "      <th>6</th>\n",
       "      <td>False</td>\n",
       "      <td>False</td>\n",
       "      <td>True</td>\n",
       "      <td>False</td>\n",
       "      <td>0.00025</td>\n",
       "    </tr>\n",
       "    <tr>\n",
       "      <th>7</th>\n",
       "      <td>True</td>\n",
       "      <td>False</td>\n",
       "      <td>False</td>\n",
       "      <td>True</td>\n",
       "      <td>-0.04350</td>\n",
       "    </tr>\n",
       "    <tr>\n",
       "      <th>8</th>\n",
       "      <td>False</td>\n",
       "      <td>False</td>\n",
       "      <td>True</td>\n",
       "      <td>False</td>\n",
       "      <td>0.00385</td>\n",
       "    </tr>\n",
       "    <tr>\n",
       "      <th>9</th>\n",
       "      <td>False</td>\n",
       "      <td>False</td>\n",
       "      <td>False</td>\n",
       "      <td>True</td>\n",
       "      <td>0.00510</td>\n",
       "    </tr>\n",
       "    <tr>\n",
       "      <th>10</th>\n",
       "      <td>False</td>\n",
       "      <td>False</td>\n",
       "      <td>False</td>\n",
       "      <td>False</td>\n",
       "      <td>-0.00120</td>\n",
       "    </tr>\n",
       "    <tr>\n",
       "      <th>11</th>\n",
       "      <td>False</td>\n",
       "      <td>False</td>\n",
       "      <td>False</td>\n",
       "      <td>True</td>\n",
       "      <td>-0.02430</td>\n",
       "    </tr>\n",
       "    <tr>\n",
       "      <th>12</th>\n",
       "      <td>False</td>\n",
       "      <td>True</td>\n",
       "      <td>False</td>\n",
       "      <td>True</td>\n",
       "      <td>-0.00675</td>\n",
       "    </tr>\n",
       "    <tr>\n",
       "      <th>13</th>\n",
       "      <td>False</td>\n",
       "      <td>True</td>\n",
       "      <td>False</td>\n",
       "      <td>True</td>\n",
       "      <td>0.04905</td>\n",
       "    </tr>\n",
       "  </tbody>\n",
       "</table>\n",
       "</div>"
      ],
      "text/plain": [
       "    type_1_m5  type_2_m5  type_3_m5 htf_poi_ltf_confirmation   return\n",
       "1       False      False      False                     True -0.01450\n",
       "3       False      False      False                    False  0.00500\n",
       "4       False      False      False                     True  0.00525\n",
       "5       False      False       True                     True -0.03525\n",
       "6       False      False       True                    False  0.00025\n",
       "7        True      False      False                     True -0.04350\n",
       "8       False      False       True                    False  0.00385\n",
       "9       False      False      False                     True  0.00510\n",
       "10      False      False      False                    False -0.00120\n",
       "11      False      False      False                     True -0.02430\n",
       "12      False       True      False                     True -0.00675\n",
       "13      False       True      False                     True  0.04905"
      ]
     },
     "metadata": {},
     "output_type": "display_data"
    },
    {
     "name": "stdout",
     "output_type": "stream",
     "text": [
      "Best subset: ('type_1_m5',)\n",
      "Best combination: (False,)\n",
      "Best score: -0.0012272727272727333\n",
      "Best subset: ('type_2_m5',)\n",
      "Best combination: (True,)\n",
      "Best score: 0.021150000000000002\n",
      "Best subset: ('type_2_m5',)\n",
      "Best combination: (True,)\n",
      "Best score: 0.021150000000000002\n"
     ]
    }
   ],
   "source": [
    "df_test = df.copy()\n",
    "features = ['type_1_m5', 'type_2_m5', 'type_3_m5', 'htf_poi_ltf_confirmation', 'return']\n",
    "df_test = df_test[features]\n",
    "df_test = df_test.dropna()\n",
    "exptected_return = df_test['return'].mean()\n",
    "print('Expected return full search space:', exptected_return)\n",
    "if exptected_return > 0:\n",
    "    print('Expected return is positive')\n",
    "else:\n",
    "    print('Expected return is negative')\n",
    "df_test\n",
    "\n",
    "display(df_test.dtypes)\n",
    "display(df_test.describe())\n",
    "display(df_test)\n",
    "\n",
    "\n",
    "report_best_performing_tags_value(df_test, y_col='return', score_mode='mean', method='brute_force')"
   ]
  },
  {
   "cell_type": "code",
   "execution_count": 723,
   "metadata": {},
   "outputs": [
    {
     "data": {
      "application/vnd.jupyter.widget-view+json": {
       "model_id": "a5a3b258728b4a2080ca3956f180eb7a",
       "version_major": 2,
       "version_minor": 0
      },
      "text/plain": [
       "  0%|          | 0/100 [00:00<?, ?it/s]"
      ]
     },
     "metadata": {},
     "output_type": "display_data"
    },
    {
     "name": "stdout",
     "output_type": "stream",
     "text": [
      "Best parameters: {'include_type_1_m5': True, 'value_type_1_m5': False, 'include_type_2_m5': True, 'value_type_2_m5': True, 'include_type_3_m5': True, 'value_type_3_m5': False, 'include_htf_poi_ltf_confirmation': False}\n",
      "Best score: 0.021150000000000002\n"
     ]
    }
   ],
   "source": [
    "import src.tradecli\n",
    "cfg = src.tradecli.ReportOptunaConfig(study_name='default_1')\n",
    "res = report_best_performing_tags_value(df_test, \n",
    "                                  y_col='return', \n",
    "                                  score_mode='mean', method='optuna', config=cfg)"
   ]
  },
  {
   "cell_type": "code",
   "execution_count": 724,
   "metadata": {},
   "outputs": [
    {
     "data": {
      "text/plain": [
       "(<optuna.study.study.Study at 0x166e0cef0>,\n",
       " {'include_type_1_m5': True,\n",
       "  'value_type_1_m5': False,\n",
       "  'include_type_2_m5': True,\n",
       "  'value_type_2_m5': True,\n",
       "  'include_type_3_m5': True,\n",
       "  'value_type_3_m5': False,\n",
       "  'include_htf_poi_ltf_confirmation': False},\n",
       " 0.021150000000000002)"
      ]
     },
     "execution_count": 724,
     "metadata": {},
     "output_type": "execute_result"
    }
   ],
   "source": [
    "res"
   ]
  },
  {
   "cell_type": "code",
   "execution_count": 725,
   "metadata": {},
   "outputs": [],
   "source": [
    "res[0].best_trial\n",
    "study = res[0]"
   ]
  },
  {
   "cell_type": "code",
   "execution_count": 726,
   "metadata": {},
   "outputs": [
    {
     "data": {
      "application/vnd.plotly.v1+json": {
       "config": {
        "plotlyServerURL": "https://plot.ly"
       },
       "data": [
        {
         "mode": "markers",
         "name": "Objective Value",
         "type": "scatter",
         "x": [
          0,
          1,
          2,
          3,
          4,
          5,
          6,
          7,
          8,
          9,
          10,
          11,
          12,
          13,
          14,
          15,
          16,
          17,
          18,
          19,
          20,
          21,
          22,
          23,
          24,
          25,
          26,
          27,
          28,
          29,
          30,
          31,
          32,
          33,
          34,
          35,
          36,
          37,
          38,
          39,
          40,
          41,
          42,
          43,
          44,
          45,
          46,
          47,
          48,
          49,
          50,
          51,
          52,
          53,
          54,
          55,
          56,
          57,
          58,
          59,
          60,
          61,
          62,
          63,
          64,
          65,
          66,
          67,
          68,
          69,
          70,
          71,
          72,
          73,
          74,
          75,
          76,
          77,
          78,
          79,
          80,
          81,
          82,
          83,
          84,
          85,
          86,
          87,
          88,
          89,
          90,
          91,
          92,
          93,
          94,
          95,
          96,
          97,
          98,
          99
         ],
         "y": [
          -0.043500000000000094,
          null,
          0.001974999999999949,
          -0.009930000000000017,
          null,
          -0.009735714285714308,
          -0.002872222222222239,
          null,
          -0.009930000000000017,
          null,
          -0.035250000000000004,
          0.0023083333333333567,
          -0.035250000000000004,
          0.0023083333333333567,
          0.0023083333333333567,
          0.0023083333333333567,
          -0.043500000000000094,
          0.0023083333333333567,
          -0.035250000000000004,
          -0.043500000000000094,
          0.0023083333333333567,
          0.0023083333333333567,
          0.0023083333333333567,
          0.0023083333333333567,
          0.0023083333333333567,
          -0.035250000000000004,
          -0.043500000000000094,
          0.0023083333333333567,
          0.0023083333333333567,
          0.002206249999999993,
          null,
          0.0023083333333333567,
          0.0023083333333333567,
          0.0023083333333333567,
          -0.0012272727272727333,
          0.0023083333333333567,
          -0.0030571428571428377,
          0.021150000000000002,
          0.021150000000000002,
          0.021150000000000002,
          0.021150000000000002,
          0.021150000000000002,
          0.021150000000000002,
          0.021150000000000002,
          0.021150000000000002,
          0.021150000000000002,
          0.021150000000000002,
          0.021150000000000002,
          0.021150000000000002,
          0.021150000000000002,
          0.021150000000000002,
          0.021150000000000002,
          0.021150000000000002,
          0.021150000000000002,
          0.021150000000000002,
          0.021150000000000002,
          0.021150000000000002,
          0.021150000000000002,
          0.021150000000000002,
          0.021150000000000002,
          0.021150000000000002,
          0.021150000000000002,
          0.021150000000000002,
          0.021150000000000002,
          0.021150000000000002,
          0.021150000000000002,
          -0.009930000000000017,
          0.021150000000000002,
          -0.009930000000000017,
          0.021150000000000002,
          0.021150000000000002,
          0.021150000000000002,
          0.021150000000000002,
          0.021150000000000002,
          0.021150000000000002,
          -0.010383333333333336,
          0.021150000000000002,
          null,
          0.021150000000000002,
          null,
          0.021150000000000002,
          0.021150000000000002,
          0.021150000000000002,
          0.021150000000000002,
          0.021150000000000002,
          0.021150000000000002,
          null,
          -0.009930000000000017,
          0.021150000000000002,
          0.021150000000000002,
          0.021150000000000002,
          0.021150000000000002,
          0.021150000000000002,
          0.021150000000000002,
          0.021150000000000002,
          0.021150000000000002,
          0.021150000000000002,
          null,
          0.021150000000000002,
          null
         ]
        },
        {
         "mode": "lines",
         "name": "Best Value",
         "type": "scatter",
         "x": [
          0,
          1,
          2,
          3,
          4,
          5,
          6,
          7,
          8,
          9,
          10,
          11,
          12,
          13,
          14,
          15,
          16,
          17,
          18,
          19,
          20,
          21,
          22,
          23,
          24,
          25,
          26,
          27,
          28,
          29,
          30,
          31,
          32,
          33,
          34,
          35,
          36,
          37,
          38,
          39,
          40,
          41,
          42,
          43,
          44,
          45,
          46,
          47,
          48,
          49,
          50,
          51,
          52,
          53,
          54,
          55,
          56,
          57,
          58,
          59,
          60,
          61,
          62,
          63,
          64,
          65,
          66,
          67,
          68,
          69,
          70,
          71,
          72,
          73,
          74,
          75,
          76,
          77,
          78,
          79,
          80,
          81,
          82,
          83,
          84,
          85,
          86,
          87,
          88,
          89,
          90,
          91,
          92,
          93,
          94,
          95,
          96,
          97,
          98,
          99
         ],
         "y": [
          -0.043500000000000094,
          -0.043500000000000094,
          0.001974999999999949,
          0.001974999999999949,
          0.001974999999999949,
          0.001974999999999949,
          0.001974999999999949,
          0.001974999999999949,
          0.001974999999999949,
          0.001974999999999949,
          0.001974999999999949,
          0.0023083333333333567,
          0.0023083333333333567,
          0.0023083333333333567,
          0.0023083333333333567,
          0.0023083333333333567,
          0.0023083333333333567,
          0.0023083333333333567,
          0.0023083333333333567,
          0.0023083333333333567,
          0.0023083333333333567,
          0.0023083333333333567,
          0.0023083333333333567,
          0.0023083333333333567,
          0.0023083333333333567,
          0.0023083333333333567,
          0.0023083333333333567,
          0.0023083333333333567,
          0.0023083333333333567,
          0.0023083333333333567,
          0.0023083333333333567,
          0.0023083333333333567,
          0.0023083333333333567,
          0.0023083333333333567,
          0.0023083333333333567,
          0.0023083333333333567,
          0.0023083333333333567,
          0.021150000000000002,
          0.021150000000000002,
          0.021150000000000002,
          0.021150000000000002,
          0.021150000000000002,
          0.021150000000000002,
          0.021150000000000002,
          0.021150000000000002,
          0.021150000000000002,
          0.021150000000000002,
          0.021150000000000002,
          0.021150000000000002,
          0.021150000000000002,
          0.021150000000000002,
          0.021150000000000002,
          0.021150000000000002,
          0.021150000000000002,
          0.021150000000000002,
          0.021150000000000002,
          0.021150000000000002,
          0.021150000000000002,
          0.021150000000000002,
          0.021150000000000002,
          0.021150000000000002,
          0.021150000000000002,
          0.021150000000000002,
          0.021150000000000002,
          0.021150000000000002,
          0.021150000000000002,
          0.021150000000000002,
          0.021150000000000002,
          0.021150000000000002,
          0.021150000000000002,
          0.021150000000000002,
          0.021150000000000002,
          0.021150000000000002,
          0.021150000000000002,
          0.021150000000000002,
          0.021150000000000002,
          0.021150000000000002,
          0.021150000000000002,
          0.021150000000000002,
          0.021150000000000002,
          0.021150000000000002,
          0.021150000000000002,
          0.021150000000000002,
          0.021150000000000002,
          0.021150000000000002,
          0.021150000000000002,
          0.021150000000000002,
          0.021150000000000002,
          0.021150000000000002,
          0.021150000000000002,
          0.021150000000000002,
          0.021150000000000002,
          0.021150000000000002,
          0.021150000000000002,
          0.021150000000000002,
          0.021150000000000002,
          0.021150000000000002,
          0.021150000000000002,
          0.021150000000000002,
          0.021150000000000002
         ]
        },
        {
         "marker": {
          "color": "#cccccc"
         },
         "mode": "markers",
         "name": "Infeasible Trial",
         "showlegend": false,
         "type": "scatter",
         "x": [],
         "y": []
        }
       ],
       "layout": {
        "template": {
         "data": {
          "bar": [
           {
            "error_x": {
             "color": "#2a3f5f"
            },
            "error_y": {
             "color": "#2a3f5f"
            },
            "marker": {
             "line": {
              "color": "#E5ECF6",
              "width": 0.5
             },
             "pattern": {
              "fillmode": "overlay",
              "size": 10,
              "solidity": 0.2
             }
            },
            "type": "bar"
           }
          ],
          "barpolar": [
           {
            "marker": {
             "line": {
              "color": "#E5ECF6",
              "width": 0.5
             },
             "pattern": {
              "fillmode": "overlay",
              "size": 10,
              "solidity": 0.2
             }
            },
            "type": "barpolar"
           }
          ],
          "carpet": [
           {
            "aaxis": {
             "endlinecolor": "#2a3f5f",
             "gridcolor": "white",
             "linecolor": "white",
             "minorgridcolor": "white",
             "startlinecolor": "#2a3f5f"
            },
            "baxis": {
             "endlinecolor": "#2a3f5f",
             "gridcolor": "white",
             "linecolor": "white",
             "minorgridcolor": "white",
             "startlinecolor": "#2a3f5f"
            },
            "type": "carpet"
           }
          ],
          "choropleth": [
           {
            "colorbar": {
             "outlinewidth": 0,
             "ticks": ""
            },
            "type": "choropleth"
           }
          ],
          "contour": [
           {
            "colorbar": {
             "outlinewidth": 0,
             "ticks": ""
            },
            "colorscale": [
             [
              0,
              "#0d0887"
             ],
             [
              0.1111111111111111,
              "#46039f"
             ],
             [
              0.2222222222222222,
              "#7201a8"
             ],
             [
              0.3333333333333333,
              "#9c179e"
             ],
             [
              0.4444444444444444,
              "#bd3786"
             ],
             [
              0.5555555555555556,
              "#d8576b"
             ],
             [
              0.6666666666666666,
              "#ed7953"
             ],
             [
              0.7777777777777778,
              "#fb9f3a"
             ],
             [
              0.8888888888888888,
              "#fdca26"
             ],
             [
              1,
              "#f0f921"
             ]
            ],
            "type": "contour"
           }
          ],
          "contourcarpet": [
           {
            "colorbar": {
             "outlinewidth": 0,
             "ticks": ""
            },
            "type": "contourcarpet"
           }
          ],
          "heatmap": [
           {
            "colorbar": {
             "outlinewidth": 0,
             "ticks": ""
            },
            "colorscale": [
             [
              0,
              "#0d0887"
             ],
             [
              0.1111111111111111,
              "#46039f"
             ],
             [
              0.2222222222222222,
              "#7201a8"
             ],
             [
              0.3333333333333333,
              "#9c179e"
             ],
             [
              0.4444444444444444,
              "#bd3786"
             ],
             [
              0.5555555555555556,
              "#d8576b"
             ],
             [
              0.6666666666666666,
              "#ed7953"
             ],
             [
              0.7777777777777778,
              "#fb9f3a"
             ],
             [
              0.8888888888888888,
              "#fdca26"
             ],
             [
              1,
              "#f0f921"
             ]
            ],
            "type": "heatmap"
           }
          ],
          "heatmapgl": [
           {
            "colorbar": {
             "outlinewidth": 0,
             "ticks": ""
            },
            "colorscale": [
             [
              0,
              "#0d0887"
             ],
             [
              0.1111111111111111,
              "#46039f"
             ],
             [
              0.2222222222222222,
              "#7201a8"
             ],
             [
              0.3333333333333333,
              "#9c179e"
             ],
             [
              0.4444444444444444,
              "#bd3786"
             ],
             [
              0.5555555555555556,
              "#d8576b"
             ],
             [
              0.6666666666666666,
              "#ed7953"
             ],
             [
              0.7777777777777778,
              "#fb9f3a"
             ],
             [
              0.8888888888888888,
              "#fdca26"
             ],
             [
              1,
              "#f0f921"
             ]
            ],
            "type": "heatmapgl"
           }
          ],
          "histogram": [
           {
            "marker": {
             "pattern": {
              "fillmode": "overlay",
              "size": 10,
              "solidity": 0.2
             }
            },
            "type": "histogram"
           }
          ],
          "histogram2d": [
           {
            "colorbar": {
             "outlinewidth": 0,
             "ticks": ""
            },
            "colorscale": [
             [
              0,
              "#0d0887"
             ],
             [
              0.1111111111111111,
              "#46039f"
             ],
             [
              0.2222222222222222,
              "#7201a8"
             ],
             [
              0.3333333333333333,
              "#9c179e"
             ],
             [
              0.4444444444444444,
              "#bd3786"
             ],
             [
              0.5555555555555556,
              "#d8576b"
             ],
             [
              0.6666666666666666,
              "#ed7953"
             ],
             [
              0.7777777777777778,
              "#fb9f3a"
             ],
             [
              0.8888888888888888,
              "#fdca26"
             ],
             [
              1,
              "#f0f921"
             ]
            ],
            "type": "histogram2d"
           }
          ],
          "histogram2dcontour": [
           {
            "colorbar": {
             "outlinewidth": 0,
             "ticks": ""
            },
            "colorscale": [
             [
              0,
              "#0d0887"
             ],
             [
              0.1111111111111111,
              "#46039f"
             ],
             [
              0.2222222222222222,
              "#7201a8"
             ],
             [
              0.3333333333333333,
              "#9c179e"
             ],
             [
              0.4444444444444444,
              "#bd3786"
             ],
             [
              0.5555555555555556,
              "#d8576b"
             ],
             [
              0.6666666666666666,
              "#ed7953"
             ],
             [
              0.7777777777777778,
              "#fb9f3a"
             ],
             [
              0.8888888888888888,
              "#fdca26"
             ],
             [
              1,
              "#f0f921"
             ]
            ],
            "type": "histogram2dcontour"
           }
          ],
          "mesh3d": [
           {
            "colorbar": {
             "outlinewidth": 0,
             "ticks": ""
            },
            "type": "mesh3d"
           }
          ],
          "parcoords": [
           {
            "line": {
             "colorbar": {
              "outlinewidth": 0,
              "ticks": ""
             }
            },
            "type": "parcoords"
           }
          ],
          "pie": [
           {
            "automargin": true,
            "type": "pie"
           }
          ],
          "scatter": [
           {
            "fillpattern": {
             "fillmode": "overlay",
             "size": 10,
             "solidity": 0.2
            },
            "type": "scatter"
           }
          ],
          "scatter3d": [
           {
            "line": {
             "colorbar": {
              "outlinewidth": 0,
              "ticks": ""
             }
            },
            "marker": {
             "colorbar": {
              "outlinewidth": 0,
              "ticks": ""
             }
            },
            "type": "scatter3d"
           }
          ],
          "scattercarpet": [
           {
            "marker": {
             "colorbar": {
              "outlinewidth": 0,
              "ticks": ""
             }
            },
            "type": "scattercarpet"
           }
          ],
          "scattergeo": [
           {
            "marker": {
             "colorbar": {
              "outlinewidth": 0,
              "ticks": ""
             }
            },
            "type": "scattergeo"
           }
          ],
          "scattergl": [
           {
            "marker": {
             "colorbar": {
              "outlinewidth": 0,
              "ticks": ""
             }
            },
            "type": "scattergl"
           }
          ],
          "scattermapbox": [
           {
            "marker": {
             "colorbar": {
              "outlinewidth": 0,
              "ticks": ""
             }
            },
            "type": "scattermapbox"
           }
          ],
          "scatterpolar": [
           {
            "marker": {
             "colorbar": {
              "outlinewidth": 0,
              "ticks": ""
             }
            },
            "type": "scatterpolar"
           }
          ],
          "scatterpolargl": [
           {
            "marker": {
             "colorbar": {
              "outlinewidth": 0,
              "ticks": ""
             }
            },
            "type": "scatterpolargl"
           }
          ],
          "scatterternary": [
           {
            "marker": {
             "colorbar": {
              "outlinewidth": 0,
              "ticks": ""
             }
            },
            "type": "scatterternary"
           }
          ],
          "surface": [
           {
            "colorbar": {
             "outlinewidth": 0,
             "ticks": ""
            },
            "colorscale": [
             [
              0,
              "#0d0887"
             ],
             [
              0.1111111111111111,
              "#46039f"
             ],
             [
              0.2222222222222222,
              "#7201a8"
             ],
             [
              0.3333333333333333,
              "#9c179e"
             ],
             [
              0.4444444444444444,
              "#bd3786"
             ],
             [
              0.5555555555555556,
              "#d8576b"
             ],
             [
              0.6666666666666666,
              "#ed7953"
             ],
             [
              0.7777777777777778,
              "#fb9f3a"
             ],
             [
              0.8888888888888888,
              "#fdca26"
             ],
             [
              1,
              "#f0f921"
             ]
            ],
            "type": "surface"
           }
          ],
          "table": [
           {
            "cells": {
             "fill": {
              "color": "#EBF0F8"
             },
             "line": {
              "color": "white"
             }
            },
            "header": {
             "fill": {
              "color": "#C8D4E3"
             },
             "line": {
              "color": "white"
             }
            },
            "type": "table"
           }
          ]
         },
         "layout": {
          "annotationdefaults": {
           "arrowcolor": "#2a3f5f",
           "arrowhead": 0,
           "arrowwidth": 1
          },
          "autotypenumbers": "strict",
          "coloraxis": {
           "colorbar": {
            "outlinewidth": 0,
            "ticks": ""
           }
          },
          "colorscale": {
           "diverging": [
            [
             0,
             "#8e0152"
            ],
            [
             0.1,
             "#c51b7d"
            ],
            [
             0.2,
             "#de77ae"
            ],
            [
             0.3,
             "#f1b6da"
            ],
            [
             0.4,
             "#fde0ef"
            ],
            [
             0.5,
             "#f7f7f7"
            ],
            [
             0.6,
             "#e6f5d0"
            ],
            [
             0.7,
             "#b8e186"
            ],
            [
             0.8,
             "#7fbc41"
            ],
            [
             0.9,
             "#4d9221"
            ],
            [
             1,
             "#276419"
            ]
           ],
           "sequential": [
            [
             0,
             "#0d0887"
            ],
            [
             0.1111111111111111,
             "#46039f"
            ],
            [
             0.2222222222222222,
             "#7201a8"
            ],
            [
             0.3333333333333333,
             "#9c179e"
            ],
            [
             0.4444444444444444,
             "#bd3786"
            ],
            [
             0.5555555555555556,
             "#d8576b"
            ],
            [
             0.6666666666666666,
             "#ed7953"
            ],
            [
             0.7777777777777778,
             "#fb9f3a"
            ],
            [
             0.8888888888888888,
             "#fdca26"
            ],
            [
             1,
             "#f0f921"
            ]
           ],
           "sequentialminus": [
            [
             0,
             "#0d0887"
            ],
            [
             0.1111111111111111,
             "#46039f"
            ],
            [
             0.2222222222222222,
             "#7201a8"
            ],
            [
             0.3333333333333333,
             "#9c179e"
            ],
            [
             0.4444444444444444,
             "#bd3786"
            ],
            [
             0.5555555555555556,
             "#d8576b"
            ],
            [
             0.6666666666666666,
             "#ed7953"
            ],
            [
             0.7777777777777778,
             "#fb9f3a"
            ],
            [
             0.8888888888888888,
             "#fdca26"
            ],
            [
             1,
             "#f0f921"
            ]
           ]
          },
          "colorway": [
           "#636efa",
           "#EF553B",
           "#00cc96",
           "#ab63fa",
           "#FFA15A",
           "#19d3f3",
           "#FF6692",
           "#B6E880",
           "#FF97FF",
           "#FECB52"
          ],
          "font": {
           "color": "#2a3f5f"
          },
          "geo": {
           "bgcolor": "white",
           "lakecolor": "white",
           "landcolor": "#E5ECF6",
           "showlakes": true,
           "showland": true,
           "subunitcolor": "white"
          },
          "hoverlabel": {
           "align": "left"
          },
          "hovermode": "closest",
          "mapbox": {
           "style": "light"
          },
          "paper_bgcolor": "white",
          "plot_bgcolor": "#E5ECF6",
          "polar": {
           "angularaxis": {
            "gridcolor": "white",
            "linecolor": "white",
            "ticks": ""
           },
           "bgcolor": "#E5ECF6",
           "radialaxis": {
            "gridcolor": "white",
            "linecolor": "white",
            "ticks": ""
           }
          },
          "scene": {
           "xaxis": {
            "backgroundcolor": "#E5ECF6",
            "gridcolor": "white",
            "gridwidth": 2,
            "linecolor": "white",
            "showbackground": true,
            "ticks": "",
            "zerolinecolor": "white"
           },
           "yaxis": {
            "backgroundcolor": "#E5ECF6",
            "gridcolor": "white",
            "gridwidth": 2,
            "linecolor": "white",
            "showbackground": true,
            "ticks": "",
            "zerolinecolor": "white"
           },
           "zaxis": {
            "backgroundcolor": "#E5ECF6",
            "gridcolor": "white",
            "gridwidth": 2,
            "linecolor": "white",
            "showbackground": true,
            "ticks": "",
            "zerolinecolor": "white"
           }
          },
          "shapedefaults": {
           "line": {
            "color": "#2a3f5f"
           }
          },
          "ternary": {
           "aaxis": {
            "gridcolor": "white",
            "linecolor": "white",
            "ticks": ""
           },
           "baxis": {
            "gridcolor": "white",
            "linecolor": "white",
            "ticks": ""
           },
           "bgcolor": "#E5ECF6",
           "caxis": {
            "gridcolor": "white",
            "linecolor": "white",
            "ticks": ""
           }
          },
          "title": {
           "x": 0.05
          },
          "xaxis": {
           "automargin": true,
           "gridcolor": "white",
           "linecolor": "white",
           "ticks": "",
           "title": {
            "standoff": 15
           },
           "zerolinecolor": "white",
           "zerolinewidth": 2
          },
          "yaxis": {
           "automargin": true,
           "gridcolor": "white",
           "linecolor": "white",
           "ticks": "",
           "title": {
            "standoff": 15
           },
           "zerolinecolor": "white",
           "zerolinewidth": 2
          }
         }
        },
        "title": {
         "text": "Optimization History Plot"
        },
        "xaxis": {
         "title": {
          "text": "Trial"
         }
        },
        "yaxis": {
         "title": {
          "text": "Objective Value"
         }
        }
       }
      }
     },
     "metadata": {},
     "output_type": "display_data"
    },
    {
     "data": {
      "application/vnd.plotly.v1+json": {
       "config": {
        "plotlyServerURL": "https://plot.ly"
       },
       "data": [
        {
         "cliponaxis": false,
         "hovertemplate": [
          "include_htf_poi_ltf_confirmation (CategoricalDistribution): 0.13138468877483483<extra></extra>",
          "include_type_3_m5 (CategoricalDistribution): 0.15855207970601545<extra></extra>",
          "include_type_2_m5 (CategoricalDistribution): 0.2706935397655691<extra></extra>",
          "include_type_1_m5 (CategoricalDistribution): 0.4393696917535804<extra></extra>"
         ],
         "name": "Objective Value",
         "orientation": "h",
         "text": [
          "0.13",
          "0.16",
          "0.27",
          "0.44"
         ],
         "textposition": "outside",
         "type": "bar",
         "x": [
          0.13138468877483483,
          0.15855207970601545,
          0.2706935397655691,
          0.4393696917535804
         ],
         "y": [
          "include_htf_poi_ltf_confirmation",
          "include_type_3_m5",
          "include_type_2_m5",
          "include_type_1_m5"
         ]
        }
       ],
       "layout": {
        "template": {
         "data": {
          "bar": [
           {
            "error_x": {
             "color": "#2a3f5f"
            },
            "error_y": {
             "color": "#2a3f5f"
            },
            "marker": {
             "line": {
              "color": "#E5ECF6",
              "width": 0.5
             },
             "pattern": {
              "fillmode": "overlay",
              "size": 10,
              "solidity": 0.2
             }
            },
            "type": "bar"
           }
          ],
          "barpolar": [
           {
            "marker": {
             "line": {
              "color": "#E5ECF6",
              "width": 0.5
             },
             "pattern": {
              "fillmode": "overlay",
              "size": 10,
              "solidity": 0.2
             }
            },
            "type": "barpolar"
           }
          ],
          "carpet": [
           {
            "aaxis": {
             "endlinecolor": "#2a3f5f",
             "gridcolor": "white",
             "linecolor": "white",
             "minorgridcolor": "white",
             "startlinecolor": "#2a3f5f"
            },
            "baxis": {
             "endlinecolor": "#2a3f5f",
             "gridcolor": "white",
             "linecolor": "white",
             "minorgridcolor": "white",
             "startlinecolor": "#2a3f5f"
            },
            "type": "carpet"
           }
          ],
          "choropleth": [
           {
            "colorbar": {
             "outlinewidth": 0,
             "ticks": ""
            },
            "type": "choropleth"
           }
          ],
          "contour": [
           {
            "colorbar": {
             "outlinewidth": 0,
             "ticks": ""
            },
            "colorscale": [
             [
              0,
              "#0d0887"
             ],
             [
              0.1111111111111111,
              "#46039f"
             ],
             [
              0.2222222222222222,
              "#7201a8"
             ],
             [
              0.3333333333333333,
              "#9c179e"
             ],
             [
              0.4444444444444444,
              "#bd3786"
             ],
             [
              0.5555555555555556,
              "#d8576b"
             ],
             [
              0.6666666666666666,
              "#ed7953"
             ],
             [
              0.7777777777777778,
              "#fb9f3a"
             ],
             [
              0.8888888888888888,
              "#fdca26"
             ],
             [
              1,
              "#f0f921"
             ]
            ],
            "type": "contour"
           }
          ],
          "contourcarpet": [
           {
            "colorbar": {
             "outlinewidth": 0,
             "ticks": ""
            },
            "type": "contourcarpet"
           }
          ],
          "heatmap": [
           {
            "colorbar": {
             "outlinewidth": 0,
             "ticks": ""
            },
            "colorscale": [
             [
              0,
              "#0d0887"
             ],
             [
              0.1111111111111111,
              "#46039f"
             ],
             [
              0.2222222222222222,
              "#7201a8"
             ],
             [
              0.3333333333333333,
              "#9c179e"
             ],
             [
              0.4444444444444444,
              "#bd3786"
             ],
             [
              0.5555555555555556,
              "#d8576b"
             ],
             [
              0.6666666666666666,
              "#ed7953"
             ],
             [
              0.7777777777777778,
              "#fb9f3a"
             ],
             [
              0.8888888888888888,
              "#fdca26"
             ],
             [
              1,
              "#f0f921"
             ]
            ],
            "type": "heatmap"
           }
          ],
          "heatmapgl": [
           {
            "colorbar": {
             "outlinewidth": 0,
             "ticks": ""
            },
            "colorscale": [
             [
              0,
              "#0d0887"
             ],
             [
              0.1111111111111111,
              "#46039f"
             ],
             [
              0.2222222222222222,
              "#7201a8"
             ],
             [
              0.3333333333333333,
              "#9c179e"
             ],
             [
              0.4444444444444444,
              "#bd3786"
             ],
             [
              0.5555555555555556,
              "#d8576b"
             ],
             [
              0.6666666666666666,
              "#ed7953"
             ],
             [
              0.7777777777777778,
              "#fb9f3a"
             ],
             [
              0.8888888888888888,
              "#fdca26"
             ],
             [
              1,
              "#f0f921"
             ]
            ],
            "type": "heatmapgl"
           }
          ],
          "histogram": [
           {
            "marker": {
             "pattern": {
              "fillmode": "overlay",
              "size": 10,
              "solidity": 0.2
             }
            },
            "type": "histogram"
           }
          ],
          "histogram2d": [
           {
            "colorbar": {
             "outlinewidth": 0,
             "ticks": ""
            },
            "colorscale": [
             [
              0,
              "#0d0887"
             ],
             [
              0.1111111111111111,
              "#46039f"
             ],
             [
              0.2222222222222222,
              "#7201a8"
             ],
             [
              0.3333333333333333,
              "#9c179e"
             ],
             [
              0.4444444444444444,
              "#bd3786"
             ],
             [
              0.5555555555555556,
              "#d8576b"
             ],
             [
              0.6666666666666666,
              "#ed7953"
             ],
             [
              0.7777777777777778,
              "#fb9f3a"
             ],
             [
              0.8888888888888888,
              "#fdca26"
             ],
             [
              1,
              "#f0f921"
             ]
            ],
            "type": "histogram2d"
           }
          ],
          "histogram2dcontour": [
           {
            "colorbar": {
             "outlinewidth": 0,
             "ticks": ""
            },
            "colorscale": [
             [
              0,
              "#0d0887"
             ],
             [
              0.1111111111111111,
              "#46039f"
             ],
             [
              0.2222222222222222,
              "#7201a8"
             ],
             [
              0.3333333333333333,
              "#9c179e"
             ],
             [
              0.4444444444444444,
              "#bd3786"
             ],
             [
              0.5555555555555556,
              "#d8576b"
             ],
             [
              0.6666666666666666,
              "#ed7953"
             ],
             [
              0.7777777777777778,
              "#fb9f3a"
             ],
             [
              0.8888888888888888,
              "#fdca26"
             ],
             [
              1,
              "#f0f921"
             ]
            ],
            "type": "histogram2dcontour"
           }
          ],
          "mesh3d": [
           {
            "colorbar": {
             "outlinewidth": 0,
             "ticks": ""
            },
            "type": "mesh3d"
           }
          ],
          "parcoords": [
           {
            "line": {
             "colorbar": {
              "outlinewidth": 0,
              "ticks": ""
             }
            },
            "type": "parcoords"
           }
          ],
          "pie": [
           {
            "automargin": true,
            "type": "pie"
           }
          ],
          "scatter": [
           {
            "fillpattern": {
             "fillmode": "overlay",
             "size": 10,
             "solidity": 0.2
            },
            "type": "scatter"
           }
          ],
          "scatter3d": [
           {
            "line": {
             "colorbar": {
              "outlinewidth": 0,
              "ticks": ""
             }
            },
            "marker": {
             "colorbar": {
              "outlinewidth": 0,
              "ticks": ""
             }
            },
            "type": "scatter3d"
           }
          ],
          "scattercarpet": [
           {
            "marker": {
             "colorbar": {
              "outlinewidth": 0,
              "ticks": ""
             }
            },
            "type": "scattercarpet"
           }
          ],
          "scattergeo": [
           {
            "marker": {
             "colorbar": {
              "outlinewidth": 0,
              "ticks": ""
             }
            },
            "type": "scattergeo"
           }
          ],
          "scattergl": [
           {
            "marker": {
             "colorbar": {
              "outlinewidth": 0,
              "ticks": ""
             }
            },
            "type": "scattergl"
           }
          ],
          "scattermapbox": [
           {
            "marker": {
             "colorbar": {
              "outlinewidth": 0,
              "ticks": ""
             }
            },
            "type": "scattermapbox"
           }
          ],
          "scatterpolar": [
           {
            "marker": {
             "colorbar": {
              "outlinewidth": 0,
              "ticks": ""
             }
            },
            "type": "scatterpolar"
           }
          ],
          "scatterpolargl": [
           {
            "marker": {
             "colorbar": {
              "outlinewidth": 0,
              "ticks": ""
             }
            },
            "type": "scatterpolargl"
           }
          ],
          "scatterternary": [
           {
            "marker": {
             "colorbar": {
              "outlinewidth": 0,
              "ticks": ""
             }
            },
            "type": "scatterternary"
           }
          ],
          "surface": [
           {
            "colorbar": {
             "outlinewidth": 0,
             "ticks": ""
            },
            "colorscale": [
             [
              0,
              "#0d0887"
             ],
             [
              0.1111111111111111,
              "#46039f"
             ],
             [
              0.2222222222222222,
              "#7201a8"
             ],
             [
              0.3333333333333333,
              "#9c179e"
             ],
             [
              0.4444444444444444,
              "#bd3786"
             ],
             [
              0.5555555555555556,
              "#d8576b"
             ],
             [
              0.6666666666666666,
              "#ed7953"
             ],
             [
              0.7777777777777778,
              "#fb9f3a"
             ],
             [
              0.8888888888888888,
              "#fdca26"
             ],
             [
              1,
              "#f0f921"
             ]
            ],
            "type": "surface"
           }
          ],
          "table": [
           {
            "cells": {
             "fill": {
              "color": "#EBF0F8"
             },
             "line": {
              "color": "white"
             }
            },
            "header": {
             "fill": {
              "color": "#C8D4E3"
             },
             "line": {
              "color": "white"
             }
            },
            "type": "table"
           }
          ]
         },
         "layout": {
          "annotationdefaults": {
           "arrowcolor": "#2a3f5f",
           "arrowhead": 0,
           "arrowwidth": 1
          },
          "autotypenumbers": "strict",
          "coloraxis": {
           "colorbar": {
            "outlinewidth": 0,
            "ticks": ""
           }
          },
          "colorscale": {
           "diverging": [
            [
             0,
             "#8e0152"
            ],
            [
             0.1,
             "#c51b7d"
            ],
            [
             0.2,
             "#de77ae"
            ],
            [
             0.3,
             "#f1b6da"
            ],
            [
             0.4,
             "#fde0ef"
            ],
            [
             0.5,
             "#f7f7f7"
            ],
            [
             0.6,
             "#e6f5d0"
            ],
            [
             0.7,
             "#b8e186"
            ],
            [
             0.8,
             "#7fbc41"
            ],
            [
             0.9,
             "#4d9221"
            ],
            [
             1,
             "#276419"
            ]
           ],
           "sequential": [
            [
             0,
             "#0d0887"
            ],
            [
             0.1111111111111111,
             "#46039f"
            ],
            [
             0.2222222222222222,
             "#7201a8"
            ],
            [
             0.3333333333333333,
             "#9c179e"
            ],
            [
             0.4444444444444444,
             "#bd3786"
            ],
            [
             0.5555555555555556,
             "#d8576b"
            ],
            [
             0.6666666666666666,
             "#ed7953"
            ],
            [
             0.7777777777777778,
             "#fb9f3a"
            ],
            [
             0.8888888888888888,
             "#fdca26"
            ],
            [
             1,
             "#f0f921"
            ]
           ],
           "sequentialminus": [
            [
             0,
             "#0d0887"
            ],
            [
             0.1111111111111111,
             "#46039f"
            ],
            [
             0.2222222222222222,
             "#7201a8"
            ],
            [
             0.3333333333333333,
             "#9c179e"
            ],
            [
             0.4444444444444444,
             "#bd3786"
            ],
            [
             0.5555555555555556,
             "#d8576b"
            ],
            [
             0.6666666666666666,
             "#ed7953"
            ],
            [
             0.7777777777777778,
             "#fb9f3a"
            ],
            [
             0.8888888888888888,
             "#fdca26"
            ],
            [
             1,
             "#f0f921"
            ]
           ]
          },
          "colorway": [
           "#636efa",
           "#EF553B",
           "#00cc96",
           "#ab63fa",
           "#FFA15A",
           "#19d3f3",
           "#FF6692",
           "#B6E880",
           "#FF97FF",
           "#FECB52"
          ],
          "font": {
           "color": "#2a3f5f"
          },
          "geo": {
           "bgcolor": "white",
           "lakecolor": "white",
           "landcolor": "#E5ECF6",
           "showlakes": true,
           "showland": true,
           "subunitcolor": "white"
          },
          "hoverlabel": {
           "align": "left"
          },
          "hovermode": "closest",
          "mapbox": {
           "style": "light"
          },
          "paper_bgcolor": "white",
          "plot_bgcolor": "#E5ECF6",
          "polar": {
           "angularaxis": {
            "gridcolor": "white",
            "linecolor": "white",
            "ticks": ""
           },
           "bgcolor": "#E5ECF6",
           "radialaxis": {
            "gridcolor": "white",
            "linecolor": "white",
            "ticks": ""
           }
          },
          "scene": {
           "xaxis": {
            "backgroundcolor": "#E5ECF6",
            "gridcolor": "white",
            "gridwidth": 2,
            "linecolor": "white",
            "showbackground": true,
            "ticks": "",
            "zerolinecolor": "white"
           },
           "yaxis": {
            "backgroundcolor": "#E5ECF6",
            "gridcolor": "white",
            "gridwidth": 2,
            "linecolor": "white",
            "showbackground": true,
            "ticks": "",
            "zerolinecolor": "white"
           },
           "zaxis": {
            "backgroundcolor": "#E5ECF6",
            "gridcolor": "white",
            "gridwidth": 2,
            "linecolor": "white",
            "showbackground": true,
            "ticks": "",
            "zerolinecolor": "white"
           }
          },
          "shapedefaults": {
           "line": {
            "color": "#2a3f5f"
           }
          },
          "ternary": {
           "aaxis": {
            "gridcolor": "white",
            "linecolor": "white",
            "ticks": ""
           },
           "baxis": {
            "gridcolor": "white",
            "linecolor": "white",
            "ticks": ""
           },
           "bgcolor": "#E5ECF6",
           "caxis": {
            "gridcolor": "white",
            "linecolor": "white",
            "ticks": ""
           }
          },
          "title": {
           "x": 0.05
          },
          "xaxis": {
           "automargin": true,
           "gridcolor": "white",
           "linecolor": "white",
           "ticks": "",
           "title": {
            "standoff": 15
           },
           "zerolinecolor": "white",
           "zerolinewidth": 2
          },
          "yaxis": {
           "automargin": true,
           "gridcolor": "white",
           "linecolor": "white",
           "ticks": "",
           "title": {
            "standoff": 15
           },
           "zerolinecolor": "white",
           "zerolinewidth": 2
          }
         }
        },
        "title": {
         "text": "Hyperparameter Importances"
        },
        "xaxis": {
         "title": {
          "text": "Hyperparameter Importance"
         }
        },
        "yaxis": {
         "title": {
          "text": "Hyperparameter"
         }
        }
       }
      }
     },
     "metadata": {},
     "output_type": "display_data"
    },
    {
     "data": {
      "application/vnd.plotly.v1+json": {
       "config": {
        "plotlyServerURL": "https://plot.ly"
       },
       "data": [
        {
         "marker": {
          "color": [
           0,
           2,
           3,
           5,
           6,
           8,
           10,
           11,
           12,
           13,
           14,
           15,
           16,
           17,
           18,
           19,
           20,
           21,
           22,
           23,
           24,
           25,
           26,
           27,
           28,
           29,
           31,
           32,
           33,
           34,
           35,
           36,
           37,
           38,
           39,
           40,
           41,
           42,
           43,
           44,
           45,
           46,
           47,
           48,
           49,
           50,
           51,
           52,
           53,
           54,
           55,
           56,
           57,
           58,
           59,
           60,
           61,
           62,
           63,
           64,
           65,
           66,
           67,
           68,
           69,
           70,
           71,
           72,
           73,
           74,
           75,
           76,
           78,
           80,
           81,
           82,
           83,
           84,
           85,
           87,
           88,
           89,
           90,
           91,
           92,
           93,
           94,
           95,
           96,
           98
          ],
          "colorbar": {
           "title": {
            "text": "Trial"
           },
           "x": 1,
           "xpad": 40
          },
          "colorscale": [
           [
            0,
            "rgb(247,251,255)"
           ],
           [
            0.125,
            "rgb(222,235,247)"
           ],
           [
            0.25,
            "rgb(198,219,239)"
           ],
           [
            0.375,
            "rgb(158,202,225)"
           ],
           [
            0.5,
            "rgb(107,174,214)"
           ],
           [
            0.625,
            "rgb(66,146,198)"
           ],
           [
            0.75,
            "rgb(33,113,181)"
           ],
           [
            0.875,
            "rgb(8,81,156)"
           ],
           [
            1,
            "rgb(8,48,107)"
           ]
          ],
          "line": {
           "color": "Grey",
           "width": 0.5
          },
          "showscale": true
         },
         "mode": "markers",
         "name": "Feasible Trial",
         "showlegend": false,
         "type": "scatter",
         "x": [
          false,
          true,
          false,
          false,
          false,
          false,
          true,
          true,
          true,
          true,
          true,
          true,
          true,
          true,
          true,
          true,
          true,
          true,
          true,
          true,
          true,
          true,
          true,
          true,
          true,
          false,
          true,
          true,
          true,
          false,
          true,
          true,
          false,
          false,
          false,
          false,
          false,
          false,
          false,
          false,
          false,
          false,
          false,
          false,
          false,
          false,
          false,
          false,
          false,
          false,
          false,
          false,
          false,
          false,
          false,
          false,
          false,
          false,
          false,
          false,
          false,
          false,
          false,
          false,
          false,
          false,
          false,
          false,
          false,
          false,
          false,
          false,
          false,
          false,
          false,
          false,
          false,
          false,
          false,
          false,
          false,
          false,
          false,
          false,
          false,
          false,
          false,
          false,
          false,
          false
         ],
         "xaxis": "x",
         "y": [
          -0.043500000000000094,
          0.001974999999999949,
          -0.009930000000000017,
          -0.009735714285714308,
          -0.002872222222222239,
          -0.009930000000000017,
          -0.035250000000000004,
          0.0023083333333333567,
          -0.035250000000000004,
          0.0023083333333333567,
          0.0023083333333333567,
          0.0023083333333333567,
          -0.043500000000000094,
          0.0023083333333333567,
          -0.035250000000000004,
          -0.043500000000000094,
          0.0023083333333333567,
          0.0023083333333333567,
          0.0023083333333333567,
          0.0023083333333333567,
          0.0023083333333333567,
          -0.035250000000000004,
          -0.043500000000000094,
          0.0023083333333333567,
          0.0023083333333333567,
          0.002206249999999993,
          0.0023083333333333567,
          0.0023083333333333567,
          0.0023083333333333567,
          -0.0012272727272727333,
          0.0023083333333333567,
          -0.0030571428571428377,
          0.021150000000000002,
          0.021150000000000002,
          0.021150000000000002,
          0.021150000000000002,
          0.021150000000000002,
          0.021150000000000002,
          0.021150000000000002,
          0.021150000000000002,
          0.021150000000000002,
          0.021150000000000002,
          0.021150000000000002,
          0.021150000000000002,
          0.021150000000000002,
          0.021150000000000002,
          0.021150000000000002,
          0.021150000000000002,
          0.021150000000000002,
          0.021150000000000002,
          0.021150000000000002,
          0.021150000000000002,
          0.021150000000000002,
          0.021150000000000002,
          0.021150000000000002,
          0.021150000000000002,
          0.021150000000000002,
          0.021150000000000002,
          0.021150000000000002,
          0.021150000000000002,
          0.021150000000000002,
          -0.009930000000000017,
          0.021150000000000002,
          -0.009930000000000017,
          0.021150000000000002,
          0.021150000000000002,
          0.021150000000000002,
          0.021150000000000002,
          0.021150000000000002,
          0.021150000000000002,
          -0.010383333333333336,
          0.021150000000000002,
          0.021150000000000002,
          0.021150000000000002,
          0.021150000000000002,
          0.021150000000000002,
          0.021150000000000002,
          0.021150000000000002,
          0.021150000000000002,
          -0.009930000000000017,
          0.021150000000000002,
          0.021150000000000002,
          0.021150000000000002,
          0.021150000000000002,
          0.021150000000000002,
          0.021150000000000002,
          0.021150000000000002,
          0.021150000000000002,
          0.021150000000000002,
          0.021150000000000002
         ],
         "yaxis": "y"
        },
        {
         "marker": {
          "color": [
           0,
           2,
           3,
           5,
           6,
           8,
           10,
           11,
           12,
           13,
           14,
           15,
           16,
           17,
           18,
           19,
           20,
           21,
           22,
           23,
           24,
           25,
           26,
           27,
           28,
           29,
           31,
           32,
           33,
           34,
           35,
           36,
           37,
           38,
           39,
           40,
           41,
           42,
           43,
           44,
           45,
           46,
           47,
           48,
           49,
           50,
           51,
           52,
           53,
           54,
           55,
           56,
           57,
           58,
           59,
           60,
           61,
           62,
           63,
           64,
           65,
           66,
           67,
           68,
           69,
           70,
           71,
           72,
           73,
           74,
           75,
           76,
           78,
           80,
           81,
           82,
           83,
           84,
           85,
           87,
           88,
           89,
           90,
           91,
           92,
           93,
           94,
           95,
           96,
           98
          ],
          "colorbar": {
           "title": {
            "text": "Trial"
           },
           "x": 1,
           "xpad": 40
          },
          "colorscale": [
           [
            0,
            "rgb(247,251,255)"
           ],
           [
            0.125,
            "rgb(222,235,247)"
           ],
           [
            0.25,
            "rgb(198,219,239)"
           ],
           [
            0.375,
            "rgb(158,202,225)"
           ],
           [
            0.5,
            "rgb(107,174,214)"
           ],
           [
            0.625,
            "rgb(66,146,198)"
           ],
           [
            0.75,
            "rgb(33,113,181)"
           ],
           [
            0.875,
            "rgb(8,81,156)"
           ],
           [
            1,
            "rgb(8,48,107)"
           ]
          ],
          "line": {
           "color": "Grey",
           "width": 0.5
          },
          "showscale": false
         },
         "mode": "markers",
         "name": "Feasible Trial",
         "showlegend": false,
         "type": "scatter",
         "x": [
          true,
          true,
          false,
          false,
          false,
          false,
          true,
          true,
          true,
          true,
          true,
          true,
          true,
          true,
          true,
          true,
          true,
          true,
          true,
          true,
          true,
          true,
          true,
          true,
          true,
          true,
          true,
          true,
          true,
          true,
          true,
          true,
          true,
          false,
          false,
          false,
          false,
          false,
          false,
          false,
          false,
          false,
          false,
          false,
          false,
          false,
          false,
          false,
          false,
          false,
          false,
          false,
          false,
          false,
          false,
          false,
          false,
          false,
          false,
          false,
          false,
          false,
          false,
          false,
          false,
          false,
          false,
          false,
          false,
          false,
          false,
          false,
          false,
          false,
          false,
          false,
          false,
          false,
          false,
          false,
          false,
          false,
          false,
          false,
          false,
          false,
          false,
          false,
          false,
          false
         ],
         "xaxis": "x2",
         "y": [
          -0.043500000000000094,
          0.001974999999999949,
          -0.009930000000000017,
          -0.009735714285714308,
          -0.002872222222222239,
          -0.009930000000000017,
          -0.035250000000000004,
          0.0023083333333333567,
          -0.035250000000000004,
          0.0023083333333333567,
          0.0023083333333333567,
          0.0023083333333333567,
          -0.043500000000000094,
          0.0023083333333333567,
          -0.035250000000000004,
          -0.043500000000000094,
          0.0023083333333333567,
          0.0023083333333333567,
          0.0023083333333333567,
          0.0023083333333333567,
          0.0023083333333333567,
          -0.035250000000000004,
          -0.043500000000000094,
          0.0023083333333333567,
          0.0023083333333333567,
          0.002206249999999993,
          0.0023083333333333567,
          0.0023083333333333567,
          0.0023083333333333567,
          -0.0012272727272727333,
          0.0023083333333333567,
          -0.0030571428571428377,
          0.021150000000000002,
          0.021150000000000002,
          0.021150000000000002,
          0.021150000000000002,
          0.021150000000000002,
          0.021150000000000002,
          0.021150000000000002,
          0.021150000000000002,
          0.021150000000000002,
          0.021150000000000002,
          0.021150000000000002,
          0.021150000000000002,
          0.021150000000000002,
          0.021150000000000002,
          0.021150000000000002,
          0.021150000000000002,
          0.021150000000000002,
          0.021150000000000002,
          0.021150000000000002,
          0.021150000000000002,
          0.021150000000000002,
          0.021150000000000002,
          0.021150000000000002,
          0.021150000000000002,
          0.021150000000000002,
          0.021150000000000002,
          0.021150000000000002,
          0.021150000000000002,
          0.021150000000000002,
          -0.009930000000000017,
          0.021150000000000002,
          -0.009930000000000017,
          0.021150000000000002,
          0.021150000000000002,
          0.021150000000000002,
          0.021150000000000002,
          0.021150000000000002,
          0.021150000000000002,
          -0.010383333333333336,
          0.021150000000000002,
          0.021150000000000002,
          0.021150000000000002,
          0.021150000000000002,
          0.021150000000000002,
          0.021150000000000002,
          0.021150000000000002,
          0.021150000000000002,
          -0.009930000000000017,
          0.021150000000000002,
          0.021150000000000002,
          0.021150000000000002,
          0.021150000000000002,
          0.021150000000000002,
          0.021150000000000002,
          0.021150000000000002,
          0.021150000000000002,
          0.021150000000000002,
          0.021150000000000002
         ],
         "yaxis": "y2"
        },
        {
         "marker": {
          "color": [
           0,
           2,
           3,
           5,
           6,
           8,
           10,
           11,
           12,
           13,
           14,
           15,
           16,
           17,
           18,
           19,
           20,
           21,
           22,
           23,
           24,
           25,
           26,
           27,
           28,
           29,
           31,
           32,
           33,
           34,
           35,
           36,
           37,
           38,
           39,
           40,
           41,
           42,
           43,
           44,
           45,
           46,
           47,
           48,
           49,
           50,
           51,
           52,
           53,
           54,
           55,
           56,
           57,
           58,
           59,
           60,
           61,
           62,
           63,
           64,
           65,
           66,
           67,
           68,
           69,
           70,
           71,
           72,
           73,
           74,
           75,
           76,
           78,
           80,
           81,
           82,
           83,
           84,
           85,
           87,
           88,
           89,
           90,
           91,
           92,
           93,
           94,
           95,
           96,
           98
          ],
          "colorbar": {
           "title": {
            "text": "Trial"
           },
           "x": 1,
           "xpad": 40
          },
          "colorscale": [
           [
            0,
            "rgb(247,251,255)"
           ],
           [
            0.125,
            "rgb(222,235,247)"
           ],
           [
            0.25,
            "rgb(198,219,239)"
           ],
           [
            0.375,
            "rgb(158,202,225)"
           ],
           [
            0.5,
            "rgb(107,174,214)"
           ],
           [
            0.625,
            "rgb(66,146,198)"
           ],
           [
            0.75,
            "rgb(33,113,181)"
           ],
           [
            0.875,
            "rgb(8,81,156)"
           ],
           [
            1,
            "rgb(8,48,107)"
           ]
          ],
          "line": {
           "color": "Grey",
           "width": 0.5
          },
          "showscale": false
         },
         "mode": "markers",
         "name": "Feasible Trial",
         "showlegend": false,
         "type": "scatter",
         "x": [
          true,
          true,
          true,
          true,
          false,
          true,
          false,
          false,
          false,
          false,
          false,
          false,
          false,
          false,
          false,
          false,
          false,
          false,
          false,
          false,
          false,
          false,
          false,
          false,
          false,
          false,
          false,
          false,
          false,
          false,
          false,
          false,
          true,
          true,
          true,
          true,
          true,
          true,
          true,
          true,
          true,
          true,
          true,
          true,
          true,
          true,
          true,
          true,
          true,
          true,
          true,
          true,
          true,
          true,
          true,
          true,
          true,
          true,
          true,
          true,
          true,
          true,
          true,
          true,
          true,
          true,
          true,
          true,
          true,
          true,
          true,
          true,
          true,
          true,
          true,
          true,
          true,
          true,
          true,
          true,
          true,
          true,
          true,
          true,
          true,
          true,
          true,
          true,
          true,
          true
         ],
         "xaxis": "x3",
         "y": [
          -0.043500000000000094,
          0.001974999999999949,
          -0.009930000000000017,
          -0.009735714285714308,
          -0.002872222222222239,
          -0.009930000000000017,
          -0.035250000000000004,
          0.0023083333333333567,
          -0.035250000000000004,
          0.0023083333333333567,
          0.0023083333333333567,
          0.0023083333333333567,
          -0.043500000000000094,
          0.0023083333333333567,
          -0.035250000000000004,
          -0.043500000000000094,
          0.0023083333333333567,
          0.0023083333333333567,
          0.0023083333333333567,
          0.0023083333333333567,
          0.0023083333333333567,
          -0.035250000000000004,
          -0.043500000000000094,
          0.0023083333333333567,
          0.0023083333333333567,
          0.002206249999999993,
          0.0023083333333333567,
          0.0023083333333333567,
          0.0023083333333333567,
          -0.0012272727272727333,
          0.0023083333333333567,
          -0.0030571428571428377,
          0.021150000000000002,
          0.021150000000000002,
          0.021150000000000002,
          0.021150000000000002,
          0.021150000000000002,
          0.021150000000000002,
          0.021150000000000002,
          0.021150000000000002,
          0.021150000000000002,
          0.021150000000000002,
          0.021150000000000002,
          0.021150000000000002,
          0.021150000000000002,
          0.021150000000000002,
          0.021150000000000002,
          0.021150000000000002,
          0.021150000000000002,
          0.021150000000000002,
          0.021150000000000002,
          0.021150000000000002,
          0.021150000000000002,
          0.021150000000000002,
          0.021150000000000002,
          0.021150000000000002,
          0.021150000000000002,
          0.021150000000000002,
          0.021150000000000002,
          0.021150000000000002,
          0.021150000000000002,
          -0.009930000000000017,
          0.021150000000000002,
          -0.009930000000000017,
          0.021150000000000002,
          0.021150000000000002,
          0.021150000000000002,
          0.021150000000000002,
          0.021150000000000002,
          0.021150000000000002,
          -0.010383333333333336,
          0.021150000000000002,
          0.021150000000000002,
          0.021150000000000002,
          0.021150000000000002,
          0.021150000000000002,
          0.021150000000000002,
          0.021150000000000002,
          0.021150000000000002,
          -0.009930000000000017,
          0.021150000000000002,
          0.021150000000000002,
          0.021150000000000002,
          0.021150000000000002,
          0.021150000000000002,
          0.021150000000000002,
          0.021150000000000002,
          0.021150000000000002,
          0.021150000000000002,
          0.021150000000000002
         ],
         "yaxis": "y3"
        },
        {
         "marker": {
          "color": [
           0,
           2,
           3,
           5,
           6,
           8,
           10,
           11,
           12,
           13,
           14,
           15,
           16,
           17,
           18,
           19,
           20,
           21,
           22,
           23,
           24,
           25,
           26,
           27,
           28,
           29,
           31,
           32,
           33,
           34,
           35,
           36,
           37,
           38,
           39,
           40,
           41,
           42,
           43,
           44,
           45,
           46,
           47,
           48,
           49,
           50,
           51,
           52,
           53,
           54,
           55,
           56,
           57,
           58,
           59,
           60,
           61,
           62,
           63,
           64,
           65,
           66,
           67,
           68,
           69,
           70,
           71,
           72,
           73,
           74,
           75,
           76,
           78,
           80,
           81,
           82,
           83,
           84,
           85,
           87,
           88,
           89,
           90,
           91,
           92,
           93,
           94,
           95,
           96,
           98
          ],
          "colorbar": {
           "title": {
            "text": "Trial"
           },
           "x": 1,
           "xpad": 40
          },
          "colorscale": [
           [
            0,
            "rgb(247,251,255)"
           ],
           [
            0.125,
            "rgb(222,235,247)"
           ],
           [
            0.25,
            "rgb(198,219,239)"
           ],
           [
            0.375,
            "rgb(158,202,225)"
           ],
           [
            0.5,
            "rgb(107,174,214)"
           ],
           [
            0.625,
            "rgb(66,146,198)"
           ],
           [
            0.75,
            "rgb(33,113,181)"
           ],
           [
            0.875,
            "rgb(8,81,156)"
           ],
           [
            1,
            "rgb(8,48,107)"
           ]
          ],
          "line": {
           "color": "Grey",
           "width": 0.5
          },
          "showscale": false
         },
         "mode": "markers",
         "name": "Feasible Trial",
         "showlegend": false,
         "type": "scatter",
         "x": [
          false,
          false,
          false,
          true,
          true,
          false,
          true,
          true,
          true,
          true,
          true,
          true,
          true,
          true,
          true,
          true,
          true,
          true,
          true,
          true,
          true,
          true,
          true,
          true,
          true,
          true,
          true,
          true,
          true,
          false,
          true,
          false,
          true,
          true,
          false,
          false,
          false,
          false,
          false,
          false,
          false,
          false,
          false,
          false,
          false,
          false,
          false,
          false,
          false,
          false,
          false,
          false,
          false,
          false,
          false,
          false,
          false,
          false,
          false,
          false,
          false,
          false,
          false,
          false,
          false,
          false,
          false,
          false,
          false,
          false,
          true,
          false,
          false,
          false,
          false,
          false,
          false,
          false,
          false,
          false,
          false,
          true,
          false,
          false,
          false,
          false,
          false,
          false,
          false,
          false
         ],
         "xaxis": "x4",
         "y": [
          -0.043500000000000094,
          0.001974999999999949,
          -0.009930000000000017,
          -0.009735714285714308,
          -0.002872222222222239,
          -0.009930000000000017,
          -0.035250000000000004,
          0.0023083333333333567,
          -0.035250000000000004,
          0.0023083333333333567,
          0.0023083333333333567,
          0.0023083333333333567,
          -0.043500000000000094,
          0.0023083333333333567,
          -0.035250000000000004,
          -0.043500000000000094,
          0.0023083333333333567,
          0.0023083333333333567,
          0.0023083333333333567,
          0.0023083333333333567,
          0.0023083333333333567,
          -0.035250000000000004,
          -0.043500000000000094,
          0.0023083333333333567,
          0.0023083333333333567,
          0.002206249999999993,
          0.0023083333333333567,
          0.0023083333333333567,
          0.0023083333333333567,
          -0.0012272727272727333,
          0.0023083333333333567,
          -0.0030571428571428377,
          0.021150000000000002,
          0.021150000000000002,
          0.021150000000000002,
          0.021150000000000002,
          0.021150000000000002,
          0.021150000000000002,
          0.021150000000000002,
          0.021150000000000002,
          0.021150000000000002,
          0.021150000000000002,
          0.021150000000000002,
          0.021150000000000002,
          0.021150000000000002,
          0.021150000000000002,
          0.021150000000000002,
          0.021150000000000002,
          0.021150000000000002,
          0.021150000000000002,
          0.021150000000000002,
          0.021150000000000002,
          0.021150000000000002,
          0.021150000000000002,
          0.021150000000000002,
          0.021150000000000002,
          0.021150000000000002,
          0.021150000000000002,
          0.021150000000000002,
          0.021150000000000002,
          0.021150000000000002,
          -0.009930000000000017,
          0.021150000000000002,
          -0.009930000000000017,
          0.021150000000000002,
          0.021150000000000002,
          0.021150000000000002,
          0.021150000000000002,
          0.021150000000000002,
          0.021150000000000002,
          -0.010383333333333336,
          0.021150000000000002,
          0.021150000000000002,
          0.021150000000000002,
          0.021150000000000002,
          0.021150000000000002,
          0.021150000000000002,
          0.021150000000000002,
          0.021150000000000002,
          -0.009930000000000017,
          0.021150000000000002,
          0.021150000000000002,
          0.021150000000000002,
          0.021150000000000002,
          0.021150000000000002,
          0.021150000000000002,
          0.021150000000000002,
          0.021150000000000002,
          0.021150000000000002,
          0.021150000000000002
         ],
         "yaxis": "y4"
        },
        {
         "marker": {
          "color": [
           2,
           10,
           11,
           12,
           13,
           14,
           15,
           16,
           17,
           18,
           19,
           20,
           21,
           22,
           23,
           24,
           25,
           26,
           27,
           28,
           31,
           32,
           33,
           35,
           36
          ],
          "colorbar": {
           "title": {
            "text": "Trial"
           },
           "x": 1,
           "xpad": 40
          },
          "colorscale": [
           [
            0,
            "rgb(247,251,255)"
           ],
           [
            0.125,
            "rgb(222,235,247)"
           ],
           [
            0.25,
            "rgb(198,219,239)"
           ],
           [
            0.375,
            "rgb(158,202,225)"
           ],
           [
            0.5,
            "rgb(107,174,214)"
           ],
           [
            0.625,
            "rgb(66,146,198)"
           ],
           [
            0.75,
            "rgb(33,113,181)"
           ],
           [
            0.875,
            "rgb(8,81,156)"
           ],
           [
            1,
            "rgb(8,48,107)"
           ]
          ],
          "line": {
           "color": "Grey",
           "width": 0.5
          },
          "showscale": false
         },
         "mode": "markers",
         "name": "Feasible Trial",
         "showlegend": false,
         "type": "scatter",
         "x": [
          false,
          true,
          true,
          true,
          true,
          true,
          true,
          true,
          true,
          true,
          true,
          true,
          true,
          true,
          true,
          true,
          true,
          true,
          true,
          true,
          true,
          true,
          true,
          true,
          true
         ],
         "xaxis": "x5",
         "y": [
          0.001974999999999949,
          -0.035250000000000004,
          0.0023083333333333567,
          -0.035250000000000004,
          0.0023083333333333567,
          0.0023083333333333567,
          0.0023083333333333567,
          -0.043500000000000094,
          0.0023083333333333567,
          -0.035250000000000004,
          -0.043500000000000094,
          0.0023083333333333567,
          0.0023083333333333567,
          0.0023083333333333567,
          0.0023083333333333567,
          0.0023083333333333567,
          -0.035250000000000004,
          -0.043500000000000094,
          0.0023083333333333567,
          0.0023083333333333567,
          0.0023083333333333567,
          0.0023083333333333567,
          0.0023083333333333567,
          0.0023083333333333567,
          -0.0030571428571428377
         ],
         "yaxis": "y5"
        },
        {
         "marker": {
          "color": [
           0,
           2,
           10,
           11,
           12,
           13,
           14,
           15,
           16,
           17,
           18,
           19,
           20,
           21,
           22,
           23,
           24,
           25,
           26,
           27,
           28,
           29,
           31,
           32,
           33,
           34,
           35,
           36,
           37
          ],
          "colorbar": {
           "title": {
            "text": "Trial"
           },
           "x": 1,
           "xpad": 40
          },
          "colorscale": [
           [
            0,
            "rgb(247,251,255)"
           ],
           [
            0.125,
            "rgb(222,235,247)"
           ],
           [
            0.25,
            "rgb(198,219,239)"
           ],
           [
            0.375,
            "rgb(158,202,225)"
           ],
           [
            0.5,
            "rgb(107,174,214)"
           ],
           [
            0.625,
            "rgb(66,146,198)"
           ],
           [
            0.75,
            "rgb(33,113,181)"
           ],
           [
            0.875,
            "rgb(8,81,156)"
           ],
           [
            1,
            "rgb(8,48,107)"
           ]
          ],
          "line": {
           "color": "Grey",
           "width": 0.5
          },
          "showscale": false
         },
         "mode": "markers",
         "name": "Feasible Trial",
         "showlegend": false,
         "type": "scatter",
         "x": [
          true,
          false,
          false,
          false,
          false,
          false,
          false,
          false,
          true,
          false,
          false,
          true,
          false,
          false,
          false,
          false,
          false,
          false,
          true,
          false,
          false,
          false,
          false,
          false,
          false,
          false,
          false,
          false,
          false
         ],
         "xaxis": "x6",
         "y": [
          -0.043500000000000094,
          0.001974999999999949,
          -0.035250000000000004,
          0.0023083333333333567,
          -0.035250000000000004,
          0.0023083333333333567,
          0.0023083333333333567,
          0.0023083333333333567,
          -0.043500000000000094,
          0.0023083333333333567,
          -0.035250000000000004,
          -0.043500000000000094,
          0.0023083333333333567,
          0.0023083333333333567,
          0.0023083333333333567,
          0.0023083333333333567,
          0.0023083333333333567,
          -0.035250000000000004,
          -0.043500000000000094,
          0.0023083333333333567,
          0.0023083333333333567,
          0.002206249999999993,
          0.0023083333333333567,
          0.0023083333333333567,
          0.0023083333333333567,
          -0.0012272727272727333,
          0.0023083333333333567,
          -0.0030571428571428377,
          0.021150000000000002
         ],
         "yaxis": "y6"
        },
        {
         "marker": {
          "color": [
           0,
           2,
           3,
           5,
           8,
           37,
           38,
           39,
           40,
           41,
           42,
           43,
           44,
           45,
           46,
           47,
           48,
           49,
           50,
           51,
           52,
           53,
           54,
           55,
           56,
           57,
           58,
           59,
           60,
           61,
           62,
           63,
           64,
           65,
           66,
           67,
           68,
           69,
           70,
           71,
           72,
           73,
           74,
           75,
           76,
           78,
           80,
           81,
           82,
           83,
           84,
           85,
           87,
           88,
           89,
           90,
           91,
           92,
           93,
           94,
           95,
           96,
           98
          ],
          "colorbar": {
           "title": {
            "text": "Trial"
           },
           "x": 1,
           "xpad": 40
          },
          "colorscale": [
           [
            0,
            "rgb(247,251,255)"
           ],
           [
            0.125,
            "rgb(222,235,247)"
           ],
           [
            0.25,
            "rgb(198,219,239)"
           ],
           [
            0.375,
            "rgb(158,202,225)"
           ],
           [
            0.5,
            "rgb(107,174,214)"
           ],
           [
            0.625,
            "rgb(66,146,198)"
           ],
           [
            0.75,
            "rgb(33,113,181)"
           ],
           [
            0.875,
            "rgb(8,81,156)"
           ],
           [
            1,
            "rgb(8,48,107)"
           ]
          ],
          "line": {
           "color": "Grey",
           "width": 0.5
          },
          "showscale": false
         },
         "mode": "markers",
         "name": "Feasible Trial",
         "showlegend": false,
         "type": "scatter",
         "x": [
          false,
          false,
          false,
          false,
          false,
          true,
          true,
          true,
          true,
          true,
          true,
          true,
          true,
          true,
          true,
          true,
          true,
          true,
          true,
          true,
          true,
          true,
          true,
          true,
          true,
          true,
          true,
          true,
          true,
          true,
          true,
          true,
          true,
          true,
          false,
          true,
          false,
          true,
          true,
          true,
          true,
          true,
          true,
          false,
          true,
          true,
          true,
          true,
          true,
          true,
          true,
          true,
          false,
          true,
          true,
          true,
          true,
          true,
          true,
          true,
          true,
          true,
          true
         ],
         "xaxis": "x7",
         "y": [
          -0.043500000000000094,
          0.001974999999999949,
          -0.009930000000000017,
          -0.009735714285714308,
          -0.009930000000000017,
          0.021150000000000002,
          0.021150000000000002,
          0.021150000000000002,
          0.021150000000000002,
          0.021150000000000002,
          0.021150000000000002,
          0.021150000000000002,
          0.021150000000000002,
          0.021150000000000002,
          0.021150000000000002,
          0.021150000000000002,
          0.021150000000000002,
          0.021150000000000002,
          0.021150000000000002,
          0.021150000000000002,
          0.021150000000000002,
          0.021150000000000002,
          0.021150000000000002,
          0.021150000000000002,
          0.021150000000000002,
          0.021150000000000002,
          0.021150000000000002,
          0.021150000000000002,
          0.021150000000000002,
          0.021150000000000002,
          0.021150000000000002,
          0.021150000000000002,
          0.021150000000000002,
          0.021150000000000002,
          -0.009930000000000017,
          0.021150000000000002,
          -0.009930000000000017,
          0.021150000000000002,
          0.021150000000000002,
          0.021150000000000002,
          0.021150000000000002,
          0.021150000000000002,
          0.021150000000000002,
          -0.010383333333333336,
          0.021150000000000002,
          0.021150000000000002,
          0.021150000000000002,
          0.021150000000000002,
          0.021150000000000002,
          0.021150000000000002,
          0.021150000000000002,
          0.021150000000000002,
          -0.009930000000000017,
          0.021150000000000002,
          0.021150000000000002,
          0.021150000000000002,
          0.021150000000000002,
          0.021150000000000002,
          0.021150000000000002,
          0.021150000000000002,
          0.021150000000000002,
          0.021150000000000002,
          0.021150000000000002
         ],
         "yaxis": "y7"
        },
        {
         "marker": {
          "color": [
           5,
           6,
           10,
           11,
           12,
           13,
           14,
           15,
           16,
           17,
           18,
           19,
           20,
           21,
           22,
           23,
           24,
           25,
           26,
           27,
           28,
           29,
           31,
           32,
           33,
           35,
           37,
           38,
           75,
           89
          ],
          "colorbar": {
           "title": {
            "text": "Trial"
           },
           "x": 1,
           "xpad": 40
          },
          "colorscale": [
           [
            0,
            "rgb(247,251,255)"
           ],
           [
            0.125,
            "rgb(222,235,247)"
           ],
           [
            0.25,
            "rgb(198,219,239)"
           ],
           [
            0.375,
            "rgb(158,202,225)"
           ],
           [
            0.5,
            "rgb(107,174,214)"
           ],
           [
            0.625,
            "rgb(66,146,198)"
           ],
           [
            0.75,
            "rgb(33,113,181)"
           ],
           [
            0.875,
            "rgb(8,81,156)"
           ],
           [
            1,
            "rgb(8,48,107)"
           ]
          ],
          "line": {
           "color": "Grey",
           "width": 0.5
          },
          "showscale": false
         },
         "mode": "markers",
         "name": "Feasible Trial",
         "showlegend": false,
         "type": "scatter",
         "x": [
          false,
          false,
          true,
          false,
          true,
          false,
          false,
          false,
          false,
          false,
          true,
          false,
          false,
          false,
          false,
          false,
          false,
          true,
          false,
          false,
          false,
          false,
          false,
          false,
          false,
          false,
          false,
          false,
          true,
          false
         ],
         "xaxis": "x8",
         "y": [
          -0.009735714285714308,
          -0.002872222222222239,
          -0.035250000000000004,
          0.0023083333333333567,
          -0.035250000000000004,
          0.0023083333333333567,
          0.0023083333333333567,
          0.0023083333333333567,
          -0.043500000000000094,
          0.0023083333333333567,
          -0.035250000000000004,
          -0.043500000000000094,
          0.0023083333333333567,
          0.0023083333333333567,
          0.0023083333333333567,
          0.0023083333333333567,
          0.0023083333333333567,
          -0.035250000000000004,
          -0.043500000000000094,
          0.0023083333333333567,
          0.0023083333333333567,
          0.002206249999999993,
          0.0023083333333333567,
          0.0023083333333333567,
          0.0023083333333333567,
          0.0023083333333333567,
          0.021150000000000002,
          0.021150000000000002,
          -0.010383333333333336,
          0.021150000000000002
         ],
         "yaxis": "y8"
        }
       ],
       "layout": {
        "template": {
         "data": {
          "bar": [
           {
            "error_x": {
             "color": "#2a3f5f"
            },
            "error_y": {
             "color": "#2a3f5f"
            },
            "marker": {
             "line": {
              "color": "#E5ECF6",
              "width": 0.5
             },
             "pattern": {
              "fillmode": "overlay",
              "size": 10,
              "solidity": 0.2
             }
            },
            "type": "bar"
           }
          ],
          "barpolar": [
           {
            "marker": {
             "line": {
              "color": "#E5ECF6",
              "width": 0.5
             },
             "pattern": {
              "fillmode": "overlay",
              "size": 10,
              "solidity": 0.2
             }
            },
            "type": "barpolar"
           }
          ],
          "carpet": [
           {
            "aaxis": {
             "endlinecolor": "#2a3f5f",
             "gridcolor": "white",
             "linecolor": "white",
             "minorgridcolor": "white",
             "startlinecolor": "#2a3f5f"
            },
            "baxis": {
             "endlinecolor": "#2a3f5f",
             "gridcolor": "white",
             "linecolor": "white",
             "minorgridcolor": "white",
             "startlinecolor": "#2a3f5f"
            },
            "type": "carpet"
           }
          ],
          "choropleth": [
           {
            "colorbar": {
             "outlinewidth": 0,
             "ticks": ""
            },
            "type": "choropleth"
           }
          ],
          "contour": [
           {
            "colorbar": {
             "outlinewidth": 0,
             "ticks": ""
            },
            "colorscale": [
             [
              0,
              "#0d0887"
             ],
             [
              0.1111111111111111,
              "#46039f"
             ],
             [
              0.2222222222222222,
              "#7201a8"
             ],
             [
              0.3333333333333333,
              "#9c179e"
             ],
             [
              0.4444444444444444,
              "#bd3786"
             ],
             [
              0.5555555555555556,
              "#d8576b"
             ],
             [
              0.6666666666666666,
              "#ed7953"
             ],
             [
              0.7777777777777778,
              "#fb9f3a"
             ],
             [
              0.8888888888888888,
              "#fdca26"
             ],
             [
              1,
              "#f0f921"
             ]
            ],
            "type": "contour"
           }
          ],
          "contourcarpet": [
           {
            "colorbar": {
             "outlinewidth": 0,
             "ticks": ""
            },
            "type": "contourcarpet"
           }
          ],
          "heatmap": [
           {
            "colorbar": {
             "outlinewidth": 0,
             "ticks": ""
            },
            "colorscale": [
             [
              0,
              "#0d0887"
             ],
             [
              0.1111111111111111,
              "#46039f"
             ],
             [
              0.2222222222222222,
              "#7201a8"
             ],
             [
              0.3333333333333333,
              "#9c179e"
             ],
             [
              0.4444444444444444,
              "#bd3786"
             ],
             [
              0.5555555555555556,
              "#d8576b"
             ],
             [
              0.6666666666666666,
              "#ed7953"
             ],
             [
              0.7777777777777778,
              "#fb9f3a"
             ],
             [
              0.8888888888888888,
              "#fdca26"
             ],
             [
              1,
              "#f0f921"
             ]
            ],
            "type": "heatmap"
           }
          ],
          "heatmapgl": [
           {
            "colorbar": {
             "outlinewidth": 0,
             "ticks": ""
            },
            "colorscale": [
             [
              0,
              "#0d0887"
             ],
             [
              0.1111111111111111,
              "#46039f"
             ],
             [
              0.2222222222222222,
              "#7201a8"
             ],
             [
              0.3333333333333333,
              "#9c179e"
             ],
             [
              0.4444444444444444,
              "#bd3786"
             ],
             [
              0.5555555555555556,
              "#d8576b"
             ],
             [
              0.6666666666666666,
              "#ed7953"
             ],
             [
              0.7777777777777778,
              "#fb9f3a"
             ],
             [
              0.8888888888888888,
              "#fdca26"
             ],
             [
              1,
              "#f0f921"
             ]
            ],
            "type": "heatmapgl"
           }
          ],
          "histogram": [
           {
            "marker": {
             "pattern": {
              "fillmode": "overlay",
              "size": 10,
              "solidity": 0.2
             }
            },
            "type": "histogram"
           }
          ],
          "histogram2d": [
           {
            "colorbar": {
             "outlinewidth": 0,
             "ticks": ""
            },
            "colorscale": [
             [
              0,
              "#0d0887"
             ],
             [
              0.1111111111111111,
              "#46039f"
             ],
             [
              0.2222222222222222,
              "#7201a8"
             ],
             [
              0.3333333333333333,
              "#9c179e"
             ],
             [
              0.4444444444444444,
              "#bd3786"
             ],
             [
              0.5555555555555556,
              "#d8576b"
             ],
             [
              0.6666666666666666,
              "#ed7953"
             ],
             [
              0.7777777777777778,
              "#fb9f3a"
             ],
             [
              0.8888888888888888,
              "#fdca26"
             ],
             [
              1,
              "#f0f921"
             ]
            ],
            "type": "histogram2d"
           }
          ],
          "histogram2dcontour": [
           {
            "colorbar": {
             "outlinewidth": 0,
             "ticks": ""
            },
            "colorscale": [
             [
              0,
              "#0d0887"
             ],
             [
              0.1111111111111111,
              "#46039f"
             ],
             [
              0.2222222222222222,
              "#7201a8"
             ],
             [
              0.3333333333333333,
              "#9c179e"
             ],
             [
              0.4444444444444444,
              "#bd3786"
             ],
             [
              0.5555555555555556,
              "#d8576b"
             ],
             [
              0.6666666666666666,
              "#ed7953"
             ],
             [
              0.7777777777777778,
              "#fb9f3a"
             ],
             [
              0.8888888888888888,
              "#fdca26"
             ],
             [
              1,
              "#f0f921"
             ]
            ],
            "type": "histogram2dcontour"
           }
          ],
          "mesh3d": [
           {
            "colorbar": {
             "outlinewidth": 0,
             "ticks": ""
            },
            "type": "mesh3d"
           }
          ],
          "parcoords": [
           {
            "line": {
             "colorbar": {
              "outlinewidth": 0,
              "ticks": ""
             }
            },
            "type": "parcoords"
           }
          ],
          "pie": [
           {
            "automargin": true,
            "type": "pie"
           }
          ],
          "scatter": [
           {
            "fillpattern": {
             "fillmode": "overlay",
             "size": 10,
             "solidity": 0.2
            },
            "type": "scatter"
           }
          ],
          "scatter3d": [
           {
            "line": {
             "colorbar": {
              "outlinewidth": 0,
              "ticks": ""
             }
            },
            "marker": {
             "colorbar": {
              "outlinewidth": 0,
              "ticks": ""
             }
            },
            "type": "scatter3d"
           }
          ],
          "scattercarpet": [
           {
            "marker": {
             "colorbar": {
              "outlinewidth": 0,
              "ticks": ""
             }
            },
            "type": "scattercarpet"
           }
          ],
          "scattergeo": [
           {
            "marker": {
             "colorbar": {
              "outlinewidth": 0,
              "ticks": ""
             }
            },
            "type": "scattergeo"
           }
          ],
          "scattergl": [
           {
            "marker": {
             "colorbar": {
              "outlinewidth": 0,
              "ticks": ""
             }
            },
            "type": "scattergl"
           }
          ],
          "scattermapbox": [
           {
            "marker": {
             "colorbar": {
              "outlinewidth": 0,
              "ticks": ""
             }
            },
            "type": "scattermapbox"
           }
          ],
          "scatterpolar": [
           {
            "marker": {
             "colorbar": {
              "outlinewidth": 0,
              "ticks": ""
             }
            },
            "type": "scatterpolar"
           }
          ],
          "scatterpolargl": [
           {
            "marker": {
             "colorbar": {
              "outlinewidth": 0,
              "ticks": ""
             }
            },
            "type": "scatterpolargl"
           }
          ],
          "scatterternary": [
           {
            "marker": {
             "colorbar": {
              "outlinewidth": 0,
              "ticks": ""
             }
            },
            "type": "scatterternary"
           }
          ],
          "surface": [
           {
            "colorbar": {
             "outlinewidth": 0,
             "ticks": ""
            },
            "colorscale": [
             [
              0,
              "#0d0887"
             ],
             [
              0.1111111111111111,
              "#46039f"
             ],
             [
              0.2222222222222222,
              "#7201a8"
             ],
             [
              0.3333333333333333,
              "#9c179e"
             ],
             [
              0.4444444444444444,
              "#bd3786"
             ],
             [
              0.5555555555555556,
              "#d8576b"
             ],
             [
              0.6666666666666666,
              "#ed7953"
             ],
             [
              0.7777777777777778,
              "#fb9f3a"
             ],
             [
              0.8888888888888888,
              "#fdca26"
             ],
             [
              1,
              "#f0f921"
             ]
            ],
            "type": "surface"
           }
          ],
          "table": [
           {
            "cells": {
             "fill": {
              "color": "#EBF0F8"
             },
             "line": {
              "color": "white"
             }
            },
            "header": {
             "fill": {
              "color": "#C8D4E3"
             },
             "line": {
              "color": "white"
             }
            },
            "type": "table"
           }
          ]
         },
         "layout": {
          "annotationdefaults": {
           "arrowcolor": "#2a3f5f",
           "arrowhead": 0,
           "arrowwidth": 1
          },
          "autotypenumbers": "strict",
          "coloraxis": {
           "colorbar": {
            "outlinewidth": 0,
            "ticks": ""
           }
          },
          "colorscale": {
           "diverging": [
            [
             0,
             "#8e0152"
            ],
            [
             0.1,
             "#c51b7d"
            ],
            [
             0.2,
             "#de77ae"
            ],
            [
             0.3,
             "#f1b6da"
            ],
            [
             0.4,
             "#fde0ef"
            ],
            [
             0.5,
             "#f7f7f7"
            ],
            [
             0.6,
             "#e6f5d0"
            ],
            [
             0.7,
             "#b8e186"
            ],
            [
             0.8,
             "#7fbc41"
            ],
            [
             0.9,
             "#4d9221"
            ],
            [
             1,
             "#276419"
            ]
           ],
           "sequential": [
            [
             0,
             "#0d0887"
            ],
            [
             0.1111111111111111,
             "#46039f"
            ],
            [
             0.2222222222222222,
             "#7201a8"
            ],
            [
             0.3333333333333333,
             "#9c179e"
            ],
            [
             0.4444444444444444,
             "#bd3786"
            ],
            [
             0.5555555555555556,
             "#d8576b"
            ],
            [
             0.6666666666666666,
             "#ed7953"
            ],
            [
             0.7777777777777778,
             "#fb9f3a"
            ],
            [
             0.8888888888888888,
             "#fdca26"
            ],
            [
             1,
             "#f0f921"
            ]
           ],
           "sequentialminus": [
            [
             0,
             "#0d0887"
            ],
            [
             0.1111111111111111,
             "#46039f"
            ],
            [
             0.2222222222222222,
             "#7201a8"
            ],
            [
             0.3333333333333333,
             "#9c179e"
            ],
            [
             0.4444444444444444,
             "#bd3786"
            ],
            [
             0.5555555555555556,
             "#d8576b"
            ],
            [
             0.6666666666666666,
             "#ed7953"
            ],
            [
             0.7777777777777778,
             "#fb9f3a"
            ],
            [
             0.8888888888888888,
             "#fdca26"
            ],
            [
             1,
             "#f0f921"
            ]
           ]
          },
          "colorway": [
           "#636efa",
           "#EF553B",
           "#00cc96",
           "#ab63fa",
           "#FFA15A",
           "#19d3f3",
           "#FF6692",
           "#B6E880",
           "#FF97FF",
           "#FECB52"
          ],
          "font": {
           "color": "#2a3f5f"
          },
          "geo": {
           "bgcolor": "white",
           "lakecolor": "white",
           "landcolor": "#E5ECF6",
           "showlakes": true,
           "showland": true,
           "subunitcolor": "white"
          },
          "hoverlabel": {
           "align": "left"
          },
          "hovermode": "closest",
          "mapbox": {
           "style": "light"
          },
          "paper_bgcolor": "white",
          "plot_bgcolor": "#E5ECF6",
          "polar": {
           "angularaxis": {
            "gridcolor": "white",
            "linecolor": "white",
            "ticks": ""
           },
           "bgcolor": "#E5ECF6",
           "radialaxis": {
            "gridcolor": "white",
            "linecolor": "white",
            "ticks": ""
           }
          },
          "scene": {
           "xaxis": {
            "backgroundcolor": "#E5ECF6",
            "gridcolor": "white",
            "gridwidth": 2,
            "linecolor": "white",
            "showbackground": true,
            "ticks": "",
            "zerolinecolor": "white"
           },
           "yaxis": {
            "backgroundcolor": "#E5ECF6",
            "gridcolor": "white",
            "gridwidth": 2,
            "linecolor": "white",
            "showbackground": true,
            "ticks": "",
            "zerolinecolor": "white"
           },
           "zaxis": {
            "backgroundcolor": "#E5ECF6",
            "gridcolor": "white",
            "gridwidth": 2,
            "linecolor": "white",
            "showbackground": true,
            "ticks": "",
            "zerolinecolor": "white"
           }
          },
          "shapedefaults": {
           "line": {
            "color": "#2a3f5f"
           }
          },
          "ternary": {
           "aaxis": {
            "gridcolor": "white",
            "linecolor": "white",
            "ticks": ""
           },
           "baxis": {
            "gridcolor": "white",
            "linecolor": "white",
            "ticks": ""
           },
           "bgcolor": "#E5ECF6",
           "caxis": {
            "gridcolor": "white",
            "linecolor": "white",
            "ticks": ""
           }
          },
          "title": {
           "x": 0.05
          },
          "xaxis": {
           "automargin": true,
           "gridcolor": "white",
           "linecolor": "white",
           "ticks": "",
           "title": {
            "standoff": 15
           },
           "zerolinecolor": "white",
           "zerolinewidth": 2
          },
          "yaxis": {
           "automargin": true,
           "gridcolor": "white",
           "linecolor": "white",
           "ticks": "",
           "title": {
            "standoff": 15
           },
           "zerolinecolor": "white",
           "zerolinewidth": 2
          }
         }
        },
        "title": {
         "text": "Slice Plot"
        },
        "width": 2400,
        "xaxis": {
         "anchor": "y",
         "categoryarray": [
          true,
          false
         ],
         "categoryorder": "array",
         "domain": [
          0,
          0.103125
         ],
         "title": {
          "text": "include_htf_poi_ltf_confirmation"
         },
         "type": "category"
        },
        "xaxis2": {
         "anchor": "y2",
         "categoryarray": [
          true,
          false
         ],
         "categoryorder": "array",
         "domain": [
          0.128125,
          0.23124999999999998
         ],
         "title": {
          "text": "include_type_1_m5"
         },
         "type": "category"
        },
        "xaxis3": {
         "anchor": "y3",
         "categoryarray": [
          true,
          false
         ],
         "categoryorder": "array",
         "domain": [
          0.25625,
          0.359375
         ],
         "title": {
          "text": "include_type_2_m5"
         },
         "type": "category"
        },
        "xaxis4": {
         "anchor": "y4",
         "categoryarray": [
          true,
          false
         ],
         "categoryorder": "array",
         "domain": [
          0.38437499999999997,
          0.48749999999999993
         ],
         "title": {
          "text": "include_type_3_m5"
         },
         "type": "category"
        },
        "xaxis5": {
         "anchor": "y5",
         "categoryarray": [
          true,
          false
         ],
         "categoryorder": "array",
         "domain": [
          0.5125,
          0.615625
         ],
         "title": {
          "text": "value_htf_poi_ltf_confirmation"
         },
         "type": "category"
        },
        "xaxis6": {
         "anchor": "y6",
         "categoryarray": [
          false,
          true
         ],
         "categoryorder": "array",
         "domain": [
          0.640625,
          0.74375
         ],
         "title": {
          "text": "value_type_1_m5"
         },
         "type": "category"
        },
        "xaxis7": {
         "anchor": "y7",
         "categoryarray": [
          false,
          true
         ],
         "categoryorder": "array",
         "domain": [
          0.7687499999999999,
          0.871875
         ],
         "title": {
          "text": "value_type_2_m5"
         },
         "type": "category"
        },
        "xaxis8": {
         "anchor": "y8",
         "categoryarray": [
          false,
          true
         ],
         "categoryorder": "array",
         "domain": [
          0.896875,
          1
         ],
         "title": {
          "text": "value_type_3_m5"
         },
         "type": "category"
        },
        "yaxis": {
         "anchor": "x",
         "domain": [
          0,
          1
         ],
         "title": {
          "text": "Objective Value"
         }
        },
        "yaxis2": {
         "anchor": "x2",
         "domain": [
          0,
          1
         ],
         "matches": "y",
         "showticklabels": false
        },
        "yaxis3": {
         "anchor": "x3",
         "domain": [
          0,
          1
         ],
         "matches": "y",
         "showticklabels": false
        },
        "yaxis4": {
         "anchor": "x4",
         "domain": [
          0,
          1
         ],
         "matches": "y",
         "showticklabels": false
        },
        "yaxis5": {
         "anchor": "x5",
         "domain": [
          0,
          1
         ],
         "matches": "y",
         "showticklabels": false
        },
        "yaxis6": {
         "anchor": "x6",
         "domain": [
          0,
          1
         ],
         "matches": "y",
         "showticklabels": false
        },
        "yaxis7": {
         "anchor": "x7",
         "domain": [
          0,
          1
         ],
         "matches": "y",
         "showticklabels": false
        },
        "yaxis8": {
         "anchor": "x8",
         "domain": [
          0,
          1
         ],
         "matches": "y",
         "showticklabels": false
        }
       }
      }
     },
     "metadata": {},
     "output_type": "display_data"
    }
   ],
   "source": [
    "# visualize stuff\n",
    "import optuna\n",
    "import plotly\n",
    "from optuna.visualization import plot_optimization_history\n",
    "from optuna.visualization import plot_slice\n",
    "from optuna.visualization import plot_param_importances\n",
    "\n",
    "# disable optuna warnings\n",
    "optuna.logging.set_verbosity(optuna.logging.ERROR)\n",
    "\n",
    "plot_optimization_history(study).show()\n",
    "plot_param_importances(study).show()\n",
    "plot_slice(study).show()"
   ]
  },
  {
   "cell_type": "code",
   "execution_count": 727,
   "metadata": {},
   "outputs": [],
   "source": [
    "!rm -rf output/studies.md\n",
    "import pprint\n",
    "def markdown_report_study(study:optuna.Study, output_dir='output'):\n",
    "    SECTION_OPTUNA_STUDIES = '## Optuna Studies'\n",
    "    SECTION_BEST_TRIAL = f'### {study.study_name} - {study.best_trial.number}'\n",
    "    GENERATION_TIME = datetime.now().strftime('%Y-%m-%d %H:%M:%S')\n",
    "    \n",
    "    best_trial = study.best_trial\n",
    "    best_trial_params = best_trial.params\n",
    "    best_trial_value = best_trial.value\n",
    "    best_trial_number = best_trial.number\n",
    "    best_trial_number\n",
    "    best_trial_params\n",
    "    best_trial_value\n",
    "    # add the params as nicely formatted json inside code block\n",
    "    best_trial_params_str = f'''\n",
    "```json\n",
    "{pprint.pformat(best_trial_params)}\n",
    "```\n",
    "''' \n",
    "    \n",
    "    best_trial_str = f'''\n",
    "{SECTION_BEST_TRIAL}\n",
    "- generation time: {GENERATION_TIME}\n",
    "- best trial value: {best_trial_value}\n",
    "- best trial params: {best_trial_params_str}\n",
    "'''\n",
    "    with open(f'{output_dir}/studies.md', 'a') as f:\n",
    "        f.write(best_trial_str)\n",
    "\n",
    "    \n",
    "    # find the section or create it and add md link to the best trial in the study\n",
    "    with open(f'{output_dir}/index.md', 'r') as f:\n",
    "        lines = f.readlines()\n",
    "        found = False\n",
    "        for i, line in enumerate(lines):\n",
    "            if SECTION_OPTUNA_STUDIES in line:\n",
    "                found = True\n",
    "                break\n",
    "        if not found:\n",
    "            lines.append(f'\\n{SECTION_OPTUNA_STUDIES}\\n')\n",
    "        lines.append(f'- [[studies.md{SECTION_BEST_TRIAL}]]\\n')\n",
    "    with open(f'{output_dir}/index.md', 'w') as f:\n",
    "        f.write(''.join(lines))\n",
    "        \n",
    "\n",
    "markdown_report_study(study, output_dir='output')"
   ]
  },
  {
   "cell_type": "code",
   "execution_count": 728,
   "metadata": {},
   "outputs": [
    {
     "name": "stdout",
     "output_type": "stream",
     "text": [
      "['SL_distance' 'TP_distance' 'account' 'account_name' 'close_price'\n",
      " 'entry_price' 'entry_time' 'has_time_frame' 'has_type_1' 'has_type_2'\n",
      " 'has_type_3' 'htf_poi_ltf_confirmation' 'htf_poi_ltf_confirmation_False'\n",
      " 'htf_poi_ltf_confirmation_True' 'initial_return' 'initial_risk_reward'\n",
      " 'management_strategy' 'management_strategy_be_after_1r'\n",
      " 'management_strategy_be_after_push' 'management_strategy_no_management'\n",
      " 'management_strategy_strategy_2' 'numerical_confidence' 'outcome'\n",
      " 'outcome_be' 'outcome_loss' 'outcome_win' 'potential_price'\n",
      " 'potential_return' 'potential_risk_reward' 'return_points' 'rr' 'session'\n",
      " 'side' 'sl_price' 'tp_price' 'trade_uid' 'type_1_M' 'type_1_d'\n",
      " 'type_1_h1' 'type_1_h4' 'type_1_m1' 'type_1_m15' 'type_1_m30' 'type_1_m5'\n",
      " 'type_1_w' 'type_2_M' 'type_2_d' 'type_2_h1' 'type_2_h4' 'type_2_m1'\n",
      " 'type_2_m15' 'type_2_m30' 'type_2_m5' 'type_2_w' 'type_3_M' 'type_3_d'\n",
      " 'type_3_h1' 'type_3_h4' 'type_3_m1' 'type_3_m15' 'type_3_m30' 'type_3_m5'\n",
      " 'type_3_w' 'unit_test']\n"
     ]
    },
    {
     "data": {
      "text/html": [
       "<div>\n",
       "<style scoped>\n",
       "    .dataframe tbody tr th:only-of-type {\n",
       "        vertical-align: middle;\n",
       "    }\n",
       "\n",
       "    .dataframe tbody tr th {\n",
       "        vertical-align: top;\n",
       "    }\n",
       "\n",
       "    .dataframe thead th {\n",
       "        text-align: right;\n",
       "    }\n",
       "</style>\n",
       "<table border=\"1\" class=\"dataframe\">\n",
       "  <thead>\n",
       "    <tr style=\"text-align: right;\">\n",
       "      <th></th>\n",
       "      <th>trade_uid</th>\n",
       "      <th>outcome</th>\n",
       "      <th>potential_risk_reward</th>\n",
       "      <th>TP_distance</th>\n",
       "      <th>type_3_m30</th>\n",
       "      <th>side</th>\n",
       "      <th>initial_risk_reward</th>\n",
       "      <th>type_3_d</th>\n",
       "      <th>type_3_M</th>\n",
       "      <th>potential_return</th>\n",
       "      <th>type_2_m15</th>\n",
       "      <th>type_3_h4</th>\n",
       "      <th>entry_price</th>\n",
       "      <th>type_3_m1</th>\n",
       "      <th>type_3_w</th>\n",
       "      <th>unit_test</th>\n",
       "      <th>type_1_m5</th>\n",
       "      <th>type_1_m30</th>\n",
       "      <th>rr</th>\n",
       "      <th>type_1_h1</th>\n",
       "      <th>type_3_m5</th>\n",
       "      <th>session</th>\n",
       "      <th>type_2_h1</th>\n",
       "      <th>type_2_m1</th>\n",
       "      <th>close_price</th>\n",
       "      <th>type_2_h4</th>\n",
       "      <th>initial_return</th>\n",
       "      <th>numerical_confidence</th>\n",
       "      <th>type_3_m15</th>\n",
       "      <th>type_1_M</th>\n",
       "      <th>return_points</th>\n",
       "      <th>account_name</th>\n",
       "      <th>type_1_w</th>\n",
       "      <th>type_2_m30</th>\n",
       "      <th>type_2_d</th>\n",
       "      <th>account</th>\n",
       "      <th>potential_price</th>\n",
       "      <th>tp_price</th>\n",
       "      <th>type_2_w</th>\n",
       "      <th>type_2_m5</th>\n",
       "      <th>SL_distance</th>\n",
       "      <th>type_3_h1</th>\n",
       "      <th>type_1_d</th>\n",
       "      <th>type_1_m1</th>\n",
       "      <th>type_2_M</th>\n",
       "      <th>entry_time</th>\n",
       "      <th>type_1_h4</th>\n",
       "      <th>type_1_m15</th>\n",
       "      <th>management_strategy</th>\n",
       "      <th>sl_price</th>\n",
       "      <th>htf_poi_ltf_confirmation</th>\n",
       "      <th>htf_poi_ltf_confirmation_False</th>\n",
       "      <th>htf_poi_ltf_confirmation_True</th>\n",
       "      <th>management_strategy_be_after_1r</th>\n",
       "      <th>management_strategy_be_after_push</th>\n",
       "      <th>management_strategy_no_management</th>\n",
       "      <th>management_strategy_strategy_2</th>\n",
       "      <th>outcome_be</th>\n",
       "      <th>outcome_loss</th>\n",
       "      <th>outcome_win</th>\n",
       "      <th>has_type_1</th>\n",
       "      <th>has_type_2</th>\n",
       "      <th>has_type_3</th>\n",
       "      <th>has_time_frame</th>\n",
       "    </tr>\n",
       "  </thead>\n",
       "  <tbody>\n",
       "    <tr>\n",
       "      <th>4</th>\n",
       "      <td>1005</td>\n",
       "      <td>loss</td>\n",
       "      <td>NaN</td>\n",
       "      <td>-0.023222</td>\n",
       "      <td>False</td>\n",
       "      <td>short</td>\n",
       "      <td>4.644407</td>\n",
       "      <td>False</td>\n",
       "      <td>False</td>\n",
       "      <td>NaN</td>\n",
       "      <td>False</td>\n",
       "      <td>False</td>\n",
       "      <td>1.1204</td>\n",
       "      <td>True</td>\n",
       "      <td>False</td>\n",
       "      <td>True</td>\n",
       "      <td>False</td>\n",
       "      <td>False</td>\n",
       "      <td>-1.05</td>\n",
       "      <td>False</td>\n",
       "      <td>False</td>\n",
       "      <td>tokyo</td>\n",
       "      <td>False</td>\n",
       "      <td>False</td>\n",
       "      <td>1.12565</td>\n",
       "      <td>False</td>\n",
       "      <td>-0.023222</td>\n",
       "      <td>5.0</td>\n",
       "      <td>False</td>\n",
       "      <td>False</td>\n",
       "      <td>0.00525</td>\n",
       "      <td>None</td>\n",
       "      <td>False</td>\n",
       "      <td>False</td>\n",
       "      <td>True</td>\n",
       "      <td>test_account</td>\n",
       "      <td>NaN</td>\n",
       "      <td>1.097178</td>\n",
       "      <td>False</td>\n",
       "      <td>False</td>\n",
       "      <td>-0.005</td>\n",
       "      <td>False</td>\n",
       "      <td>True</td>\n",
       "      <td>False</td>\n",
       "      <td>False</td>\n",
       "      <td>2025-01-07 01:27:23.603112923</td>\n",
       "      <td>False</td>\n",
       "      <td>False</td>\n",
       "      <td>be_after_1r</td>\n",
       "      <td>1.1254</td>\n",
       "      <td>True</td>\n",
       "      <td>False</td>\n",
       "      <td>True</td>\n",
       "      <td>True</td>\n",
       "      <td>False</td>\n",
       "      <td>False</td>\n",
       "      <td>False</td>\n",
       "      <td>False</td>\n",
       "      <td>True</td>\n",
       "      <td>False</td>\n",
       "      <td>True</td>\n",
       "      <td>True</td>\n",
       "      <td>True</td>\n",
       "      <td>False</td>\n",
       "    </tr>\n",
       "    <tr>\n",
       "      <th>5</th>\n",
       "      <td>1006</td>\n",
       "      <td>win</td>\n",
       "      <td>NaN</td>\n",
       "      <td>-0.049427</td>\n",
       "      <td>False</td>\n",
       "      <td>short</td>\n",
       "      <td>9.885333</td>\n",
       "      <td>False</td>\n",
       "      <td>False</td>\n",
       "      <td>NaN</td>\n",
       "      <td>True</td>\n",
       "      <td>False</td>\n",
       "      <td>1.1347</td>\n",
       "      <td>False</td>\n",
       "      <td>False</td>\n",
       "      <td>True</td>\n",
       "      <td>False</td>\n",
       "      <td>False</td>\n",
       "      <td>7.05</td>\n",
       "      <td>True</td>\n",
       "      <td>True</td>\n",
       "      <td>tokyo</td>\n",
       "      <td>False</td>\n",
       "      <td>False</td>\n",
       "      <td>1.09945</td>\n",
       "      <td>False</td>\n",
       "      <td>-0.049427</td>\n",
       "      <td>1.0</td>\n",
       "      <td>False</td>\n",
       "      <td>False</td>\n",
       "      <td>-0.03525</td>\n",
       "      <td>None</td>\n",
       "      <td>False</td>\n",
       "      <td>False</td>\n",
       "      <td>False</td>\n",
       "      <td>test_account</td>\n",
       "      <td>NaN</td>\n",
       "      <td>1.085273</td>\n",
       "      <td>False</td>\n",
       "      <td>False</td>\n",
       "      <td>-0.005</td>\n",
       "      <td>False</td>\n",
       "      <td>False</td>\n",
       "      <td>False</td>\n",
       "      <td>False</td>\n",
       "      <td>2025-01-05 00:11:25.857897362</td>\n",
       "      <td>False</td>\n",
       "      <td>False</td>\n",
       "      <td>be_after_push</td>\n",
       "      <td>1.1397</td>\n",
       "      <td>True</td>\n",
       "      <td>False</td>\n",
       "      <td>True</td>\n",
       "      <td>False</td>\n",
       "      <td>True</td>\n",
       "      <td>False</td>\n",
       "      <td>False</td>\n",
       "      <td>False</td>\n",
       "      <td>False</td>\n",
       "      <td>True</td>\n",
       "      <td>True</td>\n",
       "      <td>True</td>\n",
       "      <td>True</td>\n",
       "      <td>False</td>\n",
       "    </tr>\n",
       "    <tr>\n",
       "      <th>6</th>\n",
       "      <td>1007</td>\n",
       "      <td>be</td>\n",
       "      <td>NaN</td>\n",
       "      <td>-0.032490</td>\n",
       "      <td>False</td>\n",
       "      <td>short</td>\n",
       "      <td>6.497983</td>\n",
       "      <td>False</td>\n",
       "      <td>False</td>\n",
       "      <td>NaN</td>\n",
       "      <td>False</td>\n",
       "      <td>False</td>\n",
       "      <td>1.1242</td>\n",
       "      <td>False</td>\n",
       "      <td>False</td>\n",
       "      <td>True</td>\n",
       "      <td>False</td>\n",
       "      <td>False</td>\n",
       "      <td>-0.05</td>\n",
       "      <td>False</td>\n",
       "      <td>True</td>\n",
       "      <td>tokyo</td>\n",
       "      <td>False</td>\n",
       "      <td>False</td>\n",
       "      <td>1.12445</td>\n",
       "      <td>False</td>\n",
       "      <td>-0.032490</td>\n",
       "      <td>1.0</td>\n",
       "      <td>False</td>\n",
       "      <td>False</td>\n",
       "      <td>0.00025</td>\n",
       "      <td>None</td>\n",
       "      <td>True</td>\n",
       "      <td>False</td>\n",
       "      <td>False</td>\n",
       "      <td>test_account</td>\n",
       "      <td>NaN</td>\n",
       "      <td>1.091710</td>\n",
       "      <td>False</td>\n",
       "      <td>False</td>\n",
       "      <td>-0.005</td>\n",
       "      <td>False</td>\n",
       "      <td>False</td>\n",
       "      <td>False</td>\n",
       "      <td>True</td>\n",
       "      <td>2025-01-10 00:50:05.722141527</td>\n",
       "      <td>False</td>\n",
       "      <td>False</td>\n",
       "      <td>no_management</td>\n",
       "      <td>1.1292</td>\n",
       "      <td>False</td>\n",
       "      <td>True</td>\n",
       "      <td>False</td>\n",
       "      <td>False</td>\n",
       "      <td>False</td>\n",
       "      <td>True</td>\n",
       "      <td>False</td>\n",
       "      <td>True</td>\n",
       "      <td>False</td>\n",
       "      <td>False</td>\n",
       "      <td>True</td>\n",
       "      <td>True</td>\n",
       "      <td>True</td>\n",
       "      <td>False</td>\n",
       "    </tr>\n",
       "    <tr>\n",
       "      <th>7</th>\n",
       "      <td>1008</td>\n",
       "      <td>win</td>\n",
       "      <td>NaN</td>\n",
       "      <td>-0.015976</td>\n",
       "      <td>False</td>\n",
       "      <td>short</td>\n",
       "      <td>3.195198</td>\n",
       "      <td>False</td>\n",
       "      <td>False</td>\n",
       "      <td>NaN</td>\n",
       "      <td>False</td>\n",
       "      <td>False</td>\n",
       "      <td>1.1345</td>\n",
       "      <td>True</td>\n",
       "      <td>False</td>\n",
       "      <td>True</td>\n",
       "      <td>True</td>\n",
       "      <td>False</td>\n",
       "      <td>8.70</td>\n",
       "      <td>False</td>\n",
       "      <td>False</td>\n",
       "      <td>tokyo</td>\n",
       "      <td>False</td>\n",
       "      <td>False</td>\n",
       "      <td>1.09100</td>\n",
       "      <td>False</td>\n",
       "      <td>-0.015976</td>\n",
       "      <td>2.0</td>\n",
       "      <td>False</td>\n",
       "      <td>False</td>\n",
       "      <td>-0.04350</td>\n",
       "      <td>None</td>\n",
       "      <td>False</td>\n",
       "      <td>False</td>\n",
       "      <td>True</td>\n",
       "      <td>test_account</td>\n",
       "      <td>NaN</td>\n",
       "      <td>1.118524</td>\n",
       "      <td>False</td>\n",
       "      <td>False</td>\n",
       "      <td>-0.005</td>\n",
       "      <td>False</td>\n",
       "      <td>False</td>\n",
       "      <td>False</td>\n",
       "      <td>False</td>\n",
       "      <td>2025-01-24 23:20:24.283296430</td>\n",
       "      <td>False</td>\n",
       "      <td>False</td>\n",
       "      <td>be_after_1r</td>\n",
       "      <td>1.1395</td>\n",
       "      <td>True</td>\n",
       "      <td>False</td>\n",
       "      <td>True</td>\n",
       "      <td>True</td>\n",
       "      <td>False</td>\n",
       "      <td>False</td>\n",
       "      <td>False</td>\n",
       "      <td>False</td>\n",
       "      <td>False</td>\n",
       "      <td>True</td>\n",
       "      <td>True</td>\n",
       "      <td>True</td>\n",
       "      <td>True</td>\n",
       "      <td>False</td>\n",
       "    </tr>\n",
       "    <tr>\n",
       "      <th>8</th>\n",
       "      <td>1009</td>\n",
       "      <td>loss</td>\n",
       "      <td>NaN</td>\n",
       "      <td>-0.044379</td>\n",
       "      <td>False</td>\n",
       "      <td>short</td>\n",
       "      <td>8.875786</td>\n",
       "      <td>False</td>\n",
       "      <td>False</td>\n",
       "      <td>NaN</td>\n",
       "      <td>False</td>\n",
       "      <td>False</td>\n",
       "      <td>1.1132</td>\n",
       "      <td>False</td>\n",
       "      <td>False</td>\n",
       "      <td>True</td>\n",
       "      <td>False</td>\n",
       "      <td>False</td>\n",
       "      <td>-0.77</td>\n",
       "      <td>False</td>\n",
       "      <td>True</td>\n",
       "      <td>tokyo</td>\n",
       "      <td>False</td>\n",
       "      <td>False</td>\n",
       "      <td>1.11705</td>\n",
       "      <td>False</td>\n",
       "      <td>-0.044379</td>\n",
       "      <td>1.0</td>\n",
       "      <td>False</td>\n",
       "      <td>True</td>\n",
       "      <td>0.00385</td>\n",
       "      <td>None</td>\n",
       "      <td>False</td>\n",
       "      <td>False</td>\n",
       "      <td>False</td>\n",
       "      <td>test_account</td>\n",
       "      <td>NaN</td>\n",
       "      <td>1.068821</td>\n",
       "      <td>True</td>\n",
       "      <td>False</td>\n",
       "      <td>-0.005</td>\n",
       "      <td>False</td>\n",
       "      <td>False</td>\n",
       "      <td>False</td>\n",
       "      <td>False</td>\n",
       "      <td>2025-01-12 23:58:56.190823963</td>\n",
       "      <td>False</td>\n",
       "      <td>False</td>\n",
       "      <td>be_after_push</td>\n",
       "      <td>1.1182</td>\n",
       "      <td>False</td>\n",
       "      <td>True</td>\n",
       "      <td>False</td>\n",
       "      <td>False</td>\n",
       "      <td>True</td>\n",
       "      <td>False</td>\n",
       "      <td>False</td>\n",
       "      <td>False</td>\n",
       "      <td>True</td>\n",
       "      <td>False</td>\n",
       "      <td>True</td>\n",
       "      <td>True</td>\n",
       "      <td>True</td>\n",
       "      <td>False</td>\n",
       "    </tr>\n",
       "    <tr>\n",
       "      <th>9</th>\n",
       "      <td>1010</td>\n",
       "      <td>loss</td>\n",
       "      <td>NaN</td>\n",
       "      <td>-0.009123</td>\n",
       "      <td>False</td>\n",
       "      <td>short</td>\n",
       "      <td>1.824689</td>\n",
       "      <td>False</td>\n",
       "      <td>True</td>\n",
       "      <td>NaN</td>\n",
       "      <td>False</td>\n",
       "      <td>False</td>\n",
       "      <td>1.1335</td>\n",
       "      <td>False</td>\n",
       "      <td>False</td>\n",
       "      <td>True</td>\n",
       "      <td>False</td>\n",
       "      <td>False</td>\n",
       "      <td>-1.02</td>\n",
       "      <td>False</td>\n",
       "      <td>False</td>\n",
       "      <td>tokyo</td>\n",
       "      <td>False</td>\n",
       "      <td>False</td>\n",
       "      <td>1.13860</td>\n",
       "      <td>False</td>\n",
       "      <td>-0.009123</td>\n",
       "      <td>2.0</td>\n",
       "      <td>False</td>\n",
       "      <td>True</td>\n",
       "      <td>0.00510</td>\n",
       "      <td>None</td>\n",
       "      <td>False</td>\n",
       "      <td>True</td>\n",
       "      <td>False</td>\n",
       "      <td>test_account</td>\n",
       "      <td>NaN</td>\n",
       "      <td>1.124377</td>\n",
       "      <td>False</td>\n",
       "      <td>False</td>\n",
       "      <td>-0.005</td>\n",
       "      <td>False</td>\n",
       "      <td>False</td>\n",
       "      <td>False</td>\n",
       "      <td>False</td>\n",
       "      <td>2025-01-05 00:58:51.544468002</td>\n",
       "      <td>False</td>\n",
       "      <td>False</td>\n",
       "      <td>be_after_1r</td>\n",
       "      <td>1.1385</td>\n",
       "      <td>True</td>\n",
       "      <td>False</td>\n",
       "      <td>True</td>\n",
       "      <td>True</td>\n",
       "      <td>False</td>\n",
       "      <td>False</td>\n",
       "      <td>False</td>\n",
       "      <td>False</td>\n",
       "      <td>True</td>\n",
       "      <td>False</td>\n",
       "      <td>True</td>\n",
       "      <td>True</td>\n",
       "      <td>True</td>\n",
       "      <td>False</td>\n",
       "    </tr>\n",
       "    <tr>\n",
       "      <th>10</th>\n",
       "      <td>1011</td>\n",
       "      <td>loss</td>\n",
       "      <td>NaN</td>\n",
       "      <td>0.044455</td>\n",
       "      <td>False</td>\n",
       "      <td>long</td>\n",
       "      <td>8.890933</td>\n",
       "      <td>False</td>\n",
       "      <td>False</td>\n",
       "      <td>NaN</td>\n",
       "      <td>False</td>\n",
       "      <td>False</td>\n",
       "      <td>1.1128</td>\n",
       "      <td>False</td>\n",
       "      <td>True</td>\n",
       "      <td>True</td>\n",
       "      <td>False</td>\n",
       "      <td>False</td>\n",
       "      <td>-0.24</td>\n",
       "      <td>False</td>\n",
       "      <td>False</td>\n",
       "      <td>tokyo</td>\n",
       "      <td>True</td>\n",
       "      <td>False</td>\n",
       "      <td>1.11160</td>\n",
       "      <td>False</td>\n",
       "      <td>0.044455</td>\n",
       "      <td>5.0</td>\n",
       "      <td>False</td>\n",
       "      <td>False</td>\n",
       "      <td>-0.00120</td>\n",
       "      <td>None</td>\n",
       "      <td>False</td>\n",
       "      <td>False</td>\n",
       "      <td>False</td>\n",
       "      <td>test_account</td>\n",
       "      <td>NaN</td>\n",
       "      <td>1.157255</td>\n",
       "      <td>False</td>\n",
       "      <td>False</td>\n",
       "      <td>0.005</td>\n",
       "      <td>False</td>\n",
       "      <td>False</td>\n",
       "      <td>True</td>\n",
       "      <td>False</td>\n",
       "      <td>2025-01-22 01:21:14.598694243</td>\n",
       "      <td>False</td>\n",
       "      <td>False</td>\n",
       "      <td>be_after_1r</td>\n",
       "      <td>1.1078</td>\n",
       "      <td>False</td>\n",
       "      <td>True</td>\n",
       "      <td>False</td>\n",
       "      <td>True</td>\n",
       "      <td>False</td>\n",
       "      <td>False</td>\n",
       "      <td>False</td>\n",
       "      <td>False</td>\n",
       "      <td>True</td>\n",
       "      <td>False</td>\n",
       "      <td>True</td>\n",
       "      <td>True</td>\n",
       "      <td>True</td>\n",
       "      <td>False</td>\n",
       "    </tr>\n",
       "    <tr>\n",
       "      <th>11</th>\n",
       "      <td>1012</td>\n",
       "      <td>win</td>\n",
       "      <td>NaN</td>\n",
       "      <td>-0.008707</td>\n",
       "      <td>False</td>\n",
       "      <td>short</td>\n",
       "      <td>1.741357</td>\n",
       "      <td>False</td>\n",
       "      <td>False</td>\n",
       "      <td>NaN</td>\n",
       "      <td>False</td>\n",
       "      <td>False</td>\n",
       "      <td>1.1280</td>\n",
       "      <td>False</td>\n",
       "      <td>False</td>\n",
       "      <td>True</td>\n",
       "      <td>False</td>\n",
       "      <td>True</td>\n",
       "      <td>4.86</td>\n",
       "      <td>False</td>\n",
       "      <td>False</td>\n",
       "      <td>tokyo</td>\n",
       "      <td>False</td>\n",
       "      <td>False</td>\n",
       "      <td>1.10370</td>\n",
       "      <td>False</td>\n",
       "      <td>-0.008707</td>\n",
       "      <td>2.0</td>\n",
       "      <td>False</td>\n",
       "      <td>False</td>\n",
       "      <td>-0.02430</td>\n",
       "      <td>None</td>\n",
       "      <td>False</td>\n",
       "      <td>False</td>\n",
       "      <td>True</td>\n",
       "      <td>test_account</td>\n",
       "      <td>NaN</td>\n",
       "      <td>1.119293</td>\n",
       "      <td>False</td>\n",
       "      <td>False</td>\n",
       "      <td>-0.005</td>\n",
       "      <td>True</td>\n",
       "      <td>False</td>\n",
       "      <td>False</td>\n",
       "      <td>False</td>\n",
       "      <td>2025-01-23 01:00:24.308085292</td>\n",
       "      <td>False</td>\n",
       "      <td>False</td>\n",
       "      <td>no_management</td>\n",
       "      <td>1.1330</td>\n",
       "      <td>True</td>\n",
       "      <td>False</td>\n",
       "      <td>True</td>\n",
       "      <td>False</td>\n",
       "      <td>False</td>\n",
       "      <td>True</td>\n",
       "      <td>False</td>\n",
       "      <td>False</td>\n",
       "      <td>False</td>\n",
       "      <td>True</td>\n",
       "      <td>True</td>\n",
       "      <td>True</td>\n",
       "      <td>True</td>\n",
       "      <td>False</td>\n",
       "    </tr>\n",
       "    <tr>\n",
       "      <th>12</th>\n",
       "      <td>1013</td>\n",
       "      <td>loss</td>\n",
       "      <td>NaN</td>\n",
       "      <td>0.019964</td>\n",
       "      <td>True</td>\n",
       "      <td>long</td>\n",
       "      <td>3.992825</td>\n",
       "      <td>False</td>\n",
       "      <td>False</td>\n",
       "      <td>NaN</td>\n",
       "      <td>False</td>\n",
       "      <td>False</td>\n",
       "      <td>1.1249</td>\n",
       "      <td>False</td>\n",
       "      <td>False</td>\n",
       "      <td>True</td>\n",
       "      <td>False</td>\n",
       "      <td>False</td>\n",
       "      <td>-1.35</td>\n",
       "      <td>True</td>\n",
       "      <td>False</td>\n",
       "      <td>tokyo</td>\n",
       "      <td>False</td>\n",
       "      <td>False</td>\n",
       "      <td>1.11815</td>\n",
       "      <td>False</td>\n",
       "      <td>0.019964</td>\n",
       "      <td>1.0</td>\n",
       "      <td>False</td>\n",
       "      <td>False</td>\n",
       "      <td>-0.00675</td>\n",
       "      <td>None</td>\n",
       "      <td>False</td>\n",
       "      <td>False</td>\n",
       "      <td>False</td>\n",
       "      <td>test_account</td>\n",
       "      <td>NaN</td>\n",
       "      <td>1.144864</td>\n",
       "      <td>False</td>\n",
       "      <td>True</td>\n",
       "      <td>0.005</td>\n",
       "      <td>False</td>\n",
       "      <td>False</td>\n",
       "      <td>False</td>\n",
       "      <td>False</td>\n",
       "      <td>2025-01-23 00:04:51.295959106</td>\n",
       "      <td>False</td>\n",
       "      <td>False</td>\n",
       "      <td>no_management</td>\n",
       "      <td>1.1199</td>\n",
       "      <td>True</td>\n",
       "      <td>False</td>\n",
       "      <td>True</td>\n",
       "      <td>False</td>\n",
       "      <td>False</td>\n",
       "      <td>True</td>\n",
       "      <td>False</td>\n",
       "      <td>False</td>\n",
       "      <td>True</td>\n",
       "      <td>False</td>\n",
       "      <td>True</td>\n",
       "      <td>True</td>\n",
       "      <td>True</td>\n",
       "      <td>False</td>\n",
       "    </tr>\n",
       "    <tr>\n",
       "      <th>13</th>\n",
       "      <td>1014</td>\n",
       "      <td>win</td>\n",
       "      <td>NaN</td>\n",
       "      <td>0.022604</td>\n",
       "      <td>True</td>\n",
       "      <td>long</td>\n",
       "      <td>4.520885</td>\n",
       "      <td>False</td>\n",
       "      <td>False</td>\n",
       "      <td>NaN</td>\n",
       "      <td>False</td>\n",
       "      <td>False</td>\n",
       "      <td>1.1343</td>\n",
       "      <td>False</td>\n",
       "      <td>False</td>\n",
       "      <td>True</td>\n",
       "      <td>False</td>\n",
       "      <td>False</td>\n",
       "      <td>9.81</td>\n",
       "      <td>False</td>\n",
       "      <td>False</td>\n",
       "      <td>tokyo</td>\n",
       "      <td>False</td>\n",
       "      <td>False</td>\n",
       "      <td>1.18335</td>\n",
       "      <td>False</td>\n",
       "      <td>0.022604</td>\n",
       "      <td>2.0</td>\n",
       "      <td>False</td>\n",
       "      <td>False</td>\n",
       "      <td>0.04905</td>\n",
       "      <td>None</td>\n",
       "      <td>False</td>\n",
       "      <td>False</td>\n",
       "      <td>False</td>\n",
       "      <td>test_account</td>\n",
       "      <td>NaN</td>\n",
       "      <td>1.156904</td>\n",
       "      <td>False</td>\n",
       "      <td>True</td>\n",
       "      <td>0.005</td>\n",
       "      <td>False</td>\n",
       "      <td>False</td>\n",
       "      <td>True</td>\n",
       "      <td>False</td>\n",
       "      <td>2025-01-14 23:19:09.268751494</td>\n",
       "      <td>False</td>\n",
       "      <td>False</td>\n",
       "      <td>be_after_1r</td>\n",
       "      <td>1.1293</td>\n",
       "      <td>True</td>\n",
       "      <td>False</td>\n",
       "      <td>True</td>\n",
       "      <td>True</td>\n",
       "      <td>False</td>\n",
       "      <td>False</td>\n",
       "      <td>False</td>\n",
       "      <td>False</td>\n",
       "      <td>False</td>\n",
       "      <td>True</td>\n",
       "      <td>True</td>\n",
       "      <td>True</td>\n",
       "      <td>True</td>\n",
       "      <td>False</td>\n",
       "    </tr>\n",
       "  </tbody>\n",
       "</table>\n",
       "</div>"
      ],
      "text/plain": [
       "   trade_uid outcome  potential_risk_reward  TP_distance  type_3_m30   side  \\\n",
       "4       1005    loss                    NaN    -0.023222       False  short   \n",
       "5       1006     win                    NaN    -0.049427       False  short   \n",
       "6       1007      be                    NaN    -0.032490       False  short   \n",
       "7       1008     win                    NaN    -0.015976       False  short   \n",
       "8       1009    loss                    NaN    -0.044379       False  short   \n",
       "9       1010    loss                    NaN    -0.009123       False  short   \n",
       "10      1011    loss                    NaN     0.044455       False   long   \n",
       "11      1012     win                    NaN    -0.008707       False  short   \n",
       "12      1013    loss                    NaN     0.019964        True   long   \n",
       "13      1014     win                    NaN     0.022604        True   long   \n",
       "\n",
       "    initial_risk_reward  type_3_d  type_3_M  potential_return  type_2_m15  \\\n",
       "4              4.644407     False     False               NaN       False   \n",
       "5              9.885333     False     False               NaN        True   \n",
       "6              6.497983     False     False               NaN       False   \n",
       "7              3.195198     False     False               NaN       False   \n",
       "8              8.875786     False     False               NaN       False   \n",
       "9              1.824689     False      True               NaN       False   \n",
       "10             8.890933     False     False               NaN       False   \n",
       "11             1.741357     False     False               NaN       False   \n",
       "12             3.992825     False     False               NaN       False   \n",
       "13             4.520885     False     False               NaN       False   \n",
       "\n",
       "    type_3_h4  entry_price  type_3_m1  type_3_w  unit_test  type_1_m5  \\\n",
       "4       False       1.1204       True     False       True      False   \n",
       "5       False       1.1347      False     False       True      False   \n",
       "6       False       1.1242      False     False       True      False   \n",
       "7       False       1.1345       True     False       True       True   \n",
       "8       False       1.1132      False     False       True      False   \n",
       "9       False       1.1335      False     False       True      False   \n",
       "10      False       1.1128      False      True       True      False   \n",
       "11      False       1.1280      False     False       True      False   \n",
       "12      False       1.1249      False     False       True      False   \n",
       "13      False       1.1343      False     False       True      False   \n",
       "\n",
       "    type_1_m30    rr  type_1_h1  type_3_m5 session  type_2_h1  type_2_m1  \\\n",
       "4        False -1.05      False      False   tokyo      False      False   \n",
       "5        False  7.05       True       True   tokyo      False      False   \n",
       "6        False -0.05      False       True   tokyo      False      False   \n",
       "7        False  8.70      False      False   tokyo      False      False   \n",
       "8        False -0.77      False       True   tokyo      False      False   \n",
       "9        False -1.02      False      False   tokyo      False      False   \n",
       "10       False -0.24      False      False   tokyo       True      False   \n",
       "11        True  4.86      False      False   tokyo      False      False   \n",
       "12       False -1.35       True      False   tokyo      False      False   \n",
       "13       False  9.81      False      False   tokyo      False      False   \n",
       "\n",
       "    close_price  type_2_h4  initial_return  numerical_confidence  type_3_m15  \\\n",
       "4       1.12565      False       -0.023222                   5.0       False   \n",
       "5       1.09945      False       -0.049427                   1.0       False   \n",
       "6       1.12445      False       -0.032490                   1.0       False   \n",
       "7       1.09100      False       -0.015976                   2.0       False   \n",
       "8       1.11705      False       -0.044379                   1.0       False   \n",
       "9       1.13860      False       -0.009123                   2.0       False   \n",
       "10      1.11160      False        0.044455                   5.0       False   \n",
       "11      1.10370      False       -0.008707                   2.0       False   \n",
       "12      1.11815      False        0.019964                   1.0       False   \n",
       "13      1.18335      False        0.022604                   2.0       False   \n",
       "\n",
       "    type_1_M  return_points account_name  type_1_w  type_2_m30  type_2_d  \\\n",
       "4      False        0.00525         None     False       False      True   \n",
       "5      False       -0.03525         None     False       False     False   \n",
       "6      False        0.00025         None      True       False     False   \n",
       "7      False       -0.04350         None     False       False      True   \n",
       "8       True        0.00385         None     False       False     False   \n",
       "9       True        0.00510         None     False        True     False   \n",
       "10     False       -0.00120         None     False       False     False   \n",
       "11     False       -0.02430         None     False       False      True   \n",
       "12     False       -0.00675         None     False       False     False   \n",
       "13     False        0.04905         None     False       False     False   \n",
       "\n",
       "         account  potential_price  tp_price  type_2_w  type_2_m5  SL_distance  \\\n",
       "4   test_account              NaN  1.097178     False      False       -0.005   \n",
       "5   test_account              NaN  1.085273     False      False       -0.005   \n",
       "6   test_account              NaN  1.091710     False      False       -0.005   \n",
       "7   test_account              NaN  1.118524     False      False       -0.005   \n",
       "8   test_account              NaN  1.068821      True      False       -0.005   \n",
       "9   test_account              NaN  1.124377     False      False       -0.005   \n",
       "10  test_account              NaN  1.157255     False      False        0.005   \n",
       "11  test_account              NaN  1.119293     False      False       -0.005   \n",
       "12  test_account              NaN  1.144864     False       True        0.005   \n",
       "13  test_account              NaN  1.156904     False       True        0.005   \n",
       "\n",
       "    type_3_h1  type_1_d  type_1_m1  type_2_M                    entry_time  \\\n",
       "4       False      True      False     False 2025-01-07 01:27:23.603112923   \n",
       "5       False     False      False     False 2025-01-05 00:11:25.857897362   \n",
       "6       False     False      False      True 2025-01-10 00:50:05.722141527   \n",
       "7       False     False      False     False 2025-01-24 23:20:24.283296430   \n",
       "8       False     False      False     False 2025-01-12 23:58:56.190823963   \n",
       "9       False     False      False     False 2025-01-05 00:58:51.544468002   \n",
       "10      False     False       True     False 2025-01-22 01:21:14.598694243   \n",
       "11       True     False      False     False 2025-01-23 01:00:24.308085292   \n",
       "12      False     False      False     False 2025-01-23 00:04:51.295959106   \n",
       "13      False     False       True     False 2025-01-14 23:19:09.268751494   \n",
       "\n",
       "    type_1_h4  type_1_m15 management_strategy  sl_price  \\\n",
       "4       False       False         be_after_1r    1.1254   \n",
       "5       False       False       be_after_push    1.1397   \n",
       "6       False       False       no_management    1.1292   \n",
       "7       False       False         be_after_1r    1.1395   \n",
       "8       False       False       be_after_push    1.1182   \n",
       "9       False       False         be_after_1r    1.1385   \n",
       "10      False       False         be_after_1r    1.1078   \n",
       "11      False       False       no_management    1.1330   \n",
       "12      False       False       no_management    1.1199   \n",
       "13      False       False         be_after_1r    1.1293   \n",
       "\n",
       "   htf_poi_ltf_confirmation  htf_poi_ltf_confirmation_False  \\\n",
       "4                      True                           False   \n",
       "5                      True                           False   \n",
       "6                     False                            True   \n",
       "7                      True                           False   \n",
       "8                     False                            True   \n",
       "9                      True                           False   \n",
       "10                    False                            True   \n",
       "11                     True                           False   \n",
       "12                     True                           False   \n",
       "13                     True                           False   \n",
       "\n",
       "    htf_poi_ltf_confirmation_True  management_strategy_be_after_1r  \\\n",
       "4                            True                             True   \n",
       "5                            True                            False   \n",
       "6                           False                            False   \n",
       "7                            True                             True   \n",
       "8                           False                            False   \n",
       "9                            True                             True   \n",
       "10                          False                             True   \n",
       "11                           True                            False   \n",
       "12                           True                            False   \n",
       "13                           True                             True   \n",
       "\n",
       "    management_strategy_be_after_push  management_strategy_no_management  \\\n",
       "4                               False                              False   \n",
       "5                                True                              False   \n",
       "6                               False                               True   \n",
       "7                               False                              False   \n",
       "8                                True                              False   \n",
       "9                               False                              False   \n",
       "10                              False                              False   \n",
       "11                              False                               True   \n",
       "12                              False                               True   \n",
       "13                              False                              False   \n",
       "\n",
       "    management_strategy_strategy_2  outcome_be  outcome_loss  outcome_win  \\\n",
       "4                            False       False          True        False   \n",
       "5                            False       False         False         True   \n",
       "6                            False        True         False        False   \n",
       "7                            False       False         False         True   \n",
       "8                            False       False          True        False   \n",
       "9                            False       False          True        False   \n",
       "10                           False       False          True        False   \n",
       "11                           False       False         False         True   \n",
       "12                           False       False          True        False   \n",
       "13                           False       False         False         True   \n",
       "\n",
       "    has_type_1  has_type_2  has_type_3  has_time_frame  \n",
       "4         True        True        True           False  \n",
       "5         True        True        True           False  \n",
       "6         True        True        True           False  \n",
       "7         True        True        True           False  \n",
       "8         True        True        True           False  \n",
       "9         True        True        True           False  \n",
       "10        True        True        True           False  \n",
       "11        True        True        True           False  \n",
       "12        True        True        True           False  \n",
       "13        True        True        True           False  "
      ]
     },
     "execution_count": 728,
     "metadata": {},
     "output_type": "execute_result"
    }
   ],
   "source": [
    "full_df = get_full_df()\n",
    "#rename return column to return_points\n",
    "full_df = full_df[full_df['account'] == 'test_account']\n",
    "full_df = full_df.rename(columns={'return': 'return_points'})\n",
    "print(np.sort(full_df.columns))\n",
    "full_df"
   ]
  },
  {
   "cell_type": "code",
   "execution_count": 729,
   "metadata": {},
   "outputs": [
    {
     "data": {
      "text/html": [
       "<div>\n",
       "<style scoped>\n",
       "    .dataframe tbody tr th:only-of-type {\n",
       "        vertical-align: middle;\n",
       "    }\n",
       "\n",
       "    .dataframe tbody tr th {\n",
       "        vertical-align: top;\n",
       "    }\n",
       "\n",
       "    .dataframe thead th {\n",
       "        text-align: right;\n",
       "    }\n",
       "</style>\n",
       "<table border=\"1\" class=\"dataframe\">\n",
       "  <thead>\n",
       "    <tr style=\"text-align: right;\">\n",
       "      <th></th>\n",
       "      <th>sum_sq</th>\n",
       "      <th>df</th>\n",
       "      <th>F</th>\n",
       "      <th>PR(&gt;F)</th>\n",
       "    </tr>\n",
       "  </thead>\n",
       "  <tbody>\n",
       "    <tr>\n",
       "      <th>C(htf_poi_ltf_confirmation)</th>\n",
       "      <td>0.000140</td>\n",
       "      <td>1.0</td>\n",
       "      <td>0.190524</td>\n",
       "      <td>0.674022</td>\n",
       "    </tr>\n",
       "    <tr>\n",
       "      <th>Residual</th>\n",
       "      <td>0.005881</td>\n",
       "      <td>8.0</td>\n",
       "      <td>NaN</td>\n",
       "      <td>NaN</td>\n",
       "    </tr>\n",
       "  </tbody>\n",
       "</table>\n",
       "</div>"
      ],
      "text/plain": [
       "                               sum_sq   df         F    PR(>F)\n",
       "C(htf_poi_ltf_confirmation)  0.000140  1.0  0.190524  0.674022\n",
       "Residual                     0.005881  8.0       NaN       NaN"
      ]
     },
     "execution_count": 729,
     "metadata": {},
     "output_type": "execute_result"
    }
   ],
   "source": [
    "from analysis import *\n",
    "\n",
    "perform_anova(full_df, dependent_var='return_points', independent_var='htf_poi_ltf_confirmation')"
   ]
  },
  {
   "cell_type": "markdown",
   "metadata": {},
   "source": [
    "## Independent Variables influence on dependent Variable - Win"
   ]
  },
  {
   "cell_type": "code",
   "execution_count": 730,
   "metadata": {},
   "outputs": [
    {
     "data": {
      "text/plain": [
       "Total Trades                     10.00000\n",
       "Total Return                     -0.04750\n",
       "Average Return                   -0.00475\n",
       "Max Return Drawdown               0.07575\n",
       "Total Risk Reward Ratio          25.94000\n",
       "Average Risk Reward Ratio         2.59400\n",
       "Max Risk Reward Ratio             9.81000\n",
       "Min Risk Reward Ratio            -1.35000\n",
       "Win Rate (%)                      0.40000\n",
       "Average Win RR                    7.60500\n",
       "Max Win RR                        9.81000\n",
       "Min Win RR                        4.86000\n",
       "Loss Rate (%)                     0.50000\n",
       "Average Loss RR                  -0.88600\n",
       "Max Loss RR                      -1.35000\n",
       "Min Loss RR                      -0.24000\n",
       "Breakeven Trades                  1.00000\n",
       "Breakeven Rate (%) (|rr|<0.2)     0.10000\n",
       "dtype: float64"
      ]
     },
     "execution_count": 730,
     "metadata": {},
     "output_type": "execute_result"
    }
   ],
   "source": [
    "calculate_performance_metrics(full_df)"
   ]
  },
  {
   "cell_type": "code",
   "execution_count": 731,
   "metadata": {},
   "outputs": [
    {
     "data": {
      "image/png": "[encoded data removed]",
      "text/plain": [
       "<Figure size 1000x600 with 1 Axes>"
      ]
     },
     "metadata": {},
     "output_type": "display_data"
    }
   ],
   "source": [
    "from sklearn.ensemble import RandomForestClassifier\n",
    "import matplotlib.pyplot as plt\n",
    "import pandas as pd\n",
    "\n",
    "# Define features and target\n",
    "X = full_df[['type_3_m1', 'type_1_m15', 'htf_poi_ltf_confirmation']]\n",
    "y = full_df['outcome']\n",
    "\n",
    "# Initialize and fit the model\n",
    "rf = RandomForestClassifier()\n",
    "rf.fit(X, y)\n",
    "\n",
    "# Get feature importances\n",
    "importances = rf.feature_importances_\n",
    "feature_names = X.columns\n",
    "\n",
    "# Create a DataFrame\n",
    "feature_importances = pd.DataFrame({'Feature': feature_names, 'Importance': importances})\n",
    "\n",
    "# Sort and plot\n",
    "feature_importances = feature_importances.sort_values(by='Importance', ascending=False)\n",
    "plt.figure(figsize=(10,6))\n",
    "plt.barh(feature_importances['Feature'], feature_importances['Importance'])\n",
    "plt.xlabel('Importance')\n",
    "plt.title('Feature Importances from Random Forest')\n",
    "plt.gca().invert_yaxis()\n",
    "\n",
    "plt.show()"
   ]
  },
  {
   "cell_type": "code",
   "execution_count": 738,
   "metadata": {},
   "outputs": [
    {
     "name": "stdout",
     "output_type": "stream",
     "text": [
      "type_3_m1     0.2\n",
      "type_1_m15    0.0\n",
      "type_1_m5     0.1\n",
      "dtype: float64\n",
      "    type_3_m1  type_1_m15  type_1_m5\n",
      "4         0.8         0.0       -0.1\n",
      "5        -0.2         0.0       -0.1\n",
      "6        -0.2         0.0       -0.1\n",
      "7         0.8         0.0        0.9\n",
      "8        -0.2         0.0       -0.1\n",
      "9        -0.2         0.0       -0.1\n",
      "10       -0.2         0.0       -0.1\n",
      "11       -0.2         0.0       -0.1\n",
      "12       -0.2         0.0       -0.1\n",
      "13       -0.2         0.0       -0.1\n"
     ]
    },
    {
     "data": {
      "image/png": "[encoded data removed]",
      "text/plain": [
       "<Figure size 640x480 with 1 Axes>"
      ]
     },
     "metadata": {},
     "output_type": "display_data"
    }
   ],
   "source": [
    "def plot_clustering_and_data(df, features, n_clusters=3):\n",
    "    from sklearn.cluster import KMeans\n",
    "    import matplotlib.pyplot as plt\n",
    "    import seaborn as sns\n",
    "\n",
    "    # Initialize the model\n",
    "    kmeans = KMeans(n_clusters=n_clusters)\n",
    "\n",
    "    # feartures are binary, subtract the mean row vector to center the data\n",
    "    \n",
    "    mean_row_vector = df[features].mean()\n",
    "    X = df[features] - mean_row_vector\n",
    "    \n",
    "    print(mean_row_vector)\n",
    "    print(X)\n",
    "    \n",
    "    # Fit the model\n",
    "    kmeans.fit(X)\n",
    "    \n",
    "    # Get the cluster assignments\n",
    "    df['cluster'] = kmeans.labels_\n",
    "    \n",
    "    # Plot the clusters\n",
    "    sns.scatterplot(data=df, x=features[0], y=features[1], hue='cluster', palette='viridis')\n",
    "    plt.title('KMeans Clustering')\n",
    "    \n",
    "    \n",
    "\n",
    "plot_clustering_and_data(full_df, features=['type_3_m1', 'type_1_m15', 'type_1_m5'], n_clusters=2)"
   ]
  },
  {
   "cell_type": "code",
   "execution_count": 746,
   "metadata": {},
   "outputs": [
    {
     "name": "stdout",
     "output_type": "stream",
     "text": [
      "Silhouette Score: 0.16\n",
      "Cluster Mean RRs:\n",
      "cluster\n",
      "0    6.780000\n",
      "1    1.918571\n",
      "2   -1.050000\n",
      "Name: rr, dtype: float64\n",
      "\n"
     ]
    },
    {
     "data": {
      "image/png": "[encoded data removed]",
      "text/plain": [
       "<Figure size 1000x700 with 1 Axes>"
      ]
     },
     "metadata": {},
     "output_type": "display_data"
    }
   ],
   "source": [
    "from sklearn.preprocessing import StandardScaler\n",
    "from sklearn.decomposition import PCA\n",
    "from sklearn.cluster import KMeans\n",
    "from sklearn.metrics import silhouette_score\n",
    "import matplotlib.pyplot as plt\n",
    "import seaborn as sns\n",
    "import matplotlib.lines as mlines\n",
    "\n",
    "def plot_clustering_with_rr_in_legend(df, features, clustering_algo='kmeans', n_clusters=3):\n",
    "    # Scale the features\n",
    "    scaler = StandardScaler()\n",
    "    X = scaler.fit_transform(df[features])\n",
    "    \n",
    "    # Apply PCA for visualization\n",
    "    pca = PCA(n_components=2)\n",
    "    X_pca = pca.fit_transform(X)\n",
    "    \n",
    "    # Choose clustering algorithm\n",
    "    if clustering_algo == 'kmeans':\n",
    "        model = KMeans(n_clusters=n_clusters, random_state=42)\n",
    "    else:\n",
    "        raise ValueError(\"Only 'kmeans' is currently supported.\")\n",
    "    \n",
    "    # Fit and predict clusters\n",
    "    df['cluster'] = model.fit_predict(X)\n",
    "    centroids = model.cluster_centers_\n",
    "    centroids_pca = pca.transform(centroids)\n",
    "    \n",
    "    # Compute cluster mean RR\n",
    "    cluster_rr_means = df.groupby('cluster')['rr'].mean()\n",
    "    \n",
    "    # Silhouette Score\n",
    "    score = silhouette_score(X, df['cluster'])\n",
    "    print(f\"Silhouette Score: {score:.2f}\")\n",
    "    print(f\"Cluster Mean RRs:\\n{cluster_rr_means}\\n\")\n",
    "    \n",
    "    # Define a color palette\n",
    "    palette = sns.color_palette(\"viridis\", as_cmap=False, n_colors=n_clusters)\n",
    "    \n",
    "    # Plot clusters in 2D PCA space\n",
    "    plt.figure(figsize=(10, 7))\n",
    "    sns.scatterplot(\n",
    "        x=X_pca[:, 0], y=X_pca[:, 1], hue=df['cluster'], palette=palette, s=100, alpha=0.8, legend=False\n",
    "    )\n",
    "    \n",
    "    # Plot cluster centroids\n",
    "    for idx, (x, y) in enumerate(zip(centroids_pca[:, 0], centroids_pca[:, 1])):\n",
    "        plt.scatter(x, y, color=palette[idx], s=200, marker='X', edgecolors='black', zorder=5)\n",
    "    \n",
    "    # Add custom legend with cluster mean RRs\n",
    "    legend_handles = [\n",
    "        mlines.Line2D(\n",
    "            [], [], color=palette[idx], marker='o', linestyle='', markersize=10,\n",
    "            label=f\"Cluster {idx} (Mean RR: {mean_rr:.2f})\"\n",
    "        )\n",
    "        for idx, mean_rr in cluster_rr_means.items()\n",
    "    ]\n",
    "    plt.legend(handles=legend_handles, title=\"Clusters\", loc=\"upper right\")\n",
    "    \n",
    "    plt.title(f'Clustering with {clustering_algo.upper()} (RR in Legend)')\n",
    "    plt.xlabel('PCA Component 1')\n",
    "    plt.ylabel('PCA Component 2')\n",
    "    plt.show()\n",
    "\n",
    "# Feature selection\n",
    "selected_features = ['rr', 'return_points', 'initial_risk_reward', 'type_1_m15', 'type_3_m1']\n",
    "plot_clustering_with_rr_in_legend(full_df, features=selected_features, clustering_algo='kmeans', n_clusters=3)\n"
   ]
  },
  {
   "cell_type": "code",
   "execution_count": 757,
   "metadata": {},
   "outputs": [
    {
     "name": "stdout",
     "output_type": "stream",
     "text": [
      "type_3_m1      1.000000\n",
      "rr             0.144047\n",
      "TP_distance   -0.172186\n",
      "SL_distance   -0.327327\n",
      "type_1_m15          NaN\n",
      "Name: type_3_m1, dtype: float64\n"
     ]
    }
   ],
   "source": [
    "correlation_matrix = full_df[['rr','SL_distance', 'TP_distance', 'type_3_m1', 'type_1_m15']].corr()\n",
    "print(correlation_matrix['type_3_m1'].sort_values(ascending=False))\n"
   ]
  },
  {
   "cell_type": "code",
   "execution_count": 760,
   "metadata": {},
   "outputs": [
    {
     "data": {
      "text/html": [
       "<div>\n",
       "<style scoped>\n",
       "    .dataframe tbody tr th:only-of-type {\n",
       "        vertical-align: middle;\n",
       "    }\n",
       "\n",
       "    .dataframe tbody tr th {\n",
       "        vertical-align: top;\n",
       "    }\n",
       "\n",
       "    .dataframe thead th {\n",
       "        text-align: right;\n",
       "    }\n",
       "</style>\n",
       "<table border=\"1\" class=\"dataframe\">\n",
       "  <thead>\n",
       "    <tr style=\"text-align: right;\">\n",
       "      <th></th>\n",
       "      <th>rr</th>\n",
       "      <th>SL_distance</th>\n",
       "      <th>TP_distance</th>\n",
       "      <th>type_3_m1</th>\n",
       "      <th>type_1_m15</th>\n",
       "    </tr>\n",
       "  </thead>\n",
       "  <tbody>\n",
       "    <tr>\n",
       "      <th>rr</th>\n",
       "      <td>20.286471</td>\n",
       "      <td>0.000487</td>\n",
       "      <td>-0.002927</td>\n",
       "      <td>0.273556</td>\n",
       "      <td>0.0</td>\n",
       "    </tr>\n",
       "    <tr>\n",
       "      <th>SL_distance</th>\n",
       "      <td>0.000487</td>\n",
       "      <td>0.000023</td>\n",
       "      <td>0.000129</td>\n",
       "      <td>-0.000667</td>\n",
       "      <td>0.0</td>\n",
       "    </tr>\n",
       "    <tr>\n",
       "      <th>TP_distance</th>\n",
       "      <td>-0.002927</td>\n",
       "      <td>0.000129</td>\n",
       "      <td>0.000931</td>\n",
       "      <td>-0.002215</td>\n",
       "      <td>0.0</td>\n",
       "    </tr>\n",
       "    <tr>\n",
       "      <th>type_3_m1</th>\n",
       "      <td>0.273556</td>\n",
       "      <td>-0.000667</td>\n",
       "      <td>-0.002215</td>\n",
       "      <td>0.177778</td>\n",
       "      <td>0.0</td>\n",
       "    </tr>\n",
       "    <tr>\n",
       "      <th>type_1_m15</th>\n",
       "      <td>0.000000</td>\n",
       "      <td>0.000000</td>\n",
       "      <td>0.000000</td>\n",
       "      <td>0.000000</td>\n",
       "      <td>0.0</td>\n",
       "    </tr>\n",
       "  </tbody>\n",
       "</table>\n",
       "</div>"
      ],
      "text/plain": [
       "                    rr  SL_distance  TP_distance  type_3_m1  type_1_m15\n",
       "rr           20.286471     0.000487    -0.002927   0.273556         0.0\n",
       "SL_distance   0.000487     0.000023     0.000129  -0.000667         0.0\n",
       "TP_distance  -0.002927     0.000129     0.000931  -0.002215         0.0\n",
       "type_3_m1     0.273556    -0.000667    -0.002215   0.177778         0.0\n",
       "type_1_m15    0.000000     0.000000     0.000000   0.000000         0.0"
      ]
     },
     "execution_count": 760,
     "metadata": {},
     "output_type": "execute_result"
    }
   ],
   "source": [
    "df = full_df[['rr', 'SL_distance', 'TP_distance', 'type_3_m1', 'type_1_m15']]\n",
    "df.cov()\n"
   ]
  },
  {
   "cell_type": "code",
   "execution_count": 761,
   "metadata": {},
   "outputs": [
    {
     "data": {
      "text/plain": [
       "rr             20.286471\n",
       "SL_distance     0.000023\n",
       "TP_distance     0.000931\n",
       "type_3_m1       0.177778\n",
       "type_1_m15      0.000000\n",
       "dtype: float64"
      ]
     },
     "execution_count": 761,
     "metadata": {},
     "output_type": "execute_result"
    }
   ],
   "source": [
    "df.var()"
   ]
  },
  {
   "cell_type": "code",
   "execution_count": 769,
   "metadata": {},
   "outputs": [
    {
     "data": {
      "text/html": [
       "<div>\n",
       "<style scoped>\n",
       "    .dataframe tbody tr th:only-of-type {\n",
       "        vertical-align: middle;\n",
       "    }\n",
       "\n",
       "    .dataframe tbody tr th {\n",
       "        vertical-align: top;\n",
       "    }\n",
       "\n",
       "    .dataframe thead th {\n",
       "        text-align: right;\n",
       "    }\n",
       "</style>\n",
       "<table border=\"1\" class=\"dataframe\">\n",
       "  <thead>\n",
       "    <tr style=\"text-align: right;\">\n",
       "      <th></th>\n",
       "      <th>rr</th>\n",
       "      <th>SL_distance</th>\n",
       "      <th>TP_distance</th>\n",
       "      <th>type_3_m1</th>\n",
       "      <th>type_1_m15</th>\n",
       "    </tr>\n",
       "  </thead>\n",
       "  <tbody>\n",
       "    <tr>\n",
       "      <th>rr</th>\n",
       "      <td>1.000000</td>\n",
       "      <td>0.022369</td>\n",
       "      <td>-0.021300</td>\n",
       "      <td>0.144047</td>\n",
       "      <td>NaN</td>\n",
       "    </tr>\n",
       "    <tr>\n",
       "      <th>SL_distance</th>\n",
       "      <td>0.022369</td>\n",
       "      <td>1.000000</td>\n",
       "      <td>0.873780</td>\n",
       "      <td>-0.327327</td>\n",
       "      <td>NaN</td>\n",
       "    </tr>\n",
       "    <tr>\n",
       "      <th>TP_distance</th>\n",
       "      <td>-0.021300</td>\n",
       "      <td>0.873780</td>\n",
       "      <td>1.000000</td>\n",
       "      <td>-0.172186</td>\n",
       "      <td>NaN</td>\n",
       "    </tr>\n",
       "    <tr>\n",
       "      <th>type_3_m1</th>\n",
       "      <td>0.144047</td>\n",
       "      <td>-0.327327</td>\n",
       "      <td>-0.172186</td>\n",
       "      <td>1.000000</td>\n",
       "      <td>NaN</td>\n",
       "    </tr>\n",
       "    <tr>\n",
       "      <th>type_1_m15</th>\n",
       "      <td>NaN</td>\n",
       "      <td>NaN</td>\n",
       "      <td>NaN</td>\n",
       "      <td>NaN</td>\n",
       "      <td>NaN</td>\n",
       "    </tr>\n",
       "  </tbody>\n",
       "</table>\n",
       "</div>"
      ],
      "text/plain": [
       "                   rr  SL_distance  TP_distance  type_3_m1  type_1_m15\n",
       "rr           1.000000     0.022369    -0.021300   0.144047         NaN\n",
       "SL_distance  0.022369     1.000000     0.873780  -0.327327         NaN\n",
       "TP_distance -0.021300     0.873780     1.000000  -0.172186         NaN\n",
       "type_3_m1    0.144047    -0.327327    -0.172186   1.000000         NaN\n",
       "type_1_m15        NaN          NaN          NaN        NaN         NaN"
      ]
     },
     "execution_count": 769,
     "metadata": {},
     "output_type": "execute_result"
    }
   ],
   "source": [
    "corr = df.cov() / np.outer(df.std(), df.std())\n",
    "corr"
   ]
  },
  {
   "cell_type": "code",
   "execution_count": 766,
   "metadata": {},
   "outputs": [
    {
     "data": {
      "text/html": [
       "<div>\n",
       "<style scoped>\n",
       "    .dataframe tbody tr th:only-of-type {\n",
       "        vertical-align: middle;\n",
       "    }\n",
       "\n",
       "    .dataframe tbody tr th {\n",
       "        vertical-align: top;\n",
       "    }\n",
       "\n",
       "    .dataframe thead th {\n",
       "        text-align: right;\n",
       "    }\n",
       "</style>\n",
       "<table border=\"1\" class=\"dataframe\">\n",
       "  <thead>\n",
       "    <tr style=\"text-align: right;\">\n",
       "      <th></th>\n",
       "      <th>rr</th>\n",
       "      <th>SL_distance</th>\n",
       "      <th>TP_distance</th>\n",
       "      <th>type_3_m1</th>\n",
       "      <th>type_1_m15</th>\n",
       "    </tr>\n",
       "  </thead>\n",
       "  <tbody>\n",
       "    <tr>\n",
       "      <th>rr</th>\n",
       "      <td>1.000000</td>\n",
       "      <td>0.022369</td>\n",
       "      <td>-0.021300</td>\n",
       "      <td>0.144047</td>\n",
       "      <td>NaN</td>\n",
       "    </tr>\n",
       "    <tr>\n",
       "      <th>SL_distance</th>\n",
       "      <td>0.022369</td>\n",
       "      <td>1.000000</td>\n",
       "      <td>0.873780</td>\n",
       "      <td>-0.327327</td>\n",
       "      <td>NaN</td>\n",
       "    </tr>\n",
       "    <tr>\n",
       "      <th>TP_distance</th>\n",
       "      <td>-0.021300</td>\n",
       "      <td>0.873780</td>\n",
       "      <td>1.000000</td>\n",
       "      <td>-0.172186</td>\n",
       "      <td>NaN</td>\n",
       "    </tr>\n",
       "    <tr>\n",
       "      <th>type_3_m1</th>\n",
       "      <td>0.144047</td>\n",
       "      <td>-0.327327</td>\n",
       "      <td>-0.172186</td>\n",
       "      <td>1.000000</td>\n",
       "      <td>NaN</td>\n",
       "    </tr>\n",
       "    <tr>\n",
       "      <th>type_1_m15</th>\n",
       "      <td>NaN</td>\n",
       "      <td>NaN</td>\n",
       "      <td>NaN</td>\n",
       "      <td>NaN</td>\n",
       "      <td>NaN</td>\n",
       "    </tr>\n",
       "  </tbody>\n",
       "</table>\n",
       "</div>"
      ],
      "text/plain": [
       "                   rr  SL_distance  TP_distance  type_3_m1  type_1_m15\n",
       "rr           1.000000     0.022369    -0.021300   0.144047         NaN\n",
       "SL_distance  0.022369     1.000000     0.873780  -0.327327         NaN\n",
       "TP_distance -0.021300     0.873780     1.000000  -0.172186         NaN\n",
       "type_3_m1    0.144047    -0.327327    -0.172186   1.000000         NaN\n",
       "type_1_m15        NaN          NaN          NaN        NaN         NaN"
      ]
     },
     "execution_count": 766,
     "metadata": {},
     "output_type": "execute_result"
    }
   ],
   "source": [
    "df.corr()"
   ]
  },
  {
   "cell_type": "code",
   "execution_count": 781,
   "metadata": {},
   "outputs": [
    {
     "data": {
      "text/html": [
       "<div>\n",
       "<style scoped>\n",
       "    .dataframe tbody tr th:only-of-type {\n",
       "        vertical-align: middle;\n",
       "    }\n",
       "\n",
       "    .dataframe tbody tr th {\n",
       "        vertical-align: top;\n",
       "    }\n",
       "\n",
       "    .dataframe thead th {\n",
       "        text-align: right;\n",
       "    }\n",
       "</style>\n",
       "<table border=\"1\" class=\"dataframe\">\n",
       "  <thead>\n",
       "    <tr style=\"text-align: right;\">\n",
       "      <th></th>\n",
       "      <th>rr</th>\n",
       "      <th>SL_distance</th>\n",
       "      <th>TP_distance</th>\n",
       "      <th>type_3_m1</th>\n",
       "      <th>type_1_m15</th>\n",
       "    </tr>\n",
       "  </thead>\n",
       "  <tbody>\n",
       "    <tr>\n",
       "      <th>rr</th>\n",
       "      <td>1.000000</td>\n",
       "      <td>0.022369</td>\n",
       "      <td>-0.021300</td>\n",
       "      <td>0.144047</td>\n",
       "      <td>NaN</td>\n",
       "    </tr>\n",
       "    <tr>\n",
       "      <th>SL_distance</th>\n",
       "      <td>0.022369</td>\n",
       "      <td>1.000000</td>\n",
       "      <td>0.873780</td>\n",
       "      <td>-0.327327</td>\n",
       "      <td>NaN</td>\n",
       "    </tr>\n",
       "    <tr>\n",
       "      <th>TP_distance</th>\n",
       "      <td>-0.021300</td>\n",
       "      <td>0.873780</td>\n",
       "      <td>1.000000</td>\n",
       "      <td>-0.172186</td>\n",
       "      <td>NaN</td>\n",
       "    </tr>\n",
       "    <tr>\n",
       "      <th>type_3_m1</th>\n",
       "      <td>0.144047</td>\n",
       "      <td>-0.327327</td>\n",
       "      <td>-0.172186</td>\n",
       "      <td>1.000000</td>\n",
       "      <td>NaN</td>\n",
       "    </tr>\n",
       "    <tr>\n",
       "      <th>type_1_m15</th>\n",
       "      <td>NaN</td>\n",
       "      <td>NaN</td>\n",
       "      <td>NaN</td>\n",
       "      <td>NaN</td>\n",
       "      <td>NaN</td>\n",
       "    </tr>\n",
       "  </tbody>\n",
       "</table>\n",
       "</div>"
      ],
      "text/plain": [
       "                   rr  SL_distance  TP_distance  type_3_m1  type_1_m15\n",
       "rr           1.000000     0.022369    -0.021300   0.144047         NaN\n",
       "SL_distance  0.022369     1.000000     0.873780  -0.327327         NaN\n",
       "TP_distance -0.021300     0.873780     1.000000  -0.172186         NaN\n",
       "type_3_m1    0.144047    -0.327327    -0.172186   1.000000         NaN\n",
       "type_1_m15        NaN          NaN          NaN        NaN         NaN"
      ]
     },
     "execution_count": 781,
     "metadata": {},
     "output_type": "execute_result"
    }
   ],
   "source": [
    "df.cov() / np.outer(df.std(), df.std())"
   ]
  },
  {
   "cell_type": "code",
   "execution_count": 804,
   "metadata": {},
   "outputs": [
    {
     "data": {
      "text/plain": [
       "array([[ 0,  0,  0,  0,  0],\n",
       "       [ 2,  3,  4,  5,  6],\n",
       "       [ 4,  6,  8, 10, 12]])"
      ]
     },
     "execution_count": 804,
     "metadata": {},
     "output_type": "execute_result"
    }
   ],
   "source": [
    "a =np.outer([0,1,2], [2,3,4,5,6])\n",
    "a"
   ]
  },
  {
   "cell_type": "code",
   "execution_count": 800,
   "metadata": {},
   "outputs": [
    {
     "data": {
      "text/plain": [
       "array([ 0,  0,  0,  0,  0,  2,  3,  4,  5,  6,  4,  6,  8, 10, 12])"
      ]
     },
     "execution_count": 800,
     "metadata": {},
     "output_type": "execute_result"
    }
   ],
   "source": [
    "d= np.ravel(np.outer([0,1,2], [2,3,4,5,6]))\n",
    "d"
   ]
  },
  {
   "cell_type": "code",
   "execution_count": 807,
   "metadata": {},
   "outputs": [
    {
     "data": {
      "text/plain": [
       "array([[ 0,  0,  0,  0,  0,  2,  3,  4,  5,  6,  4,  6,  8, 10, 12]])"
      ]
     },
     "execution_count": 807,
     "metadata": {},
     "output_type": "execute_result"
    }
   ],
   "source": [
    "a.reshape(1,-1)"
   ]
  },
  {
   "cell_type": "code",
   "execution_count": 803,
   "metadata": {},
   "outputs": [
    {
     "data": {
      "text/plain": [
       "array([[ 0,  0,  0,  0,  0,  2,  3,  4,  5,  6,  4,  6,  8, 10, 12]])"
      ]
     },
     "execution_count": 803,
     "metadata": {},
     "output_type": "execute_result"
    }
   ],
   "source": [
    "orig= d.reshape(1,-1)\n",
    "orig"
   ]
  },
  {
   "cell_type": "code",
   "execution_count": 813,
   "metadata": {},
   "outputs": [
    {
     "data": {
      "text/plain": [
       "array([[1, 2, 3],\n",
       "       [4, 5, 6]])"
      ]
     },
     "execution_count": 813,
     "metadata": {},
     "output_type": "execute_result"
    }
   ],
   "source": [
    "x = np.array([[1, 2, 3], [4, 5, 6]])\n",
    "x"
   ]
  },
  {
   "cell_type": "code",
   "execution_count": 809,
   "metadata": {},
   "outputs": [
    {
     "data": {
      "text/plain": [
       "array([1, 2, 3, 4, 5, 6])"
      ]
     },
     "execution_count": 809,
     "metadata": {},
     "output_type": "execute_result"
    }
   ],
   "source": [
    "x.ravel()"
   ]
  },
  {
   "cell_type": "code",
   "execution_count": 810,
   "metadata": {},
   "outputs": [
    {
     "data": {
      "text/plain": [
       "array([[1, 4],\n",
       "       [2, 5],\n",
       "       [3, 6]])"
      ]
     },
     "execution_count": 810,
     "metadata": {},
     "output_type": "execute_result"
    }
   ],
   "source": [
    "\n",
    "x.T"
   ]
  },
  {
   "cell_type": "code",
   "execution_count": 812,
   "metadata": {},
   "outputs": [
    {
     "data": {
      "text/plain": [
       "array([[1, 2, 3],\n",
       "       [4, 5, 6]])"
      ]
     },
     "execution_count": 812,
     "metadata": {},
     "output_type": "execute_result"
    }
   ],
   "source": [
    "x"
   ]
  },
  {
   "cell_type": "code",
   "execution_count": null,
   "metadata": {},
   "outputs": [],
   "source": []
  }
 ],
 "metadata": {
  "kernelspec": {
   "display_name": "base",
   "language": "python",
   "name": "python3"
  },
  "language_info": {
   "codemirror_mode": {
    "name": "ipython",
    "version": 3
   },
   "file_extension": ".py",
   "mimetype": "text/x-python",
   "name": "python",
   "nbconvert_exporter": "python",
   "pygments_lexer": "ipython3",
   "version": "3.12.2"
  }
 },
 "nbformat": 4,
 "nbformat_minor": 2
}
