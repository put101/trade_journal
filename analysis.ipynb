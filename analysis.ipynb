{
 "cells": [
  {
   "cell_type": "code",
   "execution_count": 48,
   "metadata": {},
   "outputs": [
    {
     "name": "stdout",
     "output_type": "stream",
     "text": [
      "frozenset({'type_1_m5', 'm5', 'type_2_d', 'type_1_w', 'M', 'type_2_m15', 'type_2_M', 'type_1_m15', 'h1', 'm15', 'type_2_h4', 'type_1_h1', 'd', 'm30', 'type_2_w', 'type_2_m5', 'type_1_d', 'h4', 'type_1_M', 'm1', 'type_2_m30', 'w', 'type_2_m1', 'type_1_h4', 'type_2_h1', 'type_1_m30', 'type_1_m1'})\n",
      "[Trade(uid='1', tags=[Tag(timestamp=None, key='type_1_m1', value=True), Tag(timestamp=None, key='type_3_m15', value=True), Tag(timestamp=None, key='entry_price', value=1.1), Tag(timestamp=None, key='sl_price', value=1.095), Tag(timestamp=None, key='tp_price', value=1.11), Tag(timestamp=None, key='SL_distance', value=0.0050000000000001155), Tag(timestamp=None, key='TP_distance', value=0.010000000000000009), Tag(timestamp=None, key='entry_time', value=datetime.datetime(2024, 12, 28, 17, 4, 22, 660157)), Tag(timestamp=None, key='risk_reward_ratio', value=1.9999999999999556)]), Trade(uid='2', tags=[Tag(timestamp=None, key='type_2_h1', value=True), Tag(timestamp=None, key='entry_price', value=1.2), Tag(timestamp=None, key='sl_price', value=1.185), Tag(timestamp=None, key='tp_price', value=1.21), Tag(timestamp=None, key='SL_distance', value=0.014999999999999902), Tag(timestamp=None, key='TP_distance', value=0.010000000000000009), Tag(timestamp=None, key='entry_time', value=datetime.datetime(2024, 12, 28, 17, 4, 22, 660179)), Tag(timestamp=None, key='risk_reward_ratio', value=0.6666666666666716)]), Trade(uid='3', tags=[Tag(timestamp=None, key='SL_distance', value=0.5), Tag(timestamp=None, key='entry_price', value=1.3), Tag(timestamp=None, key='sl_price', value=1.297), Tag(timestamp=None, key='tp_price', value=1.33), Tag(timestamp=None, key='SL_distance', value=0.0030000000000001137), Tag(timestamp=None, key='TP_distance', value=0.030000000000000027), Tag(timestamp=None, key='entry_time', value=Timestamp('2024-12-27 10:00:01')), Tag(timestamp=None, key='risk_reward_ratio', value=9.99999999999963)]), Trade(uid='4', tags=[Tag(timestamp=None, key='SL_distance', value=0.5), Tag(timestamp=None, key='entry_price', value=1.3), Tag(timestamp=None, key='sl_price', value=1.297), Tag(timestamp=None, key='tp_price', value=1.33), Tag(timestamp=None, key='SL_distance', value=0.0030000000000001137), Tag(timestamp=None, key='TP_distance', value=0.030000000000000027), Tag(timestamp=None, key='entry_time', value=Timestamp('2024-12-25 10:00:00')), Tag(timestamp=None, key='risk_reward_ratio', value=9.99999999999963), Tag(timestamp=None, key='management_strategy', value='strategy_2'), Tag(timestamp=None, key='entry_price', value=1.3), Tag(timestamp=None, key='sl_price', value=1.295), Tag(timestamp=None, key='tp_price', value=1.91), Tag(timestamp=None, key='close_price', value=1.305), Tag(timestamp=None, key='SL_distance', value=0.0050000000000001155), Tag(timestamp=None, key='TP_distance', value=0.6099999999999999), Tag(timestamp=None, key='risk_reward_ratio', value=9.99999999999963)])]\n",
      "The autoreload extension is already loaded. To reload it, use:\n",
      "  %reload_ext autoreload\n"
     ]
    }
   ],
   "source": [
    "%load_ext autoreload\n",
    "%autoreload 2"
   ]
  },
  {
   "cell_type": "code",
   "execution_count": 58,
   "metadata": {},
   "outputs": [
    {
     "name": "stdout",
     "output_type": "stream",
     "text": [
      "frozenset({'type_1_m5', 'm5', 'type_2_d', 'type_1_w', 'M', 'type_2_m15', 'type_2_M', 'type_1_m15', 'h1', 'm15', 'type_2_h4', 'type_1_h1', 'd', 'm30', 'type_2_w', 'type_2_m5', 'type_1_d', 'h4', 'type_1_M', 'm1', 'type_2_m30', 'w', 'type_2_m1', 'type_1_h4', 'type_2_h1', 'type_1_m30', 'type_1_m1'})\n",
      "[Trade(uid='1', tags=[Tag(timestamp=None, key='type_1_m1', value=True), Tag(timestamp=None, key='type_3_m15', value=True), Tag(timestamp=None, key='entry_price', value=1.1), Tag(timestamp=None, key='sl_price', value=1.095), Tag(timestamp=None, key='tp_price', value=1.11), Tag(timestamp=None, key='SL_distance', value=0.0050000000000001155), Tag(timestamp=None, key='TP_distance', value=0.010000000000000009), Tag(timestamp=None, key='entry_time', value=datetime.datetime(2024, 12, 28, 18, 3, 13, 47076)), Tag(timestamp=None, key='risk_reward_ratio', value=1.9999999999999556), Tag(timestamp=None, key='session', value='new_york')]), Trade(uid='2', tags=[Tag(timestamp=None, key='type_2_h1', value=True), Tag(timestamp=None, key='entry_price', value=1.2), Tag(timestamp=None, key='sl_price', value=1.185), Tag(timestamp=None, key='tp_price', value=1.21), Tag(timestamp=None, key='SL_distance', value=0.014999999999999902), Tag(timestamp=None, key='TP_distance', value=0.010000000000000009), Tag(timestamp=None, key='entry_time', value=datetime.datetime(2024, 12, 28, 18, 3, 13, 47096)), Tag(timestamp=None, key='risk_reward_ratio', value=0.6666666666666716), Tag(timestamp=None, key='session', value='new_york')]), Trade(uid='3', tags=[Tag(timestamp=None, key='SL_distance', value=0.5), Tag(timestamp=None, key='entry_price', value=1.3), Tag(timestamp=None, key='sl_price', value=1.297), Tag(timestamp=None, key='tp_price', value=1.33), Tag(timestamp=None, key='SL_distance', value=0.0030000000000001137), Tag(timestamp=None, key='TP_distance', value=0.030000000000000027), Tag(timestamp=None, key='entry_time', value=Timestamp('2024-12-27 10:00:01')), Tag(timestamp=None, key='risk_reward_ratio', value=9.99999999999963), Tag(timestamp=None, key='session', value='london')]), Trade(uid='4', tags=[Tag(timestamp=None, key='SL_distance', value=0.5), Tag(timestamp=None, key='entry_price', value=1.3), Tag(timestamp=None, key='sl_price', value=1.297), Tag(timestamp=None, key='tp_price', value=1.33), Tag(timestamp=None, key='SL_distance', value=0.0030000000000001137), Tag(timestamp=None, key='TP_distance', value=0.030000000000000027), Tag(timestamp=None, key='entry_time', value=Timestamp('2024-12-25 10:00:00')), Tag(timestamp=None, key='risk_reward_ratio', value=9.99999999999963), Tag(timestamp=None, key='management_strategy', value='strategy_2'), Tag(timestamp=None, key='entry_price', value=1.3), Tag(timestamp=None, key='sl_price', value=1.295), Tag(timestamp=None, key='tp_price', value=1.91), Tag(timestamp=None, key='close_price', value=1.305), Tag(timestamp=None, key='SL_distance', value=0.0050000000000001155), Tag(timestamp=None, key='TP_distance', value=0.6099999999999999), Tag(timestamp=None, key='risk_reward_ratio', value=9.99999999999963), Tag(timestamp=None, key='session', value='london')])]\n"
     ]
    }
   ],
   "source": [
    "from src.tradecli import TradeJournal\n",
    "from src.journal import journal"
   ]
  },
  {
   "cell_type": "code",
   "execution_count": 59,
   "metadata": {},
   "outputs": [
    {
     "data": {
      "text/html": [
       "<div>\n",
       "<style scoped>\n",
       "    .dataframe tbody tr th:only-of-type {\n",
       "        vertical-align: middle;\n",
       "    }\n",
       "\n",
       "    .dataframe tbody tr th {\n",
       "        vertical-align: top;\n",
       "    }\n",
       "\n",
       "    .dataframe thead th {\n",
       "        text-align: right;\n",
       "    }\n",
       "</style>\n",
       "<table border=\"1\" class=\"dataframe\">\n",
       "  <thead>\n",
       "    <tr style=\"text-align: right;\">\n",
       "      <th></th>\n",
       "      <th>trade_uid</th>\n",
       "      <th>close_price</th>\n",
       "      <th>TP_distance</th>\n",
       "      <th>tp_price</th>\n",
       "      <th>risk_reward_ratio</th>\n",
       "      <th>type_3_m15</th>\n",
       "      <th>session</th>\n",
       "      <th>type_2_h1</th>\n",
       "      <th>entry_price</th>\n",
       "      <th>SL_distance</th>\n",
       "      <th>management_strategy</th>\n",
       "      <th>sl_price</th>\n",
       "      <th>entry_time</th>\n",
       "      <th>type_1_m1</th>\n",
       "    </tr>\n",
       "  </thead>\n",
       "  <tbody>\n",
       "    <tr>\n",
       "      <th>0</th>\n",
       "      <td>1</td>\n",
       "      <td>NaN</td>\n",
       "      <td>0.01</td>\n",
       "      <td>1.11</td>\n",
       "      <td>2.000000</td>\n",
       "      <td>True</td>\n",
       "      <td>new_york</td>\n",
       "      <td>None</td>\n",
       "      <td>1.1</td>\n",
       "      <td>0.005</td>\n",
       "      <td>None</td>\n",
       "      <td>1.095</td>\n",
       "      <td>2024-12-28 18:03:13.047076</td>\n",
       "      <td>True</td>\n",
       "    </tr>\n",
       "    <tr>\n",
       "      <th>1</th>\n",
       "      <td>2</td>\n",
       "      <td>NaN</td>\n",
       "      <td>0.01</td>\n",
       "      <td>1.21</td>\n",
       "      <td>0.666667</td>\n",
       "      <td>None</td>\n",
       "      <td>new_york</td>\n",
       "      <td>True</td>\n",
       "      <td>1.2</td>\n",
       "      <td>0.015</td>\n",
       "      <td>None</td>\n",
       "      <td>1.185</td>\n",
       "      <td>2024-12-28 18:03:13.047096</td>\n",
       "      <td>None</td>\n",
       "    </tr>\n",
       "    <tr>\n",
       "      <th>2</th>\n",
       "      <td>3</td>\n",
       "      <td>NaN</td>\n",
       "      <td>0.03</td>\n",
       "      <td>1.33</td>\n",
       "      <td>10.000000</td>\n",
       "      <td>None</td>\n",
       "      <td>london</td>\n",
       "      <td>None</td>\n",
       "      <td>1.3</td>\n",
       "      <td>0.500</td>\n",
       "      <td>None</td>\n",
       "      <td>1.297</td>\n",
       "      <td>2024-12-27 10:00:01.000000</td>\n",
       "      <td>None</td>\n",
       "    </tr>\n",
       "    <tr>\n",
       "      <th>3</th>\n",
       "      <td>4</td>\n",
       "      <td>1.305</td>\n",
       "      <td>0.03</td>\n",
       "      <td>1.33</td>\n",
       "      <td>10.000000</td>\n",
       "      <td>None</td>\n",
       "      <td>london</td>\n",
       "      <td>None</td>\n",
       "      <td>1.3</td>\n",
       "      <td>0.500</td>\n",
       "      <td>strategy_2</td>\n",
       "      <td>1.297</td>\n",
       "      <td>2024-12-25 10:00:00.000000</td>\n",
       "      <td>None</td>\n",
       "    </tr>\n",
       "  </tbody>\n",
       "</table>\n",
       "</div>"
      ],
      "text/plain": [
       "  trade_uid  close_price  TP_distance  tp_price  risk_reward_ratio type_3_m15  \\\n",
       "0         1          NaN         0.01      1.11           2.000000       True   \n",
       "1         2          NaN         0.01      1.21           0.666667       None   \n",
       "2         3          NaN         0.03      1.33          10.000000       None   \n",
       "3         4        1.305         0.03      1.33          10.000000       None   \n",
       "\n",
       "    session type_2_h1  entry_price  SL_distance management_strategy  sl_price  \\\n",
       "0  new_york      None          1.1        0.005                None     1.095   \n",
       "1  new_york      True          1.2        0.015                None     1.185   \n",
       "2    london      None          1.3        0.500                None     1.297   \n",
       "3    london      None          1.3        0.500          strategy_2     1.297   \n",
       "\n",
       "                  entry_time type_1_m1  \n",
       "0 2024-12-28 18:03:13.047076      True  \n",
       "1 2024-12-28 18:03:13.047096      None  \n",
       "2 2024-12-27 10:00:01.000000      None  \n",
       "3 2024-12-25 10:00:00.000000      None  "
      ]
     },
     "execution_count": 59,
     "metadata": {},
     "output_type": "execute_result"
    }
   ],
   "source": [
    "# Generate the feature dataframe\n",
    "df = journal.to_dataframe()\n",
    "df"
   ]
  },
  {
   "cell_type": "code",
   "execution_count": 61,
   "metadata": {},
   "outputs": [
    {
     "name": "stdout",
     "output_type": "stream",
     "text": [
      "  trade_uid  close_price  TP_distance  tp_price  risk_reward_ratio type_3_m15  \\\n",
      "0         1          NaN         0.01      1.11           2.000000       True   \n",
      "1         2          NaN         0.01      1.21           0.666667       None   \n",
      "2         3          NaN         0.03      1.33          10.000000       None   \n",
      "3         4        1.305         0.03      1.33          10.000000       None   \n",
      "\n",
      "    session type_2_h1  entry_price  SL_distance management_strategy  sl_price  \\\n",
      "0  new_york      None          1.1        0.005                None     1.095   \n",
      "1  new_york      True          1.2        0.015                None     1.185   \n",
      "2    london      None          1.3        0.500                None     1.297   \n",
      "3    london      None          1.3        0.500          strategy_2     1.297   \n",
      "\n",
      "                  entry_time type_1_m1  \n",
      "0 2024-12-28 18:03:13.047076      True  \n",
      "1 2024-12-28 18:03:13.047096      None  \n",
      "2 2024-12-27 10:00:01.000000      None  \n",
      "3 2024-12-25 10:00:00.000000      None  \n"
     ]
    }
   ],
   "source": [
    "# Example analysis: Compare trades with different SL distances\n",
    "sl_trades = df[df['SL_distance'] > 0]\n",
    "print(sl_trades)"
   ]
  },
  {
   "cell_type": "code",
   "execution_count": null,
   "metadata": {},
   "outputs": [],
   "source": []
  }
 ],
 "metadata": {
  "kernelspec": {
   "display_name": "base",
   "language": "python",
   "name": "python3"
  },
  "language_info": {
   "codemirror_mode": {
    "name": "ipython",
    "version": 3
   },
   "file_extension": ".py",
   "mimetype": "text/x-python",
   "name": "python",
   "nbconvert_exporter": "python",
   "pygments_lexer": "ipython3",
   "version": "3.12.2"
  }
 },
 "nbformat": 4,
 "nbformat_minor": 2
}
