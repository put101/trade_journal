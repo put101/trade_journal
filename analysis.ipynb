{
 "cells": [
  {
   "cell_type": "code",
   "execution_count": 5,
   "metadata": {},
   "outputs": [
    {
     "name": "stdout",
     "output_type": "stream",
     "text": [
      "The autoreload extension is already loaded. To reload it, use:\n",
      "  %reload_ext autoreload\n"
     ]
    },
    {
     "name": "stderr",
     "output_type": "stream",
     "text": [
      "[autoreload of tradecli failed: Traceback (most recent call last):\n",
      "  File \"/Users/tobiaspucher/miniconda3/lib/python3.12/site-packages/IPython/extensions/autoreload.py\", line 276, in check\n",
      "    superreload(m, reload, self.old_objects)\n",
      "  File \"/Users/tobiaspucher/miniconda3/lib/python3.12/site-packages/IPython/extensions/autoreload.py\", line 475, in superreload\n",
      "    module = reload(module)\n",
      "             ^^^^^^^^^^^^^^\n",
      "  File \"/Users/tobiaspucher/miniconda3/lib/python3.12/importlib/__init__.py\", line 131, in reload\n",
      "    _bootstrap._exec(spec, module)\n",
      "  File \"<frozen importlib._bootstrap>\", line 866, in _exec\n",
      "  File \"<frozen importlib._bootstrap_external>\", line 995, in exec_module\n",
      "  File \"<frozen importlib._bootstrap>\", line 488, in _call_with_frames_removed\n",
      "  File \"/Users/tobiaspucher/Library/CloudStorage/OneDrive-Personal/2025/trade_journal/src/tradecli.py\", line 12, in <module>\n",
      "    from src.journal import *\n",
      "  File \"/Users/tobiaspucher/Library/CloudStorage/OneDrive-Personal/2025/trade_journal/src/journal.py\", line 24, in <module>\n",
      "    class PA:\n",
      "  File \"/Users/tobiaspucher/Library/CloudStorage/OneDrive-Personal/2025/trade_journal/src/journal.py\", line 40, in PA\n",
      "    def has_PA_tags(trade: Trade) -> bool:\n",
      "                           ^^^^^\n",
      "NameError: name 'Trade' is not defined. Did you mean: 'True'?\n",
      "]\n"
     ]
    }
   ],
   "source": [
    "%load_ext autoreload\n",
    "%autoreload 2\n",
    "import logging\n",
    "logging.basicConfig(level=logging.INFO)"
   ]
  },
  {
   "cell_type": "code",
   "execution_count": 6,
   "metadata": {},
   "outputs": [
    {
     "name": "stderr",
     "output_type": "stream",
     "text": [
      "INFO:root:Creating initial trades\n",
      "INFO:root:Adding trade with UID: 1\n",
      "INFO:root:Adding trade with UID: 2\n",
      "INFO:root:Adding trade with UID: 3\n",
      "INFO:root:Adding trade with UID: 4\n",
      "INFO:root:Adding more trades to the journal\n",
      "INFO:root:Adding trade with UID: 5\n",
      "INFO:root:Adding trade with UID: 6\n",
      "INFO:root:Adding trade with UID: 7\n",
      "INFO:root:Adding trade with UID: 8\n",
      "INFO:root:Adding trade with UID: 9\n",
      "INFO:root:Adding trade with UID: 10\n",
      "INFO:root:Adding trade with UID: 11\n",
      "INFO:root:Adding trade with UID: 12\n",
      "INFO:root:Adding trade with UID: 13\n",
      "INFO:root:Adding trade with UID: 14\n",
      "INFO:root:Adding default tags to all trades\n",
      "INFO:root:Converting journal trades to DataFrame\n"
     ]
    },
    {
     "name": "stdout",
     "output_type": "stream",
     "text": [
      "frozenset({'type_1_M', 'm1', 'w', 'type_2_m30', 'type_2_M', 'type_1_h4', 'm5', 'type_1_m30', 'type_2_m15', 'type_1_h1', 'type_1_m1', 'type_2_h1', 'type_1_m5', 'type_2_h4', 'type_1_m15', 'type_2_d', 'd', 'h1', 'type_1_d', 'type_2_m5', 'type_2_m1', 'type_2_w', 'h4', 'M', 'm30', 'type_1_w', 'm15'})\n"
     ]
    },
    {
     "ename": "AttributeError",
     "evalue": "cannot access submodule 'journal' of module 'src' (most likely due to a circular import)",
     "output_type": "error",
     "traceback": [
      "\u001b[0;31m---------------------------------------------------------------------------\u001b[0m",
      "\u001b[0;31mAttributeError\u001b[0m                            Traceback (most recent call last)",
      "Cell \u001b[0;32mIn[6], line 1\u001b[0m\n\u001b[0;32m----> 1\u001b[0m \u001b[38;5;28;01mfrom\u001b[39;00m \u001b[38;5;21;01msrc\u001b[39;00m\u001b[38;5;21;01m.\u001b[39;00m\u001b[38;5;21;01mtradecli\u001b[39;00m \u001b[38;5;28;01mimport\u001b[39;00m \u001b[38;5;241m*\u001b[39m\n\u001b[1;32m      2\u001b[0m \u001b[38;5;28;01mfrom\u001b[39;00m \u001b[38;5;21;01msrc\u001b[39;00m\u001b[38;5;21;01m.\u001b[39;00m\u001b[38;5;21;01mjournal\u001b[39;00m \u001b[38;5;28;01mimport\u001b[39;00m \u001b[38;5;241m*\u001b[39m\n",
      "File \u001b[0;32m~/Library/CloudStorage/OneDrive-Personal/2025/trade_journal/src/tradecli.py:12\u001b[0m\n\u001b[1;32m     10\u001b[0m \u001b[38;5;28;01mimport\u001b[39;00m \u001b[38;5;21;01mitertools\u001b[39;00m\n\u001b[1;32m     11\u001b[0m \u001b[38;5;28;01mimport\u001b[39;00m \u001b[38;5;21;01mlogging\u001b[39;00m\n\u001b[0;32m---> 12\u001b[0m \u001b[38;5;28;01mfrom\u001b[39;00m \u001b[38;5;21;01msrc\u001b[39;00m\u001b[38;5;21;01m.\u001b[39;00m\u001b[38;5;21;01mjournal\u001b[39;00m \u001b[38;5;28;01mimport\u001b[39;00m \u001b[38;5;241m*\u001b[39m\n\u001b[1;32m     13\u001b[0m \u001b[38;5;28;01mimport\u001b[39;00m \u001b[38;5;21;01msrc\u001b[39;00m\u001b[38;5;21;01m.\u001b[39;00m\u001b[38;5;21;01mjournal\u001b[39;00m\n\u001b[1;32m     14\u001b[0m \u001b[38;5;28;01mimport\u001b[39;00m \u001b[38;5;21;01msrc\u001b[39;00m\n",
      "File \u001b[0;32m~/Library/CloudStorage/OneDrive-Personal/2025/trade_journal/src/journal.py:373\u001b[0m\n\u001b[1;32m    369\u001b[0m             trade\u001b[38;5;241m.\u001b[39madd_tag(tag, \u001b[38;5;28;01mFalse\u001b[39;00m)\n\u001b[1;32m    372\u001b[0m logging\u001b[38;5;241m.\u001b[39minfo(\u001b[38;5;124m\"\u001b[39m\u001b[38;5;124mConverting journal trades to DataFrame\u001b[39m\u001b[38;5;124m\"\u001b[39m)\n\u001b[0;32m--> 373\u001b[0m full_df \u001b[38;5;241m=\u001b[39m \u001b[43mj\u001b[49m\u001b[38;5;241;43m.\u001b[39;49m\u001b[43mto_dataframe\u001b[49m\u001b[43m(\u001b[49m\u001b[43m)\u001b[49m\n\u001b[1;32m    375\u001b[0m get_number_of_trades \u001b[38;5;241m=\u001b[39m \u001b[38;5;28;01mlambda\u001b[39;00m df: \u001b[38;5;28mlen\u001b[39m(df)\n\u001b[1;32m    376\u001b[0m get_set_of_tags \u001b[38;5;241m=\u001b[39m \u001b[38;5;28;01mlambda\u001b[39;00m df: \u001b[38;5;28mfrozenset\u001b[39m([tag \u001b[38;5;28;01mfor\u001b[39;00m tag \u001b[38;5;129;01min\u001b[39;00m df\u001b[38;5;241m.\u001b[39mcolumns \u001b[38;5;28;01mif\u001b[39;00m tag \u001b[38;5;241m!=\u001b[39m \u001b[38;5;124m\"\u001b[39m\u001b[38;5;124muid\u001b[39m\u001b[38;5;124m\"\u001b[39m])\n",
      "File \u001b[0;32m~/Library/CloudStorage/OneDrive-Personal/2025/trade_journal/src/tradecli.py:80\u001b[0m, in \u001b[0;36mTradeJournal.to_dataframe\u001b[0;34m(self)\u001b[0m\n\u001b[1;32m     78\u001b[0m df[\u001b[38;5;124m'\u001b[39m\u001b[38;5;124mhas_type_2\u001b[39m\u001b[38;5;124m'\u001b[39m] \u001b[38;5;241m=\u001b[39m df[[col \u001b[38;5;28;01mfor\u001b[39;00m col \u001b[38;5;129;01min\u001b[39;00m df\u001b[38;5;241m.\u001b[39mcolumns \u001b[38;5;28;01mif\u001b[39;00m col\u001b[38;5;241m.\u001b[39mstartswith(\u001b[38;5;124m'\u001b[39m\u001b[38;5;124mtype_2_\u001b[39m\u001b[38;5;124m'\u001b[39m)]]\u001b[38;5;241m.\u001b[39many(axis\u001b[38;5;241m=\u001b[39m\u001b[38;5;241m1\u001b[39m)\n\u001b[1;32m     79\u001b[0m df[\u001b[38;5;124m'\u001b[39m\u001b[38;5;124mhas_type_3\u001b[39m\u001b[38;5;124m'\u001b[39m] \u001b[38;5;241m=\u001b[39m df[[col \u001b[38;5;28;01mfor\u001b[39;00m col \u001b[38;5;129;01min\u001b[39;00m df\u001b[38;5;241m.\u001b[39mcolumns \u001b[38;5;28;01mif\u001b[39;00m col\u001b[38;5;241m.\u001b[39mstartswith(\u001b[38;5;124m'\u001b[39m\u001b[38;5;124mtype_3_\u001b[39m\u001b[38;5;124m'\u001b[39m)]]\u001b[38;5;241m.\u001b[39many(axis\u001b[38;5;241m=\u001b[39m\u001b[38;5;241m1\u001b[39m)\n\u001b[0;32m---> 80\u001b[0m df[\u001b[38;5;124m'\u001b[39m\u001b[38;5;124mhas_time_frame\u001b[39m\u001b[38;5;124m'\u001b[39m] \u001b[38;5;241m=\u001b[39m df[[col \u001b[38;5;28;01mfor\u001b[39;00m col \u001b[38;5;129;01min\u001b[39;00m df\u001b[38;5;241m.\u001b[39mcolumns \u001b[38;5;28;01mif\u001b[39;00m col \u001b[38;5;129;01min\u001b[39;00m \u001b[43msrc\u001b[49m\u001b[38;5;241;43m.\u001b[39;49m\u001b[43mjournal\u001b[49m\u001b[38;5;241m.\u001b[39mTF\u001b[38;5;241m.\u001b[39mALL_TAGS]]\u001b[38;5;241m.\u001b[39many(axis\u001b[38;5;241m=\u001b[39m\u001b[38;5;241m1\u001b[39m)\n\u001b[1;32m     82\u001b[0m \u001b[38;5;28;01mreturn\u001b[39;00m df\n",
      "\u001b[0;31mAttributeError\u001b[0m: cannot access submodule 'journal' of module 'src' (most likely due to a circular import)"
     ]
    }
   ],
   "source": [
    "from src.tradecli import *\n",
    "from src.journal import *"
   ]
  },
  {
   "cell_type": "code",
   "execution_count": null,
   "metadata": {},
   "outputs": [
    {
     "name": "stderr",
     "output_type": "stream",
     "text": [
      "[autoreload of tradecli failed: Traceback (most recent call last):\n",
      "  File \"/Users/tobiaspucher/miniconda3/lib/python3.12/site-packages/IPython/extensions/autoreload.py\", line 276, in check\n",
      "    superreload(m, reload, self.old_objects)\n",
      "  File \"/Users/tobiaspucher/miniconda3/lib/python3.12/site-packages/IPython/extensions/autoreload.py\", line 475, in superreload\n",
      "    module = reload(module)\n",
      "             ^^^^^^^^^^^^^^\n",
      "  File \"/Users/tobiaspucher/miniconda3/lib/python3.12/importlib/__init__.py\", line 131, in reload\n",
      "    _bootstrap._exec(spec, module)\n",
      "  File \"<frozen importlib._bootstrap>\", line 866, in _exec\n",
      "  File \"<frozen importlib._bootstrap_external>\", line 995, in exec_module\n",
      "  File \"<frozen importlib._bootstrap>\", line 488, in _call_with_frames_removed\n",
      "  File \"/Users/tobiaspucher/Library/CloudStorage/OneDrive-Personal/2025/trade_journal/src/tradecli.py\", line 12, in <module>\n",
      "    from src.journal import *\n",
      "  File \"/Users/tobiaspucher/Library/CloudStorage/OneDrive-Personal/2025/trade_journal/src/journal.py\", line 24, in <module>\n",
      "    class PA:\n",
      "  File \"/Users/tobiaspucher/Library/CloudStorage/OneDrive-Personal/2025/trade_journal/src/journal.py\", line 40, in PA\n",
      "    def has_PA_tags(trade: Trade) -> bool:\n",
      "                           ^^^^^\n",
      "NameError: name 'Trade' is not defined. Did you mean: 'True'?\n",
      "]\n"
     ]
    },
    {
     "ename": "NameError",
     "evalue": "name 'full_df' is not defined",
     "output_type": "error",
     "traceback": [
      "\u001b[0;31m---------------------------------------------------------------------------\u001b[0m",
      "\u001b[0;31mNameError\u001b[0m                                 Traceback (most recent call last)",
      "Cell \u001b[0;32mIn[7], line 2\u001b[0m\n\u001b[1;32m      1\u001b[0m \u001b[38;5;66;03m# Generate the feature dataframe\u001b[39;00m\n\u001b[0;32m----> 2\u001b[0m \u001b[43mfull_df\u001b[49m\n",
      "\u001b[0;31mNameError\u001b[0m: name 'full_df' is not defined"
     ]
    }
   ],
   "source": [
    "# Generate the feature dataframe\n",
    "full_df"
   ]
  },
  {
   "cell_type": "code",
   "execution_count": 8,
   "metadata": {},
   "outputs": [
    {
     "ename": "NameError",
     "evalue": "name 'full_df' is not defined",
     "output_type": "error",
     "traceback": [
      "\u001b[0;31m---------------------------------------------------------------------------\u001b[0m",
      "\u001b[0;31mNameError\u001b[0m                                 Traceback (most recent call last)",
      "Cell \u001b[0;32mIn[8], line 1\u001b[0m\n\u001b[0;32m----> 1\u001b[0m \u001b[43mfull_df\u001b[49m\u001b[38;5;241m.\u001b[39mdtypes\n",
      "\u001b[0;31mNameError\u001b[0m: name 'full_df' is not defined"
     ]
    }
   ],
   "source": [
    "full_df.dtypes"
   ]
  },
  {
   "cell_type": "code",
   "execution_count": 3,
   "metadata": {},
   "outputs": [],
   "source": [
    "!rm -rf output"
   ]
  },
  {
   "cell_type": "code",
   "execution_count": 28,
   "metadata": {},
   "outputs": [
    {
     "name": "stderr",
     "output_type": "stream",
     "text": [
      "INFO:root:Converting trades to markdown\n"
     ]
    },
    {
     "name": "stderr",
     "output_type": "stream",
     "text": [
      "INFO:root:Writing index markdown\n",
      "INFO:root:Calculating simple statistics\n",
      "INFO:root:Analyzing tag relevance\n",
      "INFO:root:Finding best single tags and subsets\n",
      "INFO:root:Finding best single tags\n",
      "INFO:root:Finding best tag subsets\n",
      "INFO:root:Finding best tag subsets\n",
      "INFO:root:Calculating tags statistics\n",
      "INFO:root:Plotting statistics\n"
     ]
    }
   ],
   "source": [
    "j.to_markdown(output_dir='output')\n"
   ]
  },
  {
   "cell_type": "code",
   "execution_count": null,
   "metadata": {},
   "outputs": [],
   "source": []
  }
 ],
 "metadata": {
  "kernelspec": {
   "display_name": "base",
   "language": "python",
   "name": "python3"
  },
  "language_info": {
   "codemirror_mode": {
    "name": "ipython",
    "version": 3
   },
   "file_extension": ".py",
   "mimetype": "text/x-python",
   "name": "python",
   "nbconvert_exporter": "python",
   "pygments_lexer": "ipython3",
   "version": "3.12.2"
  }
 },
 "nbformat": 4,
 "nbformat_minor": 2
}
