{
 "cells": [
  {
   "cell_type": "code",
   "execution_count": 14,
   "metadata": {},
   "outputs": [
    {
     "name": "stdout",
     "output_type": "stream",
     "text": [
      "The autoreload extension is already loaded. To reload it, use:\n",
      "  %reload_ext autoreload\n"
     ]
    }
   ],
   "source": [
    "%load_ext autoreload\n",
    "%autoreload 2\n"
   ]
  },
  {
   "cell_type": "code",
   "execution_count": 15,
   "metadata": {},
   "outputs": [
    {
     "name": "stdout",
     "output_type": "stream",
     "text": [
      "frozenset({'m5', 'type_2_m30', 'm30', 'm1', 'w', 'type_2_M', 'type_1_m30', 'type_2_h4', 'h1', 'type_1_m5', 'type_2_d', 'd', 'type_1_h4', 'type_1_m15', 'M', 'h4', 'type_1_m1', 'type_1_h1', 'type_1_w', 'm15', 'type_2_w', 'type_1_d', 'type_2_h1', 'type_1_M', 'type_2_m1', 'type_2_m5', 'type_2_m15'})\n",
      "[Trade(uid='1', tags=[Tag(timestamp=datetime.datetime(2024, 12, 28, 15, 47, 3, 862687), key='type_1_m1', value=True), Tag(timestamp=datetime.datetime(2024, 12, 28, 15, 47, 3, 862694), key='type_3_m15', value=True)]), Trade(uid='2', tags=[Tag(timestamp=datetime.datetime(2024, 12, 28, 15, 47, 3, 862745), key='type_2_h1', value=True)]), Trade(uid='3', tags=[Tag(timestamp=datetime.datetime(2024, 12, 28, 15, 47, 3, 862747), key='SL_distance', value=0.5)]), Trade(uid='4', tags=[Tag(timestamp=datetime.datetime(2024, 12, 28, 15, 47, 3, 862747), key='SL_distance', value=0.5), Tag(timestamp=datetime.datetime(2024, 12, 28, 15, 47, 3, 862762), key='management_strategy', value='strategy_2')])]\n"
     ]
    },
    {
     "name": "stderr",
     "output_type": "stream",
     "text": [
      "[autoreload of tradecli failed: Traceback (most recent call last):\n",
      "  File \"/Users/tobiaspucher/miniconda3/lib/python3.12/site-packages/IPython/extensions/autoreload.py\", line 276, in check\n",
      "    superreload(m, reload, self.old_objects)\n",
      "  File \"/Users/tobiaspucher/miniconda3/lib/python3.12/site-packages/IPython/extensions/autoreload.py\", line 500, in superreload\n",
      "    update_generic(old_obj, new_obj)\n",
      "  File \"/Users/tobiaspucher/miniconda3/lib/python3.12/site-packages/IPython/extensions/autoreload.py\", line 397, in update_generic\n",
      "    update(a, b)\n",
      "  File \"/Users/tobiaspucher/miniconda3/lib/python3.12/site-packages/IPython/extensions/autoreload.py\", line 349, in update_class\n",
      "    if update_generic(old_obj, new_obj):\n",
      "       ^^^^^^^^^^^^^^^^^^^^^^^^^^^^^^^^\n",
      "  File \"/Users/tobiaspucher/miniconda3/lib/python3.12/site-packages/IPython/extensions/autoreload.py\", line 397, in update_generic\n",
      "    update(a, b)\n",
      "  File \"/Users/tobiaspucher/miniconda3/lib/python3.12/site-packages/IPython/extensions/autoreload.py\", line 309, in update_function\n",
      "    setattr(old, name, getattr(new, name))\n",
      "ValueError: __init__() requires a code object with 3 free vars, not 2\n",
      "]\n"
     ]
    }
   ],
   "source": [
    "from src.tradecli import TradeJournal\n",
    "from src.journal import journal"
   ]
  },
  {
   "cell_type": "code",
   "execution_count": 16,
   "metadata": {},
   "outputs": [
    {
     "name": "stdout",
     "output_type": "stream",
     "text": [
      "  trade_uid management_strategy type_1_m1 type_3_m15 type_2_h1  SL_distance\n",
      "0         1                None      True       True      None          NaN\n",
      "1         2                None      None       None      True          NaN\n",
      "2         3                None      None       None      None          0.5\n",
      "3         4          strategy_2      None       None      None          0.5\n"
     ]
    }
   ],
   "source": [
    "# Generate the feature dataframe\n",
    "df = journal.to_dataframe()\n",
    "print(df)"
   ]
  },
  {
   "cell_type": "code",
   "execution_count": 17,
   "metadata": {},
   "outputs": [
    {
     "name": "stdout",
     "output_type": "stream",
     "text": [
      "  trade_uid management_strategy type_1_m1 type_3_m15 type_2_h1  SL_distance\n",
      "2         3                None      None       None      None          0.5\n",
      "3         4          strategy_2      None       None      None          0.5\n"
     ]
    }
   ],
   "source": [
    "# Example analysis: Compare trades with different SL distances\n",
    "sl_trades = df[df['SL_distance'] > 0]\n",
    "print(sl_trades)"
   ]
  },
  {
   "cell_type": "code",
   "execution_count": null,
   "metadata": {},
   "outputs": [],
   "source": []
  }
 ],
 "metadata": {
  "kernelspec": {
   "display_name": "base",
   "language": "python",
   "name": "python3"
  },
  "language_info": {
   "codemirror_mode": {
    "name": "ipython",
    "version": 3
   },
   "file_extension": ".py",
   "mimetype": "text/x-python",
   "name": "python",
   "nbconvert_exporter": "python",
   "pygments_lexer": "ipython3",
   "version": "3.12.2"
  }
 },
 "nbformat": 4,
 "nbformat_minor": 2
}
