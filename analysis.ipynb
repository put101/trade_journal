{
 "cells": [
  {
   "cell_type": "code",
   "execution_count": 1,
   "metadata": {},
   "outputs": [
    {
     "name": "stdout",
     "output_type": "stream",
     "text": [
      "/bin/zsh\n",
      "/Users/tobiaspucher/miniconda3/bin:/opt/homebrew/opt/node@22/bin:/Users/tobiaspucher/miniconda3/bin:/Users/tobiaspucher/miniconda3/condabin:/opt/homebrew/bin:/opt/homebrew/sbin:/usr/local/bin:/System/Cryptexes/App/usr/bin:/usr/bin:/bin:/usr/sbin:/sbin:/var/run/com.apple.security.cryptexd/codex.system/bootstrap/usr/local/bin:/var/run/com.apple.security.cryptexd/codex.system/bootstrap/usr/bin:/var/run/com.apple.security.cryptexd/codex.system/bootstrap/usr/appleinternal/bin:/Library/Apple/usr/bin:/Library/TeX/texbin:/Users/tobiaspucher/.local/bin:/Users/tobiaspucher/Library/Application Support/JetBrains/Toolbox/scripts\n",
      "/Users/tobiaspucher/Library/CloudStorage/OneDrive-Personal/2025/trade_journal\n"
     ]
    }
   ],
   "source": [
    "!echo $SHELL\n",
    "!echo $PATH\n",
    "!echo $JOURNAL_ROOT"
   ]
  },
  {
   "cell_type": "code",
   "execution_count": 2,
   "metadata": {},
   "outputs": [
    {
     "data": {
      "text/plain": [
       "'/Users/tobiaspucher/Library/CloudStorage/OneDrive-Personal/2025/trade_journal'"
      ]
     },
     "execution_count": 2,
     "metadata": {},
     "output_type": "execute_result"
    }
   ],
   "source": [
    "%load_ext autoreload\n",
    "%autoreload 2\n",
    "import logging\n",
    "logging.basicConfig(level=logging.ERROR)\n",
    "import random\n",
    "random.seed(0)\n",
    "import os\n",
    "os.getenv('JOURNAL_ROOT')"
   ]
  },
  {
   "cell_type": "code",
   "execution_count": 4,
   "metadata": {},
   "outputs": [
    {
     "name": "stdout",
     "output_type": "stream",
     "text": [
      "frozenset({'type_2_d', 'h4', 'type_1_d', 'type_1_w', 'type_1_h4', 'type_2_h4', 'type_2_m15', 'w', 'type_1_m15', 'type_2_w', 'm1', 'type_2_m1', 'M', 'type_2_M', 'type_1_m5', 'type_1_m1', 'type_1_m30', 'type_1_h1', 'type_2_h1', 'm30', 'type_1_M', 'h1', 'm15', 'd', 'type_2_m5', 'm5', 'type_2_m30'})\n"
     ]
    }
   ],
   "source": [
    "from src.tradecli import *\n",
    "from src.utils import *\n",
    "from src.journal import *\n",
    "\n",
    "pd.set_option('display.max_rows', 500)\n",
    "pd.set_option('display.max_columns', 500)"
   ]
  },
  {
   "cell_type": "code",
   "execution_count": 10,
   "metadata": {},
   "outputs": [
    {
     "data": {
      "text/html": [
       "<div>\n",
       "<style scoped>\n",
       "    .dataframe tbody tr th:only-of-type {\n",
       "        vertical-align: middle;\n",
       "    }\n",
       "\n",
       "    .dataframe tbody tr th {\n",
       "        vertical-align: top;\n",
       "    }\n",
       "\n",
       "    .dataframe thead th {\n",
       "        text-align: right;\n",
       "    }\n",
       "</style>\n",
       "<table border=\"1\" class=\"dataframe\">\n",
       "  <thead>\n",
       "    <tr style=\"text-align: right;\">\n",
       "      <th></th>\n",
       "      <th>risk_reward_ratio</th>\n",
       "      <th>type_1_d</th>\n",
       "      <th>type_1_w</th>\n",
       "      <th>type_1_h4</th>\n",
       "      <th>type_1_m15</th>\n",
       "      <th>type_1_m5</th>\n",
       "      <th>side</th>\n",
       "      <th>type_1_m1</th>\n",
       "      <th>type_1_m30</th>\n",
       "      <th>type_1_h1</th>\n",
       "      <th>type_1_M</th>\n",
       "    </tr>\n",
       "  </thead>\n",
       "  <tbody>\n",
       "    <tr>\n",
       "      <th>0</th>\n",
       "      <td>2.000000</td>\n",
       "      <td>False</td>\n",
       "      <td>False</td>\n",
       "      <td>False</td>\n",
       "      <td>False</td>\n",
       "      <td>False</td>\n",
       "      <td>long</td>\n",
       "      <td>True</td>\n",
       "      <td>False</td>\n",
       "      <td>False</td>\n",
       "      <td>False</td>\n",
       "    </tr>\n",
       "    <tr>\n",
       "      <th>1</th>\n",
       "      <td>0.666667</td>\n",
       "      <td>False</td>\n",
       "      <td>False</td>\n",
       "      <td>False</td>\n",
       "      <td>False</td>\n",
       "      <td>False</td>\n",
       "      <td>long</td>\n",
       "      <td>False</td>\n",
       "      <td>False</td>\n",
       "      <td>False</td>\n",
       "      <td>False</td>\n",
       "    </tr>\n",
       "    <tr>\n",
       "      <th>2</th>\n",
       "      <td>10.000000</td>\n",
       "      <td>False</td>\n",
       "      <td>False</td>\n",
       "      <td>False</td>\n",
       "      <td>False</td>\n",
       "      <td>False</td>\n",
       "      <td>long</td>\n",
       "      <td>False</td>\n",
       "      <td>False</td>\n",
       "      <td>False</td>\n",
       "      <td>False</td>\n",
       "    </tr>\n",
       "    <tr>\n",
       "      <th>3</th>\n",
       "      <td>10.000000</td>\n",
       "      <td>False</td>\n",
       "      <td>False</td>\n",
       "      <td>False</td>\n",
       "      <td>False</td>\n",
       "      <td>False</td>\n",
       "      <td>long</td>\n",
       "      <td>False</td>\n",
       "      <td>False</td>\n",
       "      <td>False</td>\n",
       "      <td>False</td>\n",
       "    </tr>\n",
       "    <tr>\n",
       "      <th>4</th>\n",
       "      <td>3.000000</td>\n",
       "      <td>True</td>\n",
       "      <td>False</td>\n",
       "      <td>False</td>\n",
       "      <td>False</td>\n",
       "      <td>False</td>\n",
       "      <td>long</td>\n",
       "      <td>False</td>\n",
       "      <td>False</td>\n",
       "      <td>False</td>\n",
       "      <td>False</td>\n",
       "    </tr>\n",
       "    <tr>\n",
       "      <th>5</th>\n",
       "      <td>3.943182</td>\n",
       "      <td>False</td>\n",
       "      <td>False</td>\n",
       "      <td>False</td>\n",
       "      <td>False</td>\n",
       "      <td>False</td>\n",
       "      <td>long</td>\n",
       "      <td>False</td>\n",
       "      <td>False</td>\n",
       "      <td>False</td>\n",
       "      <td>True</td>\n",
       "    </tr>\n",
       "    <tr>\n",
       "      <th>6</th>\n",
       "      <td>3.323529</td>\n",
       "      <td>False</td>\n",
       "      <td>False</td>\n",
       "      <td>True</td>\n",
       "      <td>False</td>\n",
       "      <td>False</td>\n",
       "      <td>long</td>\n",
       "      <td>False</td>\n",
       "      <td>False</td>\n",
       "      <td>False</td>\n",
       "      <td>False</td>\n",
       "    </tr>\n",
       "    <tr>\n",
       "      <th>7</th>\n",
       "      <td>7.927273</td>\n",
       "      <td>False</td>\n",
       "      <td>False</td>\n",
       "      <td>False</td>\n",
       "      <td>False</td>\n",
       "      <td>False</td>\n",
       "      <td>long</td>\n",
       "      <td>True</td>\n",
       "      <td>False</td>\n",
       "      <td>False</td>\n",
       "      <td>False</td>\n",
       "    </tr>\n",
       "    <tr>\n",
       "      <th>8</th>\n",
       "      <td>8.811321</td>\n",
       "      <td>False</td>\n",
       "      <td>False</td>\n",
       "      <td>False</td>\n",
       "      <td>False</td>\n",
       "      <td>False</td>\n",
       "      <td>long</td>\n",
       "      <td>False</td>\n",
       "      <td>True</td>\n",
       "      <td>False</td>\n",
       "      <td>False</td>\n",
       "    </tr>\n",
       "    <tr>\n",
       "      <th>9</th>\n",
       "      <td>2.986486</td>\n",
       "      <td>False</td>\n",
       "      <td>False</td>\n",
       "      <td>True</td>\n",
       "      <td>False</td>\n",
       "      <td>False</td>\n",
       "      <td>long</td>\n",
       "      <td>False</td>\n",
       "      <td>False</td>\n",
       "      <td>False</td>\n",
       "      <td>False</td>\n",
       "    </tr>\n",
       "    <tr>\n",
       "      <th>10</th>\n",
       "      <td>3.175000</td>\n",
       "      <td>False</td>\n",
       "      <td>False</td>\n",
       "      <td>False</td>\n",
       "      <td>False</td>\n",
       "      <td>False</td>\n",
       "      <td>long</td>\n",
       "      <td>False</td>\n",
       "      <td>False</td>\n",
       "      <td>False</td>\n",
       "      <td>True</td>\n",
       "    </tr>\n",
       "    <tr>\n",
       "      <th>11</th>\n",
       "      <td>5.125000</td>\n",
       "      <td>False</td>\n",
       "      <td>True</td>\n",
       "      <td>False</td>\n",
       "      <td>False</td>\n",
       "      <td>False</td>\n",
       "      <td>long</td>\n",
       "      <td>False</td>\n",
       "      <td>False</td>\n",
       "      <td>False</td>\n",
       "      <td>False</td>\n",
       "    </tr>\n",
       "    <tr>\n",
       "      <th>12</th>\n",
       "      <td>4.986301</td>\n",
       "      <td>False</td>\n",
       "      <td>False</td>\n",
       "      <td>False</td>\n",
       "      <td>False</td>\n",
       "      <td>False</td>\n",
       "      <td>long</td>\n",
       "      <td>False</td>\n",
       "      <td>True</td>\n",
       "      <td>False</td>\n",
       "      <td>False</td>\n",
       "    </tr>\n",
       "    <tr>\n",
       "      <th>13</th>\n",
       "      <td>6.338710</td>\n",
       "      <td>False</td>\n",
       "      <td>True</td>\n",
       "      <td>False</td>\n",
       "      <td>False</td>\n",
       "      <td>False</td>\n",
       "      <td>long</td>\n",
       "      <td>False</td>\n",
       "      <td>False</td>\n",
       "      <td>False</td>\n",
       "      <td>False</td>\n",
       "    </tr>\n",
       "  </tbody>\n",
       "</table>\n",
       "</div>"
      ],
      "text/plain": [
       "    risk_reward_ratio  type_1_d  type_1_w  type_1_h4  type_1_m15  type_1_m5  \\\n",
       "0            2.000000     False     False      False       False      False   \n",
       "1            0.666667     False     False      False       False      False   \n",
       "2           10.000000     False     False      False       False      False   \n",
       "3           10.000000     False     False      False       False      False   \n",
       "4            3.000000      True     False      False       False      False   \n",
       "5            3.943182     False     False      False       False      False   \n",
       "6            3.323529     False     False       True       False      False   \n",
       "7            7.927273     False     False      False       False      False   \n",
       "8            8.811321     False     False      False       False      False   \n",
       "9            2.986486     False     False       True       False      False   \n",
       "10           3.175000     False     False      False       False      False   \n",
       "11           5.125000     False      True      False       False      False   \n",
       "12           4.986301     False     False      False       False      False   \n",
       "13           6.338710     False      True      False       False      False   \n",
       "\n",
       "    side  type_1_m1  type_1_m30  type_1_h1  type_1_M  \n",
       "0   long       True       False      False     False  \n",
       "1   long      False       False      False     False  \n",
       "2   long      False       False      False     False  \n",
       "3   long      False       False      False     False  \n",
       "4   long      False       False      False     False  \n",
       "5   long      False       False      False      True  \n",
       "6   long      False       False      False     False  \n",
       "7   long       True       False      False     False  \n",
       "8   long      False        True      False     False  \n",
       "9   long      False       False      False     False  \n",
       "10  long      False       False      False      True  \n",
       "11  long      False       False      False     False  \n",
       "12  long      False        True      False     False  \n",
       "13  long      False       False      False     False  "
      ]
     },
     "metadata": {},
     "output_type": "display_data"
    }
   ],
   "source": [
    "config = Config(\n",
    "    include_patterns=[r'^type_1_', r'^risk_reward_ratio$', r'^side'],  \n",
    "    exclude_patterns=[r'^management_strategy$'],         \n",
    "    #force_values={'side': 'short', 'side': 'long'},\n",
    ")\n",
    "\n",
    "full_df = j.to_dataframe(config)\n",
    "#full_df = full_df[full_df['side'] == 'long']\n",
    "display(full_df)"
   ]
  },
  {
   "cell_type": "code",
   "execution_count": 11,
   "metadata": {},
   "outputs": [],
   "source": [
    "!rm -rf output\n",
    "logger = logging.getLogger()\n",
    "logger.setLevel(logging.ERROR)\n",
    "j.to_markdown(output_dir='output',)"
   ]
  },
  {
   "cell_type": "code",
   "execution_count": 12,
   "metadata": {},
   "outputs": [
    {
     "data": {
      "text/html": [
       "<div>\n",
       "<style scoped>\n",
       "    .dataframe tbody tr th:only-of-type {\n",
       "        vertical-align: middle;\n",
       "    }\n",
       "\n",
       "    .dataframe tbody tr th {\n",
       "        vertical-align: top;\n",
       "    }\n",
       "\n",
       "    .dataframe thead th {\n",
       "        text-align: right;\n",
       "    }\n",
       "</style>\n",
       "<table border=\"1\" class=\"dataframe\">\n",
       "  <thead>\n",
       "    <tr style=\"text-align: right;\">\n",
       "      <th></th>\n",
       "      <th>trade_uid</th>\n",
       "      <th>risk_reward_ratio</th>\n",
       "      <th>type_2_d</th>\n",
       "      <th>sl_price</th>\n",
       "      <th>type_1_d</th>\n",
       "      <th>type_1_w</th>\n",
       "      <th>entry_time</th>\n",
       "      <th>type_1_h4</th>\n",
       "      <th>management_strategy</th>\n",
       "      <th>type_2_h4</th>\n",
       "      <th>type_3_h4</th>\n",
       "      <th>type_2_m15</th>\n",
       "      <th>potential_risk_reward</th>\n",
       "      <th>tp_price</th>\n",
       "      <th>type_1_m15</th>\n",
       "      <th>type_2_w</th>\n",
       "      <th>type_3_d</th>\n",
       "      <th>initial_return</th>\n",
       "      <th>SL_distance</th>\n",
       "      <th>type_2_m1</th>\n",
       "      <th>type_2_M</th>\n",
       "      <th>close_price</th>\n",
       "      <th>initial_risk_reward</th>\n",
       "      <th>type_1_m5</th>\n",
       "      <th>htf_poi_ltf_confirmation</th>\n",
       "      <th>side</th>\n",
       "      <th>type_3_m15</th>\n",
       "      <th>type_1_m1</th>\n",
       "      <th>type_1_m30</th>\n",
       "      <th>type_3_m5</th>\n",
       "      <th>type_3_h1</th>\n",
       "      <th>numerical_confidence</th>\n",
       "      <th>entry_price</th>\n",
       "      <th>type_1_h1</th>\n",
       "      <th>outcome</th>\n",
       "      <th>type_2_h1</th>\n",
       "      <th>type_3_m1</th>\n",
       "      <th>type_1_M</th>\n",
       "      <th>type_3_m30</th>\n",
       "      <th>type_3_w</th>\n",
       "      <th>potential_return</th>\n",
       "      <th>type_3_M</th>\n",
       "      <th>type_2_m5</th>\n",
       "      <th>return</th>\n",
       "      <th>TP_distance</th>\n",
       "      <th>potential_price</th>\n",
       "      <th>session</th>\n",
       "      <th>type_2_m30</th>\n",
       "      <th>htf_poi_ltf_confirmation_False</th>\n",
       "      <th>htf_poi_ltf_confirmation_True</th>\n",
       "      <th>management_strategy_be_after_1r</th>\n",
       "      <th>management_strategy_be_after_push</th>\n",
       "      <th>management_strategy_no_management</th>\n",
       "      <th>management_strategy_strategy_2</th>\n",
       "      <th>outcome_loss</th>\n",
       "      <th>outcome_win</th>\n",
       "    </tr>\n",
       "  </thead>\n",
       "  <tbody>\n",
       "    <tr>\n",
       "      <th>0</th>\n",
       "      <td>1</td>\n",
       "      <td>2.000000</td>\n",
       "      <td>False</td>\n",
       "      <td>1.0950</td>\n",
       "      <td>False</td>\n",
       "      <td>False</td>\n",
       "      <td>2025-01-10 20:47:38.336306</td>\n",
       "      <td>False</td>\n",
       "      <td>no_management</td>\n",
       "      <td>False</td>\n",
       "      <td>False</td>\n",
       "      <td>False</td>\n",
       "      <td>NaN</td>\n",
       "      <td>1.1100</td>\n",
       "      <td>False</td>\n",
       "      <td>False</td>\n",
       "      <td>False</td>\n",
       "      <td>0.0100</td>\n",
       "      <td>0.0050</td>\n",
       "      <td>False</td>\n",
       "      <td>False</td>\n",
       "      <td>NaN</td>\n",
       "      <td>2.000000</td>\n",
       "      <td>False</td>\n",
       "      <td>False</td>\n",
       "      <td>long</td>\n",
       "      <td>True</td>\n",
       "      <td>True</td>\n",
       "      <td>False</td>\n",
       "      <td>False</td>\n",
       "      <td>False</td>\n",
       "      <td>3.0</td>\n",
       "      <td>1.1000</td>\n",
       "      <td>False</td>\n",
       "      <td>NaN</td>\n",
       "      <td>False</td>\n",
       "      <td>False</td>\n",
       "      <td>False</td>\n",
       "      <td>False</td>\n",
       "      <td>False</td>\n",
       "      <td>NaN</td>\n",
       "      <td>False</td>\n",
       "      <td>False</td>\n",
       "      <td>NaN</td>\n",
       "      <td>0.0100</td>\n",
       "      <td>NaN</td>\n",
       "      <td>tokyo</td>\n",
       "      <td>False</td>\n",
       "      <td>True</td>\n",
       "      <td>False</td>\n",
       "      <td>False</td>\n",
       "      <td>False</td>\n",
       "      <td>True</td>\n",
       "      <td>False</td>\n",
       "      <td>False</td>\n",
       "      <td>False</td>\n",
       "    </tr>\n",
       "    <tr>\n",
       "      <th>1</th>\n",
       "      <td>2</td>\n",
       "      <td>0.666667</td>\n",
       "      <td>False</td>\n",
       "      <td>1.1850</td>\n",
       "      <td>False</td>\n",
       "      <td>False</td>\n",
       "      <td>2025-01-10 20:47:38.336333</td>\n",
       "      <td>False</td>\n",
       "      <td>no_management</td>\n",
       "      <td>False</td>\n",
       "      <td>False</td>\n",
       "      <td>False</td>\n",
       "      <td>NaN</td>\n",
       "      <td>1.2100</td>\n",
       "      <td>False</td>\n",
       "      <td>False</td>\n",
       "      <td>False</td>\n",
       "      <td>0.0100</td>\n",
       "      <td>0.0150</td>\n",
       "      <td>False</td>\n",
       "      <td>False</td>\n",
       "      <td>1.1855</td>\n",
       "      <td>0.666667</td>\n",
       "      <td>False</td>\n",
       "      <td>True</td>\n",
       "      <td>long</td>\n",
       "      <td>False</td>\n",
       "      <td>False</td>\n",
       "      <td>False</td>\n",
       "      <td>False</td>\n",
       "      <td>False</td>\n",
       "      <td>2.0</td>\n",
       "      <td>1.2000</td>\n",
       "      <td>False</td>\n",
       "      <td>loss</td>\n",
       "      <td>True</td>\n",
       "      <td>False</td>\n",
       "      <td>False</td>\n",
       "      <td>False</td>\n",
       "      <td>False</td>\n",
       "      <td>NaN</td>\n",
       "      <td>False</td>\n",
       "      <td>False</td>\n",
       "      <td>-0.0145</td>\n",
       "      <td>0.0100</td>\n",
       "      <td>NaN</td>\n",
       "      <td>tokyo</td>\n",
       "      <td>False</td>\n",
       "      <td>False</td>\n",
       "      <td>True</td>\n",
       "      <td>False</td>\n",
       "      <td>False</td>\n",
       "      <td>True</td>\n",
       "      <td>False</td>\n",
       "      <td>True</td>\n",
       "      <td>False</td>\n",
       "    </tr>\n",
       "    <tr>\n",
       "      <th>2</th>\n",
       "      <td>3</td>\n",
       "      <td>10.000000</td>\n",
       "      <td>False</td>\n",
       "      <td>1.2970</td>\n",
       "      <td>False</td>\n",
       "      <td>False</td>\n",
       "      <td>2024-12-27 10:00:01.000000</td>\n",
       "      <td>False</td>\n",
       "      <td>no_management</td>\n",
       "      <td>False</td>\n",
       "      <td>False</td>\n",
       "      <td>False</td>\n",
       "      <td>NaN</td>\n",
       "      <td>1.3300</td>\n",
       "      <td>False</td>\n",
       "      <td>False</td>\n",
       "      <td>False</td>\n",
       "      <td>0.0300</td>\n",
       "      <td>0.5000</td>\n",
       "      <td>False</td>\n",
       "      <td>False</td>\n",
       "      <td>NaN</td>\n",
       "      <td>10.000000</td>\n",
       "      <td>False</td>\n",
       "      <td>False</td>\n",
       "      <td>long</td>\n",
       "      <td>False</td>\n",
       "      <td>False</td>\n",
       "      <td>False</td>\n",
       "      <td>False</td>\n",
       "      <td>False</td>\n",
       "      <td>NaN</td>\n",
       "      <td>1.3000</td>\n",
       "      <td>False</td>\n",
       "      <td>NaN</td>\n",
       "      <td>False</td>\n",
       "      <td>False</td>\n",
       "      <td>False</td>\n",
       "      <td>False</td>\n",
       "      <td>False</td>\n",
       "      <td>NaN</td>\n",
       "      <td>False</td>\n",
       "      <td>False</td>\n",
       "      <td>NaN</td>\n",
       "      <td>0.0300</td>\n",
       "      <td>NaN</td>\n",
       "      <td>london</td>\n",
       "      <td>False</td>\n",
       "      <td>True</td>\n",
       "      <td>False</td>\n",
       "      <td>False</td>\n",
       "      <td>False</td>\n",
       "      <td>True</td>\n",
       "      <td>False</td>\n",
       "      <td>False</td>\n",
       "      <td>False</td>\n",
       "    </tr>\n",
       "    <tr>\n",
       "      <th>3</th>\n",
       "      <td>4</td>\n",
       "      <td>10.000000</td>\n",
       "      <td>False</td>\n",
       "      <td>1.2970</td>\n",
       "      <td>False</td>\n",
       "      <td>False</td>\n",
       "      <td>2024-12-25 10:00:00.000000</td>\n",
       "      <td>False</td>\n",
       "      <td>strategy_2</td>\n",
       "      <td>False</td>\n",
       "      <td>False</td>\n",
       "      <td>False</td>\n",
       "      <td>5.000000</td>\n",
       "      <td>1.3300</td>\n",
       "      <td>False</td>\n",
       "      <td>False</td>\n",
       "      <td>False</td>\n",
       "      <td>0.0300</td>\n",
       "      <td>0.5000</td>\n",
       "      <td>False</td>\n",
       "      <td>False</td>\n",
       "      <td>1.3050</td>\n",
       "      <td>10.000000</td>\n",
       "      <td>False</td>\n",
       "      <td>False</td>\n",
       "      <td>long</td>\n",
       "      <td>False</td>\n",
       "      <td>False</td>\n",
       "      <td>False</td>\n",
       "      <td>False</td>\n",
       "      <td>False</td>\n",
       "      <td>4.0</td>\n",
       "      <td>1.3000</td>\n",
       "      <td>False</td>\n",
       "      <td>win</td>\n",
       "      <td>False</td>\n",
       "      <td>False</td>\n",
       "      <td>False</td>\n",
       "      <td>False</td>\n",
       "      <td>False</td>\n",
       "      <td>0.0150</td>\n",
       "      <td>False</td>\n",
       "      <td>False</td>\n",
       "      <td>0.0050</td>\n",
       "      <td>0.0300</td>\n",
       "      <td>1.3150</td>\n",
       "      <td>london</td>\n",
       "      <td>False</td>\n",
       "      <td>True</td>\n",
       "      <td>False</td>\n",
       "      <td>False</td>\n",
       "      <td>False</td>\n",
       "      <td>False</td>\n",
       "      <td>True</td>\n",
       "      <td>False</td>\n",
       "      <td>True</td>\n",
       "    </tr>\n",
       "    <tr>\n",
       "      <th>4</th>\n",
       "      <td>5</td>\n",
       "      <td>3.000000</td>\n",
       "      <td>True</td>\n",
       "      <td>1.1018</td>\n",
       "      <td>True</td>\n",
       "      <td>False</td>\n",
       "      <td>2025-01-10 20:47:38.336956</td>\n",
       "      <td>False</td>\n",
       "      <td>be_after_1r</td>\n",
       "      <td>False</td>\n",
       "      <td>False</td>\n",
       "      <td>False</td>\n",
       "      <td>3.397959</td>\n",
       "      <td>1.1410</td>\n",
       "      <td>False</td>\n",
       "      <td>False</td>\n",
       "      <td>False</td>\n",
       "      <td>0.0294</td>\n",
       "      <td>0.0098</td>\n",
       "      <td>False</td>\n",
       "      <td>False</td>\n",
       "      <td>1.1248</td>\n",
       "      <td>3.000000</td>\n",
       "      <td>False</td>\n",
       "      <td>False</td>\n",
       "      <td>long</td>\n",
       "      <td>False</td>\n",
       "      <td>False</td>\n",
       "      <td>False</td>\n",
       "      <td>False</td>\n",
       "      <td>False</td>\n",
       "      <td>3.0</td>\n",
       "      <td>1.1116</td>\n",
       "      <td>False</td>\n",
       "      <td>win</td>\n",
       "      <td>False</td>\n",
       "      <td>False</td>\n",
       "      <td>False</td>\n",
       "      <td>False</td>\n",
       "      <td>False</td>\n",
       "      <td>0.0333</td>\n",
       "      <td>False</td>\n",
       "      <td>False</td>\n",
       "      <td>0.0132</td>\n",
       "      <td>0.0294</td>\n",
       "      <td>1.1449</td>\n",
       "      <td>tokyo</td>\n",
       "      <td>False</td>\n",
       "      <td>True</td>\n",
       "      <td>False</td>\n",
       "      <td>True</td>\n",
       "      <td>False</td>\n",
       "      <td>False</td>\n",
       "      <td>False</td>\n",
       "      <td>False</td>\n",
       "      <td>True</td>\n",
       "    </tr>\n",
       "    <tr>\n",
       "      <th>5</th>\n",
       "      <td>6</td>\n",
       "      <td>3.943182</td>\n",
       "      <td>False</td>\n",
       "      <td>1.1125</td>\n",
       "      <td>False</td>\n",
       "      <td>False</td>\n",
       "      <td>2025-01-10 20:47:38.336986</td>\n",
       "      <td>False</td>\n",
       "      <td>no_management</td>\n",
       "      <td>False</td>\n",
       "      <td>False</td>\n",
       "      <td>True</td>\n",
       "      <td>1.590909</td>\n",
       "      <td>1.1560</td>\n",
       "      <td>False</td>\n",
       "      <td>False</td>\n",
       "      <td>False</td>\n",
       "      <td>0.0347</td>\n",
       "      <td>0.0088</td>\n",
       "      <td>False</td>\n",
       "      <td>False</td>\n",
       "      <td>NaN</td>\n",
       "      <td>3.943182</td>\n",
       "      <td>False</td>\n",
       "      <td>True</td>\n",
       "      <td>long</td>\n",
       "      <td>False</td>\n",
       "      <td>False</td>\n",
       "      <td>False</td>\n",
       "      <td>False</td>\n",
       "      <td>False</td>\n",
       "      <td>3.0</td>\n",
       "      <td>1.1213</td>\n",
       "      <td>False</td>\n",
       "      <td>NaN</td>\n",
       "      <td>False</td>\n",
       "      <td>False</td>\n",
       "      <td>True</td>\n",
       "      <td>False</td>\n",
       "      <td>False</td>\n",
       "      <td>0.0140</td>\n",
       "      <td>False</td>\n",
       "      <td>False</td>\n",
       "      <td>NaN</td>\n",
       "      <td>0.0347</td>\n",
       "      <td>1.1353</td>\n",
       "      <td>tokyo</td>\n",
       "      <td>False</td>\n",
       "      <td>False</td>\n",
       "      <td>True</td>\n",
       "      <td>False</td>\n",
       "      <td>False</td>\n",
       "      <td>True</td>\n",
       "      <td>False</td>\n",
       "      <td>False</td>\n",
       "      <td>False</td>\n",
       "    </tr>\n",
       "    <tr>\n",
       "      <th>6</th>\n",
       "      <td>7</td>\n",
       "      <td>3.323529</td>\n",
       "      <td>False</td>\n",
       "      <td>1.1256</td>\n",
       "      <td>False</td>\n",
       "      <td>False</td>\n",
       "      <td>2025-01-10 20:47:38.337009</td>\n",
       "      <td>True</td>\n",
       "      <td>be_after_push</td>\n",
       "      <td>False</td>\n",
       "      <td>False</td>\n",
       "      <td>False</td>\n",
       "      <td>6.558824</td>\n",
       "      <td>1.1550</td>\n",
       "      <td>False</td>\n",
       "      <td>True</td>\n",
       "      <td>False</td>\n",
       "      <td>0.0226</td>\n",
       "      <td>0.0068</td>\n",
       "      <td>False</td>\n",
       "      <td>False</td>\n",
       "      <td>1.1206</td>\n",
       "      <td>3.323529</td>\n",
       "      <td>False</td>\n",
       "      <td>False</td>\n",
       "      <td>long</td>\n",
       "      <td>False</td>\n",
       "      <td>False</td>\n",
       "      <td>False</td>\n",
       "      <td>False</td>\n",
       "      <td>False</td>\n",
       "      <td>4.0</td>\n",
       "      <td>1.1324</td>\n",
       "      <td>False</td>\n",
       "      <td>loss</td>\n",
       "      <td>False</td>\n",
       "      <td>False</td>\n",
       "      <td>False</td>\n",
       "      <td>False</td>\n",
       "      <td>False</td>\n",
       "      <td>0.0446</td>\n",
       "      <td>False</td>\n",
       "      <td>False</td>\n",
       "      <td>-0.0118</td>\n",
       "      <td>0.0226</td>\n",
       "      <td>1.1770</td>\n",
       "      <td>tokyo</td>\n",
       "      <td>False</td>\n",
       "      <td>True</td>\n",
       "      <td>False</td>\n",
       "      <td>False</td>\n",
       "      <td>True</td>\n",
       "      <td>False</td>\n",
       "      <td>False</td>\n",
       "      <td>True</td>\n",
       "      <td>False</td>\n",
       "    </tr>\n",
       "    <tr>\n",
       "      <th>7</th>\n",
       "      <td>8</td>\n",
       "      <td>7.927273</td>\n",
       "      <td>False</td>\n",
       "      <td>1.1411</td>\n",
       "      <td>False</td>\n",
       "      <td>False</td>\n",
       "      <td>2025-01-10 20:47:38.337029</td>\n",
       "      <td>False</td>\n",
       "      <td>be_after_push</td>\n",
       "      <td>False</td>\n",
       "      <td>False</td>\n",
       "      <td>False</td>\n",
       "      <td>5.400000</td>\n",
       "      <td>1.1902</td>\n",
       "      <td>False</td>\n",
       "      <td>False</td>\n",
       "      <td>False</td>\n",
       "      <td>0.0436</td>\n",
       "      <td>0.0055</td>\n",
       "      <td>False</td>\n",
       "      <td>True</td>\n",
       "      <td>1.1580</td>\n",
       "      <td>7.927273</td>\n",
       "      <td>False</td>\n",
       "      <td>True</td>\n",
       "      <td>long</td>\n",
       "      <td>False</td>\n",
       "      <td>True</td>\n",
       "      <td>False</td>\n",
       "      <td>False</td>\n",
       "      <td>False</td>\n",
       "      <td>5.0</td>\n",
       "      <td>1.1466</td>\n",
       "      <td>False</td>\n",
       "      <td>win</td>\n",
       "      <td>False</td>\n",
       "      <td>False</td>\n",
       "      <td>False</td>\n",
       "      <td>False</td>\n",
       "      <td>False</td>\n",
       "      <td>0.0297</td>\n",
       "      <td>False</td>\n",
       "      <td>False</td>\n",
       "      <td>0.0114</td>\n",
       "      <td>0.0436</td>\n",
       "      <td>1.1763</td>\n",
       "      <td>tokyo</td>\n",
       "      <td>False</td>\n",
       "      <td>False</td>\n",
       "      <td>True</td>\n",
       "      <td>False</td>\n",
       "      <td>True</td>\n",
       "      <td>False</td>\n",
       "      <td>False</td>\n",
       "      <td>False</td>\n",
       "      <td>True</td>\n",
       "    </tr>\n",
       "    <tr>\n",
       "      <th>8</th>\n",
       "      <td>9</td>\n",
       "      <td>8.811321</td>\n",
       "      <td>False</td>\n",
       "      <td>1.1328</td>\n",
       "      <td>False</td>\n",
       "      <td>False</td>\n",
       "      <td>2025-01-10 20:47:38.337047</td>\n",
       "      <td>False</td>\n",
       "      <td>no_management</td>\n",
       "      <td>True</td>\n",
       "      <td>False</td>\n",
       "      <td>False</td>\n",
       "      <td>5.264151</td>\n",
       "      <td>1.1848</td>\n",
       "      <td>False</td>\n",
       "      <td>False</td>\n",
       "      <td>False</td>\n",
       "      <td>0.0467</td>\n",
       "      <td>0.0053</td>\n",
       "      <td>False</td>\n",
       "      <td>False</td>\n",
       "      <td>NaN</td>\n",
       "      <td>8.811321</td>\n",
       "      <td>False</td>\n",
       "      <td>True</td>\n",
       "      <td>long</td>\n",
       "      <td>False</td>\n",
       "      <td>False</td>\n",
       "      <td>True</td>\n",
       "      <td>False</td>\n",
       "      <td>False</td>\n",
       "      <td>5.0</td>\n",
       "      <td>1.1381</td>\n",
       "      <td>False</td>\n",
       "      <td>NaN</td>\n",
       "      <td>False</td>\n",
       "      <td>False</td>\n",
       "      <td>False</td>\n",
       "      <td>False</td>\n",
       "      <td>False</td>\n",
       "      <td>0.0279</td>\n",
       "      <td>False</td>\n",
       "      <td>False</td>\n",
       "      <td>NaN</td>\n",
       "      <td>0.0467</td>\n",
       "      <td>1.1660</td>\n",
       "      <td>tokyo</td>\n",
       "      <td>False</td>\n",
       "      <td>False</td>\n",
       "      <td>True</td>\n",
       "      <td>False</td>\n",
       "      <td>False</td>\n",
       "      <td>True</td>\n",
       "      <td>False</td>\n",
       "      <td>False</td>\n",
       "      <td>False</td>\n",
       "    </tr>\n",
       "    <tr>\n",
       "      <th>9</th>\n",
       "      <td>10</td>\n",
       "      <td>2.986486</td>\n",
       "      <td>False</td>\n",
       "      <td>1.1425</td>\n",
       "      <td>False</td>\n",
       "      <td>False</td>\n",
       "      <td>2025-01-10 20:47:38.337064</td>\n",
       "      <td>True</td>\n",
       "      <td>be_after_1r</td>\n",
       "      <td>False</td>\n",
       "      <td>False</td>\n",
       "      <td>False</td>\n",
       "      <td>3.148649</td>\n",
       "      <td>1.1720</td>\n",
       "      <td>False</td>\n",
       "      <td>False</td>\n",
       "      <td>False</td>\n",
       "      <td>0.0221</td>\n",
       "      <td>0.0074</td>\n",
       "      <td>False</td>\n",
       "      <td>True</td>\n",
       "      <td>NaN</td>\n",
       "      <td>2.986486</td>\n",
       "      <td>False</td>\n",
       "      <td>True</td>\n",
       "      <td>long</td>\n",
       "      <td>False</td>\n",
       "      <td>False</td>\n",
       "      <td>False</td>\n",
       "      <td>False</td>\n",
       "      <td>False</td>\n",
       "      <td>5.0</td>\n",
       "      <td>1.1499</td>\n",
       "      <td>False</td>\n",
       "      <td>NaN</td>\n",
       "      <td>False</td>\n",
       "      <td>False</td>\n",
       "      <td>False</td>\n",
       "      <td>False</td>\n",
       "      <td>False</td>\n",
       "      <td>0.0233</td>\n",
       "      <td>False</td>\n",
       "      <td>False</td>\n",
       "      <td>NaN</td>\n",
       "      <td>0.0221</td>\n",
       "      <td>1.1732</td>\n",
       "      <td>tokyo</td>\n",
       "      <td>False</td>\n",
       "      <td>False</td>\n",
       "      <td>True</td>\n",
       "      <td>True</td>\n",
       "      <td>False</td>\n",
       "      <td>False</td>\n",
       "      <td>False</td>\n",
       "      <td>False</td>\n",
       "      <td>False</td>\n",
       "    </tr>\n",
       "    <tr>\n",
       "      <th>10</th>\n",
       "      <td>11</td>\n",
       "      <td>3.175000</td>\n",
       "      <td>False</td>\n",
       "      <td>1.1198</td>\n",
       "      <td>False</td>\n",
       "      <td>False</td>\n",
       "      <td>2025-01-10 20:47:38.337082</td>\n",
       "      <td>False</td>\n",
       "      <td>be_after_push</td>\n",
       "      <td>False</td>\n",
       "      <td>False</td>\n",
       "      <td>False</td>\n",
       "      <td>1.412500</td>\n",
       "      <td>1.1532</td>\n",
       "      <td>False</td>\n",
       "      <td>False</td>\n",
       "      <td>False</td>\n",
       "      <td>0.0254</td>\n",
       "      <td>0.0080</td>\n",
       "      <td>False</td>\n",
       "      <td>False</td>\n",
       "      <td>1.1194</td>\n",
       "      <td>3.175000</td>\n",
       "      <td>False</td>\n",
       "      <td>True</td>\n",
       "      <td>long</td>\n",
       "      <td>False</td>\n",
       "      <td>False</td>\n",
       "      <td>False</td>\n",
       "      <td>False</td>\n",
       "      <td>False</td>\n",
       "      <td>2.0</td>\n",
       "      <td>1.1278</td>\n",
       "      <td>False</td>\n",
       "      <td>loss</td>\n",
       "      <td>True</td>\n",
       "      <td>False</td>\n",
       "      <td>True</td>\n",
       "      <td>False</td>\n",
       "      <td>False</td>\n",
       "      <td>0.0113</td>\n",
       "      <td>False</td>\n",
       "      <td>False</td>\n",
       "      <td>-0.0084</td>\n",
       "      <td>0.0254</td>\n",
       "      <td>1.1391</td>\n",
       "      <td>tokyo</td>\n",
       "      <td>False</td>\n",
       "      <td>False</td>\n",
       "      <td>True</td>\n",
       "      <td>False</td>\n",
       "      <td>True</td>\n",
       "      <td>False</td>\n",
       "      <td>False</td>\n",
       "      <td>True</td>\n",
       "      <td>False</td>\n",
       "    </tr>\n",
       "    <tr>\n",
       "      <th>11</th>\n",
       "      <td>12</td>\n",
       "      <td>5.125000</td>\n",
       "      <td>False</td>\n",
       "      <td>1.1048</td>\n",
       "      <td>False</td>\n",
       "      <td>True</td>\n",
       "      <td>2025-01-10 20:47:38.337099</td>\n",
       "      <td>False</td>\n",
       "      <td>be_after_1r</td>\n",
       "      <td>False</td>\n",
       "      <td>False</td>\n",
       "      <td>False</td>\n",
       "      <td>2.386364</td>\n",
       "      <td>1.1587</td>\n",
       "      <td>False</td>\n",
       "      <td>False</td>\n",
       "      <td>False</td>\n",
       "      <td>0.0451</td>\n",
       "      <td>0.0088</td>\n",
       "      <td>False</td>\n",
       "      <td>False</td>\n",
       "      <td>1.1273</td>\n",
       "      <td>5.125000</td>\n",
       "      <td>False</td>\n",
       "      <td>False</td>\n",
       "      <td>long</td>\n",
       "      <td>False</td>\n",
       "      <td>False</td>\n",
       "      <td>False</td>\n",
       "      <td>False</td>\n",
       "      <td>False</td>\n",
       "      <td>5.0</td>\n",
       "      <td>1.1136</td>\n",
       "      <td>False</td>\n",
       "      <td>win</td>\n",
       "      <td>False</td>\n",
       "      <td>False</td>\n",
       "      <td>False</td>\n",
       "      <td>False</td>\n",
       "      <td>False</td>\n",
       "      <td>0.0210</td>\n",
       "      <td>False</td>\n",
       "      <td>True</td>\n",
       "      <td>0.0137</td>\n",
       "      <td>0.0451</td>\n",
       "      <td>1.1346</td>\n",
       "      <td>tokyo</td>\n",
       "      <td>False</td>\n",
       "      <td>True</td>\n",
       "      <td>False</td>\n",
       "      <td>True</td>\n",
       "      <td>False</td>\n",
       "      <td>False</td>\n",
       "      <td>False</td>\n",
       "      <td>False</td>\n",
       "      <td>True</td>\n",
       "    </tr>\n",
       "    <tr>\n",
       "      <th>12</th>\n",
       "      <td>13</td>\n",
       "      <td>4.986301</td>\n",
       "      <td>True</td>\n",
       "      <td>1.1259</td>\n",
       "      <td>False</td>\n",
       "      <td>False</td>\n",
       "      <td>2025-01-10 20:47:38.337117</td>\n",
       "      <td>False</td>\n",
       "      <td>no_management</td>\n",
       "      <td>False</td>\n",
       "      <td>False</td>\n",
       "      <td>False</td>\n",
       "      <td>3.150685</td>\n",
       "      <td>1.1696</td>\n",
       "      <td>False</td>\n",
       "      <td>False</td>\n",
       "      <td>False</td>\n",
       "      <td>0.0364</td>\n",
       "      <td>0.0073</td>\n",
       "      <td>False</td>\n",
       "      <td>False</td>\n",
       "      <td>1.1499</td>\n",
       "      <td>4.986301</td>\n",
       "      <td>False</td>\n",
       "      <td>False</td>\n",
       "      <td>long</td>\n",
       "      <td>False</td>\n",
       "      <td>False</td>\n",
       "      <td>True</td>\n",
       "      <td>False</td>\n",
       "      <td>False</td>\n",
       "      <td>1.0</td>\n",
       "      <td>1.1332</td>\n",
       "      <td>False</td>\n",
       "      <td>win</td>\n",
       "      <td>False</td>\n",
       "      <td>False</td>\n",
       "      <td>False</td>\n",
       "      <td>False</td>\n",
       "      <td>False</td>\n",
       "      <td>0.0230</td>\n",
       "      <td>False</td>\n",
       "      <td>False</td>\n",
       "      <td>0.0167</td>\n",
       "      <td>0.0364</td>\n",
       "      <td>1.1562</td>\n",
       "      <td>tokyo</td>\n",
       "      <td>False</td>\n",
       "      <td>True</td>\n",
       "      <td>False</td>\n",
       "      <td>False</td>\n",
       "      <td>False</td>\n",
       "      <td>True</td>\n",
       "      <td>False</td>\n",
       "      <td>False</td>\n",
       "      <td>True</td>\n",
       "    </tr>\n",
       "    <tr>\n",
       "      <th>13</th>\n",
       "      <td>14</td>\n",
       "      <td>6.338710</td>\n",
       "      <td>False</td>\n",
       "      <td>1.1376</td>\n",
       "      <td>False</td>\n",
       "      <td>True</td>\n",
       "      <td>2025-01-10 20:47:38.337134</td>\n",
       "      <td>False</td>\n",
       "      <td>be_after_push</td>\n",
       "      <td>True</td>\n",
       "      <td>False</td>\n",
       "      <td>False</td>\n",
       "      <td>6.741935</td>\n",
       "      <td>1.1831</td>\n",
       "      <td>False</td>\n",
       "      <td>False</td>\n",
       "      <td>False</td>\n",
       "      <td>0.0393</td>\n",
       "      <td>0.0062</td>\n",
       "      <td>False</td>\n",
       "      <td>False</td>\n",
       "      <td>NaN</td>\n",
       "      <td>6.338710</td>\n",
       "      <td>False</td>\n",
       "      <td>True</td>\n",
       "      <td>long</td>\n",
       "      <td>False</td>\n",
       "      <td>False</td>\n",
       "      <td>False</td>\n",
       "      <td>False</td>\n",
       "      <td>False</td>\n",
       "      <td>3.0</td>\n",
       "      <td>1.1438</td>\n",
       "      <td>False</td>\n",
       "      <td>NaN</td>\n",
       "      <td>False</td>\n",
       "      <td>False</td>\n",
       "      <td>False</td>\n",
       "      <td>False</td>\n",
       "      <td>False</td>\n",
       "      <td>0.0418</td>\n",
       "      <td>False</td>\n",
       "      <td>False</td>\n",
       "      <td>NaN</td>\n",
       "      <td>0.0393</td>\n",
       "      <td>1.1856</td>\n",
       "      <td>tokyo</td>\n",
       "      <td>False</td>\n",
       "      <td>False</td>\n",
       "      <td>True</td>\n",
       "      <td>False</td>\n",
       "      <td>True</td>\n",
       "      <td>False</td>\n",
       "      <td>False</td>\n",
       "      <td>False</td>\n",
       "      <td>False</td>\n",
       "    </tr>\n",
       "  </tbody>\n",
       "</table>\n",
       "</div>"
      ],
      "text/plain": [
       "   trade_uid  risk_reward_ratio  type_2_d  sl_price  type_1_d  type_1_w  \\\n",
       "0          1           2.000000     False    1.0950     False     False   \n",
       "1          2           0.666667     False    1.1850     False     False   \n",
       "2          3          10.000000     False    1.2970     False     False   \n",
       "3          4          10.000000     False    1.2970     False     False   \n",
       "4          5           3.000000      True    1.1018      True     False   \n",
       "5          6           3.943182     False    1.1125     False     False   \n",
       "6          7           3.323529     False    1.1256     False     False   \n",
       "7          8           7.927273     False    1.1411     False     False   \n",
       "8          9           8.811321     False    1.1328     False     False   \n",
       "9         10           2.986486     False    1.1425     False     False   \n",
       "10        11           3.175000     False    1.1198     False     False   \n",
       "11        12           5.125000     False    1.1048     False      True   \n",
       "12        13           4.986301      True    1.1259     False     False   \n",
       "13        14           6.338710     False    1.1376     False      True   \n",
       "\n",
       "                   entry_time  type_1_h4 management_strategy  type_2_h4  \\\n",
       "0  2025-01-10 20:47:38.336306      False       no_management      False   \n",
       "1  2025-01-10 20:47:38.336333      False       no_management      False   \n",
       "2  2024-12-27 10:00:01.000000      False       no_management      False   \n",
       "3  2024-12-25 10:00:00.000000      False          strategy_2      False   \n",
       "4  2025-01-10 20:47:38.336956      False         be_after_1r      False   \n",
       "5  2025-01-10 20:47:38.336986      False       no_management      False   \n",
       "6  2025-01-10 20:47:38.337009       True       be_after_push      False   \n",
       "7  2025-01-10 20:47:38.337029      False       be_after_push      False   \n",
       "8  2025-01-10 20:47:38.337047      False       no_management       True   \n",
       "9  2025-01-10 20:47:38.337064       True         be_after_1r      False   \n",
       "10 2025-01-10 20:47:38.337082      False       be_after_push      False   \n",
       "11 2025-01-10 20:47:38.337099      False         be_after_1r      False   \n",
       "12 2025-01-10 20:47:38.337117      False       no_management      False   \n",
       "13 2025-01-10 20:47:38.337134      False       be_after_push       True   \n",
       "\n",
       "    type_3_h4  type_2_m15  potential_risk_reward  tp_price  type_1_m15  \\\n",
       "0       False       False                    NaN    1.1100       False   \n",
       "1       False       False                    NaN    1.2100       False   \n",
       "2       False       False                    NaN    1.3300       False   \n",
       "3       False       False               5.000000    1.3300       False   \n",
       "4       False       False               3.397959    1.1410       False   \n",
       "5       False        True               1.590909    1.1560       False   \n",
       "6       False       False               6.558824    1.1550       False   \n",
       "7       False       False               5.400000    1.1902       False   \n",
       "8       False       False               5.264151    1.1848       False   \n",
       "9       False       False               3.148649    1.1720       False   \n",
       "10      False       False               1.412500    1.1532       False   \n",
       "11      False       False               2.386364    1.1587       False   \n",
       "12      False       False               3.150685    1.1696       False   \n",
       "13      False       False               6.741935    1.1831       False   \n",
       "\n",
       "    type_2_w  type_3_d  initial_return  SL_distance  type_2_m1  type_2_M  \\\n",
       "0      False     False          0.0100       0.0050      False     False   \n",
       "1      False     False          0.0100       0.0150      False     False   \n",
       "2      False     False          0.0300       0.5000      False     False   \n",
       "3      False     False          0.0300       0.5000      False     False   \n",
       "4      False     False          0.0294       0.0098      False     False   \n",
       "5      False     False          0.0347       0.0088      False     False   \n",
       "6       True     False          0.0226       0.0068      False     False   \n",
       "7      False     False          0.0436       0.0055      False      True   \n",
       "8      False     False          0.0467       0.0053      False     False   \n",
       "9      False     False          0.0221       0.0074      False      True   \n",
       "10     False     False          0.0254       0.0080      False     False   \n",
       "11     False     False          0.0451       0.0088      False     False   \n",
       "12     False     False          0.0364       0.0073      False     False   \n",
       "13     False     False          0.0393       0.0062      False     False   \n",
       "\n",
       "    close_price  initial_risk_reward  type_1_m5 htf_poi_ltf_confirmation  \\\n",
       "0           NaN             2.000000      False                    False   \n",
       "1        1.1855             0.666667      False                     True   \n",
       "2           NaN            10.000000      False                    False   \n",
       "3        1.3050            10.000000      False                    False   \n",
       "4        1.1248             3.000000      False                    False   \n",
       "5           NaN             3.943182      False                     True   \n",
       "6        1.1206             3.323529      False                    False   \n",
       "7        1.1580             7.927273      False                     True   \n",
       "8           NaN             8.811321      False                     True   \n",
       "9           NaN             2.986486      False                     True   \n",
       "10       1.1194             3.175000      False                     True   \n",
       "11       1.1273             5.125000      False                    False   \n",
       "12       1.1499             4.986301      False                    False   \n",
       "13          NaN             6.338710      False                     True   \n",
       "\n",
       "    side  type_3_m15  type_1_m1  type_1_m30  type_3_m5  type_3_h1  \\\n",
       "0   long        True       True       False      False      False   \n",
       "1   long       False      False       False      False      False   \n",
       "2   long       False      False       False      False      False   \n",
       "3   long       False      False       False      False      False   \n",
       "4   long       False      False       False      False      False   \n",
       "5   long       False      False       False      False      False   \n",
       "6   long       False      False       False      False      False   \n",
       "7   long       False       True       False      False      False   \n",
       "8   long       False      False        True      False      False   \n",
       "9   long       False      False       False      False      False   \n",
       "10  long       False      False       False      False      False   \n",
       "11  long       False      False       False      False      False   \n",
       "12  long       False      False        True      False      False   \n",
       "13  long       False      False       False      False      False   \n",
       "\n",
       "    numerical_confidence  entry_price  type_1_h1 outcome  type_2_h1  \\\n",
       "0                    3.0       1.1000      False     NaN      False   \n",
       "1                    2.0       1.2000      False    loss       True   \n",
       "2                    NaN       1.3000      False     NaN      False   \n",
       "3                    4.0       1.3000      False     win      False   \n",
       "4                    3.0       1.1116      False     win      False   \n",
       "5                    3.0       1.1213      False     NaN      False   \n",
       "6                    4.0       1.1324      False    loss      False   \n",
       "7                    5.0       1.1466      False     win      False   \n",
       "8                    5.0       1.1381      False     NaN      False   \n",
       "9                    5.0       1.1499      False     NaN      False   \n",
       "10                   2.0       1.1278      False    loss       True   \n",
       "11                   5.0       1.1136      False     win      False   \n",
       "12                   1.0       1.1332      False     win      False   \n",
       "13                   3.0       1.1438      False     NaN      False   \n",
       "\n",
       "    type_3_m1  type_1_M  type_3_m30  type_3_w  potential_return  type_3_M  \\\n",
       "0       False     False       False     False               NaN     False   \n",
       "1       False     False       False     False               NaN     False   \n",
       "2       False     False       False     False               NaN     False   \n",
       "3       False     False       False     False            0.0150     False   \n",
       "4       False     False       False     False            0.0333     False   \n",
       "5       False      True       False     False            0.0140     False   \n",
       "6       False     False       False     False            0.0446     False   \n",
       "7       False     False       False     False            0.0297     False   \n",
       "8       False     False       False     False            0.0279     False   \n",
       "9       False     False       False     False            0.0233     False   \n",
       "10      False      True       False     False            0.0113     False   \n",
       "11      False     False       False     False            0.0210     False   \n",
       "12      False     False       False     False            0.0230     False   \n",
       "13      False     False       False     False            0.0418     False   \n",
       "\n",
       "    type_2_m5  return  TP_distance  potential_price session  type_2_m30  \\\n",
       "0       False     NaN       0.0100              NaN   tokyo       False   \n",
       "1       False -0.0145       0.0100              NaN   tokyo       False   \n",
       "2       False     NaN       0.0300              NaN  london       False   \n",
       "3       False  0.0050       0.0300           1.3150  london       False   \n",
       "4       False  0.0132       0.0294           1.1449   tokyo       False   \n",
       "5       False     NaN       0.0347           1.1353   tokyo       False   \n",
       "6       False -0.0118       0.0226           1.1770   tokyo       False   \n",
       "7       False  0.0114       0.0436           1.1763   tokyo       False   \n",
       "8       False     NaN       0.0467           1.1660   tokyo       False   \n",
       "9       False     NaN       0.0221           1.1732   tokyo       False   \n",
       "10      False -0.0084       0.0254           1.1391   tokyo       False   \n",
       "11       True  0.0137       0.0451           1.1346   tokyo       False   \n",
       "12      False  0.0167       0.0364           1.1562   tokyo       False   \n",
       "13      False     NaN       0.0393           1.1856   tokyo       False   \n",
       "\n",
       "    htf_poi_ltf_confirmation_False  htf_poi_ltf_confirmation_True  \\\n",
       "0                             True                          False   \n",
       "1                            False                           True   \n",
       "2                             True                          False   \n",
       "3                             True                          False   \n",
       "4                             True                          False   \n",
       "5                            False                           True   \n",
       "6                             True                          False   \n",
       "7                            False                           True   \n",
       "8                            False                           True   \n",
       "9                            False                           True   \n",
       "10                           False                           True   \n",
       "11                            True                          False   \n",
       "12                            True                          False   \n",
       "13                           False                           True   \n",
       "\n",
       "    management_strategy_be_after_1r  management_strategy_be_after_push  \\\n",
       "0                             False                              False   \n",
       "1                             False                              False   \n",
       "2                             False                              False   \n",
       "3                             False                              False   \n",
       "4                              True                              False   \n",
       "5                             False                              False   \n",
       "6                             False                               True   \n",
       "7                             False                               True   \n",
       "8                             False                              False   \n",
       "9                              True                              False   \n",
       "10                            False                               True   \n",
       "11                             True                              False   \n",
       "12                            False                              False   \n",
       "13                            False                               True   \n",
       "\n",
       "    management_strategy_no_management  management_strategy_strategy_2  \\\n",
       "0                                True                           False   \n",
       "1                                True                           False   \n",
       "2                                True                           False   \n",
       "3                               False                            True   \n",
       "4                               False                           False   \n",
       "5                                True                           False   \n",
       "6                               False                           False   \n",
       "7                               False                           False   \n",
       "8                                True                           False   \n",
       "9                               False                           False   \n",
       "10                              False                           False   \n",
       "11                              False                           False   \n",
       "12                               True                           False   \n",
       "13                              False                           False   \n",
       "\n",
       "    outcome_loss  outcome_win  \n",
       "0          False        False  \n",
       "1           True        False  \n",
       "2          False        False  \n",
       "3          False         True  \n",
       "4          False         True  \n",
       "5          False        False  \n",
       "6           True        False  \n",
       "7          False         True  \n",
       "8          False        False  \n",
       "9          False        False  \n",
       "10          True        False  \n",
       "11         False         True  \n",
       "12         False         True  \n",
       "13         False        False  "
      ]
     },
     "execution_count": 12,
     "metadata": {},
     "output_type": "execute_result"
    }
   ],
   "source": [
    "df = j.to_dataframe(config=None)\n",
    "df"
   ]
  },
  {
   "cell_type": "code",
   "execution_count": 13,
   "metadata": {},
   "outputs": [
    {
     "name": "stdout",
     "output_type": "stream",
     "text": [
      "Expected return full search space: 0.0031624999999999848\n",
      "Expected return is positive\n"
     ]
    },
    {
     "data": {
      "text/plain": [
       "type_1_m5                       bool\n",
       "type_2_m5                       bool\n",
       "type_3_m5                       bool\n",
       "htf_poi_ltf_confirmation    category\n",
       "return                       float64\n",
       "dtype: object"
      ]
     },
     "metadata": {},
     "output_type": "display_data"
    },
    {
     "data": {
      "text/html": [
       "<div>\n",
       "<style scoped>\n",
       "    .dataframe tbody tr th:only-of-type {\n",
       "        vertical-align: middle;\n",
       "    }\n",
       "\n",
       "    .dataframe tbody tr th {\n",
       "        vertical-align: top;\n",
       "    }\n",
       "\n",
       "    .dataframe thead th {\n",
       "        text-align: right;\n",
       "    }\n",
       "</style>\n",
       "<table border=\"1\" class=\"dataframe\">\n",
       "  <thead>\n",
       "    <tr style=\"text-align: right;\">\n",
       "      <th></th>\n",
       "      <th>return</th>\n",
       "    </tr>\n",
       "  </thead>\n",
       "  <tbody>\n",
       "    <tr>\n",
       "      <th>count</th>\n",
       "      <td>8.000000</td>\n",
       "    </tr>\n",
       "    <tr>\n",
       "      <th>mean</th>\n",
       "      <td>0.003162</td>\n",
       "    </tr>\n",
       "    <tr>\n",
       "      <th>std</th>\n",
       "      <td>0.012738</td>\n",
       "    </tr>\n",
       "    <tr>\n",
       "      <th>min</th>\n",
       "      <td>-0.014500</td>\n",
       "    </tr>\n",
       "    <tr>\n",
       "      <th>25%</th>\n",
       "      <td>-0.009250</td>\n",
       "    </tr>\n",
       "    <tr>\n",
       "      <th>50%</th>\n",
       "      <td>0.008200</td>\n",
       "    </tr>\n",
       "    <tr>\n",
       "      <th>75%</th>\n",
       "      <td>0.013325</td>\n",
       "    </tr>\n",
       "    <tr>\n",
       "      <th>max</th>\n",
       "      <td>0.016700</td>\n",
       "    </tr>\n",
       "  </tbody>\n",
       "</table>\n",
       "</div>"
      ],
      "text/plain": [
       "         return\n",
       "count  8.000000\n",
       "mean   0.003162\n",
       "std    0.012738\n",
       "min   -0.014500\n",
       "25%   -0.009250\n",
       "50%    0.008200\n",
       "75%    0.013325\n",
       "max    0.016700"
      ]
     },
     "metadata": {},
     "output_type": "display_data"
    },
    {
     "data": {
      "text/html": [
       "<div>\n",
       "<style scoped>\n",
       "    .dataframe tbody tr th:only-of-type {\n",
       "        vertical-align: middle;\n",
       "    }\n",
       "\n",
       "    .dataframe tbody tr th {\n",
       "        vertical-align: top;\n",
       "    }\n",
       "\n",
       "    .dataframe thead th {\n",
       "        text-align: right;\n",
       "    }\n",
       "</style>\n",
       "<table border=\"1\" class=\"dataframe\">\n",
       "  <thead>\n",
       "    <tr style=\"text-align: right;\">\n",
       "      <th></th>\n",
       "      <th>type_1_m5</th>\n",
       "      <th>type_2_m5</th>\n",
       "      <th>type_3_m5</th>\n",
       "      <th>htf_poi_ltf_confirmation</th>\n",
       "      <th>return</th>\n",
       "    </tr>\n",
       "  </thead>\n",
       "  <tbody>\n",
       "    <tr>\n",
       "      <th>1</th>\n",
       "      <td>False</td>\n",
       "      <td>False</td>\n",
       "      <td>False</td>\n",
       "      <td>True</td>\n",
       "      <td>-0.0145</td>\n",
       "    </tr>\n",
       "    <tr>\n",
       "      <th>3</th>\n",
       "      <td>False</td>\n",
       "      <td>False</td>\n",
       "      <td>False</td>\n",
       "      <td>False</td>\n",
       "      <td>0.0050</td>\n",
       "    </tr>\n",
       "    <tr>\n",
       "      <th>4</th>\n",
       "      <td>False</td>\n",
       "      <td>False</td>\n",
       "      <td>False</td>\n",
       "      <td>False</td>\n",
       "      <td>0.0132</td>\n",
       "    </tr>\n",
       "    <tr>\n",
       "      <th>6</th>\n",
       "      <td>False</td>\n",
       "      <td>False</td>\n",
       "      <td>False</td>\n",
       "      <td>False</td>\n",
       "      <td>-0.0118</td>\n",
       "    </tr>\n",
       "    <tr>\n",
       "      <th>7</th>\n",
       "      <td>False</td>\n",
       "      <td>False</td>\n",
       "      <td>False</td>\n",
       "      <td>True</td>\n",
       "      <td>0.0114</td>\n",
       "    </tr>\n",
       "    <tr>\n",
       "      <th>10</th>\n",
       "      <td>False</td>\n",
       "      <td>False</td>\n",
       "      <td>False</td>\n",
       "      <td>True</td>\n",
       "      <td>-0.0084</td>\n",
       "    </tr>\n",
       "    <tr>\n",
       "      <th>11</th>\n",
       "      <td>False</td>\n",
       "      <td>True</td>\n",
       "      <td>False</td>\n",
       "      <td>False</td>\n",
       "      <td>0.0137</td>\n",
       "    </tr>\n",
       "    <tr>\n",
       "      <th>12</th>\n",
       "      <td>False</td>\n",
       "      <td>False</td>\n",
       "      <td>False</td>\n",
       "      <td>False</td>\n",
       "      <td>0.0167</td>\n",
       "    </tr>\n",
       "  </tbody>\n",
       "</table>\n",
       "</div>"
      ],
      "text/plain": [
       "    type_1_m5  type_2_m5  type_3_m5 htf_poi_ltf_confirmation  return\n",
       "1       False      False      False                     True -0.0145\n",
       "3       False      False      False                    False  0.0050\n",
       "4       False      False      False                    False  0.0132\n",
       "6       False      False      False                    False -0.0118\n",
       "7       False      False      False                     True  0.0114\n",
       "10      False      False      False                     True -0.0084\n",
       "11      False       True      False                    False  0.0137\n",
       "12      False      False      False                    False  0.0167"
      ]
     },
     "metadata": {},
     "output_type": "display_data"
    },
    {
     "name": "stdout",
     "output_type": "stream",
     "text": [
      "Best subset: ('type_1_m5',)\n",
      "Best combination: (False,)\n",
      "Best score: 0.0031624999999999848\n",
      "Best subset: ('type_2_m5',)\n",
      "Best combination: (True,)\n",
      "Best score: 0.013700000000000045\n",
      "Best subset: ('type_2_m5',)\n",
      "Best combination: (True,)\n",
      "Best score: 0.013700000000000045\n"
     ]
    }
   ],
   "source": [
    "df_test = df.copy()\n",
    "features = ['type_1_m5', 'type_2_m5', 'type_3_m5', 'htf_poi_ltf_confirmation', 'return']\n",
    "df_test = df_test[features]\n",
    "df_test = df_test.dropna()\n",
    "exptected_return = df_test['return'].mean()\n",
    "print('Expected return full search space:', exptected_return)\n",
    "if exptected_return > 0:\n",
    "    print('Expected return is positive')\n",
    "else:\n",
    "    print('Expected return is negative')\n",
    "df_test\n",
    "\n",
    "display(df_test.dtypes)\n",
    "display(df_test.describe())\n",
    "display(df_test)\n",
    "\n",
    "\n",
    "report_best_performing_tags_value(df_test, y_col='return', score_mode='mean', method='brute_force')"
   ]
  },
  {
   "cell_type": "code",
   "execution_count": 14,
   "metadata": {},
   "outputs": [
    {
     "name": "stderr",
     "output_type": "stream",
     "text": [
      "[I 2025-01-10 20:50:44,441] A new study created in memory with name: default_1\n"
     ]
    },
    {
     "data": {
      "application/vnd.jupyter.widget-view+json": {
       "model_id": "975853fc5827468086952319244f67b9",
       "version_major": 2,
       "version_minor": 0
      },
      "text/plain": [
       "  0%|          | 0/100 [00:00<?, ?it/s]"
      ]
     },
     "metadata": {},
     "output_type": "display_data"
    },
    {
     "name": "stdout",
     "output_type": "stream",
     "text": [
      "[I 2025-01-10 20:50:44,458] Trial 0 finished with value: -0.0038333333333333552 and parameters: {'include_type_1_m5': True, 'value_type_1_m5': False, 'include_type_2_m5': False, 'include_type_3_m5': True, 'value_type_3_m5': False, 'include_htf_poi_ltf_confirmation': True, 'value_htf_poi_ltf_confirmation': True}. Best is trial 0 with value: -0.0038333333333333552.\n",
      "[I 2025-01-10 20:50:44,462] Trial 1 finished with value: 0.0016571428571428332 and parameters: {'include_type_1_m5': True, 'value_type_1_m5': False, 'include_type_2_m5': True, 'value_type_2_m5': False, 'include_type_3_m5': True, 'value_type_3_m5': False, 'include_htf_poi_ltf_confirmation': False}. Best is trial 1 with value: 0.0016571428571428332.\n",
      "[I 2025-01-10 20:50:44,467] Trial 2 finished with value: 0.0031624999999999848 and parameters: {'include_type_1_m5': True, 'value_type_1_m5': False, 'include_type_2_m5': False, 'include_type_3_m5': True, 'value_type_3_m5': False, 'include_htf_poi_ltf_confirmation': False}. Best is trial 2 with value: 0.0031624999999999848.\n",
      "[I 2025-01-10 20:50:44,470] Trial 3 finished with value: -inf and parameters: {'include_type_1_m5': False, 'include_type_2_m5': True, 'value_type_2_m5': True, 'include_type_3_m5': False, 'include_htf_poi_ltf_confirmation': True, 'value_htf_poi_ltf_confirmation': True}. Best is trial 2 with value: 0.0031624999999999848.\n",
      "[I 2025-01-10 20:50:44,473] Trial 4 finished with value: 0.0031624999999999848 and parameters: {'include_type_1_m5': True, 'value_type_1_m5': False, 'include_type_2_m5': False, 'include_type_3_m5': True, 'value_type_3_m5': False, 'include_htf_poi_ltf_confirmation': False}. Best is trial 2 with value: 0.0031624999999999848.\n",
      "[I 2025-01-10 20:50:44,476] Trial 5 finished with value: -0.0038333333333333552 and parameters: {'include_type_1_m5': True, 'value_type_1_m5': False, 'include_type_2_m5': True, 'value_type_2_m5': False, 'include_type_3_m5': True, 'value_type_3_m5': False, 'include_htf_poi_ltf_confirmation': True, 'value_htf_poi_ltf_confirmation': True}. Best is trial 2 with value: 0.0031624999999999848.\n",
      "[I 2025-01-10 20:50:44,479] Trial 6 finished with value: -inf and parameters: {'include_type_1_m5': False, 'include_type_2_m5': True, 'value_type_2_m5': True, 'include_type_3_m5': True, 'value_type_3_m5': False, 'include_htf_poi_ltf_confirmation': True, 'value_htf_poi_ltf_confirmation': True}. Best is trial 2 with value: 0.0031624999999999848.\n",
      "[I 2025-01-10 20:50:44,487] Trial 7 finished with value: 0.0031624999999999848 and parameters: {'include_type_1_m5': False, 'include_type_2_m5': False, 'include_type_3_m5': True, 'value_type_3_m5': False, 'include_htf_poi_ltf_confirmation': False}. Best is trial 2 with value: 0.0031624999999999848.\n",
      "[I 2025-01-10 20:50:44,489] Trial 8 finished with value: -inf and parameters: {'include_type_1_m5': True, 'value_type_1_m5': False, 'include_type_2_m5': True, 'value_type_2_m5': True, 'include_type_3_m5': False, 'include_htf_poi_ltf_confirmation': True, 'value_htf_poi_ltf_confirmation': True}. Best is trial 2 with value: 0.0031624999999999848.\n",
      "[I 2025-01-10 20:50:44,493] Trial 9 finished with value: -0.0038333333333333552 and parameters: {'include_type_1_m5': True, 'value_type_1_m5': False, 'include_type_2_m5': False, 'include_type_3_m5': True, 'value_type_3_m5': False, 'include_htf_poi_ltf_confirmation': True, 'value_htf_poi_ltf_confirmation': True}. Best is trial 2 with value: 0.0031624999999999848.\n",
      "[I 2025-01-10 20:50:44,500] Trial 10 finished with value: -inf and parameters: {'include_type_1_m5': False, 'include_type_2_m5': False, 'include_type_3_m5': False, 'include_htf_poi_ltf_confirmation': False}. Best is trial 2 with value: 0.0031624999999999848.\n",
      "[I 2025-01-10 20:50:44,506] Trial 11 finished with value: 0.0031624999999999848 and parameters: {'include_type_1_m5': True, 'value_type_1_m5': False, 'include_type_2_m5': False, 'include_type_3_m5': True, 'value_type_3_m5': False, 'include_htf_poi_ltf_confirmation': False}. Best is trial 2 with value: 0.0031624999999999848.\n",
      "[I 2025-01-10 20:50:44,513] Trial 12 finished with value: 0.0031624999999999848 and parameters: {'include_type_1_m5': True, 'value_type_1_m5': False, 'include_type_2_m5': False, 'include_type_3_m5': True, 'value_type_3_m5': False, 'include_htf_poi_ltf_confirmation': False}. Best is trial 2 with value: 0.0031624999999999848.\n",
      "[I 2025-01-10 20:50:44,584] Trial 13 finished with value: 0.0031624999999999848 and parameters: {'include_type_1_m5': True, 'value_type_1_m5': False, 'include_type_2_m5': False, 'include_type_3_m5': True, 'value_type_3_m5': False, 'include_htf_poi_ltf_confirmation': False}. Best is trial 2 with value: 0.0031624999999999848.\n",
      "[I 2025-01-10 20:50:44,590] Trial 14 finished with value: 0.0031624999999999848 and parameters: {'include_type_1_m5': True, 'value_type_1_m5': False, 'include_type_2_m5': False, 'include_type_3_m5': False, 'include_htf_poi_ltf_confirmation': False}. Best is trial 2 with value: 0.0031624999999999848.\n",
      "[I 2025-01-10 20:50:44,594] Trial 15 finished with value: 0.0031624999999999848 and parameters: {'include_type_1_m5': True, 'value_type_1_m5': False, 'include_type_2_m5': False, 'include_type_3_m5': True, 'value_type_3_m5': False, 'include_htf_poi_ltf_confirmation': False}. Best is trial 2 with value: 0.0031624999999999848.\n",
      "[I 2025-01-10 20:50:44,597] Trial 16 finished with value: 0.0031624999999999848 and parameters: {'include_type_1_m5': True, 'value_type_1_m5': False, 'include_type_2_m5': False, 'include_type_3_m5': True, 'value_type_3_m5': False, 'include_htf_poi_ltf_confirmation': False}. Best is trial 2 with value: 0.0031624999999999848.\n",
      "[I 2025-01-10 20:50:44,606] Trial 17 finished with value: 0.0031624999999999848 and parameters: {'include_type_1_m5': True, 'value_type_1_m5': False, 'include_type_2_m5': False, 'include_type_3_m5': True, 'value_type_3_m5': False, 'include_htf_poi_ltf_confirmation': False}. Best is trial 2 with value: 0.0031624999999999848.\n",
      "[I 2025-01-10 20:50:44,610] Trial 18 finished with value: -inf and parameters: {'include_type_1_m5': False, 'include_type_2_m5': False, 'include_type_3_m5': False, 'include_htf_poi_ltf_confirmation': False}. Best is trial 2 with value: 0.0031624999999999848.\n",
      "[I 2025-01-10 20:50:44,613] Trial 19 finished with value: 0.0031624999999999848 and parameters: {'include_type_1_m5': True, 'value_type_1_m5': False, 'include_type_2_m5': False, 'include_type_3_m5': True, 'value_type_3_m5': False, 'include_htf_poi_ltf_confirmation': False}. Best is trial 2 with value: 0.0031624999999999848.\n",
      "[I 2025-01-10 20:50:44,620] Trial 20 finished with value: 0.0031624999999999848 and parameters: {'include_type_1_m5': True, 'value_type_1_m5': False, 'include_type_2_m5': False, 'include_type_3_m5': True, 'value_type_3_m5': False, 'include_htf_poi_ltf_confirmation': False}. Best is trial 2 with value: 0.0031624999999999848.\n",
      "[I 2025-01-10 20:50:44,624] Trial 21 finished with value: 0.0031624999999999848 and parameters: {'include_type_1_m5': False, 'include_type_2_m5': False, 'include_type_3_m5': True, 'value_type_3_m5': False, 'include_htf_poi_ltf_confirmation': False}. Best is trial 2 with value: 0.0031624999999999848.\n",
      "[I 2025-01-10 20:50:44,628] Trial 22 finished with value: 0.0031624999999999848 and parameters: {'include_type_1_m5': False, 'include_type_2_m5': False, 'include_type_3_m5': True, 'value_type_3_m5': False, 'include_htf_poi_ltf_confirmation': False}. Best is trial 2 with value: 0.0031624999999999848.\n",
      "[I 2025-01-10 20:50:44,633] Trial 23 finished with value: 0.0031624999999999848 and parameters: {'include_type_1_m5': False, 'include_type_2_m5': False, 'include_type_3_m5': True, 'value_type_3_m5': False, 'include_htf_poi_ltf_confirmation': False}. Best is trial 2 with value: 0.0031624999999999848.\n",
      "[I 2025-01-10 20:50:44,638] Trial 24 finished with value: 0.0031624999999999848 and parameters: {'include_type_1_m5': False, 'include_type_2_m5': False, 'include_type_3_m5': True, 'value_type_3_m5': False, 'include_htf_poi_ltf_confirmation': False}. Best is trial 2 with value: 0.0031624999999999848.\n",
      "[I 2025-01-10 20:50:44,642] Trial 25 finished with value: 0.0031624999999999848 and parameters: {'include_type_1_m5': False, 'include_type_2_m5': False, 'include_type_3_m5': True, 'value_type_3_m5': False, 'include_htf_poi_ltf_confirmation': False}. Best is trial 2 with value: 0.0031624999999999848.\n",
      "[I 2025-01-10 20:50:44,646] Trial 26 finished with value: 0.0016571428571428332 and parameters: {'include_type_1_m5': False, 'include_type_2_m5': True, 'value_type_2_m5': False, 'include_type_3_m5': False, 'include_htf_poi_ltf_confirmation': False}. Best is trial 2 with value: 0.0031624999999999848.\n",
      "[I 2025-01-10 20:50:44,652] Trial 27 finished with value: 0.0031624999999999848 and parameters: {'include_type_1_m5': True, 'value_type_1_m5': False, 'include_type_2_m5': False, 'include_type_3_m5': True, 'value_type_3_m5': False, 'include_htf_poi_ltf_confirmation': False}. Best is trial 2 with value: 0.0031624999999999848.\n",
      "[I 2025-01-10 20:50:44,657] Trial 28 finished with value: 0.0031624999999999848 and parameters: {'include_type_1_m5': False, 'include_type_2_m5': False, 'include_type_3_m5': True, 'value_type_3_m5': False, 'include_htf_poi_ltf_confirmation': False}. Best is trial 2 with value: 0.0031624999999999848.\n",
      "[I 2025-01-10 20:50:44,662] Trial 29 finished with value: 0.007359999999999989 and parameters: {'include_type_1_m5': True, 'value_type_1_m5': False, 'include_type_2_m5': False, 'include_type_3_m5': True, 'value_type_3_m5': False, 'include_htf_poi_ltf_confirmation': True, 'value_htf_poi_ltf_confirmation': False}. Best is trial 29 with value: 0.007359999999999989.\n",
      "[I 2025-01-10 20:50:44,672] Trial 30 finished with value: 0.007359999999999989 and parameters: {'include_type_1_m5': True, 'value_type_1_m5': False, 'include_type_2_m5': False, 'include_type_3_m5': True, 'value_type_3_m5': False, 'include_htf_poi_ltf_confirmation': True, 'value_htf_poi_ltf_confirmation': False}. Best is trial 29 with value: 0.007359999999999989.\n",
      "[I 2025-01-10 20:50:44,690] Trial 31 finished with value: 0.007359999999999989 and parameters: {'include_type_1_m5': True, 'value_type_1_m5': False, 'include_type_2_m5': False, 'include_type_3_m5': True, 'value_type_3_m5': False, 'include_htf_poi_ltf_confirmation': True, 'value_htf_poi_ltf_confirmation': False}. Best is trial 29 with value: 0.007359999999999989.\n",
      "[I 2025-01-10 20:50:44,693] Trial 32 finished with value: 0.007359999999999989 and parameters: {'include_type_1_m5': True, 'value_type_1_m5': False, 'include_type_2_m5': False, 'include_type_3_m5': True, 'value_type_3_m5': False, 'include_htf_poi_ltf_confirmation': True, 'value_htf_poi_ltf_confirmation': False}. Best is trial 29 with value: 0.007359999999999989.\n",
      "[I 2025-01-10 20:50:44,704] Trial 33 finished with value: 0.007359999999999989 and parameters: {'include_type_1_m5': True, 'value_type_1_m5': False, 'include_type_2_m5': False, 'include_type_3_m5': True, 'value_type_3_m5': False, 'include_htf_poi_ltf_confirmation': True, 'value_htf_poi_ltf_confirmation': False}. Best is trial 29 with value: 0.007359999999999989.\n",
      "[I 2025-01-10 20:50:44,709] Trial 34 finished with value: 0.013700000000000045 and parameters: {'include_type_1_m5': True, 'value_type_1_m5': False, 'include_type_2_m5': True, 'value_type_2_m5': True, 'include_type_3_m5': True, 'value_type_3_m5': False, 'include_htf_poi_ltf_confirmation': True, 'value_htf_poi_ltf_confirmation': False}. Best is trial 34 with value: 0.013700000000000045.\n",
      "[I 2025-01-10 20:50:44,713] Trial 35 finished with value: 0.013700000000000045 and parameters: {'include_type_1_m5': True, 'value_type_1_m5': False, 'include_type_2_m5': True, 'value_type_2_m5': True, 'include_type_3_m5': True, 'value_type_3_m5': False, 'include_htf_poi_ltf_confirmation': True, 'value_htf_poi_ltf_confirmation': False}. Best is trial 34 with value: 0.013700000000000045.\n",
      "[I 2025-01-10 20:50:44,722] Trial 36 finished with value: 0.013700000000000045 and parameters: {'include_type_1_m5': True, 'value_type_1_m5': False, 'include_type_2_m5': True, 'value_type_2_m5': True, 'include_type_3_m5': True, 'value_type_3_m5': False, 'include_htf_poi_ltf_confirmation': True, 'value_htf_poi_ltf_confirmation': False}. Best is trial 34 with value: 0.013700000000000045.\n",
      "[I 2025-01-10 20:50:44,726] Trial 37 finished with value: 0.013700000000000045 and parameters: {'include_type_1_m5': True, 'value_type_1_m5': False, 'include_type_2_m5': True, 'value_type_2_m5': True, 'include_type_3_m5': False, 'include_htf_poi_ltf_confirmation': True, 'value_htf_poi_ltf_confirmation': False}. Best is trial 34 with value: 0.013700000000000045.\n",
      "[I 2025-01-10 20:50:44,729] Trial 38 finished with value: 0.013700000000000045 and parameters: {'include_type_1_m5': True, 'value_type_1_m5': False, 'include_type_2_m5': True, 'value_type_2_m5': True, 'include_type_3_m5': False, 'include_htf_poi_ltf_confirmation': True, 'value_htf_poi_ltf_confirmation': False}. Best is trial 34 with value: 0.013700000000000045.\n",
      "[I 2025-01-10 20:50:44,736] Trial 39 finished with value: 0.013700000000000045 and parameters: {'include_type_1_m5': True, 'value_type_1_m5': False, 'include_type_2_m5': True, 'value_type_2_m5': True, 'include_type_3_m5': False, 'include_htf_poi_ltf_confirmation': True, 'value_htf_poi_ltf_confirmation': False}. Best is trial 34 with value: 0.013700000000000045.\n",
      "[I 2025-01-10 20:50:44,740] Trial 40 finished with value: 0.013700000000000045 and parameters: {'include_type_1_m5': True, 'value_type_1_m5': False, 'include_type_2_m5': True, 'value_type_2_m5': True, 'include_type_3_m5': False, 'include_htf_poi_ltf_confirmation': True, 'value_htf_poi_ltf_confirmation': False}. Best is trial 34 with value: 0.013700000000000045.\n",
      "[I 2025-01-10 20:50:44,744] Trial 41 finished with value: 0.013700000000000045 and parameters: {'include_type_1_m5': True, 'value_type_1_m5': False, 'include_type_2_m5': True, 'value_type_2_m5': True, 'include_type_3_m5': False, 'include_htf_poi_ltf_confirmation': True, 'value_htf_poi_ltf_confirmation': False}. Best is trial 34 with value: 0.013700000000000045.\n",
      "[I 2025-01-10 20:50:44,751] Trial 42 finished with value: 0.013700000000000045 and parameters: {'include_type_1_m5': True, 'value_type_1_m5': False, 'include_type_2_m5': True, 'value_type_2_m5': True, 'include_type_3_m5': False, 'include_htf_poi_ltf_confirmation': True, 'value_htf_poi_ltf_confirmation': False}. Best is trial 34 with value: 0.013700000000000045.\n",
      "[I 2025-01-10 20:50:44,756] Trial 43 finished with value: 0.013700000000000045 and parameters: {'include_type_1_m5': True, 'value_type_1_m5': False, 'include_type_2_m5': True, 'value_type_2_m5': True, 'include_type_3_m5': False, 'include_htf_poi_ltf_confirmation': True, 'value_htf_poi_ltf_confirmation': False}. Best is trial 34 with value: 0.013700000000000045.\n",
      "[I 2025-01-10 20:50:44,760] Trial 44 finished with value: 0.013700000000000045 and parameters: {'include_type_1_m5': True, 'value_type_1_m5': False, 'include_type_2_m5': True, 'value_type_2_m5': True, 'include_type_3_m5': False, 'include_htf_poi_ltf_confirmation': True, 'value_htf_poi_ltf_confirmation': False}. Best is trial 34 with value: 0.013700000000000045.\n",
      "[I 2025-01-10 20:50:44,763] Trial 45 finished with value: 0.013700000000000045 and parameters: {'include_type_1_m5': True, 'value_type_1_m5': False, 'include_type_2_m5': True, 'value_type_2_m5': True, 'include_type_3_m5': False, 'include_htf_poi_ltf_confirmation': True, 'value_htf_poi_ltf_confirmation': False}. Best is trial 34 with value: 0.013700000000000045.\n",
      "[I 2025-01-10 20:50:44,770] Trial 46 finished with value: 0.013700000000000045 and parameters: {'include_type_1_m5': True, 'value_type_1_m5': False, 'include_type_2_m5': True, 'value_type_2_m5': True, 'include_type_3_m5': False, 'include_htf_poi_ltf_confirmation': True, 'value_htf_poi_ltf_confirmation': False}. Best is trial 34 with value: 0.013700000000000045.\n",
      "[I 2025-01-10 20:50:44,774] Trial 47 finished with value: 0.013700000000000045 and parameters: {'include_type_1_m5': True, 'value_type_1_m5': False, 'include_type_2_m5': True, 'value_type_2_m5': True, 'include_type_3_m5': False, 'include_htf_poi_ltf_confirmation': True, 'value_htf_poi_ltf_confirmation': False}. Best is trial 34 with value: 0.013700000000000045.\n",
      "[I 2025-01-10 20:50:44,779] Trial 48 finished with value: 0.013700000000000045 and parameters: {'include_type_1_m5': True, 'value_type_1_m5': False, 'include_type_2_m5': True, 'value_type_2_m5': True, 'include_type_3_m5': False, 'include_htf_poi_ltf_confirmation': True, 'value_htf_poi_ltf_confirmation': False}. Best is trial 34 with value: 0.013700000000000045.\n",
      "[I 2025-01-10 20:50:44,790] Trial 49 finished with value: 0.013700000000000045 and parameters: {'include_type_1_m5': True, 'value_type_1_m5': False, 'include_type_2_m5': True, 'value_type_2_m5': True, 'include_type_3_m5': False, 'include_htf_poi_ltf_confirmation': True, 'value_htf_poi_ltf_confirmation': False}. Best is trial 34 with value: 0.013700000000000045.\n",
      "[I 2025-01-10 20:50:44,795] Trial 50 finished with value: 0.013700000000000045 and parameters: {'include_type_1_m5': True, 'value_type_1_m5': False, 'include_type_2_m5': True, 'value_type_2_m5': True, 'include_type_3_m5': False, 'include_htf_poi_ltf_confirmation': True, 'value_htf_poi_ltf_confirmation': False}. Best is trial 34 with value: 0.013700000000000045.\n",
      "[I 2025-01-10 20:50:44,810] Trial 51 finished with value: 0.013700000000000045 and parameters: {'include_type_1_m5': True, 'value_type_1_m5': False, 'include_type_2_m5': True, 'value_type_2_m5': True, 'include_type_3_m5': False, 'include_htf_poi_ltf_confirmation': True, 'value_htf_poi_ltf_confirmation': False}. Best is trial 34 with value: 0.013700000000000045.\n",
      "[I 2025-01-10 20:50:44,816] Trial 52 finished with value: 0.013700000000000045 and parameters: {'include_type_1_m5': True, 'value_type_1_m5': False, 'include_type_2_m5': True, 'value_type_2_m5': True, 'include_type_3_m5': False, 'include_htf_poi_ltf_confirmation': True, 'value_htf_poi_ltf_confirmation': False}. Best is trial 34 with value: 0.013700000000000045.\n",
      "[I 2025-01-10 20:50:44,823] Trial 53 finished with value: 0.013700000000000045 and parameters: {'include_type_1_m5': True, 'value_type_1_m5': False, 'include_type_2_m5': True, 'value_type_2_m5': True, 'include_type_3_m5': False, 'include_htf_poi_ltf_confirmation': True, 'value_htf_poi_ltf_confirmation': False}. Best is trial 34 with value: 0.013700000000000045.\n",
      "[I 2025-01-10 20:50:44,827] Trial 54 finished with value: 0.013700000000000045 and parameters: {'include_type_1_m5': True, 'value_type_1_m5': False, 'include_type_2_m5': True, 'value_type_2_m5': True, 'include_type_3_m5': False, 'include_htf_poi_ltf_confirmation': True, 'value_htf_poi_ltf_confirmation': False}. Best is trial 34 with value: 0.013700000000000045.\n",
      "[I 2025-01-10 20:50:44,836] Trial 55 finished with value: 0.013700000000000045 and parameters: {'include_type_1_m5': True, 'value_type_1_m5': False, 'include_type_2_m5': True, 'value_type_2_m5': True, 'include_type_3_m5': False, 'include_htf_poi_ltf_confirmation': True, 'value_htf_poi_ltf_confirmation': False}. Best is trial 34 with value: 0.013700000000000045.\n",
      "[I 2025-01-10 20:50:44,841] Trial 56 finished with value: 0.013700000000000045 and parameters: {'include_type_1_m5': True, 'value_type_1_m5': False, 'include_type_2_m5': True, 'value_type_2_m5': True, 'include_type_3_m5': True, 'value_type_3_m5': False, 'include_htf_poi_ltf_confirmation': True, 'value_htf_poi_ltf_confirmation': False}. Best is trial 34 with value: 0.013700000000000045.\n",
      "[I 2025-01-10 20:50:44,845] Trial 57 finished with value: 0.013700000000000045 and parameters: {'include_type_1_m5': True, 'value_type_1_m5': False, 'include_type_2_m5': True, 'value_type_2_m5': True, 'include_type_3_m5': True, 'value_type_3_m5': False, 'include_htf_poi_ltf_confirmation': True, 'value_htf_poi_ltf_confirmation': False}. Best is trial 34 with value: 0.013700000000000045.\n",
      "[I 2025-01-10 20:50:44,851] Trial 58 finished with value: 0.013700000000000045 and parameters: {'include_type_1_m5': True, 'value_type_1_m5': False, 'include_type_2_m5': True, 'value_type_2_m5': True, 'include_type_3_m5': False, 'include_htf_poi_ltf_confirmation': True, 'value_htf_poi_ltf_confirmation': False}. Best is trial 34 with value: 0.013700000000000045.\n",
      "[I 2025-01-10 20:50:44,856] Trial 59 finished with value: -0.0038333333333333552 and parameters: {'include_type_1_m5': True, 'value_type_1_m5': False, 'include_type_2_m5': True, 'value_type_2_m5': False, 'include_type_3_m5': True, 'value_type_3_m5': False, 'include_htf_poi_ltf_confirmation': True, 'value_htf_poi_ltf_confirmation': True}. Best is trial 34 with value: 0.013700000000000045.\n",
      "[I 2025-01-10 20:50:44,860] Trial 60 finished with value: 0.005774999999999975 and parameters: {'include_type_1_m5': True, 'value_type_1_m5': False, 'include_type_2_m5': True, 'value_type_2_m5': False, 'include_type_3_m5': False, 'include_htf_poi_ltf_confirmation': True, 'value_htf_poi_ltf_confirmation': False}. Best is trial 34 with value: 0.013700000000000045.\n",
      "[I 2025-01-10 20:50:44,866] Trial 61 finished with value: 0.013700000000000045 and parameters: {'include_type_1_m5': True, 'value_type_1_m5': False, 'include_type_2_m5': True, 'value_type_2_m5': True, 'include_type_3_m5': False, 'include_htf_poi_ltf_confirmation': True, 'value_htf_poi_ltf_confirmation': False}. Best is trial 34 with value: 0.013700000000000045.\n",
      "[I 2025-01-10 20:50:44,871] Trial 62 finished with value: 0.013700000000000045 and parameters: {'include_type_1_m5': True, 'value_type_1_m5': False, 'include_type_2_m5': True, 'value_type_2_m5': True, 'include_type_3_m5': False, 'include_htf_poi_ltf_confirmation': True, 'value_htf_poi_ltf_confirmation': False}. Best is trial 34 with value: 0.013700000000000045.\n",
      "[I 2025-01-10 20:50:44,944] Trial 63 finished with value: -inf and parameters: {'include_type_1_m5': True, 'value_type_1_m5': False, 'include_type_2_m5': True, 'value_type_2_m5': True, 'include_type_3_m5': False, 'include_htf_poi_ltf_confirmation': True, 'value_htf_poi_ltf_confirmation': True}. Best is trial 34 with value: 0.013700000000000045.\n",
      "[I 2025-01-10 20:50:44,954] Trial 64 finished with value: 0.013700000000000045 and parameters: {'include_type_1_m5': True, 'value_type_1_m5': False, 'include_type_2_m5': True, 'value_type_2_m5': True, 'include_type_3_m5': False, 'include_htf_poi_ltf_confirmation': True, 'value_htf_poi_ltf_confirmation': False}. Best is trial 34 with value: 0.013700000000000045.\n",
      "[I 2025-01-10 20:50:44,957] Trial 65 finished with value: 0.013700000000000045 and parameters: {'include_type_1_m5': True, 'value_type_1_m5': False, 'include_type_2_m5': True, 'value_type_2_m5': True, 'include_type_3_m5': True, 'value_type_3_m5': False, 'include_htf_poi_ltf_confirmation': True, 'value_htf_poi_ltf_confirmation': False}. Best is trial 34 with value: 0.013700000000000045.\n",
      "[I 2025-01-10 20:50:44,961] Trial 66 finished with value: -inf and parameters: {'include_type_1_m5': True, 'value_type_1_m5': False, 'include_type_2_m5': True, 'value_type_2_m5': True, 'include_type_3_m5': True, 'value_type_3_m5': False, 'include_htf_poi_ltf_confirmation': True, 'value_htf_poi_ltf_confirmation': True}. Best is trial 34 with value: 0.013700000000000045.\n",
      "[I 2025-01-10 20:50:44,967] Trial 67 finished with value: 0.005774999999999975 and parameters: {'include_type_1_m5': True, 'value_type_1_m5': False, 'include_type_2_m5': True, 'value_type_2_m5': False, 'include_type_3_m5': False, 'include_htf_poi_ltf_confirmation': True, 'value_htf_poi_ltf_confirmation': False}. Best is trial 34 with value: 0.013700000000000045.\n",
      "[I 2025-01-10 20:50:44,974] Trial 68 finished with value: 0.013700000000000045 and parameters: {'include_type_1_m5': True, 'value_type_1_m5': False, 'include_type_2_m5': True, 'value_type_2_m5': True, 'include_type_3_m5': True, 'value_type_3_m5': False, 'include_htf_poi_ltf_confirmation': True, 'value_htf_poi_ltf_confirmation': False}. Best is trial 34 with value: 0.013700000000000045.\n",
      "[I 2025-01-10 20:50:44,978] Trial 69 finished with value: 0.013700000000000045 and parameters: {'include_type_1_m5': True, 'value_type_1_m5': False, 'include_type_2_m5': True, 'value_type_2_m5': True, 'include_type_3_m5': False, 'include_htf_poi_ltf_confirmation': True, 'value_htf_poi_ltf_confirmation': False}. Best is trial 34 with value: 0.013700000000000045.\n",
      "[I 2025-01-10 20:50:44,986] Trial 70 finished with value: 0.013700000000000045 and parameters: {'include_type_1_m5': True, 'value_type_1_m5': False, 'include_type_2_m5': True, 'value_type_2_m5': True, 'include_type_3_m5': True, 'value_type_3_m5': False, 'include_htf_poi_ltf_confirmation': True, 'value_htf_poi_ltf_confirmation': False}. Best is trial 34 with value: 0.013700000000000045.\n",
      "[I 2025-01-10 20:50:44,991] Trial 71 finished with value: 0.013700000000000045 and parameters: {'include_type_1_m5': True, 'value_type_1_m5': False, 'include_type_2_m5': True, 'value_type_2_m5': True, 'include_type_3_m5': False, 'include_htf_poi_ltf_confirmation': True, 'value_htf_poi_ltf_confirmation': False}. Best is trial 34 with value: 0.013700000000000045.\n",
      "[I 2025-01-10 20:50:44,999] Trial 72 finished with value: 0.013700000000000045 and parameters: {'include_type_1_m5': True, 'value_type_1_m5': False, 'include_type_2_m5': True, 'value_type_2_m5': True, 'include_type_3_m5': False, 'include_htf_poi_ltf_confirmation': True, 'value_htf_poi_ltf_confirmation': False}. Best is trial 34 with value: 0.013700000000000045.\n",
      "[I 2025-01-10 20:50:45,007] Trial 73 finished with value: 0.013700000000000045 and parameters: {'include_type_1_m5': True, 'value_type_1_m5': False, 'include_type_2_m5': True, 'value_type_2_m5': True, 'include_type_3_m5': False, 'include_htf_poi_ltf_confirmation': True, 'value_htf_poi_ltf_confirmation': False}. Best is trial 34 with value: 0.013700000000000045.\n",
      "[I 2025-01-10 20:50:45,012] Trial 74 finished with value: 0.013700000000000045 and parameters: {'include_type_1_m5': True, 'value_type_1_m5': False, 'include_type_2_m5': True, 'value_type_2_m5': True, 'include_type_3_m5': False, 'include_htf_poi_ltf_confirmation': True, 'value_htf_poi_ltf_confirmation': False}. Best is trial 34 with value: 0.013700000000000045.\n",
      "[I 2025-01-10 20:50:45,021] Trial 75 finished with value: 0.013700000000000045 and parameters: {'include_type_1_m5': False, 'include_type_2_m5': True, 'value_type_2_m5': True, 'include_type_3_m5': False, 'include_htf_poi_ltf_confirmation': True, 'value_htf_poi_ltf_confirmation': False}. Best is trial 34 with value: 0.013700000000000045.\n",
      "[I 2025-01-10 20:50:45,026] Trial 76 finished with value: 0.013700000000000045 and parameters: {'include_type_1_m5': True, 'value_type_1_m5': False, 'include_type_2_m5': True, 'value_type_2_m5': True, 'include_type_3_m5': True, 'value_type_3_m5': False, 'include_htf_poi_ltf_confirmation': True, 'value_htf_poi_ltf_confirmation': False}. Best is trial 34 with value: 0.013700000000000045.\n",
      "[I 2025-01-10 20:50:45,030] Trial 77 finished with value: -0.0038333333333333552 and parameters: {'include_type_1_m5': True, 'value_type_1_m5': False, 'include_type_2_m5': True, 'value_type_2_m5': False, 'include_type_3_m5': False, 'include_htf_poi_ltf_confirmation': True, 'value_htf_poi_ltf_confirmation': True}. Best is trial 34 with value: 0.013700000000000045.\n",
      "[I 2025-01-10 20:50:45,039] Trial 78 finished with value: 0.013700000000000045 and parameters: {'include_type_1_m5': True, 'value_type_1_m5': False, 'include_type_2_m5': True, 'value_type_2_m5': True, 'include_type_3_m5': True, 'value_type_3_m5': False, 'include_htf_poi_ltf_confirmation': True, 'value_htf_poi_ltf_confirmation': False}. Best is trial 34 with value: 0.013700000000000045.\n",
      "[I 2025-01-10 20:50:45,044] Trial 79 finished with value: 0.013700000000000045 and parameters: {'include_type_1_m5': True, 'value_type_1_m5': False, 'include_type_2_m5': True, 'value_type_2_m5': True, 'include_type_3_m5': False, 'include_htf_poi_ltf_confirmation': True, 'value_htf_poi_ltf_confirmation': False}. Best is trial 34 with value: 0.013700000000000045.\n",
      "[I 2025-01-10 20:50:45,050] Trial 80 finished with value: 0.013700000000000045 and parameters: {'include_type_1_m5': False, 'include_type_2_m5': True, 'value_type_2_m5': True, 'include_type_3_m5': True, 'value_type_3_m5': False, 'include_htf_poi_ltf_confirmation': True, 'value_htf_poi_ltf_confirmation': False}. Best is trial 34 with value: 0.013700000000000045.\n",
      "[I 2025-01-10 20:50:45,057] Trial 81 finished with value: 0.013700000000000045 and parameters: {'include_type_1_m5': True, 'value_type_1_m5': False, 'include_type_2_m5': True, 'value_type_2_m5': True, 'include_type_3_m5': False, 'include_htf_poi_ltf_confirmation': True, 'value_htf_poi_ltf_confirmation': False}. Best is trial 34 with value: 0.013700000000000045.\n",
      "[I 2025-01-10 20:50:45,061] Trial 82 finished with value: 0.013700000000000045 and parameters: {'include_type_1_m5': True, 'value_type_1_m5': False, 'include_type_2_m5': True, 'value_type_2_m5': True, 'include_type_3_m5': False, 'include_htf_poi_ltf_confirmation': True, 'value_htf_poi_ltf_confirmation': False}. Best is trial 34 with value: 0.013700000000000045.\n",
      "[I 2025-01-10 20:50:45,067] Trial 83 finished with value: 0.013700000000000045 and parameters: {'include_type_1_m5': True, 'value_type_1_m5': False, 'include_type_2_m5': True, 'value_type_2_m5': True, 'include_type_3_m5': False, 'include_htf_poi_ltf_confirmation': True, 'value_htf_poi_ltf_confirmation': False}. Best is trial 34 with value: 0.013700000000000045.\n",
      "[I 2025-01-10 20:50:45,073] Trial 84 finished with value: 0.013700000000000045 and parameters: {'include_type_1_m5': True, 'value_type_1_m5': False, 'include_type_2_m5': True, 'value_type_2_m5': True, 'include_type_3_m5': False, 'include_htf_poi_ltf_confirmation': True, 'value_htf_poi_ltf_confirmation': False}. Best is trial 34 with value: 0.013700000000000045.\n",
      "[I 2025-01-10 20:50:45,077] Trial 85 finished with value: 0.013700000000000045 and parameters: {'include_type_1_m5': True, 'value_type_1_m5': False, 'include_type_2_m5': True, 'value_type_2_m5': True, 'include_type_3_m5': False, 'include_htf_poi_ltf_confirmation': True, 'value_htf_poi_ltf_confirmation': False}. Best is trial 34 with value: 0.013700000000000045.\n",
      "[I 2025-01-10 20:50:45,091] Trial 86 finished with value: 0.013700000000000045 and parameters: {'include_type_1_m5': True, 'value_type_1_m5': False, 'include_type_2_m5': True, 'value_type_2_m5': True, 'include_type_3_m5': False, 'include_htf_poi_ltf_confirmation': True, 'value_htf_poi_ltf_confirmation': False}. Best is trial 34 with value: 0.013700000000000045.\n",
      "[I 2025-01-10 20:50:45,097] Trial 87 finished with value: 0.013700000000000045 and parameters: {'include_type_1_m5': True, 'value_type_1_m5': False, 'include_type_2_m5': True, 'value_type_2_m5': True, 'include_type_3_m5': False, 'include_htf_poi_ltf_confirmation': True, 'value_htf_poi_ltf_confirmation': False}. Best is trial 34 with value: 0.013700000000000045.\n",
      "[I 2025-01-10 20:50:45,106] Trial 88 finished with value: 0.013700000000000045 and parameters: {'include_type_1_m5': True, 'value_type_1_m5': False, 'include_type_2_m5': True, 'value_type_2_m5': True, 'include_type_3_m5': True, 'value_type_3_m5': False, 'include_htf_poi_ltf_confirmation': True, 'value_htf_poi_ltf_confirmation': False}. Best is trial 34 with value: 0.013700000000000045.\n",
      "[I 2025-01-10 20:50:45,112] Trial 89 finished with value: 0.013700000000000045 and parameters: {'include_type_1_m5': True, 'value_type_1_m5': False, 'include_type_2_m5': True, 'value_type_2_m5': True, 'include_type_3_m5': False, 'include_htf_poi_ltf_confirmation': True, 'value_htf_poi_ltf_confirmation': False}. Best is trial 34 with value: 0.013700000000000045.\n",
      "[I 2025-01-10 20:50:45,121] Trial 90 finished with value: 0.013700000000000045 and parameters: {'include_type_1_m5': True, 'value_type_1_m5': False, 'include_type_2_m5': True, 'value_type_2_m5': True, 'include_type_3_m5': True, 'value_type_3_m5': False, 'include_htf_poi_ltf_confirmation': True, 'value_htf_poi_ltf_confirmation': False}. Best is trial 34 with value: 0.013700000000000045.\n",
      "[I 2025-01-10 20:50:45,127] Trial 91 finished with value: 0.013700000000000045 and parameters: {'include_type_1_m5': True, 'value_type_1_m5': False, 'include_type_2_m5': True, 'value_type_2_m5': True, 'include_type_3_m5': False, 'include_htf_poi_ltf_confirmation': True, 'value_htf_poi_ltf_confirmation': False}. Best is trial 34 with value: 0.013700000000000045.\n",
      "[I 2025-01-10 20:50:45,267] Trial 92 finished with value: 0.013700000000000045 and parameters: {'include_type_1_m5': True, 'value_type_1_m5': False, 'include_type_2_m5': True, 'value_type_2_m5': True, 'include_type_3_m5': False, 'include_htf_poi_ltf_confirmation': True, 'value_htf_poi_ltf_confirmation': False}. Best is trial 34 with value: 0.013700000000000045.\n",
      "[I 2025-01-10 20:50:45,273] Trial 93 finished with value: 0.013700000000000045 and parameters: {'include_type_1_m5': True, 'value_type_1_m5': False, 'include_type_2_m5': True, 'value_type_2_m5': True, 'include_type_3_m5': False, 'include_htf_poi_ltf_confirmation': True, 'value_htf_poi_ltf_confirmation': False}. Best is trial 34 with value: 0.013700000000000045.\n",
      "[I 2025-01-10 20:50:45,278] Trial 94 finished with value: 0.005774999999999975 and parameters: {'include_type_1_m5': True, 'value_type_1_m5': False, 'include_type_2_m5': True, 'value_type_2_m5': False, 'include_type_3_m5': False, 'include_htf_poi_ltf_confirmation': True, 'value_htf_poi_ltf_confirmation': False}. Best is trial 34 with value: 0.013700000000000045.\n",
      "[I 2025-01-10 20:50:45,286] Trial 95 finished with value: -inf and parameters: {'include_type_1_m5': True, 'value_type_1_m5': False, 'include_type_2_m5': True, 'value_type_2_m5': True, 'include_type_3_m5': False, 'include_htf_poi_ltf_confirmation': True, 'value_htf_poi_ltf_confirmation': True}. Best is trial 34 with value: 0.013700000000000045.\n",
      "[I 2025-01-10 20:50:45,292] Trial 96 finished with value: 0.013700000000000045 and parameters: {'include_type_1_m5': True, 'value_type_1_m5': False, 'include_type_2_m5': True, 'value_type_2_m5': True, 'include_type_3_m5': False, 'include_htf_poi_ltf_confirmation': True, 'value_htf_poi_ltf_confirmation': False}. Best is trial 34 with value: 0.013700000000000045.\n",
      "[I 2025-01-10 20:50:45,295] Trial 97 finished with value: 0.013700000000000045 and parameters: {'include_type_1_m5': False, 'include_type_2_m5': True, 'value_type_2_m5': True, 'include_type_3_m5': False, 'include_htf_poi_ltf_confirmation': True, 'value_htf_poi_ltf_confirmation': False}. Best is trial 34 with value: 0.013700000000000045.\n",
      "[I 2025-01-10 20:50:45,301] Trial 98 finished with value: 0.013700000000000045 and parameters: {'include_type_1_m5': True, 'value_type_1_m5': False, 'include_type_2_m5': True, 'value_type_2_m5': True, 'include_type_3_m5': True, 'value_type_3_m5': False, 'include_htf_poi_ltf_confirmation': True, 'value_htf_poi_ltf_confirmation': False}. Best is trial 34 with value: 0.013700000000000045.\n",
      "[I 2025-01-10 20:50:45,309] Trial 99 finished with value: 0.013700000000000045 and parameters: {'include_type_1_m5': True, 'value_type_1_m5': False, 'include_type_2_m5': True, 'value_type_2_m5': True, 'include_type_3_m5': False, 'include_htf_poi_ltf_confirmation': True, 'value_htf_poi_ltf_confirmation': False}. Best is trial 34 with value: 0.013700000000000045.\n",
      "Best parameters: {'include_type_1_m5': True, 'value_type_1_m5': False, 'include_type_2_m5': True, 'value_type_2_m5': True, 'include_type_3_m5': True, 'value_type_3_m5': False, 'include_htf_poi_ltf_confirmation': True, 'value_htf_poi_ltf_confirmation': False}\n",
      "Best score: 0.013700000000000045\n"
     ]
    }
   ],
   "source": [
    "import src.tradecli\n",
    "cfg = src.tradecli.ReportOptunaConfig(study_name='default_1')\n",
    "res = report_best_performing_tags_value(df_test, \n",
    "                                  y_col='return', \n",
    "                                  score_mode='mean', method='optuna', config=cfg)"
   ]
  },
  {
   "cell_type": "code",
   "execution_count": 15,
   "metadata": {},
   "outputs": [
    {
     "data": {
      "text/plain": [
       "(<optuna.study.study.Study at 0x154198f20>,\n",
       " {'include_type_1_m5': True,\n",
       "  'value_type_1_m5': False,\n",
       "  'include_type_2_m5': True,\n",
       "  'value_type_2_m5': True,\n",
       "  'include_type_3_m5': True,\n",
       "  'value_type_3_m5': False,\n",
       "  'include_htf_poi_ltf_confirmation': True,\n",
       "  'value_htf_poi_ltf_confirmation': False},\n",
       " 0.013700000000000045)"
      ]
     },
     "execution_count": 15,
     "metadata": {},
     "output_type": "execute_result"
    }
   ],
   "source": [
    "res"
   ]
  },
  {
   "cell_type": "code",
   "execution_count": 16,
   "metadata": {},
   "outputs": [],
   "source": [
    "res[0].best_trial\n",
    "study = res[0]"
   ]
  },
  {
   "cell_type": "code",
   "execution_count": 17,
   "metadata": {},
   "outputs": [
    {
     "data": {
      "application/vnd.plotly.v1+json": {
       "config": {
        "plotlyServerURL": "https://plot.ly"
       },
       "data": [
        {
         "mode": "markers",
         "name": "Objective Value",
         "type": "scatter",
         "x": [
          0,
          1,
          2,
          3,
          4,
          5,
          6,
          7,
          8,
          9,
          10,
          11,
          12,
          13,
          14,
          15,
          16,
          17,
          18,
          19,
          20,
          21,
          22,
          23,
          24,
          25,
          26,
          27,
          28,
          29,
          30,
          31,
          32,
          33,
          34,
          35,
          36,
          37,
          38,
          39,
          40,
          41,
          42,
          43,
          44,
          45,
          46,
          47,
          48,
          49,
          50,
          51,
          52,
          53,
          54,
          55,
          56,
          57,
          58,
          59,
          60,
          61,
          62,
          63,
          64,
          65,
          66,
          67,
          68,
          69,
          70,
          71,
          72,
          73,
          74,
          75,
          76,
          77,
          78,
          79,
          80,
          81,
          82,
          83,
          84,
          85,
          86,
          87,
          88,
          89,
          90,
          91,
          92,
          93,
          94,
          95,
          96,
          97,
          98,
          99
         ],
         "y": [
          -0.0038333333333333552,
          0.0016571428571428332,
          0.0031624999999999848,
          null,
          0.0031624999999999848,
          -0.0038333333333333552,
          null,
          0.0031624999999999848,
          null,
          -0.0038333333333333552,
          null,
          0.0031624999999999848,
          0.0031624999999999848,
          0.0031624999999999848,
          0.0031624999999999848,
          0.0031624999999999848,
          0.0031624999999999848,
          0.0031624999999999848,
          null,
          0.0031624999999999848,
          0.0031624999999999848,
          0.0031624999999999848,
          0.0031624999999999848,
          0.0031624999999999848,
          0.0031624999999999848,
          0.0031624999999999848,
          0.0016571428571428332,
          0.0031624999999999848,
          0.0031624999999999848,
          0.007359999999999989,
          0.007359999999999989,
          0.007359999999999989,
          0.007359999999999989,
          0.007359999999999989,
          0.013700000000000045,
          0.013700000000000045,
          0.013700000000000045,
          0.013700000000000045,
          0.013700000000000045,
          0.013700000000000045,
          0.013700000000000045,
          0.013700000000000045,
          0.013700000000000045,
          0.013700000000000045,
          0.013700000000000045,
          0.013700000000000045,
          0.013700000000000045,
          0.013700000000000045,
          0.013700000000000045,
          0.013700000000000045,
          0.013700000000000045,
          0.013700000000000045,
          0.013700000000000045,
          0.013700000000000045,
          0.013700000000000045,
          0.013700000000000045,
          0.013700000000000045,
          0.013700000000000045,
          0.013700000000000045,
          -0.0038333333333333552,
          0.005774999999999975,
          0.013700000000000045,
          0.013700000000000045,
          null,
          0.013700000000000045,
          0.013700000000000045,
          null,
          0.005774999999999975,
          0.013700000000000045,
          0.013700000000000045,
          0.013700000000000045,
          0.013700000000000045,
          0.013700000000000045,
          0.013700000000000045,
          0.013700000000000045,
          0.013700000000000045,
          0.013700000000000045,
          -0.0038333333333333552,
          0.013700000000000045,
          0.013700000000000045,
          0.013700000000000045,
          0.013700000000000045,
          0.013700000000000045,
          0.013700000000000045,
          0.013700000000000045,
          0.013700000000000045,
          0.013700000000000045,
          0.013700000000000045,
          0.013700000000000045,
          0.013700000000000045,
          0.013700000000000045,
          0.013700000000000045,
          0.013700000000000045,
          0.013700000000000045,
          0.005774999999999975,
          null,
          0.013700000000000045,
          0.013700000000000045,
          0.013700000000000045,
          0.013700000000000045
         ]
        },
        {
         "mode": "lines",
         "name": "Best Value",
         "type": "scatter",
         "x": [
          0,
          1,
          2,
          3,
          4,
          5,
          6,
          7,
          8,
          9,
          10,
          11,
          12,
          13,
          14,
          15,
          16,
          17,
          18,
          19,
          20,
          21,
          22,
          23,
          24,
          25,
          26,
          27,
          28,
          29,
          30,
          31,
          32,
          33,
          34,
          35,
          36,
          37,
          38,
          39,
          40,
          41,
          42,
          43,
          44,
          45,
          46,
          47,
          48,
          49,
          50,
          51,
          52,
          53,
          54,
          55,
          56,
          57,
          58,
          59,
          60,
          61,
          62,
          63,
          64,
          65,
          66,
          67,
          68,
          69,
          70,
          71,
          72,
          73,
          74,
          75,
          76,
          77,
          78,
          79,
          80,
          81,
          82,
          83,
          84,
          85,
          86,
          87,
          88,
          89,
          90,
          91,
          92,
          93,
          94,
          95,
          96,
          97,
          98,
          99
         ],
         "y": [
          -0.0038333333333333552,
          0.0016571428571428332,
          0.0031624999999999848,
          0.0031624999999999848,
          0.0031624999999999848,
          0.0031624999999999848,
          0.0031624999999999848,
          0.0031624999999999848,
          0.0031624999999999848,
          0.0031624999999999848,
          0.0031624999999999848,
          0.0031624999999999848,
          0.0031624999999999848,
          0.0031624999999999848,
          0.0031624999999999848,
          0.0031624999999999848,
          0.0031624999999999848,
          0.0031624999999999848,
          0.0031624999999999848,
          0.0031624999999999848,
          0.0031624999999999848,
          0.0031624999999999848,
          0.0031624999999999848,
          0.0031624999999999848,
          0.0031624999999999848,
          0.0031624999999999848,
          0.0031624999999999848,
          0.0031624999999999848,
          0.0031624999999999848,
          0.007359999999999989,
          0.007359999999999989,
          0.007359999999999989,
          0.007359999999999989,
          0.007359999999999989,
          0.013700000000000045,
          0.013700000000000045,
          0.013700000000000045,
          0.013700000000000045,
          0.013700000000000045,
          0.013700000000000045,
          0.013700000000000045,
          0.013700000000000045,
          0.013700000000000045,
          0.013700000000000045,
          0.013700000000000045,
          0.013700000000000045,
          0.013700000000000045,
          0.013700000000000045,
          0.013700000000000045,
          0.013700000000000045,
          0.013700000000000045,
          0.013700000000000045,
          0.013700000000000045,
          0.013700000000000045,
          0.013700000000000045,
          0.013700000000000045,
          0.013700000000000045,
          0.013700000000000045,
          0.013700000000000045,
          0.013700000000000045,
          0.013700000000000045,
          0.013700000000000045,
          0.013700000000000045,
          0.013700000000000045,
          0.013700000000000045,
          0.013700000000000045,
          0.013700000000000045,
          0.013700000000000045,
          0.013700000000000045,
          0.013700000000000045,
          0.013700000000000045,
          0.013700000000000045,
          0.013700000000000045,
          0.013700000000000045,
          0.013700000000000045,
          0.013700000000000045,
          0.013700000000000045,
          0.013700000000000045,
          0.013700000000000045,
          0.013700000000000045,
          0.013700000000000045,
          0.013700000000000045,
          0.013700000000000045,
          0.013700000000000045,
          0.013700000000000045,
          0.013700000000000045,
          0.013700000000000045,
          0.013700000000000045,
          0.013700000000000045,
          0.013700000000000045,
          0.013700000000000045,
          0.013700000000000045,
          0.013700000000000045,
          0.013700000000000045,
          0.013700000000000045,
          0.013700000000000045,
          0.013700000000000045,
          0.013700000000000045,
          0.013700000000000045,
          0.013700000000000045
         ]
        },
        {
         "marker": {
          "color": "#cccccc"
         },
         "mode": "markers",
         "name": "Infeasible Trial",
         "showlegend": false,
         "type": "scatter",
         "x": [],
         "y": []
        }
       ],
       "layout": {
        "template": {
         "data": {
          "bar": [
           {
            "error_x": {
             "color": "#2a3f5f"
            },
            "error_y": {
             "color": "#2a3f5f"
            },
            "marker": {
             "line": {
              "color": "#E5ECF6",
              "width": 0.5
             },
             "pattern": {
              "fillmode": "overlay",
              "size": 10,
              "solidity": 0.2
             }
            },
            "type": "bar"
           }
          ],
          "barpolar": [
           {
            "marker": {
             "line": {
              "color": "#E5ECF6",
              "width": 0.5
             },
             "pattern": {
              "fillmode": "overlay",
              "size": 10,
              "solidity": 0.2
             }
            },
            "type": "barpolar"
           }
          ],
          "carpet": [
           {
            "aaxis": {
             "endlinecolor": "#2a3f5f",
             "gridcolor": "white",
             "linecolor": "white",
             "minorgridcolor": "white",
             "startlinecolor": "#2a3f5f"
            },
            "baxis": {
             "endlinecolor": "#2a3f5f",
             "gridcolor": "white",
             "linecolor": "white",
             "minorgridcolor": "white",
             "startlinecolor": "#2a3f5f"
            },
            "type": "carpet"
           }
          ],
          "choropleth": [
           {
            "colorbar": {
             "outlinewidth": 0,
             "ticks": ""
            },
            "type": "choropleth"
           }
          ],
          "contour": [
           {
            "colorbar": {
             "outlinewidth": 0,
             "ticks": ""
            },
            "colorscale": [
             [
              0,
              "#0d0887"
             ],
             [
              0.1111111111111111,
              "#46039f"
             ],
             [
              0.2222222222222222,
              "#7201a8"
             ],
             [
              0.3333333333333333,
              "#9c179e"
             ],
             [
              0.4444444444444444,
              "#bd3786"
             ],
             [
              0.5555555555555556,
              "#d8576b"
             ],
             [
              0.6666666666666666,
              "#ed7953"
             ],
             [
              0.7777777777777778,
              "#fb9f3a"
             ],
             [
              0.8888888888888888,
              "#fdca26"
             ],
             [
              1,
              "#f0f921"
             ]
            ],
            "type": "contour"
           }
          ],
          "contourcarpet": [
           {
            "colorbar": {
             "outlinewidth": 0,
             "ticks": ""
            },
            "type": "contourcarpet"
           }
          ],
          "heatmap": [
           {
            "colorbar": {
             "outlinewidth": 0,
             "ticks": ""
            },
            "colorscale": [
             [
              0,
              "#0d0887"
             ],
             [
              0.1111111111111111,
              "#46039f"
             ],
             [
              0.2222222222222222,
              "#7201a8"
             ],
             [
              0.3333333333333333,
              "#9c179e"
             ],
             [
              0.4444444444444444,
              "#bd3786"
             ],
             [
              0.5555555555555556,
              "#d8576b"
             ],
             [
              0.6666666666666666,
              "#ed7953"
             ],
             [
              0.7777777777777778,
              "#fb9f3a"
             ],
             [
              0.8888888888888888,
              "#fdca26"
             ],
             [
              1,
              "#f0f921"
             ]
            ],
            "type": "heatmap"
           }
          ],
          "heatmapgl": [
           {
            "colorbar": {
             "outlinewidth": 0,
             "ticks": ""
            },
            "colorscale": [
             [
              0,
              "#0d0887"
             ],
             [
              0.1111111111111111,
              "#46039f"
             ],
             [
              0.2222222222222222,
              "#7201a8"
             ],
             [
              0.3333333333333333,
              "#9c179e"
             ],
             [
              0.4444444444444444,
              "#bd3786"
             ],
             [
              0.5555555555555556,
              "#d8576b"
             ],
             [
              0.6666666666666666,
              "#ed7953"
             ],
             [
              0.7777777777777778,
              "#fb9f3a"
             ],
             [
              0.8888888888888888,
              "#fdca26"
             ],
             [
              1,
              "#f0f921"
             ]
            ],
            "type": "heatmapgl"
           }
          ],
          "histogram": [
           {
            "marker": {
             "pattern": {
              "fillmode": "overlay",
              "size": 10,
              "solidity": 0.2
             }
            },
            "type": "histogram"
           }
          ],
          "histogram2d": [
           {
            "colorbar": {
             "outlinewidth": 0,
             "ticks": ""
            },
            "colorscale": [
             [
              0,
              "#0d0887"
             ],
             [
              0.1111111111111111,
              "#46039f"
             ],
             [
              0.2222222222222222,
              "#7201a8"
             ],
             [
              0.3333333333333333,
              "#9c179e"
             ],
             [
              0.4444444444444444,
              "#bd3786"
             ],
             [
              0.5555555555555556,
              "#d8576b"
             ],
             [
              0.6666666666666666,
              "#ed7953"
             ],
             [
              0.7777777777777778,
              "#fb9f3a"
             ],
             [
              0.8888888888888888,
              "#fdca26"
             ],
             [
              1,
              "#f0f921"
             ]
            ],
            "type": "histogram2d"
           }
          ],
          "histogram2dcontour": [
           {
            "colorbar": {
             "outlinewidth": 0,
             "ticks": ""
            },
            "colorscale": [
             [
              0,
              "#0d0887"
             ],
             [
              0.1111111111111111,
              "#46039f"
             ],
             [
              0.2222222222222222,
              "#7201a8"
             ],
             [
              0.3333333333333333,
              "#9c179e"
             ],
             [
              0.4444444444444444,
              "#bd3786"
             ],
             [
              0.5555555555555556,
              "#d8576b"
             ],
             [
              0.6666666666666666,
              "#ed7953"
             ],
             [
              0.7777777777777778,
              "#fb9f3a"
             ],
             [
              0.8888888888888888,
              "#fdca26"
             ],
             [
              1,
              "#f0f921"
             ]
            ],
            "type": "histogram2dcontour"
           }
          ],
          "mesh3d": [
           {
            "colorbar": {
             "outlinewidth": 0,
             "ticks": ""
            },
            "type": "mesh3d"
           }
          ],
          "parcoords": [
           {
            "line": {
             "colorbar": {
              "outlinewidth": 0,
              "ticks": ""
             }
            },
            "type": "parcoords"
           }
          ],
          "pie": [
           {
            "automargin": true,
            "type": "pie"
           }
          ],
          "scatter": [
           {
            "fillpattern": {
             "fillmode": "overlay",
             "size": 10,
             "solidity": 0.2
            },
            "type": "scatter"
           }
          ],
          "scatter3d": [
           {
            "line": {
             "colorbar": {
              "outlinewidth": 0,
              "ticks": ""
             }
            },
            "marker": {
             "colorbar": {
              "outlinewidth": 0,
              "ticks": ""
             }
            },
            "type": "scatter3d"
           }
          ],
          "scattercarpet": [
           {
            "marker": {
             "colorbar": {
              "outlinewidth": 0,
              "ticks": ""
             }
            },
            "type": "scattercarpet"
           }
          ],
          "scattergeo": [
           {
            "marker": {
             "colorbar": {
              "outlinewidth": 0,
              "ticks": ""
             }
            },
            "type": "scattergeo"
           }
          ],
          "scattergl": [
           {
            "marker": {
             "colorbar": {
              "outlinewidth": 0,
              "ticks": ""
             }
            },
            "type": "scattergl"
           }
          ],
          "scattermapbox": [
           {
            "marker": {
             "colorbar": {
              "outlinewidth": 0,
              "ticks": ""
             }
            },
            "type": "scattermapbox"
           }
          ],
          "scatterpolar": [
           {
            "marker": {
             "colorbar": {
              "outlinewidth": 0,
              "ticks": ""
             }
            },
            "type": "scatterpolar"
           }
          ],
          "scatterpolargl": [
           {
            "marker": {
             "colorbar": {
              "outlinewidth": 0,
              "ticks": ""
             }
            },
            "type": "scatterpolargl"
           }
          ],
          "scatterternary": [
           {
            "marker": {
             "colorbar": {
              "outlinewidth": 0,
              "ticks": ""
             }
            },
            "type": "scatterternary"
           }
          ],
          "surface": [
           {
            "colorbar": {
             "outlinewidth": 0,
             "ticks": ""
            },
            "colorscale": [
             [
              0,
              "#0d0887"
             ],
             [
              0.1111111111111111,
              "#46039f"
             ],
             [
              0.2222222222222222,
              "#7201a8"
             ],
             [
              0.3333333333333333,
              "#9c179e"
             ],
             [
              0.4444444444444444,
              "#bd3786"
             ],
             [
              0.5555555555555556,
              "#d8576b"
             ],
             [
              0.6666666666666666,
              "#ed7953"
             ],
             [
              0.7777777777777778,
              "#fb9f3a"
             ],
             [
              0.8888888888888888,
              "#fdca26"
             ],
             [
              1,
              "#f0f921"
             ]
            ],
            "type": "surface"
           }
          ],
          "table": [
           {
            "cells": {
             "fill": {
              "color": "#EBF0F8"
             },
             "line": {
              "color": "white"
             }
            },
            "header": {
             "fill": {
              "color": "#C8D4E3"
             },
             "line": {
              "color": "white"
             }
            },
            "type": "table"
           }
          ]
         },
         "layout": {
          "annotationdefaults": {
           "arrowcolor": "#2a3f5f",
           "arrowhead": 0,
           "arrowwidth": 1
          },
          "autotypenumbers": "strict",
          "coloraxis": {
           "colorbar": {
            "outlinewidth": 0,
            "ticks": ""
           }
          },
          "colorscale": {
           "diverging": [
            [
             0,
             "#8e0152"
            ],
            [
             0.1,
             "#c51b7d"
            ],
            [
             0.2,
             "#de77ae"
            ],
            [
             0.3,
             "#f1b6da"
            ],
            [
             0.4,
             "#fde0ef"
            ],
            [
             0.5,
             "#f7f7f7"
            ],
            [
             0.6,
             "#e6f5d0"
            ],
            [
             0.7,
             "#b8e186"
            ],
            [
             0.8,
             "#7fbc41"
            ],
            [
             0.9,
             "#4d9221"
            ],
            [
             1,
             "#276419"
            ]
           ],
           "sequential": [
            [
             0,
             "#0d0887"
            ],
            [
             0.1111111111111111,
             "#46039f"
            ],
            [
             0.2222222222222222,
             "#7201a8"
            ],
            [
             0.3333333333333333,
             "#9c179e"
            ],
            [
             0.4444444444444444,
             "#bd3786"
            ],
            [
             0.5555555555555556,
             "#d8576b"
            ],
            [
             0.6666666666666666,
             "#ed7953"
            ],
            [
             0.7777777777777778,
             "#fb9f3a"
            ],
            [
             0.8888888888888888,
             "#fdca26"
            ],
            [
             1,
             "#f0f921"
            ]
           ],
           "sequentialminus": [
            [
             0,
             "#0d0887"
            ],
            [
             0.1111111111111111,
             "#46039f"
            ],
            [
             0.2222222222222222,
             "#7201a8"
            ],
            [
             0.3333333333333333,
             "#9c179e"
            ],
            [
             0.4444444444444444,
             "#bd3786"
            ],
            [
             0.5555555555555556,
             "#d8576b"
            ],
            [
             0.6666666666666666,
             "#ed7953"
            ],
            [
             0.7777777777777778,
             "#fb9f3a"
            ],
            [
             0.8888888888888888,
             "#fdca26"
            ],
            [
             1,
             "#f0f921"
            ]
           ]
          },
          "colorway": [
           "#636efa",
           "#EF553B",
           "#00cc96",
           "#ab63fa",
           "#FFA15A",
           "#19d3f3",
           "#FF6692",
           "#B6E880",
           "#FF97FF",
           "#FECB52"
          ],
          "font": {
           "color": "#2a3f5f"
          },
          "geo": {
           "bgcolor": "white",
           "lakecolor": "white",
           "landcolor": "#E5ECF6",
           "showlakes": true,
           "showland": true,
           "subunitcolor": "white"
          },
          "hoverlabel": {
           "align": "left"
          },
          "hovermode": "closest",
          "mapbox": {
           "style": "light"
          },
          "paper_bgcolor": "white",
          "plot_bgcolor": "#E5ECF6",
          "polar": {
           "angularaxis": {
            "gridcolor": "white",
            "linecolor": "white",
            "ticks": ""
           },
           "bgcolor": "#E5ECF6",
           "radialaxis": {
            "gridcolor": "white",
            "linecolor": "white",
            "ticks": ""
           }
          },
          "scene": {
           "xaxis": {
            "backgroundcolor": "#E5ECF6",
            "gridcolor": "white",
            "gridwidth": 2,
            "linecolor": "white",
            "showbackground": true,
            "ticks": "",
            "zerolinecolor": "white"
           },
           "yaxis": {
            "backgroundcolor": "#E5ECF6",
            "gridcolor": "white",
            "gridwidth": 2,
            "linecolor": "white",
            "showbackground": true,
            "ticks": "",
            "zerolinecolor": "white"
           },
           "zaxis": {
            "backgroundcolor": "#E5ECF6",
            "gridcolor": "white",
            "gridwidth": 2,
            "linecolor": "white",
            "showbackground": true,
            "ticks": "",
            "zerolinecolor": "white"
           }
          },
          "shapedefaults": {
           "line": {
            "color": "#2a3f5f"
           }
          },
          "ternary": {
           "aaxis": {
            "gridcolor": "white",
            "linecolor": "white",
            "ticks": ""
           },
           "baxis": {
            "gridcolor": "white",
            "linecolor": "white",
            "ticks": ""
           },
           "bgcolor": "#E5ECF6",
           "caxis": {
            "gridcolor": "white",
            "linecolor": "white",
            "ticks": ""
           }
          },
          "title": {
           "x": 0.05
          },
          "xaxis": {
           "automargin": true,
           "gridcolor": "white",
           "linecolor": "white",
           "ticks": "",
           "title": {
            "standoff": 15
           },
           "zerolinecolor": "white",
           "zerolinewidth": 2
          },
          "yaxis": {
           "automargin": true,
           "gridcolor": "white",
           "linecolor": "white",
           "ticks": "",
           "title": {
            "standoff": 15
           },
           "zerolinecolor": "white",
           "zerolinewidth": 2
          }
         }
        },
        "title": {
         "text": "Optimization History Plot"
        },
        "xaxis": {
         "title": {
          "text": "Trial"
         }
        },
        "yaxis": {
         "title": {
          "text": "Objective Value"
         }
        }
       }
      }
     },
     "metadata": {},
     "output_type": "display_data"
    },
    {
     "data": {
      "application/vnd.plotly.v1+json": {
       "config": {
        "plotlyServerURL": "https://plot.ly"
       },
       "data": [
        {
         "cliponaxis": false,
         "hovertemplate": [
          "include_type_1_m5 (CategoricalDistribution): 0.004208833583980048<extra></extra>",
          "include_type_3_m5 (CategoricalDistribution): 0.014593569181211548<extra></extra>",
          "include_type_2_m5 (CategoricalDistribution): 0.4550056888822485<extra></extra>",
          "include_htf_poi_ltf_confirmation (CategoricalDistribution): 0.52619190835256<extra></extra>"
         ],
         "name": "Objective Value",
         "orientation": "h",
         "text": [
          "<0.01",
          "0.01",
          "0.46",
          "0.53"
         ],
         "textposition": "outside",
         "type": "bar",
         "x": [
          0.004208833583980048,
          0.014593569181211548,
          0.4550056888822485,
          0.52619190835256
         ],
         "y": [
          "include_type_1_m5",
          "include_type_3_m5",
          "include_type_2_m5",
          "include_htf_poi_ltf_confirmation"
         ]
        }
       ],
       "layout": {
        "template": {
         "data": {
          "bar": [
           {
            "error_x": {
             "color": "#2a3f5f"
            },
            "error_y": {
             "color": "#2a3f5f"
            },
            "marker": {
             "line": {
              "color": "#E5ECF6",
              "width": 0.5
             },
             "pattern": {
              "fillmode": "overlay",
              "size": 10,
              "solidity": 0.2
             }
            },
            "type": "bar"
           }
          ],
          "barpolar": [
           {
            "marker": {
             "line": {
              "color": "#E5ECF6",
              "width": 0.5
             },
             "pattern": {
              "fillmode": "overlay",
              "size": 10,
              "solidity": 0.2
             }
            },
            "type": "barpolar"
           }
          ],
          "carpet": [
           {
            "aaxis": {
             "endlinecolor": "#2a3f5f",
             "gridcolor": "white",
             "linecolor": "white",
             "minorgridcolor": "white",
             "startlinecolor": "#2a3f5f"
            },
            "baxis": {
             "endlinecolor": "#2a3f5f",
             "gridcolor": "white",
             "linecolor": "white",
             "minorgridcolor": "white",
             "startlinecolor": "#2a3f5f"
            },
            "type": "carpet"
           }
          ],
          "choropleth": [
           {
            "colorbar": {
             "outlinewidth": 0,
             "ticks": ""
            },
            "type": "choropleth"
           }
          ],
          "contour": [
           {
            "colorbar": {
             "outlinewidth": 0,
             "ticks": ""
            },
            "colorscale": [
             [
              0,
              "#0d0887"
             ],
             [
              0.1111111111111111,
              "#46039f"
             ],
             [
              0.2222222222222222,
              "#7201a8"
             ],
             [
              0.3333333333333333,
              "#9c179e"
             ],
             [
              0.4444444444444444,
              "#bd3786"
             ],
             [
              0.5555555555555556,
              "#d8576b"
             ],
             [
              0.6666666666666666,
              "#ed7953"
             ],
             [
              0.7777777777777778,
              "#fb9f3a"
             ],
             [
              0.8888888888888888,
              "#fdca26"
             ],
             [
              1,
              "#f0f921"
             ]
            ],
            "type": "contour"
           }
          ],
          "contourcarpet": [
           {
            "colorbar": {
             "outlinewidth": 0,
             "ticks": ""
            },
            "type": "contourcarpet"
           }
          ],
          "heatmap": [
           {
            "colorbar": {
             "outlinewidth": 0,
             "ticks": ""
            },
            "colorscale": [
             [
              0,
              "#0d0887"
             ],
             [
              0.1111111111111111,
              "#46039f"
             ],
             [
              0.2222222222222222,
              "#7201a8"
             ],
             [
              0.3333333333333333,
              "#9c179e"
             ],
             [
              0.4444444444444444,
              "#bd3786"
             ],
             [
              0.5555555555555556,
              "#d8576b"
             ],
             [
              0.6666666666666666,
              "#ed7953"
             ],
             [
              0.7777777777777778,
              "#fb9f3a"
             ],
             [
              0.8888888888888888,
              "#fdca26"
             ],
             [
              1,
              "#f0f921"
             ]
            ],
            "type": "heatmap"
           }
          ],
          "heatmapgl": [
           {
            "colorbar": {
             "outlinewidth": 0,
             "ticks": ""
            },
            "colorscale": [
             [
              0,
              "#0d0887"
             ],
             [
              0.1111111111111111,
              "#46039f"
             ],
             [
              0.2222222222222222,
              "#7201a8"
             ],
             [
              0.3333333333333333,
              "#9c179e"
             ],
             [
              0.4444444444444444,
              "#bd3786"
             ],
             [
              0.5555555555555556,
              "#d8576b"
             ],
             [
              0.6666666666666666,
              "#ed7953"
             ],
             [
              0.7777777777777778,
              "#fb9f3a"
             ],
             [
              0.8888888888888888,
              "#fdca26"
             ],
             [
              1,
              "#f0f921"
             ]
            ],
            "type": "heatmapgl"
           }
          ],
          "histogram": [
           {
            "marker": {
             "pattern": {
              "fillmode": "overlay",
              "size": 10,
              "solidity": 0.2
             }
            },
            "type": "histogram"
           }
          ],
          "histogram2d": [
           {
            "colorbar": {
             "outlinewidth": 0,
             "ticks": ""
            },
            "colorscale": [
             [
              0,
              "#0d0887"
             ],
             [
              0.1111111111111111,
              "#46039f"
             ],
             [
              0.2222222222222222,
              "#7201a8"
             ],
             [
              0.3333333333333333,
              "#9c179e"
             ],
             [
              0.4444444444444444,
              "#bd3786"
             ],
             [
              0.5555555555555556,
              "#d8576b"
             ],
             [
              0.6666666666666666,
              "#ed7953"
             ],
             [
              0.7777777777777778,
              "#fb9f3a"
             ],
             [
              0.8888888888888888,
              "#fdca26"
             ],
             [
              1,
              "#f0f921"
             ]
            ],
            "type": "histogram2d"
           }
          ],
          "histogram2dcontour": [
           {
            "colorbar": {
             "outlinewidth": 0,
             "ticks": ""
            },
            "colorscale": [
             [
              0,
              "#0d0887"
             ],
             [
              0.1111111111111111,
              "#46039f"
             ],
             [
              0.2222222222222222,
              "#7201a8"
             ],
             [
              0.3333333333333333,
              "#9c179e"
             ],
             [
              0.4444444444444444,
              "#bd3786"
             ],
             [
              0.5555555555555556,
              "#d8576b"
             ],
             [
              0.6666666666666666,
              "#ed7953"
             ],
             [
              0.7777777777777778,
              "#fb9f3a"
             ],
             [
              0.8888888888888888,
              "#fdca26"
             ],
             [
              1,
              "#f0f921"
             ]
            ],
            "type": "histogram2dcontour"
           }
          ],
          "mesh3d": [
           {
            "colorbar": {
             "outlinewidth": 0,
             "ticks": ""
            },
            "type": "mesh3d"
           }
          ],
          "parcoords": [
           {
            "line": {
             "colorbar": {
              "outlinewidth": 0,
              "ticks": ""
             }
            },
            "type": "parcoords"
           }
          ],
          "pie": [
           {
            "automargin": true,
            "type": "pie"
           }
          ],
          "scatter": [
           {
            "fillpattern": {
             "fillmode": "overlay",
             "size": 10,
             "solidity": 0.2
            },
            "type": "scatter"
           }
          ],
          "scatter3d": [
           {
            "line": {
             "colorbar": {
              "outlinewidth": 0,
              "ticks": ""
             }
            },
            "marker": {
             "colorbar": {
              "outlinewidth": 0,
              "ticks": ""
             }
            },
            "type": "scatter3d"
           }
          ],
          "scattercarpet": [
           {
            "marker": {
             "colorbar": {
              "outlinewidth": 0,
              "ticks": ""
             }
            },
            "type": "scattercarpet"
           }
          ],
          "scattergeo": [
           {
            "marker": {
             "colorbar": {
              "outlinewidth": 0,
              "ticks": ""
             }
            },
            "type": "scattergeo"
           }
          ],
          "scattergl": [
           {
            "marker": {
             "colorbar": {
              "outlinewidth": 0,
              "ticks": ""
             }
            },
            "type": "scattergl"
           }
          ],
          "scattermapbox": [
           {
            "marker": {
             "colorbar": {
              "outlinewidth": 0,
              "ticks": ""
             }
            },
            "type": "scattermapbox"
           }
          ],
          "scatterpolar": [
           {
            "marker": {
             "colorbar": {
              "outlinewidth": 0,
              "ticks": ""
             }
            },
            "type": "scatterpolar"
           }
          ],
          "scatterpolargl": [
           {
            "marker": {
             "colorbar": {
              "outlinewidth": 0,
              "ticks": ""
             }
            },
            "type": "scatterpolargl"
           }
          ],
          "scatterternary": [
           {
            "marker": {
             "colorbar": {
              "outlinewidth": 0,
              "ticks": ""
             }
            },
            "type": "scatterternary"
           }
          ],
          "surface": [
           {
            "colorbar": {
             "outlinewidth": 0,
             "ticks": ""
            },
            "colorscale": [
             [
              0,
              "#0d0887"
             ],
             [
              0.1111111111111111,
              "#46039f"
             ],
             [
              0.2222222222222222,
              "#7201a8"
             ],
             [
              0.3333333333333333,
              "#9c179e"
             ],
             [
              0.4444444444444444,
              "#bd3786"
             ],
             [
              0.5555555555555556,
              "#d8576b"
             ],
             [
              0.6666666666666666,
              "#ed7953"
             ],
             [
              0.7777777777777778,
              "#fb9f3a"
             ],
             [
              0.8888888888888888,
              "#fdca26"
             ],
             [
              1,
              "#f0f921"
             ]
            ],
            "type": "surface"
           }
          ],
          "table": [
           {
            "cells": {
             "fill": {
              "color": "#EBF0F8"
             },
             "line": {
              "color": "white"
             }
            },
            "header": {
             "fill": {
              "color": "#C8D4E3"
             },
             "line": {
              "color": "white"
             }
            },
            "type": "table"
           }
          ]
         },
         "layout": {
          "annotationdefaults": {
           "arrowcolor": "#2a3f5f",
           "arrowhead": 0,
           "arrowwidth": 1
          },
          "autotypenumbers": "strict",
          "coloraxis": {
           "colorbar": {
            "outlinewidth": 0,
            "ticks": ""
           }
          },
          "colorscale": {
           "diverging": [
            [
             0,
             "#8e0152"
            ],
            [
             0.1,
             "#c51b7d"
            ],
            [
             0.2,
             "#de77ae"
            ],
            [
             0.3,
             "#f1b6da"
            ],
            [
             0.4,
             "#fde0ef"
            ],
            [
             0.5,
             "#f7f7f7"
            ],
            [
             0.6,
             "#e6f5d0"
            ],
            [
             0.7,
             "#b8e186"
            ],
            [
             0.8,
             "#7fbc41"
            ],
            [
             0.9,
             "#4d9221"
            ],
            [
             1,
             "#276419"
            ]
           ],
           "sequential": [
            [
             0,
             "#0d0887"
            ],
            [
             0.1111111111111111,
             "#46039f"
            ],
            [
             0.2222222222222222,
             "#7201a8"
            ],
            [
             0.3333333333333333,
             "#9c179e"
            ],
            [
             0.4444444444444444,
             "#bd3786"
            ],
            [
             0.5555555555555556,
             "#d8576b"
            ],
            [
             0.6666666666666666,
             "#ed7953"
            ],
            [
             0.7777777777777778,
             "#fb9f3a"
            ],
            [
             0.8888888888888888,
             "#fdca26"
            ],
            [
             1,
             "#f0f921"
            ]
           ],
           "sequentialminus": [
            [
             0,
             "#0d0887"
            ],
            [
             0.1111111111111111,
             "#46039f"
            ],
            [
             0.2222222222222222,
             "#7201a8"
            ],
            [
             0.3333333333333333,
             "#9c179e"
            ],
            [
             0.4444444444444444,
             "#bd3786"
            ],
            [
             0.5555555555555556,
             "#d8576b"
            ],
            [
             0.6666666666666666,
             "#ed7953"
            ],
            [
             0.7777777777777778,
             "#fb9f3a"
            ],
            [
             0.8888888888888888,
             "#fdca26"
            ],
            [
             1,
             "#f0f921"
            ]
           ]
          },
          "colorway": [
           "#636efa",
           "#EF553B",
           "#00cc96",
           "#ab63fa",
           "#FFA15A",
           "#19d3f3",
           "#FF6692",
           "#B6E880",
           "#FF97FF",
           "#FECB52"
          ],
          "font": {
           "color": "#2a3f5f"
          },
          "geo": {
           "bgcolor": "white",
           "lakecolor": "white",
           "landcolor": "#E5ECF6",
           "showlakes": true,
           "showland": true,
           "subunitcolor": "white"
          },
          "hoverlabel": {
           "align": "left"
          },
          "hovermode": "closest",
          "mapbox": {
           "style": "light"
          },
          "paper_bgcolor": "white",
          "plot_bgcolor": "#E5ECF6",
          "polar": {
           "angularaxis": {
            "gridcolor": "white",
            "linecolor": "white",
            "ticks": ""
           },
           "bgcolor": "#E5ECF6",
           "radialaxis": {
            "gridcolor": "white",
            "linecolor": "white",
            "ticks": ""
           }
          },
          "scene": {
           "xaxis": {
            "backgroundcolor": "#E5ECF6",
            "gridcolor": "white",
            "gridwidth": 2,
            "linecolor": "white",
            "showbackground": true,
            "ticks": "",
            "zerolinecolor": "white"
           },
           "yaxis": {
            "backgroundcolor": "#E5ECF6",
            "gridcolor": "white",
            "gridwidth": 2,
            "linecolor": "white",
            "showbackground": true,
            "ticks": "",
            "zerolinecolor": "white"
           },
           "zaxis": {
            "backgroundcolor": "#E5ECF6",
            "gridcolor": "white",
            "gridwidth": 2,
            "linecolor": "white",
            "showbackground": true,
            "ticks": "",
            "zerolinecolor": "white"
           }
          },
          "shapedefaults": {
           "line": {
            "color": "#2a3f5f"
           }
          },
          "ternary": {
           "aaxis": {
            "gridcolor": "white",
            "linecolor": "white",
            "ticks": ""
           },
           "baxis": {
            "gridcolor": "white",
            "linecolor": "white",
            "ticks": ""
           },
           "bgcolor": "#E5ECF6",
           "caxis": {
            "gridcolor": "white",
            "linecolor": "white",
            "ticks": ""
           }
          },
          "title": {
           "x": 0.05
          },
          "xaxis": {
           "automargin": true,
           "gridcolor": "white",
           "linecolor": "white",
           "ticks": "",
           "title": {
            "standoff": 15
           },
           "zerolinecolor": "white",
           "zerolinewidth": 2
          },
          "yaxis": {
           "automargin": true,
           "gridcolor": "white",
           "linecolor": "white",
           "ticks": "",
           "title": {
            "standoff": 15
           },
           "zerolinecolor": "white",
           "zerolinewidth": 2
          }
         }
        },
        "title": {
         "text": "Hyperparameter Importances"
        },
        "xaxis": {
         "title": {
          "text": "Hyperparameter Importance"
         }
        },
        "yaxis": {
         "title": {
          "text": "Hyperparameter"
         }
        }
       }
      }
     },
     "metadata": {},
     "output_type": "display_data"
    },
    {
     "data": {
      "application/vnd.plotly.v1+json": {
       "config": {
        "plotlyServerURL": "https://plot.ly"
       },
       "data": [
        {
         "marker": {
          "color": [
           0,
           1,
           2,
           4,
           5,
           7,
           9,
           11,
           12,
           13,
           14,
           15,
           16,
           17,
           19,
           20,
           21,
           22,
           23,
           24,
           25,
           26,
           27,
           28,
           29,
           30,
           31,
           32,
           33,
           34,
           35,
           36,
           37,
           38,
           39,
           40,
           41,
           42,
           43,
           44,
           45,
           46,
           47,
           48,
           49,
           50,
           51,
           52,
           53,
           54,
           55,
           56,
           57,
           58,
           59,
           60,
           61,
           62,
           64,
           65,
           67,
           68,
           69,
           70,
           71,
           72,
           73,
           74,
           75,
           76,
           77,
           78,
           79,
           80,
           81,
           82,
           83,
           84,
           85,
           86,
           87,
           88,
           89,
           90,
           91,
           92,
           93,
           94,
           96,
           97,
           98,
           99
          ],
          "colorbar": {
           "title": {
            "text": "Trial"
           },
           "x": 1,
           "xpad": 40
          },
          "colorscale": [
           [
            0,
            "rgb(247,251,255)"
           ],
           [
            0.125,
            "rgb(222,235,247)"
           ],
           [
            0.25,
            "rgb(198,219,239)"
           ],
           [
            0.375,
            "rgb(158,202,225)"
           ],
           [
            0.5,
            "rgb(107,174,214)"
           ],
           [
            0.625,
            "rgb(66,146,198)"
           ],
           [
            0.75,
            "rgb(33,113,181)"
           ],
           [
            0.875,
            "rgb(8,81,156)"
           ],
           [
            1,
            "rgb(8,48,107)"
           ]
          ],
          "line": {
           "color": "Grey",
           "width": 0.5
          },
          "showscale": true
         },
         "mode": "markers",
         "name": "Feasible Trial",
         "showlegend": false,
         "type": "scatter",
         "x": [
          true,
          false,
          false,
          false,
          true,
          false,
          true,
          false,
          false,
          false,
          false,
          false,
          false,
          false,
          false,
          false,
          false,
          false,
          false,
          false,
          false,
          false,
          false,
          false,
          true,
          true,
          true,
          true,
          true,
          true,
          true,
          true,
          true,
          true,
          true,
          true,
          true,
          true,
          true,
          true,
          true,
          true,
          true,
          true,
          true,
          true,
          true,
          true,
          true,
          true,
          true,
          true,
          true,
          true,
          true,
          true,
          true,
          true,
          true,
          true,
          true,
          true,
          true,
          true,
          true,
          true,
          true,
          true,
          true,
          true,
          true,
          true,
          true,
          true,
          true,
          true,
          true,
          true,
          true,
          true,
          true,
          true,
          true,
          true,
          true,
          true,
          true,
          true,
          true,
          true,
          true,
          true
         ],
         "xaxis": "x",
         "y": [
          -0.0038333333333333552,
          0.0016571428571428332,
          0.0031624999999999848,
          0.0031624999999999848,
          -0.0038333333333333552,
          0.0031624999999999848,
          -0.0038333333333333552,
          0.0031624999999999848,
          0.0031624999999999848,
          0.0031624999999999848,
          0.0031624999999999848,
          0.0031624999999999848,
          0.0031624999999999848,
          0.0031624999999999848,
          0.0031624999999999848,
          0.0031624999999999848,
          0.0031624999999999848,
          0.0031624999999999848,
          0.0031624999999999848,
          0.0031624999999999848,
          0.0031624999999999848,
          0.0016571428571428332,
          0.0031624999999999848,
          0.0031624999999999848,
          0.007359999999999989,
          0.007359999999999989,
          0.007359999999999989,
          0.007359999999999989,
          0.007359999999999989,
          0.013700000000000045,
          0.013700000000000045,
          0.013700000000000045,
          0.013700000000000045,
          0.013700000000000045,
          0.013700000000000045,
          0.013700000000000045,
          0.013700000000000045,
          0.013700000000000045,
          0.013700000000000045,
          0.013700000000000045,
          0.013700000000000045,
          0.013700000000000045,
          0.013700000000000045,
          0.013700000000000045,
          0.013700000000000045,
          0.013700000000000045,
          0.013700000000000045,
          0.013700000000000045,
          0.013700000000000045,
          0.013700000000000045,
          0.013700000000000045,
          0.013700000000000045,
          0.013700000000000045,
          0.013700000000000045,
          -0.0038333333333333552,
          0.005774999999999975,
          0.013700000000000045,
          0.013700000000000045,
          0.013700000000000045,
          0.013700000000000045,
          0.005774999999999975,
          0.013700000000000045,
          0.013700000000000045,
          0.013700000000000045,
          0.013700000000000045,
          0.013700000000000045,
          0.013700000000000045,
          0.013700000000000045,
          0.013700000000000045,
          0.013700000000000045,
          -0.0038333333333333552,
          0.013700000000000045,
          0.013700000000000045,
          0.013700000000000045,
          0.013700000000000045,
          0.013700000000000045,
          0.013700000000000045,
          0.013700000000000045,
          0.013700000000000045,
          0.013700000000000045,
          0.013700000000000045,
          0.013700000000000045,
          0.013700000000000045,
          0.013700000000000045,
          0.013700000000000045,
          0.013700000000000045,
          0.013700000000000045,
          0.005774999999999975,
          0.013700000000000045,
          0.013700000000000045,
          0.013700000000000045,
          0.013700000000000045
         ],
         "yaxis": "y"
        },
        {
         "marker": {
          "color": [
           0,
           1,
           2,
           4,
           5,
           7,
           9,
           11,
           12,
           13,
           14,
           15,
           16,
           17,
           19,
           20,
           21,
           22,
           23,
           24,
           25,
           26,
           27,
           28,
           29,
           30,
           31,
           32,
           33,
           34,
           35,
           36,
           37,
           38,
           39,
           40,
           41,
           42,
           43,
           44,
           45,
           46,
           47,
           48,
           49,
           50,
           51,
           52,
           53,
           54,
           55,
           56,
           57,
           58,
           59,
           60,
           61,
           62,
           64,
           65,
           67,
           68,
           69,
           70,
           71,
           72,
           73,
           74,
           75,
           76,
           77,
           78,
           79,
           80,
           81,
           82,
           83,
           84,
           85,
           86,
           87,
           88,
           89,
           90,
           91,
           92,
           93,
           94,
           96,
           97,
           98,
           99
          ],
          "colorbar": {
           "title": {
            "text": "Trial"
           },
           "x": 1,
           "xpad": 40
          },
          "colorscale": [
           [
            0,
            "rgb(247,251,255)"
           ],
           [
            0.125,
            "rgb(222,235,247)"
           ],
           [
            0.25,
            "rgb(198,219,239)"
           ],
           [
            0.375,
            "rgb(158,202,225)"
           ],
           [
            0.5,
            "rgb(107,174,214)"
           ],
           [
            0.625,
            "rgb(66,146,198)"
           ],
           [
            0.75,
            "rgb(33,113,181)"
           ],
           [
            0.875,
            "rgb(8,81,156)"
           ],
           [
            1,
            "rgb(8,48,107)"
           ]
          ],
          "line": {
           "color": "Grey",
           "width": 0.5
          },
          "showscale": false
         },
         "mode": "markers",
         "name": "Feasible Trial",
         "showlegend": false,
         "type": "scatter",
         "x": [
          true,
          true,
          true,
          true,
          true,
          false,
          true,
          true,
          true,
          true,
          true,
          true,
          true,
          true,
          true,
          true,
          false,
          false,
          false,
          false,
          false,
          false,
          true,
          false,
          true,
          true,
          true,
          true,
          true,
          true,
          true,
          true,
          true,
          true,
          true,
          true,
          true,
          true,
          true,
          true,
          true,
          true,
          true,
          true,
          true,
          true,
          true,
          true,
          true,
          true,
          true,
          true,
          true,
          true,
          true,
          true,
          true,
          true,
          true,
          true,
          true,
          true,
          true,
          true,
          true,
          true,
          true,
          true,
          false,
          true,
          true,
          true,
          true,
          false,
          true,
          true,
          true,
          true,
          true,
          true,
          true,
          true,
          true,
          true,
          true,
          true,
          true,
          true,
          true,
          false,
          true,
          true
         ],
         "xaxis": "x2",
         "y": [
          -0.0038333333333333552,
          0.0016571428571428332,
          0.0031624999999999848,
          0.0031624999999999848,
          -0.0038333333333333552,
          0.0031624999999999848,
          -0.0038333333333333552,
          0.0031624999999999848,
          0.0031624999999999848,
          0.0031624999999999848,
          0.0031624999999999848,
          0.0031624999999999848,
          0.0031624999999999848,
          0.0031624999999999848,
          0.0031624999999999848,
          0.0031624999999999848,
          0.0031624999999999848,
          0.0031624999999999848,
          0.0031624999999999848,
          0.0031624999999999848,
          0.0031624999999999848,
          0.0016571428571428332,
          0.0031624999999999848,
          0.0031624999999999848,
          0.007359999999999989,
          0.007359999999999989,
          0.007359999999999989,
          0.007359999999999989,
          0.007359999999999989,
          0.013700000000000045,
          0.013700000000000045,
          0.013700000000000045,
          0.013700000000000045,
          0.013700000000000045,
          0.013700000000000045,
          0.013700000000000045,
          0.013700000000000045,
          0.013700000000000045,
          0.013700000000000045,
          0.013700000000000045,
          0.013700000000000045,
          0.013700000000000045,
          0.013700000000000045,
          0.013700000000000045,
          0.013700000000000045,
          0.013700000000000045,
          0.013700000000000045,
          0.013700000000000045,
          0.013700000000000045,
          0.013700000000000045,
          0.013700000000000045,
          0.013700000000000045,
          0.013700000000000045,
          0.013700000000000045,
          -0.0038333333333333552,
          0.005774999999999975,
          0.013700000000000045,
          0.013700000000000045,
          0.013700000000000045,
          0.013700000000000045,
          0.005774999999999975,
          0.013700000000000045,
          0.013700000000000045,
          0.013700000000000045,
          0.013700000000000045,
          0.013700000000000045,
          0.013700000000000045,
          0.013700000000000045,
          0.013700000000000045,
          0.013700000000000045,
          -0.0038333333333333552,
          0.013700000000000045,
          0.013700000000000045,
          0.013700000000000045,
          0.013700000000000045,
          0.013700000000000045,
          0.013700000000000045,
          0.013700000000000045,
          0.013700000000000045,
          0.013700000000000045,
          0.013700000000000045,
          0.013700000000000045,
          0.013700000000000045,
          0.013700000000000045,
          0.013700000000000045,
          0.013700000000000045,
          0.013700000000000045,
          0.005774999999999975,
          0.013700000000000045,
          0.013700000000000045,
          0.013700000000000045,
          0.013700000000000045
         ],
         "yaxis": "y2"
        },
        {
         "marker": {
          "color": [
           0,
           1,
           2,
           4,
           5,
           7,
           9,
           11,
           12,
           13,
           14,
           15,
           16,
           17,
           19,
           20,
           21,
           22,
           23,
           24,
           25,
           26,
           27,
           28,
           29,
           30,
           31,
           32,
           33,
           34,
           35,
           36,
           37,
           38,
           39,
           40,
           41,
           42,
           43,
           44,
           45,
           46,
           47,
           48,
           49,
           50,
           51,
           52,
           53,
           54,
           55,
           56,
           57,
           58,
           59,
           60,
           61,
           62,
           64,
           65,
           67,
           68,
           69,
           70,
           71,
           72,
           73,
           74,
           75,
           76,
           77,
           78,
           79,
           80,
           81,
           82,
           83,
           84,
           85,
           86,
           87,
           88,
           89,
           90,
           91,
           92,
           93,
           94,
           96,
           97,
           98,
           99
          ],
          "colorbar": {
           "title": {
            "text": "Trial"
           },
           "x": 1,
           "xpad": 40
          },
          "colorscale": [
           [
            0,
            "rgb(247,251,255)"
           ],
           [
            0.125,
            "rgb(222,235,247)"
           ],
           [
            0.25,
            "rgb(198,219,239)"
           ],
           [
            0.375,
            "rgb(158,202,225)"
           ],
           [
            0.5,
            "rgb(107,174,214)"
           ],
           [
            0.625,
            "rgb(66,146,198)"
           ],
           [
            0.75,
            "rgb(33,113,181)"
           ],
           [
            0.875,
            "rgb(8,81,156)"
           ],
           [
            1,
            "rgb(8,48,107)"
           ]
          ],
          "line": {
           "color": "Grey",
           "width": 0.5
          },
          "showscale": false
         },
         "mode": "markers",
         "name": "Feasible Trial",
         "showlegend": false,
         "type": "scatter",
         "x": [
          false,
          true,
          false,
          false,
          true,
          false,
          false,
          false,
          false,
          false,
          false,
          false,
          false,
          false,
          false,
          false,
          false,
          false,
          false,
          false,
          false,
          true,
          false,
          false,
          false,
          false,
          false,
          false,
          false,
          true,
          true,
          true,
          true,
          true,
          true,
          true,
          true,
          true,
          true,
          true,
          true,
          true,
          true,
          true,
          true,
          true,
          true,
          true,
          true,
          true,
          true,
          true,
          true,
          true,
          true,
          true,
          true,
          true,
          true,
          true,
          true,
          true,
          true,
          true,
          true,
          true,
          true,
          true,
          true,
          true,
          true,
          true,
          true,
          true,
          true,
          true,
          true,
          true,
          true,
          true,
          true,
          true,
          true,
          true,
          true,
          true,
          true,
          true,
          true,
          true,
          true,
          true
         ],
         "xaxis": "x3",
         "y": [
          -0.0038333333333333552,
          0.0016571428571428332,
          0.0031624999999999848,
          0.0031624999999999848,
          -0.0038333333333333552,
          0.0031624999999999848,
          -0.0038333333333333552,
          0.0031624999999999848,
          0.0031624999999999848,
          0.0031624999999999848,
          0.0031624999999999848,
          0.0031624999999999848,
          0.0031624999999999848,
          0.0031624999999999848,
          0.0031624999999999848,
          0.0031624999999999848,
          0.0031624999999999848,
          0.0031624999999999848,
          0.0031624999999999848,
          0.0031624999999999848,
          0.0031624999999999848,
          0.0016571428571428332,
          0.0031624999999999848,
          0.0031624999999999848,
          0.007359999999999989,
          0.007359999999999989,
          0.007359999999999989,
          0.007359999999999989,
          0.007359999999999989,
          0.013700000000000045,
          0.013700000000000045,
          0.013700000000000045,
          0.013700000000000045,
          0.013700000000000045,
          0.013700000000000045,
          0.013700000000000045,
          0.013700000000000045,
          0.013700000000000045,
          0.013700000000000045,
          0.013700000000000045,
          0.013700000000000045,
          0.013700000000000045,
          0.013700000000000045,
          0.013700000000000045,
          0.013700000000000045,
          0.013700000000000045,
          0.013700000000000045,
          0.013700000000000045,
          0.013700000000000045,
          0.013700000000000045,
          0.013700000000000045,
          0.013700000000000045,
          0.013700000000000045,
          0.013700000000000045,
          -0.0038333333333333552,
          0.005774999999999975,
          0.013700000000000045,
          0.013700000000000045,
          0.013700000000000045,
          0.013700000000000045,
          0.005774999999999975,
          0.013700000000000045,
          0.013700000000000045,
          0.013700000000000045,
          0.013700000000000045,
          0.013700000000000045,
          0.013700000000000045,
          0.013700000000000045,
          0.013700000000000045,
          0.013700000000000045,
          -0.0038333333333333552,
          0.013700000000000045,
          0.013700000000000045,
          0.013700000000000045,
          0.013700000000000045,
          0.013700000000000045,
          0.013700000000000045,
          0.013700000000000045,
          0.013700000000000045,
          0.013700000000000045,
          0.013700000000000045,
          0.013700000000000045,
          0.013700000000000045,
          0.013700000000000045,
          0.013700000000000045,
          0.013700000000000045,
          0.013700000000000045,
          0.005774999999999975,
          0.013700000000000045,
          0.013700000000000045,
          0.013700000000000045,
          0.013700000000000045
         ],
         "yaxis": "y3"
        },
        {
         "marker": {
          "color": [
           0,
           1,
           2,
           4,
           5,
           7,
           9,
           11,
           12,
           13,
           14,
           15,
           16,
           17,
           19,
           20,
           21,
           22,
           23,
           24,
           25,
           26,
           27,
           28,
           29,
           30,
           31,
           32,
           33,
           34,
           35,
           36,
           37,
           38,
           39,
           40,
           41,
           42,
           43,
           44,
           45,
           46,
           47,
           48,
           49,
           50,
           51,
           52,
           53,
           54,
           55,
           56,
           57,
           58,
           59,
           60,
           61,
           62,
           64,
           65,
           67,
           68,
           69,
           70,
           71,
           72,
           73,
           74,
           75,
           76,
           77,
           78,
           79,
           80,
           81,
           82,
           83,
           84,
           85,
           86,
           87,
           88,
           89,
           90,
           91,
           92,
           93,
           94,
           96,
           97,
           98,
           99
          ],
          "colorbar": {
           "title": {
            "text": "Trial"
           },
           "x": 1,
           "xpad": 40
          },
          "colorscale": [
           [
            0,
            "rgb(247,251,255)"
           ],
           [
            0.125,
            "rgb(222,235,247)"
           ],
           [
            0.25,
            "rgb(198,219,239)"
           ],
           [
            0.375,
            "rgb(158,202,225)"
           ],
           [
            0.5,
            "rgb(107,174,214)"
           ],
           [
            0.625,
            "rgb(66,146,198)"
           ],
           [
            0.75,
            "rgb(33,113,181)"
           ],
           [
            0.875,
            "rgb(8,81,156)"
           ],
           [
            1,
            "rgb(8,48,107)"
           ]
          ],
          "line": {
           "color": "Grey",
           "width": 0.5
          },
          "showscale": false
         },
         "mode": "markers",
         "name": "Feasible Trial",
         "showlegend": false,
         "type": "scatter",
         "x": [
          true,
          true,
          true,
          true,
          true,
          true,
          true,
          true,
          true,
          true,
          false,
          true,
          true,
          true,
          true,
          true,
          true,
          true,
          true,
          true,
          true,
          false,
          true,
          true,
          true,
          true,
          true,
          true,
          true,
          true,
          true,
          true,
          false,
          false,
          false,
          false,
          false,
          false,
          false,
          false,
          false,
          false,
          false,
          false,
          false,
          false,
          false,
          false,
          false,
          false,
          false,
          true,
          true,
          false,
          true,
          false,
          false,
          false,
          false,
          true,
          false,
          true,
          false,
          true,
          false,
          false,
          false,
          false,
          false,
          true,
          false,
          true,
          false,
          true,
          false,
          false,
          false,
          false,
          false,
          false,
          false,
          true,
          false,
          true,
          false,
          false,
          false,
          false,
          false,
          false,
          true,
          false
         ],
         "xaxis": "x4",
         "y": [
          -0.0038333333333333552,
          0.0016571428571428332,
          0.0031624999999999848,
          0.0031624999999999848,
          -0.0038333333333333552,
          0.0031624999999999848,
          -0.0038333333333333552,
          0.0031624999999999848,
          0.0031624999999999848,
          0.0031624999999999848,
          0.0031624999999999848,
          0.0031624999999999848,
          0.0031624999999999848,
          0.0031624999999999848,
          0.0031624999999999848,
          0.0031624999999999848,
          0.0031624999999999848,
          0.0031624999999999848,
          0.0031624999999999848,
          0.0031624999999999848,
          0.0031624999999999848,
          0.0016571428571428332,
          0.0031624999999999848,
          0.0031624999999999848,
          0.007359999999999989,
          0.007359999999999989,
          0.007359999999999989,
          0.007359999999999989,
          0.007359999999999989,
          0.013700000000000045,
          0.013700000000000045,
          0.013700000000000045,
          0.013700000000000045,
          0.013700000000000045,
          0.013700000000000045,
          0.013700000000000045,
          0.013700000000000045,
          0.013700000000000045,
          0.013700000000000045,
          0.013700000000000045,
          0.013700000000000045,
          0.013700000000000045,
          0.013700000000000045,
          0.013700000000000045,
          0.013700000000000045,
          0.013700000000000045,
          0.013700000000000045,
          0.013700000000000045,
          0.013700000000000045,
          0.013700000000000045,
          0.013700000000000045,
          0.013700000000000045,
          0.013700000000000045,
          0.013700000000000045,
          -0.0038333333333333552,
          0.005774999999999975,
          0.013700000000000045,
          0.013700000000000045,
          0.013700000000000045,
          0.013700000000000045,
          0.005774999999999975,
          0.013700000000000045,
          0.013700000000000045,
          0.013700000000000045,
          0.013700000000000045,
          0.013700000000000045,
          0.013700000000000045,
          0.013700000000000045,
          0.013700000000000045,
          0.013700000000000045,
          -0.0038333333333333552,
          0.013700000000000045,
          0.013700000000000045,
          0.013700000000000045,
          0.013700000000000045,
          0.013700000000000045,
          0.013700000000000045,
          0.013700000000000045,
          0.013700000000000045,
          0.013700000000000045,
          0.013700000000000045,
          0.013700000000000045,
          0.013700000000000045,
          0.013700000000000045,
          0.013700000000000045,
          0.013700000000000045,
          0.013700000000000045,
          0.005774999999999975,
          0.013700000000000045,
          0.013700000000000045,
          0.013700000000000045,
          0.013700000000000045
         ],
         "yaxis": "y4"
        },
        {
         "marker": {
          "color": [
           0,
           5,
           9,
           29,
           30,
           31,
           32,
           33,
           34,
           35,
           36,
           37,
           38,
           39,
           40,
           41,
           42,
           43,
           44,
           45,
           46,
           47,
           48,
           49,
           50,
           51,
           52,
           53,
           54,
           55,
           56,
           57,
           58,
           59,
           60,
           61,
           62,
           64,
           65,
           67,
           68,
           69,
           70,
           71,
           72,
           73,
           74,
           75,
           76,
           77,
           78,
           79,
           80,
           81,
           82,
           83,
           84,
           85,
           86,
           87,
           88,
           89,
           90,
           91,
           92,
           93,
           94,
           96,
           97,
           98,
           99
          ],
          "colorbar": {
           "title": {
            "text": "Trial"
           },
           "x": 1,
           "xpad": 40
          },
          "colorscale": [
           [
            0,
            "rgb(247,251,255)"
           ],
           [
            0.125,
            "rgb(222,235,247)"
           ],
           [
            0.25,
            "rgb(198,219,239)"
           ],
           [
            0.375,
            "rgb(158,202,225)"
           ],
           [
            0.5,
            "rgb(107,174,214)"
           ],
           [
            0.625,
            "rgb(66,146,198)"
           ],
           [
            0.75,
            "rgb(33,113,181)"
           ],
           [
            0.875,
            "rgb(8,81,156)"
           ],
           [
            1,
            "rgb(8,48,107)"
           ]
          ],
          "line": {
           "color": "Grey",
           "width": 0.5
          },
          "showscale": false
         },
         "mode": "markers",
         "name": "Feasible Trial",
         "showlegend": false,
         "type": "scatter",
         "x": [
          true,
          true,
          true,
          false,
          false,
          false,
          false,
          false,
          false,
          false,
          false,
          false,
          false,
          false,
          false,
          false,
          false,
          false,
          false,
          false,
          false,
          false,
          false,
          false,
          false,
          false,
          false,
          false,
          false,
          false,
          false,
          false,
          false,
          true,
          false,
          false,
          false,
          false,
          false,
          false,
          false,
          false,
          false,
          false,
          false,
          false,
          false,
          false,
          false,
          true,
          false,
          false,
          false,
          false,
          false,
          false,
          false,
          false,
          false,
          false,
          false,
          false,
          false,
          false,
          false,
          false,
          false,
          false,
          false,
          false,
          false
         ],
         "xaxis": "x5",
         "y": [
          -0.0038333333333333552,
          -0.0038333333333333552,
          -0.0038333333333333552,
          0.007359999999999989,
          0.007359999999999989,
          0.007359999999999989,
          0.007359999999999989,
          0.007359999999999989,
          0.013700000000000045,
          0.013700000000000045,
          0.013700000000000045,
          0.013700000000000045,
          0.013700000000000045,
          0.013700000000000045,
          0.013700000000000045,
          0.013700000000000045,
          0.013700000000000045,
          0.013700000000000045,
          0.013700000000000045,
          0.013700000000000045,
          0.013700000000000045,
          0.013700000000000045,
          0.013700000000000045,
          0.013700000000000045,
          0.013700000000000045,
          0.013700000000000045,
          0.013700000000000045,
          0.013700000000000045,
          0.013700000000000045,
          0.013700000000000045,
          0.013700000000000045,
          0.013700000000000045,
          0.013700000000000045,
          -0.0038333333333333552,
          0.005774999999999975,
          0.013700000000000045,
          0.013700000000000045,
          0.013700000000000045,
          0.013700000000000045,
          0.005774999999999975,
          0.013700000000000045,
          0.013700000000000045,
          0.013700000000000045,
          0.013700000000000045,
          0.013700000000000045,
          0.013700000000000045,
          0.013700000000000045,
          0.013700000000000045,
          0.013700000000000045,
          -0.0038333333333333552,
          0.013700000000000045,
          0.013700000000000045,
          0.013700000000000045,
          0.013700000000000045,
          0.013700000000000045,
          0.013700000000000045,
          0.013700000000000045,
          0.013700000000000045,
          0.013700000000000045,
          0.013700000000000045,
          0.013700000000000045,
          0.013700000000000045,
          0.013700000000000045,
          0.013700000000000045,
          0.013700000000000045,
          0.013700000000000045,
          0.005774999999999975,
          0.013700000000000045,
          0.013700000000000045,
          0.013700000000000045,
          0.013700000000000045
         ],
         "yaxis": "y5"
        },
        {
         "marker": {
          "color": [
           0,
           1,
           2,
           4,
           5,
           9,
           11,
           12,
           13,
           14,
           15,
           16,
           17,
           19,
           20,
           27,
           29,
           30,
           31,
           32,
           33,
           34,
           35,
           36,
           37,
           38,
           39,
           40,
           41,
           42,
           43,
           44,
           45,
           46,
           47,
           48,
           49,
           50,
           51,
           52,
           53,
           54,
           55,
           56,
           57,
           58,
           59,
           60,
           61,
           62,
           64,
           65,
           67,
           68,
           69,
           70,
           71,
           72,
           73,
           74,
           76,
           77,
           78,
           79,
           81,
           82,
           83,
           84,
           85,
           86,
           87,
           88,
           89,
           90,
           91,
           92,
           93,
           94,
           96,
           98,
           99
          ],
          "colorbar": {
           "title": {
            "text": "Trial"
           },
           "x": 1,
           "xpad": 40
          },
          "colorscale": [
           [
            0,
            "rgb(247,251,255)"
           ],
           [
            0.125,
            "rgb(222,235,247)"
           ],
           [
            0.25,
            "rgb(198,219,239)"
           ],
           [
            0.375,
            "rgb(158,202,225)"
           ],
           [
            0.5,
            "rgb(107,174,214)"
           ],
           [
            0.625,
            "rgb(66,146,198)"
           ],
           [
            0.75,
            "rgb(33,113,181)"
           ],
           [
            0.875,
            "rgb(8,81,156)"
           ],
           [
            1,
            "rgb(8,48,107)"
           ]
          ],
          "line": {
           "color": "Grey",
           "width": 0.5
          },
          "showscale": false
         },
         "mode": "markers",
         "name": "Feasible Trial",
         "showlegend": false,
         "type": "scatter",
         "x": [
          false,
          false,
          false,
          false,
          false,
          false,
          false,
          false,
          false,
          false,
          false,
          false,
          false,
          false,
          false,
          false,
          false,
          false,
          false,
          false,
          false,
          false,
          false,
          false,
          false,
          false,
          false,
          false,
          false,
          false,
          false,
          false,
          false,
          false,
          false,
          false,
          false,
          false,
          false,
          false,
          false,
          false,
          false,
          false,
          false,
          false,
          false,
          false,
          false,
          false,
          false,
          false,
          false,
          false,
          false,
          false,
          false,
          false,
          false,
          false,
          false,
          false,
          false,
          false,
          false,
          false,
          false,
          false,
          false,
          false,
          false,
          false,
          false,
          false,
          false,
          false,
          false,
          false,
          false,
          false,
          false
         ],
         "xaxis": "x6",
         "y": [
          -0.0038333333333333552,
          0.0016571428571428332,
          0.0031624999999999848,
          0.0031624999999999848,
          -0.0038333333333333552,
          -0.0038333333333333552,
          0.0031624999999999848,
          0.0031624999999999848,
          0.0031624999999999848,
          0.0031624999999999848,
          0.0031624999999999848,
          0.0031624999999999848,
          0.0031624999999999848,
          0.0031624999999999848,
          0.0031624999999999848,
          0.0031624999999999848,
          0.007359999999999989,
          0.007359999999999989,
          0.007359999999999989,
          0.007359999999999989,
          0.007359999999999989,
          0.013700000000000045,
          0.013700000000000045,
          0.013700000000000045,
          0.013700000000000045,
          0.013700000000000045,
          0.013700000000000045,
          0.013700000000000045,
          0.013700000000000045,
          0.013700000000000045,
          0.013700000000000045,
          0.013700000000000045,
          0.013700000000000045,
          0.013700000000000045,
          0.013700000000000045,
          0.013700000000000045,
          0.013700000000000045,
          0.013700000000000045,
          0.013700000000000045,
          0.013700000000000045,
          0.013700000000000045,
          0.013700000000000045,
          0.013700000000000045,
          0.013700000000000045,
          0.013700000000000045,
          0.013700000000000045,
          -0.0038333333333333552,
          0.005774999999999975,
          0.013700000000000045,
          0.013700000000000045,
          0.013700000000000045,
          0.013700000000000045,
          0.005774999999999975,
          0.013700000000000045,
          0.013700000000000045,
          0.013700000000000045,
          0.013700000000000045,
          0.013700000000000045,
          0.013700000000000045,
          0.013700000000000045,
          0.013700000000000045,
          -0.0038333333333333552,
          0.013700000000000045,
          0.013700000000000045,
          0.013700000000000045,
          0.013700000000000045,
          0.013700000000000045,
          0.013700000000000045,
          0.013700000000000045,
          0.013700000000000045,
          0.013700000000000045,
          0.013700000000000045,
          0.013700000000000045,
          0.013700000000000045,
          0.013700000000000045,
          0.013700000000000045,
          0.013700000000000045,
          0.005774999999999975,
          0.013700000000000045,
          0.013700000000000045,
          0.013700000000000045
         ],
         "yaxis": "y6"
        },
        {
         "marker": {
          "color": [
           1,
           5,
           26,
           34,
           35,
           36,
           37,
           38,
           39,
           40,
           41,
           42,
           43,
           44,
           45,
           46,
           47,
           48,
           49,
           50,
           51,
           52,
           53,
           54,
           55,
           56,
           57,
           58,
           59,
           60,
           61,
           62,
           64,
           65,
           67,
           68,
           69,
           70,
           71,
           72,
           73,
           74,
           75,
           76,
           77,
           78,
           79,
           80,
           81,
           82,
           83,
           84,
           85,
           86,
           87,
           88,
           89,
           90,
           91,
           92,
           93,
           94,
           96,
           97,
           98,
           99
          ],
          "colorbar": {
           "title": {
            "text": "Trial"
           },
           "x": 1,
           "xpad": 40
          },
          "colorscale": [
           [
            0,
            "rgb(247,251,255)"
           ],
           [
            0.125,
            "rgb(222,235,247)"
           ],
           [
            0.25,
            "rgb(198,219,239)"
           ],
           [
            0.375,
            "rgb(158,202,225)"
           ],
           [
            0.5,
            "rgb(107,174,214)"
           ],
           [
            0.625,
            "rgb(66,146,198)"
           ],
           [
            0.75,
            "rgb(33,113,181)"
           ],
           [
            0.875,
            "rgb(8,81,156)"
           ],
           [
            1,
            "rgb(8,48,107)"
           ]
          ],
          "line": {
           "color": "Grey",
           "width": 0.5
          },
          "showscale": false
         },
         "mode": "markers",
         "name": "Feasible Trial",
         "showlegend": false,
         "type": "scatter",
         "x": [
          false,
          false,
          false,
          true,
          true,
          true,
          true,
          true,
          true,
          true,
          true,
          true,
          true,
          true,
          true,
          true,
          true,
          true,
          true,
          true,
          true,
          true,
          true,
          true,
          true,
          true,
          true,
          true,
          false,
          false,
          true,
          true,
          true,
          true,
          false,
          true,
          true,
          true,
          true,
          true,
          true,
          true,
          true,
          true,
          false,
          true,
          true,
          true,
          true,
          true,
          true,
          true,
          true,
          true,
          true,
          true,
          true,
          true,
          true,
          true,
          true,
          false,
          true,
          true,
          true,
          true
         ],
         "xaxis": "x7",
         "y": [
          0.0016571428571428332,
          -0.0038333333333333552,
          0.0016571428571428332,
          0.013700000000000045,
          0.013700000000000045,
          0.013700000000000045,
          0.013700000000000045,
          0.013700000000000045,
          0.013700000000000045,
          0.013700000000000045,
          0.013700000000000045,
          0.013700000000000045,
          0.013700000000000045,
          0.013700000000000045,
          0.013700000000000045,
          0.013700000000000045,
          0.013700000000000045,
          0.013700000000000045,
          0.013700000000000045,
          0.013700000000000045,
          0.013700000000000045,
          0.013700000000000045,
          0.013700000000000045,
          0.013700000000000045,
          0.013700000000000045,
          0.013700000000000045,
          0.013700000000000045,
          0.013700000000000045,
          -0.0038333333333333552,
          0.005774999999999975,
          0.013700000000000045,
          0.013700000000000045,
          0.013700000000000045,
          0.013700000000000045,
          0.005774999999999975,
          0.013700000000000045,
          0.013700000000000045,
          0.013700000000000045,
          0.013700000000000045,
          0.013700000000000045,
          0.013700000000000045,
          0.013700000000000045,
          0.013700000000000045,
          0.013700000000000045,
          -0.0038333333333333552,
          0.013700000000000045,
          0.013700000000000045,
          0.013700000000000045,
          0.013700000000000045,
          0.013700000000000045,
          0.013700000000000045,
          0.013700000000000045,
          0.013700000000000045,
          0.013700000000000045,
          0.013700000000000045,
          0.013700000000000045,
          0.013700000000000045,
          0.013700000000000045,
          0.013700000000000045,
          0.013700000000000045,
          0.013700000000000045,
          0.005774999999999975,
          0.013700000000000045,
          0.013700000000000045,
          0.013700000000000045,
          0.013700000000000045
         ],
         "yaxis": "y7"
        },
        {
         "marker": {
          "color": [
           0,
           1,
           2,
           4,
           5,
           7,
           9,
           11,
           12,
           13,
           15,
           16,
           17,
           19,
           20,
           21,
           22,
           23,
           24,
           25,
           27,
           28,
           29,
           30,
           31,
           32,
           33,
           34,
           35,
           36,
           56,
           57,
           59,
           65,
           68,
           70,
           76,
           78,
           80,
           88,
           90,
           98
          ],
          "colorbar": {
           "title": {
            "text": "Trial"
           },
           "x": 1,
           "xpad": 40
          },
          "colorscale": [
           [
            0,
            "rgb(247,251,255)"
           ],
           [
            0.125,
            "rgb(222,235,247)"
           ],
           [
            0.25,
            "rgb(198,219,239)"
           ],
           [
            0.375,
            "rgb(158,202,225)"
           ],
           [
            0.5,
            "rgb(107,174,214)"
           ],
           [
            0.625,
            "rgb(66,146,198)"
           ],
           [
            0.75,
            "rgb(33,113,181)"
           ],
           [
            0.875,
            "rgb(8,81,156)"
           ],
           [
            1,
            "rgb(8,48,107)"
           ]
          ],
          "line": {
           "color": "Grey",
           "width": 0.5
          },
          "showscale": false
         },
         "mode": "markers",
         "name": "Feasible Trial",
         "showlegend": false,
         "type": "scatter",
         "x": [
          false,
          false,
          false,
          false,
          false,
          false,
          false,
          false,
          false,
          false,
          false,
          false,
          false,
          false,
          false,
          false,
          false,
          false,
          false,
          false,
          false,
          false,
          false,
          false,
          false,
          false,
          false,
          false,
          false,
          false,
          false,
          false,
          false,
          false,
          false,
          false,
          false,
          false,
          false,
          false,
          false,
          false
         ],
         "xaxis": "x8",
         "y": [
          -0.0038333333333333552,
          0.0016571428571428332,
          0.0031624999999999848,
          0.0031624999999999848,
          -0.0038333333333333552,
          0.0031624999999999848,
          -0.0038333333333333552,
          0.0031624999999999848,
          0.0031624999999999848,
          0.0031624999999999848,
          0.0031624999999999848,
          0.0031624999999999848,
          0.0031624999999999848,
          0.0031624999999999848,
          0.0031624999999999848,
          0.0031624999999999848,
          0.0031624999999999848,
          0.0031624999999999848,
          0.0031624999999999848,
          0.0031624999999999848,
          0.0031624999999999848,
          0.0031624999999999848,
          0.007359999999999989,
          0.007359999999999989,
          0.007359999999999989,
          0.007359999999999989,
          0.007359999999999989,
          0.013700000000000045,
          0.013700000000000045,
          0.013700000000000045,
          0.013700000000000045,
          0.013700000000000045,
          -0.0038333333333333552,
          0.013700000000000045,
          0.013700000000000045,
          0.013700000000000045,
          0.013700000000000045,
          0.013700000000000045,
          0.013700000000000045,
          0.013700000000000045,
          0.013700000000000045,
          0.013700000000000045
         ],
         "yaxis": "y8"
        }
       ],
       "layout": {
        "template": {
         "data": {
          "bar": [
           {
            "error_x": {
             "color": "#2a3f5f"
            },
            "error_y": {
             "color": "#2a3f5f"
            },
            "marker": {
             "line": {
              "color": "#E5ECF6",
              "width": 0.5
             },
             "pattern": {
              "fillmode": "overlay",
              "size": 10,
              "solidity": 0.2
             }
            },
            "type": "bar"
           }
          ],
          "barpolar": [
           {
            "marker": {
             "line": {
              "color": "#E5ECF6",
              "width": 0.5
             },
             "pattern": {
              "fillmode": "overlay",
              "size": 10,
              "solidity": 0.2
             }
            },
            "type": "barpolar"
           }
          ],
          "carpet": [
           {
            "aaxis": {
             "endlinecolor": "#2a3f5f",
             "gridcolor": "white",
             "linecolor": "white",
             "minorgridcolor": "white",
             "startlinecolor": "#2a3f5f"
            },
            "baxis": {
             "endlinecolor": "#2a3f5f",
             "gridcolor": "white",
             "linecolor": "white",
             "minorgridcolor": "white",
             "startlinecolor": "#2a3f5f"
            },
            "type": "carpet"
           }
          ],
          "choropleth": [
           {
            "colorbar": {
             "outlinewidth": 0,
             "ticks": ""
            },
            "type": "choropleth"
           }
          ],
          "contour": [
           {
            "colorbar": {
             "outlinewidth": 0,
             "ticks": ""
            },
            "colorscale": [
             [
              0,
              "#0d0887"
             ],
             [
              0.1111111111111111,
              "#46039f"
             ],
             [
              0.2222222222222222,
              "#7201a8"
             ],
             [
              0.3333333333333333,
              "#9c179e"
             ],
             [
              0.4444444444444444,
              "#bd3786"
             ],
             [
              0.5555555555555556,
              "#d8576b"
             ],
             [
              0.6666666666666666,
              "#ed7953"
             ],
             [
              0.7777777777777778,
              "#fb9f3a"
             ],
             [
              0.8888888888888888,
              "#fdca26"
             ],
             [
              1,
              "#f0f921"
             ]
            ],
            "type": "contour"
           }
          ],
          "contourcarpet": [
           {
            "colorbar": {
             "outlinewidth": 0,
             "ticks": ""
            },
            "type": "contourcarpet"
           }
          ],
          "heatmap": [
           {
            "colorbar": {
             "outlinewidth": 0,
             "ticks": ""
            },
            "colorscale": [
             [
              0,
              "#0d0887"
             ],
             [
              0.1111111111111111,
              "#46039f"
             ],
             [
              0.2222222222222222,
              "#7201a8"
             ],
             [
              0.3333333333333333,
              "#9c179e"
             ],
             [
              0.4444444444444444,
              "#bd3786"
             ],
             [
              0.5555555555555556,
              "#d8576b"
             ],
             [
              0.6666666666666666,
              "#ed7953"
             ],
             [
              0.7777777777777778,
              "#fb9f3a"
             ],
             [
              0.8888888888888888,
              "#fdca26"
             ],
             [
              1,
              "#f0f921"
             ]
            ],
            "type": "heatmap"
           }
          ],
          "heatmapgl": [
           {
            "colorbar": {
             "outlinewidth": 0,
             "ticks": ""
            },
            "colorscale": [
             [
              0,
              "#0d0887"
             ],
             [
              0.1111111111111111,
              "#46039f"
             ],
             [
              0.2222222222222222,
              "#7201a8"
             ],
             [
              0.3333333333333333,
              "#9c179e"
             ],
             [
              0.4444444444444444,
              "#bd3786"
             ],
             [
              0.5555555555555556,
              "#d8576b"
             ],
             [
              0.6666666666666666,
              "#ed7953"
             ],
             [
              0.7777777777777778,
              "#fb9f3a"
             ],
             [
              0.8888888888888888,
              "#fdca26"
             ],
             [
              1,
              "#f0f921"
             ]
            ],
            "type": "heatmapgl"
           }
          ],
          "histogram": [
           {
            "marker": {
             "pattern": {
              "fillmode": "overlay",
              "size": 10,
              "solidity": 0.2
             }
            },
            "type": "histogram"
           }
          ],
          "histogram2d": [
           {
            "colorbar": {
             "outlinewidth": 0,
             "ticks": ""
            },
            "colorscale": [
             [
              0,
              "#0d0887"
             ],
             [
              0.1111111111111111,
              "#46039f"
             ],
             [
              0.2222222222222222,
              "#7201a8"
             ],
             [
              0.3333333333333333,
              "#9c179e"
             ],
             [
              0.4444444444444444,
              "#bd3786"
             ],
             [
              0.5555555555555556,
              "#d8576b"
             ],
             [
              0.6666666666666666,
              "#ed7953"
             ],
             [
              0.7777777777777778,
              "#fb9f3a"
             ],
             [
              0.8888888888888888,
              "#fdca26"
             ],
             [
              1,
              "#f0f921"
             ]
            ],
            "type": "histogram2d"
           }
          ],
          "histogram2dcontour": [
           {
            "colorbar": {
             "outlinewidth": 0,
             "ticks": ""
            },
            "colorscale": [
             [
              0,
              "#0d0887"
             ],
             [
              0.1111111111111111,
              "#46039f"
             ],
             [
              0.2222222222222222,
              "#7201a8"
             ],
             [
              0.3333333333333333,
              "#9c179e"
             ],
             [
              0.4444444444444444,
              "#bd3786"
             ],
             [
              0.5555555555555556,
              "#d8576b"
             ],
             [
              0.6666666666666666,
              "#ed7953"
             ],
             [
              0.7777777777777778,
              "#fb9f3a"
             ],
             [
              0.8888888888888888,
              "#fdca26"
             ],
             [
              1,
              "#f0f921"
             ]
            ],
            "type": "histogram2dcontour"
           }
          ],
          "mesh3d": [
           {
            "colorbar": {
             "outlinewidth": 0,
             "ticks": ""
            },
            "type": "mesh3d"
           }
          ],
          "parcoords": [
           {
            "line": {
             "colorbar": {
              "outlinewidth": 0,
              "ticks": ""
             }
            },
            "type": "parcoords"
           }
          ],
          "pie": [
           {
            "automargin": true,
            "type": "pie"
           }
          ],
          "scatter": [
           {
            "fillpattern": {
             "fillmode": "overlay",
             "size": 10,
             "solidity": 0.2
            },
            "type": "scatter"
           }
          ],
          "scatter3d": [
           {
            "line": {
             "colorbar": {
              "outlinewidth": 0,
              "ticks": ""
             }
            },
            "marker": {
             "colorbar": {
              "outlinewidth": 0,
              "ticks": ""
             }
            },
            "type": "scatter3d"
           }
          ],
          "scattercarpet": [
           {
            "marker": {
             "colorbar": {
              "outlinewidth": 0,
              "ticks": ""
             }
            },
            "type": "scattercarpet"
           }
          ],
          "scattergeo": [
           {
            "marker": {
             "colorbar": {
              "outlinewidth": 0,
              "ticks": ""
             }
            },
            "type": "scattergeo"
           }
          ],
          "scattergl": [
           {
            "marker": {
             "colorbar": {
              "outlinewidth": 0,
              "ticks": ""
             }
            },
            "type": "scattergl"
           }
          ],
          "scattermapbox": [
           {
            "marker": {
             "colorbar": {
              "outlinewidth": 0,
              "ticks": ""
             }
            },
            "type": "scattermapbox"
           }
          ],
          "scatterpolar": [
           {
            "marker": {
             "colorbar": {
              "outlinewidth": 0,
              "ticks": ""
             }
            },
            "type": "scatterpolar"
           }
          ],
          "scatterpolargl": [
           {
            "marker": {
             "colorbar": {
              "outlinewidth": 0,
              "ticks": ""
             }
            },
            "type": "scatterpolargl"
           }
          ],
          "scatterternary": [
           {
            "marker": {
             "colorbar": {
              "outlinewidth": 0,
              "ticks": ""
             }
            },
            "type": "scatterternary"
           }
          ],
          "surface": [
           {
            "colorbar": {
             "outlinewidth": 0,
             "ticks": ""
            },
            "colorscale": [
             [
              0,
              "#0d0887"
             ],
             [
              0.1111111111111111,
              "#46039f"
             ],
             [
              0.2222222222222222,
              "#7201a8"
             ],
             [
              0.3333333333333333,
              "#9c179e"
             ],
             [
              0.4444444444444444,
              "#bd3786"
             ],
             [
              0.5555555555555556,
              "#d8576b"
             ],
             [
              0.6666666666666666,
              "#ed7953"
             ],
             [
              0.7777777777777778,
              "#fb9f3a"
             ],
             [
              0.8888888888888888,
              "#fdca26"
             ],
             [
              1,
              "#f0f921"
             ]
            ],
            "type": "surface"
           }
          ],
          "table": [
           {
            "cells": {
             "fill": {
              "color": "#EBF0F8"
             },
             "line": {
              "color": "white"
             }
            },
            "header": {
             "fill": {
              "color": "#C8D4E3"
             },
             "line": {
              "color": "white"
             }
            },
            "type": "table"
           }
          ]
         },
         "layout": {
          "annotationdefaults": {
           "arrowcolor": "#2a3f5f",
           "arrowhead": 0,
           "arrowwidth": 1
          },
          "autotypenumbers": "strict",
          "coloraxis": {
           "colorbar": {
            "outlinewidth": 0,
            "ticks": ""
           }
          },
          "colorscale": {
           "diverging": [
            [
             0,
             "#8e0152"
            ],
            [
             0.1,
             "#c51b7d"
            ],
            [
             0.2,
             "#de77ae"
            ],
            [
             0.3,
             "#f1b6da"
            ],
            [
             0.4,
             "#fde0ef"
            ],
            [
             0.5,
             "#f7f7f7"
            ],
            [
             0.6,
             "#e6f5d0"
            ],
            [
             0.7,
             "#b8e186"
            ],
            [
             0.8,
             "#7fbc41"
            ],
            [
             0.9,
             "#4d9221"
            ],
            [
             1,
             "#276419"
            ]
           ],
           "sequential": [
            [
             0,
             "#0d0887"
            ],
            [
             0.1111111111111111,
             "#46039f"
            ],
            [
             0.2222222222222222,
             "#7201a8"
            ],
            [
             0.3333333333333333,
             "#9c179e"
            ],
            [
             0.4444444444444444,
             "#bd3786"
            ],
            [
             0.5555555555555556,
             "#d8576b"
            ],
            [
             0.6666666666666666,
             "#ed7953"
            ],
            [
             0.7777777777777778,
             "#fb9f3a"
            ],
            [
             0.8888888888888888,
             "#fdca26"
            ],
            [
             1,
             "#f0f921"
            ]
           ],
           "sequentialminus": [
            [
             0,
             "#0d0887"
            ],
            [
             0.1111111111111111,
             "#46039f"
            ],
            [
             0.2222222222222222,
             "#7201a8"
            ],
            [
             0.3333333333333333,
             "#9c179e"
            ],
            [
             0.4444444444444444,
             "#bd3786"
            ],
            [
             0.5555555555555556,
             "#d8576b"
            ],
            [
             0.6666666666666666,
             "#ed7953"
            ],
            [
             0.7777777777777778,
             "#fb9f3a"
            ],
            [
             0.8888888888888888,
             "#fdca26"
            ],
            [
             1,
             "#f0f921"
            ]
           ]
          },
          "colorway": [
           "#636efa",
           "#EF553B",
           "#00cc96",
           "#ab63fa",
           "#FFA15A",
           "#19d3f3",
           "#FF6692",
           "#B6E880",
           "#FF97FF",
           "#FECB52"
          ],
          "font": {
           "color": "#2a3f5f"
          },
          "geo": {
           "bgcolor": "white",
           "lakecolor": "white",
           "landcolor": "#E5ECF6",
           "showlakes": true,
           "showland": true,
           "subunitcolor": "white"
          },
          "hoverlabel": {
           "align": "left"
          },
          "hovermode": "closest",
          "mapbox": {
           "style": "light"
          },
          "paper_bgcolor": "white",
          "plot_bgcolor": "#E5ECF6",
          "polar": {
           "angularaxis": {
            "gridcolor": "white",
            "linecolor": "white",
            "ticks": ""
           },
           "bgcolor": "#E5ECF6",
           "radialaxis": {
            "gridcolor": "white",
            "linecolor": "white",
            "ticks": ""
           }
          },
          "scene": {
           "xaxis": {
            "backgroundcolor": "#E5ECF6",
            "gridcolor": "white",
            "gridwidth": 2,
            "linecolor": "white",
            "showbackground": true,
            "ticks": "",
            "zerolinecolor": "white"
           },
           "yaxis": {
            "backgroundcolor": "#E5ECF6",
            "gridcolor": "white",
            "gridwidth": 2,
            "linecolor": "white",
            "showbackground": true,
            "ticks": "",
            "zerolinecolor": "white"
           },
           "zaxis": {
            "backgroundcolor": "#E5ECF6",
            "gridcolor": "white",
            "gridwidth": 2,
            "linecolor": "white",
            "showbackground": true,
            "ticks": "",
            "zerolinecolor": "white"
           }
          },
          "shapedefaults": {
           "line": {
            "color": "#2a3f5f"
           }
          },
          "ternary": {
           "aaxis": {
            "gridcolor": "white",
            "linecolor": "white",
            "ticks": ""
           },
           "baxis": {
            "gridcolor": "white",
            "linecolor": "white",
            "ticks": ""
           },
           "bgcolor": "#E5ECF6",
           "caxis": {
            "gridcolor": "white",
            "linecolor": "white",
            "ticks": ""
           }
          },
          "title": {
           "x": 0.05
          },
          "xaxis": {
           "automargin": true,
           "gridcolor": "white",
           "linecolor": "white",
           "ticks": "",
           "title": {
            "standoff": 15
           },
           "zerolinecolor": "white",
           "zerolinewidth": 2
          },
          "yaxis": {
           "automargin": true,
           "gridcolor": "white",
           "linecolor": "white",
           "ticks": "",
           "title": {
            "standoff": 15
           },
           "zerolinecolor": "white",
           "zerolinewidth": 2
          }
         }
        },
        "title": {
         "text": "Slice Plot"
        },
        "width": 2400,
        "xaxis": {
         "anchor": "y",
         "categoryarray": [
          true,
          false
         ],
         "categoryorder": "array",
         "domain": [
          0,
          0.103125
         ],
         "title": {
          "text": "include_htf_poi_ltf_confirmation"
         },
         "type": "category"
        },
        "xaxis2": {
         "anchor": "y2",
         "categoryarray": [
          true,
          false
         ],
         "categoryorder": "array",
         "domain": [
          0.128125,
          0.23124999999999998
         ],
         "title": {
          "text": "include_type_1_m5"
         },
         "type": "category"
        },
        "xaxis3": {
         "anchor": "y3",
         "categoryarray": [
          true,
          false
         ],
         "categoryorder": "array",
         "domain": [
          0.25625,
          0.359375
         ],
         "title": {
          "text": "include_type_2_m5"
         },
         "type": "category"
        },
        "xaxis4": {
         "anchor": "y4",
         "categoryarray": [
          true,
          false
         ],
         "categoryorder": "array",
         "domain": [
          0.38437499999999997,
          0.48749999999999993
         ],
         "title": {
          "text": "include_type_3_m5"
         },
         "type": "category"
        },
        "xaxis5": {
         "anchor": "y5",
         "categoryarray": [
          true,
          false
         ],
         "categoryorder": "array",
         "domain": [
          0.5125,
          0.615625
         ],
         "title": {
          "text": "value_htf_poi_ltf_confirmation"
         },
         "type": "category"
        },
        "xaxis6": {
         "anchor": "y6",
         "categoryarray": [
          false
         ],
         "categoryorder": "array",
         "domain": [
          0.640625,
          0.74375
         ],
         "title": {
          "text": "value_type_1_m5"
         },
         "type": "category"
        },
        "xaxis7": {
         "anchor": "y7",
         "categoryarray": [
          false,
          true
         ],
         "categoryorder": "array",
         "domain": [
          0.7687499999999999,
          0.871875
         ],
         "title": {
          "text": "value_type_2_m5"
         },
         "type": "category"
        },
        "xaxis8": {
         "anchor": "y8",
         "categoryarray": [
          false
         ],
         "categoryorder": "array",
         "domain": [
          0.896875,
          1
         ],
         "title": {
          "text": "value_type_3_m5"
         },
         "type": "category"
        },
        "yaxis": {
         "anchor": "x",
         "domain": [
          0,
          1
         ],
         "title": {
          "text": "Objective Value"
         }
        },
        "yaxis2": {
         "anchor": "x2",
         "domain": [
          0,
          1
         ],
         "matches": "y",
         "showticklabels": false
        },
        "yaxis3": {
         "anchor": "x3",
         "domain": [
          0,
          1
         ],
         "matches": "y",
         "showticklabels": false
        },
        "yaxis4": {
         "anchor": "x4",
         "domain": [
          0,
          1
         ],
         "matches": "y",
         "showticklabels": false
        },
        "yaxis5": {
         "anchor": "x5",
         "domain": [
          0,
          1
         ],
         "matches": "y",
         "showticklabels": false
        },
        "yaxis6": {
         "anchor": "x6",
         "domain": [
          0,
          1
         ],
         "matches": "y",
         "showticklabels": false
        },
        "yaxis7": {
         "anchor": "x7",
         "domain": [
          0,
          1
         ],
         "matches": "y",
         "showticklabels": false
        },
        "yaxis8": {
         "anchor": "x8",
         "domain": [
          0,
          1
         ],
         "matches": "y",
         "showticklabels": false
        }
       }
      }
     },
     "metadata": {},
     "output_type": "display_data"
    }
   ],
   "source": [
    "# visualize stuff\n",
    "import optuna\n",
    "import plotly\n",
    "from optuna.visualization import plot_optimization_history\n",
    "from optuna.visualization import plot_slice\n",
    "from optuna.visualization import plot_param_importances\n",
    "\n",
    "# disable optuna warnings\n",
    "optuna.logging.set_verbosity(optuna.logging.ERROR)\n",
    "\n",
    "plot_optimization_history(study).show()\n",
    "plot_param_importances(study).show()\n",
    "plot_slice(study).show()"
   ]
  },
  {
   "cell_type": "code",
   "execution_count": 38,
   "metadata": {},
   "outputs": [],
   "source": [
    "!rm -rf output/studies.md\n",
    "import pprint\n",
    "def markdown_report_study(study:optuna.Study, output_dir='output'):\n",
    "    SECTION_OPTUNA_STUDIES = '## Optuna Studies'\n",
    "    SECTION_BEST_TRIAL = f'### {study.study_name} - {study.best_trial.number}'\n",
    "    GENERATION_TIME = datetime.now().strftime('%Y-%m-%d %H:%M:%S')\n",
    "    \n",
    "    best_trial = study.best_trial\n",
    "    best_trial_params = best_trial.params\n",
    "    best_trial_value = best_trial.value\n",
    "    best_trial_number = best_trial.number\n",
    "    best_trial_number\n",
    "    best_trial_params\n",
    "    best_trial_value\n",
    "    # add the params as nicely formatted json inside code block\n",
    "    best_trial_params_str = f'''\n",
    "```json\n",
    "{pprint.pformat(best_trial_params)}\n",
    "```\n",
    "''' \n",
    "    \n",
    "    best_trial_str = f'''\n",
    "{SECTION_BEST_TRIAL}\n",
    "- generation time: {GENERATION_TIME}\n",
    "- best trial value: {best_trial_value}\n",
    "- best trial params: {best_trial_params_str}\n",
    "'''\n",
    "    with open(f'{output_dir}/studies.md', 'a') as f:\n",
    "        f.write(best_trial_str)\n",
    "\n",
    "    \n",
    "    # find the section or create it and add md link to the best trial in the study\n",
    "    with open(f'{output_dir}/index.md', 'r') as f:\n",
    "        lines = f.readlines()\n",
    "        found = False\n",
    "        for i, line in enumerate(lines):\n",
    "            if SECTION_OPTUNA_STUDIES in line:\n",
    "                found = True\n",
    "                break\n",
    "        if not found:\n",
    "            lines.append(f'\\n{SECTION_OPTUNA_STUDIES}\\n')\n",
    "        lines.append(f'- [[studies.md{SECTION_BEST_TRIAL}]]\\n')\n",
    "    with open(f'{output_dir}/index.md', 'w') as f:\n",
    "        f.write(''.join(lines))\n",
    "        \n",
    "\n",
    "markdown_report_study(study, output_dir='output')"
   ]
  },
  {
   "cell_type": "code",
   "execution_count": null,
   "metadata": {},
   "outputs": [],
   "source": []
  }
 ],
 "metadata": {
  "kernelspec": {
   "display_name": "base",
   "language": "python",
   "name": "python3"
  },
  "language_info": {
   "codemirror_mode": {
    "name": "ipython",
    "version": 3
   },
   "file_extension": ".py",
   "mimetype": "text/x-python",
   "name": "python",
   "nbconvert_exporter": "python",
   "pygments_lexer": "ipython3",
   "version": "3.12.2"
  }
 },
 "nbformat": 4,
 "nbformat_minor": 2
}
